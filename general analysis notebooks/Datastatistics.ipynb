{
  "cells": [
    {
      "cell_type": "code",
      "execution_count": null,
      "metadata": {
        "colab": {
          "background_save": true,
          "base_uri": "https://localhost:8080/"
        },
        "id": "LVQv-VbSu4pl",
        "outputId": "f51b87d7-45c8-4db5-9adf-16a5bb0edbcb"
      },
      "outputs": [
        {
          "name": "stdout",
          "output_type": "stream",
          "text": [
            "Collecting SPARQLWrapper\n",
            "  Downloading SPARQLWrapper-2.0.0-py3-none-any.whl (28 kB)\n",
            "Collecting rdflib>=6.1.1\n",
            "  Downloading rdflib-6.1.1-py3-none-any.whl (482 kB)\n",
            "\u001b[K     |████████████████████████████████| 482 kB 7.6 MB/s \n",
            "\u001b[?25hCollecting isodate\n",
            "  Downloading isodate-0.6.1-py2.py3-none-any.whl (41 kB)\n",
            "\u001b[K     |████████████████████████████████| 41 kB 513 kB/s \n",
            "\u001b[?25hRequirement already satisfied: importlib-metadata in /usr/local/lib/python3.7/dist-packages (from rdflib>=6.1.1->SPARQLWrapper) (4.11.3)\n",
            "Requirement already satisfied: pyparsing in /usr/local/lib/python3.7/dist-packages (from rdflib>=6.1.1->SPARQLWrapper) (3.0.8)\n",
            "Requirement already satisfied: setuptools in /usr/local/lib/python3.7/dist-packages (from rdflib>=6.1.1->SPARQLWrapper) (57.4.0)\n",
            "Requirement already satisfied: typing-extensions>=3.6.4 in /usr/local/lib/python3.7/dist-packages (from importlib-metadata->rdflib>=6.1.1->SPARQLWrapper) (4.2.0)\n",
            "Requirement already satisfied: zipp>=0.5 in /usr/local/lib/python3.7/dist-packages (from importlib-metadata->rdflib>=6.1.1->SPARQLWrapper) (3.8.0)\n",
            "Requirement already satisfied: six in /usr/local/lib/python3.7/dist-packages (from isodate->rdflib>=6.1.1->SPARQLWrapper) (1.15.0)\n",
            "Installing collected packages: isodate, rdflib, SPARQLWrapper\n",
            "Successfully installed SPARQLWrapper-2.0.0 isodate-0.6.1 rdflib-6.1.1\n"
          ]
        }
      ],
      "source": [
        "!pip install SPARQLWrapper\n",
        "\n",
        "from SPARQLWrapper import SPARQLWrapper, JSON\n",
        "import ssl"
      ]
    },
    {
      "cell_type": "code",
      "execution_count": 3,
      "metadata": {
        "id": "gDolnE3mu99u"
      },
      "outputs": [],
      "source": [
        "def sparl_query_setting(query, endpoint):# set the endpoint \n",
        "  sparql = SPARQLWrapper(endpoint)\n",
        "  # set the query\n",
        "  sparql.setQuery(query)\n",
        "  # set the returned format\n",
        "  sparql.setReturnFormat(JSON)\n",
        "  # get the results\n",
        "  results = sparql.query().convert()\n",
        "  return results"
      ]
    },
    {
      "cell_type": "code",
      "execution_count": 4,
      "metadata": {
        "id": "KIl-dGiPvID9"
      },
      "outputs": [],
      "source": [
        "finland = \"http://ldf.fi/mufi/sparql\"\n",
        "cervantes = \"http://data.cervantesvirtual.com/sparql\"\n",
        "es_cultura= \"https://datos.bne.es/sparql\"\n",
        "nl_spain = \"http://cultura.linkeddata.es/sparql\"\n",
        "nd_hungary = \"https://lod.sztaki.hu/sparql\"\n",
        "smithsonian = \"https://api.triplydb.com/datasets/smithsonian/american-art-museum/services/american-art-museum/sparql\"\n",
        "american_lod = \"https://data.americanartcollaborative.org/sparql\"\n",
        "dbpedia = \"https://dbpedia.org/sparql\"\n",
        "yago = \"https://yago-knowledge.org/sparql/query\"\n",
        "sari_endpoint= \"https://rds.swissartresearch.net/sparql\"\n",
        "arco_endpoint = \"https://dati.beniculturali.it/sparql\"\n",
        "wd_endpoint = \"https://query.wikidata.org/bigdata/namespace/wdq/sparql\"\n",
        "zeri_endpoint = \"http://data.fondazionezeri.unibo.it/sparql\"\n",
        "mmm_endpoint = \"http://ldf.fi/mmm/sparql\"\n",
        "nomisma_endpoint = \"http://nomisma.org/query\"\n",
        "b3k_endpoint = \"http://lod.b3kat.de/doc/sparql-endpoint\"\n",
        "bnf_endpoint = \"https://data.bnf.fr/sparql\"\n",
        "euro = \"http://sparql.europeana.eu/\"\n",
        "\n",
        "all_portals = [finland, cervantes, es_cultura, nl_spain, nd_hungary, smithsonian, american_lod, dbpedia, yago, sari_endpoint, arco_endpoint, wd_endpoint, zeri_endpoint, mmm_endpoint, nomisma_endpoint, b3k_endpoint, bnf_endpoint]"
      ]
    },
    {
      "cell_type": "code",
      "execution_count": null,
      "metadata": {
        "id": "OmV_igOGv_Fk"
      },
      "outputs": [],
      "source": [
        "all_t_query = '''\n",
        "SELECT (COUNT(*) as ?Triples) \n",
        "WHERE \n",
        "      { ?s ?p ?o } \n",
        "'''"
      ]
    },
    {
      "cell_type": "code",
      "execution_count": null,
      "metadata": {
        "colab": {
          "base_uri": "https://localhost:8080/"
        },
        "id": "8elPwEeEwFjf",
        "outputId": "148e7285-1181-46c4-de6c-d46212d229ca"
      },
      "outputs": [
        {
          "name": "stdout",
          "output_type": "stream",
          "text": [
            "http://ldf.fi/mufi/sparql\n",
            "{'head': {'vars': ['Triples']}, 'results': {'bindings': [{'Triples': {'type': 'literal', 'datatype': 'http://www.w3.org/2001/XMLSchema#integer', 'value': '210986'}}]}}\n",
            "http://data.cervantesvirtual.com/sparql\n"
          ]
        },
        {
          "name": "stderr",
          "output_type": "stream",
          "text": [
            "/usr/local/lib/python3.7/dist-packages/SPARQLWrapper/Wrapper.py:1346: RuntimeWarning: unknown response content type 'text/html;charset=UTF-8' returning raw response...\n",
            "  warnings.warn(\"unknown response content type '%s' returning raw response...\" %(ct), RuntimeWarning)\n"
          ]
        },
        {
          "name": "stdout",
          "output_type": "stream",
          "text": [
            "b'\\n<head>\\n    <title>Punto de acceso SPARQL - Datos Enlazados en la Biblioteca Virtual Miguel de Cervantes - BVMC.Labs</title>\\n    \\n    <meta content=\"text/html; charset=UTF-8\" http-equiv=\"Content-Type\"/>\\n    <meta name=\"viewport\" content=\"width=device-width, initial-scale=1.0\">\\n    <meta name=\"description\" content=\"Consulta el cat\\xc3\\xa1logo con el lenguaje de b\\xc3\\xbasqueda SPARQL\" />\\n    <meta name=\"google-site-verification\" content=\"NvsQ9x7EoCrV7AdvVzUPaxQkclNrCj9AzITgxp-qWYk\" />\\n\\n    <meta name=\"twitter:card\" content=\"summary\"/>\\n    <!-- MICROFORMATOS -->\\n    <meta name=\"twitter:site\" content=\"@FBVMC\"/>\\n    <meta property=\"og:title\" content=\"Punto de acceso SPARQL - Datos Enlazados en la Biblioteca Virtual Miguel de Cervantes - BVMC.Labs\" />\\n    <meta property=\"og:type\" content=\"website\" />\\n    <meta property=\"og:url\" content=\"https://data.cervantesvirtual.com/sparql\"/>\\n    \\n    \\n    <meta property=\"og:image\" content=\"https://data.cervantesvirtual.com/images/consultas-sparql.png\" />\\n    <meta property=\"og:description\" content=\"Consulta el cat\\xc3\\xa1logo con el lenguaje de b\\xc3\\xbasqueda SPARQL\" />\\n    <meta property=\"og:site_name\" content=\"Laboratorio de la Biblioteca Virtual Miguel de Cervantes\"/>\\n\\n    <!--MICROFORMATOS -->\\n    <script type=\"application/ld+json\">\\n        {\\n            \"@context\" : \"http://schema.org\",\\n            \"@type\": \"WebPage\",\\n            \"name\": \"Punto de acceso SPARQL - Datos Enlazados en la Biblioteca Virtual Miguel de Cervantes\",\\n            \"headline\": \"Punto de acceso SPARQL - Datos Enlazados en la Biblioteca Virtual Miguel de Cervantes\",\\n            \"url\":\"https://data.cervantesvirtual.com/sparql\",\\n            \"image\": \"https://data.cervantesvirtual.com/images/consultas-sparql.png\",\\n            \"description\": \"Consulta el cat\\xc3\\xa1logo con el lenguaje de b\\xc3\\xbasqueda SPARQL\",\\n            \"mainEntityOfPage\": {\\n                \"@type\": \"WebPage\",\\n                \"@id\": \"https://data.cervantesvirtual.com\",\\n                \"name\": \"BVMC.Labs - Laboratorio de la Biblioteca Virtual Miguel de Cervantes\",\\n                \"description\": \"BVMC Labs proporciona acceso a herramientas experimentales basadas en las colecciones de la Biblioteca Virtual Miguel de Cervantes para promover el uso de las nuevas tecnolog\\xc3\\xadas y las Humanidades Digitales, adapt\\xc3\\xa1ndose a los diferentes perfiles del investigador.\"\\n            },\\n            \"publisher\": {\\n                \"@type\":\"Organization\",\\n                \"url\": \"http://www.cervantesvirtual.com\",\\n                \"name\":\"Biblioteca Virtual Miguel de Cervantes\",\\n                \"description\": \"La Biblioteca Virtual Miguel de Cervantes, la primera en lengua castellana, es un fondo bibliogr\\xc3\\xa1fico con obras de Literatura, Historia, Ciencias, etc., de libre acceso. Incluye trabajos de investigaci\\xc3\\xb3n, cat\\xc3\\xa1logo en otras lenguas y bibliotecas del mundo\",\\n                \"logo\": {\\n                    \"@type\": \"ImageObject\",\\n                    \"url\":\"http://www.cervantesvirtual.com/includes/css_responsive/img/logoCervantes.png\",\\n                    \"width\":296,\\n                    \"height\":117\\n                }\\n            }\\n        }\\n    </script>\\n\\n    <link href=\"https://cdn.jsdelivr.net/npm/bootstrap@5.1.1/dist/css/bootstrap.min.css\" rel=\"stylesheet\" integrity=\"sha384-F3w7mX95PdgyTmZZMECAngseQB83DfGTowi0iMjiWaeVhAn4FJkqJByhZMI3AhiU\" crossorigin=\"anonymous\">\\n\\n    <link href=\"/components/fontawesome-free-5.0.13/css/fontawesome-all.min.css\" rel=\"stylesheet\" media=\"screen\"/>\\n    <link rel=\"stylesheet\" href=\"/css/labs.css\"/>\\n    <link rel=\"stylesheet\" href=\"/css/d3.css\"/>\\n    <link rel=\"stylesheet\" href=\"https://cdnjs.cloudflare.com/ajax/libs/bootstrap-slider/11.0.2/css/bootstrap-slider.min.css\"/>\\n\\n    <script src=\"https://code.jquery.com/jquery-1.12.4.min.js\"></script>\\n    <!--<script src=\"https://cdn.jsdelivr.net/npm/@popperjs/core@2.9.2/dist/umd/popper.min.js\" integrity=\"sha384-W8fXfP3gkOKtndU4JGtKDvXbO53Wy8SZCQHczT5FMiiqmQfUpWbYdTil/SxwZgAN\" crossorigin=\"anonymous\"></script>-->\\n    <script src=\"https://cdn.jsdelivr.net/npm/bootstrap@5.1.1/dist/js/bootstrap.min.js\" integrity=\"sha384-skAcpIdS7UcVUC05LJ9Dxay8AXcDYfBJqt1CJ85S/CFujBsIzCIv+l9liuYLaMQ/\" crossorigin=\"anonymous\"></script>\\n    <script src=\"https://cdn.jsdelivr.net/npm/bootstrap@5.1.1/dist/js/bootstrap.bundle.min.js\" integrity=\"sha384-/bQdsTh/da6pkI1MST/rWKFNjaCP5gBSY4sEBT38Q/9RBh9AH40zEOg7Hlq2THRZ\" crossorigin=\"anonymous\"></script>\\n\\n    <script src=\"https://ajax.googleapis.com/ajax/libs/jquery/3.5.1/jquery.min.js\"></script>\\n    <script src=\"https://cdnjs.cloudflare.com/ajax/libs/bootstrap-slider/11.0.2/bootstrap-slider.min.js\"></script>\\n    <script src=\"/js/funciones.js\"></script>\\n\\n</head>\\n<link href=\"https://unpkg.com/@triply/yasgui/build/yasgui.min.css\" rel=\"stylesheet\" type=\"text/css\" />\\n<script src=\"https://unpkg.com/@triply/yasgui/build/yasgui.min.js\"></script>\\n\\n<style>\\n    .yasgui .autocompleteWrapper {\\n        display: none !important;\\n    }\\n</style>\\n\\n<body>\\n<header id=\"header-labs\">\\n        <nav class=\"navbar navbar-expand-lg navbar-light bg-light\" role=\"navigation\">\\n            <div class=\"container-fluid\">\\n                <h1 class=\"navbar-brand logo-cv\"><a href=\"/\"><abbr title=\"Laboratorio de herramientas de la Biblioteca Virtual Miguel de Cervantes\">BVMC.Labs</abbr><small><em>Descubre los \\xc3\\xbaltimos desarrollos de la BVMC</em></small></a></h1>\\n                <button class=\"navbar-toggler\" type=\"button\" data-bs-toggle=\"collapse\" data-bs-target=\"#navbarNavDropdown\" aria-controls=\"navbarNavDropdown\" aria-expanded=\"false\" aria-label=\"Toggle navigation\">\\n                    <span class=\"navbar-toggler-icon\"></span>\\n                </button>\\n                <div class=\"collapse navbar-collapse\" id=\"navbarNavDropdown\">\\n                    <ul class=\"navbar-nav justify-content-end\">\\n                        <li class=\"nav-item\">\\n                            <a class=\"nav-link active\" href=\"/datos-enlazados\">Datos enlazados</a>\\n                        </li>\\n                        <li class=\"nav-item\">\\n                            <a class=\"nav-link\" href=\"/novedades\">Novedades</a>\\n                        </li>\\n                        <li class=\"nav-item\">\\n                            <a class=\"nav-link\" href=\"/herramientas\">Herramientas</a>\\n                        </li>\\n                        <li class=\"nav-item\">\\n                            <a class=\"nav-link\" href=\"/notebooks\">Notebooks</a>\\n                        </li>\\n                        <li class=\"nav-item\">\\n                            <a class=\"nav-link\" href=\"/publicaciones\">Publicaciones</a>\\n                        </li>\\n                    </ul>\\n                </div>\\n            </div>\\n        </nav>\\n    </header>\\n<main class=\"container-fluid\" id=\"main-labs\">\\n    <div class=\"container overflow-hidden\">\\n        <nav >\\n        <ol class=\"breadcrumb\" itemscope=\"\" itemtype=\"http://schema.org/BreadcrumbList\">\\n            <li itemprop=\"itemListElement\" itemscope=\"\" itemtype=\"http://schema.org/ListItem\" class=\"breadcrumb-item\">\\n                <a itemprop=\"item\" href=\"/\">\\n                    <span itemprop=\"name\">Inicio</span>\\n                </a>\\n                \\n                <meta itemprop=\"position\" content=\"1\">\\n            </li>\\n            <li itemprop=\"itemListElement\" itemscope=\"\" itemtype=\"http://schema.org/ListItem\" class=\"breadcrumb-item\">\\n                <a itemprop=\"item\" href=\"/datos-enlazados\">\\n                    <span itemprop=\"name\">Datos enlazados</span>\\n                </a>\\n                \\n                <meta itemprop=\"position\" content=\"2\">\\n            </li>\\n            <li itemprop=\"itemListElement\" itemscope=\"\" itemtype=\"http://schema.org/ListItem\" class=\"breadcrumb-item\">\\n                \\n                <span itemprop=\"name\">Punto de acceso SPARQL</span>\\n                <meta itemprop=\"position\" content=\"3\">\\n            </li>\\n        </ol>\\n        </nav>\\n        <h2>Punto de acceso SPARQL</h2>\\n        <p><a href=\"/help\" class=\"btn btn-primary float-end\"><span class=\"fas fa-info-circle fs-5\"></span> Ejemplos de consultas</a></p>\\n        <div id=\"yasgui\"></div>\\n        <script>\\n           const yasgui = new Yasgui(document.getElementById(\"yasgui\"), {\\n                requestConfig: { endpoint: \"https://data.cervantesvirtual.com/bvmc-lod/repositories/data\" },\\n                copyEndpointOnNewTab: false,\\n            });\\n        </script>\\n    </div>\\n</main>\\n<footer id=\"footer-labs\">\\n    <div class=\"row row-cols-sm-2 row-cols-md-3 justify-content-center footer-links g-0\">\\n        <div class=\"col-sm-9 col-md-4 col-lg-3 col-xl-2\">\\n            <h2>Datos enlazados</h2>\\n            <ul class=\"reset-lista\">\\n                <li><a href=\"/search-form\">Acceso al cat\\xc3\\xa1logo</a></li>\\n                <li><a href=\"/sparql\">Punto de acceso SPARQL</a></li>\\n                <li><a href=\"/help\">Ejemplos de consultas SPARQL</a></li>\\n            </ul>\\n        </div>\\n        <div class=\"col-sm-9 col-md-4 col-lg-2\"><h2>Ayuda</h2>\\n            <ul class=\"reset-lista\">\\n                <li><a href=\"/condiciones-de-uso/\">Condiciones de uso</a></li>\\n                <li><a href=\"http://www.cervantesvirtual.com/marco-legal/\">Marco legal</a></li>\\n                <li><a href=\"http://www.cervantesvirtual.com/bibliotecario/\">Contacto</a></li>\\n                <li><a href=\"http://www.cervantesvirtual.com/cookies/\">Pol\\xc3\\xadtica de <em>cookies</em></a></li>\\n            </ul>\\n        </div>\\n        <div class=\"col-sm-9 col-md-4 col-lg-2\">\\n            <h2>Mapa del sitio</h2>\\n            <ul class=\"reset-lista\">\\n                <li><a href=\"/datos-enlazados\">Datos enlazados</a></li>\\n                <li><a href=\"/novedades\">Novedades</a></li>\\n                <li><a href=\"/herramientas\">Herramientas</a></li>\\n                <li><a href=\"/notebooks\">Notebooks</a></li>\\n            </ul>\\n        </div>\\n    </div>\\n    <p class=\"footer-copy text-center\"><span class=\"logo-cv\"></span> Copyright \\xc2\\xa9 <script>document.write(new Date().getFullYear())</script> BVMC.Labs. </p>\\n    <script>\\n        (function(i,s,o,g,r,a,m){i[\\'GoogleAnalyticsObject\\']=r;i[r]=i[r]||function(){\\n            (i[r].q=i[r].q||[]).push(arguments)},i[r].l=1*new Date();a=s.createElement(o),\\n            m=s.getElementsByTagName(o)[0];a.async=1;a.src=g;m.parentNode.insertBefore(a,m)\\n        })(window,document,\\'script\\',\\'https://www.google-analytics.com/analytics.js\\',\\'ga\\');\\n\\n        ga(\\'create\\', \\'UA-16084725-1\\', \\'auto\\', {legacyCookieDomain: \\'.cervantesvirtual.com\\', allowLinker: true});\\n        ga(\\'require\\', \\'linker\\');\\n        ga(\\'linker:autoLink\\', [\\'cervantesvirtual.com\\', \\'letrasmexicanas.mx\\', \\'letrasgalegas.org\\', \\'letrasdehonduras.com\\', \\'catedravargasllosa.com\\'] );\\n\\n        ga(\\'set\\', \\'dimension1\\', \\'\\');\\n        ga(\\'set\\', \\'dimension2\\', \"\");\\n        ga(\\'set\\', \\'dimension3\\', \"\");\\n        ga(\\'set\\', \\'dimension4\\', \"\");\\n        ga(\\'set\\', \\'dimension5\\', \\'\\');\\n        ga(\\'set\\', \\'dimension6\\', \"\");\\n        ga(\\'set\\', \\'dimension7\\', \\'\\');\\n        ga(\\'set\\', \\'dimension8\\', \"\");\\n        ga(\\'set\\', \\'dimension9\\', \\'\\');\\n        ga(\\'set\\', \\'dimension10\\', \"\");\\n        ga(\\'set\\', \\'dimension11\\', \\'\\');\\n        ga(\\'set\\', \\'dimension12\\', \\'\\');\\n        ga(\\'set\\', \\'dimension13\\', \\'\\');\\n        ga(\\'set\\', \\'dimension14\\', \\'\\');\\n\\n        ga(\\'send\\', \\'pageview\\');\\n    </script>\\n</footer>\\n</body>'\n",
            "https://datos.bne.es/sparql\n",
            "Not Working\n",
            "http://cultura.linkeddata.es/sparql\n",
            "Not Working\n",
            "https://lod.sztaki.hu/sparql\n",
            "{'head': {'link': [], 'vars': ['Triples']}, 'results': {'distinct': False, 'ordered': True, 'bindings': [{'Triples': {'type': 'typed-literal', 'datatype': 'http://www.w3.org/2001/XMLSchema#integer', 'value': '48400623'}}]}}\n",
            "https://triplydb.com/smithsonian/american-art-museum/sparql/american-art-museum\n",
            "{'head': {'link': [], 'vars': ['Triples']}, 'results': {'distinct': False, 'ordered': True, 'bindings': [{'Triples': {'type': 'typed-literal', 'datatype': 'http://www.w3.org/2001/XMLSchema#integer', 'value': '2802768'}}]}}\n",
            "https://data.americanartcollaborative.org/sparql\n",
            "Not Working\n",
            "https://dbpedia.org/sparql\n",
            "{'head': {'link': [], 'vars': ['Triples']}, 'results': {'distinct': False, 'ordered': True, 'bindings': [{'Triples': {'type': 'typed-literal', 'datatype': 'http://www.w3.org/2001/XMLSchema#integer', 'value': '1094734399'}}]}}\n",
            "https://yago-knowledge.org/sparql/query\n",
            "{'head': {'vars': ['Triples']}, 'results': {'bindings': [{'Triples': {'datatype': 'http://www.w3.org/2001/XMLSchema#integer', 'type': 'literal', 'value': '477874794'}}]}}\n"
          ]
        }
      ],
      "source": [
        "for portal in all_portals:\n",
        "  print(portal)\n",
        "  try:\n",
        "    resu = sparl_query_setting(all_t_query, portal)\n",
        "    print(resu)\n",
        "  except:\n",
        "    print(\"Not Working\")"
      ]
    },
    {
      "cell_type": "code",
      "execution_count": null,
      "metadata": {
        "colab": {
          "base_uri": "https://localhost:8080/"
        },
        "id": "IJiXAvWoV2aM",
        "outputId": "ddea1fc1-3039-4d22-a121-c8be16b14f9c"
      },
      "outputs": [
        {
          "name": "stdout",
          "output_type": "stream",
          "text": [
            "http://ldf.fi/mufi/sparql\n",
            "{'head': {'vars': ['Triples']}, 'results': {'bindings': [{'Triples': {'type': 'literal', 'datatype': 'http://www.w3.org/2001/XMLSchema#integer', 'value': '210986'}}]}}\n",
            "http://data.cervantesvirtual.com/sparql\n",
            "{'head': {'link': [], 'vars': ['Triples']}, 'results': {'distinct': False, 'ordered': True, 'bindings': [{'Triples': {'type': 'typed-literal', 'datatype': 'http://www.w3.org/2001/XMLSchema#integer', 'value': '17336340'}}]}}\n",
            "https://datos.bne.es/sparql\n",
            "{'head': {'link': [], 'vars': ['Triples']}, 'results': {'distinct': False, 'ordered': True, 'bindings': [{'Triples': {'type': 'typed-literal', 'datatype': 'http://www.w3.org/2001/XMLSchema#integer', 'value': '194848546'}}]}}\n",
            "http://cultura.linkeddata.es/sparql\n",
            "{'head': {'link': [], 'vars': ['Triples']}, 'results': {'distinct': False, 'ordered': True, 'bindings': [{'Triples': {'type': 'typed-literal', 'datatype': 'http://www.w3.org/2001/XMLSchema#integer', 'value': '867535'}}]}}\n",
            "https://lod.sztaki.hu/sparql\n",
            "Not Working\n",
            "https://api.triplydb.com/datasets/smithsonian/american-art-museum/services/american-art-museum/sparql\n",
            "{'head': {'link': [], 'vars': ['Triples']}, 'results': {'bindings': [{'Triples': {'type': 'literal', 'value': '2802768', 'datatype': 'http://www.w3.org/2001/XMLSchema#integer'}}]}}\n",
            "https://data.americanartcollaborative.org/sparql\n",
            "Not Working\n",
            "https://dbpedia.org/sparql\n",
            "{'head': {'link': [], 'vars': ['Triples']}, 'results': {'distinct': False, 'ordered': True, 'bindings': [{'Triples': {'type': 'typed-literal', 'datatype': 'http://www.w3.org/2001/XMLSchema#integer', 'value': '1095738296'}}]}}\n",
            "https://yago-knowledge.org/sparql/query\n",
            "{'head': {'vars': ['Triples']}, 'results': {'bindings': [{'Triples': {'datatype': 'http://www.w3.org/2001/XMLSchema#integer', 'type': 'literal', 'value': '477874794'}}]}}\n",
            "https://rds.swissartresearch.net/sparql\n",
            "{'head': {'vars': ['Triples']}, 'results': {'bindings': [{'Triples': {'datatype': 'http://www.w3.org/2001/XMLSchema#integer', 'type': 'literal', 'value': '516643278'}}]}}\n",
            "https://dati.beniculturali.it/sparql\n",
            "{'head': {'link': [], 'vars': ['Triples']}, 'results': {'distinct': False, 'ordered': True, 'bindings': [{'Triples': {'type': 'typed-literal', 'datatype': 'http://www.w3.org/2001/XMLSchema#integer', 'value': '754328856'}}]}}\n",
            "https://query.wikidata.org/bigdata/namespace/wdq/sparql\n",
            "{'head': {'vars': ['Triples']}, 'results': {'bindings': [{'Triples': {'datatype': 'http://www.w3.org/2001/XMLSchema#integer', 'type': 'literal', 'value': '13800235410'}}]}}\n",
            "http://data.fondazionezeri.unibo.it/sparql\n",
            "{'head': {'vars': ['Triples']}, 'results': {'bindings': [{'Triples': {'datatype': 'http://www.w3.org/2001/XMLSchema#integer', 'type': 'typed-literal', 'value': '11827416'}}]}}\n",
            "http://ldf.fi/mmm/sparql\n",
            "{'head': {'vars': ['Triples']}, 'results': {'bindings': [{'Triples': {'type': 'literal', 'datatype': 'http://www.w3.org/2001/XMLSchema#integer', 'value': '24009834'}}]}}\n",
            "http://nomisma.org/query\n",
            "{'head': {'vars': ['Triples']}, 'results': {'bindings': [{'Triples': {'type': 'literal', 'datatype': 'http://www.w3.org/2001/XMLSchema#integer', 'value': '9899274'}}]}}\n"
          ]
        }
      ],
      "source": [
        "# new iteration with Sofia's portals\n",
        "for portal in all_portals:\n",
        "  print(portal)\n",
        "  try:\n",
        "    resu = sparl_query_setting(all_t_query, portal)\n",
        "    print(resu)\n",
        "  except:\n",
        "    print(\"Not Working\")"
      ]
    },
    {
      "cell_type": "code",
      "execution_count": null,
      "metadata": {
        "colab": {
          "base_uri": "https://localhost:8080/"
        },
        "id": "YFOLgluKwRKw",
        "outputId": "f68bd0c8-b2ac-4621-803f-69355bfbdb50"
      },
      "outputs": [
        {
          "name": "stdout",
          "output_type": "stream",
          "text": [
            "{'head': {'vars': ['Triples']}, 'results': {'bindings': [{'Triples': {'type': 'literal', 'datatype': 'http://www.w3.org/2001/XMLSchema#integer', 'value': '210986'}}]}}\n"
          ]
        }
      ],
      "source": [
        "single = \"http://ldf.fi/mufi/sparql\"\n",
        "resu = sparl_query_setting(all_t_query, single)\n",
        "print(resu)"
      ]
    },
    {
      "cell_type": "markdown",
      "metadata": {
        "id": "cbP3SQlBbUZN"
      },
      "source": [
        "# ND HUNGARY\n",
        "\n",
        "Faceted browser: https://lod.sztaki.hu/fct/\n",
        "\n",
        "SPARQL: https://lod.sztaki.hu/sparql"
      ]
    },
    {
      "cell_type": "markdown",
      "metadata": {
        "id": "jI5d8fFKbqB8"
      },
      "source": [
        "## Classes defining artworks"
      ]
    },
    {
      "cell_type": "markdown",
      "metadata": {
        "id": "DhR2moJpcVmo"
      },
      "source": [
        "dcmitype:Image was chosen after analyzing the faceted browser of the archive"
      ]
    },
    {
      "cell_type": "markdown",
      "metadata": {
        "id": "VkkEfcNucclL"
      },
      "source": [
        "## How many artworks"
      ]
    },
    {
      "cell_type": "code",
      "execution_count": null,
      "metadata": {
        "colab": {
          "base_uri": "https://localhost:8080/"
        },
        "id": "sd5R0IdCckwk",
        "outputId": "98761e1a-2fc9-4282-aac2-f1afd338fd7c"
      },
      "outputs": [
        {
          "name": "stdout",
          "output_type": "stream",
          "text": [
            "11655\n"
          ]
        }
      ],
      "source": [
        "q = '''SELECT COUNT(distinct ?URI) as ?tot WHERE {\n",
        "?URI <http://purl.org/dc/terms/type> dcmitype:Image\n",
        "}'''\n",
        "\n",
        "res = sparl_query_setting(q, nd_hungary)\n",
        "for el in res[\"results\"][\"bindings\"]:\n",
        "  print(el[\"tot\"][\"value\"])\n",
        "  num1 =el[\"tot\"][\"value\"]"
      ]
    },
    {
      "cell_type": "markdown",
      "metadata": {
        "id": "MpaQRbk0km2Z"
      },
      "source": [
        "## How many artwork triples"
      ]
    },
    {
      "cell_type": "code",
      "execution_count": null,
      "metadata": {
        "colab": {
          "base_uri": "https://localhost:8080/"
        },
        "id": "NgRnfa-2bw35",
        "outputId": "3cb12cca-8aa9-40af-f1ba-844a6535c345"
      },
      "outputs": [
        {
          "name": "stdout",
          "output_type": "stream",
          "text": [
            "260154\n"
          ]
        }
      ],
      "source": [
        "q = '''SELECT COUNT(?trip) as ?tot WHERE {\n",
        "?URI <http://purl.org/dc/terms/type> dcmitype:Image;\n",
        "?trip ?trip2 }'''\n",
        "\n",
        "res = sparl_query_setting(q, nd_hungary)\n",
        "for el in res[\"results\"][\"bindings\"]:\n",
        "  print(el[\"tot\"][\"value\"])\n",
        "  num2 = el[\"tot\"][\"value\"]"
      ]
    },
    {
      "cell_type": "code",
      "execution_count": null,
      "metadata": {
        "colab": {
          "base_uri": "https://localhost:8080/"
        },
        "id": "fwRurdoYcIPL",
        "outputId": "9a95da5f-3364-4edc-8976-fc51579be061"
      },
      "outputs": [
        {
          "data": {
            "text/plain": [
              "22.321235521235522"
            ]
          },
          "execution_count": 12,
          "metadata": {},
          "output_type": "execute_result"
        }
      ],
      "source": [
        ""
      ]
    },
    {
      "cell_type": "markdown",
      "metadata": {
        "id": "IYKMbCOZdTGT"
      },
      "source": [
        "## AVG Relations per artwork"
      ]
    },
    {
      "cell_type": "code",
      "execution_count": null,
      "metadata": {
        "colab": {
          "base_uri": "https://localhost:8080/"
        },
        "id": "UWG_17IMdVBj",
        "outputId": "f4396f21-4f09-4384-db8a-14205d72484c"
      },
      "outputs": [
        {
          "data": {
            "text/plain": [
              "22.321235521235522"
            ]
          },
          "execution_count": 17,
          "metadata": {},
          "output_type": "execute_result"
        }
      ],
      "source": [
        "int(num2)/int(num1)"
      ]
    },
    {
      "cell_type": "code",
      "execution_count": null,
      "metadata": {
        "id": "il-QGdRugFfJ"
      },
      "outputs": [],
      "source": [
        ""
      ]
    },
    {
      "cell_type": "markdown",
      "metadata": {
        "id": "_E-17dARkZTA"
      },
      "source": [
        "## Number of Artworks that have a subject (literal)"
      ]
    },
    {
      "cell_type": "code",
      "execution_count": null,
      "metadata": {
        "colab": {
          "base_uri": "https://localhost:8080/"
        },
        "id": "hH3S3YInkf5g",
        "outputId": "d15b4e82-d9e4-494b-e383-de32f81a5ff0"
      },
      "outputs": [
        {
          "name": "stdout",
          "output_type": "stream",
          "text": [
            "6523\n"
          ]
        }
      ],
      "source": [
        "q = '''SELECT COUNT(distinct ?URI) as ?tot WHERE {\n",
        "?URI <http://purl.org/dc/terms/type> dcmitype:Image;\n",
        "dcterms:subject ?sub }'''\n",
        "\n",
        "res = sparl_query_setting(q, nd_hungary)\n",
        "for el in res[\"results\"][\"bindings\"]:\n",
        "  print(el[\"tot\"][\"value\"])\n",
        "  num3 = el[\"tot\"][\"value\"]"
      ]
    },
    {
      "cell_type": "code",
      "execution_count": null,
      "metadata": {
        "id": "ZMBzBHDZklQO"
      },
      "outputs": [],
      "source": [
        ""
      ]
    },
    {
      "cell_type": "markdown",
      "metadata": {
        "id": "k5L5Sb25k29A"
      },
      "source": [
        "## Average number of Subjects per Artworks (literal)"
      ]
    },
    {
      "cell_type": "code",
      "execution_count": null,
      "metadata": {
        "colab": {
          "base_uri": "https://localhost:8080/"
        },
        "id": "NLhj6VbOk9xx",
        "outputId": "996f98d7-051d-42a8-dd77-05a8819361b9"
      },
      "outputs": [
        {
          "name": "stdout",
          "output_type": "stream",
          "text": [
            "39441\n"
          ]
        }
      ],
      "source": [
        "q = '''SELECT COUNT(?sub) as ?tot WHERE {\n",
        "?URI <http://purl.org/dc/terms/type> dcmitype:Image;\n",
        "dcterms:subject ?sub }'''\n",
        "\n",
        "res = sparl_query_setting(q, nd_hungary)\n",
        "for el in res[\"results\"][\"bindings\"]:\n",
        "  print(el[\"tot\"][\"value\"])\n",
        "  num4 = el[\"tot\"][\"value\"]"
      ]
    },
    {
      "cell_type": "code",
      "execution_count": null,
      "metadata": {
        "colab": {
          "base_uri": "https://localhost:8080/"
        },
        "id": "KCtFLOfolrfA",
        "outputId": "64ef5fbf-d23d-416a-fd88-e353e8ff9a72"
      },
      "outputs": [
        {
          "data": {
            "text/plain": [
              "6.046451019469569"
            ]
          },
          "execution_count": 21,
          "metadata": {},
          "output_type": "execute_result"
        }
      ],
      "source": [
        "int(num4)/int(num3)"
      ]
    },
    {
      "cell_type": "markdown",
      "metadata": {
        "id": "3cyLQuhjhcky"
      },
      "source": [
        "## Number of artwork with a subject (individual)"
      ]
    },
    {
      "cell_type": "code",
      "execution_count": null,
      "metadata": {
        "colab": {
          "base_uri": "https://localhost:8080/"
        },
        "id": "Eej07nGe96kb",
        "outputId": "4e555de4-282a-4e23-d809-7a1b9a043ffc"
      },
      "outputs": [
        {
          "name": "stdout",
          "output_type": "stream",
          "text": [
            "0\n"
          ]
        }
      ],
      "source": [
        "q = '''SELECT COUNT(distinct ?URI) as ?tot WHERE {\n",
        "?URI <http://purl.org/dc/terms/type> dcmitype:Image;\n",
        "dcterms:subject ?sub\n",
        "FILTER (isURI(?sub)) }'''\n",
        "\n",
        "res = sparl_query_setting(q, nd_hungary)\n",
        "for el in res[\"results\"][\"bindings\"]:\n",
        "  print(el[\"tot\"][\"value\"])\n",
        "  num3 = el[\"tot\"][\"value\"]"
      ]
    },
    {
      "cell_type": "markdown",
      "metadata": {
        "id": "4s8yePv3Hwi1"
      },
      "source": [
        "## Number of artwork + subject triples"
      ]
    },
    {
      "cell_type": "code",
      "execution_count": null,
      "metadata": {
        "colab": {
          "base_uri": "https://localhost:8080/"
        },
        "id": "cSuOYTMKPAUD",
        "outputId": "427f9816-903d-4c2b-dcdd-586a385eafe9"
      },
      "outputs": [
        {
          "name": "stdout",
          "output_type": "stream",
          "text": [
            "260154\n"
          ]
        }
      ],
      "source": [
        "q = '''SELECT COUNT(?trip) as ?tot WHERE {\n",
        "?URI <http://purl.org/dc/terms/type> dcmitype:Image .\n",
        "{\n",
        "?URI ?trip ?trip2 \n",
        "}\n",
        "UNION\n",
        "{?x ?trip ?URI}\n",
        "}'''\n",
        "\n",
        "res = sparl_query_setting(q, nd_hungary)\n",
        "for el in res[\"results\"][\"bindings\"]:\n",
        "  print(el[\"tot\"][\"value\"])\n",
        "  num2 = el[\"tot\"][\"value\"]"
      ]
    },
    {
      "cell_type": "markdown",
      "metadata": {
        "id": "jVf0Fo1QhixJ"
      },
      "source": [
        "# SAAM"
      ]
    },
    {
      "cell_type": "markdown",
      "metadata": {
        "id": "B2tVBRx9hpDK"
      },
      "source": [
        "Browser = https://triplydb.com/smithsonian/american-art-museum/browser?resource=http%3A%2F%2Fdata.americanart.si.edu%2Fobject%2Fid%2F1909.11.2\n",
        "\n",
        "Sparql = https://api.triplydb.com/datasets/smithsonian/american-art-museum/services/american-art-museum/sparql"
      ]
    },
    {
      "cell_type": "code",
      "execution_count": null,
      "metadata": {
        "id": "UMp-OKFSlvpn"
      },
      "outputs": [],
      "source": [
        ""
      ]
    },
    {
      "cell_type": "markdown",
      "metadata": {
        "id": "RrwXKvnmi9oN"
      },
      "source": [
        "## Classes defining artworks:\n",
        "\n",
        "http://www.cidoc-crm.org/cidoc-crm/E22_Man-Made_Object\n",
        "\n",
        "Specifically:"
      ]
    },
    {
      "cell_type": "code",
      "execution_count": null,
      "metadata": {
        "colab": {
          "base_uri": "https://localhost:8080/"
        },
        "id": "PLcZStIwj0Oo",
        "outputId": "bbc69fe1-5113-4452-f8bb-7ad62acf362c"
      },
      "outputs": [
        {
          "name": "stdout",
          "output_type": "stream",
          "text": [
            "http://vocab.getty.edu/aat/300033618%20\n",
            "http://vocab.getty.edu/aat/300047090%20\n",
            "http://vocab.getty.edu/aat/300033936%20\n",
            "http://vocab.getty.edu/aat/300054168%20\n",
            "http://vocab.getty.edu/aat/300400513%20\n",
            "http://vocab.getty.edu/aat/300046300%20\n",
            "http://vocab.getty.edu/aat/300379505%20\n",
            "http://vocab.getty.edu/aat/300127104%20\n",
            "http://vocab.getty.edu/aat/300041273\n",
            "http://vocab.getty.edu/aat/300033973%20\n",
            "http://vocab.getty.edu/aat/300037680\n",
            "http://vocab.getty.edu/aat/300041424%20\n",
            "http://vocab.getty.edu/aat/300047230%20\n",
            "http://vocab.getty.edu/aat/300046025%20\n",
            "http://vocab.getty.edu/aat/300010898\n",
            "http://vocab.getty.edu/aat/300151343%20\n",
            "http://vocab.getty.edu/aat/300015423%20\n",
            "http://vocab.getty.edu/aat/300404586%20\n",
            "http://vocab.getty.edu/aat/300404587%20\n",
            "http://vocab.getty.edu/aat/300053289%20\n",
            "http://vocab.getty.edu/aat/300033644%20\n",
            "http://vocab.getty.edu/aat/300069473%20\n",
            "http://vocab.getty.edu/aat/300033963%20\n",
            "http://vocab.getty.edu/aat/300047194%20\n",
            "http://vocab.getty.edu/aat/300264849%20\n",
            "http://vocab.getty.edu/aat/300047837%20\n",
            "http://vocab.getty.edu/aat/300244116%20\n",
            "http://vocab.getty.edu/aat/300386814%20\n"
          ]
        }
      ],
      "source": [
        "q= '''PREFIX rdf: <http://www.w3.org/1999/02/22-rdf-syntax-ns#>\n",
        "PREFIX rdfs: <http://www.w3.org/2000/01/rdf-schema#>\n",
        "PREFIX cidoc: <http://www.cidoc-crm.org/cidoc-crm/>\n",
        "SELECT distinct ?type WHERE {\n",
        "  ?sub cidoc:P2_has_type ?type;\n",
        "       a cidoc:E22_Man-Made_Object .\n",
        "}'''\n",
        "\n",
        "res = sparl_query_setting(q, smithsonian)\n",
        "for el in res[\"results\"][\"bindings\"]:\n",
        "  print(el[\"type\"][\"value\"])"
      ]
    },
    {
      "cell_type": "code",
      "execution_count": null,
      "metadata": {
        "id": "13FK22r1j_Gz"
      },
      "outputs": [],
      "source": [
        ""
      ]
    },
    {
      "cell_type": "markdown",
      "metadata": {
        "id": "YgbGkcrWkCXA"
      },
      "source": [
        "## How many artworks"
      ]
    },
    {
      "cell_type": "code",
      "execution_count": null,
      "metadata": {
        "colab": {
          "base_uri": "https://localhost:8080/"
        },
        "id": "edSHh_bEkNwL",
        "outputId": "a599730a-0eda-439e-a97c-6c29d88bfd54"
      },
      "outputs": [
        {
          "name": "stdout",
          "output_type": "stream",
          "text": [
            "42649\n"
          ]
        }
      ],
      "source": [
        "q= '''PREFIX rdf: <http://www.w3.org/1999/02/22-rdf-syntax-ns#>\n",
        "PREFIX rdfs: <http://www.w3.org/2000/01/rdf-schema#>\n",
        "PREFIX cidoc: <http://www.cidoc-crm.org/cidoc-crm/>\n",
        "SELECT (count (distinct ?sub) as ?tot) WHERE {\n",
        "  ?sub a cidoc:E22_Man-Made_Object .\n",
        "}'''\n",
        "\n",
        "res = sparl_query_setting(q, smithsonian)\n",
        "for el in res[\"results\"][\"bindings\"]:\n",
        "  print(el[\"tot\"][\"value\"])"
      ]
    },
    {
      "cell_type": "markdown",
      "metadata": {
        "id": "flm67B8AksRr"
      },
      "source": [
        "## How many artwork triples"
      ]
    },
    {
      "cell_type": "code",
      "execution_count": null,
      "metadata": {
        "colab": {
          "base_uri": "https://localhost:8080/"
        },
        "id": "z1e818vGkc5W",
        "outputId": "3a455473-199f-4b92-e59a-26df291368ec"
      },
      "outputs": [
        {
          "name": "stdout",
          "output_type": "stream",
          "text": [
            "631586\n"
          ]
        }
      ],
      "source": [
        "q= '''PREFIX rdf: <http://www.w3.org/1999/02/22-rdf-syntax-ns#>\n",
        "PREFIX rdfs: <http://www.w3.org/2000/01/rdf-schema#>\n",
        "PREFIX cidoc: <http://www.cidoc-crm.org/cidoc-crm/>\n",
        "SELECT (count (?trip) as ?tot) WHERE {\n",
        "  ?sub a cidoc:E22_Man-Made_Object ;\n",
        "  ?p ?trip .\n",
        "}'''\n",
        "\n",
        "res = sparl_query_setting(q, smithsonian)\n",
        "for el in res[\"results\"][\"bindings\"]:\n",
        "  print(el[\"tot\"][\"value\"])"
      ]
    },
    {
      "cell_type": "code",
      "execution_count": null,
      "metadata": {
        "colab": {
          "base_uri": "https://localhost:8080/"
        },
        "id": "PWMubtUak5Pp",
        "outputId": "8e75552b-f060-4dc8-92ab-13919a60f80c"
      },
      "outputs": [
        {
          "name": "stdout",
          "output_type": "stream",
          "text": [
            "631586\n"
          ]
        }
      ],
      "source": [
        "q= '''PREFIX rdf: <http://www.w3.org/1999/02/22-rdf-syntax-ns#>\n",
        "PREFIX rdfs: <http://www.w3.org/2000/01/rdf-schema#>\n",
        "PREFIX cidoc: <http://www.cidoc-crm.org/cidoc-crm/>\n",
        "SELECT (count (?p) as ?tot) WHERE {\n",
        "  ?sub a cidoc:E22_Man-Made_Object \n",
        "  {\n",
        "  ?sub ?p ?trip . }\n",
        "  UNION\n",
        "  {?x ?p ?sub}\n",
        "}'''\n",
        "\n",
        "res = sparl_query_setting(q, smithsonian)\n",
        "for el in res[\"results\"][\"bindings\"]:\n",
        "  print(el[\"tot\"][\"value\"])"
      ]
    },
    {
      "cell_type": "markdown",
      "metadata": {
        "id": "5rgEiXOPlWns"
      },
      "source": [
        "\n",
        "\n",
        "# DBpedia"
      ]
    },
    {
      "cell_type": "markdown",
      "metadata": {
        "id": "DqXryLGilmjx"
      },
      "source": [
        "Browser: https://dbpedia.org/describe/?uri=http%3A%2F%2Fdbpedia.org%2Fontology%2FArtwork (example from artwork)\n",
        "\n",
        "Sparql: https://dbpedia.org/sparql"
      ]
    },
    {
      "cell_type": "markdown",
      "metadata": {
        "id": "1GgtrJhZnWWC"
      },
      "source": [
        "## How Many Artworks"
      ]
    },
    {
      "cell_type": "code",
      "execution_count": null,
      "metadata": {
        "colab": {
          "base_uri": "https://localhost:8080/"
        },
        "id": "YT4Amv6flhkl",
        "outputId": "587bad8d-5d8e-4547-e948-60e587f260e1"
      },
      "outputs": [
        {
          "name": "stdout",
          "output_type": "stream",
          "text": [
            "11678\n"
          ]
        }
      ],
      "source": [
        "q= '''\n",
        "prefix dbo: <http://dbpedia.org/ontology/>\n",
        "select (count(distinct ?Concept) as ?tot) where {?artclass rdfs:subClassOf* dbo:Artwork .\n",
        "?Concept a ?artclass}'''\n",
        "\n",
        "res = sparl_query_setting(q, dbpedia)\n",
        "for el in res[\"results\"][\"bindings\"]:\n",
        "  print(el[\"tot\"][\"value\"])\n",
        "  artnum= el[\"tot\"][\"value\"]"
      ]
    },
    {
      "cell_type": "code",
      "execution_count": null,
      "metadata": {
        "id": "kuoUMwybmVqF"
      },
      "outputs": [],
      "source": [
        ""
      ]
    },
    {
      "cell_type": "markdown",
      "metadata": {
        "id": "Sk3m_0jWnZoq"
      },
      "source": [
        "## How many artwork triples"
      ]
    },
    {
      "cell_type": "code",
      "execution_count": null,
      "metadata": {
        "colab": {
          "base_uri": "https://localhost:8080/"
        },
        "id": "bNQHbzgMnb8L",
        "outputId": "0858a9df-a478-4e0b-ddca-e3f4bc99e4a0"
      },
      "outputs": [
        {
          "name": "stdout",
          "output_type": "stream",
          "text": [
            "958721\n"
          ]
        }
      ],
      "source": [
        "q= '''\n",
        "prefix dbo: <http://dbpedia.org/ontology/>\n",
        "select (count(?trip) as ?tot) where {?artclass a dbo:Artwork;\n",
        "?p ?trip}'''\n",
        "\n",
        "res = sparl_query_setting(q, dbpedia)\n",
        "for el in res[\"results\"][\"bindings\"]:\n",
        "  print(el[\"tot\"][\"value\"])"
      ]
    },
    {
      "cell_type": "code",
      "execution_count": null,
      "metadata": {
        "colab": {
          "base_uri": "https://localhost:8080/"
        },
        "id": "ZFhud3eGP3Qm",
        "outputId": "b2dd117e-28e8-4492-ad68-b10c1a517add"
      },
      "outputs": [
        {
          "name": "stdout",
          "output_type": "stream",
          "text": [
            "1093084\n"
          ]
        }
      ],
      "source": [
        "q= '''\n",
        "prefix dbo: <http://dbpedia.org/ontology/>\n",
        "select (count(?p) as ?tot) where {?Concept a dbo:Artwork .\n",
        "{ ?Concept ?p ?trip}\n",
        "UNION\n",
        "{ ?x ?p ?Concept}}'''\n",
        "\n",
        "res = sparl_query_setting(q, dbpedia)\n",
        "for el in res[\"results\"][\"bindings\"]:\n",
        "  print(el[\"tot\"][\"value\"])"
      ]
    },
    {
      "cell_type": "markdown",
      "metadata": {
        "id": "6nkug8TCptU6"
      },
      "source": [
        "## Classes defining subjects"
      ]
    },
    {
      "cell_type": "code",
      "execution_count": null,
      "metadata": {
        "colab": {
          "base_uri": "https://localhost:8080/"
        },
        "id": "KGuRCc4knj9j",
        "outputId": "f0117e36-c863-48c0-fdee-cc9832815668"
      },
      "outputs": [
        {
          "name": "stdout",
          "output_type": "stream",
          "text": [
            "\u001b[1;30;43mOutput streaming troncato alle ultime 5000 righe.\u001b[0m\n",
            "http://dbpedia.org/class/yago/Captain109893191\n",
            "http://dbpedia.org/class/yago/Criminal109977660\n",
            "http://dbpedia.org/class/yago/Pirate110435367\n",
            "http://dbpedia.org/class/yago/Plunderer110443170\n",
            "http://dbpedia.org/class/yago/Principal110474950\n",
            "http://dbpedia.org/class/yago/Thief110707804\n",
            "http://dbpedia.org/class/yago/WikicatNauticalCaptains\n",
            "http://dbpedia.org/class/yago/WikicatBasketballExecutives\n",
            "http://dbpedia.org/class/yago/WikicatBasketballPlayersFromNewYork\n",
            "http://dbpedia.org/class/yago/WikicatHighSchoolBasketballCoachesInTheUnitedStates\n",
            "http://dbpedia.org/class/yago/WikicatJewishBasketballPlayers\n",
            "http://dbpedia.org/class/yago/WikicatBostonCelticsExecutives\n",
            "http://dbpedia.org/class/yago/WikicatWashingtonCapitolsCoaches\n",
            "http://dbpedia.org/class/yago/WikicatNationalBasketballAssociationExecutives\n",
            "http://dbpedia.org/class/yago/WikicatNationalBasketballAssociationGeneralManagers\n",
            "http://dbpedia.org/class/yago/WikicatNationalBasketballAssociationTeamPresidents\n",
            "http://dbpedia.org/class/yago/WikicatGeorgeWashingtonColonialsMen'sBasketballPlayers\n",
            "http://dbpedia.org/class/yago/WikicatTri-CitiesBlackhawksHeadCoaches\n",
            "http://dbpedia.org/class/yago/WikicatAmericanMaritimeHistorians\n",
            "http://dbpedia.org/class/yago/WikicatAmericanNavalHistorians\n",
            "http://dbpedia.org/class/yago/WikicatAmericanPeopleOfWorldWarII\n",
            "http://dbpedia.org/class/yago/WikicatHistorians\n",
            "http://dbpedia.org/class/yago/WikicatHistoriansOfNewYorkCity\n",
            "http://dbpedia.org/class/yago/WikicatHistoriansOfTheUnitedStates\n",
            "http://dbpedia.org/class/yago/WikicatPresidentsOfTheAmericanHistoricalAssociation\n",
            "http://dbpedia.org/class/yago/WikicatUnitedStatesNavyAdmirals\n",
            "http://dbpedia.org/class/yago/WikicatUnitedStatesNavyWorldWarIIAdmirals\n",
            "http://dbpedia.org/class/yago/WikicatMilitaryHistorians\n",
            "http://dbpedia.org/class/yago/WikicatPulitzerPrizeWinners\n",
            "http://dbpedia.org/class/yago/WikicatNavalHistorians\n",
            "http://dbpedia.org/class/yago/WikicatSt.Paul'sSchool(Concord,NewHampshire)Alumni\n",
            "http://dbpedia.org/class/yago/WikicatAmericanSchoolteachers\n",
            "http://dbpedia.org/class/yago/WikicatGovernorsOfIowa\n",
            "http://dbpedia.org/class/yago/WikicatIowaLawyers\n",
            "http://dbpedia.org/class/yago/WikicatIowaStateSenators\n",
            "http://dbpedia.org/class/yago/WikicatPeopleFromMansfield,Ohio\n",
            "http://dbpedia.org/class/yago/WikicatPeopleOfIowaInTheAmericanCivilWar\n",
            "http://dbpedia.org/class/yago/WikicatUnionStateGovernors\n",
            "http://dbpedia.org/class/yago/WikicatUnitedStatesSecretariesOfTheInterior\n",
            "http://dbpedia.org/class/yago/WikicatUnitedStatesSenatorsFromIowa\n",
            "http://dbpedia.org/class/yago/Schoolteacher110560352\n",
            "http://dbpedia.org/class/yago/Wikicat19th-centuryAmericanRailroadExecutives\n",
            "http://dbpedia.org/class/yago/WikicatOhioLawyers\n",
            "http://dbpedia.org/class/yago/WikicatPeopleFromHarfordCounty,Maryland\n",
            "http://dbpedia.org/class/yago/WikicatPeopleFromIowaCity,Iowa\n",
            "http://dbpedia.org/class/yago/WikicatAfrican-AmericanBaseballPlayers\n",
            "http://dbpedia.org/class/yago/WikicatAmarilloGoldSoxPlayers\n",
            "http://dbpedia.org/class/yago/WikicatAmericanBaseballPlayers\n",
            "http://dbpedia.org/class/yago/WikicatBaseballPlayersFromCalifornia\n",
            "http://dbpedia.org/ontology/BaseballPlayer\n",
            "http://www.wikidata.org/entity/Q10871364\n",
            "http://dbpedia.org/class/yago/WikicatHawaiiIslandersPlayers\n",
            "http://dbpedia.org/class/yago/WikicatPeopleFromLosAngeles,California\n",
            "http://dbpedia.org/class/yago/WikicatPeopleFromSanDiego,California\n",
            "http://dbpedia.org/class/yago/WikicatPointGuards\n",
            "http://dbpedia.org/class/yago/WikicatWallaWallaPadresPlayers\n",
            "http://dbpedia.org/class/yago/WikicatLasVegasStars(baseball)Players\n",
            "http://dbpedia.org/class/yago/WikicatMajorLeagueBaseballAnnouncers\n",
            "http://dbpedia.org/class/yago/WikicatMajorLeagueBaseballOutfielders\n",
            "http://dbpedia.org/class/yago/WikicatMajorLeagueBaseballPlayersWithRetiredNumbers\n",
            "http://dbpedia.org/class/yago/WikicatMajorLeagueBaseballRightFielders\n",
            "http://dbpedia.org/class/yago/WikicatSanDiegoPadresPlayers\n",
            "http://dbpedia.org/class/yago/WikicatSanDiegoStateAztecsBaseballCoaches\n",
            "http://dbpedia.org/class/yago/WikicatSanDiegoStateAztecsBaseballPlayers\n",
            "http://dbpedia.org/class/yago/WikicatSanDiegoStateAztecsMen'sBasketballPlayers\n",
            "http://dbpedia.org/class/yago/WikicatSanDiegoStateUniversityAlumni\n",
            "http://dbpedia.org/class/yago/Ballplayer109835506\n",
            "http://dbpedia.org/class/yago/BaseballCoach109841515\n",
            "http://dbpedia.org/class/yago/Fielder110086568\n",
            "http://dbpedia.org/class/yago/Guard110150071\n",
            "http://dbpedia.org/class/yago/Outfielder110386984\n",
            "http://dbpedia.org/class/yago/RightFielder110387196\n",
            "http://dbpedia.org/class/yago/WikicatAssassinatedHeadsOfGovernment\n",
            "http://dbpedia.org/class/yago/WikicatAssassinatedHeadsOfState\n",
            "http://dbpedia.org/class/yago/WikicatAssassinatedMexicanPoliticians\n",
            "http://dbpedia.org/class/yago/WikicatAssassinatedPeople\n",
            "http://dbpedia.org/class/yago/WikicatAssassinatedPoliticians\n",
            "http://dbpedia.org/class/yago/WikicatGovernorsOfCoahuila\n",
            "http://dbpedia.org/class/yago/WikicatPeopleMurderedInMexico\n",
            "http://dbpedia.org/class/yago/WikicatMayorsOfPlacesInMexico\n",
            "http://dbpedia.org/class/yago/WikicatSenatorsOfMexico\n",
            "http://dbpedia.org/class/yago/WikicatPeopleFromCoahuila\n",
            "http://dbpedia.org/class/yago/WikicatPeopleOfWarsOfIndependenceOfTheAmericas\n",
            "http://dbpedia.org/class/yago/WikicatExecutedPresidents\n",
            "http://dbpedia.org/class/yago/WikicatPeopleExecutedByMexicoByFiringSquad\n",
            "http://dbpedia.org/class/yago/WikicatPeopleFromGuerrero\n",
            "http://dbpedia.org/class/yago/WikicatGovernorsOfSouthCarolina\n",
            "http://dbpedia.org/class/yago/WikicatPeopleOfSouthCarolinaInTheAmericanCivilWar\n",
            "http://dbpedia.org/class/yago/WikicatUnitedStatesSenatorsFromSouthCarolina\n",
            "http://dbpedia.org/class/yago/WikicatPeopleFromCharleston,SouthCarolina\n",
            "http://dbpedia.org/class/yago/WikicatSouthCarolinaStateSenators\n",
            "http://dbpedia.org/class/yago/WikicatAtlantaBravesPlayers\n",
            "http://dbpedia.org/class/yago/WikicatBaseballPlayersFromNewYork\n",
            "http://dbpedia.org/class/yago/WikicatBaseballPlayersFromOklahoma\n",
            "http://dbpedia.org/class/yago/WikicatHartfordBeesPlayers\n",
            "http://dbpedia.org/class/yago/WikicatPeopleFromManhattan\n",
            "http://dbpedia.org/class/yago/WikicatPeopleFromMilwaukee,Wisconsin\n",
            "http://dbpedia.org/class/yago/WikicatBostonBravesPlayers\n",
            "http://dbpedia.org/class/yago/WikicatBradfordBeesPlayers\n",
            "http://dbpedia.org/class/yago/WikicatClevelandIndiansCoaches\n",
            "http://dbpedia.org/class/yago/WikicatMajorLeagueBaseballCoaches\n",
            "http://dbpedia.org/class/yago/WikicatMajorLeagueBaseballPitchers\n",
            "http://dbpedia.org/class/yago/WikicatMilwaukeeBravesPlayers\n",
            "http://dbpedia.org/class/yago/WikicatMinorLeagueBaseballManagers\n",
            "http://dbpedia.org/class/yago/WikicatNationalLeagueERAChampions\n",
            "http://dbpedia.org/class/yago/WikicatNationalLeagueStrikeoutChampions\n",
            "http://dbpedia.org/class/yago/WikicatNationalLeagueWinsChampions\n",
            "http://dbpedia.org/class/yago/WikicatSanFranciscoGiantsPlayers\n",
            "http://dbpedia.org/class/yago/Pitcher110435988\n",
            "http://dbpedia.org/class/yago/Thrower110709529\n",
            "http://dbpedia.org/class/yago/WikicatEvansvilleBeesPlayers\n",
            "http://dbpedia.org/class/yago/WikicatNewYorkMetsCoaches\n",
            "http://dbpedia.org/class/yago/WikicatNewYorkMetsPlayers\n",
            "http://dbpedia.org/class/yago/WikicatPeopleFromBrokenArrow,Oklahoma\n",
            "http://dbpedia.org/class/yago/WikicatPeopleFromBuffalo,NewYork\n",
            "http://dbpedia.org/class/yago/WikicatTigresDelMéxicoPlayers\n",
            "http://dbpedia.org/class/yago/WikicatTulsaOilers(baseball)Players\n",
            "http://dbpedia.org/class/yago/WikicatMassachusettsPoliticians\n",
            "http://dbpedia.org/class/yago/WikicatNativeAmericans'RightsActivists\n",
            "http://dbpedia.org/class/yago/WikicatGovernorsOfMaine\n",
            "http://dbpedia.org/class/yago/WikicatPeopleFromScarborough,Maine\n",
            "http://dbpedia.org/class/yago/WikicatDemocratic-RepublicanPartyPoliticians\n",
            "http://dbpedia.org/class/yago/WikicatPeopleFromBath,Maine\n",
            "http://dbpedia.org/class/yago/WikicatAustralianPeers\n",
            "http://dbpedia.org/class/yago/WikicatAustralianPoliticians\n",
            "http://dbpedia.org/class/yago/WikicatIndianArmyGeneralsOfWorldWarII\n",
            "http://dbpedia.org/class/yago/WikicatChiefCommandersOfTheLegionOfMerit\n",
            "http://dbpedia.org/class/yago/WikicatChiefsOfTheImperialGeneralStaff\n",
            "http://dbpedia.org/class/yago/WikicatViscountsInThePeerageOfTheUnitedKingdom\n",
            "http://dbpedia.org/class/yago/WikicatWestIndiaRegimentOfficers\n",
            "http://dbpedia.org/class/yago/WikicatRoyalWarwickshireFusiliersOfficers\n",
            "http://dbpedia.org/class/yago/ChiefOfStaff109917214\n",
            "http://dbpedia.org/class/yago/Viscount110756148\n",
            "http://dbpedia.org/class/yago/WikicatPeopleEducatedAtKingEdward'sSchool,Birmingham\n",
            "http://dbpedia.org/class/yago/WikicatPeopleFromBirmingham,WestMidlands\n",
            "http://dbpedia.org/class/yago/WikicatPeopleFromBristol\n",
            "http://dbpedia.org/class/yago/WikicatPeopleOfNorthCarolinaInTheAmericanCivilWar\n",
            "http://dbpedia.org/class/yago/WikicatConfederateStateGovernors\n",
            "http://dbpedia.org/class/yago/WikicatConfederateStatesArmyOfficers\n",
            "http://dbpedia.org/class/yago/WikicatUnitedStatesSenatorsFromNorthCarolina\n",
            "http://dbpedia.org/class/yago/WikicatPeopleFromBuncombeCounty,NorthCarolina\n",
            "http://dbpedia.org/class/yago/WikicatPeopleOfNewSpain\n",
            "http://dbpedia.org/class/yago/WikicatPeopleOfSpanishFlorida\n",
            "http://dbpedia.org/class/yago/WikicatConquistadors\n",
            "http://dbpedia.org/class/yago/WikicatWritersOfCaptivityNarratives\n",
            "http://dbpedia.org/class/yago/WikicatSlaves\n",
            "http://dbpedia.org/class/yago/Conquistador109956780\n",
            "http://dbpedia.org/class/yago/Slave110609325\n",
            "http://dbpedia.org/class/yago/Wikicat16th-centuryExplorers\n",
            "http://dbpedia.org/class/yago/Wikicat16th-centurySpanishPeople\n",
            "http://dbpedia.org/class/yago/Wikicat16th-centurySpanishWriters\n",
            "http://dbpedia.org/class/yago/WikicatExplorersOfFlorida\n",
            "http://dbpedia.org/class/yago/WikicatExplorersOfMexico\n",
            "http://dbpedia.org/class/yago/WikicatExplorersOfSouthAmerica\n",
            "http://dbpedia.org/class/yago/WikicatExplorersOfTheUnitedStates\n",
            "http://dbpedia.org/class/yago/WikicatPeopleFromJerezDeLaFrontera\n",
            "http://dbpedia.org/class/yago/WikicatSpanishConquistadors\n",
            "http://dbpedia.org/class/yago/WikicatSpanishExplorers\n",
            "http://dbpedia.org/class/yago/WikicatSpanishExplorersOfNorthAmerica\n",
            "http://dbpedia.org/class/yago/WikicatSpanishTravelWriters\n",
            "http://dbpedia.org/class/yago/Myth106372680\n",
            "http://dbpedia.org/class/yago/WikicatSunMyths\n",
            "http://dbpedia.org/ontology/MythologicalFigure\n",
            "http://dbpedia.org/class/yago/WikicatAmericanComposers\n",
            "http://dbpedia.org/class/yago/WikicatIrishEmigrantsToTheUnitedStates\n",
            "http://dbpedia.org/class/yago/WikicatIrishExpatriatesInGermany\n",
            "http://dbpedia.org/class/yago/WikicatMusiciansFromCountyDublin\n",
            "http://dbpedia.org/class/yago/WikicatRomanticComposers\n",
            "http://dbpedia.org/class/yago/Wikicat19th-centuryClassicalComposers\n",
            "http://dbpedia.org/class/yago/Wikicat20th-centuryClassicalComposers\n",
            "http://dbpedia.org/class/yago/WikicatOperaComposers\n",
            "http://dbpedia.org/class/yago/WikicatAlumniOfTheUniversityOfEdinburgh\n",
            "http://dbpedia.org/class/yago/WikicatAmericanGynecologists\n",
            "http://dbpedia.org/class/yago/WikicatPeopleFromRockbridgeCounty,Virginia\n",
            "http://dbpedia.org/class/yago/Gynecologist110154013\n",
            "http://dbpedia.org/class/yago/WikicatPeopleFromDanville,Kentucky\n",
            "http://dbpedia.org/class/yago/WikicatPeopleFromWyoming\n",
            "http://dbpedia.org/class/yago/WikicatShoshonePeople\n",
            "http://dbpedia.org/class/yago/WikicatNativeAmericanArtists\n",
            "http://umbel.org/umbel/rc/Mammal\n",
            "http://dbpedia.org/class/yago/WikicatSymbolsOfUtah\n",
            "http://dbpedia.org/class/yago/WikicatPeopleFromLangelandMunicipality\n",
            "http://dbpedia.org/class/yago/WikicatDanishAcademics\n",
            "http://dbpedia.org/class/yago/WikicatDanishChemists\n",
            "http://dbpedia.org/class/yago/WikicatDanishPeople\n",
            "http://dbpedia.org/class/yago/WikicatDanishPhysicists\n",
            "http://dbpedia.org/class/yago/WikicatDanishScientists\n",
            "http://dbpedia.org/class/yago/WikicatDiscoverersOfChemicalElements\n",
            "http://dbpedia.org/class/yago/Chemist109913824\n",
            "http://dbpedia.org/class/yago/Wikicat18th-centuryDanishPeople\n",
            "http://dbpedia.org/class/yago/Wikicat19th-centuryChemists\n",
            "http://dbpedia.org/class/yago/Wikicat19th-centuryDanishPeople\n",
            "http://dbpedia.org/class/yago/Wikicat19th-centuryPhysicists\n",
            "http://dbpedia.org/class/yago/WikicatGentlemanScientists\n",
            "http://dbpedia.org/class/yago/WikicatPeopleAssociatedWithElectricity\n",
            "http://dbpedia.org/class/yago/WikicatPeopleFromMarblehead,Massachusetts\n",
            "http://dbpedia.org/class/yago/WikicatGovernorsOfWashington(state)\n",
            "http://dbpedia.org/class/yago/WikicatPeopleFromPenobscotCounty,Maine\n",
            "http://dbpedia.org/class/yago/WikicatWashington(state)Sheriffs\n",
            "http://dbpedia.org/class/yago/Sheriff110589140\n",
            "http://dbpedia.org/ontology/MartialArtist\n",
            "http://dbpedia.org/class/yago/WikicatJapaneseTranslators\n",
            "http://dbpedia.org/class/yago/WikicatPeopleFromKobe\n",
            "http://dbpedia.org/ontology/TelevisionShow\n",
            "http://dbpedia.org/class/yago/WikicatWarCrimes\n",
            "http://dbpedia.org/class/yago/WikicatWorldWarIICrimes\n",
            "http://dbpedia.org/class/yago/WikicatWorldWarIIMassacres\n",
            "http://dbpedia.org/class/yago/Wrongdoing100732746\n",
            "http://dbpedia.org/class/yago/WikicatMassacres\n",
            "http://dbpedia.org/class/yago/WikicatMassacresInUkraine\n",
            "http://dbpedia.org/class/yago/Action100037396\n",
            "http://dbpedia.org/class/yago/Change100191142\n",
            "http://dbpedia.org/class/yago/ChangeOfState100199130\n",
            "http://dbpedia.org/class/yago/Crime100766234\n",
            "http://dbpedia.org/class/yago/Homicide100220023\n",
            "http://dbpedia.org/class/yago/Killing100219012\n",
            "http://dbpedia.org/class/yago/Murder100220522\n",
            "http://dbpedia.org/class/yago/Slaughter100223983\n",
            "http://dbpedia.org/class/yago/Termination100209943\n",
            "http://dbpedia.org/class/yago/Transgression100745005\n",
            "http://dbpedia.org/class/yago/WarCrime100782518\n",
            "http://dbpedia.org/class/yago/WikicatDaughtersOfBritishDukes\n",
            "http://dbpedia.org/class/yago/Daughter109992837\n",
            "http://dbpedia.org/class/yago/Duchess110038409\n",
            "http://dbpedia.org/class/yago/FemaleOffspring110084043\n",
            "http://dbpedia.org/class/yago/Noblewoman110242791\n",
            "http://dbpedia.org/class/yago/WikicatEnglishDuchessesByMarriage\n",
            "http://dbpedia.org/class/yago/WikicatItalianPeople\n",
            "http://dbpedia.org/class/yago/WikicatItalianPhysicians\n",
            "http://dbpedia.org/class/yago/WikicatItalianSaints\n",
            "http://dbpedia.org/class/yago/WikicatMedievalItalianSaints\n",
            "http://dbpedia.org/class/yago/Wikicat13th-centuryChristianSaints\n",
            "http://dbpedia.org/class/yago/Wikicat13th-centuryItalianPeople\n",
            "http://dbpedia.org/class/yago/Wikicat13th-centuryPhysicians\n",
            "http://dbpedia.org/class/yago/WikicatPeopleFromFlorence\n",
            "http://www.wikidata.org/entity/Q12136\n",
            "http://dbpedia.org/ontology/Disease\n",
            "http://dbpedia.org/ontology/MilitaryConflict\n",
            "http://dbpedia.org/class/yago/WikicatAdoptees\n",
            "http://dbpedia.org/class/yago/WikicatAmericanAdoptees\n",
            "http://dbpedia.org/class/yago/WikicatAmericanBillionaires\n",
            "http://dbpedia.org/class/yago/WikicatAmericanChiefExecutives\n",
            "http://dbpedia.org/class/yago/WikicatAmericanComputerProgrammers\n",
            "http://dbpedia.org/class/yago/WikicatAmericanComputerScientists\n",
            "http://dbpedia.org/class/yago/WikicatAmericanFilmProducers\n",
            "http://dbpedia.org/class/yago/WikicatAmericanFilmStudioExecutives\n",
            "http://dbpedia.org/class/yago/WikicatAmericanIndustrialDesigners\n",
            "http://dbpedia.org/class/yago/WikicatAmericanInventors\n",
            "http://dbpedia.org/class/yago/WikicatAmericanPeopleOfArabDescent\n",
            "http://dbpedia.org/class/yago/WikicatAmericanPeopleOfSwissDescent\n",
            "http://dbpedia.org/class/yago/WikicatAmericanPeopleOfSyrianDescent\n",
            "http://dbpedia.org/class/yago/WikicatAmericanPhilanthropists\n",
            "http://dbpedia.org/class/yago/WikicatAmericanTechnologyChiefExecutives\n",
            "http://dbpedia.org/class/yago/WikicatAppleInc.Employees\n",
            "http://dbpedia.org/class/yago/WikicatAppleInc.Executives\n",
            "http://dbpedia.org/class/yago/WikicatAtariPeople\n",
            "http://dbpedia.org/class/yago/WikicatInternetPioneers\n",
            "http://dbpedia.org/class/yago/WikicatPeopleFromPaloAlto,California\n",
            "http://dbpedia.org/class/yago/WikicatPeopleFromSanFrancisco,California\n",
            "http://dbpedia.org/class/yago/WikicatPeopleFromTheSanFranciscoBayArea\n",
            "http://dbpedia.org/class/yago/WikicatPsychedelicDrugAdvocates\n",
            "http://dbpedia.org/class/yago/WikicatChiefExecutives\n",
            "http://dbpedia.org/class/yago/WikicatComputerDesigners\n",
            "http://dbpedia.org/class/yago/WikicatDirectorsOfAppleInc.\n",
            "http://dbpedia.org/class/yago/WikicatDisneyPeople\n",
            "http://dbpedia.org/class/yago/WikicatReedCollegeAlumni\n",
            "http://dbpedia.org/class/yago/Adoptee109772330\n",
            "http://dbpedia.org/class/yago/Billionaire110529684\n",
            "http://dbpedia.org/class/yago/ComputerScientist109951070\n",
            "http://dbpedia.org/class/yago/ComputerUser109951274\n",
            "http://dbpedia.org/class/yago/FilmMaker110088390\n",
            "http://dbpedia.org/class/yago/Occupation100582388\n",
            "http://dbpedia.org/class/yago/Producer110480018\n",
            "http://dbpedia.org/class/yago/Programmer110481268\n",
            "http://dbpedia.org/class/yago/RichPerson110529231\n",
            "http://dbpedia.org/class/yago/WikicatPeopleFromCupertino,California\n",
            "http://dbpedia.org/class/yago/WikicatSteveJobs\n",
            "http://dbpedia.org/class/yago/WikicatMissionaries\n",
            "http://dbpedia.org/class/yago/Wikicat1st-centuryBishops\n",
            "http://dbpedia.org/class/yago/WikicatPeopleExecutedByCrucifixion\n",
            "http://dbpedia.org/class/yago/WikicatTwelveApostles\n",
            "http://dbpedia.org/class/yago/WikicatAmericanMilitiaGenerals\n",
            "http://dbpedia.org/class/yago/WikicatAmericanMurderVictims\n",
            "http://dbpedia.org/class/yago/WikicatAmericanReligiousLeaders\n",
            "http://dbpedia.org/class/yago/WikicatAmericanTheologians\n",
            "http://dbpedia.org/class/yago/WikicatAssassinatedReligiousLeaders\n",
            "http://dbpedia.org/class/yago/WikicatPeopleFromNauvoo,Illinois\n",
            "http://dbpedia.org/class/yago/WikicatPeopleFromOntarioCounty,NewYork\n",
            "http://dbpedia.org/class/yago/WikicatPeopleFromVermont\n",
            "http://dbpedia.org/class/yago/WikicatPeopleFromWindsorCounty,Vermont\n",
            "http://dbpedia.org/class/yago/WikicatPeopleMurderedInIllinois\n",
            "http://dbpedia.org/class/yago/WikicatPresidentsOfTheChurchOfJesusChristOfLatter-daySaints\n",
            "http://dbpedia.org/class/yago/WikicatProphets\n",
            "http://dbpedia.org/class/yago/WikicatProphetsInMormonism\n",
            "http://dbpedia.org/class/yago/WikicatVictimsOfReligiouslyMotivatedViolenceInTheUnitedStates\n",
            "http://dbpedia.org/class/yago/WikicatLatterDaySaintMartyrs\n",
            "http://dbpedia.org/class/yago/WikicatMayorsOfNauvoo,Illinois\n",
            "http://dbpedia.org/class/yago/WikicatMayorsOfPlacesInIllinois\n",
            "http://dbpedia.org/class/yago/WikicatMurderVictims\n",
            "http://dbpedia.org/class/yago/WikicatMurderedMayors\n",
            "http://dbpedia.org/class/yago/WikicatReligiousLeaders\n",
            "http://dbpedia.org/class/yago/Diviner110020031\n",
            "http://dbpedia.org/class/yago/Hunter110193026\n",
            "http://dbpedia.org/class/yago/Prophet110483530\n",
            "http://dbpedia.org/class/yago/Visionary110756433\n",
            "http://dbpedia.org/class/yago/Wikicat19th-centuryAmericanPeople\n",
            "http://dbpedia.org/class/yago/WikicatTreasureHunters\n",
            "http://dbpedia.org/class/yago/WikicatAsianPopes\n",
            "http://dbpedia.org/ontology/Pope\n",
            "http://dbpedia.org/class/yago/WikicatPopes\n",
            "http://dbpedia.org/class/yago/WikicatChristianMystics\n",
            "http://dbpedia.org/class/yago/WikicatChristianWriters\n",
            "http://dbpedia.org/class/yago/WikicatCopticOrthodoxSaints\n",
            "http://www.wikidata.org/entity/Q19546\n",
            "http://dbpedia.org/class/yago/Believer109847727\n",
            "http://dbpedia.org/class/yago/Mystic110343554\n",
            "http://dbpedia.org/class/yago/Patriarch110406905\n",
            "http://dbpedia.org/class/yago/Pope110453533\n",
            "http://dbpedia.org/class/yago/Wikicat1st-centuryChristianMartyrs\n",
            "http://dbpedia.org/class/yago/Wikicat1st-centuryPeople\n",
            "http://dbpedia.org/class/yago/WikicatPapalSaints\n",
            "http://dbpedia.org/class/yago/WikicatPatriarchsOfAntioch\n",
            "http://dbpedia.org/class/yago/WikicatPeopleExecutedByTheRomanEmpire\n",
            "http://dbpedia.org/class/yago/WikicatSyriacOrthodoxPatriarchsOfAntioch\n",
            "http://dbpedia.org/class/yago/WikicatSyrianPopes\n",
            "http://dbpedia.org/class/yago/WikicatMountainWestConferenceMascots\n",
            "http://dbpedia.org/class/yago/Mascot110297234\n",
            "http://dbpedia.org/class/yago/WikicatPeopleFromCincinnati,Ohio\n",
            "http://dbpedia.org/class/yago/WikicatPeopleFromGalliaCounty,Ohio\n",
            "http://dbpedia.org/class/yago/WikicatPeopleFromGallipolis,Ohio\n",
            "http://schema.org/Event\n",
            "http://www.ontologydesignpatterns.org/ont/dul/DUL.owl#Event\n",
            "http://dbpedia.org/ontology/SocietalEvent\n",
            "http://www.wikidata.org/entity/Q1656682\n",
            "http://dbpedia.org/class/yago/WikicatBattlesInvolvingFrance\n",
            "http://dbpedia.org/class/yago/WikicatBattlesInvolvingSpain\n",
            "http://dbpedia.org/class/yago/WikicatBattlesOfTheNapoleonicWars\n",
            "http://dbpedia.org/class/yago/WikicatBattlesOfThePeninsularWar\n",
            "http://dbpedia.org/class/yago/WikicatConflictsIn1809\n",
            "http://dbpedia.org/class/yago/Battle100953559\n",
            "http://dbpedia.org/class/yago/Conflict100958896\n",
            "http://dbpedia.org/class/yago/GroupAction101080366\n",
            "http://dbpedia.org/class/yago/MilitaryAction100952963\n",
            "http://dbpedia.org/class/yago/WikicatItalianBeatifiedPeople\n",
            "http://dbpedia.org/class/yago/WikicatMystics\n",
            "http://dbpedia.org/class/yago/Wikicat15th-centuryItalianPeople\n",
            "http://dbpedia.org/class/yago/Wikicat16th-centuryItalianPeople\n",
            "http://dbpedia.org/class/yago/WikicatFranciscanBeatifiedPeople\n",
            "http://dbpedia.org/class/yago/WikicatMammalsOfAfrica\n",
            "http://dbpedia.org/class/yago/WikicatRhinoceroses\n",
            "http://dbpedia.org/class/yago/Odd-toedUngulate102373336\n",
            "http://dbpedia.org/class/yago/Rhinoceros102391994\n",
            "http://dbpedia.org/class/yago/WikicatOdd-toedUngulates\n",
            "http://dbpedia.org/class/yago/WikicatAfrican-AmericanArtists\n",
            "http://dbpedia.org/class/yago/WikicatAmericanGraffitiArtists\n",
            "http://dbpedia.org/class/yago/WikicatVictimsOfPoliceBrutality\n",
            "http://dbpedia.org/ontology/Governor\n",
            "http://www.wikidata.org/entity/Q132050\n",
            "http://dbpedia.org/class/yago/WikicatGovernorsOfNewMexico\n",
            "http://dbpedia.org/class/yago/WikicatColonialGovernorsOfSantaFeDeNewMexico\n",
            "http://dbpedia.org/class/yago/Wikicat19th-centuryPeople\n",
            "http://dbpedia.org/class/yago/WikicatAncientEgyptianPrincesses\n",
            "http://dbpedia.org/class/yago/WikicatPeopleFromTongeren\n",
            "http://dbpedia.org/class/yago/WikicatBelgianNuns\n",
            "http://dbpedia.org/class/yago/WikicatBelgianRomanCatholicSaints\n",
            "http://dbpedia.org/class/yago/WikicatBelgianSaints\n",
            "http://dbpedia.org/class/yago/WikicatBlindPeople\n",
            "http://dbpedia.org/class/yago/WikicatCistercianNuns\n",
            "http://dbpedia.org/class/yago/WikicatDutchSaints\n",
            "http://dbpedia.org/class/yago/BlindPerson109860130\n",
            "http://dbpedia.org/class/yago/Stigmatic110656488\n",
            "http://dbpedia.org/class/yago/VisuallyImpairedPerson110757625\n",
            "http://dbpedia.org/class/yago/Wikicat13th-centuryChristianFemaleSaints\n",
            "http://dbpedia.org/class/yago/WikicatFlemishPeople\n",
            "http://dbpedia.org/class/yago/WikicatStigmatics\n",
            "http://dbpedia.org/class/yago/WikicatNaiads\n",
            "http://dbpedia.org/class/yago/AquaticPlant113121544\n",
            "http://dbpedia.org/class/yago/Naiad112611640\n",
            "http://dbpedia.org/class/yago/Plant100017222\n",
            "http://dbpedia.org/class/yago/VascularPlant113083586\n",
            "http://dbpedia.org/class/yago/WikicatSymbolsOfMontana\n",
            "http://dbpedia.org/ontology/PrimeMinister\n",
            "http://dbpedia.org/class/yago/WikicatPrimeMinistersOfDenmark\n",
            "http://dbpedia.org/class/yago/WikicatDanishInteriorMinisters\n",
            "http://dbpedia.org/class/yago/WikicatDanishJudges\n",
            "http://dbpedia.org/class/yago/WikicatDanishKultusMinisters\n",
            "http://dbpedia.org/class/yago/WikicatMinistersOfInternalAffairsByCountry\n",
            "http://dbpedia.org/class/yago/WikicatGovernmentMinistersOfDenmark\n",
            "http://dbpedia.org/class/yago/WikicatRenaissancePeople\n",
            "http://dbpedia.org/class/yago/WikicatRoyalMistresses\n",
            "http://dbpedia.org/class/yago/Lover109622745\n",
            "http://dbpedia.org/class/yago/Mistress110323752\n",
            "http://dbpedia.org/class/yago/WikicatAmericanJurists\n",
            "http://dbpedia.org/class/yago/Jurist110227985\n",
            "http://dbpedia.org/class/yago/WikicatAppointedUnitedStatesSenators\n",
            "http://dbpedia.org/class/yago/WikicatPeopleFromValenciaCounty,NewMexico\n",
            "http://dbpedia.org/class/yago/WikicatPeopleOfSantaFeDeNuevoMexico\n",
            "http://dbpedia.org/class/yago/WikicatUnitedStatesSenatorsFromNewMexico\n",
            "http://dbpedia.org/class/yago/WikicatGeorgetownUniversityLawCenterAlumni\n",
            "http://dbpedia.org/class/yago/WikicatNewMexicoLawyers\n",
            "http://dbpedia.org/class/yago/WikicatPeopleFromAlbuquerque,NewMexico\n",
            "http://dbpedia.org/class/yago/WikicatLandscapePainters\n",
            "http://dbpedia.org/class/yago/WikicatMexicanLandscapePainters\n",
            "http://dbpedia.org/class/yago/WikicatMexicanWriters\n",
            "http://dbpedia.org/class/yago/WikicatAmericanChristianMinisters\n",
            "http://dbpedia.org/class/yago/WikicatAmericanScienceFictionWriters\n",
            "http://dbpedia.org/class/yago/WikicatAmericanShortStoryWriters\n",
            "http://dbpedia.org/class/yago/WikicatPeopleFromSouthKingstown,RhodeIsland\n",
            "http://dbpedia.org/class/yago/WikicatChaplainsOfTheUnitedStatesSenate\n",
            "http://dbpedia.org/class/yago/Chaplain109908508\n",
            "http://dbpedia.org/class/yago/WikicatGovernorsOfVirginia\n",
            "http://dbpedia.org/class/yago/WikicatPeopleFromMorgantown,WestVirginia\n",
            "http://dbpedia.org/class/yago/WikicatPeopleOfWestVirginiaInTheAmericanCivilWar\n",
            "http://dbpedia.org/class/yago/WikicatDelegatesOfThe1861WheelingConvention\n",
            "http://dbpedia.org/class/yago/WikicatVirginiaLawyers\n",
            "http://dbpedia.org/class/yago/WikicatWestVirginiaLawyers\n",
            "http://dbpedia.org/class/yago/WikicatPeopleFromFairmont,WestVirginia\n",
            "http://dbpedia.org/class/yago/WikicatSouthernUnionistsInTheAmericanCivilWar\n",
            "http://dbpedia.org/class/yago/WikicatAlumniOfAddiscombeMilitarySeminary\n",
            "http://dbpedia.org/class/yago/WikicatAnglo-IrishPeople\n",
            "http://dbpedia.org/class/yago/WikicatBaronsInThePeerageOfTheUnitedKingdom\n",
            "http://dbpedia.org/class/yago/WikicatGraduatesOfTheRoyalMilitaryCollege,Sandhurst\n",
            "http://dbpedia.org/class/yago/WikicatKnightsOfJusticeOfTheOrderOfStJohn\n",
            "http://dbpedia.org/class/yago/WikicatBengalArtilleryOfficers\n",
            "http://dbpedia.org/class/yago/WikicatBritishEarls\n",
            "http://dbpedia.org/class/yago/WikicatEarlsInThePeerageOfTheUnitedKingdom\n",
            "http://dbpedia.org/class/yago/WikicatRoyalArtilleryOfficers\n",
            "http://dbpedia.org/class/yago/Earl110041373\n",
            "http://dbpedia.org/class/yago/WikicatPeopleFromAscot,Berkshire\n",
            "http://dbpedia.org/class/yago/WikicatPeopleFromKanpur\n",
            "http://dbpedia.org/class/yago/WikicatGovernorsOfTheGoldCoast\n",
            "http://dbpedia.org/class/yago/WikicatHighCommissionersOfTheUnitedKingdomToCyprus\n",
            "http://dbpedia.org/class/yago/WikicatPeopleOfTheAnglo-ZuluWar\n",
            "http://dbpedia.org/class/yago/WikicatPeopleOfTheFenianRaids\n",
            "http://dbpedia.org/class/yago/WikicatPeopleOfTheRedRiverRebellion\n",
            "http://dbpedia.org/class/yago/WikicatPeopleOfTheSekukuniCampaign\n",
            "http://dbpedia.org/class/yago/WikicatBritishViscounts\n",
            "http://dbpedia.org/class/yago/WikicatRoyalHorseGuardsOfficers\n",
            "http://dbpedia.org/class/yago/HighCommissioner110174445\n",
            "http://dbpedia.org/class/yago/WikicatSuffolkRegimentOfficers\n",
            "http://dbpedia.org/class/yago/WikicatGovernorsOfIdaho\n",
            "http://dbpedia.org/class/yago/WikicatGovernorsOfIdahoTerritory\n",
            "http://dbpedia.org/class/yago/WikicatUnitedStatesSenatorsFromIdaho\n",
            "http://dbpedia.org/class/yago/WikicatGovernorsOfKansas\n",
            "http://dbpedia.org/class/yago/WikicatKansasLawyers\n",
            "http://dbpedia.org/class/yago/WikicatKansasStateCourtJudges\n",
            "http://dbpedia.org/class/yago/WikicatKansasStateSenators\n",
            "http://dbpedia.org/class/yago/WikicatPeopleOfKansasInTheAmericanCivilWar\n",
            "http://dbpedia.org/class/yago/WikicatUnionArmySoldiers\n",
            "http://dbpedia.org/class/yago/WikicatPeopleFromAtchison,Kansas\n",
            "http://dbpedia.org/class/yago/WikicatPeopleFromFairfieldCounty,Ohio\n",
            "http://dbpedia.org/class/yago/WikicatPeopleFromMartinsburg,WestVirginia\n",
            "http://dbpedia.org/class/yago/WikicatPeopleFromWinchester,Virginia\n",
            "http://dbpedia.org/ontology/TimePeriod\n",
            "http://dbpedia.org/class/yago/WikicatUnitedStatesSenatorsFromVirginia\n",
            "http://dbpedia.org/class/yago/WikicatVirginiaStateSenators\n",
            "http://dbpedia.org/class/yago/WikicatPeopleFromBondCounty,Illinois\n",
            "http://dbpedia.org/class/yago/WikicatPeopleFromClarkeCounty,Virginia\n",
            "http://dbpedia.org/class/yago/WikicatIceHockeyPeopleFromOntario\n",
            "http://dbpedia.org/class/yago/WikicatPeopleFromOntario\n",
            "http://dbpedia.org/class/yago/WikicatPeopleFromPerthCounty,Ontario\n",
            "http://dbpedia.org/class/yago/WikicatCanadianPeopleOfSwiss-GermanDescent\n",
            "http://dbpedia.org/class/yago/WikicatChicagoBlackhawksPlayers\n",
            "http://dbpedia.org/class/yago/WikicatAmericanFolkSingers\n",
            "http://dbpedia.org/class/yago/WikicatAmericanPeopleOfSwedishDescent\n",
            "http://dbpedia.org/class/yago/WikicatSeattleRestaurateurs\n",
            "http://dbpedia.org/class/yago/Businessman109882007\n",
            "http://dbpedia.org/class/yago/FolkSinger110099093\n",
            "http://dbpedia.org/class/yago/Owner110388924\n",
            "http://dbpedia.org/class/yago/Restaurateur110524869\n",
            "http://dbpedia.org/class/yago/WikicatBretonRomanCatholicPriests\n",
            "http://dbpedia.org/class/yago/WikicatBretonSaints\n",
            "http://dbpedia.org/class/yago/WikicatCanonLawJurists\n",
            "http://dbpedia.org/class/yago/WikicatMedievalBretonSaints\n",
            "http://dbpedia.org/class/yago/WikicatMedievalJurists\n",
            "http://dbpedia.org/class/yago/Wikicat13th-centuryRomanCatholicPriests\n",
            "http://dbpedia.org/class/yago/Wikicat14th-centuryChristianSaints\n",
            "http://dbpedia.org/class/yago/Wikicat14th-centuryRomanCatholicPriests\n",
            "http://dbpedia.org/class/yago/WikicatFranciscanSaints\n",
            "http://dbpedia.org/class/yago/WikicatFrenchLawyers\n",
            "http://dbpedia.org/class/yago/WikicatFrenchRomanCatholicPriests\n",
            "http://dbpedia.org/class/yago/WikicatFrenchRomanCatholicSaints\n",
            "http://dbpedia.org/class/yago/WikicatPeopleFromCôtes-d'Armor\n",
            "http://dbpedia.org/class/yago/WikicatPeopleFromTroy,NewYork\n",
            "http://dbpedia.org/class/yago/WikicatPeopleOfVermontInTheAmericanCivilWar\n",
            "http://dbpedia.org/class/yago/WikicatUnitedStatesSenatorsFromVermont\n",
            "http://dbpedia.org/class/yago/WikicatVermontLawyers\n",
            "http://dbpedia.org/class/yago/WikicatVermontStateCourtJudges\n",
            "http://dbpedia.org/class/yago/WikicatPeopleFromMonroeCounty,Georgia\n",
            "http://dbpedia.org/class/yago/WikicatPeopleOfMississippiInTheAmericanCivilWar\n",
            "http://dbpedia.org/class/yago/WikicatChiefJusticesOfTheMississippiSupremeCourt\n",
            "http://dbpedia.org/class/yago/WikicatUnitedStatesSenatorsFromMississippi\n",
            "http://dbpedia.org/class/yago/ChiefJustice109916788\n",
            "http://dbpedia.org/class/yago/WikicatPeopleFromSalem,Oregon\n",
            "http://dbpedia.org/class/yago/WikicatChristianMissionariesInTheUnitedStates\n",
            "http://dbpedia.org/class/yago/WikicatWillametteUniversityPeople\n",
            "http://dbpedia.org/class/yago/WikicatOregonPioneers\n",
            "http://dbpedia.org/class/yago/WikicatPeopleFromEstrie\n",
            "http://dbpedia.org/class/yago/WikicatGovernorsOfOhio\n",
            "http://dbpedia.org/class/yago/WikicatMayorsOfColumbus,Ohio\n",
            "http://dbpedia.org/class/yago/WikicatMayorsOfPlacesInOhio\n",
            "http://dbpedia.org/class/yago/Hearer110165448\n",
            "http://dbpedia.org/class/yago/Perceiver109626589\n",
            "http://dbpedia.org/class/yago/WikicatOhioStateUniversityAlumni\n",
            "http://dbpedia.org/class/yago/WikicatPeopleFromJacksonCounty,Ohio\n",
            "http://dbpedia.org/class/yago/WikicatStateAuditorsOfOhio\n",
            "http://dbpedia.org/class/yago/WikicatGovernorsOfNorthDakota\n",
            "http://dbpedia.org/class/yago/WikicatChiefJusticesOfTheNorthDakotaSupremeCourt\n",
            "http://dbpedia.org/class/yago/MoneyHandler109624980\n",
            "http://dbpedia.org/class/yago/Treasurer110727256\n",
            "http://dbpedia.org/class/yago/WikicatNorthDakotaStateSenators\n",
            "http://dbpedia.org/class/yago/WikicatPeopleFromKeokukCounty,Iowa\n",
            "http://dbpedia.org/class/yago/WikicatTreasurersOfTheUnitedStates\n",
            "http://dbpedia.org/class/yago/WikicatPeopleFromSt.Albans,WestVirginia\n",
            "http://dbpedia.org/class/yago/WikicatUnitedStatesSenatorsFromWestVirginia\n",
            "http://dbpedia.org/class/yago/WikicatPeopleFromCharleston,WestVirginia\n",
            "http://dbpedia.org/class/yago/WikicatPeopleFromSalem,Massachusetts\n",
            "http://dbpedia.org/class/yago/WikicatPeopleOfTheStuartPeriod\n",
            "http://dbpedia.org/class/yago/Wikicat17th-centuryAmericanPeople\n",
            "http://dbpedia.org/class/yago/WikicatScottishEmigrantsToTheUnitedStates\n",
            "http://dbpedia.org/class/yago/WikicatAmericanMathematicians\n",
            "http://dbpedia.org/class/yago/WikicatPresidentsOfTheAmericanMathematicalSociety\n",
            "http://dbpedia.org/class/yago/Mathematician110301261\n",
            "http://dbpedia.org/class/yago/WikicatUnitedStatesSenatorsFromKansas\n",
            "http://dbpedia.org/class/yago/WikicatPeopleFromEssexCounty,Massachusetts\n",
            "http://dbpedia.org/class/yago/WikicatPeopleFromNewCastleCounty,Delaware\n",
            "http://dbpedia.org/class/yago/WikicatChiefJusticesOfDelaware\n",
            "http://dbpedia.org/class/yago/WikicatUnitedStatesSenatorsFromDelaware\n",
            "http://dbpedia.org/class/yago/WikicatWhigPartyUnitedStatesSenators\n",
            "http://dbpedia.org/class/yago/WikicatNationalRepublicanPartyPoliticians\n",
            "http://dbpedia.org/class/yago/WikicatSecretariesOfStateOfDelaware\n",
            "http://dbpedia.org/class/yago/WikicatPeopleFromDover,Delaware\n",
            "http://dbpedia.org/class/yago/WikicatAmericanPeopleOfHuguenotDescent\n",
            "http://dbpedia.org/class/yago/WikicatGovernorsOfTennessee\n",
            "http://dbpedia.org/class/yago/WikicatHuguenotParticipantsInTheAmericanRevolution\n",
            "http://dbpedia.org/class/yago/WikicatPeopleFromKnoxville,Tennessee\n",
            "http://dbpedia.org/class/yago/WikicatPeopleFromNewMarket,Virginia\n",
            "http://dbpedia.org/class/yago/WikicatPeopleFromTheStateOfFranklin\n",
            "http://dbpedia.org/class/yago/WikicatPeopleOfPre-statehoodTennessee\n",
            "http://dbpedia.org/class/yago/WikicatPeopleOfTennesseeInTheAmericanRevolution\n",
            "http://dbpedia.org/class/yago/Participant110401829\n",
            "http://dbpedia.org/class/yago/WikicatNorthCarolinaStateSenators\n",
            "http://dbpedia.org/class/yago/WikicatSpeakersOfTheNewYorkStateAssembly\n",
            "http://dbpedia.org/class/yago/WikicatBohemianPeople\n",
            "http://dbpedia.org/class/yago/WikicatCzechPeople\n",
            "http://dbpedia.org/class/yago/WikicatCzechRomanCatholicPriests\n",
            "http://dbpedia.org/class/yago/WikicatCzechRomanCatholicSaints\n",
            "http://dbpedia.org/class/yago/Wikicat14th-centuryRomanCatholicMartyrs\n",
            "http://dbpedia.org/class/yago/WikicatPeopleExecutedByDrowning\n",
            "http://dbpedia.org/class/yago/WikicatPhysiciansFromMassachusetts\n",
            "http://dbpedia.org/class/yago/WikicatPhysiciansInTheAmericanRevolution\n",
            "http://dbpedia.org/class/yago/WikicatMilitaryPhysicians\n",
            "http://dbpedia.org/class/yago/Wikicat18th-centuryAmericanPhysicians\n",
            "http://dbpedia.org/class/yago/Wikicat18th-centuryPhysicians\n",
            "http://dbpedia.org/class/yago/WikicatExhumedPeople\n",
            "http://dbpedia.org/class/yago/WikicatAmericanConservationists\n",
            "http://dbpedia.org/class/yago/WikicatGovernorsOfNebraska\n",
            "http://dbpedia.org/class/yago/WikicatGovernorsOfNebraskaTerritory\n",
            "http://dbpedia.org/class/yago/WikicatPeopleFromMonroe,Michigan\n",
            "http://dbpedia.org/class/yago/WikicatPeopleFromOtoeCounty,Nebraska\n",
            "http://dbpedia.org/class/yago/WikicatPeopleOfNebraskaInTheAmericanCivilWar\n",
            "http://dbpedia.org/class/yago/WikicatUnitedStatesSecretariesOfAgriculture\n",
            "http://dbpedia.org/class/yago/WikicatPeopleFromDetroit,Michigan\n",
            "http://dbpedia.org/class/yago/WikicatPeopleFromJeffersonCounty,NewYork\n",
            "http://dbpedia.org/class/yago/WikicatAmericanActresses\n",
            "http://dbpedia.org/class/yago/WikicatAmericanAmputees\n",
            "http://dbpedia.org/class/yago/WikicatAmericanContraltos\n",
            "http://dbpedia.org/class/yago/WikicatAmericanFemaleSingers\n",
            "http://dbpedia.org/class/yago/WikicatAmericanFilmActresses\n",
            "http://dbpedia.org/class/yago/WikicatAmericanTelevisionActresses\n",
            "http://dbpedia.org/class/yago/WikicatAmericanTelevisionProducers\n",
            "http://dbpedia.org/class/yago/WikicatMusiciansFromVirginia\n",
            "http://dbpedia.org/class/yago/WikicatRadioPeople\n",
            "http://dbpedia.org/class/yago/WikicatSavoyRecordsArtists\n",
            "http://dbpedia.org/class/yago/Manufacturer110292316\n",
            "http://dbpedia.org/class/yago/Wikicat20th-centuryAmericanActresses\n",
            "http://dbpedia.org/class/yago/WikicatTraditionalPopMusicSingers\n",
            "http://dbpedia.org/class/yago/WikicatPeopleFromYatesCounty,NewYork\n",
            "http://dbpedia.org/class/yago/WikicatPeopleMurderedInWashington(state)\n",
            "http://dbpedia.org/class/yago/WikicatPresbyterianMissionaries\n",
            "http://dbpedia.org/class/yago/WikicatChristianMissionaries\n",
            "http://dbpedia.org/class/yago/WikicatMurderedMissionaries\n",
            "http://dbpedia.org/class/yago/WikicatMurderedPhysicians\n",
            "http://dbpedia.org/class/yago/WikicatPeopleFromPortsmouth,RhodeIsland\n",
            "http://dbpedia.org/class/yago/WikicatBritishQuakers\n",
            "http://dbpedia.org/class/yago/WikicatConvertsToQuakerism\n",
            "http://dbpedia.org/class/yago/WikicatQuakerMinisters\n",
            "http://dbpedia.org/class/yago/Wikicat17th-centuryProtestantMartyrs\n",
            "http://dbpedia.org/class/yago/Wikicat17th-centuryQuakers\n",
            "http://dbpedia.org/class/yago/WikicatEnglishPeopleExecutedByHanging\n",
            "http://dbpedia.org/class/yago/WikicatEnglishQuakers\n",
            "http://dbpedia.org/class/yago/WikicatExecutedAmericanWomen\n",
            "http://dbpedia.org/class/yago/WikicatExecutedEnglishPeople\n",
            "http://dbpedia.org/class/yago/WikicatExecutedEnglishWomen\n",
            "http://dbpedia.org/class/yago/WikicatPeopleExecutedByTheMassachusettsBayColony\n",
            "http://dbpedia.org/class/yago/WikicatPeopleExecutedByTheThirteenColoniesByHanging\n",
            "http://dbpedia.org/class/yago/WikicatGovernorsOfMassachusetts\n",
            "http://dbpedia.org/class/yago/WikicatBostonCollegeAlumni\n",
            "http://dbpedia.org/class/yago/WikicatUnitedStatesSecretariesOfLabor\n",
            "http://dbpedia.org/class/yago/WikicatMayorsOfBoston,Massachusetts\n",
            "http://dbpedia.org/ontology/School\n",
            "http://dbpedia.org/class/yago/WikicatHorseBreeds\n",
            "http://dbpedia.org/class/yago/WikicatHorseBreedsOriginatingInTheUnitedStates\n",
            "http://dbpedia.org/class/yago/AnimalGroup107993929\n",
            "http://dbpedia.org/class/yago/BiologicalGroup107941170\n",
            "http://dbpedia.org/class/yago/Breed108101410\n",
            "http://dbpedia.org/class/yago/TaxonomicGroup107992450\n",
            "http://dbpedia.org/class/yago/Variety108101085\n",
            "http://dbpedia.org/class/yago/WikicatGovernorsOfIndiana\n",
            "http://dbpedia.org/class/yago/WikicatIndianaLawyers\n",
            "http://dbpedia.org/class/yago/WikicatPeopleFromWayneCounty,Indiana\n",
            "http://dbpedia.org/class/yago/WikicatPeopleOfIndianaInTheAmericanCivilWar\n",
            "http://dbpedia.org/class/yago/WikicatUnitedStatesSenatorsFromIndiana\n",
            "http://dbpedia.org/class/yago/WikicatLieutenantGovernorsOfIndiana\n",
            "http://dbpedia.org/class/yago/WikicatMiamiUniversityAlumni\n",
            "http://dbpedia.org/class/yago/WikicatStrokeSurvivors\n",
            "http://dbpedia.org/class/yago/WikicatPeopleFromReno,Nevada\n",
            "http://dbpedia.org/class/yago/WikicatDistrictAttorneys\n",
            "http://dbpedia.org/class/yago/WikicatUnitedStatesSenatorsFromNevada\n",
            "http://dbpedia.org/class/yago/WikicatRenoHighSchoolAlumni\n",
            "http://dbpedia.org/class/yago/DistrictAttorney110019072\n",
            "http://dbpedia.org/class/yago/Instrumentality103575240\n",
            "http://dbpedia.org/class/yago/Medium106254669\n",
            "http://dbpedia.org/class/yago/Wikicat2004Singles\n",
            "http://dbpedia.org/class/yago/WikicatNumber-oneSinglesInBelgium\n",
            "http://dbpedia.org/class/yago/WikicatUKDanceSinglesChartNumber-oneSingles\n",
            "http://dbpedia.org/class/yago/WikicatAmericanLeagueHomeRunChampions\n",
            "http://dbpedia.org/class/yago/WikicatAmericanLeagueRBIChampions\n",
            "http://dbpedia.org/class/yago/WikicatIndianapolisIndiansPlayers\n",
            "http://dbpedia.org/class/yago/WikicatKansasCityAthleticsPlayers\n",
            "http://dbpedia.org/class/yago/WikicatKansasCityRoyalsCoaches\n",
            "http://dbpedia.org/class/yago/WikicatPittsburghPiratesPlayers\n",
            "http://dbpedia.org/class/yago/WikicatCedarRapidsIndiansPlayers\n",
            "http://dbpedia.org/class/yago/WikicatChicagoWhiteSoxPlayers\n",
            "http://dbpedia.org/class/yago/WikicatClevelandIndiansPlayers\n",
            "http://dbpedia.org/class/yago/WikicatDaytonaBeachIslandersPlayers\n",
            "http://dbpedia.org/class/yago/WikicatDetroitTigersPlayers\n",
            "http://dbpedia.org/class/yago/WikicatLosAngelesDodgersPlayers\n",
            "http://dbpedia.org/class/yago/WikicatReadingIndiansPlayers\n",
            "http://dbpedia.org/class/yago/WikicatSanDiegoPadres(minorLeague)Players\n",
            "http://dbpedia.org/class/yago/WikicatNewYorkYankeesPlayers\n",
            "http://dbpedia.org/class/yago/WikicatSpartanburgPeachesPlayers\n",
            "http://dbpedia.org/class/yago/WikicatAmericanArtists\n",
            "http://dbpedia.org/class/yago/WikicatAmericanBlacksmiths\n",
            "http://dbpedia.org/class/yago/WikicatAmericanLinguists\n",
            "http://dbpedia.org/class/yago/WikicatAmericanPeopleWithDisabilities\n",
            "http://dbpedia.org/class/yago/WikicatAmericanSilversmiths\n",
            "http://dbpedia.org/class/yago/WikicatInventorsOfWritingSystems\n",
            "http://dbpedia.org/class/yago/WikicatPeopleFromTennesseeInTheWarOf1812\n",
            "http://dbpedia.org/class/yago/WikicatPeopleOfTheCreekWar\n",
            "http://dbpedia.org/class/yago/WikicatSilversmiths\n",
            "http://dbpedia.org/class/yago/Blacksmith109859152\n",
            "http://dbpedia.org/class/yago/JewelryMaker110221956\n",
            "http://dbpedia.org/class/yago/Linguist110264437\n",
            "http://dbpedia.org/class/yago/Silversmith110598749\n",
            "http://dbpedia.org/class/yago/Smith110614629\n",
            "http://dbpedia.org/class/yago/WikicatPeopleFromWayneCounty,Illinois\n",
            "http://dbpedia.org/class/yago/WikicatPeopleFromBoise,Idaho\n",
            "http://dbpedia.org/class/yago/WikicatPeopleFromKansas\n",
            "http://dbpedia.org/class/yago/WikicatBaseballPlayersFromAlabama\n",
            "http://dbpedia.org/class/yago/WikicatNationalLeagueHomeRunChampions\n",
            "http://dbpedia.org/class/yago/WikicatNationalLeagueRBIChampions\n",
            "http://dbpedia.org/class/yago/WikicatOaklandAthleticsPlayers\n",
            "http://dbpedia.org/class/yago/WikicatHungarianClassicalMusicians\n",
            "http://dbpedia.org/class/yago/WikicatHungarianEmigrantsToTheUnitedKingdom\n",
            "http://dbpedia.org/class/yago/WikicatHungarianMusicians\n",
            "http://dbpedia.org/class/yago/WikicatHungarianPeople\n",
            "http://dbpedia.org/class/yago/WikicatHungarianPianists\n",
            "http://dbpedia.org/class/yago/WikicatHungarianRefugees\n",
            "http://dbpedia.org/class/yago/WikicatJewishClassicalMusicians\n",
            "http://dbpedia.org/class/yago/WikicatJewishRefugees\n",
            "http://dbpedia.org/class/yago/WikicatPeopleWhoEmigratedToEscapeNazism\n",
            "http://dbpedia.org/class/yago/WikicatBritishMusicians\n",
            "http://dbpedia.org/class/yago/WikicatBritishPeopleOfHungarianDescent\n",
            "http://dbpedia.org/class/yago/WikicatClassicalPianists\n",
            "http://dbpedia.org/class/yago/WikicatCommandersOfTheOrderOfLeopold(Belgium)\n",
            "http://dbpedia.org/class/yago/WikicatDeccaRecordsArtists\n",
            "http://dbpedia.org/class/yago/Citizen109923673\n",
            "http://dbpedia.org/class/yago/Pianist110430665\n",
            "http://dbpedia.org/class/yago/Refugee110516016\n",
            "http://dbpedia.org/class/yago/WikicatNaturalisedCitizensOfTheUnitedKingdom\n",
            "http://dbpedia.org/class/yago/WikicatPeopleFromBuda\n",
            "http://dbpedia.org/class/yago/WikicatPeopleFromBudapest\n",
            "http://dbpedia.org/ontology/Artwork\n",
            "http://dbpedia.org/class/yago/WikicatPeopleFromOutagamieCounty,Wisconsin\n",
            "http://dbpedia.org/class/yago/WikicatLGBTStateLegislatorsInMassachusetts\n",
            "http://dbpedia.org/class/yago/WikicatPeopleFromWorcesterCounty,Massachusetts\n",
            "http://dbpedia.org/class/yago/WikicatBostonUniversityAlumni\n",
            "http://dbpedia.org/class/yago/WikicatLieutenantGovernorsOfMassachusetts\n",
            "http://dbpedia.org/class/yago/WikicatMassachusettsLawyers\n",
            "http://dbpedia.org/class/yago/WikicatBritishSlaveTraders\n",
            "http://dbpedia.org/class/yago/Slaver110610201\n",
            "http://dbpedia.org/class/yago/Victimizer110752719\n",
            "http://dbpedia.org/class/yago/WikicatPeopleEducatedAtChrist'sHospital\n",
            "http://dbpedia.org/class/yago/WikicatItalianExplorers\n",
            "http://dbpedia.org/class/yago/WikicatItalianMissionaries\n",
            "http://dbpedia.org/class/yago/WikicatItalianRomanCatholicPriests\n",
            "http://dbpedia.org/class/yago/WikicatJesuitMissionaries\n",
            "http://dbpedia.org/class/yago/WikicatJesuitScientists\n",
            "http://dbpedia.org/class/yago/WikicatPeopleFromTrentino\n",
            "http://dbpedia.org/class/yago/WikicatPeopleInColonialArizona\n",
            "http://dbpedia.org/class/yago/WikicatPeopleInTheColonialSouthwestOfNorthAmerica\n",
            "http://dbpedia.org/class/yago/WikicatPriestsOfTheSpanishMissionsInCalifornia\n",
            "http://dbpedia.org/class/yago/WikicatChristianMissionariesInMexico\n",
            "http://dbpedia.org/class/yago/WikicatRomanCatholicMissionaries\n",
            "http://dbpedia.org/class/yago/Wikicat17th-centuryItalianPeople\n",
            "http://dbpedia.org/class/yago/Wikicat17th-centuryRomanCatholicPriests\n",
            "http://dbpedia.org/class/yago/Wikicat18th-centuryItalianPeople\n",
            "http://dbpedia.org/class/yago/WikicatExplorersOfTheColonialSouthwestOfThePresentUnitedStates\n",
            "http://dbpedia.org/class/yago/WikicatDeafPoets\n",
            "http://dbpedia.org/class/yago/WikicatPeopleFromConnecticut\n",
            "http://dbpedia.org/class/yago/WikicatGrandeesOfSpain\n",
            "http://dbpedia.org/class/yago/WikicatPeopleFromSafor\n",
            "http://dbpedia.org/class/yago/WikicatDukesOfGandía\n",
            "http://dbpedia.org/class/yago/WikicatDukesOfSpain\n",
            "http://dbpedia.org/class/yago/WikicatValencianSaints\n",
            "http://dbpedia.org/class/yago/WikicatViceroysOfCatalonia\n",
            "http://dbpedia.org/class/yago/WikicatRenaissanceComposers\n",
            "http://dbpedia.org/class/yago/Grandee110142290\n",
            "http://dbpedia.org/class/yago/Viceroy110751785\n",
            "http://dbpedia.org/class/yago/Wikicat16th-centuryChristianSaints\n",
            "http://dbpedia.org/class/yago/Wikicat16th-centuryRomanCatholicPriests\n",
            "http://dbpedia.org/class/yago/WikicatSpanishRomanCatholicPriests\n",
            "http://dbpedia.org/class/yago/WikicatSpanishRomanCatholicSaints\n",
            "http://dbpedia.org/class/yago/WikicatSpanishSaints\n",
            "http://dbpedia.org/class/yago/WikicatSuperiorsGeneralOfTheSocietyOfJesus\n",
            "http://dbpedia.org/class/yago/WikicatAmericanTelevisionSportsAnnouncers\n",
            "http://dbpedia.org/class/yago/WikicatPeopleFromPeoria,Illinois\n",
            "http://dbpedia.org/class/yago/WikicatBoxingCommentators\n",
            "http://dbpedia.org/class/yago/WikicatCollegeBasketballAnnouncersInTheUnitedStates\n",
            "http://dbpedia.org/class/yago/WikicatCollegeFootballAnnouncers\n",
            "http://dbpedia.org/class/yago/Announcer109795124\n",
            "http://dbpedia.org/class/yago/Broadcaster109875786\n",
            "http://dbpedia.org/class/yago/SportsAnnouncer110639637\n",
            "http://dbpedia.org/class/yago/WikicatJudeanPeople\n",
            "http://dbpedia.org/class/yago/WikicatPeopleFromNazareth\n",
            "http://dbpedia.org/class/yago/WikicatProphetsInChristianity\n",
            "http://dbpedia.org/class/yago/WikicatProphetsOfIslam\n",
            "http://dbpedia.org/class/yago/WikicatChristianReligiousLeaders\n",
            "http://dbpedia.org/class/yago/WikicatDeifiedPeople\n",
            "http://dbpedia.org/class/yago/WikicatWoodworkers\n",
            "http://dbpedia.org/class/yago/Woodworker110790192\n",
            "http://dbpedia.org/class/yago/WikicatPubliclyExecutedPeople\n",
            "http://dbpedia.org/class/yago/WikicatSelf-declaredMessiahs\n",
            "http://dbpedia.org/class/yago/Craftsman109974648\n",
            "http://dbpedia.org/class/yago/Messiah109537660\n",
            "http://dbpedia.org/class/yago/Savior110553805\n",
            "http://dbpedia.org/class/yago/WikicatPalestinianPeople\n",
            "http://dbpedia.org/class/yago/WikicatPeopleFromBethlehem\n",
            "http://dbpedia.org/class/yago/WikicatAmericanPoliticalBossesFromTexas\n",
            "http://dbpedia.org/class/yago/WikicatGovernorsOfTexas\n",
            "http://dbpedia.org/class/yago/PartyBoss110403162\n",
            "http://dbpedia.org/class/yago/WikicatPeopleFromBrazoriaCounty,Texas\n",
            "http://dbpedia.org/class/yago/WikicatPeopleFromCherokeeCounty,Texas\n",
            "http://dbpedia.org/class/yago/WikicatIrishEscapees\n",
            "http://dbpedia.org/class/yago/WikicatIrishPoets\n",
            "http://dbpedia.org/class/yago/WikicatIrishSoldiersInTheBritishArmy\n",
            "http://dbpedia.org/class/yago/WikicatIrishWriters\n",
            "http://dbpedia.org/class/yago/WikicatConvictsTransportedToWesternAustralia\n",
            "http://dbpedia.org/class/yago/Convict109962966\n",
            "http://dbpedia.org/class/yago/Escapee110062905\n",
            "http://dbpedia.org/class/yago/Fugitive110114897\n",
            "http://dbpedia.org/class/yago/Wikicat10thRoyalHussarsSoldiers\n",
            "http://dbpedia.org/class/yago/Wikicat19th-centuryIrishPeople\n",
            "http://dbpedia.org/class/yago/WikicatEscapeesFromBritishDetention\n",
            "http://dbpedia.org/class/yago/WikicatPeopleFromDrogheda\n",
            "http://dbpedia.org/class/yago/WikicatAmericanFantasyFilms\n",
            "http://dbpedia.org/class/yago/WikicatKingKongFilms\n",
            "http://dbpedia.org/class/yago/WikicatBlack-and-whiteFilms\n",
            "http://dbpedia.org/class/yago/WikicatDinosaurFilms\n",
            "http://dbpedia.org/class/yago/WikicatUnitedStatesNationalFilmRegistryFilms\n",
            "http://dbpedia.org/class/yago/WikicatRKOPicturesFilms\n",
            "http://dbpedia.org/class/yago/Movie106613686\n",
            "http://dbpedia.org/class/yago/Product104007894\n",
            "http://dbpedia.org/class/yago/Wikicat1940sAdventureFilms\n",
            "http://dbpedia.org/class/yago/WikicatFilmsAboutFilmmaking\n",
            "http://dbpedia.org/class/yago/WikicatFilmsDirectedByErnestB.Schoedsack\n",
            "http://dbpedia.org/class/yago/WikicatFilmsDirectedByMerianC.Cooper\n",
            "http://dbpedia.org/class/yago/WikicatStop-motionAnimatedFilms\n",
            "http://dbpedia.org/class/yago/WikicatPeopleFromSevnica\n",
            "http://dbpedia.org/class/yago/WikicatSlovenianExpatriatesInTheUnitedStates\n",
            "http://dbpedia.org/class/yago/WikicatSlovenianFemaleModels\n",
            "http://dbpedia.org/class/yago/WikicatSlovenianPeople\n",
            "http://dbpedia.org/class/yago/Model110324560\n",
            "http://dbpedia.org/class/yago/WikicatAgnostics\n",
            "http://dbpedia.org/class/yago/WikicatPeopleFromSalonicaVilayet\n",
            "http://dbpedia.org/class/yago/WikicatPeopleFromThessaloniki\n",
            "http://dbpedia.org/class/yago/WikicatPeopleOfTheDersimRebellion\n",
            "http://dbpedia.org/class/yago/WikicatPresidentsOfTurkey\n",
            "http://dbpedia.org/class/yago/WikicatPrimeMinistersOfTurkey\n",
            "http://dbpedia.org/class/yago/WikicatDeputiesOfAnkara\n",
            "http://dbpedia.org/class/yago/WikicatDeputyPrimeMinistersOfTurkey\n",
            "http://dbpedia.org/class/yago/WikicatLeadersOfTheRepublicanPeople'sParty(Turkey)\n",
            "http://dbpedia.org/class/yago/WikicatMarshals\n",
            "http://dbpedia.org/class/yago/WikicatMonastirMilitaryHighSchoolAlumni\n",
            "http://dbpedia.org/class/yago/Agnostic109779124\n",
            "http://dbpedia.org/class/yago/Pasha110403768\n",
            "http://dbpedia.org/class/yago/WikicatFieldMarshalsOfTurkey\n",
            "http://dbpedia.org/class/yago/WikicatNationalists\n",
            "http://dbpedia.org/class/yago/WikicatOttomanGenerals\n",
            "http://dbpedia.org/class/yago/WikicatOttomanMilitaryAcademyAlumni\n",
            "http://dbpedia.org/class/yago/WikicatOttomanMilitaryCollegeAlumni\n",
            "http://dbpedia.org/class/yago/WikicatOttomanPeopleOfWorldWarI\n",
            "http://dbpedia.org/class/yago/WikicatPashas\n",
            "http://dbpedia.org/class/yago/WikicatSpeakersOfTheParliamentOfTurkey\n",
            "http://dbpedia.org/class/yago/WikicatTurkishNationalists\n",
            "http://dbpedia.org/class/yago/WikicatTurkishPeople\n",
            "http://dbpedia.org/class/yago/WikicatTurkishPoliticians\n",
            "http://dbpedia.org/class/yago/WikicatTurkishRevolutionaries\n",
            "http://dbpedia.org/class/yago/WikicatAmericanPeopleOfGerman-JewishDescent\n",
            "http://dbpedia.org/class/yago/WikicatJewishAmericanMayors\n",
            "http://dbpedia.org/class/yago/WikicatJewishAmericanPoliticians\n",
            "http://dbpedia.org/class/yago/WikicatBrooklynCollegeAlumni\n",
            "http://dbpedia.org/class/yago/WikicatWomenMayorsOfPlacesInTheUnitedStates\n",
            "http://dbpedia.org/class/yago/WikicatWomenStateLegislatorsInOregon\n",
            "http://dbpedia.org/class/yago/WikicatMayorsOfPortland,Oregon\n",
            "http://dbpedia.org/class/yago/WikicatGermanEmigrantsToTheUnitedStates\n",
            "http://dbpedia.org/class/yago/WikicatSpeakersOfTheOregonHouseOfRepresentatives\n",
            "http://dbpedia.org/class/yago/WikicatIronMeteorites\n",
            "http://dbpedia.org/class/yago/WikicatMeteorites\n",
            "http://dbpedia.org/class/yago/WikicatMeteoritesInCulture\n",
            "http://dbpedia.org/class/yago/WikicatSacredRocks\n",
            "http://dbpedia.org/class/yago/ExtraterrestrialObject109277686\n",
            "http://dbpedia.org/class/yago/Meteorite109352849\n",
            "http://dbpedia.org/class/yago/Meteoroid109353109\n",
            "http://dbpedia.org/class/yago/NaturalObject100019128\n",
            "http://dbpedia.org/class/yago/Rock109416076\n",
            "http://dbpedia.org/class/yago/WikicatAmericanLong-distanceRunners\n",
            "http://dbpedia.org/ontology/Single\n",
            "http://dbpedia.org/class/yago/WikicatPeopleFromOregon\n",
            "http://dbpedia.org/class/yago/WikicatPeopleFromWheelerCounty,Oregon\n",
            "http://dbpedia.org/class/yago/WikicatShoeDesigners\n",
            "http://dbpedia.org/class/yago/Marathoner110292969\n",
            "http://dbpedia.org/class/yago/Runner110542888\n",
            "http://dbpedia.org/class/yago/WikicatNike,Inc.People\n",
            "http://dbpedia.org/class/yago/WikicatNorthMedfordHighSchoolAlumni\n",
            "http://dbpedia.org/ontology/Lighthouse\n",
            "http://dbpedia.org/ontology/Tower\n",
            "http://www.wikidata.org/entity/Q12518\n",
            "http://www.wikidata.org/entity/Q39715\n",
            "http://umbel.org/umbel/rc/Building\n",
            "http://umbel.org/umbel/rc/Lighhouse\n",
            "http://dbpedia.org/class/yago/Beacon102814860\n",
            "http://dbpedia.org/class/yago/Tower104460130\n",
            "http://dbpedia.org/class/yago/WikicatTowersCompletedIn1828\n",
            "http://dbpedia.org/class/yago/WikicatTowersCompletedIn1874\n",
            "http://dbpedia.org/ontology/CollegeCoach\n",
            "http://dbpedia.org/ontology/Coach\n",
            "http://dbpedia.org/class/yago/WikicatHighSchoolFootballCoachesInTheUnitedStates\n",
            "http://dbpedia.org/class/yago/WikicatKansasJayhawksFootballCoaches\n",
            "http://dbpedia.org/class/yago/WikicatKentStateGoldenFlashesFootballCoaches\n",
            "http://dbpedia.org/class/yago/WikicatPeopleFromMassillon,Ohio\n",
            "http://dbpedia.org/class/yago/WikicatColoradoBuffaloesFootballCoaches\n",
            "http://dbpedia.org/class/yago/WikicatWashingtonHuskiesFootballCoaches\n",
            "http://umbel.org/umbel/rc/Manager\n",
            "http://dbpedia.org/class/yago/WikicatMiamiHurricanesFootballPlayers\n",
            "http://dbpedia.org/class/yago/FootballCoach110101202\n",
            "http://dbpedia.org/class/yago/WikicatPeopleFromKirkland,Washington\n",
            "http://dbpedia.org/class/yago/WikicatMaleActorsFromMexicoCity\n",
            "http://dbpedia.org/class/yago/WikicatMexicanComedians\n",
            "http://dbpedia.org/class/yago/WikicatMexicanFilmActors\n",
            "http://dbpedia.org/class/yago/WikicatMexicanMaleComedians\n",
            "http://dbpedia.org/class/yago/WikicatMexicanMaleFilmActors\n",
            "http://dbpedia.org/class/yago/WikicatMexicanMaleSingers\n",
            "http://dbpedia.org/class/yago/WikicatMexicanPeopleOfItalianDescent\n",
            "http://dbpedia.org/class/yago/WikicatMexicanTelevisionActors\n",
            "http://dbpedia.org/class/yago/WikicatMexicanVoiceActors\n",
            "http://dbpedia.org/class/yago/WikicatSingersFromMexicoCity\n",
            "http://dbpedia.org/class/yago/WikicatUnitedStatesMarineCorpsReservists\n",
            "http://dbpedia.org/class/yago/WikicatUnitedStatesNavalAviators\n",
            "http://umbel.org/umbel/rc/BaseballPlayer\n",
            "http://dbpedia.org/class/yago/WikicatSanDiegoPadresManagers\n",
            "http://dbpedia.org/class/yago/Reservist110523341\n",
            "http://dbpedia.org/class/yago/WikicatBaltimoreColtsPlayers\n",
            "http://dbpedia.org/ontology/GridironFootballPlayer\n",
            "http://www.wikidata.org/entity/Q14128148\n",
            "http://dbpedia.org/class/yago/WikicatPeopleFromNashCounty,NorthCarolina\n",
            "http://dbpedia.org/ontology/AmericanFootballPlayer\n",
            "http://dbpedia.org/class/yago/WikicatCarolinaPanthersOwners\n",
            "http://dbpedia.org/class/yago/WikicatWoffordTerriersFootballPlayers\n",
            "http://umbel.org/umbel/rc/FootballPlayer_American\n",
            "http://dbpedia.org/class/yago/WikicatPeopleFromTheKingdomOfBohemia\n",
            "http://dbpedia.org/class/yago/WikicatCzechJournalists\n",
            "http://dbpedia.org/class/yago/WikicatCzechPoets\n",
            "http://dbpedia.org/class/yago/WikicatCzechPoliticians\n",
            "http://dbpedia.org/class/yago/WikicatCzechSatirists\n",
            "http://dbpedia.org/class/yago/WikicatCzechTranslators\n",
            "http://dbpedia.org/class/yago/WikicatCzechWriters\n",
            "http://dbpedia.org/class/yago/WikicatRomanCatholicWriters\n",
            "http://dbpedia.org/class/yago/WikicatSatirists\n",
            "http://dbpedia.org/class/yago/Satirist110552742\n",
            "http://dbpedia.org/class/yago/WikicatPeopleFromHavlíčkůvBrodDistrict\n",
            "http://dbpedia.org/class/yago/WikicatArizonaWildcatsWomen'sGolfers\n",
            "http://dbpedia.org/ontology/GolfPlayer\n",
            "http://www.wikidata.org/entity/Q13156709\n",
            "http://dbpedia.org/class/yago/WikicatLPGATourGolfers\n",
            "http://dbpedia.org/class/yago/WikicatMexicanFemaleGolfers\n",
            "http://dbpedia.org/class/yago/WikicatMexicanGolfers\n",
            "http://dbpedia.org/class/yago/WikicatFemaleGolfers\n",
            "http://dbpedia.org/class/yago/WikicatAngelicApparitions\n",
            "http://dbpedia.org/class/yago/WikicatCatholicHolyDays\n",
            "http://dbpedia.org/class/yago/WikicatChristianFestivalsAndHolyDays\n",
            "http://dbpedia.org/class/yago/WikicatSeptemberObservances\n",
            "http://dbpedia.org/class/yago/Apparition109547111\n",
            "http://dbpedia.org/class/yago/CalendarDay115157041\n",
            "http://dbpedia.org/class/yago/Day115157225\n",
            "http://dbpedia.org/class/yago/Festival115162388\n",
            "http://dbpedia.org/class/yago/FundamentalQuantity113575869\n",
            "http://dbpedia.org/class/yago/Holiday115183428\n",
            "http://dbpedia.org/class/yago/ReligiousHoliday115183802\n",
            "http://dbpedia.org/class/yago/Spirit109545324\n",
            "http://dbpedia.org/class/yago/TimePeriod115113229\n",
            "http://dbpedia.org/class/yago/WikicatGovernorsOfOklahoma\n",
            "http://dbpedia.org/class/yago/WikicatUnitedStatesSenatorsFromOklahoma\n",
            "http://dbpedia.org/class/yago/WikicatOklahomaBaptistUniversityAlumni\n",
            "http://dbpedia.org/class/yago/WikicatPeopleFromAda,Oklahoma\n",
            "http://dbpedia.org/class/yago/WikicatVicePresidentsOfMexico\n",
            "http://dbpedia.org/class/yago/WikicatMexicanPhysicians\n",
            "http://dbpedia.org/class/yago/WikicatJoyfulMysteries\n",
            "http://dbpedia.org/class/yago/WikicatReligiousFestivals\n",
            "http://dbpedia.org/class/yago/CognitiveState105669934\n",
            "http://dbpedia.org/class/yago/Condition113920835\n",
            "http://dbpedia.org/class/yago/Confusion105683582\n",
            "http://dbpedia.org/class/yago/Mystery105685538\n",
            "http://dbpedia.org/class/yago/Perplexity105685363\n",
            "http://dbpedia.org/class/yago/PsychologicalState114373582\n",
            "http://dbpedia.org/class/yago/ReligiousFestival115162210\n",
            "http://dbpedia.org/class/yago/State100024720\n",
            "http://dbpedia.org/class/yago/WikicatJapaneseGenerals\n",
            "http://dbpedia.org/class/yago/WikicatJapanesePrinces\n",
            "http://dbpedia.org/class/yago/WikicatPeopleFromTokyo\n",
            "http://dbpedia.org/ontology/ChristianBishop\n",
            "http://purl.org/ontology/bibo/Book\n",
            "http://schema.org/Book\n",
            "http://schema.org/CreativeWork\n",
            "http://dbpedia.org/ontology/Work\n",
            "http://www.wikidata.org/entity/Q234460\n",
            "http://www.wikidata.org/entity/Q386724\n",
            "http://www.wikidata.org/entity/Q571\n",
            "http://dbpedia.org/ontology/Book\n",
            "http://dbpedia.org/ontology/WrittenWork\n",
            "http://dbpedia.org/class/yago/WikicatBooksByErnstBloch\n",
            "http://dbpedia.org/class/yago/Work104599396\n",
            "http://dbpedia.org/class/yago/WikicatMarxistWorks\n",
            "http://dbpedia.org/class/yago/Book106410904\n",
            "http://dbpedia.org/class/yago/EndProduct103287178\n",
            "http://dbpedia.org/class/yago/Oeuvre103841417\n",
            "http://dbpedia.org/class/yago/Publication106589574\n",
            "http://dbpedia.org/class/yago/Wikicat1954Books\n",
            "http://dbpedia.org/class/yago/Wikicat1955Books\n",
            "http://dbpedia.org/class/yago/Wikicat1959Books\n",
            "http://dbpedia.org/class/yago/WikicatAmericanPostmasters\n",
            "http://dbpedia.org/class/yago/WikicatAssassinatedAmericanPeople\n",
            "http://dbpedia.org/class/yago/WikicatAssassinatedAmericanPoliticians\n",
            "http://dbpedia.org/class/yago/WikicatAssassinatedUnitedStatesPresidents\n",
            "http://dbpedia.org/class/yago/WikicatHumanists\n",
            "http://dbpedia.org/class/yago/WikicatIllinoisLawyers\n",
            "http://dbpedia.org/class/yago/WikicatPeopleFromLaRueCounty,Kentucky\n",
            "http://dbpedia.org/class/yago/WikicatPeopleFromMaconCounty,Illinois\n",
            "http://dbpedia.org/class/yago/WikicatPeopleFromSpencerCounty,Indiana\n",
            "http://dbpedia.org/class/yago/WikicatPeopleFromSpringfield,Illinois\n",
            "http://dbpedia.org/class/yago/WikicatPeopleMurderedInWashington,D.C.\n",
            "http://dbpedia.org/class/yago/WikicatPresidentsOfTheUnitedStates\n",
            "http://dbpedia.org/class/yago/WikicatRepublicanPartyPresidentsOfTheUnitedStates\n",
            "http://dbpedia.org/class/yago/WikicatSmallpoxSurvivors\n",
            "http://dbpedia.org/class/yago/Employer110054657\n",
            "http://dbpedia.org/class/yago/Master110298647\n",
            "http://dbpedia.org/class/yago/Postmaster110459575\n",
            "http://dbpedia.org/class/yago/WikicatPeopleFromColesCounty,Illinois\n",
            "http://dbpedia.org/class/yago/WikicatPeopleFromKentucky\n",
            "http://dbpedia.org/class/yago/WikicatPeopleFromNymburkDistrict\n",
            "http://dbpedia.org/class/yago/WikicatPolishRomanCatholicSaints\n",
            "http://dbpedia.org/class/yago/WikicatPolishSaints\n",
            "http://dbpedia.org/class/yago/WikicatBishopsOfPrague\n",
            "http://dbpedia.org/class/yago/WikicatChristianMartyrsOfTheMiddleAges\n",
            "http://dbpedia.org/class/yago/WikicatCzechBishops\n",
            "http://dbpedia.org/class/yago/WikicatCzechRomanCatholicBishops\n",
            "http://dbpedia.org/class/yago/Wikicat10th-centuryBishops\n",
            "http://dbpedia.org/class/yago/Wikicat10th-centuryChristianMartyrs\n",
            "http://dbpedia.org/class/yago/Wikicat10th-centuryChristianSaints\n",
            "http://dbpedia.org/class/yago/Wikicat10th-centuryCzechPeople\n",
            "http://dbpedia.org/class/yago/WikicatPeopleFromElbląg\n",
            "http://dbpedia.org/class/yago/WikicatPeopleFromGdańsk\n",
            "http://dbpedia.org/class/yago/WikicatPeopleFromGniezno\n",
            "http://dbpedia.org/class/yago/WikicatPeopleFromSunningdale\n",
            "http://dbpedia.org/class/yago/WikicatPeopleFromTorquay\n",
            "http://dbpedia.org/class/yago/WikicatPseudonymousWriters\n",
            "http://dbpedia.org/class/yago/WikicatBritishCrimeFictionWriters\n",
            "http://dbpedia.org/class/yago/WikicatBritishShortStoryWriters\n",
            "http://dbpedia.org/class/yago/WikicatBritishWomenInWorldWarI\n",
            "http://dbpedia.org/class/yago/WikicatCompaniesOfTheUnitedKingdom\n",
            "http://dbpedia.org/class/yago/WikicatCrimeFictionWriters\n",
            "http://dbpedia.org/class/yago/WikicatDetectiveWriters\n",
            "http://dbpedia.org/class/yago/WikicatWomenMysteryWriters\n",
            "http://dbpedia.org/class/yago/WikicatWomenShortStoryWriters\n",
            "http://dbpedia.org/class/yago/WikicatWorldWarINurses\n",
            "http://dbpedia.org/class/yago/WikicatWritersOfHistoricalMysteries\n",
            "http://dbpedia.org/class/yago/WikicatMysteryWriters\n",
            "http://dbpedia.org/class/yago/Company108058098\n",
            "http://dbpedia.org/class/yago/Institution108053576\n",
            "http://dbpedia.org/class/yago/Wikicat20th-centuryBritishNovelists\n",
            "http://dbpedia.org/class/yago/Wikicat20th-centuryWomenWriters\n",
            "http://dbpedia.org/class/yago/WikicatEnglishCrimeFictionWriters\n",
            "http://dbpedia.org/class/yago/WikicatEnglishMysteryWriters\n",
            "http://dbpedia.org/class/yago/WikicatEnglishShortStoryWriters\n",
            "http://dbpedia.org/class/yago/WikicatEnglishWomen\n",
            "http://dbpedia.org/class/yago/WikicatEnglishWomenWriters\n",
            "http://dbpedia.org/class/yago/WikicatFellowsOfTheRoyalSocietyOfLiterature\n",
            "http://dbpedia.org/class/yago/WikicatFemaleWartimeNurses\n",
            "http://dbpedia.org/class/yago/WikicatPeopleFromCholsey\n",
            "http://dbpedia.org/class/yago/WikicatAcademicsOfTheUniversityOfCambridge\n",
            "http://dbpedia.org/class/yago/WikicatAcademicsOfTheUniversityOfManchester\n",
            "http://dbpedia.org/class/yago/WikicatAcademicsOfTheUniversityOfManchesterInstituteOfScienceAndTechnology\n",
            "http://dbpedia.org/class/yago/WikicatAlumniOfKing'sCollege,Cambridge\n",
            "http://dbpedia.org/class/yago/WikicatArtificialIntelligenceResearchers\n",
            "http://dbpedia.org/class/yago/WikicatAtheistPhilosophers\n",
            "http://dbpedia.org/class/yago/WikicatLGBTPeople\n",
            "http://dbpedia.org/class/yago/WikicatLGBTPeopleFromEngland\n",
            "http://dbpedia.org/class/yago/WikicatLGBTPeopleFromTheUnitedKingdom\n",
            "http://dbpedia.org/class/yago/WikicatLGBTScientists\n",
            "http://dbpedia.org/class/yago/WikicatLGBTScientistsFromTheUnitedKingdom\n",
            "http://dbpedia.org/class/yago/WikicatPeopleFromMaidaVale\n",
            "http://dbpedia.org/class/yago/WikicatPeopleFromWilmslow\n",
            "http://dbpedia.org/class/yago/WikicatPeopleProsecutedUnderAnti-homosexualityLaws\n",
            "http://dbpedia.org/class/yago/WikicatPhilosophersOfMind\n",
            "http://dbpedia.org/class/yago/WikicatPhilosophersWhoCommittedSuicide\n",
            "http://dbpedia.org/class/yago/WikicatProgrammersWhoCommittedSuicide\n",
            "http://dbpedia.org/class/yago/WikicatBayesianStatisticians\n",
            "http://dbpedia.org/class/yago/WikicatBritishAtheists\n",
            "http://dbpedia.org/class/yago/WikicatBritishComputerScientists\n",
            "http://dbpedia.org/class/yago/WikicatBritishCryptographers\n",
            "http://dbpedia.org/class/yago/WikicatBritishInformationTheorists\n",
            "http://dbpedia.org/class/yago/WikicatBritishLogicians\n",
            "http://dbpedia.org/class/yago/WikicatBritishLong-distanceRunners\n",
            "http://dbpedia.org/class/yago/WikicatBritishMathematicians\n",
            "http://dbpedia.org/class/yago/WikicatCognitiveScientists\n",
            "http://dbpedia.org/class/yago/WikicatComputabilityTheorists\n",
            "http://dbpedia.org/class/yago/WikicatComputerScientists\n",
            "http://dbpedia.org/class/yago/WikicatLogicians\n",
            "http://dbpedia.org/class/yago/WikicatMathematiciansWhoCommittedSuicide\n",
            "http://dbpedia.org/class/yago/CognitiveScientist109934647\n",
            "http://dbpedia.org/class/yago/Cryptanalyst109981540\n",
            "http://dbpedia.org/class/yago/Decoder109995398\n",
            "http://dbpedia.org/class/yago/GayMan110122645\n",
            "http://dbpedia.org/class/yago/Homosexual110182913\n",
            "http://dbpedia.org/class/yago/Logician110269785\n",
            "http://dbpedia.org/class/yago/ResearchWorker110523076\n",
            "http://dbpedia.org/class/yago/Statistician110653238\n",
            "http://dbpedia.org/class/yago/Wikicat20th-centuryMathematicians\n",
            "http://dbpedia.org/class/yago/WikicatEnglishAtheists\n",
            "http://dbpedia.org/class/yago/WikicatEnglishAthletes\n",
            "http://dbpedia.org/class/yago/WikicatEnglishComputerScientists\n",
            "http://dbpedia.org/class/yago/WikicatEnglishInventors\n",
            "http://dbpedia.org/class/yago/WikicatEnglishLogicians\n",
            "http://dbpedia.org/class/yago/WikicatEnglishMathematicians\n",
            "http://dbpedia.org/class/yago/WikicatEnglishPhilosophers\n",
            "http://dbpedia.org/class/yago/WikicatGayMen\n",
            "http://dbpedia.org/class/yago/WikicatGovernmentCommunicationsHeadquartersPeople\n",
            "http://dbpedia.org/class/yago/WikicatPeopleAssociatedWithBletchleyPark\n",
            "http://dbpedia.org/class/yago/WikicatPeopleAssociatedWithComputerSecurity\n",
            "http://dbpedia.org/class/yago/WikicatPeopleEducatedAtSherborneSchool\n",
            "http://dbpedia.org/class/yago/WikicatTheoreticalComputerScientists\n",
            "http://dbpedia.org/class/yago/WikicatAmericanAgnostics\n",
            "http://dbpedia.org/class/yago/WikicatAmericanPeopleOfSwiss-JewishDescent\n",
            "http://dbpedia.org/class/yago/WikicatAmericanPhilosophers\n",
            "http://dbpedia.org/class/yago/WikicatAmericanPhysicists\n",
            "http://dbpedia.org/class/yago/WikicatAmericanSocialists\n",
            "http://dbpedia.org/class/yago/WikicatAustrianPeople\n",
            "http://dbpedia.org/class/yago/WikicatJewishAgnostics\n",
            "http://dbpedia.org/class/yago/WikicatJewishAmericanScientists\n",
            "http://dbpedia.org/class/yago/WikicatJewishAmericanWriters\n",
            "http://dbpedia.org/class/yago/WikicatJewishPhilosophers\n",
            "http://dbpedia.org/class/yago/WikicatJewishPhysicists\n",
            "http://dbpedia.org/class/yago/WikicatJewishScientists\n",
            "http://dbpedia.org/class/yago/WikicatPeopleFromMunich\n",
            "http://dbpedia.org/class/yago/WikicatPeopleFromTheKingdomOfWürttemberg\n",
            "http://dbpedia.org/class/yago/WikicatPeopleFromUlm\n",
            "http://dbpedia.org/class/yago/WikicatPeopleFromWinterthur\n",
            "http://dbpedia.org/class/yago/WikicatPeopleFromZürich\n",
            "http://dbpedia.org/class/yago/WikicatPeopleWithAcquiredAustria-HungaryCitizenship\n",
            "http://dbpedia.org/class/yago/WikicatPeopleWithAcquiredSwissCitizenship\n",
            "http://dbpedia.org/class/yago/WikicatPhilosophersOfScience\n",
            "http://dbpedia.org/class/yago/WikicatCosmologists\n",
            "http://dbpedia.org/class/yago/WikicatETHZurichAlumni\n",
            "http://dbpedia.org/class/yago/WikicatRefugees\n",
            "http://dbpedia.org/class/yago/WikicatScienceWriters\n",
            "http://dbpedia.org/class/yago/Cosmologist109819667\n",
            "http://dbpedia.org/class/yago/DisplacedPerson110017890\n",
            "http://dbpedia.org/class/yago/Examiner110068234\n",
            "http://dbpedia.org/class/yago/Inquirer110207831\n",
            "http://dbpedia.org/class/yago/Pantheist110396594\n",
            "http://dbpedia.org/class/yago/Wikicat20th-centuryAmericanWriters\n",
            "http://dbpedia.org/class/yago/Wikicat20th-centuryGermanWriters\n",
            "http://dbpedia.org/class/yago/Wikicat20th-centuryPhysicists\n",
            "http://dbpedia.org/class/yago/WikicatFellowsOfTheGermanAcademyOfSciencesLeopoldina\n",
            "http://dbpedia.org/class/yago/WikicatGermanAcademics\n",
            "http://dbpedia.org/class/yago/WikicatGermanEmigrantsToSwitzerland\n",
            "http://dbpedia.org/class/yago/WikicatGermanInventors\n",
            "http://dbpedia.org/class/yago/WikicatGermanNobelLaureates\n",
            "http://dbpedia.org/class/yago/WikicatGermanPhilosophers\n",
            "http://dbpedia.org/class/yago/WikicatGermanPhysicists\n",
            "http://dbpedia.org/class/yago/WikicatGermanSocialists\n",
            "http://dbpedia.org/class/yago/WikicatGermanWriters\n",
            "http://dbpedia.org/class/yago/WikicatNobelLaureatesInPhysics\n",
            "http://dbpedia.org/class/yago/WikicatNonviolenceAdvocates\n",
            "http://dbpedia.org/class/yago/WikicatPantheists\n",
            "http://dbpedia.org/class/yago/WikicatPatentExaminers\n",
            "http://dbpedia.org/class/yago/WikicatPeopleFromBern\n",
            "http://dbpedia.org/class/yago/WikicatStatelessPeople\n",
            "http://dbpedia.org/class/yago/WikicatSwissAcademics\n",
            "http://dbpedia.org/class/yago/WikicatSwissAgnostics\n",
            "http://dbpedia.org/class/yago/WikicatSwissEmigrantsToTheUnitedStates\n",
            "http://dbpedia.org/class/yago/WikicatSwissNobelLaureates\n",
            "http://dbpedia.org/class/yago/WikicatSwissPeople\n",
            "http://dbpedia.org/class/yago/WikicatSwissPhilosophers\n",
            "http://dbpedia.org/class/yago/WikicatSwissPhysicists\n",
            "http://dbpedia.org/class/yago/WikicatSwissSocialists\n",
            "http://dbpedia.org/class/yago/WikicatSwissWriters\n",
            "http://dbpedia.org/class/yago/WikicatTheoreticalPhysicists\n",
            "http://dbpedia.org/class/yago/WikicatAmericanPeopleOfTheBlackHawkWar\n",
            "http://dbpedia.org/class/yago/WikicatPeopleFromMasonCounty,Kentucky\n",
            "http://dbpedia.org/class/yago/WikicatPeopleOfCaliforniaInTheAmericanCivilWar\n",
            "http://dbpedia.org/class/yago/WikicatPeopleOfTexasInTheAmericanCivilWar\n",
            "http://dbpedia.org/class/yago/WikicatPeopleOfTheUtahWar\n",
            "http://dbpedia.org/class/yago/WikicatTransylvaniaUniversityAlumni\n",
            "http://dbpedia.org/class/yago/WikicatAmericanPeopleOfScotch-IrishDescent\n",
            "http://dbpedia.org/class/yago/WikicatAmericanPeopleOfTheSeminoleWars\n",
            "http://dbpedia.org/class/yago/WikicatAmericanPlanters\n",
            "http://dbpedia.org/class/yago/WikicatAmericanRevolutionaryWarPrisonersOfWarHeldByGreatBritain\n",
            "http://dbpedia.org/class/yago/WikicatGovernorsOfFlorida\n",
            "http://dbpedia.org/class/yago/WikicatGovernorsOfFloridaTerritory\n",
            "http://dbpedia.org/class/yago/WikicatPeopleFromLancasterCounty,SouthCarolina\n",
            "http://dbpedia.org/class/yago/WikicatPeopleFromNashville,Tennessee\n",
            "http://dbpedia.org/class/yago/WikicatPeopleFromSouthCarolina\n",
            "http://dbpedia.org/class/yago/WikicatPresidentsOfTheUnitedStatesWhoWereFreemasons\n",
            "http://dbpedia.org/class/yago/WikicatDemocraticPartyPresidentsOfTheUnitedStates\n",
            "http://dbpedia.org/class/yago/WikicatUnitedStatesSenatorsFromTennessee\n",
            "http://dbpedia.org/class/yago/Farmer110078806\n",
            "http://dbpedia.org/class/yago/Planter110438619\n",
            "http://dbpedia.org/class/yago/WikicatArtsDeities\n",
            "http://dbpedia.org/class/yago/WikicatLGBTThemesInMythology\n",
            "http://dbpedia.org/class/yago/WikicatCharactersInTheIliad\n",
            "http://dbpedia.org/class/yago/WikicatDeitiesInTheIliad\n",
            "http://dbpedia.org/class/yago/Defamation106719579\n",
            "http://dbpedia.org/class/yago/Disparagement106717170\n",
            "http://dbpedia.org/class/yago/Disrespect106714976\n",
            "http://dbpedia.org/class/yago/Name106720964\n",
            "http://dbpedia.org/class/yago/Subject106599788\n",
            "http://dbpedia.org/class/yago/WikicatEpithetsOfApollo\n",
            "http://dbpedia.org/class/yago/WikicatSolarDeities\n",
            "http://dbpedia.org/class/yago/WikicatEarthMysteries\n",
            "http://dbpedia.org/class/yago/WikicatActorsFromCalifornia\n",
            "http://dbpedia.org/class/yago/WikicatAmericanAutobiographers\n",
            "http://dbpedia.org/class/yago/WikicatAmericanBodybuilders\n",
            "http://dbpedia.org/class/yago/WikicatAmericanDirectors\n",
            "http://dbpedia.org/class/yago/WikicatAmericanEducationWriters\n",
            "http://dbpedia.org/class/yago/WikicatAmericanFilmDirectors\n",
            "http://dbpedia.org/class/yago/WikicatAmericanHealthActivists\n",
            "http://dbpedia.org/class/yago/WikicatAmericanInstructionalWriters\n",
            "http://dbpedia.org/class/yago/WikicatAmericanInvestors\n",
            "http://dbpedia.org/class/yago/WikicatAmericanMaleVideoGameActors\n",
            "http://dbpedia.org/class/yago/WikicatAmericanPeopleOfAustrianDescent\n",
            "http://dbpedia.org/class/yago/WikicatAmericanRestaurateurs\n",
            "http://dbpedia.org/class/yago/WikicatAmericanVideoGameActors\n",
            "http://dbpedia.org/class/yago/WikicatAustrianActors\n",
            "http://dbpedia.org/class/yago/WikicatAustrianAutobiographers\n",
            "http://dbpedia.org/class/yago/WikicatAustrianBodybuilders\n",
            "http://dbpedia.org/class/yago/WikicatAustrianEmigrantsToTheUnitedStates\n",
            "http://dbpedia.org/class/yago/WikicatAustrianFilmDirectors\n",
            "http://dbpedia.org/class/yago/WikicatAustrianFilmProducers\n",
            "http://dbpedia.org/class/yago/WikicatAustrianHealthActivists\n",
            "http://dbpedia.org/class/yago/WikicatAustrianInvestors\n",
            "http://dbpedia.org/class/yago/WikicatAustrianMaleFilmActors\n",
            "http://dbpedia.org/class/yago/WikicatAustrianMaleVideoGameActors\n",
            "http://dbpedia.org/class/yago/WikicatAustrianPhilanthropists\n",
            "http://dbpedia.org/class/yago/WikicatAustrianPoliticians\n",
            "http://dbpedia.org/class/yago/WikicatAustrianRestaurateurs\n",
            "http://dbpedia.org/class/yago/WikicatAustrianSoldiers\n",
            "http://dbpedia.org/class/yago/WikicatBodybuilders\n",
            "http://dbpedia.org/class/yago/WikicatDisabilityRightsActivists\n",
            "http://dbpedia.org/class/yago/WikicatWritersFromLosAngeles,California\n",
            "http://dbpedia.org/class/yago/WikicatMaleActorsFromLosAngeles,California\n",
            "http://dbpedia.org/class/yago/Autobiographer109825296\n",
            "http://dbpedia.org/class/yago/Biographer109855433\n",
            "http://dbpedia.org/class/yago/Bodybuilder109862845\n",
            "http://dbpedia.org/class/yago/FilmDirector110088200\n",
            "http://dbpedia.org/class/yago/Investor110216106\n",
            "http://dbpedia.org/class/yago/Wikicat20th-centuryAustrianMaleActors\n",
            "http://dbpedia.org/class/yago/Wikicat20th-centuryAustrianWriters\n",
            "http://dbpedia.org/class/yago/Wikicat21st-centuryAmericanMaleActors\n",
            "http://dbpedia.org/class/yago/Wikicat21st-centuryAmericanWriters\n",
            "http://dbpedia.org/class/yago/WikicatFilmDirectorsFromCalifornia\n",
            "http://dbpedia.org/class/yago/WikicatFilmProducersFromCalifornia\n",
            "http://dbpedia.org/class/yago/WikicatPeopleFromGraz\n",
            "http://dbpedia.org/class/yago/WikicatAphorists\n",
            "http://www.wikidata.org/entity/Q4964182\n",
            "http://dbpedia.org/class/yago/WikicatIdealists\n",
            "http://dbpedia.org/class/yago/WikicatKantianPhilosophers\n",
            "http://dbpedia.org/class/yago/WikicatPeopleFromRoyalPrussia\n",
            "http://dbpedia.org/class/yago/WikicatPhilosophersOfArt\n",
            "http://dbpedia.org/class/yago/WikicatPhilosophicalArguments\n",
            "http://dbpedia.org/ontology/Philosopher\n",
            "http://dbpedia.org/class/yago/WikicatColorScientists\n",
            "http://dbpedia.org/class/yago/WikicatContinentalPhilosophers\n",
            "http://dbpedia.org/class/yago/WikicatEarlyModernPhilosophers\n",
            "http://umbel.org/umbel/rc/Philosopher\n",
            "http://dbpedia.org/class/yago/WikicatMoralPhilosophers\n",
            "http://dbpedia.org/class/yago/Aphorist109798404\n",
            "http://dbpedia.org/class/yago/Argument106648724\n",
            "http://dbpedia.org/class/yago/Evidence106643408\n",
            "http://dbpedia.org/class/yago/Idealist110196965\n",
            "http://dbpedia.org/class/yago/Indication106797169\n",
            "http://dbpedia.org/class/yago/Musicologist110341243\n",
            "http://dbpedia.org/class/yago/Orientalist110383689\n",
            "http://dbpedia.org/class/yago/Wikicat19th-centuryGermanWriters\n",
            "http://dbpedia.org/class/yago/Wikicat19th-centuryPhilosophers\n",
            "http://dbpedia.org/class/yago/WikicatGermanAtheists\n",
            "http://dbpedia.org/class/yago/WikicatGermanMonarchists\n",
            "http://dbpedia.org/class/yago/WikicatGermanMusicologists\n",
            "http://dbpedia.org/class/yago/WikicatGermanOrientalists\n",
            "http://dbpedia.org/class/yago/WikicatGermanPeopleOfDutchDescent\n",
            "http://dbpedia.org/class/yago/WikicatPeopleFromFrankfurt\n",
            "http://dbpedia.org/class/yago/WikicatAmbassadorsOfTheUnitedKingdomToFrance\n",
            "http://dbpedia.org/class/yago/WikicatIrishExpatriatesInEngland\n",
            "http://dbpedia.org/class/yago/WikicatIrishExpatriatesInFrance\n",
            "http://dbpedia.org/class/yago/WikicatIrishExpatriatesInIndia\n",
            "http://dbpedia.org/class/yago/WikicatIrishExpatriatesInPortugal\n",
            "http://dbpedia.org/class/yago/WikicatIrishExpatriatesInSpain\n",
            "http://dbpedia.org/class/yago/WikicatIrishExpatriatesInTheNetherlands\n",
            "http://dbpedia.org/class/yago/WikicatIrishOfficersInTheBritishArmy\n",
            "http://dbpedia.org/class/yago/WikicatKnightsOfTheMilitaryOrderOfMariaTheresa\n",
            "http://dbpedia.org/class/yago/WikicatPeopleFromWellingtonCity\n",
            "http://dbpedia.org/class/yago/WikicatPrimeMinistersOfTheUnitedKingdom\n",
            "http://dbpedia.org/class/yago/WikicatPrincesOfWaterloo\n",
            "http://dbpedia.org/class/yago/WikicatBritishArmyCommandersOfTheNapoleonicWars\n",
            "http://dbpedia.org/class/yago/WikicatBritishSecretariesOfState\n",
            "http://dbpedia.org/class/yago/WikicatConservativeParty(UK)Politicians\n",
            "http://dbpedia.org/class/yago/WikicatDiplomaticPeers\n",
            "http://dbpedia.org/class/yago/WikicatDukesInThePeerageOfTheUnitedKingdom\n",
            "http://dbpedia.org/class/yago/WikicatDukesOfCiudadRodrigo\n",
            "http://dbpedia.org/class/yago/WikicatDukesOfWellington\n",
            "http://dbpedia.org/class/yago/WikicatYoungerSonsOfEarls\n",
            "http://dbpedia.org/class/yago/WikicatLeadersOfTheConservativeParty(UK)\n",
            "http://dbpedia.org/class/yago/WikicatLordHighConstables\n",
            "http://dbpedia.org/class/yago/WikicatMarquessesInThePeerageOfTheUnitedKingdom\n",
            "http://dbpedia.org/class/yago/WikicatSecretariesOfStateForTheHomeDepartment\n",
            "http://dbpedia.org/class/yago/Constable109959142\n",
            "http://dbpedia.org/class/yago/Wikicat18th-centuryIrishPeople\n",
            "http://dbpedia.org/class/yago/WikicatFieldMarshalsOfPortugal\n",
            "http://dbpedia.org/class/yago/WikicatFieldMarshalsOfRussia\n",
            "http://dbpedia.org/class/yago/WikicatPeopleAssociatedWithKing'sCollegeLondon\n",
            "http://dbpedia.org/class/yago/WikicatPeopleFromCountyDublin\n",
            "http://dbpedia.org/class/yago/WikicatSupernumeraryKnightsOfTheOrderOfTheHolySpirit\n",
            "http://dbpedia.org/class/yago/Wikicat4th-centuryBishops\n",
            "http://dbpedia.org/class/yago/Wikicat4th-centuryChristianSaints\n",
            "http://dbpedia.org/class/yago/Wikicat4th-centuryChristianTheologians\n",
            "http://dbpedia.org/class/yago/Wikicat4th-centuryPeople\n",
            "http://dbpedia.org/class/yago/Wikicat4th-centuryPhilosophers\n",
            "http://dbpedia.org/class/yago/Wikicat4th-centuryWriters\n",
            "http://dbpedia.org/class/yago/Wikicat5th-centuryBishops\n",
            "http://dbpedia.org/class/yago/Wikicat5th-centuryChristianSaints\n",
            "http://dbpedia.org/class/yago/Wikicat5th-centuryChristianTheologians\n",
            "http://dbpedia.org/class/yago/Wikicat5th-centuryPeople\n",
            "http://dbpedia.org/class/yago/Wikicat5th-centuryPhilosophers\n",
            "http://dbpedia.org/class/yago/Wikicat5th-centuryWriters\n",
            "http://dbpedia.org/class/yago/WikicatAlgerianPeople\n",
            "http://dbpedia.org/class/yago/WikicatAlgerianPhilosophers\n",
            "http://dbpedia.org/class/yago/WikicatAlgerianRomanCatholicSaints\n",
            "http://dbpedia.org/class/yago/WikicatAlgerianSaints\n",
            "http://dbpedia.org/class/yago/WikicatAlgerianWriters\n",
            "http://dbpedia.org/class/yago/WikicatAncientRomanRhetoricians\n",
            "http://dbpedia.org/class/yago/WikicatAutobiographers\n",
            "http://dbpedia.org/class/yago/WikicatPeopleFromSoukAhras\n",
            "http://dbpedia.org/class/yago/WikicatPhilosophers\n",
            "http://dbpedia.org/class/yago/WikicatPopulatedCoastalPlacesInFlorida\n",
            "http://dbpedia.org/class/yago/WikicatPopulatedPlacesEstablishedIn1565\n",
            "http://dbpedia.org/class/yago/WikicatBerberPeople\n",
            "http://dbpedia.org/class/yago/WikicatBishops\n",
            "http://dbpedia.org/class/yago/WikicatChaouiPeople\n",
            "http://dbpedia.org/class/yago/WikicatChristianEthicists\n",
            "http://dbpedia.org/class/yago/WikicatChristianPhilosophers\n",
            "http://dbpedia.org/class/yago/WikicatChristianTheologians\n",
            "http://dbpedia.org/class/yago/WikicatChurchFathers\n",
            "http://dbpedia.org/class/yago/WikicatCitiesInFlorida\n",
            "http://dbpedia.org/class/yago/WikicatConvertsToChristianity\n",
            "http://dbpedia.org/class/yago/WikicatCountySeatsInFlorida\n",
            "http://dbpedia.org/class/yago/WikicatDoctorsOfTheChurch\n",
            "http://dbpedia.org/class/yago/WikicatLateAntiqueLatin-languageWriters\n",
            "http://dbpedia.org/class/yago/WikicatLateAntiqueWriters\n",
            "http://dbpedia.org/class/yago/WikicatLatinLetterWriters\n",
            "http://dbpedia.org/class/yago/WikicatMedievalPhilosophers\n",
            "http://dbpedia.org/class/yago/WikicatMusicTheorists\n",
            "http://dbpedia.org/class/yago/WikicatRomanCatholicPhilosophers\n",
            "http://dbpedia.org/class/yago/WikicatRomanCatholicTheologians\n",
            "http://dbpedia.org/class/yago/WikicatSermonWriters\n",
            "http://dbpedia.org/class/yago/AdministrativeDistrict108491826\n",
            "http://dbpedia.org/class/yago/Area108497294\n",
            "http://dbpedia.org/class/yago/Center108523483\n",
            "http://dbpedia.org/class/yago/City108524735\n",
            "http://dbpedia.org/class/yago/CountySeat108547143\n",
            "http://dbpedia.org/class/yago/Ethicist110065066\n",
            "http://dbpedia.org/class/yago/Existentialist110071557\n",
            "http://dbpedia.org/class/yago/Father110080869\n",
            "http://dbpedia.org/class/yago/Municipality108626283\n",
            "http://dbpedia.org/class/yago/Orator110380672\n",
            "http://dbpedia.org/class/yago/Seat108647945\n",
            "http://dbpedia.org/class/yago/UrbanArea108675967\n",
            "http://dbpedia.org/class/yago/WikicatExistentialistTheologians\n",
            "http://dbpedia.org/class/yago/WikicatExistentialists\n",
            "http://dbpedia.org/class/yago/WikicatSystematicTheologians\n",
            "http://dbpedia.org/class/yago/WikicatAmateurRadioPeople\n",
            "http://dbpedia.org/class/yago/WikicatAmericanLibertarians\n",
            "http://dbpedia.org/class/yago/WikicatAmericanPeopleOfBritish-JewishDescent\n",
            "http://dbpedia.org/class/yago/WikicatAmericanPhotographers\n",
            "http://dbpedia.org/class/yago/WikicatAmericanPoliticalWriters\n",
            "http://dbpedia.org/class/yago/WikicatAmericanPro-choiceActivists\n",
            "http://dbpedia.org/class/yago/WikicatArizonaPoliticians\n",
            "http://dbpedia.org/class/yago/WikicatPeopleFromPhoenix,Arizona\n",
            "http://dbpedia.org/class/yago/WikicatPoliticalWriters\n",
            "http://dbpedia.org/class/yago/WikicatPoliticiansFromPhoenix,Arizona\n",
            "http://dbpedia.org/class/yago/WikicatClassicalLiberals\n",
            "http://dbpedia.org/class/yago/WikicatUnitedStatesAirForceGenerals\n",
            "http://dbpedia.org/class/yago/WikicatUnitedStatesArmyAirForcesOfficers\n",
            "http://dbpedia.org/class/yago/WikicatUnitedStatesArmyAirForcesPilotsOfWorldWarII\n",
            "http://dbpedia.org/class/yago/WikicatUnitedStatesSenatorsFromArizona\n",
            "http://dbpedia.org/class/yago/WikicatWritersFromPhoenix,Arizona\n",
            "http://dbpedia.org/class/yago/Liberal110256756\n",
            "http://dbpedia.org/class/yago/Libertarian110257524\n",
            "http://dbpedia.org/class/yago/Photographer110426749\n",
            "http://dbpedia.org/class/yago/Pilot110433164\n",
            "http://dbpedia.org/class/yago/WikicatPeopleAssociatedWithTheWatergateScandal\n",
            "http://dbpedia.org/class/yago/WikicatUFOConspiracyTheorists\n",
            "http://dbpedia.org/class/yago/WikicatHundredDays\n",
            "http://dbpedia.org/class/yago/WikicatBattleHonoursOfTheRifleBrigade\n",
            "http://dbpedia.org/class/yago/WikicatBattles\n",
            "http://dbpedia.org/class/yago/WikicatBattlesInvolvingBelgium\n",
            "http://dbpedia.org/class/yago/WikicatBattlesInvolvingGermany\n",
            "http://dbpedia.org/class/yago/WikicatBattlesInvolvingHanover\n",
            "http://dbpedia.org/class/yago/WikicatBattlesInvolvingNassau\n",
            "http://dbpedia.org/class/yago/WikicatBattlesInvolvingPrussia\n",
            "http://dbpedia.org/class/yago/WikicatBattlesInvolvingTheNetherlands\n",
            "http://dbpedia.org/class/yago/WikicatBattlesInvolvingTheUnitedKingdom\n",
            "http://dbpedia.org/class/yago/WikicatCavalryCharges\n",
            "http://dbpedia.org/class/yago/WikicatConflictsIn1815\n",
            "http://umbel.org/umbel/rc/ConflictEvent\n",
            "http://umbel.org/umbel/rc/Event\n",
            "http://dbpedia.org/class/yago/Attack100972621\n",
            "http://dbpedia.org/class/yago/Charge100974762\n",
            "http://dbpedia.org/class/yago/Day115155220\n",
            "http://dbpedia.org/class/yago/Honor114436875\n",
            "http://dbpedia.org/class/yago/Operation100955060\n",
            "http://dbpedia.org/class/yago/Standing113948136\n",
            "http://dbpedia.org/class/yago/Status113945919\n",
            "http://dbpedia.org/class/yago/TimeUnit115154774\n",
            "http://dbpedia.org/ontology/PopulatedPlace\n",
            "http://www.wikidata.org/entity/Q486972\n",
            "http://dbpedia.org/ontology/AdministrativeRegion\n",
            "http://dbpedia.org/ontology/Settlement\n",
            "http://umbel.org/umbel/rc/PopulatedPlace\n",
            "http://dbpedia.org/class/yago/WikicatRegionsOfEurope\n",
            "http://dbpedia.org/class/yago/Region108630039\n",
            "http://dbpedia.org/class/yago/WikicatStatesOfGermany\n",
            "http://dbpedia.org/class/yago/WikicatStatesOfTheWeimarRepublic\n",
            "http://dbpedia.org/class/yago/WikicatJewishBritishPoliticians\n",
            "http://dbpedia.org/class/yago/WikicatBritishWriters\n",
            "http://dbpedia.org/class/yago/WikicatConvertsToAnglicanismFromJudaism\n",
            "http://dbpedia.org/class/yago/WikicatConvertsToChristianityFromJudaism\n",
            "http://dbpedia.org/class/yago/WikicatVictorianNovelists\n",
            "http://dbpedia.org/class/yago/WikicatLeadersOfTheHouseOfLords\n",
            "http://dbpedia.org/class/yago/WikicatRectorsOfTheUniversityOfGlasgow\n",
            "http://dbpedia.org/class/yago/Wikicat19th-centuryBritishNovelists\n",
            "http://dbpedia.org/class/yago/Wikicat19th-centuryBritishWriters\n",
            "http://dbpedia.org/class/yago/Wikicat19th-centuryEnglishWriters\n",
            "http://dbpedia.org/class/yago/WikicatEnglishBiographers\n",
            "http://dbpedia.org/class/yago/WikicatEnglishJewishWriters\n",
            "http://dbpedia.org/class/yago/WikicatEnglishNon-fictionWriters\n",
            "http://dbpedia.org/class/yago/WikicatEnglishNovelists\n",
            "http://dbpedia.org/class/yago/WikicatEnglishPeopleOfItalian-JewishDescent\n",
            "http://dbpedia.org/class/yago/WikicatEnglishPeopleOfItalianDescent\n",
            "http://dbpedia.org/class/yago/WikicatPeersOfTheUnitedKingdom\n",
            "http://dbpedia.org/class/yago/WikicatSpeakersOfTheHouseOfCommonsOfTheUnitedKingdom\n",
            "http://dbpedia.org/class/yago/WikicatAlmanacCompilers\n",
            "http://dbpedia.org/class/yago/WikicatAmbassadorsOfTheUnitedStates\n",
            "http://dbpedia.org/class/yago/WikicatAmbassadorsOfTheUnitedStatesToSweden\n",
            "http://dbpedia.org/class/yago/WikicatAmericanChessPlayers\n",
            "http://dbpedia.org/class/yago/WikicatAmericanColonialWriters\n",
            "http://dbpedia.org/class/yago/WikicatAmericanDeists\n",
            "http://dbpedia.org/class/yago/WikicatAmericanDesigners\n",
            "http://dbpedia.org/class/yago/WikicatAmericanPoliticalPhilosophers\n",
            "http://dbpedia.org/class/yago/WikicatAmericanPrinters\n",
            "http://dbpedia.org/class/yago/WikicatAmericanTypographers\n",
            "http://dbpedia.org/class/yago/WikicatGovernorsOfPennsylvania\n",
            "http://dbpedia.org/class/yago/WikicatPeopleFromPennsylvania\n",
            "http://dbpedia.org/class/yago/WikicatPeopleOfTheAmericanEnlightenment\n",
            "http://dbpedia.org/class/yago/WikicatCurrencyDesigners\n",
            "http://dbpedia.org/class/yago/WikicatDeistPhilosophers\n",
            "http://dbpedia.org/class/yago/WikicatWritersFromPhiladelphia,Pennsylvania\n",
            "http://dbpedia.org/class/yago/WikicatMusiciansFromPhiladelphia,Pennsylvania\n",
            "http://dbpedia.org/class/yago/WikicatRecreationalCryptographers\n",
            "http://dbpedia.org/class/yago/ChessPlayer109915834\n",
            "http://dbpedia.org/class/yago/Compiler109946957\n",
            "http://dbpedia.org/class/yago/Compositor109949946\n",
            "http://dbpedia.org/class/yago/Deist110000459\n",
            "http://dbpedia.org/class/yago/Printer110475297\n",
            "http://dbpedia.org/class/yago/Wikicat18th-centuryAmericanDiplomats\n",
            "http://dbpedia.org/class/yago/Wikicat18th-centuryAmericanPeople\n",
            "http://dbpedia.org/class/yago/Wikicat18th-centuryAmericanWriters\n",
            "http://dbpedia.org/class/yago/Wikicat18th-centuryPhysicists\n",
            "http://dbpedia.org/class/yago/Wikicat18th-centuryUnitedStatesGovernmentOfficials\n",
            "http://dbpedia.org/class/yago/WikicatEditorsOfPennsylvaniaNewspapers\n",
            "http://dbpedia.org/class/yago/WikicatFounderFellowsOfTheRoyalSocietyOfEdinburgh\n",
            "http://dbpedia.org/class/yago/WikicatFreeSpeechActivists\n",
            "http://dbpedia.org/class/yago/WikicatPennsylvaniaPoliticalActivists\n",
            "http://dbpedia.org/class/yago/WikicatPeopleAssociatedWithTheRoyalSocietyOfArts\n",
            "http://dbpedia.org/class/yago/WikicatSpeakersOfThePennsylvaniaHouseOfRepresentatives\n",
            "http://dbpedia.org/class/yago/WikicatGraduatesOfTheRoyalMilitaryAcademySandhurst\n",
            "http://dbpedia.org/class/yago/WikicatGrandCommandersOfTheOrderOfGeorgeI\n",
            "http://dbpedia.org/class/yago/WikicatGrandOfficersOfTheOrderOfLeopold(Belgium)\n",
            "http://dbpedia.org/class/yago/WikicatGrandOfficersOfTheOrderOfLeopoldII\n",
            "http://dbpedia.org/class/yago/WikicatPeopleFromLambeth(LondonBorough)\n",
            "http://dbpedia.org/class/yago/WikicatBritishFieldMarshalsOfWorldWarII\n",
            "http://dbpedia.org/class/yago/WikicatBritishPeopleOfWorldWarI\n",
            "http://dbpedia.org/class/yago/WikicatOperationOverlordPeople\n",
            "http://dbpedia.org/class/yago/WikicatPeopleEducatedAtTheKing'sSchool,Canterbury\n",
            "http://dbpedia.org/class/yago/WikicatPeopleFromKennington\n",
            "http://dbpedia.org/class/yago/WikicatImpressionistPainters\n",
            "http://dbpedia.org/class/yago/WikicatWomenPainters\n",
            "http://dbpedia.org/class/yago/Wikicat19th-centuryFrenchPainters\n",
            "http://dbpedia.org/class/yago/WikicatFrenchImpressionistPainters\n",
            "http://dbpedia.org/class/yago/WikicatFrenchPainters\n",
            "http://dbpedia.org/class/yago/WikicatFrenchWomen\n",
            "http://dbpedia.org/class/yago/WikicatFrenchWomenPainters\n",
            "http://dbpedia.org/class/yago/WikicatPeopleFromBourges\n",
            "http://dbpedia.org/class/yago/WikicatAmericanFolkloreLegendaryCreatures\n",
            "http://dbpedia.org/class/yago/WikicatUrbanLegends\n",
            "http://dbpedia.org/class/yago/WikicatLegendaryCreaturesOfTheIndigenousPeoplesOfNorthAmerica\n",
            "http://dbpedia.org/class/yago/WikicatMysteries\n",
            "http://dbpedia.org/class/yago/News106681177\n",
            "http://dbpedia.org/class/yago/Report106681551\n",
            "http://dbpedia.org/class/yago/UrbanLegend106682952\n",
            "http://dbpedia.org/class/yago/WikicatAncientCelticWomen\n",
            "http://dbpedia.org/class/yago/WikicatAncientPeopleWhoCommittedSuicide\n",
            "http://dbpedia.org/class/yago/WikicatPeopleFromNorfolk\n",
            "http://dbpedia.org/class/yago/WikicatPoliticiansWhoCommittedSuicide\n",
            "http://dbpedia.org/class/yago/WikicatBritonRulers\n",
            "http://dbpedia.org/class/yago/WikicatCelticPeople\n",
            "http://dbpedia.org/class/yago/WikicatWomenIn1st-centuryWarfare\n",
            "http://dbpedia.org/class/yago/WikicatQueens\n",
            "http://dbpedia.org/class/yago/Heathen110166394\n",
            "http://dbpedia.org/class/yago/Queen110499355\n",
            "http://dbpedia.org/class/yago/Wikicat1st-centuryFemaleRulers\n",
            "http://dbpedia.org/class/yago/Wikicat1st-centuryMonarchsInEurope\n",
            "http://dbpedia.org/class/yago/WikicatPagans\n",
            "http://dbpedia.org/class/yago/WikicatAmericanCarpenters\n",
            "http://dbpedia.org/class/yago/WikicatAmericanMormonMissionariesInCanada\n",
            "http://dbpedia.org/class/yago/WikicatAmericanMormonMissionariesInTheUnitedKingdom\n",
            "http://dbpedia.org/class/yago/WikicatApostlesOfTheChurchOfJesusChristOfLatter-daySaints\n",
            "http://dbpedia.org/class/yago/WikicatGovernorsOfUtahTerritory\n",
            "http://dbpedia.org/class/yago/WikicatPeopleFromSaltLakeCity,Utah\n",
            "http://dbpedia.org/class/yago/WikicatPeopleFromUtah\n",
            "http://dbpedia.org/class/yago/WikicatPeopleFromWindhamCounty,Vermont\n",
            "http://dbpedia.org/class/yago/WikicatPresidentsOfTheQuorumOfTheTwelveApostles\n",
            "http://dbpedia.org/class/yago/WikicatConvertsToMormonismFromMethodism\n",
            "http://dbpedia.org/class/yago/WikicatMormonMissionariesInTheUnitedKingdom\n",
            "http://dbpedia.org/class/yago/Carpenter109896685\n",
            "http://dbpedia.org/class/yago/Wikicat19th-centuryMormonMissionaries\n",
            "http://dbpedia.org/class/yago/Wikicat8th-centuryChristianSaints\n",
            "http://dbpedia.org/class/yago/Wikicat8th-centuryFrenchPeople\n",
            "http://dbpedia.org/class/yago/Wikicat8th-centuryGermanPeople\n",
            "http://dbpedia.org/class/yago/Wikicat8th-centuryPeople\n",
            "http://dbpedia.org/class/yago/Wikicat8th-centuryRulers\n",
            "http://dbpedia.org/class/yago/Wikicat9th-centuryChristianSaints\n",
            "http://dbpedia.org/class/yago/Wikicat9th-centuryFrenchPeople\n",
            "http://dbpedia.org/class/yago/Wikicat9th-centuryPeople\n",
            "http://dbpedia.org/class/yago/Wikicat9th-centuryRulers\n",
            "http://dbpedia.org/class/yago/WikicatHolyRomanEmperors\n",
            "http://dbpedia.org/class/yago/WikicatItalianMonarchs\n",
            "http://dbpedia.org/class/yago/WikicatDukesOfBavaria\n",
            "http://dbpedia.org/class/yago/WikicatLombardKings\n",
            "http://dbpedia.org/class/yago/WikicatRomanCatholicRoyalSaints\n",
            "http://dbpedia.org/class/yago/Emperor110053004\n",
            "http://dbpedia.org/class/yago/WikicatFrankishKings\n",
            "http://dbpedia.org/class/yago/WikicatPeopleFromAachen\n",
            "http://dbpedia.org/class/yago/WikicatPeopleOfTheEnglishCivilWar\n",
            "http://dbpedia.org/class/yago/WikicatPrincesOfEngland\n",
            "http://dbpedia.org/class/yago/WikicatPrincesOfScotland\n",
            "http://dbpedia.org/class/yago/WikicatPrincesOfWales\n",
            "http://dbpedia.org/class/yago/WikicatBritishPeopleExecutedByDecapitation\n",
            "http://dbpedia.org/class/yago/WikicatDukesInThePeerageOfEngland\n",
            "http://dbpedia.org/class/yago/WikicatDukesInThePeerageOfScotland\n",
            "http://dbpedia.org/class/yago/WikicatDukesOfAlbany\n",
            "http://dbpedia.org/class/yago/WikicatDukesOfCornwall\n",
            "http://dbpedia.org/class/yago/WikicatDukesOfRothesay\n",
            "http://dbpedia.org/class/yago/WikicatDukesOfYork\n",
            "http://dbpedia.org/class/yago/WikicatEarlsOfChester\n",
            "http://dbpedia.org/class/yago/WikicatEarlsOfRoss\n",
            "http://dbpedia.org/class/yago/WikicatScottishMonarchs\n",
            "http://dbpedia.org/class/yago/Wikicat17th-centuryChristianSaints\n",
            "http://dbpedia.org/class/yago/Wikicat17th-centuryMonarchsInEurope\n",
            "http://dbpedia.org/class/yago/WikicatEnglishMonarchs\n",
            "http://dbpedia.org/class/yago/WikicatEnglishSaints\n",
            "http://dbpedia.org/class/yago/WikicatPeopleExecutedForTreasonAgainstEngland\n",
            "http://dbpedia.org/class/yago/WikicatPeopleExecutedUnderTheInterregnum(England)ByDecapitation\n",
            "http://dbpedia.org/class/yago/WikicatPeopleExecutedUnderTheInterregnum(England)ForTreasonAgainstEngland\n",
            "http://dbpedia.org/class/yago/WikicatPeopleFromDunfermline\n",
            "http://dbpedia.org/class/yago/WikicatItalianExpatriatesInSpain\n",
            "http://dbpedia.org/class/yago/WikicatItalianSailors\n",
            "http://dbpedia.org/class/yago/WikicatPeopleOfTheRepublicOfGenoa\n",
            "http://dbpedia.org/class/yago/WikicatColonialGovernorsOfSantoDomingo\n",
            "http://dbpedia.org/class/yago/Wikicat15th-centuryExplorers\n",
            "http://dbpedia.org/class/yago/Wikicat15th-centurySpanishPeople\n",
            "http://dbpedia.org/class/yago/WikicatExplorersOfCentralAmerica\n",
            "http://dbpedia.org/class/yago/WikicatPeopleFromGenoa\n",
            "http://dbpedia.org/class/yago/WikicatSpanishPeopleOfItalianDescent\n",
            "http://dbpedia.org/ontology/Country\n",
            "http://www.wikidata.org/entity/Q6256\n",
            "http://schema.org/Country\n",
            "http://dbpedia.org/class/yago/WikicatConfederateStatesOfAmerica\n",
            "http://umbel.org/umbel/rc/Country\n",
            "http://dbpedia.org/class/yago/Country108544813\n",
            "http://dbpedia.org/class/yago/WikicatFormerCountriesInNorthAmerica\n",
            "http://dbpedia.org/class/yago/WikicatFormerUnrecognizedCountries\n",
            "http://dbpedia.org/class/yago/WikicatStatesAndTerritoriesEstablishedIn1861\n",
            "http://dbpedia.org/class/yago/Wikicat5th-centuryBCHistorians\n",
            "http://dbpedia.org/class/yago/Wikicat5th-centuryBCPhilosophers\n",
            "http://dbpedia.org/class/yago/Wikicat6th-centuryBCPhilosophers\n",
            "http://dbpedia.org/class/yago/Wikicat6th-centuryChinesePeople\n",
            "http://dbpedia.org/class/yago/WikicatAncientChinesePhilosophers\n",
            "http://dbpedia.org/class/yago/WikicatGuqinPlayers\n",
            "http://dbpedia.org/class/yago/WikicatPeopleFromQufu\n",
            "http://dbpedia.org/class/yago/WikicatChinesePhilosophers\n",
            "http://dbpedia.org/class/yago/WikicatChineseWriters\n",
            "http://dbpedia.org/class/yago/WikicatClassicalHumanists\n",
            "http://dbpedia.org/class/yago/WikicatWritersFromShandong\n",
            "http://dbpedia.org/class/yago/WikicatZhouDynastyHistorians\n",
            "http://dbpedia.org/class/yago/WikicatHarpists\n",
            "http://dbpedia.org/class/yago/WikicatKingsOfAncientIsrael\n",
            "http://dbpedia.org/class/yago/WikicatKingsOfAncientJudah\n",
            "http://dbpedia.org/class/yago/WikicatPoets\n",
            "http://dbpedia.org/class/yago/WikicatProphetsOfTheHebrewBible\n",
            "http://dbpedia.org/class/yago/WikicatBiblicalMurderers\n",
            "http://dbpedia.org/class/yago/WikicatBiblicalPeople\n",
            "http://dbpedia.org/class/yago/WikicatWarriorsOfAsia\n",
            "http://dbpedia.org/class/yago/WikicatShepherds\n",
            "http://dbpedia.org/class/yago/Harpist110160770\n",
            "http://dbpedia.org/class/yago/Killer110231087\n",
            "http://dbpedia.org/class/yago/Murderer110338707\n",
            "http://dbpedia.org/class/yago/Shepherd110588965\n",
            "http://dbpedia.org/class/yago/Warrior110768585\n",
            "http://dbpedia.org/class/yago/Wikicat10th-centuryBCBiblicalRulers\n",
            "http://dbpedia.org/class/yago/Wikicat11th-centuryBCBiblicalRulers\n",
            "http://dbpedia.org/class/yago/WikicatAnimalGoddesses\n",
            "http://dbpedia.org/class/yago/WikicatHuntingGoddesses\n",
            "http://dbpedia.org/class/yago/WikicatChildhoodGoddesses\n",
            "http://dbpedia.org/class/yago/WikicatVirginGoddesses\n",
            "http://dbpedia.org/class/yago/WikicatLunarDeities\n",
            "http://dbpedia.org/class/yago/WikicatLunarGoddesses\n",
            "http://dbpedia.org/class/yago/WikicatRomanGoddesses\n",
            "http://dbpedia.org/class/yago/Goddess109535622\n",
            "http://dbpedia.org/class/yago/WikicatFertilityDeities\n",
            "http://dbpedia.org/class/yago/WikicatGoddesses\n",
            "http://dbpedia.org/class/yago/WikicatNatureGoddesses\n",
            "http://dbpedia.org/class/yago/WikicatAmerican5StarOfficers\n",
            "http://dbpedia.org/class/yago/WikicatAmericanBridgePlayers\n",
            "http://dbpedia.org/class/yago/WikicatAmericanPeopleOfGermanDescent\n",
            "http://dbpedia.org/class/yago/WikicatAmericanPeopleOfSwiss-GermanDescent\n",
            "http://dbpedia.org/class/yago/WikicatAmericanPeopleOfTheKoreanWar\n",
            "http://dbpedia.org/class/yago/WikicatArmyBlackKnightsFootballPlayers\n",
            "http://dbpedia.org/class/yago/WikicatKnightsAndDamesOfTheCollarOfTheEquestrianOrderOfTheHolySepulchre\n",
            "http://dbpedia.org/class/yago/WikicatKnightsOfTheOrderOfPoloniaRestituta\n",
            "http://dbpedia.org/class/yago/WikicatKnightsOfTheOrderOfTheRoyalHouseOfChakri\n",
            "http://dbpedia.org/class/yago/WikicatPresidentsOfColumbiaUniversity\n",
            "http://dbpedia.org/class/yago/WikicatCompanionsOfTheLiberation\n",
            "http://dbpedia.org/class/yago/WikicatUnitedStatesArmyChiefsOfStaff\n",
            "http://dbpedia.org/class/yago/WikicatUnitedStatesArmyWarCollegeAlumni\n",
            "http://dbpedia.org/class/yago/WikicatNATOSupremeAlliedCommanders\n",
            "http://dbpedia.org/class/yago/BridgePlayer109875353\n",
            "http://dbpedia.org/class/yago/CardPlayer109894654\n",
            "http://dbpedia.org/class/yago/WikicatPeopleFromDenison,Texas\n",
            "http://dbpedia.org/class/yago/WikicatKnights\n",
            "http://dbpedia.org/class/yago/WikicatPeopleOfTheReconquista\n",
            "http://dbpedia.org/class/yago/WikicatMedievalPeople\n",
            "http://dbpedia.org/class/yago/Wikicat11th-centurySpanishPeople\n",
            "http://dbpedia.org/class/yago/WikicatSpanishKnights\n",
            "http://dbpedia.org/class/yago/WikicatAmericanUnitedBrethrenInChrist\n",
            "http://dbpedia.org/class/yago/WikicatPeopleFromMaryland\n",
            "http://dbpedia.org/class/yago/WikicatMarylandLawyers\n",
            "http://dbpedia.org/class/yago/WikicatNationalAnthemWriters\n",
            "http://dbpedia.org/class/yago/WikicatPeopleFromBaltimore,Maryland\n",
            "http://dbpedia.org/class/yago/WikicatPeopleFromCarrollCounty,Maryland\n",
            "http://dbpedia.org/class/yago/WikicatSt.John'sCollege(Annapolis/SantaFe)Alumni\n",
            "http://dbpedia.org/class/yago/WikicatIncorruptSaints\n",
            "http://dbpedia.org/class/yago/WikicatJesuitSaints\n",
            "http://dbpedia.org/class/yago/WikicatPeopleOfSengoku-periodJapan\n",
            "http://dbpedia.org/class/yago/WikicatBasquePeople\n",
            "http://dbpedia.org/class/yago/WikicatChristianMissionariesInJapan\n",
            "http://dbpedia.org/class/yago/WikicatMonks\n",
            "http://dbpedia.org/class/yago/WikicatRomanCatholicMissionariesInChina\n",
            "http://dbpedia.org/class/yago/WikicatExplorersOfAsia\n",
            "http://dbpedia.org/class/yago/WikicatSpanishMissionaries\n",
            "http://dbpedia.org/class/yago/WikicatAnti-warActivists\n",
            "http://dbpedia.org/class/yago/WikicatAscetics\n",
            "http://dbpedia.org/class/yago/WikicatItalianChristianPacifists\n",
            "http://dbpedia.org/class/yago/WikicatPeopleOfMedievalItaly\n",
            "http://dbpedia.org/class/yago/WikicatBeggars\n",
            "http://dbpedia.org/class/yago/WikicatRomanCatholicDeacons\n",
            "http://dbpedia.org/class/yago/Abstainer109758173\n",
            "http://dbpedia.org/class/yago/Beggar109847010\n",
            "http://dbpedia.org/class/yago/ChurchOfficer109922799\n",
            "http://dbpedia.org/class/yago/Deacon109994673\n",
            "http://dbpedia.org/class/yago/Pauper110409011\n",
            "http://dbpedia.org/class/yago/PoorPerson110453357\n",
            "http://dbpedia.org/class/yago/Wikicat12th-centuryChristianSaints\n",
            "http://dbpedia.org/class/yago/Wikicat13th-centuryPhilosophers\n",
            "http://dbpedia.org/class/yago/WikicatFranciscanMystics\n",
            "http://dbpedia.org/class/yago/WikicatPeopleAssociatedWithScouting\n",
            "http://dbpedia.org/class/yago/WikicatPeopleFromAssisi\n",
            "http://dbpedia.org/class/yago/WikicatProgressiveConstitutionalistParty(Mexico)Politicians\n",
            "http://dbpedia.org/class/yago/WikicatMexicanActivists\n",
            "http://dbpedia.org/class/yago/WikicatMexicanDemocracyActivists\n",
            "http://dbpedia.org/class/yago/WikicatMountSt.Mary'sUniversityAlumni\n",
            "http://dbpedia.org/class/yago/WikicatAmericanPeopleInTheVenonaPapers\n",
            "http://dbpedia.org/class/yago/WikicatAmericanPhilatelists\n",
            "http://dbpedia.org/class/yago/WikicatAmericanPoliticiansWithPhysicalDisabilities\n",
            "http://dbpedia.org/class/yago/WikicatGrotonSchoolAlumni\n",
            "http://dbpedia.org/class/yago/WikicatPeopleWithParaplegia\n",
            "http://dbpedia.org/class/yago/WikicatPeopleWithPoliomyelitis\n",
            "http://dbpedia.org/class/yago/WikicatPhilatelists\n",
            "http://dbpedia.org/class/yago/WikicatDutchessCounty,NewYorkPoliticians\n",
            "http://dbpedia.org/class/yago/WikicatUnitedStatesPresidentsWhoDiedWhileInOffice\n",
            "http://dbpedia.org/class/yago/Collector109936620\n",
            "http://dbpedia.org/class/yago/Philatelist110422405\n",
            "http://dbpedia.org/class/yago/WikicatPeopleAssociatedWithTheNewDeal\n",
            "http://dbpedia.org/class/yago/WikicatSonsOfTheAmericanRevolution\n",
            "http://dbpedia.org/class/yago/WikicatTheHarvardCrimsonPeople\n",
            "http://dbpedia.org/class/yago/WikicatAustrianAnarchists\n",
            "http://dbpedia.org/class/yago/WikicatAustrianAtheists\n",
            "http://dbpedia.org/class/yago/WikicatAustrianNovelists\n",
            "http://dbpedia.org/class/yago/WikicatAustrianSocialists\n",
            "http://dbpedia.org/class/yago/WikicatAustrianWriters\n",
            "http://dbpedia.org/class/yago/WikicatAustro-HungarianWriters\n",
            "http://dbpedia.org/class/yago/WikicatJewishAnarchists\n",
            "http://dbpedia.org/class/yago/WikicatJewishAtheists\n",
            "http://dbpedia.org/class/yago/WikicatJewishExistentialists\n",
            "http://dbpedia.org/class/yago/WikicatJewishNovelists\n",
            "http://dbpedia.org/class/yago/WikicatJewishSocialists\n",
            "http://dbpedia.org/class/yago/WikicatJewishWriters\n",
            "http://dbpedia.org/class/yago/WikicatPeopleFromKlosterneuburg\n",
            "http://dbpedia.org/class/yago/WikicatPeopleFromPrague\n",
            "http://dbpedia.org/class/yago/WikicatCzechNovelists\n",
            "http://dbpedia.org/class/yago/WikicatDiarists\n",
            "http://dbpedia.org/class/yago/Writer110801291\n",
            "http://dbpedia.org/class/yago/WikicatMagicRealismWriters\n",
            "http://dbpedia.org/class/yago/WikicatModernistWriters\n",
            "http://dbpedia.org/class/yago/Anarchist109791816\n",
            "http://dbpedia.org/class/yago/Diarist110011486\n",
            "http://dbpedia.org/class/yago/Fabulist110075529\n",
            "http://dbpedia.org/class/yago/Literate110266328\n",
            "http://dbpedia.org/class/yago/Narrator110345804\n",
            "http://dbpedia.org/class/yago/Wikicat19th-centuryAustrianPeople\n",
            "http://dbpedia.org/class/yago/Wikicat19th-centuryNovelists\n",
            "http://dbpedia.org/class/yago/Wikicat20th-centuryNovelists\n",
            "http://dbpedia.org/class/yago/WikicatExpressionistWriters\n",
            "http://dbpedia.org/class/yago/WikicatFabulists\n",
            "http://dbpedia.org/class/yago/WikicatGerman-languageWriters\n",
            "http://dbpedia.org/class/yago/WikicatAfrican-AmericanAbolitionists\n",
            "http://dbpedia.org/class/yago/WikicatAfrican-AmericanActivists\n",
            "http://dbpedia.org/class/yago/WikicatAfrican-AmericanDiplomats\n",
            "http://dbpedia.org/class/yago/WikicatAfrican-AmericanNon-fictionWriters\n",
            "http://dbpedia.org/class/yago/WikicatAfrican-AmericanWriters\n",
            "http://dbpedia.org/class/yago/WikicatAfrican-Americans'CivilRightsActivists\n",
            "http://dbpedia.org/class/yago/WikicatAmbassadorsOfTheUnitedStatesToHaiti\n",
            "http://dbpedia.org/class/yago/WikicatAmbassadorsOfTheUnitedStatesToTheDominicanRepublic\n",
            "http://dbpedia.org/class/yago/WikicatAmericanFilmEditors\n",
            "http://dbpedia.org/class/yago/WikicatAmericanSlaves\n",
            "http://dbpedia.org/class/yago/WikicatHumanRightsActivists\n",
            "http://dbpedia.org/class/yago/WikicatJournalistsFromMaryland\n",
            "http://dbpedia.org/class/yago/WikicatJournalistsFromUpstateNewYork\n",
            "http://dbpedia.org/class/yago/WikicatJournalistsFromWashington,D.C.\n",
            "http://dbpedia.org/class/yago/WikicatPeopleFromRochester,NewYork\n",
            "http://dbpedia.org/class/yago/WikicatPeopleFromTalbotCounty,Maryland\n",
            "http://dbpedia.org/class/yago/WikicatChristianFeminists\n",
            "http://dbpedia.org/class/yago/WikicatWritersFromMaryland\n",
            "http://dbpedia.org/class/yago/WikicatWritersFromNewYork\n",
            "http://dbpedia.org/class/yago/WikicatWritersFromWashington,D.C.\n",
            "http://dbpedia.org/class/yago/WikicatMaleFeminists\n",
            "http://dbpedia.org/class/yago/Wikicat19th-centuryAfrican-AmericanActivists\n",
            "http://dbpedia.org/class/yago/Wikicat19th-centuryWriters\n",
            "http://dbpedia.org/class/yago/Wikicat4th-centuryBCPhilosophers\n",
            "http://dbpedia.org/class/yago/WikicatAncientIndianPeople\n",
            "http://dbpedia.org/class/yago/WikicatHinduPhilosophers\n",
            "http://dbpedia.org/class/yago/WikicatIndianPhilosophers\n",
            "http://dbpedia.org/class/yago/WikicatBuddhistPhilosophers\n",
            "http://dbpedia.org/class/yago/WikicatBuddhistPhilosophicalConcepts\n",
            "http://dbpedia.org/class/yago/WikicatBuddhistReligiousLeaders\n",
            "http://dbpedia.org/class/yago/Concept105835747\n",
            "http://dbpedia.org/class/yago/Idea105833840\n",
            "http://dbpedia.org/class/yago/WikicatBritishExplorers\n",
            "http://dbpedia.org/class/yago/Wikicat18th-centuryEnglishPeople\n",
            "http://dbpedia.org/class/yago/Wikicat18th-centuryExplorers\n",
            "http://dbpedia.org/class/yago/WikicatEnglishExplorers\n",
            "http://dbpedia.org/class/yago/WikicatExplorersOfAlaska\n",
            "http://dbpedia.org/class/yago/WikicatExplorersOfBritishColumbia\n",
            "http://dbpedia.org/class/yago/WikicatExplorersOfCalifornia\n",
            "http://dbpedia.org/class/yago/WikicatExplorersOfThePacific\n",
            "http://dbpedia.org/class/yago/WikicatExplorersOfWashington(state)\n",
            "http://dbpedia.org/class/yago/WikicatPeopleFromKing'sLynn\n",
            "http://dbpedia.org/class/yago/WikicatAmericanForeignPolicyWriters\n",
            "http://dbpedia.org/class/yago/WikicatAmericanRevolutionaries\n",
            "http://dbpedia.org/class/yago/WikicatPeopleFromWestmorelandCounty,Virginia\n",
            "http://dbpedia.org/class/yago/WikicatPeopleOfNewFrance\n",
            "http://dbpedia.org/class/yago/WikicatPeopleOfTheFrenchAndIndianWar\n",
            "http://dbpedia.org/class/yago/WikicatPeopleOfVirginiaInTheAmericanRevolution\n",
            "http://dbpedia.org/class/yago/WikicatPeopleOfVirginiaInTheFrenchAndIndianWar\n",
            "http://dbpedia.org/class/yago/WikicatCommandersInChief\n",
            "http://dbpedia.org/class/yago/WikicatVirginiaPoliticians\n",
            "http://dbpedia.org/class/yago/WikicatWashingtonCollegePeople\n",
            "http://dbpedia.org/class/yago/WikicatPeopleFromFairfaxCounty,Virginia\n",
            "http://dbpedia.org/class/yago/WikicatKingKongCharacters\n",
            "http://dbpedia.org/class/yago/WikicatScienceFictionFilmCharacters\n",
            "http://dbpedia.org/class/yago/WikicatFictionalCharactersIntroducedIn1954\n",
            "http://dbpedia.org/class/yago/WikicatFictionalCharactersWithNuclearOrRadiationAbilities\n",
            "http://dbpedia.org/class/yago/WikicatFictionalCharactersWithSuperhumanStrength\n",
            "http://dbpedia.org/class/yago/WikicatFilmCharacters\n",
            "http://dbpedia.org/class/yago/WikicatGodzillaCharacters\n",
            "http://dbpedia.org/class/yago/WikicatTohoMonsters\n",
            "http://dbpedia.org/class/yago/Wikicat2nd-centuryPeople\n",
            "http://dbpedia.org/class/yago/Wikicat2nd-centuryRomanEmperors\n",
            "http://dbpedia.org/class/yago/WikicatImperialRomanConsuls\n",
            "http://dbpedia.org/class/yago/WikicatLGBTPeopleFromSpain\n",
            "http://dbpedia.org/class/yago/WikicatPeopleFromSeville\n",
            "http://dbpedia.org/class/yago/WikicatPeopleFromTheProvinceOfSeville\n",
            "http://dbpedia.org/class/yago/WikicatDeifiedRomanEmperors\n",
            "http://dbpedia.org/class/yago/WikicatRoman-eraPoets\n",
            "http://dbpedia.org/class/yago/WikicatRomanAugurs\n",
            "http://dbpedia.org/class/yago/WikicatRomanEmperors\n",
            "http://dbpedia.org/class/yago/Augur109823287\n",
            "http://dbpedia.org/class/yago/Consul109959797\n",
            "http://dbpedia.org/class/yago/WikicatAmbassadorsOfTheUnitedStatesToSpain\n",
            "http://dbpedia.org/class/yago/WikicatPeopleFromOxfordCounty,Maine\n",
            "http://dbpedia.org/class/yago/WikicatPeopleOfMaineInTheAmericanCivilWar\n",
            "http://dbpedia.org/class/yago/WikicatUnitedStatesSenatorsFromMaine\n",
            "http://dbpedia.org/class/yago/WikicatRepublicanPartyVicePresidentsOfTheUnitedStates\n",
            "http://dbpedia.org/class/yago/WikicatPeopleFromHampden,Maine\n",
            "http://dbpedia.org/class/yago/WikicatSpeakersOfTheMaineHouseOfRepresentatives\n",
            "http://dbpedia.org/class/yago/WikicatAmericanBirthControlActivists\n",
            "http://dbpedia.org/class/yago/WikicatAmericanChristianSocialists\n",
            "http://dbpedia.org/class/yago/WikicatAmericanEssayists\n",
            "http://dbpedia.org/class/yago/WikicatAmericanFeministWriters\n",
            "http://dbpedia.org/class/yago/WikicatAmericanWomen\n",
            "http://dbpedia.org/class/yago/WikicatAmericanWomenWriters\n",
            "http://dbpedia.org/class/yago/WikicatIndustrialWorkersOfTheWorld\n",
            "http://dbpedia.org/class/yago/WikicatIndustrialWorkersOfTheWorldMembers\n",
            "http://dbpedia.org/class/yago/WikicatJuneObservances\n",
            "http://dbpedia.org/class/yago/WikicatPeopleFromTuscumbia,Alabama\n",
            "http://dbpedia.org/class/yago/WikicatPublicHolidaysInTheUnitedStates\n",
            "http://dbpedia.org/class/yago/WikicatBlindAcademics\n",
            "http://dbpedia.org/class/yago/WikicatBlindPeopleFromTheUnitedStates\n",
            "http://dbpedia.org/class/yago/WikicatDeafActivists\n",
            "http://dbpedia.org/class/yago/WikicatDeafPeople\n",
            "http://dbpedia.org/class/yago/WikicatDeafblindPeople\n",
            "http://dbpedia.org/class/yago/WikicatWomenEssayists\n",
            "http://dbpedia.org/class/yago/WikicatWorkers'RightsActivists\n",
            "http://dbpedia.org/class/yago/WikicatWritersFromAlabama\n",
            "http://dbpedia.org/class/yago/WikicatRadcliffeCollegeAlumni\n",
            "http://dbpedia.org/class/yago/WikicatSocialistFeminists\n",
            "http://dbpedia.org/class/yago/DeafPerson109996481\n",
            "http://dbpedia.org/class/yago/LegalHoliday115199592\n",
            "http://dbpedia.org/class/yago/Leisure115137676\n",
            "http://dbpedia.org/class/yago/TimeOff115118453\n",
            "http://dbpedia.org/class/yago/Vacation115137890\n",
            "http://dbpedia.org/class/yago/Wikicat19th-centuryWomenWriters\n",
            "http://dbpedia.org/class/yago/WikicatEssayists\n",
            "http://dbpedia.org/class/yago/WikicatFixedHolidays\n",
            "http://dbpedia.org/class/yago/WikicatPeopleFromAlabama\n",
            "http://dbpedia.org/class/yago/WikicatPeopleFromForestHills,Queens\n",
            "http://dbpedia.org/class/yago/WikicatPopulatedPlacesEstablishedIn1881\n",
            "http://dbpedia.org/class/yago/WikicatPopulatedPlacesInContraCostaCounty,California\n",
            "http://dbpedia.org/class/yago/WikicatCitiesInContraCostaCounty,California\n",
            "http://dbpedia.org/class/yago/WikicatCitiesInTheSanFranciscoBayArea\n",
            "http://dbpedia.org/class/yago/WikicatHumanRights\n",
            "http://dbpedia.org/class/yago/WikicatConceptsInEthics\n",
            "http://dbpedia.org/class/yago/Abstraction105854150\n",
            "http://dbpedia.org/class/yago/Document106470073\n",
            "http://dbpedia.org/class/yago/HumanRight105176846\n",
            "http://dbpedia.org/class/yago/Right105174653\n",
            "http://dbpedia.org/class/yago/WikicatPublicHolidaysInItaly\n",
            "http://dbpedia.org/class/yago/WikicatDecemberObservances\n",
            "http://dbpedia.org/class/yago/WikicatMarianDogmas\n",
            "http://dbpedia.org/class/yago/WikicatRomanCatholicDevotions\n",
            "http://dbpedia.org/class/yago/Devotion107544491\n",
            "http://dbpedia.org/class/yago/Doctrine105943300\n",
            "http://dbpedia.org/class/yago/Dogma106790042\n",
            "http://dbpedia.org/class/yago/Emotion107480068\n",
            "http://dbpedia.org/class/yago/Feeling100026192\n",
            "http://dbpedia.org/class/yago/Love107543288\n",
            "http://dbpedia.org/class/yago/ReligiousDoctrine106789411\n",
            "http://dbpedia.org/class/yago/WikicatDemographicsOfTheUnitedStates\n",
            "http://dbpedia.org/class/yago/Datum105816622\n",
            "http://dbpedia.org/class/yago/Demographic106022076\n",
            "http://dbpedia.org/class/yago/EthnicGroup107967382\n",
            "http://dbpedia.org/class/yago/Information105816287\n",
            "http://dbpedia.org/class/yago/Statistic106021499\n",
            "http://dbpedia.org/class/yago/WikicatEthnicGroupsInTheUnitedStates\n",
            "http://dbpedia.org/class/yago/WikicatAlchemists\n",
            "http://dbpedia.org/class/yago/WikicatBallisticsExperts\n",
            "http://dbpedia.org/class/yago/WikicatPeopleFromLincolnshire\n",
            "http://dbpedia.org/class/yago/WikicatPeopleFromSouthKesteven(district)\n",
            "http://dbpedia.org/class/yago/WikicatPresidentsOfTheRoyalSociety\n",
            "http://dbpedia.org/class/yago/WikicatBritishAstronomers\n",
            "http://dbpedia.org/class/yago/WikicatBritishChemists\n",
            "http://dbpedia.org/class/yago/WikicatBritishPhilosophers\n",
            "http://dbpedia.org/class/yago/WikicatBritishPhysicists\n",
            "http://dbpedia.org/class/yago/WikicatDefendersOfSlavery\n",
            "http://dbpedia.org/class/yago/WikicatLatin-languageWriters\n",
            "http://dbpedia.org/class/yago/WikicatLucasianProfessorsOfMathematics\n",
            "http://dbpedia.org/class/yago/WikicatMastersOfTheMint\n",
            "http://dbpedia.org/class/yago/WikicatScientificInstrumentMakers\n",
            "http://dbpedia.org/class/yago/Alchemist109781921\n",
            "http://dbpedia.org/class/yago/Occultist110370381\n",
            "http://dbpedia.org/class/yago/Optician110380000\n",
            "http://dbpedia.org/class/yago/Professor110480730\n",
            "http://dbpedia.org/class/yago/Wikicat17th-centuryAstronomers\n",
            "http://dbpedia.org/class/yago/Wikicat17th-centuryEnglishMathematicians\n",
            "http://dbpedia.org/class/yago/Wikicat17th-centuryEnglishWriters\n",
            "http://dbpedia.org/class/yago/Wikicat17th-centuryLatin-languageWriters\n",
            "http://dbpedia.org/class/yago/Wikicat17th-centuryMathematicians\n",
            "http://dbpedia.org/class/yago/Wikicat18th-centuryAstronomers\n",
            "http://dbpedia.org/class/yago/Wikicat18th-centuryEnglishMathematicians\n",
            "http://dbpedia.org/class/yago/Wikicat18th-centuryEnglishWriters\n",
            "http://dbpedia.org/class/yago/Wikicat18th-centuryLatin-languageWriters\n",
            "http://dbpedia.org/class/yago/Wikicat18th-centuryMathematicians\n",
            "http://dbpedia.org/class/yago/WikicatEnglishAlchemists\n",
            "http://dbpedia.org/class/yago/WikicatEnglishAstronomers\n",
            "http://dbpedia.org/class/yago/WikicatEnglishChristianTheologians\n",
            "http://dbpedia.org/class/yago/WikicatEnglishPhysicists\n",
            "http://dbpedia.org/class/yago/WikicatEnlightenmentScientists\n",
            "http://dbpedia.org/class/yago/WikicatExperimentalPhysicists\n",
            "http://dbpedia.org/class/yago/WikicatFellowsOfTrinityCollege,Cambridge\n",
            "http://dbpedia.org/class/yago/WikicatNaturalPhilosophers\n",
            "http://dbpedia.org/class/yago/WikicatNewLatin-languageWriters\n",
            "http://dbpedia.org/class/yago/WikicatOccultists\n",
            "http://dbpedia.org/class/yago/WikicatOpticalPhysicists\n",
            "http://dbpedia.org/class/yago/WikicatOpticians\n",
            "http://dbpedia.org/class/yago/WikicatPeopleEducatedAtTheKing'sSchool,Grantham\n",
            "http://dbpedia.org/class/yago/WikicatPeopleFromPatrickCounty,Virginia\n",
            "http://dbpedia.org/class/yago/WikicatGrammariansFromGermany\n",
            "http://dbpedia.org/class/yago/WikicatGrammariansOfGerman\n",
            "http://dbpedia.org/class/yago/WikicatPeopleFromTheLandgraviateOfHesse-Kassel\n",
            "http://dbpedia.org/ontology/Academic\n",
            "http://dbpedia.org/class/yago/WikicatWritersOnGermanicPaganism\n",
            "http://dbpedia.org/class/yago/WikicatLegalHistorians\n",
            "http://dbpedia.org/class/yago/WikicatLexicographers\n",
            "http://dbpedia.org/class/yago/WikicatLibrarians\n",
            "http://dbpedia.org/class/yago/WikicatLinguists\n",
            "http://dbpedia.org/class/yago/WikicatLinguistsFromGermany\n",
            "http://dbpedia.org/class/yago/Anthropologist109796323\n",
            "http://dbpedia.org/class/yago/Grammarian110141364\n",
            "http://dbpedia.org/class/yago/Lexicographer110256080\n",
            "http://dbpedia.org/class/yago/Librarian110257948\n",
            "http://dbpedia.org/class/yago/Philologist110423225\n",
            "http://dbpedia.org/class/yago/SocialScientist110619642\n",
            "http://dbpedia.org/class/yago/Wikicat1819Books\n",
            "http://dbpedia.org/class/yago/WikicatGermanAnthropologists\n",
            "http://dbpedia.org/class/yago/WikicatGermanChildren'sWriters\n",
            "http://dbpedia.org/class/yago/WikicatGermanJurists\n",
            "http://dbpedia.org/class/yago/WikicatGermanPhilologists\n",
            "http://dbpedia.org/class/yago/WikicatPeopleFromHanau\n",
            "http://dbpedia.org/class/yago/WikicatPeopleFromKassel\n",
            "http://dbpedia.org/class/yago/WikicatAustralianScientists\n",
            "http://dbpedia.org/class/yago/WikicatPeopleFromMiddlesbrough\n",
            "http://dbpedia.org/class/yago/WikicatPeopleFromNorthYorkshire\n",
            "http://dbpedia.org/class/yago/WikicatPeopleMurderedInHawaii\n",
            "http://dbpedia.org/class/yago/WikicatBritishCartographers\n",
            "http://dbpedia.org/class/yago/WikicatBritishSailors\n",
            "http://dbpedia.org/class/yago/WikicatMaritimeWriters\n",
            "http://dbpedia.org/class/yago/Wikicat18th-centuryCartographers\n",
            "http://dbpedia.org/class/yago/WikicatEnglishCartographers\n",
            "http://dbpedia.org/class/yago/WikicatEnglishSailors\n",
            "http://dbpedia.org/class/yago/WikicatExplorersOfAntarctica\n",
            "http://dbpedia.org/class/yago/WikicatExplorersOfAustralia\n",
            "http://dbpedia.org/class/yago/WikicatExplorersOfNewZealand\n",
            "http://dbpedia.org/class/yago/WikicatPeopleFromHawaii\n",
            "http://dbpedia.org/class/yago/WikicatAmericanPeopleOfHaitianDescent\n",
            "http://dbpedia.org/class/yago/WikicatAmericanPeopleOfPuertoRicanDescent\n",
            "http://dbpedia.org/class/yago/WikicatArtists\n",
            "http://dbpedia.org/class/yago/WikicatArtistsFromNewYork\n",
            "http://dbpedia.org/class/yago/WikicatArtistsFromNewYorkCity\n",
            "http://dbpedia.org/class/yago/WikicatGraffitiArtists\n",
            "http://dbpedia.org/class/yago/WikicatHaitianPainters\n",
            "http://dbpedia.org/class/yago/WikicatPeopleOfAfro-PuertoRicanDescent\n",
            "http://dbpedia.org/class/yago/WikicatBisexualArtists\n",
            "http://dbpedia.org/class/yago/WikicatContemporaryArtists\n",
            "http://dbpedia.org/class/yago/WikicatContemporaryPainters\n",
            "http://dbpedia.org/class/yago/WikicatHeadsOfStateOfFormerCountries\n",
            "http://dbpedia.org/class/yago/WikicatHeadsOfStateOfUnrecognizedOrLargelyUnrecognizedStates\n",
            "http://dbpedia.org/class/yago/WikicatHistoriansOfTheAmericanCivilWar\n",
            "http://dbpedia.org/class/yago/WikicatJeffersonCollege(Mississippi)Alumni\n",
            "http://dbpedia.org/class/yago/WikicatPeopleFromMississippi\n",
            "http://dbpedia.org/class/yago/WikicatPeopleFromChristianCounty,Kentucky\n",
            "http://dbpedia.org/class/yago/Wikicat5th-centuryHistorians\n",
            "http://dbpedia.org/class/yago/WikicatHermits\n",
            "http://dbpedia.org/class/yago/WikicatIllyrianPeople\n",
            "http://dbpedia.org/class/yago/WikicatBibleTranslators\n",
            "http://dbpedia.org/class/yago/WikicatChristianApologists\n",
            "http://dbpedia.org/class/yago/WikicatCroatianRomanCatholicPriests\n",
            "http://dbpedia.org/class/yago/Anchorite110519126\n",
            "http://dbpedia.org/class/yago/Apologist109798534\n",
            "http://dbpedia.org/class/yago/Eremite110518945\n",
            "http://dbpedia.org/class/yago/WikicatOrthodoxTheologians\n",
            "http://dbpedia.org/class/yago/WikicatTranslationScholars\n",
            "http://dbpedia.org/class/yago/WikicatTranslators\n",
            "http://dbpedia.org/class/yago/WikicatTranslatorsFromGreek\n",
            "http://dbpedia.org/class/yago/WikicatTranslatorsFromHebrew\n",
            "http://dbpedia.org/class/yago/WikicatTranslatorsOfTheBibleIntoLatin\n",
            "http://dbpedia.org/class/yago/WikicatTranslatorsToLatin\n",
            "http://dbpedia.org/class/yago/WikicatAfrican-AmericanMaleSingers\n",
            "http://dbpedia.org/class/yago/WikicatAfrican-AmericanMusicians\n",
            "http://dbpedia.org/class/yago/WikicatAfrican-AmericanRockSingers\n",
            "http://dbpedia.org/class/yago/WikicatAmericanBaritones\n",
            "http://dbpedia.org/class/yago/WikicatAmericanExpatriatesInTheUnitedKingdom\n",
            "http://dbpedia.org/class/yago/WikicatAmericanRecordProducers\n",
            "http://dbpedia.org/class/yago/WikicatAmericanRockMusicians\n",
            "http://dbpedia.org/class/yago/WikicatAmericanRockSingers\n",
            "http://dbpedia.org/class/yago/WikicatPeopleFromRenton,Washington\n",
            "http://dbpedia.org/class/yago/WikicatPsychedelicRockMusicians\n",
            "http://dbpedia.org/class/yago/WikicatBluesSingers\n",
            "http://dbpedia.org/class/yago/WikicatCanadianEmigrantsToTheUnitedStates\n",
            "http://dbpedia.org/class/yago/WikicatCapitolRecordsArtists\n",
            "http://dbpedia.org/class/yago/WikicatUniversalMusicGroupArtists\n",
            "http://dbpedia.org/class/yago/WikicatWarnerMusicGroupArtists\n",
            "http://dbpedia.org/class/yago/WikicatMusicians\n",
            "http://dbpedia.org/class/yago/WikicatMusiciansFromSeattle,Washington\n",
            "http://dbpedia.org/class/yago/Wikicat20th-centuryAmericanSingers\n",
            "http://dbpedia.org/class/yago/Wikicat20th-centuryComposers\n",
            "http://dbpedia.org/class/yago/WikicatEnglish-languageSingers\n",
            "http://dbpedia.org/class/yago/WikicatGarfieldHighSchool(Seattle,Washington)Alumni\n",
            "http://dbpedia.org/class/yago/WikicatSongwritersFromWashington(state)\n",
            "http://dbpedia.org/class/yago/WikicatPeopleFromOrléans\n",
            "http://dbpedia.org/class/yago/WikicatPeopleFromVosges\n",
            "http://dbpedia.org/class/yago/WikicatPeopleOfTheHundredYears'War\n",
            "http://dbpedia.org/class/yago/WikicatCatholicMartyrs\n",
            "http://dbpedia.org/class/yago/WikicatWomenInMedievalWarfare\n",
            "http://dbpedia.org/class/yago/WikicatWomenInWarInFrance\n",
            "http://dbpedia.org/class/yago/WikicatMedievalFrenchSaints\n",
            "http://dbpedia.org/class/yago/WikicatRomanCatholicMystics\n",
            "http://dbpedia.org/class/yago/PatronSaint110408552\n",
            "http://dbpedia.org/class/yago/Saint110547145\n",
            "http://dbpedia.org/class/yago/Wikicat15th-centuryChristianFemaleSaints\n",
            "http://dbpedia.org/class/yago/Wikicat15th-centuryChristianMartyrs\n",
            "http://dbpedia.org/class/yago/Wikicat15th-centuryChristianSaints\n",
            "http://dbpedia.org/class/yago/Wikicat15th-centuryRomanCatholicMartyrs\n",
            "http://dbpedia.org/class/yago/WikicatExecutedFrenchPeople\n",
            "http://dbpedia.org/class/yago/WikicatExecutedFrenchWomen\n",
            "http://dbpedia.org/class/yago/WikicatExecutedPeopleFromLorraine\n",
            "http://dbpedia.org/class/yago/WikicatFrenchPeopleExecutedByBurning\n",
            "http://dbpedia.org/class/yago/WikicatPatronSaintsOfFrance\n",
            "http://dbpedia.org/class/yago/WikicatPeopleExecutedByBurning\n",
            "http://dbpedia.org/class/yago/WikicatPeopleExecutedByFrance\n",
            "http://dbpedia.org/class/yago/WikicatPeopleExecutedByTheKingdomOfEnglandByBurning\n",
            "http://dbpedia.org/class/yago/WikicatPeopleExecutedForHeresy\n",
            "http://dbpedia.org/class/yago/WikicatPeopleExecutedUnderTheLancastrians\n",
            "http://dbpedia.org/class/yago/WikicatPeopleFromMainz\n",
            "http://dbpedia.org/class/yago/WikicatPrintersOfIncunabula\n",
            "http://dbpedia.org/class/yago/WikicatMetallurgists\n",
            "http://dbpedia.org/class/yago/Goldsmith110136615\n",
            "http://dbpedia.org/class/yago/Metallurgist110312077\n",
            "http://dbpedia.org/class/yago/Wikicat15th-centuryGermanPeople\n",
            "http://dbpedia.org/class/yago/WikicatGermanGoldsmiths\n",
            "http://dbpedia.org/class/yago/WikicatGermanPrinters\n",
            "http://dbpedia.org/class/yago/WikicatGermanTypographers\n",
            "http://dbpedia.org/class/yago/WikicatGoldsmiths\n",
            "http://dbpedia.org/class/yago/WikicatTypographers\n",
            "http://dbpedia.org/class/yago/WikicatPremiersOfTheProvinceOfCanada\n",
            "http://dbpedia.org/class/yago/WikicatPrimeMinistersOfCanada\n",
            "http://dbpedia.org/class/yago/WikicatBritishEmigrantsToCanada\n",
            "http://dbpedia.org/class/yago/WikicatCanadianKnights\n",
            "http://dbpedia.org/class/yago/WikicatCanadianMinistersOfRailwaysAndCanals\n",
            "http://dbpedia.org/class/yago/WikicatCanadianMonarchists\n",
            "http://dbpedia.org/class/yago/WikicatCanadianPeopleOfEnglishDescent\n",
            "http://dbpedia.org/class/yago/WikicatCanadianPeopleOfScottishDescent\n",
            "http://dbpedia.org/class/yago/WikicatConvertsFromPresbyterianism\n",
            "http://dbpedia.org/class/yago/WikicatConvertsToAnglicanism\n",
            "http://dbpedia.org/class/yago/WikicatLawyersInOntario\n",
            "http://dbpedia.org/class/yago/WikicatLeadersOfTheConservativePartyOfCanada(1867–1942)\n",
            "http://dbpedia.org/class/yago/WikicatLeadersOfTheOpposition(Canada)\n",
            "http://dbpedia.org/class/yago/WikicatScottishEmigrantsToPre-ConfederationOntario\n",
            "http://dbpedia.org/class/yago/Premier109907196\n",
            "http://dbpedia.org/class/yago/Wikicat19th-centuryScottishPeople\n",
            "http://dbpedia.org/class/yago/WikicatFathersOfConfederation\n",
            "http://dbpedia.org/class/yago/WikicatPeopleFromGlasgow\n",
            "http://dbpedia.org/class/yago/WikicatPeopleFromKingston,Ontario\n",
            "http://dbpedia.org/class/yago/WikicatAlumniOfHartHall,Oxford\n",
            "http://dbpedia.org/class/yago/WikicatAnglicanPriests\n",
            "http://dbpedia.org/class/yago/WikicatAnglo-WelshPoets\n",
            "http://dbpedia.org/class/yago/WikicatPeopleFromTheCityOfLondon\n",
            "http://dbpedia.org/class/yago/WikicatPeopleOfTheTudorPeriod\n",
            "http://dbpedia.org/class/yago/WikicatPrisonersInFleetPrison\n",
            "http://dbpedia.org/class/yago/WikicatBritishLawyers\n",
            "http://dbpedia.org/class/yago/WikicatBritishTranslators\n",
            "http://dbpedia.org/class/yago/WikicatConvertsToAnglicanismFromRomanCatholicism\n",
            "http://dbpedia.org/class/yago/WikicatDeansOfStPaul's\n",
            "http://dbpedia.org/class/yago/AcademicAdministrator109758885\n",
            "http://dbpedia.org/class/yago/Dean109996784\n",
            "http://dbpedia.org/class/yago/Sonneteer110625000\n",
            "http://dbpedia.org/class/yago/Wikicat16th-centuryEnglishPeople\n",
            "http://dbpedia.org/class/yago/Wikicat16th-centuryEnglishWriters\n",
            "http://dbpedia.org/class/yago/Wikicat16th-centuryPoets\n",
            "http://dbpedia.org/class/yago/Wikicat16th-centuryTranslators\n",
            "http://dbpedia.org/class/yago/Wikicat16th-centuryWelshPeople\n",
            "http://dbpedia.org/class/yago/Wikicat17th-centuryPeople\n",
            "http://dbpedia.org/class/yago/Wikicat17th-centuryPoets\n",
            "http://dbpedia.org/class/yago/Wikicat17th-centuryTranslators\n",
            "http://dbpedia.org/class/yago/Wikicat17th-centuryWelshPeople\n",
            "http://dbpedia.org/class/yago/WikicatEnglishAnglicanPriests\n",
            "http://dbpedia.org/class/yago/WikicatEnglishPoliticians\n",
            "http://dbpedia.org/class/yago/WikicatEnglishPriests\n",
            "http://dbpedia.org/class/yago/WikicatEnglishSongwriters\n",
            "http://dbpedia.org/class/yago/WikicatEnglishTranslators\n",
            "http://dbpedia.org/class/yago/WikicatSonneteers\n",
            "http://dbpedia.org/class/yago/WikicatTranslatorsFromLatin\n",
            "http://dbpedia.org/class/yago/WikicatAmericanPeopleOfTheBearFlagRevolt\n",
            "http://dbpedia.org/class/yago/WikicatPeopleFromLititz,Pennsylvania\n",
            "http://dbpedia.org/class/yago/WikicatPeopleFromSacramento,California\n",
            "http://dbpedia.org/class/yago/WikicatPeopleFromTheMargraviateOfBaden\n",
            "http://dbpedia.org/class/yago/WikicatPeopleOfTheCaliforniaGoldRush\n",
            "http://dbpedia.org/class/yago/WikicatLandOwnersFromCalifornia\n",
            "http://dbpedia.org/class/yago/WikicatMexicanPeopleOfSwissDescent\n",
            "http://dbpedia.org/class/yago/WikicatNaturalizedCitizensOfMexicanCalifornia\n",
            "http://dbpedia.org/class/yago/WikicatNaturalizedCitizensOfMexico\n",
            "http://dbpedia.org/class/yago/WikicatPeopleByCityInBaden-Württemberg\n",
            "http://dbpedia.org/class/yago/WikicatPeopleFromKandern\n",
            "http://dbpedia.org/class/yago/WikicatSwissEmigrantsToMexico\n",
            "http://dbpedia.org/class/yago/WikicatAmericanEconomists\n",
            "http://dbpedia.org/class/yago/WikicatAmericanNuclearPhysicists\n",
            "http://dbpedia.org/class/yago/WikicatAmericanOperationsResearchers\n",
            "http://dbpedia.org/class/yago/WikicatAmericanPeopleOfHungarian-JewishDescent\n",
            "http://dbpedia.org/class/yago/WikicatAmericanPeopleOfHungarianDescent\n",
            "http://dbpedia.org/class/yago/WikicatHungarianAgnostics\n",
            "http://dbpedia.org/class/yago/WikicatHungarianComputerScientists\n",
            "http://dbpedia.org/class/yago/WikicatHungarianEconomists\n",
            "http://dbpedia.org/class/yago/WikicatHungarianEmigrantsToTheUnitedStates\n",
            "http://dbpedia.org/class/yago/WikicatHungarianInventors\n",
            "http://dbpedia.org/class/yago/WikicatHungarianMathematicians\n",
            "http://dbpedia.org/class/yago/WikicatHungarianNuclearPhysicists\n",
            "http://dbpedia.org/class/yago/WikicatHungarianPhysicists\n",
            "http://dbpedia.org/class/yago/WikicatHungarianScientists\n",
            "http://dbpedia.org/class/yago/WikicatPeopleFromPest,Hungary\n",
            "http://dbpedia.org/class/yago/WikicatPeopleWithEideticMemory\n",
            "http://dbpedia.org/class/yago/WikicatConvertsToRomanCatholicismFromJudaism\n",
            "http://dbpedia.org/class/yago/WikicatLatticeTheorists\n",
            "http://dbpedia.org/class/yago/WikicatManhattanProjectPeople\n",
            "http://dbpedia.org/class/yago/WikicatMathematicalEconomists\n",
            "http://dbpedia.org/class/yago/WikicatMathematicalPhysicists\n",
            "http://dbpedia.org/class/yago/WikicatMeasureTheorists\n",
            "http://dbpedia.org/class/yago/WikicatMentalCalculators\n",
            "http://dbpedia.org/class/yago/WikicatResearchersInStochastics\n",
            "http://dbpedia.org/class/yago/WikicatSetTheorists\n",
            "http://dbpedia.org/class/yago/Analyst109790482\n",
            "http://dbpedia.org/class/yago/Calculator109887034\n",
            "http://dbpedia.org/class/yago/Economist110043643\n",
            "http://dbpedia.org/class/yago/NuclearPhysicist110364643\n",
            "http://dbpedia.org/class/yago/Wikicat20th-centuryChemists\n",
            "http://dbpedia.org/class/yago/WikicatExpatriatesInTheUnitedStates\n",
            "http://dbpedia.org/class/yago/WikicatFunctionalAnalysts\n",
            "http://dbpedia.org/class/yago/WikicatGameTheorists\n",
            "http://dbpedia.org/class/yago/WikicatOperationsResearchers\n",
            "http://dbpedia.org/class/yago/WikicatPeopleFromOklahomaCity,Oklahoma\n",
            "http://dbpedia.org/class/yago/WikicatBuffaloBisons(minorLeague)Players\n",
            "http://dbpedia.org/class/yago/WikicatChoctawPeople\n",
            "http://dbpedia.org/class/yago/WikicatCincinnatiRedsPlayers\n",
            "http://dbpedia.org/class/yago/WikicatMajorLeagueBaseballCatchers\n",
            "http://dbpedia.org/class/yago/Catcher109901143\n",
            "http://dbpedia.org/class/yago/Infielder110205457\n",
            "http://dbpedia.org/class/yago/WikicatPeninsulaGraysPlayers\n",
            "http://dbpedia.org/class/yago/WikicatTampaTarponsPlayers\n",
            "http://dbpedia.org/class/yago/WikicatAncientRomanDictators\n",
            "http://dbpedia.org/class/yago/WikicatAncientRomanGenerals\n",
            "http://dbpedia.org/class/yago/WikicatAncientRomanPoliticians\n",
            "http://dbpedia.org/class/yago/WikicatAncientRomanSoldiers\n",
            "http://dbpedia.org/class/yago/WikicatAncientRomanWriters\n",
            "http://dbpedia.org/class/yago/WikicatAssassinatedItalianPeople\n",
            "http://dbpedia.org/class/yago/WikicatAssassinatedRomanPoliticians\n",
            "http://dbpedia.org/class/yago/WikicatKidnappedPeople\n",
            "http://dbpedia.org/class/yago/WikicatCorrespondentsOfCicero\n",
            "http://dbpedia.org/class/yago/WikicatLatinHistorians\n",
            "http://dbpedia.org/class/yago/WikicatMurderedRomanEmperors\n",
            "http://dbpedia.org/class/yago/WikicatMurderedWriters\n",
            "http://dbpedia.org/class/yago/WikicatRoman-eraHistorians\n",
            "http://dbpedia.org/class/yago/WikicatRomanConsuls\n",
            "http://dbpedia.org/class/yago/WikicatRomanGenerals\n",
            "http://dbpedia.org/class/yago/WikicatRomanGovernorsOfGaul\n",
            "http://dbpedia.org/class/yago/WikicatRomanGovernorsOfHispania\n",
            "http://dbpedia.org/class/yago/WikicatRomanMilitaryWriters\n",
            "http://dbpedia.org/class/yago/WikicatRomanPatricians\n",
            "http://dbpedia.org/class/yago/WikicatRomanRepublicanConsuls\n",
            "http://dbpedia.org/class/yago/WikicatRomanRepublicanPraetors\n",
            "http://dbpedia.org/class/yago/WikicatSenatorsOfTheRomanRepublic\n",
            "http://dbpedia.org/class/yago/Dictator110012244\n",
            "http://dbpedia.org/class/yago/Patrician110407105\n",
            "http://dbpedia.org/class/yago/Praetor110463028\n",
            "http://dbpedia.org/class/yago/Wikicat1st-centuryBCHistorians\n",
            "http://dbpedia.org/class/yago/Wikicat1st-centuryBCRulers\n",
            "http://dbpedia.org/class/yago/Wikicat1st-centuryBCWriters\n",
            "http://dbpedia.org/class/yago/WikicatGoldenAgeLatinWriters\n",
            "http://dbpedia.org/class/yago/WikicatHistoriansOfEconomicThought\n",
            "http://dbpedia.org/class/yago/WikicatJewishHistorians\n",
            "http://dbpedia.org/class/yago/WikicatJewishSociologists\n",
            "http://dbpedia.org/class/yago/WikicatJournalists\n",
            "http://dbpedia.org/class/yago/WikicatPeopleFromTheRhineProvince\n",
            "http://dbpedia.org/class/yago/WikicatPeopleFromTrier\n",
            "http://dbpedia.org/class/yago/WikicatPhilosophersOfHistory\n",
            "http://dbpedia.org/class/yago/WikicatPhilosophersOfLaw\n",
            "http://dbpedia.org/class/yago/WikicatCriticsOfReligions\n",
            "http://dbpedia.org/class/yago/WikicatEconomicHistorians\n",
            "http://dbpedia.org/class/yago/WikicatEconomicsWriters\n",
            "http://dbpedia.org/class/yago/WikicatWritersAboutGlobalization\n",
            "http://dbpedia.org/class/yago/WikicatMarxianEconomists\n",
            "http://dbpedia.org/class/yago/WikicatMarxistHistorians\n",
            "http://dbpedia.org/class/yago/WikicatMarxistJournalists\n",
            "http://dbpedia.org/class/yago/WikicatMarxistTheorists\n",
            "http://dbpedia.org/class/yago/WikicatMaterialists\n",
            "http://dbpedia.org/class/yago/WikicatMenSociologists\n",
            "http://dbpedia.org/class/yago/WikicatSocialPhilosophers\n",
            "http://dbpedia.org/class/yago/WikicatSociologists\n",
            "http://dbpedia.org/class/yago/Authority109824361\n",
            "http://dbpedia.org/class/yago/Critic109979321\n",
            "http://dbpedia.org/class/yago/Evaluator110066732\n",
            "http://dbpedia.org/class/yago/Materialist110300963\n",
            "http://dbpedia.org/class/yago/Sociologist110620758\n",
            "http://dbpedia.org/class/yago/Wikicat19th-centuryEconomists\n",
            "http://dbpedia.org/class/yago/Wikicat19th-centuryPrussianPeople\n",
            "http://dbpedia.org/class/yago/WikicatEmigrants\n",
            "http://dbpedia.org/class/yago/WikicatEnglishEconomists\n",
            "http://dbpedia.org/class/yago/WikicatEnglishHistorians\n",
            "http://dbpedia.org/class/yago/WikicatEnglishRevolutionaries\n",
            "http://dbpedia.org/class/yago/WikicatEnglishSocialists\n",
            "http://dbpedia.org/class/yago/WikicatExiles\n",
            "http://dbpedia.org/class/yago/WikicatGermanEconomists\n",
            "http://dbpedia.org/class/yago/WikicatGermanEmigrantsToTheUnitedKingdom\n",
            "http://dbpedia.org/class/yago/WikicatGermanHistorians\n",
            "http://dbpedia.org/class/yago/WikicatGermanJournalists\n",
            "http://dbpedia.org/class/yago/WikicatGermanRevolutionaries\n",
            "http://dbpedia.org/class/yago/WikicatGermanSociologists\n",
            "http://dbpedia.org/class/yago/WikicatGermanTaxResisters\n",
            "http://dbpedia.org/class/yago/WikicatAmericanMaleNovelists\n",
            "http://dbpedia.org/class/yago/WikicatPeopleFromOteroCounty,Colorado\n",
            "http://dbpedia.org/class/yago/WikicatPeopleFromSpringfield,Oregon\n",
            "http://dbpedia.org/class/yago/WikicatPeopleWhoFakedTheirOwnDeath\n",
            "http://dbpedia.org/class/yago/WikicatPoetsFromOregon\n",
            "http://dbpedia.org/class/yago/WikicatPossibleCut-and-pasteMoves\n",
            "http://dbpedia.org/class/yago/WikicatPostmodernWriters\n",
            "http://dbpedia.org/class/yago/WikicatPranksters\n",
            "http://dbpedia.org/class/yago/WikicatBeatGenerationWriters\n",
            "http://dbpedia.org/class/yago/WikicatCountercultureFestivalsActivists\n",
            "http://dbpedia.org/class/yago/WikicatDrugPolicyReformActivists\n",
            "http://dbpedia.org/class/yago/WikicatWritersFromCalifornia\n",
            "http://dbpedia.org/class/yago/WikicatMaleShortStoryWriters\n",
            "http://dbpedia.org/class/yago/Choice100161243\n",
            "http://dbpedia.org/class/yago/Decision100162632\n",
            "http://dbpedia.org/class/yago/Move100165942\n",
            "http://dbpedia.org/class/yago/Prankster110463714\n",
            "http://dbpedia.org/class/yago/Troublemaker110731244\n",
            "http://dbpedia.org/class/yago/UnwelcomePerson109631129\n",
            "http://dbpedia.org/class/yago/Wikicat20th-centuryAmericanNovelists\n",
            "http://dbpedia.org/class/yago/WikicatStanfordLawSchoolAlumni\n",
            "http://dbpedia.org/ontology/Mammal\n",
            "http://dbpedia.org/class/yago/WikicatMonotypicMammalGenera\n",
            "http://dbpedia.org/class/yago/Genus108108972\n",
            "http://dbpedia.org/class/yago/MammalGenus101864707\n",
            "http://dbpedia.org/class/yago/WikicatAmericanCriminals\n",
            "http://dbpedia.org/class/yago/WikicatAmericanDissidents\n",
            "http://dbpedia.org/class/yago/WikicatAmericanPeopleConvictedOfMurderingPoliceOfficers\n",
            "http://dbpedia.org/class/yago/WikicatAmericanPrisonersSentencedToLifeImprisonment\n",
            "http://dbpedia.org/class/yago/WikicatIndigenousActivists\n",
            "http://dbpedia.org/class/yago/WikicatIndigenousLeadersOfTheAmericas\n",
            "http://dbpedia.org/class/yago/WikicatPeopleFromNorthDakota\n",
            "http://dbpedia.org/class/yago/WikicatPrisonersSentencedToLifeImprisonmentByTheUnitedStatesFederalGovernment\n",
            "http://dbpedia.org/class/yago/Fugitive110115082\n",
            "http://dbpedia.org/class/yago/WikicatFBITenMostWantedFugitives\n",
            "http://dbpedia.org/class/yago/WikicatOjibwePeople\n",
            "http://dbpedia.org/class/yago/WikicatPeopleConvictedOfMurderByTheUnitedStatesFederalGovernment\n",
            "http://dbpedia.org/class/yago/WikicatPeopleConvictedOfMurderingFBIAgents\n",
            "http://dbpedia.org/class/yago/WikicatPeopleFromGrandForks,NorthDakota\n",
            "http://dbpedia.org/class/yago/WikicatBiologists\n",
            "http://dbpedia.org/class/yago/WikicatÉcoleNormaleSupérieureAlumni\n",
            "http://dbpedia.org/class/yago/WikicatLeeuwenhoekMedalWinners\n",
            "http://dbpedia.org/class/yago/WikicatLycéeSaint-LouisAlumni\n",
            "http://dbpedia.org/class/yago/WikicatMicrobiologists\n",
            "http://dbpedia.org/class/yago/Microbiologist110313580\n",
            "http://dbpedia.org/class/yago/WikicatFrenchAgronomists\n",
            "http://dbpedia.org/class/yago/WikicatFrenchBiologists\n",
            "http://dbpedia.org/class/yago/WikicatFrenchChemists\n",
            "http://dbpedia.org/class/yago/WikicatFrenchHumanitarians\n",
            "http://dbpedia.org/class/yago/WikicatFrenchMicrobiologists\n",
            "http://dbpedia.org/class/yago/WikicatFrenchNobelLaureates\n",
            "http://dbpedia.org/class/yago/WikicatFrenchPhysicians\n",
            "http://dbpedia.org/class/yago/WikicatFrenchScientists\n",
            "http://dbpedia.org/class/yago/WikicatPeopleFromDole,Jura\n",
            "http://dbpedia.org/class/yago/WikicatPeopleFromManitoba\n",
            "http://dbpedia.org/class/yago/WikicatPeopleOfTheNorth-WestRebellion\n",
            "http://dbpedia.org/class/yago/WikicatPre-ConfederationSaskatchewanPeople\n",
            "http://dbpedia.org/class/yago/WikicatCanadianMétisPeople\n",
            "http://dbpedia.org/class/yago/WikicatCanadianPeopleExecutedByHanging\n",
            "http://dbpedia.org/class/yago/WikicatCanadianRevolutionaries\n",
            "http://dbpedia.org/class/yago/WikicatCanadianWritersInFrench\n",
            "http://umbel.org/umbel/rc/ParliamentMember\n",
            "http://dbpedia.org/class/yago/WikicatMétisPoliticians\n",
            "http://dbpedia.org/class/yago/WikicatExecutedPoliticians\n",
            "http://dbpedia.org/class/yago/WikicatFranco-ManitobanPeople\n",
            "http://dbpedia.org/class/yago/WikicatFransaskoisPeople\n",
            "http://dbpedia.org/class/yago/WikicatPeopleExecutedByCanadaByHanging\n",
            "http://dbpedia.org/class/yago/WikicatPeopleExecutedForTreasonAgainstCanada\n",
            "http://dbpedia.org/class/yago/WikicatPeopleFromTheElectorateOfCologne\n",
            "http://dbpedia.org/class/yago/WikicatPeopleFromVienna\n",
            "http://dbpedia.org/class/yago/WikicatPeopleWithBipolarDisorder\n",
            "http://dbpedia.org/class/yago/WikicatChildClassicalMusicians\n",
            "http://dbpedia.org/class/yago/WikicatClassical-periodComposers\n",
            "http://dbpedia.org/class/yago/WikicatClassicalComposers\n",
            "http://dbpedia.org/class/yago/WikicatComposersForPiano\n",
            "http://dbpedia.org/class/yago/WikicatDeafClassicalMusicians\n",
            "http://dbpedia.org/class/yago/WikicatDeafMusicians\n",
            "http://dbpedia.org/class/yago/WikicatVienneseComposers\n",
            "http://dbpedia.org/class/yago/WikicatPupilsOfJohannGeorgAlbrechtsberger\n",
            "http://dbpedia.org/class/yago/WikicatPupilsOfJosephHaydn\n",
            "http://dbpedia.org/class/yago/Enrollee110059162\n",
            "http://dbpedia.org/class/yago/Student110665698\n",
            "http://dbpedia.org/class/yago/Wikicat18th-centuryClassicalComposers\n",
            "http://dbpedia.org/class/yago/Wikicat18th-centuryComposers\n",
            "http://dbpedia.org/class/yago/Wikicat18th-centuryGermanPeople\n",
            "http://dbpedia.org/class/yago/Wikicat19th-centuryComposers\n",
            "http://dbpedia.org/class/yago/WikicatGermanClassicalComposers\n",
            "http://dbpedia.org/class/yago/WikicatGermanClassicalPianists\n",
            "http://dbpedia.org/class/yago/WikicatGermanComposers\n",
            "http://dbpedia.org/class/yago/WikicatGermanMusicians\n",
            "http://dbpedia.org/class/yago/WikicatGermanPeople\n",
            "http://dbpedia.org/class/yago/WikicatPeopleFromBonn\n",
            "http://dbpedia.org/class/yago/WikicatAlumniOfUniversityCollegeLondon\n",
            "http://dbpedia.org/class/yago/WikicatAnti–WorldWarIIActivists\n",
            "http://dbpedia.org/class/yago/WikicatAssassinatedIndianPoliticians\n",
            "http://dbpedia.org/class/yago/WikicatGujarati-languageWriters\n",
            "http://dbpedia.org/class/yago/WikicatGujaratiPeople\n",
            "http://dbpedia.org/class/yago/WikicatHinduPacifists\n",
            "http://dbpedia.org/class/yago/WikicatHinduSaints\n",
            "http://dbpedia.org/class/yago/WikicatIndianActivistJournalists\n",
            "http://dbpedia.org/class/yago/WikicatIndianActivists\n",
            "http://dbpedia.org/class/yago/WikicatIndianAnti-warActivists\n",
            "http://dbpedia.org/class/yago/WikicatIndianAutobiographers\n",
            "http://dbpedia.org/class/yago/WikicatIndianBarristers\n",
            "http://dbpedia.org/class/yago/WikicatIndianCivilRightsActivists\n",
            "http://dbpedia.org/class/yago/WikicatIndianEmigrantsToSouthAfrica\n",
            "http://dbpedia.org/class/yago/WikicatIndianExpatriatesInSouthAfrica\n",
            "http://dbpedia.org/class/yago/WikicatIndianExpatriatesInTheUnitedKingdom\n",
            "http://dbpedia.org/class/yago/WikicatIndianHumanitarians\n",
            "http://dbpedia.org/class/yago/WikicatIndianIndependenceActivists\n",
            "http://dbpedia.org/class/yago/WikicatIndianJournalists\n",
            "http://dbpedia.org/class/yago/WikicatIndianLawyers\n",
            "http://dbpedia.org/class/yago/WikicatIndianMurderVictims\n",
            "http://dbpedia.org/class/yago/WikicatIndianNationalCongressPoliticians\n",
            "http://dbpedia.org/class/yago/WikicatIndianPacifists\n",
            "http://dbpedia.org/class/yago/WikicatIndianPoliticians\n",
            "http://dbpedia.org/class/yago/WikicatIndianRevolutionaries\n",
            "http://dbpedia.org/class/yago/WikicatIndianTaxResisters\n",
            "http://dbpedia.org/class/yago/WikicatInternationalOpponentsOfApartheidInSouthAfrica\n",
            "http://dbpedia.org/class/yago/WikicatPeopleFromPorbandar\n",
            "http://dbpedia.org/class/yago/WikicatPeopleMurderedInDelhi\n",
            "http://dbpedia.org/class/yago/WikicatPeopleMurderedInIndia\n",
            "http://dbpedia.org/class/yago/WikicatPeopleOfBritishIndia\n",
            "http://dbpedia.org/class/yago/WikicatPresidentsOfTheIndianNationalCongress\n",
            "http://dbpedia.org/class/yago/WikicatPrisonersAndDetaineesOfBritishIndia\n",
            "http://dbpedia.org/class/yago/WikicatConscientiousObjectors\n",
            "http://dbpedia.org/class/yago/WikicatContemporaryIndianPhilosophers\n",
            "http://dbpedia.org/class/yago/WikicatNatalIndianCongressPoliticians\n",
            "http://dbpedia.org/class/yago/WikicatReliefWorkersInNoakhali\n",
            "http://dbpedia.org/class/yago/WikicatRevolutionaryMartyrs\n",
            "http://dbpedia.org/class/yago/Barrister109840963\n",
            "http://dbpedia.org/class/yago/ConscientiousObjector109957013\n",
            "http://dbpedia.org/class/yago/Opposition110379620\n",
            "http://dbpedia.org/class/yago/WikicatPeopleFromJohannesburg\n",
            "http://dbpedia.org/class/yago/WikicatSouthAfricanIndianCongressPoliticians\n",
            "http://dbpedia.org/class/yago/WikicatTerrorismVictims\n",
            "http://dbpedia.org/ontology/MusicGenre\n",
            "http://dbpedia.org/class/yago/WikicatInquisitors\n",
            "http://dbpedia.org/class/yago/WikicatItalianLibrarians\n",
            "http://dbpedia.org/class/yago/WikicatItalianRomanCatholicArchbishops\n",
            "http://dbpedia.org/class/yago/WikicatItalianRomanCatholicTheologians\n",
            "http://dbpedia.org/class/yago/WikicatItalianTheologians\n",
            "http://dbpedia.org/class/yago/WikicatJesuitArchbishops\n",
            "http://dbpedia.org/class/yago/WikicatJesuitCardinals\n",
            "http://dbpedia.org/class/yago/WikicatPeopleFromTheProvinceOfSiena\n",
            "http://dbpedia.org/class/yago/WikicatPontificalGregorianUniversityAlumni\n",
            "http://dbpedia.org/class/yago/WikicatBishopsOfCapua\n",
            "http://dbpedia.org/class/yago/WikicatEarlyModernChristianDevotionalWriters\n",
            "http://dbpedia.org/class/yago/WikicatSaintsCanonizedByPopePiusXI\n",
            "http://dbpedia.org/class/yago/Archbishop109805151\n",
            "http://dbpedia.org/class/yago/Inquisitor110208287\n",
            "http://dbpedia.org/class/yago/Wikicat16th-centuryRomanCatholicBishops\n",
            "http://dbpedia.org/class/yago/Wikicat17th-centuryRomanCatholicArchbishops\n",
            "http://dbpedia.org/class/yago/Wikicat17th-centuryTheologians\n",
            "http://dbpedia.org/class/yago/WikicatRobots\n",
            "http://dbpedia.org/class/yago/WikicatScienceFictionWeapons\n",
            "http://dbpedia.org/class/yago/Automaton102761392\n",
            "http://dbpedia.org/class/yago/Device103183080\n",
            "http://dbpedia.org/class/yago/Instrument103574816\n",
            "http://dbpedia.org/class/yago/Mechanism103738472\n",
            "http://dbpedia.org/class/yago/Weapon104565375\n",
            "http://dbpedia.org/class/yago/WikicatFictionalWeapons\n",
            "http://dbpedia.org/class/yago/WikicatHeroesInMythologyAndLegend\n",
            "http://dbpedia.org/class/yago/WikicatIslamicReligiousLeaders\n",
            "http://dbpedia.org/class/yago/WikicatNonexistentPeople\n",
            "http://dbpedia.org/class/yago/WikicatPeopleFromEskişehirProvince\n",
            "http://dbpedia.org/class/yago/WikicatArgonauts\n",
            "http://dbpedia.org/class/yago/WikicatGreekMythologicalWitches\n",
            "http://dbpedia.org/class/yago/WikicatPrincessesInGreekMythology\n",
            "http://dbpedia.org/class/yago/WikicatWomenAndDeath\n",
            "http://dbpedia.org/class/yago/WikicatMythologicalGreekSeers\n",
            "http://dbpedia.org/class/yago/Argonaut109607782\n",
            "http://dbpedia.org/class/yago/Enchantress110055297\n",
            "http://dbpedia.org/class/yago/WikicatFictionalPeopleFromGeorgia(country)\n",
            "http://dbpedia.org/class/yago/WikicatDeitiesInTheAeneid\n",
            "http://dbpedia.org/class/yago/WikicatTricksterDeities\n",
            "http://dbpedia.org/class/yago/WikicatGreekDeathGoddesses\n",
            "http://dbpedia.org/class/yago/WikicatGreekGoddesses\n",
            "http://dbpedia.org/class/yago/WikicatChthonicBeings\n",
            "http://dbpedia.org/class/yago/WikicatDeathDeities\n",
            "http://dbpedia.org/class/yago/WikicatLife-death-rebirthGoddesses\n",
            "http://dbpedia.org/class/yago/Being113954253\n",
            "http://dbpedia.org/class/yago/WikicatEleusinianMysteries\n",
            "http://dbpedia.org/class/yago/WikicatUnderworldGoddesses\n",
            "http://dbpedia.org/class/yago/WikicatApostolicNunciosToFrance\n",
            "http://umbel.org/umbel/rc/Pope\n",
            "http://dbpedia.org/class/yago/WikicatItalianPopes\n",
            "http://dbpedia.org/class/yago/WikicatBishopsOfSpoleto\n",
            "http://dbpedia.org/class/yago/WikicatDiplomatsOfTheHolySee\n",
            "http://dbpedia.org/class/yago/Nuncio110368113\n",
            "http://dbpedia.org/class/yago/WikicatBeekeepers\n",
            "http://dbpedia.org/class/yago/Addict109768830\n",
            "http://dbpedia.org/class/yago/Beekeeper109846755\n",
            "http://dbpedia.org/class/yago/Criminologist109978442\n",
            "http://dbpedia.org/class/yago/Detective110009276\n",
            "http://dbpedia.org/class/yago/Detective110009484\n",
            "http://dbpedia.org/class/yago/DrugAddict110035952\n",
            "http://dbpedia.org/class/yago/DrugUser110036266\n",
            "http://dbpedia.org/class/yago/GovernmentAgent110133644\n",
            "http://dbpedia.org/class/yago/Investigator110215623\n",
            "http://dbpedia.org/class/yago/PrivateDetective110476671\n",
            "http://dbpedia.org/class/yago/WikicatFictionalAmateurDetectives\n",
            "http://dbpedia.org/class/yago/WikicatFictionalCriminologists\n",
            "http://dbpedia.org/class/yago/WikicatFictionalDetectives\n",
            "http://dbpedia.org/class/yago/WikicatFictionalDrugAddicts\n",
            "http://dbpedia.org/class/yago/WikicatFictionalEnglishPeople\n",
            "http://dbpedia.org/class/yago/WikicatFictionalForensicScientists\n",
            "http://dbpedia.org/class/yago/WikicatFictionalGovernmentAgents\n",
            "http://dbpedia.org/class/yago/WikicatFictionalMartialArtists\n",
            "http://dbpedia.org/class/yago/WikicatFictionalMusicians\n",
            "http://dbpedia.org/class/yago/WikicatFictionalPeopleFromLondon\n",
            "http://dbpedia.org/class/yago/WikicatFictionalPrivateInvestigators\n",
            "http://dbpedia.org/class/yago/WikicatFictionalScientists\n",
            "http://dbpedia.org/class/yago/WikicatFictionalViolinists\n",
            "http://dbpedia.org/class/yago/WikicatFictionalWriters\n",
            "http://dbpedia.org/ontology/AnatomicalStructure\n",
            "http://www.wikidata.org/entity/Q4936952\n",
            "http://dbpedia.org/class/yago/WikicatBohemianMonarchs\n",
            "http://dbpedia.org/class/yago/WikicatChalcedonianChristianMonarchs\n",
            "http://dbpedia.org/class/yago/WikicatCzechMurderVictims\n",
            "http://dbpedia.org/class/yago/WikicatDukesOfBohemia\n",
            "http://dbpedia.org/class/yago/WikicatMedievalChildRulers\n",
            "http://dbpedia.org/class/yago/Wikicat10th-centuryRulersInEurope\n",
            "http://dbpedia.org/class/yago/WikicatBritishChildren'sWriters\n",
            "http://dbpedia.org/class/yago/WikicatBritishFeminists\n",
            "http://dbpedia.org/class/yago/WikicatBritishWomenWriters\n",
            "http://dbpedia.org/class/yago/WikicatWomenOfTheVictorianEra\n",
            "http://dbpedia.org/class/yago/Wikicat19th-centuryIrishWriters\n",
            "http://dbpedia.org/class/yago/WikicatAmericanAirlineChiefExecutives\n",
            "http://dbpedia.org/class/yago/WikicatAmericanBeautyPageantOwners\n",
            "http://dbpedia.org/class/yago/WikicatAmericanBloggers\n",
            "http://dbpedia.org/class/yago/WikicatAmericanBusinessWriters\n",
            "http://dbpedia.org/class/yago/WikicatAmericanFinancialCommentators\n",
            "http://dbpedia.org/class/yago/WikicatAmericanFinancialLiteracyActivists\n",
            "http://dbpedia.org/class/yago/WikicatAmericanFinanciers\n",
            "http://dbpedia.org/class/yago/WikicatAmericanGameShowHosts\n",
            "http://dbpedia.org/class/yago/WikicatAmericanHoteliers\n",
            "http://dbpedia.org/class/yago/WikicatAmericanInvestmentAdvisors\n",
            "http://dbpedia.org/class/yago/WikicatAmericanPoliticalFundraisers\n",
            "http://dbpedia.org/class/yago/WikicatAmericanRadioProducers\n",
            "http://dbpedia.org/class/yago/WikicatAmericanRealityTelevisionProducers\n",
            "http://dbpedia.org/class/yago/WikicatAmericanSocialites\n",
            "http://dbpedia.org/class/yago/WikicatAmericanStockTraders\n",
            "http://dbpedia.org/class/yago/WikicatAmericanTelevisionDirectors\n",
            "http://dbpedia.org/class/yago/WikicatAmericanTelevisionHosts\n",
            "http://dbpedia.org/class/yago/WikicatAmericanVideoGameDesigners\n",
            "http://dbpedia.org/class/yago/WikicatPeopleFromPalmBeach,Florida\n",
            "http://dbpedia.org/class/yago/WikicatPeopleFromQueens,NewYork\n",
            "http://dbpedia.org/class/yago/WikicatBoardGameDesigners\n",
            "http://dbpedia.org/class/yago/WikicatBusinessEducators\n",
            "http://dbpedia.org/class/yago/WikicatConspiracyTheorists\n",
            "http://dbpedia.org/class/yago/WikicatUnitedStatesFootballLeagueExecutives\n",
            "http://dbpedia.org/class/yago/WikicatWritersFromFlorida\n",
            "http://dbpedia.org/class/yago/WikicatWritersFromNewYorkCity\n",
            "http://dbpedia.org/class/yago/Adviser109774266\n",
            "http://dbpedia.org/class/yago/Applicant109607280\n",
            "http://dbpedia.org/class/yago/Blogger109860415\n",
            "http://dbpedia.org/class/yago/Financier110090020\n",
            "http://dbpedia.org/class/yago/Fundraiser110116478\n",
            "http://dbpedia.org/class/yago/Host110187130\n",
            "http://dbpedia.org/class/yago/Hotelier110187990\n",
            "http://dbpedia.org/class/yago/ImportantPerson110200781\n",
            "http://dbpedia.org/class/yago/InvestmentAdviser110215815\n",
            "http://dbpedia.org/class/yago/Petitioner110420031\n",
            "http://dbpedia.org/class/yago/Socialite110619409\n",
            "http://dbpedia.org/class/yago/Solicitor110623354\n",
            "http://dbpedia.org/class/yago/StockTrader110657835\n",
            "http://dbpedia.org/class/yago/Trader110720453\n",
            "http://dbpedia.org/class/yago/WikicatFordhamUniversityAlumni\n",
            "http://dbpedia.org/class/yago/WikicatNewYorkMilitaryAcademyAlumni\n",
            "http://dbpedia.org/class/yago/WikicatParticipantsInAmericanRealityTelevisionSeries\n",
            "http://dbpedia.org/class/yago/WikicatTelevisionProducersFromNewYork\n",
            "http://dbpedia.org/class/yago/WikicatTheTrumpOrganizationEmployees\n",
            "http://dbpedia.org/class/yago/WikicatAmericanPeopleOfTheVietnamWar\n",
            "http://dbpedia.org/class/yago/WikicatPeopleFromNebraska\n",
            "http://dbpedia.org/class/yago/WikicatPeopleFromOmaha,Nebraska\n",
            "http://dbpedia.org/class/yago/WikicatPeopleFromRanchoMirage,California\n",
            "http://dbpedia.org/class/yago/WikicatPeopleOfTheVietnamWar\n",
            "http://dbpedia.org/class/yago/WikicatPlayersOfAmericanFootballFromMichigan\n",
            "http://dbpedia.org/class/yago/WikicatDistinguishedEagleScouts\n",
            "http://dbpedia.org/class/yago/WikicatYaleBulldogsFootballCoaches\n",
            "http://dbpedia.org/class/yago/WikicatYaleLawSchoolAlumni\n",
            "http://dbpedia.org/class/yago/WikicatMichiganLawyers\n",
            "http://dbpedia.org/class/yago/WikicatMichiganPoliticians\n",
            "http://dbpedia.org/class/yago/WikicatMichiganWolverinesFootballPlayers\n",
            "http://dbpedia.org/class/yago/WikicatMinorityLeadersOfTheUnitedStatesHouseOfRepresentatives\n",
            "http://dbpedia.org/class/yago/Lookout110271216\n",
            "http://dbpedia.org/class/yago/MinorityLeader110321233\n",
            "http://dbpedia.org/class/yago/Watchman110770059\n",
            "http://dbpedia.org/class/yago/WikicatPeopleFromGrandRapids,Michigan\n",
            "http://dbpedia.org/class/yago/WikicatGovernorsOfTheHudson'sBayCompany\n",
            "http://dbpedia.org/class/yago/WikicatIrishKings\n",
            "http://dbpedia.org/class/yago/WikicatConvertsToRomanCatholicismFromAnglicanism\n",
            "http://dbpedia.org/class/yago/WikicatEarlsInThePeerageOfIreland\n",
            "http://dbpedia.org/class/yago/WikicatEarlsOfUlster\n",
            "http://dbpedia.org/class/yago/WikicatLordHighAdmirals\n",
            "http://dbpedia.org/class/yago/WikicatLordHighAdmiralsOfScotland\n",
            "http://dbpedia.org/class/yago/WikicatRomanCatholicHeadsOfGovernment\n",
            "http://dbpedia.org/class/yago/WikicatScottishMonarchsInPopularCulture\n",
            "http://dbpedia.org/class/yago/WikicatEnglishMonarchsInPopularCulture\n",
            "http://dbpedia.org/class/yago/WikicatEnglishPeopleOfFrenchDescent\n",
            "http://dbpedia.org/class/yago/WikicatAlumniOfTheLondonSchoolOfEconomics\n",
            "http://dbpedia.org/class/yago/WikicatPeopleMurderedInTexas\n",
            "http://dbpedia.org/class/yago/WikicatChoateRosemaryHallAlumni\n",
            "http://dbpedia.org/class/yago/WikicatPeopleAssociatedWithTheBoyScoutsOfAmerica\n",
            "http://dbpedia.org/class/yago/WikicatPeopleAssociatedWithTheJohnF.KennedyAssassination\n",
            "http://dbpedia.org/class/yago/WikicatPeopleFromBrookline,Massachusetts\n",
            "http://dbpedia.org/class/yago/WikicatSpaceAdvocates\n",
            "http://dbpedia.org/class/yago/WikicatPeopleFromLaPaz\n",
            "http://dbpedia.org/class/yago/WikicatBolivianPeopleOfSpanishDescent\n",
            "http://dbpedia.org/class/yago/Forger110105260\n",
            "http://dbpedia.org/class/yago/WikicatForgers\n",
            "http://dbpedia.org/class/yago/WikicatBangladeshiWriters\n",
            "http://dbpedia.org/class/yago/WikicatIndianComposers\n",
            "http://dbpedia.org/class/yago/WikicatIndianDramatistsAndPlaywrights\n",
            "http://dbpedia.org/class/yago/WikicatIndianEducationists\n",
            "http://dbpedia.org/class/yago/WikicatIndianEssayists\n",
            "http://dbpedia.org/class/yago/WikicatIndianKnights\n",
            "http://dbpedia.org/class/yago/WikicatIndianNobelLaureates\n",
            "http://dbpedia.org/class/yago/WikicatIndianPainters\n",
            "http://dbpedia.org/class/yago/WikicatIndianPeople\n",
            "http://dbpedia.org/class/yago/WikicatIndianPoets\n",
            "http://dbpedia.org/class/yago/WikicatIndianPortraitPainters\n",
            "http://dbpedia.org/class/yago/WikicatIndianShortStoryWriters\n",
            "http://dbpedia.org/class/yago/WikicatIndianSongwriters\n",
            "http://dbpedia.org/class/yago/WikicatIndianWriters\n",
            "http://dbpedia.org/class/yago/WikicatPeopleFromKolkata\n",
            "http://dbpedia.org/class/yago/WikicatPresidencyUniversity,KolkataAlumni\n",
            "http://dbpedia.org/class/yago/WikicatBengali-languagePoets\n",
            "http://dbpedia.org/class/yago/WikicatBengali-languageWriters\n",
            "http://dbpedia.org/class/yago/WikicatBengaliNobelLaureates\n",
            "http://dbpedia.org/class/yago/WikicatBengaliPhilosophers\n",
            "http://dbpedia.org/class/yago/WikicatBengaliPoets\n",
            "http://dbpedia.org/class/yago/WikicatBengaliWriters\n",
            "http://dbpedia.org/class/yago/WikicatMusiciansFromKolkata\n",
            "http://dbpedia.org/class/yago/Wikicat20th-centuryEducators\n",
            "http://dbpedia.org/class/yago/WikicatEnglish-languagePoetsFromIndia\n",
            "http://dbpedia.org/class/yago/WikicatEnglish-languageWritersFromIndia\n",
            "http://dbpedia.org/class/yago/WikicatNobelLaureatesFromWestBengal\n",
            "http://dbpedia.org/class/yago/WikicatNobelLaureatesInLiterature\n",
            "http://dbpedia.org/class/yago/WikicatPeopleAssociatedWithSantiniketan\n",
            "http://dbpedia.org/class/yago/WikicatPeopleAssociatedWithTheBengalRenaissance\n",
            "http://dbpedia.org/class/yago/WikicatPeopleOfPennsylvaniaInTheAmericanCivilWar\n",
            "http://dbpedia.org/class/yago/WikicatPittsburghTheologicalSeminaryAlumni\n",
            "http://dbpedia.org/class/yago/WikicatPresidentsOfMiamiUniversity\n",
            "http://dbpedia.org/class/yago/WikicatPresidentsOfOhioStateUniversity\n",
            "http://dbpedia.org/class/yago/WikicatMuskingumUniversityAlumni\n",
            "http://dbpedia.org/class/yago/WikicatPeopleFromCambridge,Ohio\n",
            "http://umbel.org/umbel/rc/Fish\n",
            "http://dbpedia.org/class/yago/WikicatKnightsOfTheOrderOfTheCrescent\n",
            "http://dbpedia.org/class/yago/WikicatPeopleKilledInAction\n",
            "http://dbpedia.org/class/yago/WikicatPeopleWhoDiedAtSea\n",
            "http://dbpedia.org/class/yago/WikicatBlindPeopleFromEngland\n",
            "http://dbpedia.org/class/yago/WikicatBritishNavalCommandersOfTheNapoleonicWars\n",
            "http://dbpedia.org/class/yago/WikicatRoyalNavyAdmirals\n",
            "http://dbpedia.org/class/yago/NavalCommander110347446\n",
            "http://dbpedia.org/class/yago/NavalOfficer110347593\n",
            "http://dbpedia.org/class/yago/WikicatEnglishAmputees\n",
            "http://dbpedia.org/class/yago/WikicatPeopleEducatedAtNorwichSchool(independentSchool)\n",
            "http://dbpedia.org/class/yago/WikicatPeopleEducatedAtPastonCollege\n",
            "http://dbpedia.org/class/yago/WikicatPeopleFromKing'sLynnAndWestNorfolk(district)\n",
            "http://dbpedia.org/class/yago/WikicatFrenchNavyOfficers\n",
            "http://dbpedia.org/class/yago/WikicatFrenchPeopleOfTheFrenchAndIndianWar\n",
            "http://dbpedia.org/class/yago/WikicatAteneoDeManilaUniversityAlumni\n",
            "http://dbpedia.org/class/yago/WikicatPeopleFromLaguna(province)\n",
            "http://dbpedia.org/class/yago/WikicatLinguistsFromThePhilippines\n",
            "http://dbpedia.org/class/yago/Ophthalmologist110379073\n",
            "http://dbpedia.org/class/yago/WikicatExecutedFilipinoPeople\n",
            "http://dbpedia.org/class/yago/WikicatExecutedRevolutionaries\n",
            "http://dbpedia.org/class/yago/WikicatExecutedWriters\n",
            "http://dbpedia.org/class/yago/WikicatFilipinoArtists\n",
            "http://dbpedia.org/class/yago/WikicatFilipinoExiles\n",
            "http://dbpedia.org/class/yago/WikicatFilipinoExpatriatesInGermany\n",
            "http://dbpedia.org/class/yago/WikicatFilipinoExpatriatesInHongKong\n",
            "http://dbpedia.org/class/yago/WikicatFilipinoMedicalDoctors\n",
            "http://dbpedia.org/class/yago/WikicatFilipinoNovelists\n",
            "http://dbpedia.org/class/yago/WikicatFilipinoOphthalmologists\n",
            "http://dbpedia.org/class/yago/WikicatFilipinoPainters\n",
            "http://dbpedia.org/class/yago/WikicatFilipinoPeople\n",
            "http://dbpedia.org/class/yago/WikicatFilipinoPeopleExecutedByFiringSquad\n",
            "http://dbpedia.org/class/yago/WikicatFilipinoPeopleOfChineseDescent\n",
            "http://dbpedia.org/class/yago/WikicatFilipinoPeopleOfJapaneseDescent\n",
            "http://dbpedia.org/class/yago/WikicatFilipinoPeopleOfSpanishDescent\n",
            "http://dbpedia.org/class/yago/WikicatFilipinoPoets\n",
            "http://dbpedia.org/class/yago/WikicatFilipinoPoliticians\n",
            "http://dbpedia.org/class/yago/WikicatFilipinoResistanceActivists\n",
            "http://dbpedia.org/class/yago/WikicatFilipinoRevolutionaries\n",
            "http://dbpedia.org/class/yago/WikicatFilipinoWriters\n",
            "http://dbpedia.org/class/yago/WikicatOphthalmologists\n",
            "http://dbpedia.org/class/yago/WikicatSpanish-languageWritersOfThePhilippines\n",
            "http://dbpedia.org/class/yago/WikicatTagalog-languageWriters\n",
            "http://dbpedia.org/class/yago/WikicatTagalogPeople\n",
            "http://dbpedia.org/class/yago/WikicatAmericanBoxers\n",
            "http://dbpedia.org/class/yago/WikicatAmericanBoxersOfItalianDescent\n",
            "http://dbpedia.org/class/yago/WikicatAmericanPeopleOfSicilianDescent\n",
            "http://dbpedia.org/ontology/Boxer\n",
            "http://dbpedia.org/class/yago/WikicatPeopleFromNorthEnd,Boston\n",
            "http://dbpedia.org/class/yago/WikicatWelterweightBoxers\n",
            "http://dbpedia.org/class/yago/Boxer109870208\n",
            "http://dbpedia.org/class/yago/WikicatPeopleFromLisbon\n",
            "http://dbpedia.org/class/yago/WikicatPopulatedPlacesInPiauí\n",
            "http://dbpedia.org/class/yago/WikicatPortugueseRomanCatholicSaints\n",
            "http://dbpedia.org/class/yago/Wikicat13th-centuryPortuguesePeople\n",
            "http://dbpedia.org/class/yago/Wikicat13th-centuryTheologians\n",
            "http://dbpedia.org/class/yago/WikicatFranciscanDoctorsOfTheChurch\n",
            "http://dbpedia.org/class/yago/WikicatFranciscanTheologians\n",
            "http://dbpedia.org/class/yago/WikicatPre-19th-centuryLGBTPeople\n",
            "http://dbpedia.org/class/yago/WikicatMaleLoversOfRoyalty\n",
            "http://dbpedia.org/class/yago/WikicatRoyalLovers\n",
            "http://dbpedia.org/class/yago/Lover109622302\n",
            "http://dbpedia.org/class/yago/Wikicat2nd-centuryGreekPeople\n",
            "http://dbpedia.org/class/yago/WikicatGovernorsOfOaxaca\n",
            "http://dbpedia.org/class/yago/WikicatPeopleFromOaxaca\n",
            "http://dbpedia.org/class/yago/WikicatZapotecPeople\n",
            "http://dbpedia.org/class/yago/WikicatMexicanJudges\n",
            "http://dbpedia.org/class/yago/WikicatMexicanLawyers\n",
            "http://dbpedia.org/class/yago/WikicatMexicanRegicides\n",
            "http://dbpedia.org/class/yago/Regicide110516422\n",
            "http://dbpedia.org/class/yago/WikicatHartfordWhalers\n",
            "http://dbpedia.org/class/yago/WikicatIceHockeyPlayers\n",
            "http://dbpedia.org/class/yago/WikicatPeopleFromParrySound,Ontario\n",
            "http://dbpedia.org/class/yago/WikicatBostonBruinsPlayers\n",
            "http://dbpedia.org/class/yago/WikicatCanadianIceHockeyCoaches\n",
            "http://dbpedia.org/class/yago/WikicatCanadianPeopleOfUlster-ScottishDescent\n",
            "http://dbpedia.org/class/yago/WikicatChicagoBlackhawksCoaches\n",
            "http://dbpedia.org/class/yago/HockeyCoach110179207\n",
            "http://dbpedia.org/class/yago/Mariner110294602\n",
            "http://dbpedia.org/class/yago/Whaler110775128\n",
            "http://dbpedia.org/class/yago/WikicatOshawaGeneralsPlayers\n",
            "http://dbpedia.org/class/yago/WikicatConflictsIn1770\n",
            "http://dbpedia.org/class/yago/WikicatDisastersInMassachusetts\n",
            "http://dbpedia.org/class/yago/WikicatMassacresCommittedByGreatBritain\n",
            "http://dbpedia.org/class/yago/WikicatMassacresInTheThirteenColonies\n",
            "http://dbpedia.org/class/yago/WikicatMassacresInTheUnitedStates\n",
            "http://dbpedia.org/class/yago/Aggression100964569\n",
            "http://dbpedia.org/class/yago/Calamity107314838\n",
            "http://dbpedia.org/class/yago/Happening107283608\n",
            "http://dbpedia.org/class/yago/Misfortune107304852\n",
            "http://dbpedia.org/class/yago/Riot101170502\n",
            "http://dbpedia.org/class/yago/Trouble107289014\n",
            "http://dbpedia.org/class/yago/Violence100965404\n",
            "http://dbpedia.org/class/yago/Wikicat1770Crimes\n",
            "http://dbpedia.org/class/yago/Wikicat1770Riots\n",
            "http://dbpedia.org/class/yago/WikicatAbbots\n",
            "http://dbpedia.org/class/yago/WikicatHeadsOfStateOfFrance\n",
            "http://dbpedia.org/class/yago/WikicatPeopleOfTheAncienRégime\n",
            "http://dbpedia.org/class/yago/WikicatPoliticiansFromParis\n",
            "http://dbpedia.org/class/yago/WikicatPrimeMinistersOfFrance\n",
            "http://dbpedia.org/class/yago/WikicatBishopsOfLuçon\n",
            "http://dbpedia.org/class/yago/WikicatDukesOfRichelieu\n",
            "http://dbpedia.org/class/yago/WikicatRomanCatholicCardinals\n",
            "http://dbpedia.org/class/yago/Abbot109754404\n",
            "http://dbpedia.org/class/yago/Superior110675876\n",
            "http://dbpedia.org/class/yago/Wikicat17th-centuryRomanCatholicBishops\n",
            "http://dbpedia.org/class/yago/WikicatFrenchCardinals\n",
            "http://dbpedia.org/class/yago/WikicatFrenchForeignMinisters\n",
            "http://dbpedia.org/class/yago/WikicatFrenchPeopleOfTheThirtyYears'War\n",
            "http://dbpedia.org/class/yago/WikicatFrenchPoliticians\n",
            "http://dbpedia.org/class/yago/WikicatGovernmentMinistersOfFrance\n",
            "http://dbpedia.org/class/yago/WikicatPeersOfFrance\n",
            "http://dbpedia.org/class/yago/WikicatAmericanPeopleOfSpanishDescent\n",
            "http://dbpedia.org/class/yago/WikicatAmericanPrisonersOfWar\n",
            "http://dbpedia.org/class/yago/WikicatAmericanSailors\n",
            "http://dbpedia.org/class/yago/WikicatPeopleFromTennessee\n",
            "http://dbpedia.org/class/yago/WikicatPeopleOfTennesseeInTheAmericanCivilWar\n",
            "http://dbpedia.org/class/yago/WikicatUnionNavyAdmirals\n",
            "http://dbpedia.org/class/yago/WikicatUnitedStatesNavyCommodores\n",
            "http://dbpedia.org/class/yago/Commodore109945021\n",
            "http://dbpedia.org/class/yago/Wikicat19th-centuryAmericanNavalOfficers\n",
            "http://dbpedia.org/class/yago/WikicatPeopleFromHastings-on-Hudson,NewYork\n",
            "http://dbpedia.org/class/yago/WikicatPeopleFromMorelos\n",
            "http://dbpedia.org/class/yago/WikicatNahuaPeople\n",
            "http://dbpedia.org/class/yago/Wikicat19th-centuryMexicanPeople\n",
            "http://dbpedia.org/class/yago/WikicatFolkSaints\n",
            "http://dbpedia.org/class/yago/WikicatPeopleFromCiudadAyala,Morelos\n",
            "http://dbpedia.org/class/yago/WikicatHawaiiCatholicPriests\n",
            "http://dbpedia.org/class/yago/WikicatHumanitarians\n",
            "http://dbpedia.org/class/yago/WikicatPeopleFromMolokai\n",
            "http://dbpedia.org/class/yago/WikicatPicpusFathers\n",
            "http://dbpedia.org/class/yago/WikicatBelgianMissionaries\n",
            "http://dbpedia.org/class/yago/WikicatBelgianMonks\n",
            "http://dbpedia.org/class/yago/WikicatBelgianPeople\n",
            "http://dbpedia.org/class/yago/WikicatBelgianRomanCatholicMissionaries\n",
            "http://dbpedia.org/class/yago/WikicatBelgianRomanCatholicPriests\n",
            "http://dbpedia.org/class/yago/WikicatCatholicMissionariesInHawaii\n",
            "http://dbpedia.org/class/yago/Wikicat19th-centuryBelgianPeople\n",
            "http://dbpedia.org/class/yago/Wikicat19th-centuryRomanCatholicPriests\n",
            "http://dbpedia.org/class/yago/WikicatFlemishPriests\n",
            "http://dbpedia.org/class/yago/WikicatPeopleFromFlemishBrabant\n",
            "http://dbpedia.org/class/yago/WikicatLadiesOfGraceOfTheOrderOfStJohn\n",
            "http://dbpedia.org/class/yago/WikicatPeopleOfTheCrimeanWar\n",
            "http://dbpedia.org/class/yago/WikicatBritishActivists\n",
            "http://dbpedia.org/class/yago/WikicatBritishNurses\n",
            "http://dbpedia.org/class/yago/WikicatBritishStatisticians\n",
            "http://dbpedia.org/class/yago/WikicatBritishWomenScientists\n",
            "http://dbpedia.org/class/yago/WikicatDamesOfGraceOfTheOrderOfStJohn\n",
            "http://dbpedia.org/class/yago/Dame109989045\n",
            "http://dbpedia.org/class/yago/Girl110129825\n",
            "http://dbpedia.org/class/yago/Wikicat19th-centuryEnglishPeople\n",
            "http://dbpedia.org/class/yago/WikicatEnglishNurses\n",
            "http://dbpedia.org/class/yago/WikicatEnglishStatisticians\n",
            "http://dbpedia.org/class/yago/WikicatEnglishTheologians\n",
            "http://dbpedia.org/class/yago/WikicatFellowsOfTheRoyalStatisticalSociety\n",
            "http://dbpedia.org/class/yago/WikicatNurses\n",
            "http://dbpedia.org/class/yago/WikicatNursingResearchers\n",
            "http://dbpedia.org/class/yago/WikicatNursingTheorists\n",
            "http://dbpedia.org/class/yago/WikicatStatisticians\n",
            "http://dbpedia.org/class/yago/WikicatBaroqueComposers\n",
            "http://dbpedia.org/class/yago/WikicatLGBTPeopleFromGermany\n",
            "http://dbpedia.org/class/yago/WikicatPeopleFromPrussia\n",
            "http://dbpedia.org/class/yago/WikicatClassicalFlautists\n",
            "http://dbpedia.org/class/yago/WikicatCountsOfRavensberg\n",
            "http://dbpedia.org/class/yago/WikicatWritersFromBerlin\n",
            "http://dbpedia.org/class/yago/WikicatLetterWriters\n",
            "http://dbpedia.org/class/yago/WikicatMonarchsWhoWereFreemasons\n",
            "http://dbpedia.org/class/yago/Consumer109612848\n",
            "http://dbpedia.org/class/yago/Customer109984659\n",
            "http://dbpedia.org/class/yago/Flutist110098245\n",
            "http://dbpedia.org/class/yago/Patron110407726\n",
            "http://dbpedia.org/class/yago/User110741590\n",
            "http://dbpedia.org/class/yago/Voter110760340\n",
            "http://dbpedia.org/class/yago/WikicatElectorsOfBrandenburg\n",
            "http://dbpedia.org/class/yago/WikicatGermanClassicalFlautists\n",
            "http://dbpedia.org/class/yago/WikicatGermanFlautists\n",
            "http://dbpedia.org/class/yago/WikicatPatronsOfMusic\n",
            "http://dbpedia.org/class/yago/WikicatAmericanPoliticalBossesFromLouisiana\n",
            "http://dbpedia.org/class/yago/WikicatGovernorsOfLouisiana\n",
            "http://dbpedia.org/class/yago/WikicatImpeachedUnitedStatesOfficials\n",
            "http://dbpedia.org/class/yago/WikicatPeopleFromWinnfield,Louisiana\n",
            "http://dbpedia.org/class/yago/WikicatPeopleMurderedInLouisiana\n",
            "http://dbpedia.org/class/yago/WikicatUnitedStatesSenatorsFromLouisiana\n",
            "http://dbpedia.org/class/yago/WikicatLouisianaLawyers\n",
            "http://dbpedia.org/class/yago/WikicatTulaneUniversityAlumni\n",
            "http://dbpedia.org/class/yago/WikicatTulaneUniversityLawSchoolAlumni\n",
            "http://dbpedia.org/class/yago/WikicatAcademicsOfUniversityCollegeDublin\n",
            "http://dbpedia.org/class/yago/WikicatAlumniOfTrinityCollege,Oxford\n",
            "http://dbpedia.org/class/yago/WikicatAnglicanTheologians\n",
            "http://dbpedia.org/ontology/Cardinal\n",
            "http://dbpedia.org/class/yago/WikicatBritishAcademics\n",
            "http://dbpedia.org/class/yago/WikicatBritishRomanCatholicPriests\n",
            "http://dbpedia.org/class/yago/WikicatBritishSaints\n",
            "http://dbpedia.org/class/yago/WikicatBritishTheologians\n",
            "http://dbpedia.org/class/yago/WikicatChristianHumanists\n",
            "http://dbpedia.org/class/yago/WikicatVictorianWriters\n",
            "http://dbpedia.org/class/yago/WikicatRhetoricians\n",
            "http://dbpedia.org/class/yago/Wikicat19th-centuryPoets\n",
            "http://dbpedia.org/class/yago/WikicatEnglishBeatifiedPeople\n",
            "http://dbpedia.org/class/yago/WikicatEnglishCardinals\n",
            "http://dbpedia.org/class/yago/WikicatEnglishCatholicPoets\n",
            "http://dbpedia.org/class/yago/WikicatEnglishHistoricalNovelists\n",
            "http://dbpedia.org/class/yago/WikicatEnglishReligiousWriters\n",
            "http://dbpedia.org/class/yago/WikicatEnglishRomanCatholicPriests\n",
            "http://dbpedia.org/class/yago/WikicatEnglishRomanCatholicTheologians\n",
            "http://dbpedia.org/class/yago/WikicatEnglishRomanCatholicWriters\n",
            "http://dbpedia.org/class/yago/WikicatEnglishSermonWriters\n",
            "http://dbpedia.org/class/yago/WikicatFellowsOfOrielCollege,Oxford\n",
            "http://dbpedia.org/class/yago/Wikicat1845Works\n",
            "http://dbpedia.org/class/yago/WikicatQuebecNordiquesCoaches\n",
            "http://dbpedia.org/class/yago/WikicatOfficersOfTheNationalOrderOfQuebec\n",
            "http://dbpedia.org/class/yago/WikicatPeopleFromAhuntsic-Cartierville\n",
            "http://dbpedia.org/class/yago/WikicatGreekLegendaryCreatures\n",
            "http://dbpedia.org/class/yago/WikicatHornedDeities\n",
            "http://dbpedia.org/class/yago/WikicatAmericanCivilServants\n",
            "http://dbpedia.org/class/yago/WikicatAmericanMarineBiologists\n",
            "http://dbpedia.org/class/yago/WikicatAmericanNatureWriters\n",
            "http://dbpedia.org/class/yago/WikicatAmericanNon-fictionEnvironmentalWriters\n",
            "http://dbpedia.org/class/yago/WikicatAmericanWomenScientists\n",
            "http://dbpedia.org/class/yago/WikicatAmericanZoologists\n",
            "http://dbpedia.org/class/yago/WikicatGuggenheimFellows\n",
            "http://dbpedia.org/class/yago/WikicatJohnsHopkinsUniversityAlumni\n",
            "http://dbpedia.org/class/yago/WikicatPeopleFromPittsburgh,Pennsylvania\n",
            "http://dbpedia.org/class/yago/WikicatPeopleFromSpringdale,Pennsylvania\n",
            "http://dbpedia.org/class/yago/WikicatChathamUniversityAlumni\n",
            "http://dbpedia.org/class/yago/WikicatConservationists\n",
            "http://dbpedia.org/class/yago/WikicatEcologists\n",
            "http://dbpedia.org/class/yago/WikicatWomenBiologists\n",
            "http://dbpedia.org/class/yago/Zoologist110806222\n",
            "http://dbpedia.org/class/yago/WikicatMarineBiologists\n",
            "http://dbpedia.org/class/yago/Ecologist110043163\n",
            "http://dbpedia.org/class/yago/WikicatEnvironmentalNon-fictionBooks\n",
            "http://dbpedia.org/class/yago/WikicatFellowsOfTheAmericanAssociationForTheAdvancementOfScience\n",
            "http://dbpedia.org/class/yago/WikicatSystemsEcologists\n",
            "http://dbpedia.org/class/yago/WikicatAlumniOfTheUniversityOfHongKong\n",
            "http://dbpedia.org/class/yago/WikicatAmericanPeopleOfChineseDescent\n",
            "http://dbpedia.org/class/yago/WikicatPeopleFromMaui\n",
            "http://dbpedia.org/class/yago/WikicatPeopleFromOahu\n",
            "http://dbpedia.org/class/yago/WikicatPeopleFromZhongshan\n",
            "http://dbpedia.org/class/yago/WikicatPeopleOfTheXinhaiRevolution\n",
            "http://dbpedia.org/class/yago/WikicatPhilosophersFromGuangdong\n",
            "http://dbpedia.org/class/yago/WikicatPresidentsOfThePeople'sRepublicOfChina\n",
            "http://dbpedia.org/class/yago/WikicatPresidentsOfTheRepublicOfChina\n",
            "http://dbpedia.org/class/yago/WikicatCaoDaiSaints\n",
            "http://dbpedia.org/class/yago/WikicatChineseExpatriatesInHongKong\n",
            "http://dbpedia.org/class/yago/WikicatChineseHakkaPeople\n",
            "http://dbpedia.org/class/yago/WikicatChineseNationalistHeadsOfState\n",
            "http://dbpedia.org/class/yago/WikicatChinesePeople\n",
            "http://dbpedia.org/class/yago/WikicatChinesePhysicians\n",
            "http://dbpedia.org/class/yago/WikicatChinesePoliticalPhilosophers\n",
            "http://dbpedia.org/class/yago/WikicatChinesePoliticians\n",
            "http://dbpedia.org/class/yago/WikicatChineseRevolutionaries\n",
            "http://dbpedia.org/class/yago/WikicatChineseSocialists\n",
            "http://dbpedia.org/class/yago/WikicatConvertsToProtestantism\n",
            "http://dbpedia.org/class/yago/WikicatDemocraticSocialists\n",
            "http://dbpedia.org/class/yago/WikicatʻIolaniSchoolAlumni\n",
            "http://dbpedia.org/class/yago/WikicatMarshalsOfChina\n",
            "http://dbpedia.org/class/yago/WikicatPunahouSchoolAlumni\n",
            "http://dbpedia.org/class/yago/WikicatExpatriatesInHongKong\n",
            "http://dbpedia.org/class/yago/WikicatPeopleFromGuangdong\n",
            "http://dbpedia.org/class/yago/WikicatLegendaryCreaturesInPopularCulture\n",
            "http://dbpedia.org/class/yago/WikicatEpithetsOfZeus\n",
            "http://dbpedia.org/class/yago/WikicatPeopleFromWarwick,NewYork\n",
            "http://dbpedia.org/class/yago/WikicatUnionCollege(NewYork)Alumni\n",
            "http://dbpedia.org/class/yago/WikicatNewYorkPoliticians\n",
            "http://dbpedia.org/class/yago/WikicatOrangeCounty,NewYorkPoliticians\n",
            "http://dbpedia.org/class/yago/WikicatPeopleFromAuburn,NewYork\n",
            "http://dbpedia.org/class/yago/WikicatPeopleFromCayugaCounty,NewYork\n",
            "http://dbpedia.org/class/yago/WikicatUndergroundRailroadPeople\n",
            "http://dbpedia.org/class/yago/WikicatAmericanPoliticiansKilledInDuels\n",
            "http://dbpedia.org/class/yago/WikicatImmigrantsToTheUnitedStates\n",
            "http://dbpedia.org/class/yago/WikicatInspectorsGeneralOfTheUnitedStatesArmy\n",
            "http://dbpedia.org/class/yago/WikicatPeopleFromSaintCroix,U.S.VirginIslands\n",
            "http://dbpedia.org/class/yago/WikicatBritishEmigrantsToTheUnitedStates\n",
            "http://dbpedia.org/class/yago/WikicatContinentalArmyOfficers\n",
            "http://dbpedia.org/class/yago/WikicatUnitedStatesSecretariesOfTheTreasury\n",
            "http://dbpedia.org/class/yago/Immigrant110199489\n",
            "http://dbpedia.org/class/yago/Inspector110208847\n",
            "http://dbpedia.org/class/yago/WikicatLGBTScientistsFromGermany\n",
            "http://dbpedia.org/class/yago/WikicatBotanistsWithAuthorAbbreviations\n",
            "http://dbpedia.org/class/yago/WikicatViadrinaEuropeanUniversityAlumni\n",
            "http://dbpedia.org/class/yago/WikicatScientistsFromBerlin\n",
            "http://dbpedia.org/class/yago/Geologist110127689\n",
            "http://dbpedia.org/class/yago/Wikicat18th-centuryBotanists\n",
            "http://dbpedia.org/class/yago/Wikicat18th-centuryGeographers\n",
            "http://dbpedia.org/class/yago/Wikicat19th-centuryBotanists\n",
            "http://dbpedia.org/class/yago/Wikicat19th-centuryGeographers\n",
            "http://dbpedia.org/class/yago/WikicatGermanBotanists\n",
            "http://dbpedia.org/class/yago/WikicatGermanExplorers\n",
            "http://dbpedia.org/class/yago/WikicatGermanGeologists\n",
            "http://dbpedia.org/class/yago/WikicatGermanMeteorologists\n",
            "http://dbpedia.org/class/yago/WikicatGermanNaturalists\n",
            "http://dbpedia.org/class/yago/WikicatGermanScientists\n",
            "http://dbpedia.org/class/yago/WikicatGermanZoologists\n",
            "http://dbpedia.org/class/yago/WikicatBovines\n",
            "http://dbpedia.org/class/yago/WikicatMammalsOfCanada\n",
            "http://dbpedia.org/class/yago/WikicatMammalsOfNorthAmerica\n",
            "http://dbpedia.org/class/yago/WikicatMammalsOfTheUnitedStates\n",
            "http://dbpedia.org/class/yago/Bovine102402010\n",
            "http://dbpedia.org/class/yago/WikicatSymbolsOfWyoming\n",
            "http://dbpedia.org/class/yago/WikicatBattleHonoursOfTheBritishArmy\n",
            "http://dbpedia.org/class/yago/WikicatBattlesInvolvingAustralia\n",
            "http://dbpedia.org/class/yago/WikicatBattlesInvolvingCanada\n",
            "http://dbpedia.org/class/yago/WikicatBattlesInvolvingSouthAfrica\n",
            "http://dbpedia.org/class/yago/WikicatBattlesInvolvingTheFrenchForeignLegion\n",
            "http://dbpedia.org/class/yago/WikicatBattlesOfTheWesternFront(WorldWarI)\n",
            "http://dbpedia.org/class/yago/WikicatBattlesOfWorldWarI\n",
            "http://dbpedia.org/class/yago/WikicatBattlesOfWorldWarIInvolvingAustralia\n",
            "http://dbpedia.org/class/yago/WikicatBattlesOfWorldWarIInvolvingCanada\n",
            "http://dbpedia.org/class/yago/WikicatBattlesOfWorldWarIInvolvingFrance\n",
            "http://dbpedia.org/class/yago/WikicatBattlesOfWorldWarIInvolvingGermany\n",
            "http://dbpedia.org/class/yago/WikicatBattlesOfWorldWarIInvolvingNewZealand\n",
            "http://dbpedia.org/class/yago/WikicatBattlesOfWorldWarIInvolvingSouthAfrica\n",
            "http://dbpedia.org/class/yago/WikicatBattlesOfWorldWarIInvolvingTheUnitedKingdom\n",
            "http://dbpedia.org/class/yago/WikicatConflictsIn1916\n",
            "http://dbpedia.org/class/yago/WikicatAccompanists\n",
            "http://dbpedia.org/class/yago/WikicatAlumniOfTheRoyalCollegeOfMusic\n",
            "http://dbpedia.org/class/yago/WikicatBachConductors\n",
            "http://dbpedia.org/class/yago/WikicatBalletComposers\n",
            "http://dbpedia.org/class/yago/WikicatLGBTArtists\n",
            "http://dbpedia.org/class/yago/WikicatLGBTComposers\n",
            "http://dbpedia.org/class/yago/WikicatLGBTLifePeers\n",
            "http://dbpedia.org/class/yago/WikicatLGBTMusiciansFromEngland\n",
            "http://dbpedia.org/class/yago/WikicatLGBTMusiciansFromTheUnitedKingdom\n",
            "http://dbpedia.org/class/yago/WikicatPeopleFromLowestoft\n",
            "http://dbpedia.org/class/yago/WikicatBritishComposers\n",
            "http://dbpedia.org/class/yago/WikicatBritishConscientiousObjectors\n",
            "http://dbpedia.org/class/yago/WikicatBritishPianists\n",
            "http://dbpedia.org/class/yago/WikicatComposersForTheClassicalGuitar\n",
            "http://dbpedia.org/class/yago/WikicatViolists\n",
            "http://dbpedia.org/class/yago/WikicatLifePeers\n",
            "http://dbpedia.org/class/yago/WikicatMusiciansWhoWerePeers\n",
            "http://dbpedia.org/class/yago/WikicatSacredMusicComposers\n",
            "http://dbpedia.org/class/yago/Accompanist109760913\n",
            "http://dbpedia.org/class/yago/LifePeer110260943\n",
            "http://dbpedia.org/class/yago/Violist110755080\n",
            "http://dbpedia.org/class/yago/WikicatEnglishAgnostics\n",
            "http://dbpedia.org/class/yago/WikicatEnglishClassicalPianists\n",
            "http://dbpedia.org/class/yago/WikicatEnglishComposers\n",
            "http://dbpedia.org/class/yago/WikicatEnglishPacifists\n",
            "http://dbpedia.org/class/yago/WikicatGayClassicalMusicians\n",
            "http://dbpedia.org/class/yago/WikicatGayMusicians\n",
            "http://dbpedia.org/class/yago/WikicatPeopleEducatedAtGresham'sSchool\n",
            "http://dbpedia.org/class/yago/WikicatAmericanBuskers\n",
            "http://dbpedia.org/class/yago/WikicatAmericanFemaleJazzSingers\n",
            "http://dbpedia.org/class/yago/WikicatAmericanJazzSingers\n",
            "http://dbpedia.org/class/yago/WikicatJazzSingers\n",
            "http://dbpedia.org/class/yago/WikicatClassicFemaleBluesSingers\n",
            "http://dbpedia.org/class/yago/WikicatVocalionRecordsArtists\n",
            "http://dbpedia.org/class/yago/WikicatMusiciansFromBaltimore,Maryland\n",
            "http://dbpedia.org/class/yago/Busker109883174\n",
            "http://dbpedia.org/class/yago/TorchSinger110715881\n",
            "http://dbpedia.org/class/yago/WikicatSwingSingers\n",
            "http://dbpedia.org/class/yago/WikicatTorchSingers\n",
            "http://dbpedia.org/class/yago/WikicatPopulatedCoastalPlacesInFrance\n",
            "http://dbpedia.org/class/yago/WikicatPortCities\n",
            "http://dbpedia.org/class/yago/WikicatPortCitiesAndTownsOnTheFrenchAtlanticCoast\n",
            "http://dbpedia.org/ontology/City\n",
            "http://dbpedia.org/class/yago/WikicatCitiesInFrance\n",
            "http://dbpedia.org/class/yago/WikicatCommunesOfFinistère\n",
            "http://dbpedia.org/class/yago/Commune108541609\n",
            "http://dbpedia.org/class/yago/Town108665504\n",
            "http://dbpedia.org/class/yago/WikicatTownsInBrittany\n",
            "http://dbpedia.org/class/yago/WikicatActivistsForHispanicAndLatinoAmericanCivilRights\n",
            "http://dbpedia.org/class/yago/WikicatAmericanLaborLeaders\n",
            "http://dbpedia.org/class/yago/WikicatAmericanLaborUnionists\n",
            "http://dbpedia.org/class/yago/WikicatAmericanPeopleOfMexicanDescent\n",
            "http://dbpedia.org/class/yago/WikicatAmericanVegans\n",
            "http://dbpedia.org/class/yago/WikicatPeopleFromOxnard,California\n",
            "http://dbpedia.org/class/yago/WikicatPeopleFromYuma,Arizona\n",
            "http://dbpedia.org/class/yago/WikicatUnitedFarmWorkers\n",
            "http://dbpedia.org/class/yago/WikicatRomanCatholicActivists\n",
            "http://dbpedia.org/class/yago/Eater110042300\n",
            "http://dbpedia.org/class/yago/Farmhand110079399\n",
            "http://dbpedia.org/class/yago/HiredHand110176679\n",
            "http://dbpedia.org/class/yago/LaborLeader110242032\n",
            "http://dbpedia.org/class/yago/Vegan110747424\n",
            "http://dbpedia.org/class/yago/Vegetarian110747119\n",
            "http://dbpedia.org/class/yago/WikicatPeopleFromArizona\n",
            "http://dbpedia.org/class/yago/WikicatEnglishPeopleOfDanishDescent\n",
            "http://dbpedia.org/class/yago/WikicatPeopleFromSalisbury,NewHampshire\n",
            "http://dbpedia.org/class/yago/WikicatDartmouthCollegeAlumni\n",
            "http://dbpedia.org/class/yago/WikicatPeopleFromFryeburg,Maine\n",
            "http://dbpedia.org/class/yago/WikicatKnightsOfGraceOfTheOrderOfStJohn\n",
            "http://dbpedia.org/class/yago/WikicatPoliticiansFromManchester\n",
            "http://dbpedia.org/class/yago/WikicatCouncillorsInWales\n",
            "http://dbpedia.org/class/yago/WikicatWelsh-speakingPeople\n",
            "http://dbpedia.org/class/yago/WikicatWelshDisciplesOfChrist\n",
            "http://dbpedia.org/class/yago/WikicatWelshPeopleOfWorldWarI\n",
            "http://dbpedia.org/class/yago/WikicatWelshPoliticians\n",
            "http://dbpedia.org/class/yago/WikicatLeadersOfTheLiberalParty(UK)\n",
            "http://dbpedia.org/class/yago/WikicatLiberalParty(UK)Politicians\n",
            "http://dbpedia.org/class/yago/WikicatRectorsOfTheUniversityOfEdinburgh\n",
            "http://dbpedia.org/class/yago/CouncilMember109944763\n",
            "http://dbpedia.org/class/yago/Disciple110016103\n",
            "http://dbpedia.org/class/yago/Follower110099375\n",
            "http://dbpedia.org/class/yago/Member110307234\n",
            "http://dbpedia.org/class/yago/WikicatPeopleFromChorlton-on-Medlock\n",
            "http://dbpedia.org/class/yago/WikicatMammalFamilies\n",
            "http://dbpedia.org/class/yago/Family108107499\n",
            "http://dbpedia.org/class/yago/MammalFamily101862557\n",
            "http://dbpedia.org/class/yago/WikicatAmericanWomen'sRightsActivists\n",
            "http://dbpedia.org/class/yago/WikicatPeopleFromTenafly,NewJersey\n",
            "http://dbpedia.org/class/yago/WikicatWomen'sRightsActivists\n",
            "http://dbpedia.org/class/yago/WikicatEmmaWillardSchoolAlumni\n",
            "http://dbpedia.org/class/yago/WikicatPeopleFromFultonCounty,NewYork\n",
            "http://dbpedia.org/class/yago/WikicatPeopleFromMannheim\n",
            "http://dbpedia.org/class/yago/WikicatPeopleFromMarbachAmNeckar\n",
            "http://dbpedia.org/class/yago/WikicatPeopleFromStuttgart\n",
            "http://dbpedia.org/class/yago/WikicatPeopleFromTheDuchyOfWürttemberg\n",
            "http://dbpedia.org/class/yago/WikicatPeopleFromWeimar\n",
            "http://dbpedia.org/class/yago/WikicatPhilosophersOfEducation\n",
            "http://dbpedia.org/class/yago/WikicatWritersFromBaden-Württemberg\n",
            "http://dbpedia.org/class/yago/WikicatLiteraryTheorists\n",
            "http://dbpedia.org/class/yago/WikicatMedicalWriters\n",
            "http://dbpedia.org/class/yago/Wikicat18th-centuryDramatistsAndPlaywrights\n",
            "http://dbpedia.org/class/yago/Wikicat18th-centuryGermanWriters\n",
            "http://dbpedia.org/class/yago/Wikicat18th-centuryNovelists\n",
            "http://dbpedia.org/class/yago/Wikicat19th-centuryDramatistsAndPlaywrights\n",
            "http://dbpedia.org/class/yago/WikicatEnglish–GermanTranslators\n",
            "http://dbpedia.org/class/yago/WikicatFrench–GermanTranslators\n",
            "http://dbpedia.org/class/yago/WikicatGerman-languagePoets\n",
            "http://dbpedia.org/class/yago/WikicatGermanDramatistsAndPlaywrights\n",
            "http://dbpedia.org/class/yago/WikicatGermanLibrarians\n",
            "http://dbpedia.org/class/yago/WikicatGermanNovelists\n",
            "http://dbpedia.org/class/yago/WikicatGermanPoets\n",
            "http://dbpedia.org/class/yago/WikicatGermanTranslators\n",
            "http://dbpedia.org/class/yago/WikicatTheatreTheorists\n",
            "http://dbpedia.org/class/yago/WikicatTranslatorsFromFrench\n",
            "http://dbpedia.org/class/yago/WikicatTranslatorsOfWilliamShakespeare\n",
            "http://dbpedia.org/class/yago/WikicatTranslatorsToGerman\n",
            "http://dbpedia.org/class/yago/WikicatAmericanModernPentathletes\n",
            "http://dbpedia.org/class/yago/WikicatAmericanSwimmers\n",
            "http://dbpedia.org/class/yago/WikicatHonoraryCompanionsOfTheOrderOfTheBath\n",
            "http://dbpedia.org/class/yago/WikicatPeopleFromSanGabriel,California\n",
            "http://dbpedia.org/class/yago/WikicatCompanionsOfTheOrderOfTheBath\n",
            "http://dbpedia.org/class/yago/WikicatModernPentathletesAtThe1912SummerOlympics\n",
            "http://dbpedia.org/class/yago/Pentathlete110414768\n",
            "http://dbpedia.org/class/yago/Swimmer110683349\n",
            "http://dbpedia.org/class/yago/WikicatOfficersOfTheOrderOfLeopold(Belgium)\n",
            "http://dbpedia.org/class/yago/WikicatOlympicModernPentathletesOfTheUnitedStates\n",
            "http://dbpedia.org/class/yago/WikicatGrandCommandersOfTheOrderOfTheDannebrog\n",
            "http://dbpedia.org/class/yago/WikicatHeadsOfStateOfIndia\n",
            "http://dbpedia.org/class/yago/WikicatKnightsOfTheMilitaryOrderOfSavoy\n",
            "http://dbpedia.org/class/yago/WikicatPeopleWithASpeechImpediment\n",
            "http://dbpedia.org/class/yago/WikicatMarshalsOfTheRoyalAirForce\n",
            "http://dbpedia.org/class/yago/WikicatRoyalNavyAdmiralsOfTheFleet\n",
            "http://dbpedia.org/class/yago/WikicatRoyalNavyOfficersOfWorldWarI\n",
            "http://dbpedia.org/class/yago/WikicatEmperorsOfIndia\n",
            "http://dbpedia.org/class/yago/WikicatAmericanExpatriatesInAustria\n",
            "http://dbpedia.org/class/yago/WikicatAmericanExpatriatesInFrance\n",
            "http://dbpedia.org/class/yago/WikicatAmericanNovelists\n",
            "http://dbpedia.org/class/yago/WikicatAmericanOperaLibrettists\n",
            "http://dbpedia.org/class/yago/WikicatArtCollectors\n",
            "http://dbpedia.org/class/yago/WikicatJewishPoets\n",
            "http://dbpedia.org/class/yago/WikicatJewishWomenWriters\n",
            "http://dbpedia.org/class/yago/WikicatLGBTDramatistsAndPlaywrights\n",
            "http://dbpedia.org/class/yago/WikicatLGBTPeopleFromTheUnitedStates\n",
            "http://dbpedia.org/class/yago/WikicatLGBTPoets\n",
            "http://dbpedia.org/class/yago/WikicatLGBTWriters\n",
            "http://dbpedia.org/class/yago/WikicatLGBTWritersFromTheUnitedStates\n",
            "http://dbpedia.org/class/yago/WikicatPeopleFromOakland,California\n",
            "http://dbpedia.org/class/yago/WikicatWomenPoets\n",
            "http://dbpedia.org/class/yago/WikicatWritersFromOakland,California\n",
            "http://dbpedia.org/class/yago/WikicatWritersFromPittsburgh,Pennsylvania\n",
            "http://dbpedia.org/class/yago/WikicatLesbianFeminists\n",
            "http://dbpedia.org/class/yago/WikicatLesbianWriters\n",
            "http://dbpedia.org/class/yago/WikicatLibrettists\n",
            "http://dbpedia.org/class/yago/WikicatModernistWomenWriters\n",
            "http://dbpedia.org/class/yago/Librettist110258152\n",
            "http://dbpedia.org/class/yago/WikicatFeministWriters\n",
            "http://dbpedia.org/class/yago/WikicatItalianPeopleOfTheRisorgimento\n",
            "http://dbpedia.org/class/yago/WikicatItalianPhilosophers\n",
            "http://dbpedia.org/class/yago/WikicatItalianPoliticians\n",
            "http://dbpedia.org/class/yago/WikicatItalianRevolutionaries\n",
            "http://dbpedia.org/class/yago/WikicatItalianWriters\n",
            "http://dbpedia.org/class/yago/WikicatPeopleOfTheRisorgimento\n",
            "http://dbpedia.org/class/yago/Wikicat19th-centuryItalianWriters\n",
            "http://dbpedia.org/class/yago/WikicatAlignment(politicalParty)Politicians\n",
            "http://dbpedia.org/class/yago/WikicatAmbassadors\n",
            "http://dbpedia.org/class/yago/WikicatAmbassadorsOfIsrael\n",
            "http://dbpedia.org/class/yago/WikicatAmbassadorsOfIsraelToTheSovietUnion\n",
            "http://dbpedia.org/class/yago/WikicatAmericanEmigrantsToMandatoryPalestine\n",
            "http://dbpedia.org/class/yago/WikicatAmericanPeopleOfUkrainian-JewishDescent\n",
            "http://dbpedia.org/class/yago/WikicatImperialRussianEmigrantsToTheUnitedStates\n",
            "http://dbpedia.org/class/yago/WikicatIsraeliAtheists\n",
            "http://dbpedia.org/class/yago/WikicatIsraeliDiplomats\n",
            "http://dbpedia.org/class/yago/WikicatIsraeliLaborPartyPoliticians\n",
            "http://dbpedia.org/class/yago/WikicatIsraeliPartyLeaders\n",
            "http://dbpedia.org/class/yago/WikicatIsraeliPeople\n",
            "http://dbpedia.org/class/yago/WikicatIsraeliPeopleOfRussianDescent\n",
            "http://dbpedia.org/class/yago/WikicatIsraeliPeopleOfTheYomKippurWar\n",
            "http://dbpedia.org/class/yago/WikicatIsraeliPeopleOfUkrainianDescent\n",
            "http://dbpedia.org/class/yago/WikicatIsraeliPoliticians\n",
            "http://dbpedia.org/class/yago/WikicatIsraeliWomenInPolitics\n",
            "http://dbpedia.org/class/yago/WikicatJewishPoliticians\n",
            "http://dbpedia.org/class/yago/WikicatPeopleFromPinsk\n",
            "http://dbpedia.org/class/yago/WikicatPrimeMinistersOfIsrael\n",
            "http://dbpedia.org/class/yago/WikicatWisconsinSocialists\n",
            "http://dbpedia.org/class/yago/WikicatWomenIn20th-centuryWarfare\n",
            "http://dbpedia.org/class/yago/WikicatYiddish-speakingPeople\n",
            "http://dbpedia.org/class/yago/WikicatMapaiPoliticians\n",
            "http://dbpedia.org/class/yago/WikicatMinistersOfForeignAffairsOfIsrael\n",
            "http://dbpedia.org/class/yago/WikicatMinistersOfInternalAffairsOfIsrael\n",
            "http://dbpedia.org/class/yago/WikicatSignatoriesOfTheIsraeliDeclarationOfIndependence\n",
            "http://dbpedia.org/class/yago/Signer110597234\n",
            "http://dbpedia.org/class/yago/WikicatFemaleDiplomats\n",
            "http://dbpedia.org/class/yago/WikicatFemaleForeignMinisters\n",
            "http://dbpedia.org/class/yago/WikicatFemaleHeadsOfGovernment\n",
            "http://dbpedia.org/class/yago/WikicatForeignMinisters\n",
            "http://dbpedia.org/class/yago/WikicatGovernmentMinistersOfIsrael\n",
            "http://dbpedia.org/class/yago/WikicatPeopleFromKiev\n",
            "http://dbpedia.org/class/yago/WikicatUkrainianEmigrantsToTheUnitedStates\n",
            "http://dbpedia.org/class/yago/WikicatKentuckyLawyers\n",
            "http://dbpedia.org/class/yago/WikicatKentuckyPoliticians\n",
            "http://dbpedia.org/class/yago/WikicatUnitedStatesSenatorsFromKentucky\n",
            "http://dbpedia.org/class/yago/WikicatNationalRepublicanPartyUnitedStatesSenators\n",
            "http://dbpedia.org/class/yago/WikicatPeopleFromHanoverCounty,Virginia\n",
            "http://dbpedia.org/class/yago/WikicatSpeakersOfTheKentuckyHouseOfRepresentatives\n",
            "http://dbpedia.org/class/yago/WikicatSpeakersOfTheUnitedStatesHouseOfRepresentatives\n",
            "http://dbpedia.org/class/yago/WikicatAcousticians\n",
            "http://dbpedia.org/class/yago/WikicatPeopleFromPotsdam\n",
            "http://dbpedia.org/class/yago/WikicatPeopleFromTheProvinceOfBrandenburg\n",
            "http://dbpedia.org/class/yago/WikicatPhysicalChemists\n",
            "http://dbpedia.org/class/yago/WikicatPhysiologists\n",
            "http://dbpedia.org/class/yago/WikicatBiophysicists\n",
            "http://dbpedia.org/class/yago/WikicatMusicPsychologists\n",
            "http://dbpedia.org/class/yago/Acoustician109763668\n",
            "http://dbpedia.org/class/yago/Biophysicist109856267\n",
            "http://dbpedia.org/class/yago/Physiologist110429965\n",
            "http://dbpedia.org/class/yago/Psychologist110488865\n",
            "http://dbpedia.org/class/yago/Wikicat19th-centuryScientists\n",
            "http://dbpedia.org/class/yago/WikicatFaradayLecturers\n",
            "http://dbpedia.org/class/yago/WikicatGermanAgnostics\n",
            "http://dbpedia.org/class/yago/WikicatGermanBiophysicists\n",
            "http://dbpedia.org/class/yago/WikicatGermanMusicTheorists\n",
            "http://dbpedia.org/class/yago/WikicatGermanOphthalmologists\n",
            "http://dbpedia.org/class/yago/WikicatGermanPhysicians\n",
            "http://dbpedia.org/class/yago/WikicatGermanPhysiologists\n",
            "http://dbpedia.org/class/yago/WikicatHistoricalNovelists\n",
            "http://dbpedia.org/class/yago/WikicatPeopleFromTours\n",
            "http://dbpedia.org/class/yago/Wikicat19th-centuryFrenchNovelists\n",
            "http://dbpedia.org/class/yago/Wikicat19th-centuryFrenchWriters\n",
            "http://dbpedia.org/class/yago/WikicatFrenchEssayists\n",
            "http://dbpedia.org/class/yago/WikicatFrenchFantasyWriters\n",
            "http://dbpedia.org/class/yago/WikicatFrenchJournalists\n",
            "http://dbpedia.org/class/yago/WikicatFrenchLiteraryCritics\n",
            "http://dbpedia.org/class/yago/WikicatFrenchMonarchists\n",
            "http://dbpedia.org/class/yago/WikicatFrenchNovelists\n",
            "http://dbpedia.org/class/yago/WikicatFrenchPrinters\n",
            "http://dbpedia.org/class/yago/WikicatFrenchShortStoryWriters\n",
            "http://dbpedia.org/class/yago/WikicatFrenchWriters\n",
            "http://dbpedia.org/class/yago/WikicatAmericanDisciplesOfChrist\n",
            "http://dbpedia.org/class/yago/WikicatHiramCollegeAlumni\n",
            "http://dbpedia.org/class/yago/WikicatPeopleFromMentor,Ohio\n",
            "http://dbpedia.org/class/yago/WikicatPeopleFromOhio\n",
            "http://dbpedia.org/class/yago/WikicatMinistersOfTheChurchesOfChrist\n",
            "http://dbpedia.org/class/yago/WikicatOhioStateSenators\n",
            "http://dbpedia.org/class/yago/WikicatPeopleFromHiram,Ohio\n",
            "http://dbpedia.org/class/yago/WikicatAnarchists\n",
            "http://dbpedia.org/class/yago/WikicatCzech-languageWriters\n",
            "http://dbpedia.org/class/yago/WikicatCzechAnarchists\n",
            "http://dbpedia.org/class/yago/WikicatCzechoslovakWriters\n",
            "http://dbpedia.org/class/yago/Wikicat20th-centuryWriters\n",
            "http://dbpedia.org/class/yago/WikicatAkronBuckeyesPlayers\n",
            "http://dbpedia.org/class/yago/WikicatAll-AmericanCollegeFootballPlayers\n",
            "http://dbpedia.org/class/yago/WikicatAmericanBallroomDancers\n",
            "http://dbpedia.org/class/yago/WikicatAmericanFootballExecutives\n",
            "http://dbpedia.org/class/yago/WikicatAmericanPentathletes\n",
            "http://dbpedia.org/class/yago/WikicatAmericanPlayersOfAmericanFootball\n",
            "http://dbpedia.org/class/yago/WikicatArizonaCardinalsPlayers\n",
            "http://dbpedia.org/class/yago/WikicatBaseballPlayersAtThe1912SummerOlympics\n",
            "http://dbpedia.org/class/yago/WikicatBasketballPlayersFromOklahoma\n",
            "http://dbpedia.org/class/yago/WikicatBasketballPlayersFromPennsylvania\n",
            "http://dbpedia.org/class/yago/WikicatHarrisburgSenatorsPlayers\n",
            "http://dbpedia.org/class/yago/WikicatHartfordSenatorsPlayers\n",
            "http://dbpedia.org/class/yago/WikicatIdenticalTwins\n",
            "http://dbpedia.org/class/yago/WikicatIndianaHoosiersFootballCoaches\n",
            "http://dbpedia.org/class/yago/WikicatJerseyCitySkeetersPlayers\n",
            "http://dbpedia.org/class/yago/WikicatPeopleFromLincolnCounty,Oklahoma\n",
            "http://dbpedia.org/class/yago/WikicatPeopleFromLosAngelesCounty,California\n",
            "http://dbpedia.org/class/yago/WikicatPortlandBeaversPlayers\n",
            "http://dbpedia.org/class/yago/WikicatCantonBulldogs(OhioLeague)Players\n",
            "http://dbpedia.org/class/yago/WikicatCantonBulldogsCoaches\n",
            "http://dbpedia.org/class/yago/WikicatCantonBulldogsPlayers\n",
            "http://dbpedia.org/class/yago/WikicatCarlisleIndiansBaseballPlayers\n",
            "http://dbpedia.org/class/yago/WikicatCarlisleIndiansFootballPlayers\n",
            "http://dbpedia.org/class/yago/WikicatChicagoCardinalsPlayers\n",
            "http://dbpedia.org/class/yago/WikicatClevelandIndians(NFL)Players\n",
            "http://dbpedia.org/class/yago/WikicatClevelandTigers-IndiansCoaches\n",
            "http://dbpedia.org/class/yago/WikicatWorcesterBoostersPlayers\n",
            "http://dbpedia.org/class/yago/WikicatMilwaukeeBrewers(minorLeague)Players\n",
            "http://dbpedia.org/class/yago/WikicatNationalFootballLeagueCommissioners\n",
            "http://dbpedia.org/class/yago/WikicatRockIslandIndependentsPlayers\n",
            "http://dbpedia.org/class/yago/WikicatRockyMountRailroadersPlayers\n",
            "http://dbpedia.org/class/yago/Dancer109989502\n",
            "http://dbpedia.org/class/yago/IdenticalTwin110197182\n",
            "http://dbpedia.org/class/yago/Sibling110595164\n",
            "http://dbpedia.org/class/yago/Twin110734394\n",
            "http://dbpedia.org/class/yago/WikicatFayettevilleHighlandersPlayers\n",
            "http://dbpedia.org/class/yago/WikicatNewYorkGiants(NL)Players\n",
            "http://dbpedia.org/class/yago/WikicatNewYorkGiantsPlayers\n",
            "http://dbpedia.org/class/yago/WikicatNewarkIndiansPlayers\n",
            "http://dbpedia.org/class/yago/WikicatOlympicBaseballPlayersOfTheUnitedStates\n",
            "http://dbpedia.org/class/yago/WikicatOlympicMedalistsInAthletics(trackAndField)\n",
            "http://dbpedia.org/class/yago/WikicatOorangIndiansPlayers\n",
            "http://dbpedia.org/class/yago/WikicatPeopleFromCarlisle,Pennsylvania\n",
            "http://dbpedia.org/class/yago/WikicatToledoMudHensPlayers\n",
            "http://dbpedia.org/class/yago/WikicatTwinPeopleFromTheUnitedStates\n",
            "http://dbpedia.org/class/yago/WikicatTwins\n",
            "http://dbpedia.org/class/yago/WikicatAmericanPoliticalTheorists\n",
            "http://dbpedia.org/class/yago/WikicatDemocraticPartyVicePresidentsOfTheUnitedStates\n",
            "http://dbpedia.org/class/yago/WikicatNullifierPartyUnitedStatesSenators\n",
            "http://dbpedia.org/class/yago/WikicatPeopleFromAbbeville,SouthCarolina\n",
            "http://dbpedia.org/class/yago/WikicatPeopleFromAbbevilleCounty,SouthCarolina\n",
            "http://dbpedia.org/class/yago/WikicatSouthCarolinaLawyers\n",
            "http://dbpedia.org/class/yago/WikicatAmericanAtheists\n",
            "http://dbpedia.org/class/yago/WikicatAmericanEmigrantsToIreland\n",
            "http://dbpedia.org/class/yago/WikicatPeopleFromNevada,Missouri\n",
            "http://dbpedia.org/class/yago/WikicatPeopleWhoLostUnitedStatesCitizenship\n",
            "http://dbpedia.org/class/yago/WikicatWestern(genre)FilmDirectors\n",
            "http://dbpedia.org/class/yago/WikicatScreenwriters\n",
            "http://dbpedia.org/class/yago/Wikicat20th-centuryAmericanActors\n",
            "http://dbpedia.org/class/yago/WikicatPeopleFromCountyGalway\n",
            "http://dbpedia.org/class/yago/WikicatPeopleFromEchoPark,LosAngeles\n",
            "http://dbpedia.org/class/yago/WikicatHudson'sBayCompanyPeople\n",
            "http://dbpedia.org/class/yago/WikicatPeopleFromOregonCity,Oregon\n",
            "http://dbpedia.org/class/yago/WikicatPeopleFromRivière-du-Loup\n",
            "http://dbpedia.org/class/yago/WikicatPeopleOfNorth-WesternTerritory\n",
            "http://dbpedia.org/class/yago/WikicatPre-ConfederationQuebecPeople\n",
            "http://dbpedia.org/ontology/Protein\n",
            "http://dbpedia.org/class/yago/WikicatCanadianFurTraders\n",
            "http://dbpedia.org/class/yago/WikicatCanadianPeopleOfAnglo-IrishDescent\n",
            "http://dbpedia.org/class/yago/WikicatMayorsOfPlacesInOregon\n",
            "http://dbpedia.org/class/yago/WikicatAlumniOfChristChurch,Oxford\n",
            "http://dbpedia.org/class/yago/WikicatAnglicanMissionaries\n",
            "http://dbpedia.org/class/yago/WikicatPresidentsOfTheMethodistConference\n",
            "http://dbpedia.org/class/yago/WikicatProtestantMissionaries\n",
            "http://dbpedia.org/class/yago/WikicatProtestantReformers\n",
            "http://dbpedia.org/class/yago/WikicatProtestantTheologians\n",
            "http://dbpedia.org/class/yago/WikicatBritishExpatriatesInTheUnitedStates\n",
            "http://dbpedia.org/class/yago/WikicatChristianMinisters\n",
            "http://dbpedia.org/class/yago/WikicatChristianMissionariesInEngland\n",
            "http://dbpedia.org/class/yago/WikicatChristianMissionariesInScotland\n",
            "http://dbpedia.org/class/yago/WikicatChristianRevivalists\n",
            "http://dbpedia.org/class/yago/WikicatMethodistTheologians\n",
            "http://dbpedia.org/class/yago/Evangelist110067011\n",
            "http://dbpedia.org/class/yago/Preacher110464178\n",
            "http://dbpedia.org/class/yago/Wikicat18th-centuryAnglicanPriests\n",
            "http://dbpedia.org/class/yago/Wikicat18th-centuryTheologians\n",
            "http://dbpedia.org/class/yago/WikicatEnglishChristianMissionaries\n",
            "http://dbpedia.org/class/yago/WikicatEnglishDiarists\n",
            "http://dbpedia.org/class/yago/WikicatEnglishLetterWriters\n",
            "http://dbpedia.org/class/yago/WikicatEnglishPamphletWriters\n",
            "http://dbpedia.org/class/yago/WikicatFellowsOfLincolnCollege,Oxford\n",
            "http://dbpedia.org/class/yago/WikicatGeorgia(U.S.State)ColonialPeople\n",
            "http://dbpedia.org/class/yago/WikicatGerman–EnglishTranslators\n",
            "http://dbpedia.org/class/yago/WikicatPeopleEducatedAtCharterhouseSchool\n",
            "http://dbpedia.org/class/yago/WikicatPeopleFromEpworth,Lincolnshire\n",
            "http://dbpedia.org/class/yago/WikicatPeopleFromMajorca\n",
            "http://dbpedia.org/class/yago/WikicatPeopleOfAltaCalifornia\n",
            "http://dbpedia.org/class/yago/WikicatCatholicMissionariesInMexico\n",
            "http://dbpedia.org/class/yago/WikicatReligiousWorkersFromCalifornia\n",
            "http://dbpedia.org/class/yago/Wikicat18th-centurySpanishPeople\n",
            "http://dbpedia.org/class/yago/WikicatFranciscanMissionaries\n",
            "http://dbpedia.org/class/yago/WikicatSpanishBeatifiedPeople\n",
            "http://dbpedia.org/class/yago/WikicatSpanishRomanCatholicMissionaries\n",
            "http://dbpedia.org/class/yago/WikicatHawaiianMonarchs\n",
            "http://dbpedia.org/class/yago/WikicatMonarchsOfTheHawaiianIslands\n",
            "http://dbpedia.org/class/yago/Wikicat18th-centuryMonarchs\n",
            "http://dbpedia.org/class/yago/WikicatFoundingMonarchs\n",
            "http://dbpedia.org/ontology/Food\n",
            "http://dbpedia.org/class/yago/WikicatDoctrinesAndTeachingsOfJesus\n",
            "http://dbpedia.org/class/yago/WikicatWorksByLeonardoDaVinci\n",
            "http://dbpedia.org/class/yago/WikicatLuminousMysteries\n",
            "http://dbpedia.org/class/yago/WikicatMurals\n",
            "http://dbpedia.org/class/yago/WikicatRenaissancePaintings\n",
            "http://dbpedia.org/class/yago/WikicatSacraments\n",
            "http://dbpedia.org/class/yago/Ceremony101027379\n",
            "http://dbpedia.org/class/yago/GraphicArt103453809\n",
            "http://dbpedia.org/class/yago/Mural103799710\n",
            "http://dbpedia.org/class/yago/Painting103876519\n",
            "http://dbpedia.org/class/yago/ReligiousCeremony101028082\n",
            "http://dbpedia.org/class/yago/Sacrament101034925\n",
            "http://dbpedia.org/class/yago/Wikicat1490sPaintings\n",
            "http://dbpedia.org/class/yago/Wikicat15th-centuryPaintings\n",
            "http://dbpedia.org/class/yago/WikicatFrescoPaintings\n",
            "http://dbpedia.org/class/yago/WikicatPaintings\n",
            "http://dbpedia.org/class/yago/WikicatPaintingsByLeonardoDaVinci\n",
            "http://dbpedia.org/class/yago/WikicatPaintingsWithBiblicalThemes\n",
            "http://dbpedia.org/class/yago/WikicatAmbassadorsOfTheUnitedStatesToTheOttomanEmpire\n",
            "http://dbpedia.org/class/yago/WikicatAmericanHistoricalNovelists\n",
            "http://dbpedia.org/class/yago/WikicatGovernorsOfNewMexicoTerritory\n",
            "http://dbpedia.org/class/yago/WikicatIndianaStateSenators\n",
            "http://dbpedia.org/class/yago/WikicatPeopleFromMontgomeryCounty,Indiana\n",
            "http://dbpedia.org/class/yago/WikicatChristianNovelists\n",
            "http://dbpedia.org/class/yago/WikicatWritersFromIndiana\n",
            "http://dbpedia.org/class/yago/Wikicat19th-centuryAmericanNovelists\n",
            "http://dbpedia.org/class/yago/WikicatPeopleFromCrawfordsville,Indiana\n",
            "http://dbpedia.org/class/yago/WikicatPeopleFromFranklinCounty,Indiana\n",
            "http://dbpedia.org/class/yago/WikicatPeopleFromIndiana\n",
            "http://dbpedia.org/class/yago/WikicatPeopleFromIndianaInTheMexican–AmericanWar\n",
            "http://dbpedia.org/class/yago/WikicatAnimalPenises\n",
            "http://dbpedia.org/class/yago/BodyPart105220461\n",
            "http://dbpedia.org/class/yago/ErectileOrgan105523269\n",
            "http://dbpedia.org/class/yago/Organ105297523\n",
            "http://dbpedia.org/class/yago/Part109385911\n",
            "http://dbpedia.org/class/yago/Penis105526384\n",
            "http://dbpedia.org/class/yago/WikicatAlumniOfSomervilleCollege,Oxford\n",
            "http://dbpedia.org/class/yago/WikicatAlumniOfTheInnsOfCourtSchoolOfLaw\n",
            "http://dbpedia.org/class/yago/WikicatPeopleOfTheTroubles(NorthernIreland)\n",
            "http://dbpedia.org/class/yago/WikicatPeopleWithDementia\n",
            "http://dbpedia.org/class/yago/WikicatPresidentsOfTheEuropeanCouncil\n",
            "http://dbpedia.org/class/yago/WikicatBritishPeopleOfTheFalklandsWar\n",
            "http://dbpedia.org/class/yago/WikicatBritishSecretariesOfStateForEducation\n",
            "http://dbpedia.org/class/yago/WikicatBritishWomenInPolitics\n",
            "http://dbpedia.org/class/yago/WikicatBritishWomenLawyers\n",
            "http://dbpedia.org/class/yago/WikicatConservativeParty(UK)LifePeers\n",
            "http://dbpedia.org/class/yago/WikicatCriticsOfTheEuropeanUnion\n",
            "http://dbpedia.org/class/yago/WikicatWomenChemists\n",
            "http://dbpedia.org/class/yago/WikicatLawyers\n",
            "http://dbpedia.org/class/yago/WikicatLeadersOfTheOpposition(UnitedKingdom)\n",
            "http://dbpedia.org/class/yago/WikicatEnglishAutobiographers\n",
            "http://dbpedia.org/class/yago/WikicatEnglishBarristers\n",
            "http://dbpedia.org/class/yago/WikicatEnglishChemists\n",
            "http://dbpedia.org/class/yago/WikicatEnglishLawyers\n",
            "http://dbpedia.org/class/yago/WikicatEnglishWomenInPolitics\n",
            "http://dbpedia.org/class/yago/WikicatFemaleFellowsOfTheRoyalSociety\n",
            "http://dbpedia.org/class/yago/WikicatFemaleLifePeers\n",
            "http://dbpedia.org/class/yago/WikicatPeopleAssociatedWithTheUniversityOfBuckingham\n",
            "http://dbpedia.org/class/yago/WikicatPeopleEducatedAtKestevenAndGranthamGirls'School\n",
            "http://dbpedia.org/class/yago/WikicatPeopleFromGrantham\n",
            "http://dbpedia.org/class/yago/WikicatArchduchessesOfAustria\n",
            "http://dbpedia.org/class/yago/WikicatAustrianPeopleExecutedByDecapitation\n",
            "http://dbpedia.org/class/yago/WikicatHungarianPrincesses\n",
            "http://dbpedia.org/class/yago/WikicatPeopleFromVersailles\n",
            "http://dbpedia.org/class/yago/WikicatPeopleKilledInTheFrenchRevolution\n",
            "http://dbpedia.org/class/yago/WikicatPrincessesOfFrance(Bourbon)\n",
            "http://dbpedia.org/class/yago/WikicatBohemianPrincesses\n",
            "http://dbpedia.org/class/yago/Archduchess109804518\n",
            "http://dbpedia.org/class/yago/Wikicat18th-centuryAustrianPeople\n",
            "http://dbpedia.org/class/yago/Wikicat18th-centuryFrenchPeople\n",
            "http://dbpedia.org/class/yago/WikicatExecutedAustrianWomen\n",
            "http://dbpedia.org/class/yago/WikicatFrenchPeopleExecutedByGuillotineDuringTheFrenchRevolution\n",
            "http://dbpedia.org/class/yago/WikicatFrenchPeopleOfAustrianDescent\n",
            "http://dbpedia.org/class/yago/WikicatFrenchSocialites\n",
            "http://dbpedia.org/class/yago/WikicatPeopleExecutedByGuillotine\n",
            "http://dbpedia.org/class/yago/WikicatPeopleExecutedByGuillotineDuringTheFrenchRevolution\n",
            "http://dbpedia.org/class/yago/WikicatPeopleExecutedForTreasonAgainstFrance\n",
            "http://dbpedia.org/class/yago/WikicatTuscanPrincesses\n",
            "http://dbpedia.org/class/yago/WikicatInnovators\n",
            "http://dbpedia.org/class/yago/WikicatPeopleFromWarsaw\n",
            "http://dbpedia.org/class/yago/WikicatPolishAgnostics\n",
            "http://dbpedia.org/class/yago/WikicatPolishChemists\n",
            "http://dbpedia.org/class/yago/WikicatPolishEmigrantsToFrance\n",
            "http://dbpedia.org/class/yago/WikicatPolishExpatriatesInFrance\n",
            "http://dbpedia.org/class/yago/WikicatPolishNobelLaureates\n",
            "http://dbpedia.org/class/yago/WikicatPolishPhysicists\n",
            "http://dbpedia.org/class/yago/WikicatPolishScientists\n",
            "http://dbpedia.org/class/yago/WikicatPolishWomen\n",
            "http://dbpedia.org/class/yago/WikicatVictimsOfRadiologicalPoisoning\n",
            "http://dbpedia.org/class/yago/WikicatWomenNobelLaureates\n",
            "http://dbpedia.org/class/yago/WikicatWomenPhysicists\n",
            "http://dbpedia.org/class/yago/WikicatWomenScientists\n",
            "http://dbpedia.org/class/yago/NuclearChemist110364502\n",
            "http://dbpedia.org/class/yago/Wikicat19th-centuryWomenScientists\n",
            "http://dbpedia.org/class/yago/WikicatFrenchAgnostics\n",
            "http://dbpedia.org/class/yago/WikicatFrenchPeopleOfPolishDescent\n",
            "http://dbpedia.org/class/yago/WikicatFrenchPhysicists\n",
            "http://dbpedia.org/class/yago/WikicatFrenchWomenScientists\n",
            "http://dbpedia.org/class/yago/WikicatNaturalizedCitizensOfFrance\n",
            "http://dbpedia.org/class/yago/WikicatNobelLaureatesInChemistry\n",
            "http://dbpedia.org/class/yago/WikicatNobelLaureatesWithMultipleNobelAwards\n",
            "http://dbpedia.org/class/yago/WikicatNuclearChemists\n",
            "http://dbpedia.org/class/yago/WikicatNuclearPhysicists\n",
            "http://dbpedia.org/class/yago/WikicatHistoriansOfTheFrenchRevolution\n",
            "http://dbpedia.org/class/yago/WikicatPeopleFromSpitalfields\n",
            "http://dbpedia.org/class/yago/WikicatBritishWomen'sRightsActivists\n",
            "http://dbpedia.org/class/yago/WikicatDeists\n",
            "http://dbpedia.org/class/yago/WikicatWomenNovelists\n",
            "http://dbpedia.org/class/yago/WikicatWomenPhilosophers\n",
            "http://dbpedia.org/class/yago/WikicatWomenTravelWriters\n",
            "http://dbpedia.org/class/yago/WikicatWomenWriters\n",
            "http://dbpedia.org/class/yago/Wikicat18th-centuryBritishNovelists\n",
            "http://dbpedia.org/class/yago/Wikicat18th-centuryPhilosophers\n",
            "http://dbpedia.org/class/yago/Wikicat18th-centuryWomenWriters\n",
            "http://dbpedia.org/class/yago/WikicatEducationWriters\n",
            "http://dbpedia.org/class/yago/WikicatEnglishEssayists\n",
            "http://dbpedia.org/class/yago/WikicatEnglishFeminists\n",
            "http://dbpedia.org/class/yago/WikicatEnglishPeopleOfIrishDescent\n",
            "http://dbpedia.org/class/yago/WikicatEnglishTravelWriters\n",
            "http://dbpedia.org/class/yago/WikicatEnglishWomenNovelists\n",
            "http://dbpedia.org/class/yago/WikicatEnglishWomenPhilosophers\n",
            "http://dbpedia.org/class/yago/WikicatFeministPhilosophers\n",
            "http://dbpedia.org/class/yago/WikicatFrench–EnglishTranslators\n",
            "http://dbpedia.org/class/yago/WikicatPeopleFromTheDuchyOfHolstein\n",
            "http://dbpedia.org/class/yago/WikicatLorentzMedalWinners\n",
            "http://dbpedia.org/class/yago/WikicatMaxPlanckSocietyPeople\n",
            "http://dbpedia.org/class/yago/WikicatQuantumPhysicists\n",
            "http://dbpedia.org/class/yago/Wikicat20th-centuryGermanPeople\n",
            "http://dbpedia.org/class/yago/WikicatGermanPeople'sPartyPoliticians\n",
            "http://dbpedia.org/class/yago/WikicatPeopleFromKiel\n",
            "http://dbpedia.org/class/yago/WikicatArtsGoddesses\n",
            "http://dbpedia.org/class/yago/WikicatConceptionsOfGod\n",
            "http://dbpedia.org/class/yago/WikicatCraftsGoddesses\n",
            "http://dbpedia.org/class/yago/WikicatWarDeities\n",
            "http://dbpedia.org/class/yago/WikicatWarGoddesses\n",
            "http://dbpedia.org/class/yago/WikicatWisdomDeities\n",
            "http://dbpedia.org/class/yago/WikicatWisdomGoddesses\n",
            "http://dbpedia.org/class/yago/WikicatMagicGoddesses\n",
            "http://www.wikidata.org/entity/Q41710\n",
            "http://dbpedia.org/class/yago/WikicatIndigenousPeoplesInTheUnitedStates\n",
            "http://dbpedia.org/class/yago/WikicatIndigenousPeoplesOfNorthAmerica\n",
            "http://dbpedia.org/class/yago/WikicatIndigenousPeoplesOfTheAmericas\n",
            "http://dbpedia.org/ontology/EthnicGroup\n",
            "http://umbel.org/umbel/rc/CommunityOrganization\n",
            "http://dbpedia.org/class/yago/People107942152\n",
            "http://dbpedia.org/class/yago/Tribe108372411\n",
            "http://dbpedia.org/class/yago/WikicatNativeAmericanTopics\n",
            "http://dbpedia.org/class/yago/WikicatNativeAmericanTribes\n",
            "http://dbpedia.org/class/yago/WikicatBaroquePainters\n",
            "http://dbpedia.org/class/yago/WikicatHistoryPainters\n",
            "http://dbpedia.org/class/yago/Wikicat17th-centuryFrenchPainters\n",
            "http://dbpedia.org/class/yago/WikicatFrenchBaroquePainters\n",
            "http://dbpedia.org/class/yago/WikicatPeopleFromEure\n",
            "http://dbpedia.org/class/yago/WikicatGreekSeaGods\n",
            "http://dbpedia.org/class/yago/SeaGod109506830\n",
            "http://dbpedia.org/class/yago/WikicatAlumniOfSidneySussexCollege,Cambridge\n",
            "http://dbpedia.org/class/yago/WikicatHeadsOfState\n",
            "http://dbpedia.org/class/yago/WikicatHeadsOfStateOfEngland\n",
            "http://dbpedia.org/class/yago/WikicatIrishPoliticians\n",
            "http://dbpedia.org/class/yago/WikicatBritishRevolutionaries\n",
            "http://dbpedia.org/class/yago/WikicatRegicidesOfCharlesI\n",
            "http://dbpedia.org/class/yago/WikicatScottishPoliticians\n",
            "http://dbpedia.org/class/yago/WikicatEnglishFarmers\n",
            "http://dbpedia.org/class/yago/WikicatEnglishPeopleOfWelshDescent\n",
            "http://dbpedia.org/class/yago/WikicatPeopleFromCambridgeshire\n",
            "http://dbpedia.org/class/yago/WikicatPeopleFromEly,Cambridgeshire\n",
            "http://dbpedia.org/class/yago/WikicatPeopleFromHuntingdon\n",
            "http://dbpedia.org/class/yago/WikicatAlumniOfTrinityCollege,Dublin\n",
            "http://dbpedia.org/class/yago/WikicatAnglo-IrishArtists\n",
            "http://dbpedia.org/class/yago/WikicatIrishAnarchists\n",
            "http://dbpedia.org/class/yago/WikicatIrishDramatistsAndPlaywrights\n",
            "http://dbpedia.org/class/yago/WikicatIrishEssayists\n",
            "http://dbpedia.org/class/yago/WikicatIrishFantasyWriters\n",
            "http://dbpedia.org/class/yago/WikicatIrishHorrorWriters\n",
            "http://dbpedia.org/class/yago/WikicatIrishJournalists\n",
            "http://dbpedia.org/class/yago/WikicatIrishNovelists\n",
            "http://dbpedia.org/class/yago/WikicatIrishPacifists\n",
            "http://dbpedia.org/class/yago/WikicatIrishShortStoryWriters\n",
            "http://dbpedia.org/class/yago/WikicatIrishSocialists\n",
            "http://dbpedia.org/class/yago/WikicatBisexualMen\n",
            "http://dbpedia.org/class/yago/WikicatBisexualWriters\n",
            "http://dbpedia.org/class/yago/WikicatChristianAnarchists\n",
            "http://dbpedia.org/class/yago/WikicatVictorianPoets\n",
            "http://dbpedia.org/class/yago/Man110287213\n",
            "http://dbpedia.org/class/yago/WikicatGayWriters\n",
            "http://dbpedia.org/class/yago/WikicatPeopleAssociatedWithTrinityCollege,Dublin\n",
            "http://dbpedia.org/class/yago/WikicatPeopleEducatedAtPortoraRoyalSchool\n",
            "http://dbpedia.org/class/yago/WikicatSymbolistDramatistsAndPlaywrights\n",
            "http://dbpedia.org/class/yago/WikicatAmericanEngravers\n",
            "http://dbpedia.org/class/yago/WikicatAmericanGoldsmiths\n",
            "http://dbpedia.org/class/yago/Engraver110058155\n",
            "http://dbpedia.org/class/yago/WikicatPatriotsInTheAmericanRevolution\n",
            "http://dbpedia.org/class/yago/WikicatTorahMonarchs\n",
            "http://dbpedia.org/class/yago/WikicatTorahPeople\n",
            "http://dbpedia.org/class/yago/WikicatAmericanEngineers\n",
            "http://dbpedia.org/class/yago/WikicatBrighamYoungUniversityAlumni\n",
            "http://dbpedia.org/class/yago/WikicatEagleScouts\n",
            "http://dbpedia.org/class/yago/WikicatPeopleFromBeaverCounty,Utah\n",
            "http://dbpedia.org/class/yago/WikicatTelevisionPioneers\n",
            "http://dbpedia.org/class/yago/WikicatBaronsOfFrance\n",
            "http://dbpedia.org/class/yago/WikicatPresidentsOfOrganisingCommitteesForTheOlympicGames\n",
            "http://dbpedia.org/class/yago/WikicatPresidentsOfTheInternationalOlympicCommittee\n",
            "http://dbpedia.org/class/yago/WikicatSciencesPoAlumni\n",
            "http://dbpedia.org/class/yago/WikicatScoutingPioneers\n",
            "http://dbpedia.org/class/yago/Official110372076\n",
            "http://dbpedia.org/class/yago/Referee110514429\n",
            "http://dbpedia.org/class/yago/Wikicat19th-centuryEducators\n",
            "http://dbpedia.org/class/yago/WikicatFrenchEducationists\n",
            "http://dbpedia.org/class/yago/WikicatFrenchHistorians\n",
            "http://dbpedia.org/class/yago/WikicatFrenchRugbyUnionPlayers\n",
            "http://dbpedia.org/class/yago/WikicatFrenchRugbyUnionReferees\n",
            "http://dbpedia.org/class/yago/WikicatFrenchSportsExecutivesAndAdministrators\n",
            "http://dbpedia.org/class/yago/WikicatSportsExecutivesAndAdministrators\n",
            "http://dbpedia.org/class/yago/WikicatApostolicNunciosToCologne\n",
            "http://dbpedia.org/class/yago/WikicatPeopleFromSiena\n",
            "http://dbpedia.org/class/yago/WikicatBishopsOfImola\n",
            "http://dbpedia.org/class/yago/WikicatCardinalSecretariesOfState\n",
            "http://dbpedia.org/class/yago/WikicatFireDeities\n",
            "http://dbpedia.org/class/yago/WikicatSupernatural(U.S.TVSeries)Characters\n",
            "http://dbpedia.org/class/yago/WikicatGulfsOfThePacificOcean\n",
            "http://dbpedia.org/class/yago/WikicatBaysOfThePacificOcean\n",
            "http://dbpedia.org/class/yago/WikicatBaysOfTheUnitedStates\n",
            "http://dbpedia.org/class/yago/WikicatBodiesOfWaterOfWashington(state)\n",
            "http://dbpedia.org/class/yago/Bay109215664\n",
            "http://dbpedia.org/class/yago/Channel109241247\n",
            "http://dbpedia.org/class/yago/Estuary109274500\n",
            "http://dbpedia.org/class/yago/Fjord109281104\n",
            "http://dbpedia.org/class/yago/Gulf109296121\n",
            "http://dbpedia.org/class/yago/Inlet109313716\n",
            "http://dbpedia.org/class/yago/Ocean109376198\n",
            "http://dbpedia.org/class/yago/Strait109446115\n",
            "http://dbpedia.org/class/yago/WikicatEstuariesOfWashington(state)\n",
            "http://dbpedia.org/class/yago/WikicatFjordsOfWashington(state)\n",
            "http://dbpedia.org/class/yago/WikicatStraitsOfWashington(state)\n",
            "http://dbpedia.org/class/yago/WikicatHeirsToTheBritishThrone\n",
            "http://dbpedia.org/class/yago/WikicatIndianEmpresses\n",
            "http://dbpedia.org/class/yago/WikicatIndianMonarchs\n",
            "http://dbpedia.org/class/yago/WikicatKings\n",
            "http://dbpedia.org/class/yago/WikicatDamesOfTheOrderOfQueenMariaLuisa\n",
            "http://dbpedia.org/class/yago/Empress110053439\n",
            "http://dbpedia.org/class/yago/Heir110168584\n",
            "http://dbpedia.org/class/yago/Wikicat19th-centuryFemaleRulers\n",
            "http://dbpedia.org/class/yago/WikicatEmpresses\n",
            "http://dbpedia.org/class/yago/WikicatPeopleAssociatedWithTheRoyalNationalCollegeForTheBlind\n",
            "http://dbpedia.org/class/yago/WikicatPeopleFromKensington\n",
            "http://www.wikidata.org/entity/Q7377\n",
            "http://dbpedia.org/class/yago/Wikicat5thDragoonGuardsOfficers\n",
            "http://dbpedia.org/class/yago/WikicatGrandCommandersOfTheOrderOfTheRedeemer\n",
            "http://dbpedia.org/class/yago/WikicatGrandOfficersOfTheOrderOfChrist(Portugal)\n",
            "http://dbpedia.org/class/yago/WikicatPeopleFromPaddington\n",
            "http://dbpedia.org/class/yago/WikicatPeopleOfTheSecondMatabeleWar\n",
            "http://dbpedia.org/class/yago/WikicatPre–WorldWarISpies\n",
            "http://dbpedia.org/class/yago/WikicatBritishEducationists\n",
            "http://dbpedia.org/class/yago/WikicatBritishSpies\n",
            "http://dbpedia.org/class/yago/WikicatCommandersWithStarOfTheOrderOfPoloniaRestituta\n",
            "http://dbpedia.org/class/yago/WikicatWorldWarISpies\n",
            "http://dbpedia.org/class/yago/Wikicat13thHussarsOfficers\n",
            "http://dbpedia.org/class/yago/WikicatOutdoorEducators\n",
            "http://dbpedia.org/class/yago/WikicatPresidentsOfWashingtonAndLeeUniversity\n",
            "http://dbpedia.org/class/yago/Overseer110388732\n",
            "http://dbpedia.org/class/yago/WikicatSuperintendentsOfTheUnitedStatesMilitaryAcademy\n",
            "http://dbpedia.org/class/yago/WikicatPeopleFromLancaster,Pennsylvania\n",
            "http://dbpedia.org/class/yago/WikicatPeopleFromLancasterCounty,Pennsylvania\n",
            "http://dbpedia.org/class/yago/Wright110793570\n",
            "http://dbpedia.org/class/yago/WikicatShipbuilders\n",
            "http://dbpedia.org/class/yago/Shipwright110590764\n",
            "http://dbpedia.org/class/yago/WikicatSubmarinePioneers\n",
            "http://dbpedia.org/class/yago/WikicatBaronetsInTheBaronetageOfGreatBritain\n",
            "http://dbpedia.org/class/yago/WikicatPeopleFromRamsbottom\n",
            "http://dbpedia.org/class/yago/WikicatPeopleEducatedAtBuryGrammarSchool\n",
            "http://dbpedia.org/class/yago/WikicatPeopleEducatedAtHarrowSchool\n",
            "http://dbpedia.org/class/yago/WikicatPeopleFromBury\n",
            "http://dbpedia.org/class/yago/WikicatPeopleFromGreaterManchester\n",
            "http://dbpedia.org/class/yago/WikicatCangrejerosDeSanturcePlayers\n",
            "http://dbpedia.org/class/yago/WikicatCaribbeanSeriesPlayers\n",
            "http://dbpedia.org/class/yago/WikicatVictimsOfAviationAccidentsOrIncidentsInPuertoRico\n",
            "http://dbpedia.org/class/yago/WikicatMajorLeagueBaseballPlayersFromPuertoRico\n",
            "http://dbpedia.org/class/yago/WikicatMissingAirPassengers\n",
            "http://dbpedia.org/class/yago/WikicatMontrealRoyalsPlayers\n",
            "http://dbpedia.org/class/yago/WikicatPuertoRicanBaseballPlayers\n",
            "http://dbpedia.org/class/yago/WikicatPuertoRicanPeopleOfAfricanDescent\n",
            "http://dbpedia.org/class/yago/Passenger110403876\n",
            "http://dbpedia.org/class/yago/WikicatPeopleFromCarolina,PuertoRico\n",
            "http://dbpedia.org/class/yago/WikicatAlumniOfPembrokeCollege,Cambridge\n",
            "http://dbpedia.org/class/yago/WikicatAmericanSermonWriters\n",
            "http://dbpedia.org/class/yago/WikicatBaptistMinistersFromTheUnitedStates\n",
            "http://dbpedia.org/class/yago/WikicatImmigrantsToPlymouthColony\n",
            "http://dbpedia.org/class/yago/WikicatPeopleFromProvidence,RhodeIsland\n",
            "http://dbpedia.org/class/yago/WikicatColonialGovernorsOfRhodeIsland\n",
            "http://dbpedia.org/class/yago/Wikicat17th-centuryAmericanWriters\n",
            "http://dbpedia.org/class/yago/Wikicat17th-centuryBaptistMinisters\n",
            "http://dbpedia.org/class/yago/WikicatNewEnglandPuritanMinisters\n",
            "http://www.wikidata.org/entity/Q25379\n",
            "http://dbpedia.org/ontology/Play\n",
            "http://dbpedia.org/class/yago/WikicatActorsFromIllinois\n",
            "http://dbpedia.org/class/yago/WikicatAmericanTelevisionActors\n",
            "http://dbpedia.org/class/yago/WikicatAmericanVoiceActors\n",
            "http://dbpedia.org/class/yago/WikicatPeopleFromLeeCounty,Illinois\n",
            "http://dbpedia.org/class/yago/WikicatPeopleFromTheGreaterLosAngelesArea\n",
            "http://dbpedia.org/class/yago/WikicatPeopleFromWhitesideCounty,Illinois\n",
            "http://dbpedia.org/class/yago/WikicatPeopleOfTheSovietWarInAfghanistan\n",
            "http://dbpedia.org/class/yago/WikicatPresidentsOfTheScreenActorsGuild\n",
            "http://dbpedia.org/class/yago/WikicatCollegeSwimmersInTheUnitedStates\n",
            "http://dbpedia.org/class/yago/WikicatWarnerBros.ContractPlayers\n",
            "http://dbpedia.org/class/yago/WikicatWestern(genre)FilmActors\n",
            "http://dbpedia.org/class/yago/WikicatWritersFromIllinois\n",
            "http://dbpedia.org/class/yago/WikicatMaleActorsFromCalifornia\n",
            "http://dbpedia.org/class/yago/WikicatMaleActorsFromIllinois\n",
            "http://dbpedia.org/class/yago/WikicatSkinCancerSurvivors\n",
            "http://dbpedia.org/class/yago/Informant110205985\n",
            "http://dbpedia.org/class/yago/Wikicat20th-centuryPoliticians\n",
            "http://dbpedia.org/class/yago/WikicatEurekaRedDevilsFootballPlayers\n",
            "http://dbpedia.org/class/yago/WikicatFBIInformants\n",
            "http://dbpedia.org/class/yago/WikicatAfrican-AmericanPeopleByOccupation\n",
            "http://dbpedia.org/class/yago/WikicatAlabamaStateUniversityAlumni\n",
            "http://dbpedia.org/class/yago/WikicatPeopleFromTuskegee,Alabama\n",
            "http://dbpedia.org/class/yago/Wikicat20th-centuryAfrican-AmericanActivists\n",
            "http://dbpedia.org/class/yago/WikicatAmericanEmigrantsToMexico\n",
            "http://dbpedia.org/class/yago/WikicatKnow-NothingUnitedStatesSenators\n",
            "http://dbpedia.org/class/yago/WikicatPeopleOfTheTexasRevolution\n",
            "http://dbpedia.org/class/yago/WikicatPresidentsOfTheRepublicOfTexas\n",
            "http://dbpedia.org/class/yago/WikicatUnitedStatesSenatorsFromTexas\n",
            "http://dbpedia.org/class/yago/Ignoramus110198958\n",
            "http://dbpedia.org/class/yago/UnskilledPerson109632274\n",
            "http://dbpedia.org/class/yago/WikicatPeopleFromBlountCounty,Tennessee\n",
            "http://dbpedia.org/class/yago/WikicatTennesseeLawyers\n",
            "http://dbpedia.org/class/yago/WikicatTexasKnowNothings\n",
            "http://dbpedia.org/class/yago/WikicatAmericanCivilWarIndustrialists\n",
            "http://dbpedia.org/class/yago/WikicatKnightsOfTheOrderOfSaintsMauriceAndLazarus\n",
            "http://dbpedia.org/class/yago/WikicatKnightsOfTheOrderOfTheDannebrog\n",
            "http://dbpedia.org/class/yago/WikicatKnightsOfTheOrderOfTheTowerAndSword\n",
            "http://dbpedia.org/class/yago/WikicatPhillipsAcademyAlumni\n",
            "http://dbpedia.org/class/yago/WikicatCommandersByNumberOfTheOrderOfIsabellaTheCatholic\n",
            "http://dbpedia.org/class/yago/WikicatCommandersOfTheNichanIftikhar\n",
            "http://dbpedia.org/class/yago/WikicatCriticsOfCatholicism\n",
            "http://dbpedia.org/class/yago/Industrialist110204177\n",
            "http://dbpedia.org/class/yago/WikicatPeopleFromCharlestown,Boston\n",
            "http://dbpedia.org/class/yago/WikicatHinduTemplesInKurnoolDistrict\n",
            "http://dbpedia.org/class/yago/Building102913152\n",
            "http://dbpedia.org/class/yago/PlaceOfWorship103953416\n",
            "http://dbpedia.org/class/yago/Temple104407435\n",
            "http://dbpedia.org/class/yago/WikicatGuerrillaWarfareTheorists\n",
            "http://dbpedia.org/class/yago/WikicatPeopleOfTheVenezuelanWarOfIndependence\n",
            "http://dbpedia.org/class/yago/WikicatPeruvianPoliticians\n",
            "http://dbpedia.org/class/yago/WikicatPresidentsOfBolivia\n",
            "http://dbpedia.org/class/yago/WikicatPresidentsOfColombia\n",
            "http://dbpedia.org/class/yago/WikicatPresidentsOfGranColombia\n",
            "http://dbpedia.org/class/yago/WikicatPresidentsOfVenezuela\n",
            "http://dbpedia.org/class/yago/WikicatBolivianPeople\n",
            "http://dbpedia.org/class/yago/WikicatColombianPeople\n",
            "http://dbpedia.org/class/yago/WikicatVenezuelanGenerals\n",
            "http://dbpedia.org/class/yago/WikicatVenezuelanPeople\n",
            "http://dbpedia.org/class/yago/WikicatVenezuelanPeopleOfBasqueDescent\n",
            "http://dbpedia.org/class/yago/WikicatVenezuelanPeopleOfCanarianDescent\n",
            "http://dbpedia.org/class/yago/WikicatVenezuelanPeopleOfSpanishDescent\n",
            "http://dbpedia.org/class/yago/WikicatVenezuelanPoliticians\n",
            "http://dbpedia.org/class/yago/WikicatVenezuelanRevolutionaries\n",
            "http://dbpedia.org/class/yago/WikicatVenezuelanSoldiers\n",
            "http://dbpedia.org/class/yago/Wikicat19th-centuryBolivianPeople\n",
            "http://dbpedia.org/class/yago/Wikicat19th-centuryColombianPeople\n",
            "http://dbpedia.org/class/yago/Wikicat19th-centuryPeruvianPeople\n",
            "http://dbpedia.org/class/yago/Wikicat19th-centuryVenezuelanPeople\n",
            "http://dbpedia.org/class/yago/WikicatPeopleFromCaracas\n",
            "http://dbpedia.org/class/yago/WikicatHistoryMuseumsInNewYork\n",
            "http://dbpedia.org/class/yago/WikicatProtectedAreasEstablishedIn1924\n",
            "http://dbpedia.org/class/yago/WikicatUnitedStatesNationalParkServiceAreasInNewYork\n",
            "http://dbpedia.org/class/yago/WikicatWorldHeritageSitesInTheUnitedStates\n",
            "http://dbpedia.org/class/yago/WikicatLandmarksInNewYorkCity\n",
            "http://dbpedia.org/class/yago/WikicatLandmarksInTheUnitedStates\n",
            "http://dbpedia.org/class/yago/WikicatLibertySymbols\n",
            "http://dbpedia.org/class/yago/WikicatMonumentsAndMemorialsInNewYork\n",
            "http://dbpedia.org/class/yago/WikicatMonumentsAndMemorialsInTheUnitedStates\n",
            "http://dbpedia.org/class/yago/WikicatMuseumsInManhattan\n",
            "http://dbpedia.org/class/yago/WikicatMuseumsInNewYork\n",
            "http://dbpedia.org/class/yago/WikicatNationalHistoricLandmarksOfTheUnitedStates\n",
            "http://dbpedia.org/class/yago/WikicatNationalMonumentsOfTheUnitedStates\n",
            "http://dbpedia.org/class/yago/WikicatNationalParkServiceNationalMonumentsInNewYork\n",
            "http://dbpedia.org/class/yago/Depository103177349\n",
            "http://dbpedia.org/class/yago/Facility103315023\n",
            "http://dbpedia.org/class/yago/Museum103800563\n",
            "http://dbpedia.org/class/yago/NationalMonument103810952\n",
            "http://dbpedia.org/class/yago/ServiceArea108648781\n",
            "http://dbpedia.org/class/yago/TopographicPoint108664443\n",
            "http://dbpedia.org/class/yago/WikicatPeopleFromSanAntonio,Texas\n",
            "http://dbpedia.org/class/yago/WikicatPeopleFromWashingtonCounty,Missouri\n",
            "http://dbpedia.org/class/yago/WikicatPeopleFromWytheCounty,Virginia\n",
            "http://dbpedia.org/class/yago/WikicatMexicanPeopleOfAmericanDescent\n",
            "http://dbpedia.org/class/yago/WikicatPeopleFromClarksburg,WestVirginia\n",
            "http://dbpedia.org/class/yago/WikicatAstronomicalInstruments\n",
            "http://dbpedia.org/class/yago/WikicatHistoricalScientificInstruments\n",
            "http://dbpedia.org/ontology/Device\n",
            "http://dbpedia.org/class/yago/WikicatClocks\n",
            "http://dbpedia.org/class/yago/WikicatMeasuringInstruments\n",
            "http://dbpedia.org/class/yago/Clock103046257\n",
            "http://dbpedia.org/class/yago/MeasuringInstrument103733925\n",
            "http://dbpedia.org/class/yago/ScientificInstrument104147495\n",
            "http://dbpedia.org/class/yago/Timepiece104437953\n",
            "http://dbpedia.org/class/yago/WikicatAdvaitinPhilosophers\n",
            "http://dbpedia.org/class/yago/WikicatHinduMissionaries\n",
            "http://dbpedia.org/class/yago/WikicatHinduMystics\n",
            "http://dbpedia.org/class/yago/WikicatHinduReformers\n",
            "http://dbpedia.org/class/yago/WikicatHinduWriters\n",
            "http://dbpedia.org/class/yago/WikicatIndianMissionaries\n",
            "http://dbpedia.org/class/yago/WikicatIndianReligiousLeaders\n",
            "http://dbpedia.org/class/yago/WikicatIndianReligiousWriters\n",
            "http://dbpedia.org/class/yago/WikicatBengaliPeople\n",
            "http://dbpedia.org/class/yago/WikicatMonasticDisciplesOfRamakrishna\n",
            "http://dbpedia.org/class/yago/WikicatScottishChurchCollege,CalcuttaAlumni\n",
            "http://dbpedia.org/class/yago/Precursor109627117\n",
            "http://dbpedia.org/class/yago/Predecessor110464711\n",
            "http://dbpedia.org/class/yago/WikicatNewAgePredecessors\n",
            "http://dbpedia.org/class/yago/WikicatAmericanHunters\n",
            "http://dbpedia.org/class/yago/WikicatAmericanRanchers\n",
            "http://dbpedia.org/class/yago/WikicatCommissionersOfTheNewYorkCityPoliceDepartment\n",
            "http://dbpedia.org/class/yago/Rancher110506417\n",
            "http://dbpedia.org/class/yago/WikicatExplorersOfAmazonia\n",
            "http://dbpedia.org/class/yago/WikicatPeopleAssociatedWithTheAmericanMuseumOfNaturalHistory\n",
            "http://dbpedia.org/class/yago/WikicatPeopleAssociatedWithTheHaguePeaceConferences\n",
            "http://dbpedia.org/class/yago/WikicatArchbishops\n",
            "http://dbpedia.org/class/yago/WikicatArchbishopsOfCanterbury\n",
            "http://dbpedia.org/class/yago/WikicatAssassinatedEnglishPeople\n",
            "http://dbpedia.org/class/yago/WikicatAssassinatedEnglishPoliticians\n",
            "http://dbpedia.org/ontology/Archbishop\n",
            "http://dbpedia.org/class/yago/WikicatPeopleMurderedInEngland\n",
            "http://dbpedia.org/class/yago/WikicatMedievalEnglishSaints\n",
            "http://dbpedia.org/class/yago/WikicatMurderedPriests\n",
            "http://dbpedia.org/class/yago/Wikicat12th-centuryBishops\n",
            "http://dbpedia.org/class/yago/Wikicat12th-centuryEnglishPeople\n",
            "http://dbpedia.org/class/yago/Wikicat12th-centuryRomanCatholicArchbishops\n",
            "http://dbpedia.org/class/yago/Wikicat12th-centuryRomanCatholicBishops\n",
            "http://dbpedia.org/class/yago/Wikicat12th-centuryRomanCatholicMartyrs\n",
            "http://dbpedia.org/class/yago/WikicatEnglishRomanCatholicSaints\n",
            "http://dbpedia.org/class/yago/WikicatAmericanElectricalEngineers\n",
            "http://dbpedia.org/class/yago/WikicatAmericanTelecommunicationsEngineers\n",
            "http://dbpedia.org/class/yago/WikicatPeopleFromMilan,Ohio\n",
            "http://dbpedia.org/class/yago/WikicatPeopleFromNewark,NewJersey\n",
            "http://dbpedia.org/class/yago/WikicatBatteryInventors\n",
            "http://dbpedia.org/class/yago/WikicatCinemaPioneers\n",
            "http://dbpedia.org/class/yago/ElectricalEngineer110049017\n",
            "http://dbpedia.org/class/yago/WikicatElectricalEngineers\n",
            "http://dbpedia.org/class/yago/WikicatGeneralElectricPeople\n",
            "http://dbpedia.org/class/yago/WikicatPeopleAssociatedWithEnergy\n",
            "http://dbpedia.org/class/yago/WikicatPeopleFromEdison,NewJersey\n",
            "http://dbpedia.org/class/yago/WikicatPeopleFromFortMyers,Florida\n",
            "http://dbpedia.org/class/yago/WikicatAmericanArchitects\n",
            "http://dbpedia.org/class/yago/WikicatAmericanFarmers\n",
            "http://dbpedia.org/class/yago/WikicatAmericanGardeners\n",
            "http://dbpedia.org/class/yago/WikicatPre-19th-centuryCryptographers\n",
            "http://dbpedia.org/class/yago/WikicatProtestantPhilosophers\n",
            "http://dbpedia.org/class/yago/WikicatDemocratic-RepublicanPartyPresidentsOfTheUnitedStates\n",
            "http://dbpedia.org/class/yago/WikicatReligiousSkeptics\n",
            "http://dbpedia.org/class/yago/Gardener110120533\n",
            "http://dbpedia.org/class/yago/Horticulturist110186350\n",
            "http://dbpedia.org/class/yago/Skeptic110604634\n",
            "http://dbpedia.org/class/yago/WikicatFarmers\n",
            "http://dbpedia.org/class/yago/WikicatFederalistArchitects\n",
            "http://dbpedia.org/class/yago/WikicatPeopleFromLondonExecutedByDecapitation\n",
            "http://dbpedia.org/class/yago/WikicatPrisonersInTheTowerOfLondon\n",
            "http://dbpedia.org/class/yago/WikicatCatholicPoets\n",
            "http://dbpedia.org/class/yago/WikicatChristianMartyrsExecutedByDecapitation\n",
            "http://dbpedia.org/class/yago/WikicatUtopianSocialists\n",
            "http://dbpedia.org/class/yago/WikicatRenaissanceHumanists\n",
            "http://dbpedia.org/class/yago/Wikicat16th-centuryHistorians\n",
            "http://dbpedia.org/class/yago/Wikicat16th-centuryLatin-languageWriters\n",
            "http://dbpedia.org/class/yago/Wikicat16th-centuryNovelists\n",
            "http://dbpedia.org/class/yago/Wikicat16th-centuryPhilosophers\n",
            "http://dbpedia.org/class/yago/Wikicat16th-centuryRomanCatholicMartyrs\n",
            "http://dbpedia.org/class/yago/WikicatEnglishHumanists\n",
            "http://dbpedia.org/class/yago/WikicatEnglishRenaissanceHumanists\n",
            "http://dbpedia.org/class/yago/WikicatExecutedPhilosophers\n",
            "http://dbpedia.org/class/yago/WikicatFranciscanMartyrs\n",
            "http://dbpedia.org/class/yago/WikicatPeopleAssociatedWithTheUniversityOfOxford\n",
            "http://dbpedia.org/class/yago/WikicatPeopleEducatedAtMagdalenCollegeSchool,Oxford\n",
            "http://dbpedia.org/class/yago/WikicatPeopleExecutedByTudorEnglandByDecapitation\n",
            "http://dbpedia.org/class/yago/WikicatPeopleExecutedForTreason\n",
            "http://dbpedia.org/class/yago/WikicatPeopleExecutedUnderHenryVIIIOfEngland\n",
            "http://dbpedia.org/class/yago/WikicatPeopleExecutedUnderTheTudors\n",
            "http://dbpedia.org/class/yago/WikicatPeopleExecutedUnderTheTudorsForTreasonAgainstEngland\n",
            "http://dbpedia.org/class/yago/WikicatSpeakersOfTheHouseOfCommonsOfEngland\n",
            "http://dbpedia.org/class/yago/WikicatPeopleOfTheRoman–PersianWars\n",
            "http://dbpedia.org/class/yago/WikicatRomanGovernorsOfGermaniaInferior\n",
            "http://dbpedia.org/class/yago/Wikicat1st-centuryRomanEmperors\n",
            "http://dbpedia.org/class/yago/WikicatMermaids\n",
            "http://dbpedia.org/class/yago/Mermaid109489601\n",
            "http://dbpedia.org/class/yago/WikicatPeopleFromClermontCounty,Ohio\n",
            "http://dbpedia.org/class/yago/WikicatPeopleFromEureka,California\n",
            "http://dbpedia.org/ontology/CelestialBody\n",
            "http://www.wikidata.org/entity/Q634\n",
            "http://dbpedia.org/class/yago/WikicatPlanetsOfTheSolarSystem\n",
            "http://dbpedia.org/ontology/Planet\n",
            "http://dbpedia.org/class/yago/CelestialBody109239740\n",
            "http://dbpedia.org/class/yago/Planet109394007\n",
            "http://dbpedia.org/class/yago/TerrestrialPlanet109456369\n",
            "http://dbpedia.org/class/yago/WikicatTerrestrialPlanets\n",
            "http://dbpedia.org/class/yago/WikicatMotherGoddesses\n",
            "http://dbpedia.org/class/yago/WikicatFertilityGoddesses\n",
            "http://dbpedia.org/class/yago/WikicatGuerrillaWars\n",
            "http://dbpedia.org/class/yago/WikicatCivilWars\n",
            "http://dbpedia.org/class/yago/WikicatColdWarConflicts\n",
            "http://dbpedia.org/class/yago/WikicatCommunism-basedCivilWars\n",
            "http://dbpedia.org/class/yago/WikicatWarsInvolvingAustralia\n",
            "http://dbpedia.org/class/yago/WikicatWarsInvolvingCambodia\n",
            "http://dbpedia.org/class/yago/WikicatWarsInvolvingCanada\n",
            "http://dbpedia.org/class/yago/WikicatWarsInvolvingGermany\n",
            "http://dbpedia.org/class/yago/WikicatWarsInvolvingLaos\n",
            "http://dbpedia.org/class/yago/WikicatWarsInvolvingNewZealand\n",
            "http://dbpedia.org/class/yago/WikicatWarsInvolvingNicaragua\n",
            "http://dbpedia.org/class/yago/WikicatWarsInvolvingNorthKorea\n",
            "http://dbpedia.org/class/yago/WikicatWarsInvolvingSouthKorea\n",
            "http://dbpedia.org/class/yago/WikicatWarsInvolvingSpain\n",
            "http://dbpedia.org/class/yago/WikicatWarsInvolvingThailand\n",
            "http://dbpedia.org/class/yago/WikicatWarsInvolvingThePeople'sRepublicOfChina\n",
            "http://dbpedia.org/class/yago/WikicatWarsInvolvingThePhilippines\n",
            "http://dbpedia.org/class/yago/WikicatWarsInvolvingTheSovietUnion\n",
            "http://dbpedia.org/class/yago/WikicatWarsInvolvingTheStatesAndPeoplesOfAsia\n",
            "http://dbpedia.org/class/yago/WikicatWarsInvolvingTheUnitedStates\n",
            "http://dbpedia.org/class/yago/WikicatWarsInvolvingVietnam\n",
            "http://dbpedia.org/class/yago/WikicatRevolution-basedCivilWars\n",
            "http://dbpedia.org/class/yago/CivilWar100962567\n",
            "http://dbpedia.org/class/yago/War100973077\n",
            "http://dbpedia.org/class/yago/Wikicat20th-centuryConflicts\n",
            "http://www.wikidata.org/entity/Q15416\n",
            "http://dbpedia.org/class/yago/WikicatAlumniOfMertonCollege,Oxford\n",
            "http://dbpedia.org/class/yago/WikicatHistoriansOfScotland\n",
            "http://dbpedia.org/class/yago/WikicatPeopleWithDisabilities\n",
            "http://dbpedia.org/class/yago/WikicatPresidentsOfTheRoyalSocietyOfEdinburgh\n",
            "http://dbpedia.org/class/yago/WikicatPrincipalClerksOfSessionAndJusticiary\n",
            "http://dbpedia.org/class/yago/WikicatBritishEssayists\n",
            "http://dbpedia.org/class/yago/WikicatBritishJudges\n",
            "http://dbpedia.org/class/yago/WikicatBritishNovelists\n",
            "http://dbpedia.org/class/yago/WikicatWritersOfHistoricalFictionSetInTheMiddleAges\n",
            "http://dbpedia.org/class/yago/WikicatMythopoeicWriters\n",
            "http://dbpedia.org/class/yago/WikicatScottishDramatistsAndPlaywrights\n",
            "http://dbpedia.org/class/yago/WikicatScottishHistorians\n",
            "http://dbpedia.org/class/yago/WikicatScottishHistoricalNovelists\n",
            "http://dbpedia.org/class/yago/WikicatScottishJudges\n",
            "http://dbpedia.org/class/yago/WikicatScottishNovelists\n",
            "http://dbpedia.org/class/yago/WikicatScottishPeople\n",
            "http://dbpedia.org/class/yago/WikicatScottishPeopleWithDisabilities\n",
            "http://dbpedia.org/class/yago/WikicatScottishPoets\n",
            "http://dbpedia.org/class/yago/WikicatScottishSongCollectors\n",
            "http://dbpedia.org/class/yago/WikicatScottishTranslators\n",
            "http://dbpedia.org/class/yago/WikicatScottishWriters\n",
            "http://dbpedia.org/class/yago/Clerk109928451\n",
            "http://dbpedia.org/class/yago/Elder110048218\n",
            "http://dbpedia.org/class/yago/Wikicat18th-centuryScottishPeople\n",
            "http://dbpedia.org/class/yago/Wikicat19th-centuryJudges\n",
            "http://dbpedia.org/class/yago/Wikicat19th-centuryLawyers\n",
            "http://dbpedia.org/class/yago/Wikicat19th-centuryScottishWriters\n",
            "http://dbpedia.org/class/yago/WikicatEldersOfTheChurchOfScotland\n",
            "http://dbpedia.org/class/yago/WikicatPeopleEducatedAtTheRoyalHighSchool,Edinburgh\n",
            "http://dbpedia.org/class/yago/WikicatTranslatorsFromGerman\n",
            "http://dbpedia.org/class/yago/WikicatAnthropologists\n",
            "http://dbpedia.org/class/yago/WikicatPhilosophersOfLanguage\n",
            "http://dbpedia.org/class/yago/WikicatPrussianDiplomats\n",
            "http://dbpedia.org/class/yago/WikicatBasque-languageScholars\n",
            "http://dbpedia.org/class/yago/Wikicat19th-centuryDiplomats\n",
            "http://dbpedia.org/class/yago/WikicatGermanClassicalPhilologists\n",
            "http://dbpedia.org/class/yago/WikicatGermanDiplomats\n",
            "http://dbpedia.org/class/yago/WikicatGermanEducationists\n",
            "http://dbpedia.org/class/yago/WikicatGermanEducators\n",
            "http://dbpedia.org/class/yago/WikicatGermanPeopleOfTheNapoleonicWars\n",
            "http://dbpedia.org/class/yago/WikicatGermanPoliticiansOfTheNapoleonicWars\n",
            "http://dbpedia.org/class/yago/WikicatPeopleFromTheHague\n",
            "http://dbpedia.org/class/yago/WikicatPeopleOfTheDutchGoldenAge\n",
            "http://dbpedia.org/class/yago/WikicatCountsOfNassau\n",
            "http://dbpedia.org/class/yago/WikicatDutchPeople\n",
            "http://dbpedia.org/class/yago/WikicatDutchPeopleOfScottishDescent\n",
            "http://dbpedia.org/class/yago/WikicatModernChildRulers\n",
            "http://dbpedia.org/class/yago/Wikicat17th-centuryDutchPeople\n",
            "http://dbpedia.org/class/yago/WikicatIllinoisCollegeAlumni\n",
            "http://dbpedia.org/class/yago/WikicatPeopleFromSalem,Illinois\n",
            "http://dbpedia.org/class/yago/WikicatPeopleOfThePhilippine–AmericanWar\n",
            "http://dbpedia.org/class/yago/WikicatPeopleOfTheSpanish–AmericanWar\n",
            "http://dbpedia.org/class/yago/Democrat110002031\n",
            "http://dbpedia.org/class/yago/WikicatNebraskaLawyers\n",
            "http://dbpedia.org/class/yago/WikicatNebraskaPopulists\n",
            "http://dbpedia.org/class/yago/WikicatNewspaperPeopleFromOmaha,Nebraska\n",
            "http://dbpedia.org/class/yago/WikicatPeopleFromJacksonville,Illinois\n",
            "http://dbpedia.org/class/yago/WikicatPeopleFromStratford-upon-Avon\n",
            "http://dbpedia.org/class/yago/Wikicat16th-centuryActors\n",
            "http://dbpedia.org/class/yago/Wikicat16th-centuryDramatistsAndPlaywrights\n",
            "http://dbpedia.org/class/yago/Wikicat16th-centuryEnglishMaleActors\n",
            "http://dbpedia.org/class/yago/Wikicat17th-centuryDramatistsAndPlaywrights\n",
            "http://dbpedia.org/class/yago/WikicatEnglishRenaissanceDramatists\n",
            "http://dbpedia.org/class/yago/WikicatPeopleEducatedAtKingEdwardVISchoolStratford-upon-Avon\n",
            "http://dbpedia.org/class/yago/WikicatBankers\n",
            "http://dbpedia.org/class/yago/Banker109837824\n",
            "http://dbpedia.org/class/yago/WikicatPeopleFromLübeck\n",
            "http://dbpedia.org/class/yago/WikicatPeopleOfTheSpanishCivilWar\n",
            "http://dbpedia.org/class/yago/WikicatPresidentsOfTheSocialistInternational\n",
            "http://dbpedia.org/class/yago/WikicatLeadersOfPoliticalPartiesInGermany\n",
            "http://dbpedia.org/class/yago/WikicatMayorsOfBerlin\n",
            "http://dbpedia.org/class/yago/WikicatRefugeesInNorway\n",
            "http://dbpedia.org/class/yago/WikicatForeignMinistersOfGermany\n",
            "http://dbpedia.org/class/yago/WikicatGermanAutobiographers\n",
            "http://dbpedia.org/class/yago/WikicatGermanChristianSocialists\n",
            "http://dbpedia.org/class/yago/WikicatGermanExpatriatesInNorway\n",
            "http://dbpedia.org/class/yago/WikicatGermanPeopleOfTheSpanishCivilWar\n",
            "http://dbpedia.org/class/yago/WikicatGermanPoliticians\n",
            "http://dbpedia.org/class/yago/WikicatNaturalisedCitizensOfNorway\n",
            "http://dbpedia.org/class/yago/WikicatNon-fictionWriters\n",
            "http://dbpedia.org/class/yago/Wikicat4thQueen'sOwnHussarsOfficers\n",
            "http://dbpedia.org/class/yago/WikicatHorrorWriters\n",
            "http://dbpedia.org/class/yago/WikicatPeopleFromOxfordshire\n",
            "http://dbpedia.org/class/yago/WikicatPeopleFromWoodstock,Oxfordshire\n",
            "http://dbpedia.org/class/yago/WikicatBritishEscapees\n",
            "http://dbpedia.org/class/yago/WikicatBritishNobelLaureates\n",
            "http://dbpedia.org/class/yago/WikicatBritishNon-fictionWriters\n",
            "http://dbpedia.org/class/yago/WikicatBritishPrisonersOfWar\n",
            "http://dbpedia.org/class/yago/WikicatBritishWarCorrespondents\n",
            "http://dbpedia.org/class/yago/WikicatCriticsOfIslam\n",
            "http://dbpedia.org/class/yago/WikicatDeputyLieutenantsOfKent\n",
            "http://dbpedia.org/class/yago/WikicatWarCorrespondents\n",
            "http://dbpedia.org/class/yago/WikicatQueen'sOwnOxfordshireHussarsOfficers\n",
            "http://dbpedia.org/class/yago/WikicatRectorsOfTheUniversityOfAberdeen\n",
            "http://dbpedia.org/class/yago/WikicatRoyalAirForceOfficersHoldingHonoraryCommissions\n",
            "http://dbpedia.org/class/yago/WikicatRoyalScotsFusiliersOfficers\n",
            "http://dbpedia.org/class/yago/WikicatSecondBoerWarPrisonersOfWar\n",
            "http://dbpedia.org/class/yago/WikicatSecretariesOfStateForAir(UK)\n",
            "http://dbpedia.org/class/yago/WikicatSecretariesOfStateForDefence(UK)\n",
            "http://dbpedia.org/class/yago/WikicatSecretariesOfStateForTheColonies(UK)\n",
            "http://dbpedia.org/class/yago/WikicatSecretariesOfStateForWar(UK)\n",
            "http://dbpedia.org/class/yago/Correspondent109966710\n",
            "http://dbpedia.org/class/yago/Lieutenant110259348\n",
            "http://dbpedia.org/class/yago/WarCorrespondent110766718\n",
            "http://dbpedia.org/class/yago/Wikicat20th-centuryBritishPainters\n",
            "http://dbpedia.org/class/yago/Wikicat20th-centuryBritishWriters\n",
            "http://dbpedia.org/class/yago/Wikicat20th-centuryHistorians\n",
            "http://dbpedia.org/class/yago/WikicatEnglishPainters\n",
            "http://dbpedia.org/class/yago/WikicatEnglishPeopleOfAmericanDescent\n",
            "http://dbpedia.org/class/yago/WikicatPeopleEducatedAtSt.George'sSchool,Ascot\n",
            "http://dbpedia.org/class/yago/WikicatSouthAfricanLightHorseOfficers\n",
            "http://dbpedia.org/class/yago/WikicatAmericanPoliticalScientists\n",
            "http://dbpedia.org/class/yago/WikicatGovernorsOfNewJersey\n",
            "http://dbpedia.org/class/yago/WikicatPeopleFromStaunton,Virginia\n",
            "http://dbpedia.org/class/yago/WikicatPeopleOfTheRussianCivilWar\n",
            "http://dbpedia.org/class/yago/WikicatPresidentsOfPrincetonUniversity\n",
            "http://dbpedia.org/class/yago/WikicatWesleyanCardinalsFootballCoaches\n",
            "http://dbpedia.org/class/yago/PoliticalScientist110450161\n",
            "http://dbpedia.org/class/yago/WikicatPeopleFromAtlanta,Georgia\n",
            "http://dbpedia.org/class/yago/WikicatDrainageBasinsOfThePacificOcean\n",
            "http://dbpedia.org/class/yago/WikicatRiversOfChina\n",
            "http://dbpedia.org/class/yago/WikicatRiversOfGansu\n",
            "http://dbpedia.org/class/yago/WikicatRiversOfHenan\n",
            "http://dbpedia.org/class/yago/WikicatRiversOfInnerMongolia\n",
            "http://dbpedia.org/class/yago/WikicatRiversOfNingxia\n",
            "http://dbpedia.org/class/yago/WikicatRiversOfQinghai\n",
            "http://dbpedia.org/class/yago/WikicatRiversOfShaanxi\n",
            "http://dbpedia.org/class/yago/WikicatRiversOfShandong\n",
            "http://dbpedia.org/class/yago/WikicatRiversOfShanxi\n",
            "http://dbpedia.org/class/yago/WikicatRiversOfTibet\n",
            "http://dbpedia.org/class/yago/RiverBasin108518940\n",
            "http://dbpedia.org/class/yago/WikicatDanishPrincesses\n",
            "http://dbpedia.org/class/yago/WikicatMonarchsOfGreatBritain\n",
            "http://dbpedia.org/class/yago/WikicatScottishPrincesses\n",
            "http://dbpedia.org/class/yago/Wikicat18th-centuryFemaleRulers\n",
            "http://dbpedia.org/class/yago/WikicatEnglishPrincesses\n",
            "http://dbpedia.org/class/yago/WikicatNorwegianPrincesses\n",
            "http://dbpedia.org/class/yago/WikicatLiquids\n",
            "http://dbpedia.org/class/yago/Fluid114939900\n",
            "http://dbpedia.org/class/yago/Liquid114940386\n",
            "http://dbpedia.org/class/yago/Matter100020827\n",
            "http://dbpedia.org/class/yago/Part113809207\n",
            "http://dbpedia.org/class/yago/Relation100031921\n",
            "http://dbpedia.org/class/yago/Substance100019613\n",
            "http://dbpedia.org/class/yago/WikicatKingsInGreekMythology\n",
            "http://dbpedia.org/class/yago/WikicatPeopleOfTheTrojanWar\n",
            "http://dbpedia.org/class/yago/WikicatMythologicalKingsOfSparta\n",
            "http://dbpedia.org/class/yago/WikicatRulersOfSparta\n",
            "http://dbpedia.org/class/Book\n",
            "http://dbpedia.org/ontology/Weapon\n",
            "http://dbpedia.org/class/yago/WikicatDepictionsOfJesus\n",
            "http://dbpedia.org/class/yago/WikicatEasternOrthodoxIcons\n",
            "http://dbpedia.org/class/yago/WordPicture107201804\n",
            "http://dbpedia.org/class/yago/Description106724763\n",
            "http://dbpedia.org/class/yago/Icon107269916\n",
            "http://dbpedia.org/class/yago/Statement106722453\n",
            "http://dbpedia.org/class/yago/WikicatMiracles\n",
            "http://dbpedia.org/class/yago/Miracle107289481\n",
            "http://dbpedia.org/class/yago/WikicatGloriousMysteries\n",
            "http://dbpedia.org/class/yago/WikicatAmericanArchitectureWriters\n",
            "http://dbpedia.org/class/yago/WikicatAmericanGardenWriters\n",
            "http://dbpedia.org/class/yago/WikicatHistoricistArchitects\n",
            "http://dbpedia.org/class/yago/WikicatHorticulturistsAndGardeners\n",
            "http://dbpedia.org/class/yago/WikicatPeopleFromNewburgh,NewYork\n",
            "http://dbpedia.org/class/yago/WikicatPomologists\n",
            "http://dbpedia.org/class/yago/WikicatLandscapeArchitects\n",
            "http://dbpedia.org/class/yago/LandscapeArchitect110245863\n",
            "http://dbpedia.org/class/yago/Pomologist110452631\n",
            "http://dbpedia.org/class/yago/WikicatGothicRevivalArchitects\n",
            "http://dbpedia.org/class/yago/WikicatGrandMastersOfTheKnightsHospitaller\n",
            "http://dbpedia.org/class/yago/WikicatPeopleFromValletta\n",
            "http://dbpedia.org/class/yago/WikicatPortuguesePeople\n",
            "http://dbpedia.org/class/yago/WikicatMaltesePoliticians\n",
            "http://dbpedia.org/class/yago/WikicatRomanCatholicPriests\n",
            "http://dbpedia.org/class/yago/WikicatCanadianAdoptees\n",
            "http://dbpedia.org/class/yago/WikicatWashingtonSenators(1901–1960)Owners\n",
            "http://dbpedia.org/class/yago/WikicatMajorLeagueBaseballExecutives\n",
            "http://dbpedia.org/class/yago/WikicatMajorLeagueBaseballGeneralManagers\n",
            "http://dbpedia.org/class/yago/WikicatMajorLeagueBaseballOwners\n",
            "http://dbpedia.org/class/yago/WikicatMinnesotaTwinsExecutives\n",
            "http://dbpedia.org/class/yago/WikicatMinnesotaTwinsOwners\n",
            "http://dbpedia.org/class/yago/WikicatGeorgeWashingtonColonialsBaseballPlayers\n",
            "http://dbpedia.org/class/yago/WikicatPeopleFromKungsörMunicipality\n",
            "http://dbpedia.org/class/yago/Wikicat19th-centurySwedishPainters\n",
            "http://dbpedia.org/class/yago/WikicatSwedishPainters\n",
            "http://dbpedia.org/class/yago/WikicatIllinoisSheriffs\n",
            "http://dbpedia.org/class/yago/WikicatOregonPostmasters\n",
            "http://dbpedia.org/class/yago/WikicatPeopleFromEugene,Oregon\n",
            "http://dbpedia.org/class/yago/WikicatPeopleFromNorthVancouver\n",
            "http://dbpedia.org/class/yago/WikicatPeopleFromPrinceAlbert,Saskatchewan\n",
            "http://dbpedia.org/class/yago/WikicatBlack-and-whiteDocumentaryFilms\n",
            "http://dbpedia.org/class/yago/WikicatCanadianMaleSprinters\n",
            "http://dbpedia.org/class/yago/WikicatCanadianSprinters\n",
            "http://dbpedia.org/class/yago/WikicatCommonwealthGamesGoldMedallistsForCanada\n",
            "http://dbpedia.org/class/yago/WikicatDocumentaryFilmsAboutRacism\n",
            "http://dbpedia.org/class/yago/WikicatDocumentaryFilmsAboutRacismInCanada\n",
            "http://dbpedia.org/class/yago/WikicatDocumentaryFilmsAboutSportspeople\n",
            "http://dbpedia.org/class/yago/WikicatMedalistsAtThe1964SummerOlympics\n",
            "http://dbpedia.org/class/yago/Documentary106616806\n",
            "http://dbpedia.org/class/yago/Sprinter110641413\n",
            "http://dbpedia.org/class/yago/Wikicat2010Films\n",
            "http://dbpedia.org/class/yago/WikicatFilmsDirectedByCharlesOfficer\n",
            "http://dbpedia.org/class/yago/WikicatOlympicBronzeMedalistsForCanada\n",
            "http://dbpedia.org/class/yago/WikicatOlympicCompetitorsForCanada\n",
            "http://dbpedia.org/class/yago/WikicatPanAmericanGamesCompetitorsForCanada\n",
            "http://dbpedia.org/class/yago/WikicatSprinters\n",
            "http://dbpedia.org/class/yago/WikicatPeopleFromVenice(city)\n",
            "http://dbpedia.org/class/yago/WikicatDogesOfVenice\n",
            "http://dbpedia.org/class/yago/Doge110023264\n",
            "http://dbpedia.org/class/yago/Wikicat16th-centuryRulersInEurope\n",
            "http://dbpedia.org/class/yago/WikicatHistoricalEras\n",
            "http://dbpedia.org/class/yago/WikicatCreatorGoddesses\n",
            "http://dbpedia.org/class/yago/WikicatEarthGoddesses\n",
            "http://dbpedia.org/class/yago/WikicatReligionsOfTheGreco-RomanWorld\n",
            "http://dbpedia.org/class/yago/CardinalVirtue104847600\n",
            "http://dbpedia.org/class/yago/Earth-goddess109535809\n",
            "http://dbpedia.org/class/yago/Era115248564\n",
            "http://dbpedia.org/class/yago/Good104849241\n",
            "http://dbpedia.org/class/yago/Morality104846770\n",
            "http://dbpedia.org/class/yago/Quality104723816\n",
            "http://dbpedia.org/class/yago/Religion105946687\n",
            "http://dbpedia.org/class/yago/TheologicalVirtue104847991\n",
            "http://dbpedia.org/class/yago/Virtue104847482\n",
            "http://dbpedia.org/class/yago/WikicatFolkloristicCharacters\n",
            "http://dbpedia.org/class/yago/WikicatPeopleFromOslo\n",
            "http://dbpedia.org/class/yago/WikicatRoyalDanishNavyOfficers\n",
            "http://dbpedia.org/class/yago/WikicatRoyalNetherlandsNavyOfficers\n",
            "http://dbpedia.org/class/yago/Wikicat17th-centuryDanishPeople\n",
            "http://dbpedia.org/class/yago/WikicatIrishEmigrantsToTheUnitedStates(before1923)\n",
            "http://dbpedia.org/class/yago/WikicatIrishSoldiersInTheUnitedStatesArmy\n",
            "http://dbpedia.org/class/yago/WikicatPeopleOfIdahoInTheAmericanCivilWar\n",
            "http://dbpedia.org/class/yago/WikicatPeopleOfUtahInTheAmericanCivilWar\n",
            "http://dbpedia.org/class/yago/WikicatPeopleFromCountyKerry\n",
            "http://dbpedia.org/class/yago/WikicatAmericanCardinals\n",
            "http://dbpedia.org/class/yago/WikicatBostonCollegeHighSchoolAlumni\n",
            "http://dbpedia.org/class/yago/WikicatCardinalsCreatedByPopeJohnXXIII\n",
            "http://dbpedia.org/class/yago/WikicatRomanCatholicArchbishopsOfBoston\n",
            "http://dbpedia.org/class/yago/WikicatSaintJohn'sSeminary(Massachusetts)Alumni\n",
            "http://dbpedia.org/class/yago/Wikicat20th-centuryRomanCatholicArchbishops\n",
            "http://dbpedia.org/class/yago/Wikicat20th-centuryRomanCatholicBishops\n",
            "http://dbpedia.org/class/yago/WikicatParticipantsInTheSecondVaticanCouncil\n",
            "http://dbpedia.org/class/yago/Wikicat5th-centuryBCGreekPeople\n",
            "http://dbpedia.org/class/yago/Wikicat6th-centuryBCGreekPeople\n",
            "http://dbpedia.org/class/yago/WikicatAncientAthenianGenerals\n",
            "http://dbpedia.org/class/yago/WikicatAncientGreekRulers\n",
            "http://dbpedia.org/class/yago/WikicatPeopleOfTheGreco-PersianWars\n",
            "http://dbpedia.org/class/yago/WikicatMaps\n",
            "http://dbpedia.org/class/yago/Map103720163\n",
            "http://dbpedia.org/class/yago/Representation104076846\n",
            "http://dbpedia.org/class/yago/WikicatItalianPoets\n",
            "http://dbpedia.org/class/yago/WikicatBishopsOfRiez\n",
            "http://dbpedia.org/class/yago/WikicatPeopleFromFerrara\n",
            "http://dbpedia.org/class/yago/WikicatRenaissanceSculptures\n",
            "http://dbpedia.org/class/yago/Statue104306847\n",
            "http://dbpedia.org/class/yago/WikicatStatuesOfJesus\n",
            "http://dbpedia.org/class/yago/WikicatGermanicDeities\n",
            "http://dbpedia.org/class/yago/WikicatAugustinianFriars\n",
            "http://dbpedia.org/class/yago/WikicatPeopleFromTheProvinceOfMacerata\n",
            "http://dbpedia.org/class/yago/Friar110111903\n",
            "http://dbpedia.org/ontology/Ship\n",
            "http://dbpedia.org/class/yago/WikicatMythologicalShips\n",
            "http://dbpedia.org/class/yago/Conveyance103100490\n",
            "http://dbpedia.org/class/yago/Craft103125870\n",
            "http://dbpedia.org/class/yago/Ship104194289\n",
            "http://dbpedia.org/class/yago/Vehicle104524313\n",
            "http://dbpedia.org/class/yago/Vessel104530566\n",
            "http://dbpedia.org/class/yago/WikicatFictionalShips\n",
            "http://dbpedia.org/class/yago/WikicatGhostShips\n",
            "http://dbpedia.org/class/yago/WikicatNavalShipsOfTheUnitedStates\n",
            "http://dbpedia.org/class/yago/WikicatAmericanNewspaperEditors\n",
            "http://dbpedia.org/class/yago/WikicatJournalistsFromPortland,Oregon\n",
            "http://dbpedia.org/class/yago/WikicatPeopleFromTazewellCounty,Illinois\n",
            "http://umbel.org/umbel/rc/Journalist\n",
            "http://dbpedia.org/class/yago/WikicatPacificUniversityAlumni\n",
            "http://dbpedia.org/class/yago/WikicatTheOregonianPeople\n",
            "http://dbpedia.org/ontology/Software\n",
            "http://dbpedia.org/class/yago/WikicatVirtualCommunities\n",
            "http://dbpedia.org/class/yago/WikicatMassMedia\n",
            "http://dbpedia.org/class/yago/WikicatSocialMedia\n",
            "http://dbpedia.org/class/yago/Communication106252138\n",
            "http://dbpedia.org/class/yago/Community108223802\n",
            "http://dbpedia.org/class/yago/Gathering107975026\n",
            "http://dbpedia.org/class/yago/Medium106261586\n",
            "http://dbpedia.org/class/yago/Transmission106251781\n",
            "http://dbpedia.org/class/yago/WikicatMexicanColumnists\n",
            "http://dbpedia.org/class/yago/WikicatMexicanPoets\n",
            "http://dbpedia.org/class/yago/WikicatMexicanSurgeons\n",
            "http://dbpedia.org/class/yago/Obstetrician110369699\n",
            "http://dbpedia.org/class/yago/WikicatObstetricians\n",
            "http://dbpedia.org/class/yago/WikicatSurgeons\n",
            "http://dbpedia.org/class/yago/Wikicat15th-centuryFrenchPeople\n",
            "http://dbpedia.org/class/yago/Wikicat16th-centuryFrenchPeople\n",
            "http://dbpedia.org/class/yago/Wikicat16th-centurySoldiers\n",
            "http://dbpedia.org/class/yago/WikicatPeopleFromBeauvais\n",
            "http://dbpedia.org/class/yago/WikicatBritishEastIndiaCompanyArmyOfficers\n",
            "http://dbpedia.org/class/yago/WikicatBritishIndianArmyOfficers\n",
            "http://dbpedia.org/class/yago/WikicatBritishMedicalDoctors\n",
            "http://dbpedia.org/class/yago/WikicatBritishSurgeons\n",
            "http://dbpedia.org/class/yago/WikicatSoleSurvivors\n",
            "http://dbpedia.org/class/yago/WikicatPeopleFromThuringia\n",
            "http://dbpedia.org/class/yago/WikicatPeopleFromWetzlar\n",
            "http://dbpedia.org/class/yago/WikicatBotanists\n",
            "http://dbpedia.org/class/yago/WikicatMineralogists\n",
            "http://dbpedia.org/class/yago/Mineralogist110319996\n",
            "http://dbpedia.org/class/yago/Wikicat18th-centuryPoets\n",
            "http://dbpedia.org/class/yago/WikicatGermanEssayists\n",
            "http://dbpedia.org/class/yago/WikicatGermanLawyers\n",
            "http://dbpedia.org/class/yago/WikicatGermanNon-fictionWriters\n",
            "http://dbpedia.org/class/yago/WikicatGermanTravelWriters\n",
            "http://dbpedia.org/class/yago/WikicatPeopleFromJena\n",
            "http://dbpedia.org/class/yago/WikicatAstronomicalObjectsDiscoveredIn1846\n",
            "http://umbel.org/umbel/rc/Planet\n",
            "http://dbpedia.org/class/yago/GasGiant109322087\n",
            "http://dbpedia.org/class/yago/WikicatGasGiants\n",
            "http://dbpedia.org/class/yago/WikicatPopulatedPlacesEstablishedIn1843\n",
            "http://dbpedia.org/class/yago/WikicatCarpenters\n",
            "http://dbpedia.org/class/yago/WikicatCitiesInMissouri\n",
            "http://dbpedia.org/class/yago/WikicatCountySeatsInMissouri\n",
            "http://dbpedia.org/class/yago/WikicatUnionArmyColonels\n",
            "http://dbpedia.org/class/yago/WikicatUnionArmyOfficers\n",
            "http://dbpedia.org/class/yago/Colonel109937250\n",
            "http://dbpedia.org/class/yago/WikicatPeopleFromCountyLaois\n",
            "http://dbpedia.org/class/yago/WikicatPeopleFromPuebla,Puebla\n",
            "http://dbpedia.org/class/yago/WikicatMexicanComposers\n",
            "http://dbpedia.org/class/yago/WikicatMexicanMusicians\n",
            "http://dbpedia.org/class/yago/WikicatMexicanSingers\n",
            "http://dbpedia.org/class/yago/WikicatRockBassGuitarists\n",
            "http://dbpedia.org/class/yago/WikicatSpanish-languageSingers\n",
            "http://dbpedia.org/class/yago/Canine102083346\n",
            "http://dbpedia.org/class/yago/Carnivore102075296\n",
            "http://dbpedia.org/class/yago/Dog102084071\n",
            "http://dbpedia.org/class/yago/DomesticAnimal101317541\n",
            "http://dbpedia.org/class/yago/WikicatFeralDogs\n",
            "http://dbpedia.org/class/yago/WikicatAnimalDeities\n",
            "http://dbpedia.org/class/yago/WikicatHellenisticAnatolianDeities\n",
            "http://dbpedia.org/class/yago/WikicatLife-death-rebirthDeities\n",
            "http://dbpedia.org/class/yago/WikicatPunicWars\n",
            "http://dbpedia.org/class/yago/WikicatPederasticHeroesAndDeities\n",
            "http://dbpedia.org/class/yago/WikicatAnatolianCharactersInGreekMythology\n",
            "http://dbpedia.org/class/yago/WikicatGreekDeities\n",
            "http://dbpedia.org/class/yago/WikicatDeitiesOfTheGreco-RomanWorld\n",
            "http://dbpedia.org/class/yago/WikicatTransgenderTopicsAndReligion\n",
            "http://dbpedia.org/ontology/ComicsCharacter\n",
            "http://dbpedia.org/class/yago/WikicatMythologicalGreekArchers\n",
            "http://dbpedia.org/class/yago/WikicatMythologicalKings\n",
            "http://dbpedia.org/class/yago/Archer109805324\n",
            "http://umbel.org/umbel/rc/MusicSingle\n",
            "http://umbel.org/umbel/rc/MusicalComposition\n",
            "http://dbpedia.org/class/yago/WikicatAncientGreekEpicPoems\n",
            "http://dbpedia.org/class/yago/EpicPoem106379721\n",
            "http://dbpedia.org/class/yago/Poem106377442\n",
            "http://dbpedia.org/class/yago/WikicatEpics\n",
            "http://dbpedia.org/class/yago/WikicatMusicalPerformanceTechniques\n",
            "http://dbpedia.org/class/yago/Know-how105616786\n",
            "http://dbpedia.org/class/yago/Method105660268\n",
            "http://dbpedia.org/class/yago/Technique105665146\n",
            "http://dbpedia.org/class/yago/WikicatIroquoisPeople\n",
            "http://dbpedia.org/class/yago/WikicatLegendaryPeople\n",
            "http://dbpedia.org/class/yago/WikicatAmericanMechanicalEngineers\n",
            "http://dbpedia.org/class/yago/WikicatPeopleFromSouthampton\n",
            "http://dbpedia.org/class/yago/WikicatLatterDaySaintArtists\n",
            "http://dbpedia.org/class/yago/WikicatMormonMissionariesInEngland\n",
            "http://dbpedia.org/class/yago/WikicatMormonMissionariesInSwitzerland\n",
            "http://dbpedia.org/class/yago/Wikicat19th-centuryPhotographers\n",
            "http://dbpedia.org/class/yago/WikicatEnglishEmigrantsToTheUnitedStates\n",
            "http://dbpedia.org/class/yago/WikicatEnglishLatterDaySaints\n",
            "http://dbpedia.org/class/yago/WikicatEnglishMormonMissionaries\n",
            "http://dbpedia.org/class/yago/WikicatPeopleFromWilhelmshaven\n",
            "http://dbpedia.org/class/yago/WikicatRoyalMedalWinners\n",
            "http://dbpedia.org/class/yago/WikicatGermanChemists\n",
            "http://dbpedia.org/class/yago/WikicatStockholmUniversityAlumni\n",
            "http://dbpedia.org/class/yago/WikicatPeopleFromLier,Norway\n",
            "http://dbpedia.org/class/yago/WikicatPeopleOfWisconsinInTheAmericanCivilWar\n",
            "http://dbpedia.org/class/yago/WikicatWisconsinPoliticians\n",
            "http://dbpedia.org/class/yago/WikicatNorwegianEmigrantsToTheUnitedStates\n",
            "http://dbpedia.org/class/yago/WikicatPeopleFromWindsor,Connecticut\n",
            "http://dbpedia.org/class/yago/WikicatMagistratesOfTheConnecticutGeneralCourt(1636–1662)\n",
            "http://dbpedia.org/class/yago/Magistrate110280945\n",
            "http://dbpedia.org/class/yago/WikicatPeopleFromNewOrleans,Louisiana\n",
            "http://dbpedia.org/ontology/Infrastructure\n",
            "http://dbpedia.org/ontology/RouteOfTransportation\n",
            "http://www.wikidata.org/entity/Q12280\n",
            "http://dbpedia.org/ontology/Bridge\n",
            "http://dbpedia.org/class/yago/WikicatBridgesInManhattan\n",
            "http://dbpedia.org/class/yago/WikicatBridgesInNewYorkCity\n",
            "http://dbpedia.org/class/yago/WikicatBridgesInTheBronx\n",
            "http://umbel.org/umbel/rc/Bridge\n",
            "http://dbpedia.org/class/yago/WikicatRoadBridgesInNewYork\n",
            "http://dbpedia.org/class/yago/Bridge102898711\n",
            "http://dbpedia.org/class/yago/WikicatSwingBridges\n",
            "http://dbpedia.org/class/yago/WikicatSwingBridgesInTheUnitedStates\n",
            "http://dbpedia.org/class/yago/WikicatPeopleFromTroyes\n",
            "http://dbpedia.org/class/yago/Wikicat17th-centuryChristianFemaleSaints\n",
            "http://dbpedia.org/class/yago/WikicatFrenchRomanCatholicReligiousSistersAndNuns\n",
            "http://dbpedia.org/class/yago/WikicatPoliticiansFromCountyCork\n",
            "http://dbpedia.org/class/yago/Wikicat3rdTheKing'sOwnHussarsOfficers\n",
            "http://dbpedia.org/class/yago/WikicatGovernorsOfBarbados\n",
            "http://dbpedia.org/class/yago/WikicatCarabiniers(6thDragoonGuards)Officers\n",
            "http://dbpedia.org/class/yago/WikicatRoyalWelchFusiliersOfficers\n",
            "http://dbpedia.org/class/yago/Wikicat16thTheQueen'sLancersOfficers\n",
            "http://dbpedia.org/class/yago/WikicatPeopleEducatedAtWestminsterSchool,London\n",
            "http://www.wikidata.org/entity/Q4610556\n",
            "http://dbpedia.org/class/yago/WikicatActressesFromHamburg\n",
            "http://dbpedia.org/ontology/Model\n",
            "http://dbpedia.org/class/yago/Wikicat20th-centuryGermanActresses\n",
            "http://dbpedia.org/class/yago/WikicatGermanActresses\n",
            "http://dbpedia.org/class/yago/WikicatGermanExpatriatesInTheUnitedStates\n",
            "http://dbpedia.org/class/yago/WikicatGermanFemaleModels\n",
            "http://dbpedia.org/class/yago/WikicatGermanFilmActresses\n",
            "http://dbpedia.org/class/yago/WikicatGermanModels\n",
            "http://dbpedia.org/class/yago/WikicatGermanTelevisionActresses\n",
            "http://dbpedia.org/class/yago/WikicatPeopleFromHamburg\n",
            "http://dbpedia.org/class/yago/WikicatPeopleFromHartford,Connecticut\n",
            "http://dbpedia.org/class/yago/WikicatVirginiaSecessionDelegatesOf1861\n",
            "http://dbpedia.org/class/yago/WikicatAfrican-AmericanPeople\n",
            "http://dbpedia.org/class/yago/WikicatPeopleFromLouisville,Kentucky\n",
            "http://dbpedia.org/ontology/Building\n",
            "http://dbpedia.org/class/yago/WikicatCharactersInMacbeth\n",
            "http://dbpedia.org/class/yago/WikicatShakespeareanCharacters\n",
            "http://dbpedia.org/class/yago/WikicatFemaleShakespeareanCharacters\n",
            "http://dbpedia.org/class/yago/WikicatFictionalCharactersBasedOnRealPeople\n",
            "http://dbpedia.org/class/yago/WikicatFictionalCharactersIntroducedIn1603\n",
            "http://dbpedia.org/class/yago/WikicatFictionalCharactersWhoCommittedSuicide\n",
            "http://dbpedia.org/class/yago/WikicatSlovakExpatriatesInAustria\n",
            "http://dbpedia.org/class/yago/WikicatSlovakWriters\n",
            "http://dbpedia.org/class/yago/Wikicat19th-centurySlovakPeople\n",
            "http://dbpedia.org/class/yago/Wikicat20th-centurySlovakPeople\n",
            "http://dbpedia.org/class/yago/WikicatPeopleFromDolnýKubín\n",
            "http://dbpedia.org/ontology/SoccerManager\n",
            "http://dbpedia.org/class/yago/WikicatHSBCPeople\n",
            "http://dbpedia.org/class/yago/WikicatPeopleFromCountyLeitrim\n",
            "http://dbpedia.org/class/yago/WikicatPeopleFromCrossmaglen\n",
            "http://dbpedia.org/class/yago/WikicatRiversOfNorthAmerica\n",
            "http://dbpedia.org/class/yago/WikicatRiversOfVermont\n",
            "http://dbpedia.org/class/yago/WikicatTributariesOfTheConnecticutRiver\n",
            "http://dbpedia.org/class/yago/WikicatAlumniOfTheSylviaYoungTheatreSchool\n",
            "http://dbpedia.org/class/yago/WikicatJazz-bluesMusicians\n",
            "http://dbpedia.org/class/yago/WikicatJewishSingers\n",
            "http://dbpedia.org/class/yago/WikicatPeopleFromSouthgate,London\n",
            "http://dbpedia.org/class/yago/WikicatBlue-eyedSoulSingers\n",
            "http://dbpedia.org/class/yago/WikicatBritishFemaleSingers\n",
            "http://dbpedia.org/class/yago/WikicatBritishJazzSingers\n",
            "http://dbpedia.org/class/yago/WikicatVocalJazzMusicians\n",
            "http://dbpedia.org/class/yago/WikicatRepublicRecordsArtists\n",
            "http://dbpedia.org/class/yago/WikicatSingersFromLondon\n",
            "http://dbpedia.org/class/yago/JazzMusician110220486\n",
            "http://dbpedia.org/class/yago/Wikicat19RecordingsArtists\n",
            "http://dbpedia.org/class/yago/Wikicat20th-centuryEnglishSingers\n",
            "http://dbpedia.org/class/yago/Wikicat21st-centuryEnglishSingers\n",
            "http://dbpedia.org/class/yago/WikicatEnglishContraltos\n",
            "http://dbpedia.org/class/yago/WikicatEnglishFemaleGuitarists\n",
            "http://dbpedia.org/class/yago/WikicatEnglishFemaleSingers\n",
            "http://dbpedia.org/class/yago/WikicatEnglishJazzSingers\n",
            "http://dbpedia.org/class/yago/WikicatEnglishPeopleConvictedOfAssault\n",
            "http://dbpedia.org/class/yago/WikicatEnglishPeopleOfRussian-JewishDescent\n",
            "http://dbpedia.org/class/yago/WikicatEnglishSoulSingers\n",
            "http://dbpedia.org/class/yago/WikicatFemaleGuitarists\n",
            "http://dbpedia.org/class/yago/WikicatFemaleJazzMusicians\n",
            "http://dbpedia.org/class/yago/WikicatNeoSoulSingers\n",
            "http://dbpedia.org/class/yago/WikicatPeopleEducatedAtTheBRITSchool\n",
            "http://dbpedia.org/class/yago/WikicatSoulMusicians\n",
            "http://dbpedia.org/class/yago/WikicatSoulSingers\n",
            "http://dbpedia.org/class/yago/WikicatPortuguese-languageWriters\n",
            "http://dbpedia.org/class/yago/WikicatPortugueseChristianMissionaries\n",
            "http://dbpedia.org/class/yago/WikicatPortugueseDiplomats\n",
            "http://dbpedia.org/class/yago/WikicatPortugueseMissionaries\n",
            "http://dbpedia.org/class/yago/WikicatPortuguesePhilosophers\n",
            "http://dbpedia.org/class/yago/WikicatPortuguesePoliticians\n",
            "http://dbpedia.org/class/yago/WikicatPortugueseRomanCatholicPriests\n",
            "http://dbpedia.org/class/yago/WikicatPortugueseTheologians\n",
            "http://dbpedia.org/class/yago/WikicatPortugueseWriters\n",
            "http://dbpedia.org/class/yago/WikicatBrazilianDiplomats\n",
            "http://dbpedia.org/class/yago/WikicatChristianMissionariesInBrazil\n",
            "http://dbpedia.org/class/yago/Wikicat17th-centuryPhilosophers\n",
            "http://dbpedia.org/class/yago/Wikicat17th-centuryPortuguesePeople\n",
            "http://dbpedia.org/class/yago/WikicatPeopleFromWilliamsonCounty,Texas\n",
            "http://dbpedia.org/class/yago/WikicatPeopleFromAustin,Texas\n",
            "http://dbpedia.org/class/yago/WikicatTexasLawyers\n",
            "http://dbpedia.org/class/yago/WikicatAlumniOfPretoriaBoysHighSchool\n",
            "http://dbpedia.org/class/yago/WikicatPeopleFromPretoria\n",
            "http://dbpedia.org/class/yago/WikicatCanadianEngineers\n",
            "http://dbpedia.org/class/yago/WikicatCanadianInventors\n",
            "http://dbpedia.org/class/yago/WikicatChiefTechnologyOfficers\n",
            "http://dbpedia.org/class/yago/WikicatComputerEngineers\n",
            "http://dbpedia.org/class/yago/WikicatWhiteSouthAfricanPeople\n",
            "http://dbpedia.org/class/yago/WikicatQueen'sUniversityAlumni\n",
            "http://dbpedia.org/class/yago/Pledger110441694\n",
            "http://dbpedia.org/class/yago/WikicatEngineersFromCalifornia\n",
            "http://dbpedia.org/class/yago/WikicatGivingPledgers\n",
            "http://dbpedia.org/class/yago/WikicatPayPalPeople\n",
            "http://dbpedia.org/class/yago/WikicatPeopleAssociatedWithSolarPower\n",
            "http://dbpedia.org/class/yago/WikicatPeopleFromCalifornia\n",
            "http://dbpedia.org/class/yago/WikicatSouthAfricanEmigrantsToTheUnitedStates\n",
            "http://dbpedia.org/class/yago/WikicatSouthAfricanEngineers\n",
            "http://dbpedia.org/class/yago/WikicatSouthAfricanPeopleOfBritishDescent\n",
            "http://dbpedia.org/class/yago/WikicatSouthAfricanPeopleOfCanadianDescent\n",
            "http://dbpedia.org/class/yago/WikicatSouthAfricanPeopleOfEnglishDescent\n",
            "http://dbpedia.org/class/yago/WikicatSpaceXPeople\n",
            "http://dbpedia.org/class/yago/WikicatTeslaMotorsPeople\n",
            "http://dbpedia.org/class/yago/WikicatPhotographsOfTheUnitedStates\n",
            "http://dbpedia.org/class/yago/WikicatBlack-and-whitePhotographs\n",
            "http://dbpedia.org/class/yago/Photograph103925226\n",
            "http://dbpedia.org/class/yago/WikicatPeopleFromCherokeeCounty,Oklahoma\n",
            "http://umbel.org/umbel/rc/Insect\n",
            "http://dbpedia.org/class/yago/WikicatAlumniOfTrinityHall,Cambridge\n",
            "http://dbpedia.org/class/yago/WikicatPeopleFromSalisbury\n",
            "http://dbpedia.org/class/yago/WikicatFellowsOfTrinityHall,Cambridge\n",
            "http://dbpedia.org/class/yago/WikicatPeopleEducatedAtKing'sCollegeSchool,Wimbledon\n",
            "http://umbel.org/umbel/rc/FictionalCharacter\n",
            "http://dbpedia.org/class/yago/WikicatMGMCartoonCharacters\n",
            "http://dbpedia.org/class/yago/WikicatFictionalCharactersIntroducedIn1940\n",
            "http://dbpedia.org/class/yago/WikicatPeopleFromPalestine,Texas\n",
            "http://dbpedia.org/class/yago/WikicatUnitedStatesPostalServicePeople\n",
            "http://dbpedia.org/class/yago/WikicatPeopleFromKaufmanCounty,Texas\n",
            "http://dbpedia.org/class/yago/WikicatTexasPoliticians\n",
            "http://dbpedia.org/class/yago/WikicatKnightsOfChrist\n",
            "http://dbpedia.org/class/yago/WikicatPeopleFromSantos,SãoPaulo\n",
            "http://dbpedia.org/class/yago/WikicatBrazilianAbolitionists\n",
            "http://dbpedia.org/class/yago/WikicatBrazilianGeologists\n",
            "http://dbpedia.org/class/yago/WikicatBrazilianMineralogists\n",
            "http://dbpedia.org/class/yago/WikicatBrazilianMonarchists\n",
            "http://dbpedia.org/class/yago/WikicatBrazilianPeopleOfPortugueseDescent\n",
            "http://dbpedia.org/class/yago/WikicatBrazilianPoets\n",
            "http://dbpedia.org/class/yago/WikicatBrazilianPoliticians\n",
            "http://dbpedia.org/class/yago/Wikicat18th-centuryBrazilianPeople\n",
            "http://dbpedia.org/class/yago/WikicatForeignMinistersOfBrazil\n",
            "http://dbpedia.org/class/yago/WikicatGovernmentMinistersOfBrazil\n",
            "http://dbpedia.org/class/yago/WikicatPatronSaints\n",
            "http://dbpedia.org/class/yago/WikicatCzechPriests\n",
            "http://dbpedia.org/class/yago/WikicatDuchessesOfBohemia\n",
            "http://dbpedia.org/class/yago/WikicatMedievalWomen\n",
            "http://dbpedia.org/class/yago/Wikicat10th-centuryChristianFemaleSaints\n",
            "http://dbpedia.org/class/yago/WikicatFemaleRegents\n",
            "http://dbpedia.org/class/yago/WikicatAmericanPoliticalBossesFromNewYork\n",
            "http://dbpedia.org/class/yago/WikicatCountyDistrictAttorneysInNewYork\n",
            "http://dbpedia.org/class/yago/WikicatMayorsOfUtica,NewYork\n",
            "http://dbpedia.org/class/yago/WikicatAmericanCivilWarSpies\n",
            "http://dbpedia.org/class/yago/WikicatPeopleFromRutherfordCounty,Tennessee\n",
            "http://dbpedia.org/class/yago/WikicatPeopleFromTennesseeExecutedByHanging\n",
            "http://dbpedia.org/class/yago/WikicatConfederateStatesArmySoldiers\n",
            "http://dbpedia.org/class/yago/WikicatPeopleExecutedByTheUnitedStatesMilitaryByHanging\n",
            "http://dbpedia.org/class/yago/WikicatBulgarianEducators\n",
            "http://dbpedia.org/class/yago/WikicatBulgarianExpatriatesInRomania\n",
            "http://dbpedia.org/class/yago/WikicatBulgarianPeople\n",
            "http://dbpedia.org/class/yago/WikicatBulgarianPeopleExecutedByHanging\n",
            "http://dbpedia.org/class/yago/WikicatBulgarianPoliticians\n",
            "http://dbpedia.org/class/yago/WikicatBulgarianPriests\n",
            "http://dbpedia.org/class/yago/WikicatBulgarianRevolutionaries\n",
            "http://dbpedia.org/class/yago/WikicatEasternOrthodoxMonks\n",
            "http://dbpedia.org/class/yago/Wikicat19th-centuryBulgarianPeople\n",
            "http://dbpedia.org/class/yago/WikicatPeopleExecutedByTheOttomanEmpire\n",
            "http://dbpedia.org/class/yago/WikicatPeopleExecutedByTheOttomanEmpireByHanging\n",
            "http://dbpedia.org/class/yago/WikicatPeopleFromKarlovo\n",
            "http://dbpedia.org/class/yago/WikicatDogBreeds\n",
            "http://dbpedia.org/class/yago/WikicatDogBreedsOriginatingInAsia\n",
            "http://dbpedia.org/class/yago/WikicatDogBreedsOriginatingInTheSovietUnion\n",
            "http://dbpedia.org/class/yago/WikicatRareDogBreeds\n",
            "http://dbpedia.org/class/yago/Wikicat7FtGaugeRailways\n",
            "http://dbpedia.org/class/yago/WikicatGreatWesternRailwayPeople\n",
            "http://dbpedia.org/class/yago/WikicatPeopleFromPortsmouth\n",
            "http://dbpedia.org/class/yago/WikicatPeopleOfTheIndustrialRevolution\n",
            "http://dbpedia.org/class/yago/WikicatPioneersOfRailTransport\n",
            "http://dbpedia.org/class/yago/WikicatBridgeEngineers\n",
            "http://dbpedia.org/class/yago/WikicatBritishRailwayPioneers\n",
            "http://dbpedia.org/class/yago/WikicatViaductEngineers\n",
            "http://dbpedia.org/class/yago/WikicatYachtDesigners\n",
            "http://dbpedia.org/class/yago/WikicatLycéeHenri-IVAlumni\n",
            "http://dbpedia.org/class/yago/WikicatMarineEngineersAndNavalArchitects\n",
            "http://dbpedia.org/class/yago/WikicatRailTransportDesigners\n",
            "http://dbpedia.org/class/yago/Business108061042\n",
            "http://dbpedia.org/class/yago/Carrier108057633\n",
            "http://dbpedia.org/class/yago/Enterprise108056231\n",
            "http://dbpedia.org/class/yago/Line103671473\n",
            "http://dbpedia.org/class/yago/MarineEngineer110294421\n",
            "http://dbpedia.org/class/yago/Railway104048568\n",
            "http://dbpedia.org/class/yago/Wikicat19th-centuryEngineers\n",
            "http://dbpedia.org/class/yago/WikicatEnglishCivilEngineers\n",
            "http://dbpedia.org/class/yago/WikicatEnglishEngineers\n",
            "http://dbpedia.org/class/yago/WikicatPeopleAssociatedWithBrunelUniversity\n",
            "http://dbpedia.org/class/yago/WikicatStructuralEngineers\n",
            "http://dbpedia.org/class/yago/WikicatHolidayCharacters\n",
            "http://umbel.org/umbel/rc/Album_IBO\n",
            "http://dbpedia.org/class/yago/WikicatGovernorsOfJalisco\n",
            "http://dbpedia.org/class/yago/WikicatMexicanAcademics\n",
            "http://dbpedia.org/class/yago/WikicatMexicanEssayists\n",
            "http://dbpedia.org/class/yago/WikicatMexicanJurists\n",
            "http://dbpedia.org/class/yago/WikicatMexicanSecretariesOfEducation\n",
            "http://dbpedia.org/class/yago/WikicatPeopleFromQuincy,Massachusetts\n",
            "http://dbpedia.org/class/yago/WikicatPresidentsOfHarvardUniversity\n",
            "http://dbpedia.org/class/yago/WikicatSpeakersOfTheMassachusettsHouseOfRepresentatives\n",
            "http://dbpedia.org/class/yago/WikicatAmericanWomenPhysicians\n",
            "http://dbpedia.org/class/yago/WikicatPhysiciansFromUtah\n",
            "http://dbpedia.org/class/yago/WikicatUtahStateSenators\n",
            "http://dbpedia.org/class/yago/WikicatWelshEmigrantsToTheUnitedStates\n",
            "http://dbpedia.org/class/yago/WikicatWelshLatterDaySaints\n",
            "http://dbpedia.org/class/yago/WikicatWomenInUtahPolitics\n",
            "http://dbpedia.org/class/yago/WikicatWomenPhysicians\n",
            "http://dbpedia.org/class/yago/WikicatWomenStateLegislatorsInUtah\n",
            "http://dbpedia.org/class/yago/WikicatPeopleFromPrinceEdwardCounty,Virginia\n",
            "http://dbpedia.org/class/yago/WikicatPeopleOfLouisianaInTheAmericanCivilWar\n",
            "http://dbpedia.org/class/yago/WikicatJapaneseActors\n",
            "http://dbpedia.org/class/yago/WikicatJapaneseComedians\n",
            "http://dbpedia.org/class/yago/WikicatJapaneseRacehorseOwnersAndBreeders\n",
            "http://dbpedia.org/class/yago/WikicatJapaneseTelevisionPresenters\n",
            "http://umbel.org/umbel/rc/Comedian\n",
            "http://dbpedia.org/class/yago/WikicatPeopleFromHigashimurayama,Tokyo\n",
            "http://dbpedia.org/class/yago/WikicatAzerbaijani-languageWomenPoets\n",
            "http://dbpedia.org/class/yago/WikicatAzerbaijaniPoets\n",
            "http://dbpedia.org/class/yago/WikicatPeopleFromShusha\n",
            "http://dbpedia.org/class/yago/WikicatHongKongFilms\n",
            "http://dbpedia.org/class/yago/WikicatFilmsBasedOnComicStrips\n",
            "http://dbpedia.org/ontology/Fish\n",
            "http://dbpedia.org/class/yago/Word106286395\n",
            "http://dbpedia.org/class/yago/LanguageUnit106284225\n",
            "http://dbpedia.org/class/yago/Loanblend106293229\n",
            "http://dbpedia.org/class/yago/WikicatFishHybrids\n",
            "http://dbpedia.org/class/yago/WikicatNationalPersonifications\n",
            "http://dbpedia.org/class/yago/Personification110418101\n",
            "http://dbpedia.org/class/yago/WikicatFictionalSwissPeople\n",
            "http://dbpedia.org/ontology/VideoGame\n",
            "http://dbpedia.org/class/yago/WikicatNewspaperPeople\n",
            "http://dbpedia.org/class/yago/WikicatPeopleFromTheNorthwestTerritories\n",
            "http://dbpedia.org/class/yago/WikicatPeopleFromVancouver\n",
            "http://dbpedia.org/class/yago/WikicatPre-ConfederationBritishColumbiaPeople\n",
            "http://dbpedia.org/class/yago/WikicatDrinkingEstablishmentOwners\n",
            "http://dbpedia.org/class/yago/WikicatRestaurateurs\n",
            "http://dbpedia.org/class/yago/WikicatPeopleFromKingstonUponHull\n",
            "http://dbpedia.org/class/yago/WikicatWampanoagPeople\n",
            "http://dbpedia.org/class/yago/Wikicat4th-centuryChristianFemaleSaints\n",
            "http://dbpedia.org/class/yago/Wikicat4th-centuryChristianMartyrs\n",
            "http://dbpedia.org/class/yago/WikicatAncientRomanWomen\n",
            "http://dbpedia.org/class/yago/WikicatBridges\n",
            "http://dbpedia.org/class/yago/WikicatSimpleSuspensionBridges\n",
            "http://dbpedia.org/class/yago/Footbridge103379828\n",
            "http://dbpedia.org/class/yago/SuspensionBridge104366367\n",
            "http://dbpedia.org/class/yago/WikicatFootbridges\n",
            "http://dbpedia.org/class/yago/WikicatSuspensionBridges\n",
            "http://dbpedia.org/class/yago/WikicatPeopleFromPisa\n",
            "http://dbpedia.org/class/yago/WikicatCountsOfItaly\n",
            "http://dbpedia.org/class/yago/WikicatSocialIssues\n",
            "http://dbpedia.org/class/yago/Issue105814650\n",
            "http://dbpedia.org/class/yago/WikicatAnimalsDescribedIn1917\n",
            "http://dbpedia.org/class/yago/WikicatBirdsOfNewZealand\n",
            "http://dbpedia.org/ontology/SoccerPlayer\n",
            "http://www.wikidata.org/entity/Q937857\n",
            "http://dbpedia.org/class/yago/WikicatAmericanPresbyterianMinisters\n",
            "http://dbpedia.org/class/yago/WikicatPeopleFromCalhoun,Georgia\n",
            "http://dbpedia.org/class/yago/WikicatFormerRegionsAndTerritoriesOfTheUnitedStates\n",
            "http://dbpedia.org/class/yago/WikicatAmericanCaricaturists\n",
            "http://dbpedia.org/class/yago/WikicatAmericanWomenArtists\n",
            "http://dbpedia.org/class/yago/Caricaturist109896170\n",
            "http://dbpedia.org/class/yago/Parodist110400998\n",
            "http://dbpedia.org/class/yago/WikicatStudentsOfRobertHenri\n",
            "http://dbpedia.org/class/yago/WikicatPeopleFromSouthDakota\n",
            "http://dbpedia.org/class/yago/WikicatPeopleFromWyomingCounty,NewYork\n",
            "http://dbpedia.org/class/yago/WikicatPeopleFromYanktonCounty,SouthDakota\n",
            "http://dbpedia.org/class/yago/WikicatPeopleFromParkeCounty,Indiana\n",
            "http://dbpedia.org/class/yago/Wikicat30sInAsia\n",
            "http://dbpedia.org/class/yago/WikicatPublicExecutions\n",
            "http://dbpedia.org/class/yago/WikicatCrossSymbols\n",
            "http://dbpedia.org/class/yago/CorporalPunishment101161161\n",
            "http://dbpedia.org/class/yago/Execution101163779\n",
            "http://dbpedia.org/class/yago/Integer113728499\n",
            "http://dbpedia.org/class/yago/LargeInteger113745420\n",
            "http://dbpedia.org/class/yago/Number113582013\n",
            "http://dbpedia.org/class/yago/Punishment101160342\n",
            "http://dbpedia.org/class/yago/SocialControl101123598\n",
            "http://dbpedia.org/class/yago/Thirty113749407\n",
            "http://dbpedia.org/class/yago/WikicatSorrowfulMysteries\n",
            "http://dbpedia.org/ontology/Automobile\n",
            "http://dbpedia.org/class/yago/WikicatBuses\n",
            "http://dbpedia.org/class/yago/WikicatDouble-deckerBuses\n",
            "http://dbpedia.org/class/yago/Bus102924116\n",
            "http://dbpedia.org/class/yago/PublicTransport104019101\n",
            "http://dbpedia.org/ontology/Holiday\n",
            "http://dbpedia.org/class/yago/WikicatEasternOrthodoxLiturgicalDays\n",
            "http://dbpedia.org/class/yago/WikicatAmericanGeologists\n",
            "http://dbpedia.org/class/yago/WikicatPeopleFromTheDalles,Oregon\n",
            "http://dbpedia.org/class/yago/WikicatJamaicanAutobiographers\n",
            "http://dbpedia.org/class/yago/WikicatJamaicanEmigrantsToTheUnitedKingdom\n",
            "http://dbpedia.org/class/yago/WikicatJamaicanPeople\n",
            "http://dbpedia.org/class/yago/WikicatJamaicanPeopleOfScottishDescent\n",
            "http://dbpedia.org/class/yago/WikicatJamaicanWomenWriters\n",
            "http://dbpedia.org/class/yago/WikicatBlackBritishWriters\n",
            "http://dbpedia.org/class/yago/WikicatEnglishPeopleOfJamaicanDescent\n",
            "http://dbpedia.org/class/yago/WikicatPeopleFromKingston,Jamaica\n",
            "http://dbpedia.org/class/yago/WikicatAlumniOfAchimotaSchool\n",
            "http://dbpedia.org/class/yago/WikicatAlumniOfTheUniversityOfLondon\n",
            "http://dbpedia.org/class/yago/WikicatAlumniOfTheUniversityOfLondonExternalSystem\n",
            "http://dbpedia.org/class/yago/WikicatHeadsOfGovernmentOfZimbabwe\n",
            "http://dbpedia.org/class/yago/WikicatPeopleWithCataracts\n",
            "http://dbpedia.org/class/yago/WikicatPresidentsOfZimbabwe\n",
            "http://dbpedia.org/class/yago/WikicatZimbabweAfricanNationalUnion–PatrioticFrontPoliticians\n",
            "http://dbpedia.org/class/yago/WikicatZimbabweanPeople\n",
            "http://dbpedia.org/class/yago/WikicatZimbabweanPoliticians\n",
            "http://dbpedia.org/class/yago/WikicatZimbabweanRevolutionaries\n",
            "http://dbpedia.org/class/yago/WikicatPeopleBannedFromEnteringTheUnitedKingdom\n",
            "http://dbpedia.org/class/yago/WikicatCollectorsOfThePortOfNewYork\n",
            "http://dbpedia.org/class/yago/WikicatPeopleFromFairfield,Vermont\n",
            "http://dbpedia.org/class/yago/WikicatItalianAtheists\n",
            "http://dbpedia.org/class/yago/WikicatItalianExpatriatesInBrazil\n",
            "http://dbpedia.org/class/yago/WikicatItalianExpatriatesInUruguay\n",
            "http://dbpedia.org/class/yago/WikicatItalianGenerals\n",
            "http://dbpedia.org/class/yago/WikicatItalianMercenaries\n",
            "http://dbpedia.org/class/yago/WikicatPeopleFromMarseille\n",
            "http://dbpedia.org/class/yago/WikicatPeopleFromNice\n",
            "http://dbpedia.org/class/yago/WikicatPeopleFromStatenIsland\n",
            "http://dbpedia.org/class/yago/WikicatPeopleFromTangier\n",
            "http://dbpedia.org/class/yago/WikicatPeopleFromTheKingdomOfSardinia\n",
            "http://dbpedia.org/class/yago/WikicatPoliticiansFromRome\n",
            "http://dbpedia.org/class/yago/WikicatPopulatedCoastalPlacesInOregon\n",
            "http://dbpedia.org/class/yago/WikicatPortCitiesInOregon\n",
            "http://dbpedia.org/class/yago/WikicatCitiesInOregon\n",
            "http://dbpedia.org/class/yago/WikicatInvasions\n",
            "http://dbpedia.org/class/yago/WikicatBattlesInvolvingTheUnitedStates\n",
            "http://dbpedia.org/class/yago/WikicatBattlesOfTheMexican–AmericanWar\n",
            "http://dbpedia.org/class/yago/WikicatWarsInvolvingMexico\n",
            "http://dbpedia.org/class/yago/Invasion100976531\n",
            "http://dbpedia.org/class/yago/Penetration100975452\n",
            "http://dbpedia.org/class/yago/Wikicat19th-centuryConflicts\n",
            "http://dbpedia.org/class/yago/WikicatAnti-apartheidActivists\n",
            "http://dbpedia.org/class/yago/WikicatHonoraryCompanionsOfTheOrderOfAustralia\n",
            "http://dbpedia.org/class/yago/WikicatHonoraryCompanionsOfTheOrderOfTheStarOfGhana\n",
            "http://dbpedia.org/class/yago/WikicatInmatesOfRobbenIsland\n",
            "http://dbpedia.org/class/yago/WikicatPeopleFromTheEasternCape\n",
            "http://dbpedia.org/class/yago/WikicatPresidentsOfSouthAfrica\n",
            "http://dbpedia.org/class/yago/WikicatPresidentsOfTheAfricanNationalCongress\n",
            "http://dbpedia.org/class/yago/WikicatCompanionsOfTheOrderOfAustralia\n",
            "http://dbpedia.org/class/yago/WikicatDissidents\n",
            "http://dbpedia.org/class/yago/WikicatXhosaPeople\n",
            "http://dbpedia.org/class/yago/WikicatMarxistWriters\n",
            "http://dbpedia.org/class/yago/WikicatSaboteurs\n",
            "http://dbpedia.org/class/yago/Destroyer110008716\n",
            "http://dbpedia.org/class/yago/Inhabitant109620078\n",
            "http://dbpedia.org/class/yago/Inmate110207370\n",
            "http://dbpedia.org/class/yago/Resident110523519\n",
            "http://dbpedia.org/class/yago/Saboteur110544748\n",
            "http://dbpedia.org/class/yago/WikicatPeopleAcquittedOfTreason\n",
            "http://dbpedia.org/class/yago/WikicatSouthAfricanActivists\n",
            "http://dbpedia.org/class/yago/WikicatSouthAfricanHumanitarians\n",
            "http://dbpedia.org/class/yago/WikicatSouthAfricanNobelLaureates\n",
            "http://dbpedia.org/class/yago/WikicatSouthAfricanPhilanthropists\n",
            "http://dbpedia.org/class/yago/WikicatSouthAfricanPoliticiansConvictedOfCrimes\n",
            "http://dbpedia.org/class/yago/WikicatSouthAfricanPrisonersAndDetainees\n",
            "http://dbpedia.org/class/yago/WikicatSouthAfricanRevolutionaries\n",
            "http://dbpedia.org/class/yago/WikicatSouthAfricanSocialists\n",
            "http://dbpedia.org/class/yago/WikicatLallansPoets\n",
            "http://dbpedia.org/class/yago/WikicatPeopleOfTheScottishEnlightenment\n",
            "http://dbpedia.org/class/yago/WikicatScots-languagePoets\n",
            "http://dbpedia.org/class/yago/WikicatScottishFolk-songCollectors\n",
            "http://dbpedia.org/class/yago/WikicatScottishSongwriters\n",
            "http://dbpedia.org/class/yago/Wikicat18th-centuryScottishWriters\n",
            "http://dbpedia.org/class/yago/WikicatPeopleFromAyrshire\n",
            "http://dbpedia.org/class/yago/WikicatBiblicalMatriarchs\n",
            "http://dbpedia.org/class/yago/WikicatWomenInTheBible\n",
            "http://dbpedia.org/class/yago/HeadOfHousehold110164605\n",
            "http://dbpedia.org/class/yago/Matriarch110302576\n",
            "http://dbpedia.org/class/yago/WikicatPeopleFromTheProvinceOfOurense\n",
            "http://dbpedia.org/class/yago/WikicatBeatifiedReligiousBrothers\n",
            "http://dbpedia.org/class/yago/WikicatMexicanBeatifiedPeople\n",
            "http://dbpedia.org/class/yago/WikicatActivistsFromNorthCarolina\n",
            "http://dbpedia.org/class/yago/WikicatAmericanExpatriatesInRussia\n",
            "http://dbpedia.org/class/yago/WikicatAmericanWhistleblowers\n",
            "http://dbpedia.org/class/yago/WikicatPeopleFromPasquotankCounty,NorthCarolina\n",
            "http://dbpedia.org/class/yago/WikicatPeopleOfTheCentralIntelligenceAgency\n",
            "http://dbpedia.org/class/yago/WikicatPeopleWithEpilepsy\n",
            "http://dbpedia.org/class/yago/WikicatPersonsChargedUnderTheEspionageActOf1917\n",
            "http://dbpedia.org/class/yago/WikicatPrivacyActivists\n",
            "http://dbpedia.org/class/yago/WikicatBoozAllenHamiltonPeople\n",
            "http://dbpedia.org/class/yago/WikicatWhistleblowers\n",
            "http://dbpedia.org/class/yago/WikicatNationalSecurityAgencyPeople\n",
            "http://dbpedia.org/class/yago/WikicatRefugeesInRussia\n",
            "http://dbpedia.org/class/yago/Controversy107183151\n",
            "http://dbpedia.org/class/yago/Disagreement107180787\n",
            "http://dbpedia.org/class/yago/Dispute107181935\n",
            "http://dbpedia.org/class/yago/SpeechAct107160883\n",
            "http://dbpedia.org/class/yago/WhistleBlower110777400\n",
            "http://dbpedia.org/class/yago/WikicatFugitivesWantedByTheUnitedStates\n",
            "http://dbpedia.org/class/yago/WikicatObamaAdministrationControversies\n",
            "http://dbpedia.org/class/yago/WikicatJamaicanExpatriatesInTheUnitedKingdom\n",
            "http://dbpedia.org/class/yago/WikicatJamaicanExpatriatesInTheUnitedStates\n",
            "http://dbpedia.org/class/yago/WikicatJamaicanGuitarists\n",
            "http://dbpedia.org/class/yago/WikicatJamaicanMaleSingers\n",
            "http://dbpedia.org/class/yago/WikicatJamaicanMusicians\n",
            "http://dbpedia.org/class/yago/WikicatJamaicanPeopleOfAfricanDescent\n",
            "http://dbpedia.org/class/yago/WikicatJamaicanPeopleOfEnglishDescent\n",
            "http://dbpedia.org/class/yago/WikicatJamaicanReggaeSingers\n",
            "http://dbpedia.org/class/yago/WikicatJamaicanSingers\n",
            "http://dbpedia.org/class/yago/WikicatJamaicanSongwriters\n",
            "http://dbpedia.org/class/yago/WikicatPeopleFromSaintAnnParish\n",
            "http://dbpedia.org/class/yago/WikicatPeopleFromWilmington,Delaware\n",
            "http://dbpedia.org/class/yago/WikicatPerformersOfRastafarianMusic\n",
            "http://dbpedia.org/class/yago/WikicatConvertsToTheRastafariMovement\n",
            "http://dbpedia.org/class/yago/WikicatWorldMusicMusicians\n",
            "http://dbpedia.org/class/yago/WikicatMusiciansFromWilmington,Delaware\n",
            "http://dbpedia.org/class/yago/WikicatReggaeMusicians\n",
            "http://dbpedia.org/class/yago/WikicatResonatorGuitarists\n",
            "http://dbpedia.org/class/yago/WikicatSkaGuitarists\n",
            "http://dbpedia.org/class/yago/WikicatSkaMusicians\n",
            "http://dbpedia.org/class/yago/Wikicat20th-centurySingers\n",
            "http://dbpedia.org/class/yago/WikicatPeopleFromSedalia,Missouri\n",
            "http://dbpedia.org/class/yago/WikicatPoliticiansInBritishColumbia\n",
            "http://dbpedia.org/class/yago/WikicatCanadianPeopleOfGermanDescent\n",
            "http://dbpedia.org/class/yago/WikicatCanadianPhysicians\n",
            "http://dbpedia.org/class/yago/WikicatEnglishEmigrantsToPre-ConfederationCanada\n",
            "http://dbpedia.org/class/yago/WikicatPeopleFromEsquimalt,BritishColumbia\n",
            "http://dbpedia.org/class/yago/WikicatAmericanRacehorseOwnersAndBreeders\n",
            "http://dbpedia.org/class/yago/WikicatPeopleFromTheSanGabrielValley\n",
            "http://dbpedia.org/class/yago/WikicatAdvertisingCharacters\n",
            "http://dbpedia.org/class/yago/WikicatChristmasCharacters\n",
            "http://dbpedia.org/class/yago/WikicatChristmasTraditions\n",
            "http://dbpedia.org/class/yago/WikicatCaptivesOfNativeAmericans\n",
            "http://dbpedia.org/class/yago/WikicatArtists'Models\n",
            "http://dbpedia.org/class/yago/WikicatItalianArtists'Models\n",
            "http://dbpedia.org/class/yago/WikicatItalianWomen\n",
            "http://dbpedia.org/class/yago/Bookseller109866473\n",
            "http://dbpedia.org/class/yago/WikicatEnglishBooksellers\n",
            "http://dbpedia.org/class/yago/WikicatMayorsOfPlacesInMichigan\n",
            "http://dbpedia.org/class/yago/WikicatPeopleFromDearborn,Michigan\n",
            "http://dbpedia.org/class/yago/WikicatItalianAbbots\n",
            "http://dbpedia.org/class/yago/WikicatPeopleFromTurin\n",
            "http://dbpedia.org/class/yago/WikicatPrincesOfSavoy\n",
            "http://dbpedia.org/class/yago/WikicatBishopsOfVercelli\n",
            "http://dbpedia.org/class/yago/WikicatMargravesOfItaly\n",
            "http://dbpedia.org/class/yago/Margrave110294020\n",
            "http://dbpedia.org/class/yago/WikicatAragoneseQueenConsorts\n",
            "http://dbpedia.org/class/yago/WikicatLadiesOfBalaguer\n",
            "http://dbpedia.org/class/yago/WikicatPeopleFromTheProvinceOfÁvila\n",
            "http://dbpedia.org/class/yago/WikicatPrincessesOfGirona\n",
            "http://dbpedia.org/class/yago/WikicatCastilianMonarchs\n",
            "http://dbpedia.org/class/yago/WikicatCountessesOfBarcelona\n",
            "http://dbpedia.org/class/yago/WikicatCountessesOfCervera\n",
            "http://dbpedia.org/class/yago/WikicatDuchessesOfMontblanc\n",
            "http://dbpedia.org/class/yago/WikicatWomenOfMedievalSpain\n",
            "http://dbpedia.org/class/yago/WikicatLeoneseMonarchs\n",
            "http://dbpedia.org/class/yago/WikicatRoyalConsortsOfNaples\n",
            "http://dbpedia.org/class/yago/WikicatRoyalConsortsOfSicily\n",
            "http://dbpedia.org/class/yago/WikicatServantsOfGod\n",
            "http://dbpedia.org/class/yago/Countess109970402\n",
            "http://dbpedia.org/class/yago/QueenConsort110500419\n",
            "http://dbpedia.org/class/yago/Servant110582154\n",
            "http://dbpedia.org/class/yago/Wikicat15th-centuryFemaleRulers\n",
            "http://dbpedia.org/class/yago/Wikicat16th-centuryFemaleRulers\n",
            "http://dbpedia.org/class/yago/WikicatGalicianMonarchs\n",
            "http://dbpedia.org/class/yago/WikicatSpanishPeopleOfEnglishDescent\n",
            "http://dbpedia.org/class/yago/WikicatSpanishPeopleOfPortugueseDescent\n",
            "http://dbpedia.org/class/yago/WikicatSpanishWomen\n",
            "http://dbpedia.org/class/yago/WikicatActressesFromNewYork\n",
            "http://dbpedia.org/class/yago/WikicatAmericanModels\n",
            "http://dbpedia.org/class/yago/WikicatAmericanRadioActresses\n",
            "http://dbpedia.org/class/yago/WikicatAmericanWomenComedians\n",
            "http://dbpedia.org/class/yago/WikicatMetro-Goldwyn-MayerContractPlayers\n",
            "http://dbpedia.org/class/yago/WikicatSingersFromNewYork\n",
            "http://dbpedia.org/class/yago/WikicatPeopleFromJamestown,NewYork\n",
            "http://dbpedia.org/class/yago/WikicatGrandMastersOfTheOrderOfSaintHubert\n",
            "http://dbpedia.org/class/yago/WikicatGrandMastersOfTheRoyalOrderOfSaintGeorgeForTheDefenseOfTheImmaculateConception\n",
            "http://dbpedia.org/class/yago/WikicatKingsOfBavaria\n",
            "http://dbpedia.org/class/yago/WikicatKnightsOfTheOrderOfSaintHubert\n",
            "http://dbpedia.org/class/yago/WikicatPrincesOfBavaria\n",
            "http://dbpedia.org/class/yago/WikicatMurderedMonarchs\n",
            "http://dbpedia.org/class/yago/WikicatGermanKings\n",
            "http://dbpedia.org/class/yago/WikicatIndividualElephants\n",
            "http://dbpedia.org/class/yago/Elephant102503517\n",
            "http://dbpedia.org/class/yago/Pachyderm102453108\n",
            "http://dbpedia.org/class/yago/Proboscidean102503127\n",
            "http://dbpedia.org/class/yago/WikicatAtheismActivists\n",
            "http://dbpedia.org/class/yago/WikicatHeadsOfGovernmentOfTheSovietUnion\n",
            "http://dbpedia.org/class/yago/WikicatHeadsOfStateOfTheSovietUnion\n",
            "http://dbpedia.org/class/yago/WikicatHeadsOfTheCommunistPartyOfTheSovietUnion\n",
            "http://dbpedia.org/class/yago/WikicatPeopleFromSaintPetersburg\n",
            "http://dbpedia.org/class/yago/WikicatPeopleFromUlyanovsk\n",
            "http://dbpedia.org/class/yago/WikicatPeopleOfTheRussianRevolution\n",
            "http://dbpedia.org/class/yago/WikicatCominternPeople\n",
            "http://dbpedia.org/class/yago/WikicatWorldSystemScholars\n",
            "http://dbpedia.org/class/yago/WikicatLeadersOfTheSovietUnion\n",
            "http://dbpedia.org/class/yago/WikicatMummies\n",
            "http://dbpedia.org/class/yago/WikicatRussian-GermanPeople\n",
            "http://dbpedia.org/class/yago/WikicatRussianAtheists\n",
            "http://dbpedia.org/class/yago/WikicatRussianEconomists\n",
            "http://dbpedia.org/class/yago/WikicatRussianExpatriates\n",
            "http://dbpedia.org/class/yago/WikicatRussianJournalists\n",
            "http://dbpedia.org/class/yago/WikicatRussianLawyers\n",
            "http://dbpedia.org/class/yago/WikicatRussianPeople\n",
            "http://dbpedia.org/class/yago/WikicatRussianPeopleOfGermanDescent\n",
            "http://dbpedia.org/class/yago/WikicatRussianPeopleOfJewishDescent\n",
            "http://dbpedia.org/class/yago/WikicatRussianPeopleOfSwedishDescent\n",
            "http://dbpedia.org/class/yago/WikicatRussianPeopleOfWorldWarI\n",
            "http://dbpedia.org/class/yago/WikicatRussianPhilosophers\n",
            "http://dbpedia.org/class/yago/WikicatRussianPoliticians\n",
            "http://dbpedia.org/class/yago/WikicatRussianRevolutionaries\n",
            "http://dbpedia.org/class/yago/WikicatRussianScientists\n",
            "http://dbpedia.org/class/yago/WikicatSaintPetersburgStateUniversityAlumni\n",
            "http://dbpedia.org/class/yago/WikicatSovietPeople\n",
            "http://dbpedia.org/class/yago/WikicatTatarPeopleOfRussia\n",
            "http://dbpedia.org/class/yago/Season115236475\n",
            "http://dbpedia.org/class/yago/Spring115237044\n",
            "http://dbpedia.org/class/yago/WikicatSpringsOfTexas\n",
            "http://dbpedia.org/class/yago/WikicatAmericanBankers\n",
            "http://dbpedia.org/class/yago/WikicatConfederateStatesNavyCaptains\n",
            "http://dbpedia.org/class/yago/WikicatFinnishEmigrantsToTheUnitedStates(1809–1917)\n",
            "http://dbpedia.org/class/yago/WikicatFinnishSailors\n",
            "http://dbpedia.org/class/yago/WikicatPeopleFromBirmingham,Alabama\n",
            "http://dbpedia.org/class/yago/WikicatAmericanRomanCatholicReligiousSistersAndNuns\n",
            "http://dbpedia.org/class/yago/WikicatCanadianArchitects\n",
            "http://dbpedia.org/class/yago/WikicatCanadianChristianMissionaries\n",
            "http://dbpedia.org/class/yago/WikicatWomenArchitects\n",
            "http://dbpedia.org/class/yago/WikicatFemaleChristianMissionaries\n",
            "http://dbpedia.org/class/yago/WikicatPeopleFromChaudière-Appalaches\n",
            "http://dbpedia.org/class/yago/WikicatMammalGenera\n",
            "http://dbpedia.org/class/yago/WikicatNationalSymbolsOfGuinea\n",
            "http://dbpedia.org/class/yago/WikicatNationalSymbolsOfIvoryCoast\n",
            "http://dbpedia.org/class/yago/WikicatNationalSymbolsOfSwaziland\n",
            "http://dbpedia.org/class/yago/WikicatNationalSymbolsOfTheCentralAfricanRepublic\n",
            "http://dbpedia.org/class/yago/WikicatNationalSymbolsOfTheRepublicOfTheCongo\n",
            "http://dbpedia.org/class/yago/WikicatWritersFromMexicoCity\n",
            "http://dbpedia.org/class/yago/WikicatMexicanArtists\n",
            "http://dbpedia.org/class/yago/WikicatMexicanJournalists\n",
            "http://dbpedia.org/class/yago/WikicatMexicanShortStoryWriters\n",
            "http://dbpedia.org/class/yago/WikicatElColegioDeMéxicoAlumni\n",
            "http://dbpedia.org/class/yago/WikicatAssociations\n",
            "http://dbpedia.org/class/yago/WikicatUniversitiesAndColleges\n",
            "http://dbpedia.org/class/yago/EducationalInstitution108276342\n",
            "http://dbpedia.org/class/yago/University108286569\n",
            "http://dbpedia.org/class/yago/WikicatPlayersOfAmericanFootballFromFlorida\n",
            "http://dbpedia.org/class/yago/WikicatEasternKentuckyColonelsFootballPlayers\n",
            "http://dbpedia.org/class/yago/WikicatNewYorkJetsPlayers\n",
            "http://dbpedia.org/class/yago/WikicatPeopleFromBooneCounty,Kentucky\n",
            "http://dbpedia.org/class/yago/Gesture100334509\n",
            "http://dbpedia.org/class/yago/Motion100331950\n",
            "http://dbpedia.org/class/yago/WikicatGesturesOfRespect\n",
            "http://dbpedia.org/class/yago/WikicatMexicanDiplomats\n",
            "http://dbpedia.org/class/yago/WikicatMexicanSecretariesOfForeignAffairs\n",
            "http://dbpedia.org/class/yago/WikicatAcademicsOfTheRoyalDanishAcademyOfMusic\n",
            "http://dbpedia.org/class/yago/WikicatDanishClassicalOrganists\n",
            "http://dbpedia.org/class/yago/WikicatDanishComposers\n",
            "http://dbpedia.org/class/yago/WikicatDanishOrganists\n",
            "http://dbpedia.org/class/yago/WikicatDanishPeopleOfGermanDescent\n",
            "http://dbpedia.org/class/yago/WikicatMusiciansFromCopenhagen\n",
            "http://dbpedia.org/class/yago/Organist110382825\n",
            "http://www.w3.org/2004/02/skos/core#Concept\n",
            "http://dbpedia.org/class/yago/WikicatIndividualGorillas\n",
            "http://dbpedia.org/class/yago/AnthropoidApe102470899\n",
            "http://dbpedia.org/class/yago/Ape102470325\n",
            "http://dbpedia.org/class/yago/Gorilla102480855\n",
            "http://dbpedia.org/class/yago/GreatApe102480153\n",
            "http://dbpedia.org/class/yago/Primate102469914\n",
            "http://dbpedia.org/class/yago/WikicatAugustObservances\n",
            "http://dbpedia.org/ontology/TimeInterval\n",
            "http://www.wikidata.org/entity/Q1445650\n",
            "http://dbpedia.org/class/yago/WikicatHolidays\n",
            "http://dbpedia.org/class/yago/WikicatPublicHolidaysInCroatia\n",
            "http://dbpedia.org/class/yago/WikicatChristianHolidays\n",
            "http://dbpedia.org/class/yago/WikicatReligiousHolidays\n",
            "http://dbpedia.org/class/yago/WikicatSaintsDays\n",
            "http://dbpedia.org/class/yago/WikicatAlumniOfOrielCollege,Oxford\n",
            "http://dbpedia.org/class/yago/WikicatPeopleOfTheBritishEmpire\n",
            "http://dbpedia.org/class/yago/WikicatPeopleOfTheFirstMatabeleWar\n",
            "http://dbpedia.org/class/yago/WikicatPrimeMinistersOfTheCapeColony\n",
            "http://dbpedia.org/class/yago/WikicatRhodesianPoliticians\n",
            "http://dbpedia.org/class/yago/WikicatPeopleFromBishop'sStortford\n",
            "http://dbpedia.org/class/yago/WikicatPeopleFromHertfordshire\n",
            "http://dbpedia.org/class/yago/WikicatPeopleFromKimberley,NorthernCape\n",
            "http://dbpedia.org/class/yago/WikicatSouthAfricanAgnostics\n",
            "http://dbpedia.org/class/yago/WikicatSouthAfricanWhiteNationalists\n",
            "http://dbpedia.org/class/yago/WikicatPeopleFromLincolnCounty,Georgia\n",
            "http://dbpedia.org/class/yago/WikicatAcademicsOfTheSladeSchoolOfArt\n",
            "http://dbpedia.org/class/yago/WikicatAlumniOfGoldsmiths,UniversityOfLondon\n",
            "http://dbpedia.org/class/yago/WikicatAlumniOfTheCentralSchoolOfArtAndDesign\n",
            "http://dbpedia.org/class/yago/WikicatJewishPainters\n",
            "http://dbpedia.org/class/yago/WikicatPortraitPainters\n",
            "http://dbpedia.org/class/yago/WikicatBritishEngravers\n",
            "http://dbpedia.org/class/yago/WikicatBritishIllustrators\n",
            "http://dbpedia.org/class/yago/WikicatBritishPeopleOfAustrian-JewishDescent\n",
            "http://dbpedia.org/class/yago/WikicatBritishPeopleOfGerman-JewishDescent\n",
            "http://dbpedia.org/class/yago/WikicatBritishPrintmakers\n",
            "http://dbpedia.org/class/yago/WikicatCartoonists\n",
            "http://dbpedia.org/class/yago/WikicatModernPainters\n",
            "http://dbpedia.org/class/yago/WikicatModernPrintmakers\n",
            "http://dbpedia.org/class/yago/Cartoonist109898346\n",
            "http://dbpedia.org/class/yago/Draftsman110029068\n",
            "http://dbpedia.org/class/yago/Printmaker110475687\n",
            "http://dbpedia.org/class/yago/Wikicat21st-centuryBritishPainters\n",
            "http://dbpedia.org/class/yago/WikicatPainters\n",
            "http://dbpedia.org/class/yago/WikicatPeopleEducatedAtBryanstonSchool\n",
            "http://dbpedia.org/class/yago/WikicatPortugueseExplorers\n",
            "http://dbpedia.org/class/yago/WikicatPortugueseSailors\n",
            "http://dbpedia.org/class/yago/Wikicat15th-centuryPortuguesePeople\n",
            "http://dbpedia.org/class/yago/Wikicat16th-centuryPortuguesePeople\n",
            "http://dbpedia.org/class/yago/WikicatExplorersOfAfrica\n",
            "http://dbpedia.org/class/yago/WikicatPeopleFromBelmonteMunicipality\n",
            "http://dbpedia.org/class/yago/WikicatGovernorsOfAlaska\n",
            "http://dbpedia.org/class/yago/WikicatGovernorsOfAlaskaTerritory\n",
            "http://dbpedia.org/class/yago/WikicatHarvardMedicalSchoolAlumni\n",
            "http://dbpedia.org/class/yago/WikicatHotchkissSchoolAlumni\n",
            "http://dbpedia.org/class/yago/WikicatJewishAmericanStateGovernorsOfTheUnitedStates\n",
            "http://dbpedia.org/class/yago/WikicatJewishUnitedStatesSenators\n",
            "http://dbpedia.org/class/yago/WikicatItalianHermits\n",
            "http://dbpedia.org/class/yago/WikicatItalianMonks\n",
            "http://dbpedia.org/class/yago/WikicatItalianPriests\n",
            "http://dbpedia.org/class/yago/WikicatPeopleFromPaola,Calabria\n",
            "http://dbpedia.org/class/yago/WikicatPeopleFromTheProvinceOfCosenza\n",
            "http://dbpedia.org/class/yago/WikicatPeopleFromCalabria\n",
            "http://dbpedia.org/class/yago/WikicatBarons\n",
            "http://dbpedia.org/class/yago/WikicatBaronsOfGermany\n",
            "http://dbpedia.org/class/yago/WikicatPeopleFromTheDuchyOfCleves\n",
            "http://dbpedia.org/class/yago/WikicatGreekRevivalArchitects\n",
            "http://dbpedia.org/class/yago/WikicatPeopleFromNeuruppin\n",
            "http://dbpedia.org/class/yago/Planner110438172\n",
            "http://dbpedia.org/class/yago/Wikicat19th-centuryArchitects\n",
            "http://dbpedia.org/class/yago/Wikicat19th-centuryGermanPainters\n",
            "http://dbpedia.org/class/yago/WikicatFurnitureDesigners\n",
            "http://dbpedia.org/class/yago/WikicatGermanArchitects\n",
            "http://dbpedia.org/class/yago/WikicatGermanDesigners\n",
            "http://dbpedia.org/class/yago/WikicatGermanEcclesiasticalArchitects\n",
            "http://dbpedia.org/class/yago/WikicatGermanNeoclassicalPainters\n",
            "http://dbpedia.org/class/yago/WikicatGermanPainters\n",
            "http://dbpedia.org/class/yago/WikicatGermanScenicDesigners\n",
            "http://dbpedia.org/class/yago/WikicatGermanUrbanPlanners\n",
            "http://dbpedia.org/class/yago/WikicatNeoclassicalArchitects\n",
            "http://dbpedia.org/class/yago/WikicatNeoclassicalPainters\n",
            "http://dbpedia.org/class/yago/WikicatAndalusianConquistadors\n",
            "http://dbpedia.org/class/yago/WikicatAndalusianPeople\n",
            "http://dbpedia.org/class/yago/WikicatPeopleFromTheProvinceOfCórdoba(Spain)\n",
            "http://dbpedia.org/class/yago/WikicatPrisonersSentencedToDeathBySpain\n",
            "http://dbpedia.org/class/yago/Wikicat16th-centuryPeruvianPeople\n",
            "http://dbpedia.org/class/yago/WikicatSpanishPrisonersSentencedToDeath\n",
            "http://dbpedia.org/class/yago/WikicatSpanishSailors\n",
            "http://dbpedia.org/class/yago/WikicatPolishRebellions\n",
            "http://dbpedia.org/class/yago/WikicatBattlesAndOperationsOfWorldWarII\n",
            "http://dbpedia.org/class/yago/WikicatBattlesOfOperationTempest\n",
            "http://dbpedia.org/class/yago/WikicatConflictsIn1944\n",
            "http://dbpedia.org/class/yago/WikicatUprisingsDuringWorldWarII\n",
            "http://dbpedia.org/class/yago/Rebellion100962129\n",
            "http://dbpedia.org/class/yago/Rebellion101177327\n",
            "http://dbpedia.org/class/yago/Resistance101169317\n",
            "http://dbpedia.org/class/yago/WikicatNaziWarCrimes\n",
            "http://dbpedia.org/class/yago/WikicatPeopleFromSicily\n",
            "http://dbpedia.org/class/yago/WikicatChildSaints\n",
            "http://dbpedia.org/class/yago/WikicatSicilianSaints\n",
            "http://dbpedia.org/class/yago/WikicatArtGenres\n",
            "http://dbpedia.org/class/yago/Category105838765\n",
            "http://dbpedia.org/class/yago/Genre105845332\n",
            "http://dbpedia.org/class/yago/Kind105839024\n",
            "http://dbpedia.org/class/yago/WikicatIndividualDogs\n",
            "http://dbpedia.org/ontology/Film\n",
            "http://dbpedia.org/class/yago/WikicatMaleDogs\n",
            "http://dbpedia.org/class/yago/WikicatAmericanSchoolAdministrators\n",
            "http://dbpedia.org/class/yago/WikicatCentralConnecticutStateUniversityAlumni\n",
            "http://dbpedia.org/class/yago/WikicatPeopleFromDeepRiver,Connecticut\n",
            "http://dbpedia.org/class/yago/WikicatHuiPeople\n",
            "http://dbpedia.org/class/yago/WikicatPeopleFromSiping\n",
            "http://dbpedia.org/class/yago/WikicatPeopleOfManchukuo\n",
            "http://dbpedia.org/class/yago/WikicatPeopleOfTheChineseCivilWar\n",
            "http://dbpedia.org/class/yago/WikicatPeopleOfTheSecondSino-JapaneseWar\n",
            "http://dbpedia.org/class/yago/WikicatChinesePeopleOfWorldWarII\n",
            "http://dbpedia.org/class/yago/WikicatMuslimGenerals\n",
            "http://dbpedia.org/class/yago/WikicatNationalRevolutionaryArmyGeneralsFromJilin\n",
            "http://dbpedia.org/class/yago/WikicatPeopleFromMalbork\n",
            "http://dbpedia.org/class/yago/WikicatPeopleFromTheProvinceOfPrussia\n",
            "http://dbpedia.org/class/yago/WikicatGermanTradeUnionists\n",
            "http://dbpedia.org/class/yago/WikicatAmericanHorticulturists\n",
            "http://dbpedia.org/class/yago/WikicatPeopleFromStirling(councilArea)\n",
            "http://dbpedia.org/class/yago/WikicatEnglishHorticulturists\n",
            "http://dbpedia.org/class/yago/WikicatAmericanCivilWarPrisonersOfWar\n",
            "http://dbpedia.org/class/yago/WikicatPeopleFromLafourcheParish,Louisiana\n",
            "http://dbpedia.org/class/yago/WikicatChiefJusticesOfTheUnitedStates\n",
            "http://dbpedia.org/class/yago/WikicatUnitedStatesFederalJudgesAppointedByGroverCleveland\n",
            "http://dbpedia.org/class/yago/WikicatUnitedStatesFederalJudgesAppointedByWilliamHowardTaft\n",
            "http://dbpedia.org/class/yago/WikicatLouisianaStateSenators\n",
            "http://dbpedia.org/class/yago/WikicatGeorgetownUniversityAlumni\n",
            "http://dbpedia.org/class/yago/WikicatPeopleFromSweetwaterCounty,Wyoming\n",
            "http://dbpedia.org/class/yago/WikicatPeopleFromTiogaCounty,NewYork\n",
            "http://dbpedia.org/class/yago/WikicatAmericanMedicalResearchers\n",
            "http://dbpedia.org/class/yago/WikicatAnatomists\n",
            "http://dbpedia.org/class/yago/WikicatPeopleFromTheDenverMetropolitanArea\n",
            "http://dbpedia.org/class/yago/WikicatSmithCollegeAlumni\n",
            "http://dbpedia.org/class/yago/Anatomist109792237\n",
            "http://dbpedia.org/class/yago/Wikicat20th-centuryPhysicians\n",
            "http://dbpedia.org/class/yago/WikicatDogsInArt\n",
            "http://dbpedia.org/class/yago/WikicatPeopleFromOstprignitz-Ruppin\n",
            "http://dbpedia.org/class/yago/WikicatAlumniOfTheUniversityOfAberdeen\n",
            "http://dbpedia.org/class/yago/WikicatPeopleFromPeterhead\n",
            "http://dbpedia.org/class/yago/WikicatScottishMercenaries\n",
            "http://dbpedia.org/class/yago/WikicatScottishSoldiers\n",
            "http://dbpedia.org/class/yago/Wikicat18th-centurySoldiers\n",
            "http://dbpedia.org/class/yago/WikicatPeopleFromSwedishPomerania\n",
            "http://dbpedia.org/class/yago/WikicatPeopleFromVorpommern-Greifswald\n",
            "http://dbpedia.org/class/yago/WikicatGermanArmyCommandersInTheWarOfTheSpanishSuccession\n",
            "http://dbpedia.org/class/yago/WikicatAlumniOfGreyCollege,Bloemfontein\n",
            "http://dbpedia.org/class/yago/WikicatPeopleFromTheFreeState(province)\n",
            "http://dbpedia.org/class/yago/WikicatLeidenUniversityAlumni\n",
            "http://dbpedia.org/class/yago/WikicatNationalParty(SouthAfrica)Politicians\n",
            "http://dbpedia.org/class/yago/WikicatSouthAfricanJudges\n",
            "http://dbpedia.org/class/yago/WikicatStatePresidentsOfTheOrangeFreeState\n",
            "http://dbpedia.org/class/yago/WikicatPeopleOfMichiganInTheAmericanCivilWar\n",
            "http://dbpedia.org/class/yago/WikicatMayorsOfDetroit,Michigan\n",
            "http://dbpedia.org/class/yago/WikicatBasqueConquistadors\n",
            "http://dbpedia.org/class/yago/Wikicat16th-centuryMexicanPeople\n",
            "http://dbpedia.org/class/yago/Wikicat17th-centurySpanishPeople\n",
            "http://dbpedia.org/class/yago/WikicatIllinoisStateSenators\n",
            "http://dbpedia.org/class/yago/WikicatPeopleOfOregonInTheAmericanCivilWar\n",
            "http://dbpedia.org/class/yago/WikicatPoliticiansFromSanFrancisco,California\n",
            "http://dbpedia.org/class/yago/WikicatUnitedStatesSenatorsFromOregon\n",
            "http://dbpedia.org/class/yago/WikicatPeopleFromBelleville,Illinois\n",
            "http://dbpedia.org/class/yago/WikicatPeopleFromGreeneCounty,Illinois\n",
            "http://dbpedia.org/class/yago/WikicatPeopleFromJoDaviessCounty,Illinois\n",
            "http://dbpedia.org/class/yago/WikicatJournalistsKilledInTheUnitedStates\n",
            "http://dbpedia.org/class/yago/WikicatWebbSchoolAlumni\n",
            "http://dbpedia.org/class/yago/WikicatWritersFromSuzhou\n",
            "http://dbpedia.org/class/yago/WikicatSongDynastyPoets\n",
            "http://dbpedia.org/class/yago/WikicatPeopleFromMecklenburgischeSeenplatte(district)\n",
            "http://dbpedia.org/class/yago/WikicatAlumniOfTheAcadémieJulian\n",
            "http://dbpedia.org/class/yago/WikicatAlumniOfTheSladeSchoolOfArt\n",
            "http://dbpedia.org/class/yago/WikicatPeopleFromLincoln,England\n",
            "http://dbpedia.org/class/yago/Wikicat19th-centuryEnglishPainters\n",
            "http://dbpedia.org/class/yago/Wikicat20th-centuryEnglishPainters\n",
            "http://dbpedia.org/class/yago/WikicatPeopleOfPre-statehoodVermont\n",
            "http://dbpedia.org/class/yago/WikicatPeopleOfVermontInTheAmericanRevolution\n",
            "http://dbpedia.org/class/yago/WikicatPeopleFromOrangeCounty,Virginia\n",
            "http://dbpedia.org/class/yago/WikicatVirginiaColonialPeople\n",
            "http://dbpedia.org/class/yago/WikicatPeopleFromKingGeorgeCounty,Virginia\n",
            "http://dbpedia.org/class/yago/WikicatColonialPoliticiansFromMaryland\n",
            "http://dbpedia.org/class/yago/WikicatMarylandPoliticians\n",
            "http://dbpedia.org/class/yago/WikicatPeopleFromCharlesCounty,Maryland\n",
            "http://dbpedia.org/class/yago/WikicatAmericanIchthyologists\n",
            "http://dbpedia.org/class/yago/WikicatAmericanPathologists\n",
            "http://dbpedia.org/class/yago/WikicatIchthyologists\n",
            "http://dbpedia.org/class/yago/WikicatPeopleFromTheCantonOfFribourg\n",
            "http://dbpedia.org/class/yago/WikicatClimatologists\n",
            "http://dbpedia.org/class/yago/WikicatVeterinarians\n",
            "http://dbpedia.org/class/yago/WikicatWollastonMedalWinners\n",
            "http://dbpedia.org/class/yago/WikicatZoologists\n",
            "http://dbpedia.org/class/yago/Climatologist109929202\n",
            "http://dbpedia.org/class/yago/Diagnostician110011074\n",
            "http://dbpedia.org/class/yago/Ichthyologist110196617\n",
            "http://dbpedia.org/class/yago/Paleontologist110394786\n",
            "http://dbpedia.org/class/yago/Veterinarian110749715\n",
            "http://dbpedia.org/class/yago/WikicatPaleontologists\n",
            "http://dbpedia.org/class/yago/WikicatSwissBiologists\n",
            "http://dbpedia.org/class/yago/WikicatSwissGeologists\n",
            "http://dbpedia.org/class/yago/WikicatSwissIchthyologists\n",
            "http://dbpedia.org/class/yago/WikicatSwissNaturalists\n",
            "http://dbpedia.org/class/yago/WikicatSwissPaleontologists\n",
            "http://dbpedia.org/class/yago/WikicatSwissZoologists\n",
            "http://dbpedia.org/class/yago/WikicatSculptureTechniques\n",
            "http://dbpedia.org/class/yago/WikicatCountyJudgesInKentucky\n",
            "http://dbpedia.org/class/yago/WikicatEmoryUniversityAlumni\n",
            "http://dbpedia.org/class/yago/WikicatPeopleFromGravesCounty,Kentucky\n",
            "http://dbpedia.org/class/yago/WikicatJudgesOfAncientIsrael\n",
            "http://dbpedia.org/class/yago/WikicatPeopleFromSummitCounty,Ohio\n",
            "http://dbpedia.org/class/yago/WikicatPeopleFromTorrington,Connecticut\n",
            "http://dbpedia.org/class/yago/WikicatPeopleExecutedByVirginiaByHanging\n",
            "http://dbpedia.org/class/yago/WikicatPeopleFromAkron,Ohio\n",
            "http://dbpedia.org/class/yago/WikicatPeopleFromKent,Ohio\n",
            "http://dbpedia.org/class/yago/WikicatActorsFromMinnesota\n",
            "http://dbpedia.org/class/yago/WikicatAfrican-AmericanActors\n",
            "http://dbpedia.org/class/yago/WikicatAfrican-AmericanDancers\n",
            "http://dbpedia.org/class/yago/WikicatAfrican-AmericanFilmDirectors\n",
            "http://dbpedia.org/class/yago/WikicatAfrican-AmericanGuitarists\n",
            "http://dbpedia.org/class/yago/WikicatAfrican-AmericanMaleActors\n",
            "http://dbpedia.org/class/yago/WikicatAfrican-AmericanMaleDancers\n",
            "http://dbpedia.org/class/yago/WikicatAfrican-AmericanRockMusicians\n",
            "http://dbpedia.org/class/yago/WikicatAmericanBassGuitarists\n",
            "http://dbpedia.org/class/yago/WikicatAmericanDancers\n",
            "http://dbpedia.org/class/yago/WikicatAmericanFunkMusicians\n",
            "http://dbpedia.org/class/yago/WikicatAmericanFunkSingers\n",
            "http://dbpedia.org/class/yago/WikicatAmericanJehovah'sWitnesses\n",
            "http://dbpedia.org/class/yago/WikicatAmericanKeyboardists\n",
            "http://dbpedia.org/class/yago/WikicatAmericanPopSingers\n",
            "http://dbpedia.org/class/yago/WikicatAristaRecordsArtists\n",
            "http://dbpedia.org/class/yago/WikicatPeopleFromMinneapolis,Minnesota\n",
            "http://dbpedia.org/class/yago/WikicatPopMusicians\n",
            "http://dbpedia.org/class/yago/WikicatPopSingers\n",
            "http://dbpedia.org/class/yago/WikicatPseudonymousMusicians\n",
            "http://dbpedia.org/class/yago/WikicatPseudonyms\n",
            "http://dbpedia.org/class/yago/WikicatConvertsToJehovah'sWitnesses\n",
            "http://dbpedia.org/class/yago/Witness110786033\n",
            "http://dbpedia.org/class/yago/WikicatMaleActorsFromMinneapolis,Minnesota\n",
            "http://dbpedia.org/class/yago/WikicatMusiciansFromMinneapolis,Minnesota\n",
            "http://dbpedia.org/class/yago/WikicatRecordProducers\n",
            "http://dbpedia.org/class/yago/Keyboardist110229883\n",
            "http://dbpedia.org/class/yago/Name106333653\n",
            "http://dbpedia.org/class/yago/Pseudonym106338278\n",
            "http://dbpedia.org/class/yago/Wikicat21st-centuryAmericanActors\n",
            "http://dbpedia.org/class/yago/Wikicat21st-centuryAmericanSingers\n",
            "http://dbpedia.org/class/yago/WikicatSongwritersFromMinnesota\n",
            "http://dbpedia.org/class/yago/WikicatUnitedStatesSenatorsFromOhio\n",
            "http://dbpedia.org/class/yago/WikicatPeopleFromChillicothe,Ohio\n",
            "http://dbpedia.org/class/yago/WikicatAlumniOfTheRoyalAcademyOfMusic\n",
            "http://dbpedia.org/class/yago/WikicatPeopleFromLambeth\n",
            "http://dbpedia.org/class/yago/WikicatMusicologists\n",
            "http://dbpedia.org/class/yago/WikicatOratorioComposers\n",
            "http://dbpedia.org/class/yago/WikicatIndigenousPeoplesInBrazil\n",
            "http://dbpedia.org/class/yago/WikicatIndigenousPeoplesOfSouthAmerica\n",
            "http://dbpedia.org/class/yago/WikicatEthnicGroupsInBrazil\n",
            "http://dbpedia.org/class/yago/WikicatAmericanMedicalAssociationPeople\n",
            "http://dbpedia.org/class/yago/WikicatGynaecologists\n",
            "http://dbpedia.org/class/yago/WikicatPhysiciansFromSouthCarolina\n",
            "http://dbpedia.org/class/yago/WikicatThomasJeffersonUniversityAlumni\n",
            "http://dbpedia.org/class/yago/WikicatPeopleFromTarapacáRegion\n",
            "http://dbpedia.org/class/yago/WikicatPeopleOfTheWarOfTheConfederation\n",
            "http://dbpedia.org/class/yago/WikicatPeruvianGenerals\n",
            "http://dbpedia.org/class/yago/WikicatPeruvianMinistersOfEconomyAndFinance\n",
            "http://dbpedia.org/class/yago/WikicatPeruvianPeopleOfArgentineDescent\n",
            "http://dbpedia.org/class/yago/WikicatPeruvianPeopleOfAymaraDescent\n",
            "http://dbpedia.org/class/yago/WikicatPeruvianPeopleOfSpanishDescent\n",
            "http://dbpedia.org/class/yago/WikicatPeruvianRevolutionaries\n",
            "http://dbpedia.org/class/yago/WikicatForeignMinistersOfPeru\n",
            "http://dbpedia.org/ontology/TelevisionStation\n",
            "http://dbpedia.org/class/yago/WikicatDutchInventions\n",
            "http://dbpedia.org/class/yago/Invention105633385\n",
            "http://dbpedia.org/class/yago/WikicatAcadianPeople\n",
            "http://dbpedia.org/class/yago/WikicatPeopleFromSouthHackney\n",
            "http://dbpedia.org/class/yago/WikicatSheriffsOfTheCityOfLondon\n",
            "http://dbpedia.org/class/yago/WikicatEasternOrthodoxIconsOfTheVirginMary\n",
            "http://dbpedia.org/ontology/Election\n",
            "http://dbpedia.org/ontology/Locomotive\n",
            "http://dbpedia.org/ontology/Train\n",
            "http://dbpedia.org/class/yago/Application100949134\n",
            "http://dbpedia.org/class/yago/Profession100609953\n",
            "http://dbpedia.org/class/yago/Technology100949619\n",
            "http://dbpedia.org/class/yago/Use100947128\n",
            "http://dbpedia.org/class/yago/WikicatSteamLocomotiveTechnologies\n",
            "http://dbpedia.org/class/yago/WikicatPeopleFromTheElectorateOfHanover\n",
            "http://dbpedia.org/class/yago/WikicatGermanAgronomists\n",
            "http://dbpedia.org/class/yago/WikicatPeopleFromCelle\n",
            "http://dbpedia.org/class/yago/WikicatPoliticalTheories\n",
            "http://dbpedia.org/class/yago/WikicatEconomicSystems\n",
            "http://dbpedia.org/class/yago/Attitude106193203\n",
            "http://dbpedia.org/class/yago/Economy108366753\n",
            "http://dbpedia.org/class/yago/Orientation106208021\n",
            "http://dbpedia.org/class/yago/PoliticalOrientation106212839\n",
            "http://dbpedia.org/class/yago/System108435388\n",
            "http://dbpedia.org/class/yago/WikicatPresidentsOfEcuador\n",
            "http://dbpedia.org/class/yago/Wikicat19th-centuryEcuadorianPeople\n",
            "http://dbpedia.org/class/yago/WikicatPeopleFromGuayaquil\n",
            "http://dbpedia.org/class/yago/WikicatGovernorsOfTheRussian-AmericanCompany\n",
            "http://dbpedia.org/class/yago/WikicatImperialRussianExplorers\n",
            "http://dbpedia.org/class/yago/WikicatPeopleFromKargopolskyDistrict\n",
            "http://dbpedia.org/class/yago/WikicatSocialClassSubcultures\n",
            "http://dbpedia.org/class/yago/WikicatSocialGroups\n",
            "http://dbpedia.org/class/yago/Aesthetic105968971\n",
            "http://dbpedia.org/class/yago/PhilosophicalDoctrine106167328\n",
            "http://dbpedia.org/class/yago/Stereotype105927586\n",
            "http://dbpedia.org/class/yago/Subculture108288753\n",
            "http://dbpedia.org/class/yago/WikicatFashionAesthetics\n",
            "http://dbpedia.org/class/yago/WikicatStereotypes\n",
            "http://dbpedia.org/class/yago/WikicatWritersFromAthens,Georgia\n",
            "http://dbpedia.org/class/yago/WikicatWritersFromAtlanta,Georgia\n",
            "http://dbpedia.org/class/yago/WikicatTheAtlantaJournal-ConstitutionPeople\n",
            "http://dbpedia.org/class/yago/WikicatHeroesOfTheCzechoslovakSocialistRepublic\n",
            "http://dbpedia.org/class/yago/WikicatHeroesOfTheSovietUnion\n",
            "http://dbpedia.org/class/yago/WikicatPeopleFromPodosinovskyDistrict\n",
            "http://dbpedia.org/class/yago/WikicatPeopleFromVologdaGovernorate\n",
            "http://dbpedia.org/class/yago/WikicatPeopleOfTheHungarianRevolutionOf1956\n",
            "http://dbpedia.org/class/yago/WikicatDoubleHeroesOfTheSovietUnion\n",
            "http://dbpedia.org/class/yago/WikicatWarsawPactPeople\n",
            "http://dbpedia.org/class/yago/WikicatMarshalsOfTheSovietUnion\n",
            "http://dbpedia.org/class/yago/WikicatRussianPeopleOfWorldWarII\n",
            "http://dbpedia.org/class/yago/Commissar109942697\n",
            "http://dbpedia.org/class/yago/WikicatFrunzeMilitaryAcademyAlumni\n",
            "http://dbpedia.org/class/yago/WikicatPeople'sCommissarsAndMinistersOfTheSovietUnion\n",
            "http://dbpedia.org/class/yago/WikicatLakesOfNewYork\n",
            "http://dbpedia.org/ontology/Lake\n",
            "http://dbpedia.org/class/yago/WikicatBodiesOfWaterOfNewYork\n",
            "http://umbel.org/umbel/rc/Lake\n",
            "http://dbpedia.org/class/yago/Lake109328904\n",
            "http://dbpedia.org/class/yago/WikicatPeopleFromNewBrunswick,NewJersey\n",
            "http://dbpedia.org/class/yago/WikicatPrisonersOfNaziConcentrationCamps\n",
            "http://dbpedia.org/class/yago/WikicatPeopleCondemnedByNaziCourts\n",
            "http://dbpedia.org/class/yago/WikicatPeopleFromBavariaExecutedAtPlötzenseePrison\n",
            "http://dbpedia.org/class/yago/WikicatPeopleFromBayreuth\n",
            "http://dbpedia.org/class/yago/WikicatJapaneseExpatriatesInTheUnitedKingdom\n",
            "http://dbpedia.org/class/yago/WikicatJapaneseFarmers\n",
            "http://dbpedia.org/class/yago/WikicatPeopleFromYamaguchiPrefecture\n",
            "http://dbpedia.org/class/yago/WikicatPeopleOfMeiji-periodJapan\n",
            "http://dbpedia.org/class/yago/WikicatPeopleAssociatedWithUniversityCollegeLondon\n",
            "http://dbpedia.org/ontology/MusicalWork\n",
            "http://dbpedia.org/class/yago/WikicatMiraclesAttributedToJesus\n",
            "http://dbpedia.org/class/yago/WikicatPaintingsDepictingJesus\n",
            "http://dbpedia.org/class/yago/WikicatPeopleFromTheProvinceOfZamora\n",
            "http://dbpedia.org/class/yago/WikicatChildren\n",
            "http://dbpedia.org/class/yago/Child109917593\n",
            "http://dbpedia.org/class/yago/Juvenile109622049\n",
            "http://dbpedia.org/class/yago/Waif110763075\n",
            "http://dbpedia.org/class/yago/WikicatStreetChildren\n",
            "http://dbpedia.org/class/yago/Wikicat17th-centuryChinesePeople\n",
            "http://dbpedia.org/class/yago/WikicatJusticeDeities\n",
            "http://dbpedia.org/class/yago/WikicatJusticeGoddesses\n",
            "http://dbpedia.org/class/yago/WikicatHarvardCrimsonFootballPlayers\n",
            "http://dbpedia.org/class/yago/WikicatPeopleMurderedInCalifornia\n",
            "http://dbpedia.org/class/yago/WikicatBatesCollegePeople\n",
            "http://dbpedia.org/class/yago/WikicatUnitedStatesSenateLawyers\n",
            "http://dbpedia.org/class/yago/WikicatWritersFromBoston,Massachusetts\n",
            "http://dbpedia.org/class/yago/WikicatMiltonAcademyAlumni\n",
            "http://dbpedia.org/class/yago/WikicatSiblingsOfPresidentsOfTheUnitedStates\n",
            "http://dbpedia.org/class/yago/WikicatPeopleFromBronxville,NewYork\n",
            "http://dbpedia.org/class/yago/WikicatLaboursOfHercules\n",
            "http://dbpedia.org/class/yago/Class107974025\n",
            "http://dbpedia.org/class/yago/Labor108180639\n",
            "http://dbpedia.org/class/yago/WikicatMaoistChinaMartyrs\n",
            "http://dbpedia.org/class/yago/Euphemism106605046\n",
            "http://dbpedia.org/class/yago/Saying107151380\n",
            "http://dbpedia.org/class/yago/Speech107109196\n",
            "http://dbpedia.org/class/yago/WikicatEuphemisms\n",
            "http://dbpedia.org/class/yago/WikicatIndividualHumanHeads,SkullsAndBrains\n",
            "http://dbpedia.org/class/yago/AnimalTissue105267548\n",
            "http://dbpedia.org/class/yago/Bone105269901\n",
            "http://dbpedia.org/class/yago/ConnectiveTissue105286536\n",
            "http://dbpedia.org/class/yago/Skull105540121\n",
            "http://dbpedia.org/class/yago/Tissue105267345\n",
            "http://dbpedia.org/class/yago/WikicatPeopleFromKleve\n",
            "http://dbpedia.org/class/yago/WikicatPrussianPoliticians\n"
          ]
        }
      ],
      "source": [
        "q= '''\n",
        "prefix dbo: <http://dbpedia.org/ontology/>\n",
        "prefix dct: <http://purl.org/dc/terms/>\n",
        "prefix dbp: <http://dbpedia.org/property/>\n",
        "select distinct ?class where {?Concept a dbo:Artwork.\n",
        "OPTIONAL {?Concept dbp:subject ?subject .\n",
        "?subject a ?class}\n",
        "OPTIONAL {?Concept dct:subject ?subject2 .\n",
        "?subject2 a ?class\n",
        "}}'''\n",
        "\n",
        "res = sparl_query_setting(q, dbpedia)\n",
        "for el in res[\"results\"][\"bindings\"]:\n",
        "  try:\n",
        "    print(el[\"class\"][\"value\"])\n",
        "  except:\n",
        "    continue"
      ]
    },
    {
      "cell_type": "markdown",
      "metadata": {
        "id": "kQ0ii9hjquMu"
      },
      "source": [
        "## How many artworks have a subject (individual of a class)"
      ]
    },
    {
      "cell_type": "code",
      "execution_count": null,
      "metadata": {
        "colab": {
          "base_uri": "https://localhost:8080/"
        },
        "id": "NoCQ816yqPya",
        "outputId": "3286a0ed-693a-440c-fa94-9c399ca3fc4f"
      },
      "outputs": [
        {
          "name": "stdout",
          "output_type": "stream",
          "text": [
            "11000\n"
          ]
        }
      ],
      "source": [
        "q= '''\n",
        "prefix dbo: <http://dbpedia.org/ontology/>\n",
        "prefix dct: <http://purl.org/dc/terms/>\n",
        "prefix dbp: <http://dbpedia.org/property/>\n",
        "select (count (distinct ?Concept) as ?tot) where \n",
        "{ { ?Concept a dbo:Artwork .\n",
        "?Concept dbp:subject ?subject .\n",
        "?subject ?p ?o } UNION {?Concept a dbo:Artwork. \n",
        "?Concept dct:subject ?subject2 .\n",
        "?subject2 ?p2 ?o2} }'''\n",
        "\n",
        "res = sparl_query_setting(q, dbpedia)\n",
        "for el in res[\"results\"][\"bindings\"]:\n",
        "  print(el[\"tot\"][\"value\"])\n",
        "  artnum = el[\"tot\"][\"value\"]\n",
        "\n"
      ]
    },
    {
      "cell_type": "markdown",
      "metadata": {
        "id": "oCEj6EzxsUvA"
      },
      "source": [
        "## Average number of subject (class) per artwork"
      ]
    },
    {
      "cell_type": "code",
      "execution_count": null,
      "metadata": {
        "colab": {
          "base_uri": "https://localhost:8080/"
        },
        "id": "GwIAaquBrIZl",
        "outputId": "4f81b229-4904-44b6-a889-4f03be9a4325"
      },
      "outputs": [
        {
          "name": "stdout",
          "output_type": "stream",
          "text": [
            "62406\n"
          ]
        }
      ],
      "source": [
        "q= '''\n",
        "prefix dbo: <http://dbpedia.org/ontology/>\n",
        "prefix dct: <http://purl.org/dc/terms/>\n",
        "prefix dbp: <http://dbpedia.org/property/>\n",
        "select (count (?subject) as ?tot) where \n",
        "{ { ?Concept a dbo:Artwork .\n",
        "?Concept dbp:subject ?subject .\n",
        "FILTER(isURI(?subject)) } UNION {?Concept a dbo:Artwork. \n",
        "?Concept dct:subject ?subject .\n",
        "FILTER(isURI(?subject))} }'''\n",
        "\n",
        "res = sparl_query_setting(q, dbpedia)\n",
        "for el in res[\"results\"][\"bindings\"]:\n",
        "  print(el[\"tot\"][\"value\"])\n",
        "  subnum = el[\"tot\"][\"value\"]"
      ]
    },
    {
      "cell_type": "code",
      "execution_count": null,
      "metadata": {
        "colab": {
          "base_uri": "https://localhost:8080/"
        },
        "id": "SbDQaFT7FdMu",
        "outputId": "292c5803-fee3-48f1-d3f9-0be12c9612bf"
      },
      "outputs": [
        {
          "data": {
            "text/plain": [
              "5.673272727272727"
            ]
          },
          "execution_count": 16,
          "metadata": {},
          "output_type": "execute_result"
        }
      ],
      "source": [
        "int(subnum) / int(artnum)"
      ]
    },
    {
      "cell_type": "code",
      "execution_count": null,
      "metadata": {
        "id": "GW0YxTD5FkQ7"
      },
      "outputs": [],
      "source": [
        ""
      ]
    },
    {
      "cell_type": "markdown",
      "metadata": {
        "id": "H6cG5Rj4JjQ8"
      },
      "source": [
        "## How many artworks have a subject (literal)"
      ]
    },
    {
      "cell_type": "code",
      "execution_count": null,
      "metadata": {
        "colab": {
          "base_uri": "https://localhost:8080/"
        },
        "id": "Cyfhf7whJo_l",
        "outputId": "4f231f0d-7087-48e9-8ed3-f80a5bb72029"
      },
      "outputs": [
        {
          "name": "stdout",
          "output_type": "stream",
          "text": [
            "514\n"
          ]
        }
      ],
      "source": [
        "q = '''prefix dbo: <http://dbpedia.org/ontology/>\n",
        "prefix dct: <http://purl.org/dc/terms/>\n",
        "prefix dbp: <http://dbpedia.org/property/>\n",
        "select (count(distinct ?Concept) as ?tot) where {\n",
        "?Concept a dbo:Artwork;\n",
        "dbp:subject ?subject .\n",
        "FILTER (!isURI(?subject))\n",
        "}'''\n",
        "res = sparl_query_setting(q, dbpedia)\n",
        "for el in res[\"results\"][\"bindings\"]:\n",
        "  print(el[\"tot\"][\"value\"])\n",
        "  litart = el[\"tot\"][\"value\"]\n"
      ]
    },
    {
      "cell_type": "code",
      "execution_count": null,
      "metadata": {
        "id": "CZU4auM-JyPH"
      },
      "outputs": [],
      "source": [
        ""
      ]
    },
    {
      "cell_type": "markdown",
      "metadata": {
        "id": "9m-eJ14SKSjv"
      },
      "source": [
        "## Average number of subject (literal) per artwork"
      ]
    },
    {
      "cell_type": "code",
      "execution_count": null,
      "metadata": {
        "colab": {
          "base_uri": "https://localhost:8080/"
        },
        "id": "8X6PLYHaKWPw",
        "outputId": "ec5910df-4c41-4ef8-a179-00cd54371c66"
      },
      "outputs": [
        {
          "name": "stdout",
          "output_type": "stream",
          "text": [
            "565\n"
          ]
        }
      ],
      "source": [
        "q = '''prefix dbo: <http://dbpedia.org/ontology/>\n",
        "prefix dct: <http://purl.org/dc/terms/>\n",
        "prefix dbp: <http://dbpedia.org/property/>\n",
        "select (count(?subject) as ?tot) where {\n",
        "?Concept a dbo:Artwork;\n",
        "dbp:subject ?subject .\n",
        "FILTER (!isURI(?subject))\n",
        "}'''\n",
        "res = sparl_query_setting(q, dbpedia)\n",
        "for el in res[\"results\"][\"bindings\"]:\n",
        "  print(el[\"tot\"][\"value\"])\n",
        "  litsub = el[\"tot\"][\"value\"]"
      ]
    },
    {
      "cell_type": "code",
      "execution_count": null,
      "metadata": {
        "colab": {
          "base_uri": "https://localhost:8080/"
        },
        "id": "TzHafJWKOb6I",
        "outputId": "f57aa888-e8f6-4a87-dde2-b2aa58cbb2dd"
      },
      "outputs": [
        {
          "data": {
            "text/plain": [
              "1.0992217898832686"
            ]
          },
          "execution_count": 28,
          "metadata": {},
          "output_type": "execute_result"
        }
      ],
      "source": [
        "int(litsub)/int(litart)"
      ]
    },
    {
      "cell_type": "code",
      "execution_count": null,
      "metadata": {
        "id": "s6kjawidOgL8"
      },
      "outputs": [],
      "source": [
        ""
      ]
    },
    {
      "cell_type": "markdown",
      "metadata": {
        "id": "iDcUBhS8H3jH"
      },
      "source": [
        "## How many subject + artwork triples"
      ]
    },
    {
      "cell_type": "code",
      "execution_count": null,
      "metadata": {
        "colab": {
          "base_uri": "https://localhost:8080/"
        },
        "id": "JWKB2ZDuH8i-",
        "outputId": "d4413d8b-a479-4095-a3b2-920f188740c9"
      },
      "outputs": [
        {
          "name": "stdout",
          "output_type": "stream",
          "text": [
            "2281977\n"
          ]
        }
      ],
      "source": [
        "q = '''\n",
        "prefix dbo: <http://dbpedia.org/ontology/>\n",
        "prefix dct: <http://purl.org/dc/terms/>\n",
        "prefix dbp: <http://dbpedia.org/property/>\n",
        "select (count (?p) as ?tot) where \n",
        "\n",
        "{ \n",
        "  ?Concept a dbo:Artwork\n",
        "  {\n",
        "    ?Concept ?p ?o\n",
        "  }\n",
        "  UNION\n",
        "  { ?x ?p ?Concept}\n",
        "  UNION\n",
        "   { \n",
        "    ?Concept dbp:subject ?subject .\n",
        "    ?subject ?p ?o \n",
        "    } \n",
        "  UNION \n",
        "   { \n",
        "    ?Concept dct:subject ?subject .\n",
        "    ?subject ?p ?o\n",
        "    } \n",
        " }'''\n",
        "res = sparl_query_setting(q, dbpedia)\n",
        "for el in res[\"results\"][\"bindings\"]:\n",
        "  print(el[\"tot\"][\"value\"])\n",
        "  litsub = el[\"tot\"][\"value\"]"
      ]
    },
    {
      "cell_type": "markdown",
      "metadata": {
        "id": "nKtX2rqDrRLB"
      },
      "source": [
        "# EUROPEANA"
      ]
    },
    {
      "cell_type": "markdown",
      "metadata": {
        "id": "RQ_sZsHHx80e"
      },
      "source": [
        "sparql: http://sparql.europeana.eu/"
      ]
    },
    {
      "cell_type": "code",
      "execution_count": null,
      "metadata": {
        "id": "0qOMqKWprWRO"
      },
      "outputs": [],
      "source": [
        "euro = \"http://sparql.europeana.eu/\"\n"
      ]
    },
    {
      "cell_type": "code",
      "execution_count": null,
      "metadata": {
        "id": "i8trQJG5Mvvj"
      },
      "outputs": [],
      "source": [
        "narrowerthanvisualart = '''\n",
        "select  ?s ?label where {\n",
        "             ?s a <http://www.w3.org/2004/02/skos/core#Concept>;\n",
        " <http://www.w3.org/2004/02/skos/core#broader>* <http://vocab.getty.edu/aat/300191086>;\n",
        "skos:prefLabel ?label .\n",
        "FILTER(lang(?label) = 'en')\n",
        "}'''"
      ]
    },
    {
      "cell_type": "markdown",
      "metadata": {
        "id": "zGC6M8ZDrYl3"
      },
      "source": [
        "## How many visual artworks\n",
        "\n",
        "Notice that these queries refer to paintings and sculptures (object of analysis)\n"
      ]
    },
    {
      "cell_type": "code",
      "execution_count": 5,
      "metadata": {
        "colab": {
          "base_uri": "https://localhost:8080/"
        },
        "id": "TIfJEWKDyPqD",
        "outputId": "229049f4-3573-47e2-9434-895610ef2fda"
      },
      "outputs": [
        {
          "output_type": "stream",
          "name": "stdout",
          "text": [
            "13861\n"
          ]
        }
      ],
      "source": [
        "qeuro1 = '''\n",
        "select  (count(distinct ?CHO) as ?tot) where {\n",
        "             ?s a <http://www.w3.org/2004/02/skos/core#Concept> .\n",
        "?CHO dc:type ?s .\n",
        "{?s <http://www.w3.org/2004/02/skos/core#broader>* <http://vocab.getty.edu/aat/300033618> }\n",
        "UNION\n",
        "{?s <http://www.w3.org/2004/02/skos/core#broader>* <http://vocab.getty.edu/aat/300047090>}\n",
        "}'''\n",
        "reseuro1 = sparl_query_setting(qeuro1, euro)\n",
        "for el in reseuro1[\"results\"][\"bindings\"]:\n",
        "  print(el[\"tot\"][\"value\"])"
      ]
    },
    {
      "cell_type": "markdown",
      "metadata": {
        "id": "17G1COW6y3GI"
      },
      "source": [
        "## How many artwork triples"
      ]
    },
    {
      "cell_type": "code",
      "execution_count": 6,
      "metadata": {
        "colab": {
          "base_uri": "https://localhost:8080/"
        },
        "id": "wDSzNIX_ycSL",
        "outputId": "6e4b6f8d-b885-4cc7-d770-70a114541311"
      },
      "outputs": [
        {
          "output_type": "stream",
          "name": "stdout",
          "text": [
            "257137\n"
          ]
        }
      ],
      "source": [
        "qeuro2 = '''\n",
        "PREFIX ore: <http://www.openarchives.org/ore/terms/>\n",
        "PREFIX edm: <http://www.europeana.eu/schemas/edm/>\n",
        "\n",
        "select  (count(?p) as ?tot) where {\n",
        "             ?s a <http://www.w3.org/2004/02/skos/core#Concept> .\n",
        "{?s <http://www.w3.org/2004/02/skos/core#broader>* <http://vocab.getty.edu/aat/300033618> }\n",
        "UNION\n",
        "{?s <http://www.w3.org/2004/02/skos/core#broader>* <http://vocab.getty.edu/aat/300047090>}\n",
        "?CHO dc:type ?s ;\n",
        "?p ?o .\n",
        "}'''\n",
        "reseuro2 = sparl_query_setting(qeuro2, euro)\n",
        "for el in reseuro2[\"results\"][\"bindings\"]:\n",
        "  print(el[\"tot\"][\"value\"])"
      ]
    },
    {
      "cell_type": "markdown",
      "metadata": {
        "id": "C5xx-5cV1WTJ"
      },
      "source": [
        "## How many artworks have a subject (individual of a class)\n",
        "\n"
      ]
    },
    {
      "cell_type": "code",
      "execution_count": 7,
      "metadata": {
        "colab": {
          "base_uri": "https://localhost:8080/"
        },
        "id": "iA2NmWvD1ZIG",
        "outputId": "487f9366-58ec-41d6-cf72-383a4aaf9398"
      },
      "outputs": [
        {
          "output_type": "stream",
          "name": "stdout",
          "text": [
            "1292\n"
          ]
        }
      ],
      "source": [
        "qeuro3 = '''\n",
        "PREFIX ore: <http://www.openarchives.org/ore/terms/>\n",
        "PREFIX edm: <http://www.europeana.eu/schemas/edm/>\n",
        "select  (count(distinct ?CHO) as ?tot) where {\n",
        "             ?s a <http://www.w3.org/2004/02/skos/core#Concept> .\n",
        "?CHO dc:type ?s ;\n",
        "dc:subject ?sub .\n",
        "{?s <http://www.w3.org/2004/02/skos/core#broader>* <http://vocab.getty.edu/aat/300033618> }\n",
        "UNION\n",
        "{?s <http://www.w3.org/2004/02/skos/core#broader>* <http://vocab.getty.edu/aat/300047090>}\n",
        "FILTER (isURI(?sub))\n",
        "}'''\n",
        "reseuro3 = sparl_query_setting(qeuro3, euro)\n",
        "for el in reseuro3[\"results\"][\"bindings\"]:\n",
        "  print(el[\"tot\"][\"value\"])"
      ]
    },
    {
      "cell_type": "markdown",
      "metadata": {
        "id": "XXX2DQc-3jmA"
      },
      "source": [
        "## Average number of subject class per artwork"
      ]
    },
    {
      "cell_type": "code",
      "execution_count": 9,
      "metadata": {
        "id": "5cfu9gJG1teN"
      },
      "outputs": [],
      "source": [
        "artworkwithuri = 1292"
      ]
    },
    {
      "cell_type": "code",
      "source": [
        "artworkwithuri/13861"
      ],
      "metadata": {
        "colab": {
          "base_uri": "https://localhost:8080/"
        },
        "id": "Uk64yRDmciSH",
        "outputId": "bb76aded-78fc-442c-ba24-3c4a71ba1b3f"
      },
      "execution_count": 15,
      "outputs": [
        {
          "output_type": "execute_result",
          "data": {
            "text/plain": [
              "0.09321116802539499"
            ]
          },
          "metadata": {},
          "execution_count": 15
        }
      ]
    },
    {
      "cell_type": "code",
      "execution_count": 8,
      "metadata": {
        "colab": {
          "base_uri": "https://localhost:8080/"
        },
        "id": "K6Td6UL53qjn",
        "outputId": "3d600404-6a2c-415d-8d18-4aab09e11dc2"
      },
      "outputs": [
        {
          "output_type": "stream",
          "name": "stdout",
          "text": [
            "3075\n"
          ]
        }
      ],
      "source": [
        "qeuro4 = '''\n",
        "PREFIX ore: <http://www.openarchives.org/ore/terms/>\n",
        "PREFIX edm: <http://www.europeana.eu/schemas/edm/>\n",
        "\n",
        "select  (count(?sub) as ?tot) where {\n",
        "             ?s a <http://www.w3.org/2004/02/skos/core#Concept> .\n",
        "?CHO dc:type ?s ;\n",
        "dc:subject ?sub .\n",
        "{?s <http://www.w3.org/2004/02/skos/core#broader>* <http://vocab.getty.edu/aat/300033618> }\n",
        "UNION\n",
        "{?s <http://www.w3.org/2004/02/skos/core#broader>* <http://vocab.getty.edu/aat/300047090>}\n",
        "FILTER (isURI(?sub))\n",
        "}'''\n",
        "reseuro4 = sparl_query_setting(qeuro4, euro)\n",
        "for el in reseuro4[\"results\"][\"bindings\"]:\n",
        "  print(el[\"tot\"][\"value\"])"
      ]
    },
    {
      "cell_type": "code",
      "execution_count": 10,
      "metadata": {
        "colab": {
          "base_uri": "https://localhost:8080/"
        },
        "id": "2YVcdeX23uXo",
        "outputId": "9dbfafa5-26a1-493c-926d-dee0f838948f"
      },
      "outputs": [
        {
          "output_type": "execute_result",
          "data": {
            "text/plain": [
              "2.380030959752322"
            ]
          },
          "metadata": {},
          "execution_count": 10
        }
      ],
      "source": [
        "3075/artworkwithuri"
      ]
    },
    {
      "cell_type": "markdown",
      "metadata": {
        "id": "0TNawyYy8dXw"
      },
      "source": [
        "## How many artworks have a subject (literal)"
      ]
    },
    {
      "cell_type": "code",
      "execution_count": 12,
      "metadata": {
        "colab": {
          "base_uri": "https://localhost:8080/"
        },
        "id": "-ZPq89Fe34g_",
        "outputId": "3ac9d805-b3a8-4c09-d776-f9005b909acf"
      },
      "outputs": [
        {
          "output_type": "stream",
          "name": "stdout",
          "text": [
            "4696\n"
          ]
        }
      ],
      "source": [
        "qeuro5 = '''\n",
        "PREFIX ore: <http://www.openarchives.org/ore/terms/>\n",
        "PREFIX edm: <http://www.europeana.eu/schemas/edm/>\n",
        "\n",
        "select  (count(distinct ?CHO) as ?tot) where {\n",
        "             ?s a <http://www.w3.org/2004/02/skos/core#Concept> .\n",
        "?CHO dc:type ?s ;\n",
        "dc:subject ?sub .\n",
        "{?s <http://www.w3.org/2004/02/skos/core#broader>* <http://vocab.getty.edu/aat/300033618> }\n",
        "UNION\n",
        "{?s <http://www.w3.org/2004/02/skos/core#broader>* <http://vocab.getty.edu/aat/300047090>}\n",
        "FILTER (!isURI(?sub))\n",
        "}'''\n",
        "reseuro5 = sparl_query_setting(qeuro5, euro)\n",
        "for el in reseuro5[\"results\"][\"bindings\"]:\n",
        "  print(el[\"tot\"][\"value\"])"
      ]
    },
    {
      "cell_type": "code",
      "execution_count": 16,
      "metadata": {
        "id": "z27iDhng4VEV",
        "colab": {
          "base_uri": "https://localhost:8080/"
        },
        "outputId": "75528dfe-25b9-44cb-a276-7c7a97cfabc8"
      },
      "outputs": [
        {
          "output_type": "execute_result",
          "data": {
            "text/plain": [
              "0.33879229492821583"
            ]
          },
          "metadata": {},
          "execution_count": 16
        }
      ],
      "source": [
        "artworkswithliteral = 4696\n",
        "artworkswithliteral/13861\n"
      ]
    },
    {
      "cell_type": "markdown",
      "metadata": {
        "id": "gTPXWSqfB8D_"
      },
      "source": [
        "## Average number of subject (literal) per artwork"
      ]
    },
    {
      "cell_type": "code",
      "execution_count": 11,
      "metadata": {
        "colab": {
          "base_uri": "https://localhost:8080/"
        },
        "id": "hAPmdeHq8lN4",
        "outputId": "293d792d-bae2-426d-e365-3cdbce0dca3c"
      },
      "outputs": [
        {
          "output_type": "stream",
          "name": "stdout",
          "text": [
            "7713\n"
          ]
        }
      ],
      "source": [
        "qeuro6 = '''\n",
        "PREFIX ore: <http://www.openarchives.org/ore/terms/>\n",
        "PREFIX edm: <http://www.europeana.eu/schemas/edm/>\n",
        "\n",
        "select  (count(?sub) as ?tot) where {\n",
        "             ?s a <http://www.w3.org/2004/02/skos/core#Concept> .\n",
        "?CHO dc:type ?s ;\n",
        "dc:subject ?sub .\n",
        "{?s <http://www.w3.org/2004/02/skos/core#broader>* <http://vocab.getty.edu/aat/300033618> }\n",
        "UNION\n",
        "{?s <http://www.w3.org/2004/02/skos/core#broader>* <http://vocab.getty.edu/aat/300047090>}\n",
        "FILTER (!isURI(?sub))\n",
        "}'''\n",
        "reseuro6 = sparl_query_setting(qeuro6, euro)\n",
        "for el in reseuro6[\"results\"][\"bindings\"]:\n",
        "  print(el[\"tot\"][\"value\"])"
      ]
    },
    {
      "cell_type": "code",
      "execution_count": 14,
      "metadata": {
        "colab": {
          "base_uri": "https://localhost:8080/"
        },
        "id": "LP2n1jiL8s46",
        "outputId": "08a315b8-da71-4693-9f36-fa9bbb8013cd"
      },
      "outputs": [
        {
          "output_type": "execute_result",
          "data": {
            "text/plain": [
              "1.6424616695059626"
            ]
          },
          "metadata": {},
          "execution_count": 14
        }
      ],
      "source": [
        "7713/artworkswithliteral"
      ]
    },
    {
      "cell_type": "code",
      "execution_count": null,
      "metadata": {
        "id": "aDR5zrI-80Um"
      },
      "outputs": [],
      "source": [
        ""
      ]
    },
    {
      "cell_type": "markdown",
      "metadata": {
        "id": "C4sgR6lw_OyT"
      },
      "source": [
        "# YAGO"
      ]
    },
    {
      "cell_type": "code",
      "execution_count": null,
      "metadata": {
        "id": "DGuTz6gq_QRP"
      },
      "outputs": [],
      "source": [
        ""
      ]
    },
    {
      "cell_type": "markdown",
      "metadata": {
        "id": "IADAwqfo_SVa"
      },
      "source": [
        "sparql = https://yago-knowledge.org/sparql\n",
        "\n",
        "browser = https://yago-knowledge.org/graph/"
      ]
    },
    {
      "cell_type": "code",
      "execution_count": null,
      "metadata": {
        "id": "T6YcokGE_vK4"
      },
      "outputs": [],
      "source": [
        ""
      ]
    },
    {
      "cell_type": "markdown",
      "metadata": {
        "id": "0UZOBJim_w3Z"
      },
      "source": [
        "## How many artworks"
      ]
    },
    {
      "cell_type": "code",
      "execution_count": 17,
      "metadata": {
        "colab": {
          "base_uri": "https://localhost:8080/"
        },
        "id": "38hNxa2a_yXh",
        "outputId": "465e0551-7dd5-4823-a93d-733633508b41"
      },
      "outputs": [
        {
          "output_type": "stream",
          "name": "stdout",
          "text": [
            "29324\n"
          ]
        }
      ],
      "source": [
        "qy1 = '''\n",
        "PREFIX rdf: <http://www.w3.org/1999/02/22-rdf-syntax-ns#>\n",
        "PREFIX rdfs: <http://www.w3.org/2000/01/rdf-schema#>\n",
        "PREFIX schema: <http://schema.org/>\n",
        "\n",
        "SELECT (count(distinct ?artwork) as ?tot)\n",
        "WHERE {\n",
        "  VALUES ?art {schema:Painting schema:Sculpture}\n",
        "  ?artwork rdf:type ?art\n",
        "}'''\n",
        "ry1 = sparl_query_setting(qy1, yago)\n",
        "for el in ry1[\"results\"][\"bindings\"]:\n",
        "  print(el[\"tot\"][\"value\"])"
      ]
    },
    {
      "cell_type": "code",
      "execution_count": null,
      "metadata": {
        "id": "jpB_C2LrAVgo"
      },
      "outputs": [],
      "source": [
        ""
      ]
    },
    {
      "cell_type": "markdown",
      "metadata": {
        "id": "laN5EhuLAhws"
      },
      "source": [
        "## How many artwork triples"
      ]
    },
    {
      "cell_type": "code",
      "execution_count": 18,
      "metadata": {
        "colab": {
          "base_uri": "https://localhost:8080/"
        },
        "id": "7TJfPbmrAkWt",
        "outputId": "f50f8a12-a0cb-4ce2-f423-84f83c6c6a86"
      },
      "outputs": [
        {
          "output_type": "stream",
          "name": "stdout",
          "text": [
            "621727\n"
          ]
        }
      ],
      "source": [
        "qy2 = '''\n",
        "PREFIX rdf: <http://www.w3.org/1999/02/22-rdf-syntax-ns#>\n",
        "PREFIX rdfs: <http://www.w3.org/2000/01/rdf-schema#>\n",
        "PREFIX schema: <http://schema.org/>\n",
        "\n",
        "SELECT (count(?o) as ?tot)\n",
        "WHERE {\n",
        "  VALUES ?art {schema:Painting schema:Sculpture}\n",
        "  ?artwork rdf:type ?art ;\n",
        "  ?p ?o .\n",
        "}'''\n",
        "ry2 = sparl_query_setting(qy2, yago)\n",
        "for el in ry2[\"results\"][\"bindings\"]:\n",
        "  print(el[\"tot\"][\"value\"])"
      ]
    },
    {
      "cell_type": "code",
      "execution_count": null,
      "metadata": {
        "id": "QQ0svnk3Atp3"
      },
      "outputs": [],
      "source": [
        ""
      ]
    },
    {
      "cell_type": "markdown",
      "metadata": {
        "id": "Ue2eVtazBVAg"
      },
      "source": [
        "## How many artwork have a subject (individual of a class)"
      ]
    },
    {
      "cell_type": "code",
      "execution_count": 19,
      "metadata": {
        "colab": {
          "base_uri": "https://localhost:8080/"
        },
        "id": "GZBls-8OBYR4",
        "outputId": "965a8440-8f96-4b66-d098-5e23c25fc949"
      },
      "outputs": [
        {
          "output_type": "stream",
          "name": "stdout",
          "text": [
            "3736\n"
          ]
        }
      ],
      "source": [
        "qy3 = '''\n",
        "PREFIX rdf: <http://www.w3.org/1999/02/22-rdf-syntax-ns#>\n",
        "PREFIX rdfs: <http://www.w3.org/2000/01/rdf-schema#>\n",
        "PREFIX schema: <http://schema.org/>\n",
        "\n",
        "SELECT (count(distinct ?artwork) as ?tot)\n",
        "WHERE {\n",
        "  VALUES ?art {schema:Painting schema:Sculpture}\n",
        "  ?artwork rdf:type ?art ;\n",
        "  schema:about ?sub \n",
        "  FILTER (isURI(?sub))\n",
        "}'''\n",
        "ry3 = sparl_query_setting(qy3, yago)\n",
        "for el in ry3[\"results\"][\"bindings\"]:\n",
        "  print(el[\"tot\"][\"value\"])"
      ]
    },
    {
      "cell_type": "code",
      "execution_count": 23,
      "metadata": {
        "id": "8i8RWLEgBlHr"
      },
      "outputs": [],
      "source": [
        "artworkwithsub = 3736"
      ]
    },
    {
      "cell_type": "code",
      "execution_count": 20,
      "metadata": {
        "id": "KdNLsydXB17e",
        "colab": {
          "base_uri": "https://localhost:8080/"
        },
        "outputId": "b91bde6f-3aef-4aa6-ea54-be213da86af8"
      },
      "outputs": [
        {
          "output_type": "execute_result",
          "data": {
            "text/plain": [
              "0.12740417405538126"
            ]
          },
          "metadata": {},
          "execution_count": 20
        }
      ],
      "source": [
        "3736/29324"
      ]
    },
    {
      "cell_type": "markdown",
      "metadata": {
        "id": "uuJxDOiJCEk7"
      },
      "source": [
        "## Average number of subjects (individual) per artwork"
      ]
    },
    {
      "cell_type": "code",
      "execution_count": 21,
      "metadata": {
        "colab": {
          "base_uri": "https://localhost:8080/"
        },
        "id": "C1pEEBaSCJpu",
        "outputId": "b541d8bb-3cbf-47f8-d6df-403289fdbeaa"
      },
      "outputs": [
        {
          "output_type": "stream",
          "name": "stdout",
          "text": [
            "3815\n"
          ]
        }
      ],
      "source": [
        "qy4 = '''\n",
        "PREFIX rdf: <http://www.w3.org/1999/02/22-rdf-syntax-ns#>\n",
        "PREFIX rdfs: <http://www.w3.org/2000/01/rdf-schema#>\n",
        "PREFIX schema: <http://schema.org/>\n",
        "\n",
        "SELECT (count(?sub) as ?tot)\n",
        "WHERE {\n",
        "  VALUES ?art {schema:Painting schema:Sculpture}\n",
        "  ?artwork rdf:type ?art ;\n",
        "  schema:about ?sub \n",
        "  FILTER (isURI(?sub))\n",
        "}'''\n",
        "ry4 = sparl_query_setting(qy4, yago)\n",
        "for el in ry4[\"results\"][\"bindings\"]:\n",
        "  print(el[\"tot\"][\"value\"])"
      ]
    },
    {
      "cell_type": "code",
      "execution_count": 24,
      "metadata": {
        "colab": {
          "base_uri": "https://localhost:8080/"
        },
        "id": "ULZxYsSrCPxe",
        "outputId": "899be4a1-6061-418c-bf04-81c36f66bed7"
      },
      "outputs": [
        {
          "output_type": "execute_result",
          "data": {
            "text/plain": [
              "1.0211456102783727"
            ]
          },
          "metadata": {},
          "execution_count": 24
        }
      ],
      "source": [
        "3815/artworkwithsub"
      ]
    },
    {
      "cell_type": "code",
      "execution_count": null,
      "metadata": {
        "id": "iWyiBn71CSnc"
      },
      "outputs": [],
      "source": [
        ""
      ]
    },
    {
      "cell_type": "markdown",
      "metadata": {
        "id": "4r7gF4-FCWSV"
      },
      "source": [
        "## How many artwork have a subject (literal)"
      ]
    },
    {
      "cell_type": "code",
      "execution_count": null,
      "metadata": {
        "colab": {
          "base_uri": "https://localhost:8080/"
        },
        "id": "nmhcUUrhCYfB",
        "outputId": "5dc67c3f-9284-4f27-89d2-b2c116c08a1b"
      },
      "outputs": [
        {
          "name": "stdout",
          "output_type": "stream",
          "text": [
            "0\n"
          ]
        }
      ],
      "source": [
        "qy5 = '''\n",
        "PREFIX rdf: <http://www.w3.org/1999/02/22-rdf-syntax-ns#>\n",
        "PREFIX rdfs: <http://www.w3.org/2000/01/rdf-schema#>\n",
        "PREFIX schema: <http://schema.org/>\n",
        "\n",
        "SELECT (count(distinct ?artwork) as ?tot)\n",
        "WHERE {\n",
        "  VALUES ?art {schema:Painting schema:VisualArtwork schema:Sculpture schema:Drawing schema:Photograph}\n",
        "  ?artwork rdf:type ?art ;\n",
        "  schema:about ?sub\n",
        "  FILTER (!isURI(?sub))\n",
        "}'''\n",
        "ry5 = sparl_query_setting(qy5, yago)\n",
        "for el in ry5[\"results\"][\"bindings\"]:\n",
        "  print(el[\"tot\"][\"value\"])"
      ]
    },
    {
      "cell_type": "code",
      "execution_count": null,
      "metadata": {
        "id": "QpzCbVjFChgl"
      },
      "outputs": [],
      "source": [
        ""
      ]
    },
    {
      "cell_type": "markdown",
      "metadata": {
        "id": "XdPxVMvrNrSZ"
      },
      "source": [
        "## How many subject + artwork triples"
      ]
    },
    {
      "cell_type": "code",
      "execution_count": null,
      "metadata": {
        "colab": {
          "base_uri": "https://localhost:8080/"
        },
        "id": "be0bJnw4NtrK",
        "outputId": "24176864-c230-448e-fd85-6c744d8dd9b9"
      },
      "outputs": [
        {
          "name": "stdout",
          "output_type": "stream",
          "text": [
            "1522517\n"
          ]
        }
      ],
      "source": [
        "qy6 = '''\n",
        "PREFIX rdf: <http://www.w3.org/1999/02/22-rdf-syntax-ns#>\n",
        "PREFIX rdfs: <http://www.w3.org/2000/01/rdf-schema#>\n",
        "PREFIX schema: <http://schema.org/>\n",
        "\n",
        "SELECT (count(?p) as ?tot)\n",
        "WHERE {\n",
        "  VALUES ?art {schema:Painting schema:VisualArtwork schema:Sculpture schema:Drawing schema:Photograph}\n",
        "  ?artwork rdf:type ?art {\n",
        "  ?artwork ?p ?o }\n",
        "  UNION {\n",
        "  ?artwork schema:about ?sub .\n",
        "  ?sub ?p ?o\n",
        "  }\n",
        "}'''\n",
        "ry6 = sparl_query_setting(qy6, yago)\n",
        "for el in ry6[\"results\"][\"bindings\"]:\n",
        "  print(el[\"tot\"][\"value\"])"
      ]
    },
    {
      "cell_type": "code",
      "execution_count": null,
      "metadata": {
        "id": "hZvcbeT-ODd3"
      },
      "outputs": [],
      "source": [
        ""
      ]
    },
    {
      "cell_type": "markdown",
      "metadata": {
        "id": "JHXCiVOQRVk9"
      },
      "source": [
        "# MUSEUM FINLAND\n",
        "\n",
        "sparql = http://ldf.fi/mufi/sparql"
      ]
    },
    {
      "cell_type": "markdown",
      "metadata": {
        "id": "uTnU7LBOXXjc"
      },
      "source": [
        ""
      ]
    },
    {
      "cell_type": "code",
      "execution_count": null,
      "metadata": {
        "id": "G7b65w_IRYuU"
      },
      "outputs": [],
      "source": [
        "finland = \"http://ldf.fi/mufi/sparql\""
      ]
    },
    {
      "cell_type": "code",
      "execution_count": null,
      "metadata": {
        "id": "GK0J8N2wf_Od"
      },
      "outputs": [],
      "source": [
        ""
      ]
    },
    {
      "cell_type": "markdown",
      "metadata": {
        "id": "blQ7fyyMISHz"
      },
      "source": [
        "## How many artworks"
      ]
    },
    {
      "cell_type": "code",
      "execution_count": null,
      "metadata": {
        "colab": {
          "base_uri": "https://localhost:8080/"
        },
        "id": "mUyvAPDMIU4Q",
        "outputId": "18fef3b1-cc89-48ff-c4c6-de357203644d"
      },
      "outputs": [
        {
          "name": "stdout",
          "output_type": "stream",
          "text": [
            "176\n"
          ]
        }
      ],
      "source": [
        "qf = '''PREFIX rdf: <http://www.w3.org/1999/02/22-rdf-syntax-ns#>\n",
        "PREFIX rdfs: <http://www.w3.org/2000/01/rdf-schema#>\n",
        "PREFIX fin: <http://www.cs.helsinki.fi/group/seco/ns/2004/03/18-esinekortti#>\n",
        "PREFIX mao: <http://www.yso.fi/onto/mao/>\n",
        "SELECT (count(distinct ?sub) as ?tot) WHERE {\n",
        "  ?sub a fin:Esinekortti;\n",
        "  \tfin:tekniikka mao:maalaus\n",
        "} '''\n",
        "\n",
        "rf1 = sparl_query_setting(qf, finland)\n",
        "for el in rf1[\"results\"][\"bindings\"]:\n",
        "  print(el[\"tot\"][\"value\"])"
      ]
    },
    {
      "cell_type": "code",
      "execution_count": null,
      "metadata": {
        "id": "nGVb0p3eIe30"
      },
      "outputs": [],
      "source": [
        ""
      ]
    },
    {
      "cell_type": "markdown",
      "metadata": {
        "id": "vXHQcM0sLMzR"
      },
      "source": [
        "## How many artworks triples"
      ]
    },
    {
      "cell_type": "code",
      "execution_count": null,
      "metadata": {
        "colab": {
          "base_uri": "https://localhost:8080/"
        },
        "id": "AafF-ffwLOjX",
        "outputId": "f51ea8da-e964-4463-e0d0-3f9fbc6a842e"
      },
      "outputs": [
        {
          "name": "stdout",
          "output_type": "stream",
          "text": [
            "5384\n"
          ]
        }
      ],
      "source": [
        "qf2 = '''PREFIX rdf: <http://www.w3.org/1999/02/22-rdf-syntax-ns#>\n",
        "PREFIX rdfs: <http://www.w3.org/2000/01/rdf-schema#>\n",
        "PREFIX fin: <http://www.cs.helsinki.fi/group/seco/ns/2004/03/18-esinekortti#>\n",
        "PREFIX mao: <http://www.yso.fi/onto/mao/>\n",
        "SELECT (count(?o) as ?tot) WHERE {\n",
        "  ?sub a fin:Esinekortti;\n",
        "  \tfin:tekniikka mao:maalaus;\n",
        "    ?p ?o .\n",
        "} '''\n",
        "\n",
        "rf2 = sparl_query_setting(qf2, finland)\n",
        "for el in rf2[\"results\"][\"bindings\"]:\n",
        "  print(el[\"tot\"][\"value\"])"
      ]
    },
    {
      "cell_type": "code",
      "execution_count": null,
      "metadata": {
        "id": "gT8jKssxLZEa"
      },
      "outputs": [],
      "source": [
        ""
      ]
    },
    {
      "cell_type": "markdown",
      "metadata": {
        "id": "RxnxvhSvMyP3"
      },
      "source": [
        "## How many artworks have a subject (individual of a class)"
      ]
    },
    {
      "cell_type": "code",
      "execution_count": null,
      "metadata": {
        "colab": {
          "base_uri": "https://localhost:8080/"
        },
        "id": "tNDn7rasMzsH",
        "outputId": "1a78b84a-791b-485d-8576-60e637b4d738"
      },
      "outputs": [
        {
          "name": "stdout",
          "output_type": "stream",
          "text": [
            "170\n"
          ]
        }
      ],
      "source": [
        "qf3 = '''PREFIX rdf: <http://www.w3.org/1999/02/22-rdf-syntax-ns#>\n",
        "PREFIX rdfs: <http://www.w3.org/2000/01/rdf-schema#>\n",
        "PREFIX fin: <http://www.cs.helsinki.fi/group/seco/ns/2004/03/18-esinekortti#>\n",
        "PREFIX mao: <http://www.yso.fi/onto/mao/>\n",
        "SELECT (count(distinct ?sub) as ?tot) WHERE {\n",
        "  ?sub a fin:Esinekortti;\n",
        "  \tfin:tekniikka mao:maalaus;\n",
        "    fin:asiasana ?subject .\n",
        "    FILTER (isURI(?subject))\n",
        "} '''\n",
        "\n",
        "rf3 = sparl_query_setting(qf3, finland)\n",
        "for el in rf3[\"results\"][\"bindings\"]:\n",
        "  print(el[\"tot\"][\"value\"])"
      ]
    },
    {
      "cell_type": "code",
      "execution_count": null,
      "metadata": {
        "id": "SjFW0_0SNDtB"
      },
      "outputs": [],
      "source": [
        "artworkwithsuburif = 170"
      ]
    },
    {
      "cell_type": "code",
      "execution_count": null,
      "metadata": {
        "id": "3ZI5k-0WNS1_"
      },
      "outputs": [],
      "source": [
        ""
      ]
    },
    {
      "cell_type": "markdown",
      "metadata": {
        "id": "t9Z6u9AXNVJb"
      },
      "source": [
        "## Average number of subjects (individual of a class) per artwork"
      ]
    },
    {
      "cell_type": "code",
      "execution_count": null,
      "metadata": {
        "colab": {
          "base_uri": "https://localhost:8080/"
        },
        "id": "rNmp-OtnNawG",
        "outputId": "2a614e25-8c45-417b-ef6d-ac798ca497a1"
      },
      "outputs": [
        {
          "name": "stdout",
          "output_type": "stream",
          "text": [
            "252\n"
          ]
        }
      ],
      "source": [
        "qf4 = '''PREFIX rdf: <http://www.w3.org/1999/02/22-rdf-syntax-ns#>\n",
        "PREFIX rdfs: <http://www.w3.org/2000/01/rdf-schema#>\n",
        "PREFIX fin: <http://www.cs.helsinki.fi/group/seco/ns/2004/03/18-esinekortti#>\n",
        "PREFIX mao: <http://www.yso.fi/onto/mao/>\n",
        "SELECT (count(?subject) as ?tot) WHERE {\n",
        "  ?sub a fin:Esinekortti;\n",
        "  \tfin:tekniikka mao:maalaus;\n",
        "    fin:asiasana ?subject .\n",
        "    FILTER (isURI(?subject))\n",
        "} '''\n",
        "\n",
        "rf4 = sparl_query_setting(qf4, finland)\n",
        "for el in rf4[\"results\"][\"bindings\"]:\n",
        "  print(el[\"tot\"][\"value\"])"
      ]
    },
    {
      "cell_type": "code",
      "execution_count": null,
      "metadata": {
        "colab": {
          "base_uri": "https://localhost:8080/"
        },
        "id": "3vv_Xt4MNl7Q",
        "outputId": "2cc6b6ef-5a1a-41fe-fc7e-650aae43e3e7"
      },
      "outputs": [
        {
          "data": {
            "text/plain": [
              "1.4823529411764707"
            ]
          },
          "execution_count": 11,
          "metadata": {},
          "output_type": "execute_result"
        }
      ],
      "source": [
        "252/artworkwithsuburif "
      ]
    },
    {
      "cell_type": "code",
      "execution_count": null,
      "metadata": {
        "id": "8p60DBfkN5Fz"
      },
      "outputs": [],
      "source": [
        ""
      ]
    },
    {
      "cell_type": "markdown",
      "metadata": {
        "id": "Qa_hKj9tO6Yp"
      },
      "source": [
        "## How many artworks have a subject (literal)"
      ]
    },
    {
      "cell_type": "code",
      "execution_count": null,
      "metadata": {
        "colab": {
          "base_uri": "https://localhost:8080/"
        },
        "id": "Mq6-2idLPACc",
        "outputId": "d4df0807-0717-403b-9c9e-979edd86f2c6"
      },
      "outputs": [
        {
          "name": "stdout",
          "output_type": "stream",
          "text": [
            "171\n"
          ]
        }
      ],
      "source": [
        "qf5 = '''PREFIX rdf: <http://www.w3.org/1999/02/22-rdf-syntax-ns#>\n",
        "PREFIX rdfs: <http://www.w3.org/2000/01/rdf-schema#>\n",
        "PREFIX fin: <http://www.cs.helsinki.fi/group/seco/ns/2004/03/18-esinekortti#>\n",
        "PREFIX mao: <http://www.yso.fi/onto/mao/>\n",
        "SELECT (count(distinct ?sub) as ?tot) WHERE {\n",
        "  ?sub a fin:Esinekortti;\n",
        "  \tfin:tekniikka mao:maalaus;\n",
        "    fin:www_asiasana ?subject .\n",
        "    FILTER (!isURI(?subject))\n",
        "} '''\n",
        "\n",
        "rf5 = sparl_query_setting(qf5, finland)\n",
        "for el in rf5[\"results\"][\"bindings\"]:\n",
        "  print(el[\"tot\"][\"value\"])"
      ]
    },
    {
      "cell_type": "code",
      "execution_count": null,
      "metadata": {
        "id": "uDqQKwc3PLM5"
      },
      "outputs": [],
      "source": [
        "artworkswithsublitf = 171"
      ]
    },
    {
      "cell_type": "code",
      "execution_count": null,
      "metadata": {
        "id": "HlLam46PP-Ee"
      },
      "outputs": [],
      "source": [
        ""
      ]
    },
    {
      "cell_type": "markdown",
      "metadata": {
        "id": "JjsdY1YvQCAd"
      },
      "source": [
        "## Average number of subjects (literal) per artwork (not splitting)"
      ]
    },
    {
      "cell_type": "code",
      "execution_count": null,
      "metadata": {
        "colab": {
          "base_uri": "https://localhost:8080/"
        },
        "id": "npToPTzWQHsF",
        "outputId": "b22a6092-5c87-4415-ebc0-109d0cb12ef8"
      },
      "outputs": [
        {
          "name": "stdout",
          "output_type": "stream",
          "text": [
            "171\n"
          ]
        }
      ],
      "source": [
        "qf6 = '''PREFIX rdf: <http://www.w3.org/1999/02/22-rdf-syntax-ns#>\n",
        "PREFIX rdfs: <http://www.w3.org/2000/01/rdf-schema#>\n",
        "PREFIX fin: <http://www.cs.helsinki.fi/group/seco/ns/2004/03/18-esinekortti#>\n",
        "PREFIX mao: <http://www.yso.fi/onto/mao/>\n",
        "SELECT (count(?subject) as ?tot) WHERE {\n",
        "  ?sub a fin:Esinekortti;\n",
        "  \tfin:tekniikka mao:maalaus;\n",
        "    fin:www_asiasana ?subject .\n",
        "    FILTER (!isURI(?subject))\n",
        "} '''\n",
        "\n",
        "rf6 = sparl_query_setting(qf6, finland)\n",
        "for el in rf6[\"results\"][\"bindings\"]:\n",
        "  print(el[\"tot\"][\"value\"])"
      ]
    },
    {
      "cell_type": "code",
      "execution_count": null,
      "metadata": {
        "colab": {
          "base_uri": "https://localhost:8080/"
        },
        "id": "-eMnkok9QM0K",
        "outputId": "53b50f71-fd99-451a-86c5-dcab4508dd29"
      },
      "outputs": [
        {
          "data": {
            "text/plain": [
              "1.0"
            ]
          },
          "execution_count": 16,
          "metadata": {},
          "output_type": "execute_result"
        }
      ],
      "source": [
        "171/artworkswithsublitf"
      ]
    },
    {
      "cell_type": "markdown",
      "metadata": {
        "id": "El5Jfz_jQ1AT"
      },
      "source": [
        "Average number of subject (literal) per artwork (splitting)"
      ]
    },
    {
      "cell_type": "code",
      "execution_count": null,
      "metadata": {
        "id": "MAzwGA1dQYdU"
      },
      "outputs": [],
      "source": [
        "qf7 = '''PREFIX rdf: <http://www.w3.org/1999/02/22-rdf-syntax-ns#>\n",
        "PREFIX rdfs: <http://www.w3.org/2000/01/rdf-schema#>\n",
        "PREFIX fin: <http://www.cs.helsinki.fi/group/seco/ns/2004/03/18-esinekortti#>\n",
        "PREFIX mao: <http://www.yso.fi/onto/mao/>\n",
        "SELECT ?subject WHERE {\n",
        "  ?sub a fin:Esinekortti;\n",
        "  \tfin:tekniikka mao:maalaus;\n",
        "    fin:www_asiasana ?subject .\n",
        "    FILTER (!isURI(?subject))\n",
        "} '''\n",
        "subjects = []\n",
        "rf7 = sparl_query_setting(qf7, finland)\n",
        "for el in rf7[\"results\"][\"bindings\"]:\n",
        "  subjects.append(el[\"subject\"][\"value\"])\n",
        "\n"
      ]
    },
    {
      "cell_type": "code",
      "execution_count": null,
      "metadata": {
        "id": "xv9fKjP7RPFv"
      },
      "outputs": [],
      "source": [
        "splittedsubj = []\n",
        "for sub in subjects:\n",
        "  sub = sub.split(\",\")\n",
        "  splittedsubj.extend(sub)"
      ]
    },
    {
      "cell_type": "code",
      "execution_count": null,
      "metadata": {
        "colab": {
          "base_uri": "https://localhost:8080/"
        },
        "id": "4icFcQgTRaw2",
        "outputId": "2ac9fb4a-9368-4e6a-c51e-32aef4a00dfb"
      },
      "outputs": [
        {
          "data": {
            "text/plain": [
              "287"
            ]
          },
          "execution_count": 20,
          "metadata": {},
          "output_type": "execute_result"
        }
      ],
      "source": [
        "len(splittedsubj)"
      ]
    },
    {
      "cell_type": "code",
      "execution_count": null,
      "metadata": {
        "colab": {
          "base_uri": "https://localhost:8080/"
        },
        "id": "0yjiHcN2RdL7",
        "outputId": "4fdaebc1-0b2e-4cbd-f512-02ccf1c13afc"
      },
      "outputs": [
        {
          "data": {
            "text/plain": [
              "1.6783625730994152"
            ]
          },
          "execution_count": 21,
          "metadata": {},
          "output_type": "execute_result"
        }
      ],
      "source": [
        "287/artworkswithsublitf"
      ]
    },
    {
      "cell_type": "code",
      "execution_count": null,
      "metadata": {
        "id": "M3weIgs4Rs6H"
      },
      "outputs": [],
      "source": [
        ""
      ]
    },
    {
      "cell_type": "markdown",
      "metadata": {
        "id": "08AbuH6gSA5H"
      },
      "source": [
        "## How many subject + artwork triples"
      ]
    },
    {
      "cell_type": "code",
      "execution_count": null,
      "metadata": {
        "colab": {
          "base_uri": "https://localhost:8080/"
        },
        "id": "yAj2NPkPSFv2",
        "outputId": "f90a218b-3462-4da3-9452-51bbac58c61b"
      },
      "outputs": [
        {
          "name": "stdout",
          "output_type": "stream",
          "text": [
            "5629\n"
          ]
        }
      ],
      "source": [
        "qf8 = '''PREFIX rdf: <http://www.w3.org/1999/02/22-rdf-syntax-ns#>\n",
        "PREFIX rdfs: <http://www.w3.org/2000/01/rdf-schema#>\n",
        "PREFIX fin: <http://www.cs.helsinki.fi/group/seco/ns/2004/03/18-esinekortti#>\n",
        "PREFIX mao: <http://www.yso.fi/onto/mao/>\n",
        "SELECT (count(?p) as ?tot) WHERE {\n",
        "  ?sub a fin:Esinekortti;\n",
        "  \tfin:tekniikka mao:maalaus .\n",
        "    \n",
        "    {?sub ?p ?o} UNION\n",
        "    { ?sub fin:asiasana ?subject .\n",
        "    ?subject ?p ?o\n",
        "    FILTER (isURI(?subject))\n",
        "      } UNION\n",
        "    {?x ?p ?sub}\n",
        "} '''\n",
        "rf8 = sparl_query_setting(qf8, finland)\n",
        "for el in rf8[\"results\"][\"bindings\"]:\n",
        "  print(el[\"tot\"][\"value\"])"
      ]
    },
    {
      "cell_type": "markdown",
      "metadata": {
        "id": "2uDpc2llUKjn"
      },
      "source": [
        "# ARCO"
      ]
    },
    {
      "cell_type": "markdown",
      "metadata": {
        "id": "Uvu65YQDcj-4"
      },
      "source": [
        "## How many artworks"
      ]
    },
    {
      "cell_type": "code",
      "execution_count": null,
      "metadata": {
        "colab": {
          "base_uri": "https://localhost:8080/"
        },
        "id": "uLUW8Z0d2qHC",
        "outputId": "79255a95-26c9-486d-c467-37ef88d84979"
      },
      "outputs": [
        {
          "name": "stdout",
          "output_type": "stream",
          "text": [
            "2111726\n"
          ]
        }
      ],
      "source": [
        "arco_query = \"\"\"\n",
        "\n",
        "PREFIX rdf: <http://www.w3.org/1999/02/22-rdf-syntax-ns#>\n",
        "PREFIX rdfs: <http://www.w3.org/2000/01/rdf-schema#>\n",
        "PREFIX arco-cd: <https://w3id.org/arco/ontology/context-description/>\n",
        "PREFIX arco: <https://w3id.org/arco/ontology/arco/>\n",
        "\n",
        "SELECT (count (distinct ?s) as ?tot) \n",
        "WHERE {\n",
        "?s a arco:HistoricOrArtisticProperty.\n",
        "}\n",
        "\"\"\"\n",
        "\n",
        "\n",
        "\n",
        "res = sparl_query_setting(arco_query, arco_endpoint)\n",
        "\n",
        "# manipulate the result\n",
        "for result in res[\"results\"][\"bindings\"]:\n",
        "    print(result[\"tot\"][\"value\"])"
      ]
    },
    {
      "cell_type": "markdown",
      "metadata": {
        "id": "zTKd-O9Kc0Ob"
      },
      "source": [
        "## How many subject + artwork triples"
      ]
    },
    {
      "cell_type": "markdown",
      "metadata": {
        "id": "AzbD5SvceIbA"
      },
      "source": [
        "How many triples about artworks"
      ]
    },
    {
      "cell_type": "code",
      "execution_count": null,
      "metadata": {
        "colab": {
          "base_uri": "https://localhost:8080/"
        },
        "id": "CmKijVU-3QAt",
        "outputId": "83db3ea1-fd1d-4f1f-ee0c-6aa1c50d5931"
      },
      "outputs": [
        {
          "name": "stdout",
          "output_type": "stream",
          "text": [
            "125053178\n"
          ]
        }
      ],
      "source": [
        "arco_query = \"\"\"\n",
        "\n",
        "PREFIX rdf: <http://www.w3.org/1999/02/22-rdf-syntax-ns#>\n",
        "PREFIX rdfs: <http://www.w3.org/2000/01/rdf-schema#>\n",
        "PREFIX arco-cd: <https://w3id.org/arco/ontology/context-description/>\n",
        "PREFIX arco: <https://w3id.org/arco/ontology/arco/>\n",
        "\n",
        "SELECT (count (?rel) as ?tot) \n",
        "WHERE {\n",
        "?s a arco:HistoricOrArtisticProperty.\n",
        "{?s ?rel ?o} UNION {?o ?rel ?s}\n",
        "}\n",
        "\"\"\"\n",
        "\n",
        "\n",
        "\n",
        "res = sparl_query_setting(arco_query, arco2_endpoint)\n",
        "\n",
        "# manipulate the result\n",
        "for result in res[\"results\"][\"bindings\"]:\n",
        "    print(result[\"tot\"][\"value\"])"
      ]
    },
    {
      "cell_type": "markdown",
      "metadata": {
        "id": "hgpZCFOSeLgJ"
      },
      "source": [
        "How many triples about subjects"
      ]
    },
    {
      "cell_type": "code",
      "execution_count": null,
      "metadata": {
        "colab": {
          "base_uri": "https://localhost:8080/"
        },
        "id": "0-UkV6A44FoR",
        "outputId": "304d2a03-b49f-4aed-8207-880faacae243"
      },
      "outputs": [
        {
          "name": "stdout",
          "output_type": "stream",
          "text": [
            "4338772\n"
          ]
        }
      ],
      "source": [
        "subj_values = \"<https://w3id.org/arco/ontology/context-description/Subject> <https://w3id.org/arco/ontology/denotative-description/IconographicOrDecorativeApparatus> <https://w3id.org/arco/ontology/denotative-description/DecorativeApparatus>  <https://w3id.org/arco/ontology/denotative-description/IconographicApparatus>\"\n",
        "\n",
        "arco_query = \"\"\"\n",
        "\n",
        "PREFIX rdf: <http://www.w3.org/1999/02/22-rdf-syntax-ns#>\n",
        "PREFIX rdfs: <http://www.w3.org/2000/01/rdf-schema#>\n",
        "PREFIX arco-cd: <https://w3id.org/arco/ontology/context-description/>\n",
        "PREFIX arco: <https://w3id.org/arco/ontology/arco/>\n",
        "\n",
        "SELECT (count (?rel) as ?tot) \n",
        "WHERE {\n",
        "  VALUES ?subj_type {\"\"\"+subj_values+\"\"\"}\n",
        "  ?s a ?subj_type.  \n",
        "  ?s ?rel ?o.\n",
        "}\n",
        "\"\"\"\n",
        "\n",
        "\n",
        "\n",
        "res = sparl_query_setting(arco_query, arco2_endpoint)\n",
        "# 6859538\n",
        "# manipulate the result\n",
        "for result in res[\"results\"][\"bindings\"]:\n",
        "    print(result[\"tot\"][\"value\"])"
      ]
    },
    {
      "cell_type": "code",
      "execution_count": null,
      "metadata": {
        "colab": {
          "base_uri": "https://localhost:8080/"
        },
        "id": "aO4AK5Er6n94",
        "outputId": "4a7f50cc-c993-4961-9375-a14a6e92bbd7"
      },
      "outputs": [
        {
          "name": "stdout",
          "output_type": "stream",
          "text": [
            "129391950\n"
          ]
        }
      ],
      "source": [
        "# total artistic triples\n",
        "total = 125053178+4338772\n",
        "print(total)"
      ]
    },
    {
      "cell_type": "markdown",
      "metadata": {
        "id": "QWWQh4ssdRNs"
      },
      "source": [
        "## How many artworks have a subject (URI)"
      ]
    },
    {
      "cell_type": "code",
      "execution_count": null,
      "metadata": {
        "colab": {
          "base_uri": "https://localhost:8080/"
        },
        "id": "EW7gMoUt_R60",
        "outputId": "bbe29119-af9f-4063-9fc1-2915ed6d5be0"
      },
      "outputs": [
        {
          "name": "stdout",
          "output_type": "stream",
          "text": [
            "968423\n"
          ]
        }
      ],
      "source": [
        "arco_query = \"\"\"\n",
        "\n",
        "PREFIX rdf: <http://www.w3.org/1999/02/22-rdf-syntax-ns#>\n",
        "PREFIX rdfs: <http://www.w3.org/2000/01/rdf-schema#>\n",
        "PREFIX arco-cd: <https://w3id.org/arco/ontology/context-description/>\n",
        "PREFIX arco-d: <https://w3id.org/arco/ontology/denotative-description/>\n",
        "PREFIX arco: <https://w3id.org/arco/ontology/arco/>\n",
        "\n",
        "\n",
        "SELECT (count(distinct ?s)as ?tot) WHERE\n",
        "{\n",
        "?s (arco-cd:hasSubject | arco-d:hasIconographicOrDecorativeApparatus) ?subj. \n",
        "?s a arco:HistoricOrArtisticProperty.\n",
        "\n",
        "\n",
        "}\n",
        "\n",
        "\n",
        "\"\"\"\n",
        "\n",
        "res = sparl_query_setting(arco_query, arco2_endpoint)\n",
        "# manipulate the result\n",
        "# print(res)\n",
        "for result in res[\"results\"][\"bindings\"]:\n",
        "  print(result[\"tot\"][\"value\"])"
      ]
    },
    {
      "cell_type": "markdown",
      "metadata": {
        "id": "VGh7hA5VenIA"
      },
      "source": [
        "## Average number of subjects (URI) per artwork"
      ]
    },
    {
      "cell_type": "code",
      "execution_count": null,
      "metadata": {
        "colab": {
          "base_uri": "https://localhost:8080/"
        },
        "id": "lBN5Pjgc8bbI",
        "outputId": "cfff5593-67e7-42dc-a4dc-bbc2c0d32537"
      },
      "outputs": [
        {
          "name": "stdout",
          "output_type": "stream",
          "text": [
            "1 24 1.01036530524368\n"
          ]
        }
      ],
      "source": [
        "arco_query = \"\"\"\n",
        "\n",
        "PREFIX rdf: <http://www.w3.org/1999/02/22-rdf-syntax-ns#>\n",
        "PREFIX rdfs: <http://www.w3.org/2000/01/rdf-schema#>\n",
        "PREFIX arco-cd: <https://w3id.org/arco/ontology/context-description/>\n",
        "PREFIX arco-d: <https://w3id.org/arco/ontology/denotative-description/>\n",
        "PREFIX arco: <https://w3id.org/arco/ontology/arco/>\n",
        "\n",
        "\n",
        "SELECT (MIN(?subj_count) AS ?min) (MAX(?subj_count) AS ?max) (AVG(?subj_count) AS ?avg)\n",
        "WHERE {\n",
        "SELECT DISTINCT ?s (count(?subj)as?subj_count) WHERE\n",
        "{\n",
        "?s (arco-cd:hasSubject | arco-d:hasIconographicOrDecorativeApparatus) ?subj. \n",
        "?s a arco:HistoricOrArtisticProperty.\n",
        "\n",
        "\n",
        "}\n",
        "GROUP BY ?s\n",
        "\n",
        "}\n",
        "\n",
        "\n",
        "\"\"\"\n",
        "\n",
        "res = sparl_query_setting(arco_query, arco2_endpoint)\n",
        "# manipulate the result\n",
        "# print(res)\n",
        "for result in res[\"results\"][\"bindings\"]:\n",
        "  print(result[\"min\"][\"value\"], result[\"max\"][\"value\"], result[\"avg\"][\"value\"])"
      ]
    },
    {
      "cell_type": "markdown",
      "metadata": {
        "id": "1H8Cq1PxevR-"
      },
      "source": [
        "## How many artworks have a subject (literal)"
      ]
    },
    {
      "cell_type": "code",
      "execution_count": null,
      "metadata": {
        "colab": {
          "base_uri": "https://localhost:8080/"
        },
        "id": "9_83A9hd_4IZ",
        "outputId": "0db8502d-31af-4fbd-da7c-5331d2720ed4"
      },
      "outputs": [
        {
          "name": "stdout",
          "output_type": "stream",
          "text": [
            "2111726\n"
          ]
        }
      ],
      "source": [
        "arco_query = \"\"\"\n",
        "\n",
        "PREFIX rdf: <http://www.w3.org/1999/02/22-rdf-syntax-ns#>\n",
        "PREFIX rdfs: <http://www.w3.org/2000/01/rdf-schema#>\n",
        "PREFIX arco-cd: <https://w3id.org/arco/ontology/context-description/>\n",
        "PREFIX arco-d: <https://w3id.org/arco/ontology/denotative-description/>\n",
        "PREFIX arco: <https://w3id.org/arco/ontology/arco/>\n",
        "\n",
        "\n",
        "SELECT (count(distinct ?s)as ?tot) WHERE\n",
        "{\n",
        "?s (arco-cd:iconclassCode | arco-cd:subject | dc:subject) ?subj. \n",
        "?s a arco:HistoricOrArtisticProperty.\n",
        "\n",
        "\n",
        "}\n",
        "\n",
        "\n",
        "\"\"\"\n",
        "\n",
        "res = sparl_query_setting(arco_query, arco2_endpoint)\n",
        "# manipulate the result\n",
        "# print(res)\n",
        "for result in res[\"results\"][\"bindings\"]:\n",
        "  print(result[\"tot\"][\"value\"])"
      ]
    },
    {
      "cell_type": "markdown",
      "metadata": {
        "id": "fNEJa4OYBokk"
      },
      "source": [
        "## Average of subjects per artwork (literal)"
      ]
    },
    {
      "cell_type": "code",
      "execution_count": null,
      "metadata": {
        "colab": {
          "base_uri": "https://localhost:8080/"
        },
        "id": "jl7SIsyBBsXV",
        "outputId": "b96c14e1-e49e-4517-e995-ad19ed5c3452"
      },
      "outputs": [
        {
          "name": "stdout",
          "output_type": "stream",
          "text": [
            "1 48 1.224295833631297\n"
          ]
        }
      ],
      "source": [
        "arco_query = \"\"\"\n",
        "\n",
        "PREFIX rdf: <http://www.w3.org/1999/02/22-rdf-syntax-ns#>\n",
        "PREFIX rdfs: <http://www.w3.org/2000/01/rdf-schema#>\n",
        "PREFIX arco-cd: <https://w3id.org/arco/ontology/context-description/>\n",
        "PREFIX arco-d: <https://w3id.org/arco/ontology/denotative-description/>\n",
        "PREFIX arco: <https://w3id.org/arco/ontology/arco/>\n",
        "\n",
        "\n",
        "SELECT (MIN(?subj_count) AS ?min) (MAX(?subj_count) AS ?max) (AVG(?subj_count) AS ?avg)\n",
        "WHERE {\n",
        "SELECT DISTINCT ?s (count(?subj)as?subj_count) WHERE\n",
        "{\n",
        "?s (arco-cd:iconclassCode | arco-cd:subject | dc:subjects) ?subj. \n",
        "?s a arco:HistoricOrArtisticProperty.\n",
        "\n",
        "\n",
        "}\n",
        "GROUP BY ?s\n",
        "\n",
        "}\n",
        "\n",
        "\n",
        "\"\"\"\n",
        "\n",
        "res = sparl_query_setting(arco_query, arco2_endpoint)\n",
        "# manipulate the result\n",
        "# print(res)\n",
        "for result in res[\"results\"][\"bindings\"]:\n",
        "  print(result[\"min\"][\"value\"], result[\"max\"][\"value\"], result[\"avg\"][\"value\"])"
      ]
    },
    {
      "cell_type": "markdown",
      "metadata": {
        "id": "d4QU-aqgUM4y"
      },
      "source": [
        "# Wikidata"
      ]
    },
    {
      "cell_type": "markdown",
      "metadata": {
        "id": "IloBWDPrfM6A"
      },
      "source": [
        "We consider artworks all the individuals belongng to the class visual artwork `wd:Q4502142` and to all its subclasses. "
      ]
    },
    {
      "cell_type": "markdown",
      "metadata": {
        "id": "kqPakxlYcrx2"
      },
      "source": [
        "## How many artworks"
      ]
    },
    {
      "cell_type": "code",
      "execution_count": null,
      "metadata": {
        "colab": {
          "base_uri": "https://localhost:8080/"
        },
        "id": "uENvq8zNXYII",
        "outputId": "d2f2116c-fa56-4de7-be04-ed25f302ba13"
      },
      "outputs": [
        {
          "name": "stdout",
          "output_type": "stream",
          "text": [
            "615842\n"
          ]
        }
      ],
      "source": [
        "wd_query = \"\"\"\n",
        "SELECT DISTINCT (count (distinct ?artwork) as ?tot) WHERE \n",
        "{ \n",
        " {?artwork wdt:P31 wd:Q3305213} UNION {?artwork wdt:P31 wd:Q860861}\n",
        "\n",
        "  }\n",
        "\"\"\"\n",
        "\n",
        "res = sparl_query_setting(wd_query, wd_endpoint)\n",
        "\n",
        "# manipulate the result\n",
        "for result in res[\"results\"][\"bindings\"]:\n",
        "    print(result[\"tot\"][\"value\"])"
      ]
    },
    {
      "cell_type": "markdown",
      "metadata": {
        "id": "8D8eJw6oc0_N"
      },
      "source": [
        "## How many subject + artwork triples"
      ]
    },
    {
      "cell_type": "markdown",
      "metadata": {
        "id": "sxcCWmGpUuki"
      },
      "source": [
        "Total number of triples about artworks"
      ]
    },
    {
      "cell_type": "code",
      "execution_count": null,
      "metadata": {
        "colab": {
          "base_uri": "https://localhost:8080/"
        },
        "id": "vOYu58QcRz-A",
        "outputId": "38dcea73-6829-4272-ba3a-ef41b5b23bf8"
      },
      "outputs": [
        {
          "name": "stdout",
          "output_type": "stream",
          "text": [
            "7706361\n"
          ]
        }
      ],
      "source": [
        "\n",
        "wd_query = \"\"\"\n",
        "SELECT (sum(?statement) as ?xd) WHERE \n",
        "{ VALUES ?artclass {wd:Q3305213 wd:Q860861}\n",
        "  ?artwork wdt:P31 ?artclass; wikibase:statements ?statement .\n",
        "  }\n",
        "\"\"\"\n",
        "\n",
        "res = sparl_query_setting(wd_query, wd_endpoint)\n",
        "\n",
        "# manipulate the result\n",
        "for result in res[\"results\"][\"bindings\"]:\n",
        "    print(result[\"xd\"][\"value\"])"
      ]
    },
    {
      "cell_type": "markdown",
      "metadata": {
        "id": "foo1GLG3U21v"
      },
      "source": [
        "Total number of triples about subjects"
      ]
    },
    {
      "cell_type": "code",
      "execution_count": null,
      "metadata": {
        "colab": {
          "base_uri": "https://localhost:8080/"
        },
        "id": "1evfyVGsU9XU",
        "outputId": "d174ef7a-3251-4848-c036-61da7378c0d9"
      },
      "outputs": [
        {
          "name": "stdout",
          "output_type": "stream",
          "text": [
            "27158443\n"
          ]
        }
      ],
      "source": [
        "\n",
        "wd_query = \"\"\"\n",
        "SELECT (sum(?statement) as ?xd) WHERE \n",
        "{ VALUES ?artclass {wd:Q3305213 wd:Q860861}\n",
        "  ?artwork wdt:P31 ?artclass.\n",
        "  {?artwork wdt:P180 ?subj} UNION {?artwork wdt:P921 ?subj} UNION {?artwork wdt:P1257 ?subj}\n",
        "  ?subj wikibase:statements ?statement . \n",
        "  }\n",
        "\"\"\"\n",
        "\n",
        "res = sparl_query_setting(wd_query, wd_endpoint)\n",
        "\n",
        "# manipulate the result\n",
        "for result in res[\"results\"][\"bindings\"]:\n",
        "    print(result[\"xd\"][\"value\"])"
      ]
    },
    {
      "cell_type": "markdown",
      "metadata": {
        "id": "ROyaFA6aWL7s"
      },
      "source": [
        "total number of triples about artworks or subjects: "
      ]
    },
    {
      "cell_type": "code",
      "execution_count": null,
      "metadata": {
        "colab": {
          "base_uri": "https://localhost:8080/"
        },
        "id": "uYaq5OD-WVkB",
        "outputId": "6b6efe34-6bc7-4360-bc07-75195a068125"
      },
      "outputs": [
        {
          "name": "stdout",
          "output_type": "stream",
          "text": [
            "34864804\n"
          ]
        }
      ],
      "source": [
        "tot = 7706361+27158443\n",
        "print(tot)"
      ]
    },
    {
      "cell_type": "markdown",
      "metadata": {
        "id": "GeZfnH05dVw2"
      },
      "source": [
        "## How many artworks have a subject (URI)"
      ]
    },
    {
      "cell_type": "code",
      "execution_count": null,
      "metadata": {
        "colab": {
          "base_uri": "https://localhost:8080/"
        },
        "id": "uW40yHI8WimD",
        "outputId": "63fea557-380c-4a54-ffac-28628705e901"
      },
      "outputs": [
        {
          "name": "stdout",
          "output_type": "stream",
          "text": [
            "150482\n"
          ]
        }
      ],
      "source": [
        "wd_query = \"\"\"\n",
        "SELECT DISTINCT (count (distinct ?artwork) as ?tot) WHERE \n",
        "{ VALUES ?artclass {wd:Q3305213 wd:Q860861}\n",
        "  ?artwork wdt:P31 ?artclass.\n",
        "  {?artwork wdt:P180 ?subj} UNION {?artwork wdt:P921 ?subj} UNION {?artwork wdt:P1257 ?subj}\n",
        "  }\n",
        "\"\"\"\n",
        "\n",
        "res = sparl_query_setting(wd_query, wd_endpoint)\n",
        "\n",
        "# manipulate the result\n",
        "for result in res[\"results\"][\"bindings\"]:\n",
        "    print(result[\"tot\"][\"value\"])"
      ]
    },
    {
      "cell_type": "markdown",
      "metadata": {
        "id": "sqf195Badr1h"
      },
      "source": [
        "## Average number of subjects (individual) per artwork"
      ]
    },
    {
      "cell_type": "code",
      "execution_count": null,
      "metadata": {
        "colab": {
          "base_uri": "https://localhost:8080/"
        },
        "id": "o5rwN211YYEF",
        "outputId": "15e787e1-fa68-4079-abf3-cc6c87796974"
      },
      "outputs": [
        {
          "name": "stdout",
          "output_type": "stream",
          "text": [
            "1 320 2.66086216697193851961\n"
          ]
        }
      ],
      "source": [
        "\n",
        "\n",
        "wd_query = \"\"\"\n",
        "SELECT (MIN(?subj_count) AS ?min) (MAX(?subj_count) AS ?max) (AVG(?subj_count) AS ?avg)\n",
        "  WHERE {\n",
        "  SELECT DISTINCT ?artwork (count(?subj) as ?subj_count) WHERE {\n",
        "  VALUES ?artclass {wd:Q3305213 wd:Q860861}\n",
        "  ?artwork wdt:P31 ?artclass.\n",
        "  {?artwork wdt:P180 ?subj} UNION {?artwork wdt:P921 ?subj} UNION {?artwork wdt:P1257 ?subj}\n",
        "\n",
        "  }\n",
        "  GROUP BY ?artwork\n",
        "\n",
        "  }\n",
        "\"\"\"\n",
        "\n",
        "res = sparl_query_setting(wd_query, wd_endpoint)\n",
        "\n",
        "# manipulate the result\n",
        "for result in res[\"results\"][\"bindings\"]:\n",
        "    print(result[\"min\"][\"value\"], result[\"max\"][\"value\"], result[\"avg\"][\"value\"])"
      ]
    },
    {
      "cell_type": "markdown",
      "metadata": {
        "id": "swoBdJ-YUTgb"
      },
      "source": [
        "#Zeri"
      ]
    },
    {
      "cell_type": "markdown",
      "metadata": {
        "id": "LVmyoQ4rgDHM"
      },
      "source": [
        "From the schema description, `fabio:ArtisticWork` seems to be the class identifying artworks."
      ]
    },
    {
      "cell_type": "markdown",
      "metadata": {
        "id": "AR9KqB5CcsfA"
      },
      "source": [
        "## How many artworks"
      ]
    },
    {
      "cell_type": "code",
      "execution_count": null,
      "metadata": {
        "colab": {
          "base_uri": "https://localhost:8080/"
        },
        "id": "sXqI4dkZWHqX",
        "outputId": "650f300b-05c4-4d1c-c265-7f52c5d4787b"
      },
      "outputs": [
        {
          "name": "stdout",
          "output_type": "stream",
          "text": [
            "20082\n"
          ]
        }
      ],
      "source": [
        "zeri_query = \"\"\"\n",
        "PREFIX rdf: <http://www.w3.org/1999/02/22-rdf-syntax-ns#>\n",
        "PREFIX oaentry: <http://purl.org/emmedi/oaentry/>\n",
        "PREFIX crm: <http://www.cidoc-crm.org/cidoc-crm/>\n",
        "PREFIX rdfs: <http://www.w3.org/2000/01/rdf-schema#>\n",
        "PREFIX fabio: <http://purl.org/spar/fabio/>\n",
        "\n",
        "SELECT (count (distinct ?artwork) as ?tot) WHERE {\n",
        "  ?artwork a fabio:ArtisticWork.\n",
        "} \n",
        "\n",
        "\n",
        "\"\"\"\n",
        "\n",
        "res = sparl_query_setting(zeri_query, zeri_endpoint)\n",
        "\n",
        "# manipulate the result\n",
        "for result in res[\"results\"][\"bindings\"]:\n",
        "    print(result[\"tot\"][\"value\"])"
      ]
    },
    {
      "cell_type": "markdown",
      "metadata": {
        "id": "OeVkW8QCc1mQ"
      },
      "source": [
        "## How many subject + artwork triples"
      ]
    },
    {
      "cell_type": "code",
      "execution_count": null,
      "metadata": {
        "colab": {
          "base_uri": "https://localhost:8080/"
        },
        "id": "f5ueaXxGXsHZ",
        "outputId": "3f93ba4a-3251-4018-d8ac-7cb1a218e73f"
      },
      "outputs": [
        {
          "name": "stdout",
          "output_type": "stream",
          "text": [
            "418619 418619\n"
          ]
        }
      ],
      "source": [
        "zeri_query = \"\"\"\n",
        "PREFIX rdf: <http://www.w3.org/1999/02/22-rdf-syntax-ns#>\n",
        "PREFIX oaentry: <http://purl.org/emmedi/oaentry/>\n",
        "PREFIX crm: <http://www.cidoc-crm.org/cidoc-crm/>\n",
        "PREFIX rdfs: <http://www.w3.org/2000/01/rdf-schema#>\n",
        "PREFIX fabio: <http://purl.org/spar/fabio/>\n",
        "\n",
        "SELECT (count (?artwork) as ?art) (count (?rel) as ?r) WHERE {\n",
        "  ?artwork a fabio:ArtisticWork.\n",
        "  {?artwork ?rel ?obj} UNION {?subj ?rel ?artwork}\n",
        "} \n",
        "\n",
        "\n",
        "\"\"\"\n",
        "\n",
        "res = sparl_query_setting(zeri_query, zeri_endpoint)\n",
        "\n",
        "# manipulate the result\n",
        "for result in res[\"results\"][\"bindings\"]:\n",
        "    print(result[\"art\"][\"value\"], result[\"r\"][\"value\"])"
      ]
    },
    {
      "cell_type": "markdown",
      "metadata": {
        "id": "h4G28UCMAXag"
      },
      "source": [
        "How many triples about subject"
      ]
    },
    {
      "cell_type": "code",
      "execution_count": null,
      "metadata": {
        "colab": {
          "base_uri": "https://localhost:8080/"
        },
        "id": "FeqyL8n1AaB7",
        "outputId": "dd6428fb-6ff8-40e4-a1c7-0ccc48224a3b"
      },
      "outputs": [
        {
          "name": "stdout",
          "output_type": "stream",
          "text": [
            "104486\n"
          ]
        }
      ],
      "source": [
        "zeri_query = \"\"\"\n",
        "PREFIX rdf: <http://www.w3.org/1999/02/22-rdf-syntax-ns#>\n",
        "PREFIX oaentry: <http://purl.org/emmedi/oaentry/>\n",
        "PREFIX crm: <http://www.cidoc-crm.org/cidoc-crm/>\n",
        "PREFIX rdfs: <http://www.w3.org/2000/01/rdf-schema#>\n",
        "PREFIX fabio: <http://purl.org/spar/fabio/>\n",
        "\n",
        "SELECT (count (?rel) as ?r) WHERE {\n",
        "  ?artwork fabio:hasSubjectTerm ?subject; a fabio:ArtisticWork.\n",
        "  ?subject ?rel ?obj.\n",
        "} \n",
        "\n",
        "\n",
        "\"\"\"\n",
        "\n",
        "res = sparl_query_setting(zeri_query, zeri_endpoint)\n",
        "\n",
        "# manipulate the result\n",
        "for result in res[\"results\"][\"bindings\"]:\n",
        "    print(result[\"r\"][\"value\"])"
      ]
    },
    {
      "cell_type": "markdown",
      "metadata": {
        "id": "bNHa8LAjBll-"
      },
      "source": [
        "Tot artistic triples"
      ]
    },
    {
      "cell_type": "code",
      "execution_count": null,
      "metadata": {
        "colab": {
          "base_uri": "https://localhost:8080/"
        },
        "id": "MfPPMtmCBoAw",
        "outputId": "006c55e6-2c12-4bd4-a454-71fb41ca55f6"
      },
      "outputs": [
        {
          "name": "stdout",
          "output_type": "stream",
          "text": [
            "523105\n"
          ]
        }
      ],
      "source": [
        "tot = 418619+104486\n",
        "print(tot)"
      ]
    },
    {
      "cell_type": "markdown",
      "metadata": {
        "id": "My668lXLdWme"
      },
      "source": [
        "## How many artworks have a subject (URI)"
      ]
    },
    {
      "cell_type": "code",
      "execution_count": null,
      "metadata": {
        "colab": {
          "base_uri": "https://localhost:8080/"
        },
        "id": "3OFo211n63s5",
        "outputId": "877b1122-49dd-4194-f79e-de227c9202fa"
      },
      "outputs": [
        {
          "name": "stdout",
          "output_type": "stream",
          "text": [
            "20081\n"
          ]
        }
      ],
      "source": [
        "zeri_query = \"\"\"\n",
        "PREFIX rdf: <http://www.w3.org/1999/02/22-rdf-syntax-ns#>\n",
        "PREFIX oaentry: <http://purl.org/emmedi/oaentry/>\n",
        "PREFIX crm: <http://www.cidoc-crm.org/cidoc-crm/>\n",
        "PREFIX rdfs: <http://www.w3.org/2000/01/rdf-schema#>\n",
        "PREFIX fabio: <http://purl.org/spar/fabio/>\n",
        "\n",
        "\n",
        "SELECT (count(distinct ?s) as ?art) WHERE\n",
        "{\n",
        "?s a fabio:ArtisticWork; \n",
        " fabio:hasSubjectTerm ?subj.\n",
        "?subj a fabio:SubjectTerm.\n",
        "\n",
        "}\n",
        "\n",
        "\n",
        "\"\"\"\n",
        "\n",
        "res = sparl_query_setting(zeri_query, zeri_endpoint)\n",
        "\n",
        "# manipulate the result\n",
        "for result in res[\"results\"][\"bindings\"]:\n",
        "    print(result[\"art\"][\"value\"])"
      ]
    },
    {
      "cell_type": "markdown",
      "metadata": {
        "id": "bZ2Gc5-ZduQj"
      },
      "source": [
        "## Average number of subjects (individual) per artwork"
      ]
    },
    {
      "cell_type": "code",
      "execution_count": null,
      "metadata": {
        "colab": {
          "base_uri": "https://localhost:8080/"
        },
        "id": "8yH2i53q9CCX",
        "outputId": "cd69ceaa-5fe8-44f3-db2d-a327ecacb7b7"
      },
      "outputs": [
        {
          "name": "stdout",
          "output_type": "stream",
          "text": [
            "1 13 1.191474528160948159952193\n"
          ]
        }
      ],
      "source": [
        "zeri_query = \"\"\"\n",
        "PREFIX rdf: <http://www.w3.org/1999/02/22-rdf-syntax-ns#>\n",
        "PREFIX oaentry: <http://purl.org/emmedi/oaentry/>\n",
        "PREFIX crm: <http://www.cidoc-crm.org/cidoc-crm/>\n",
        "PREFIX rdfs: <http://www.w3.org/2000/01/rdf-schema#>\n",
        "PREFIX fabio: <http://purl.org/spar/fabio/>\n",
        "\n",
        "SELECT (MIN(?subj_count) AS ?min) (MAX(?subj_count) AS ?max) (AVG(?subj_count) AS ?avg)\n",
        "WHERE {\n",
        "SELECT DISTINCT ?s (count(?subj) as ?subj_count) WHERE {\n",
        "?s a fabio:ArtisticWork; \n",
        " fabio:hasSubjectTerm ?subj.\n",
        "?subj a fabio:SubjectTerm.\n",
        "\n",
        "}\n",
        "GROUP BY ?s\n",
        "\n",
        "}\n",
        "\n",
        "\n",
        "\"\"\"\n",
        "\n",
        "res = sparl_query_setting(zeri_query, zeri_endpoint)\n",
        "\n",
        "# manipulate the result\n",
        "for result in res[\"results\"][\"bindings\"]:\n",
        "    print(result[\"min\"][\"value\"], result[\"max\"][\"value\"], result[\"avg\"][\"value\"])\n",
        "\n"
      ]
    },
    {
      "cell_type": "markdown",
      "metadata": {
        "id": "a0N7EpLqUW7w"
      },
      "source": [
        "# MMM"
      ]
    },
    {
      "cell_type": "markdown",
      "metadata": {
        "id": "dqayZSergjMH"
      },
      "source": [
        "The classes identifying visual objects represented on manuscript (i.e. the artwork) don't give information about the artwork itself but only about the total number of viual representations in a manuscript. Therefore, we can only count how many artworks there are in this graph. "
      ]
    },
    {
      "cell_type": "markdown",
      "metadata": {
        "id": "jpWKfb-dctVG"
      },
      "source": [
        "## How many artworks"
      ]
    },
    {
      "cell_type": "code",
      "execution_count": null,
      "metadata": {
        "colab": {
          "base_uri": "https://localhost:8080/"
        },
        "id": "M9qDE6r4womi",
        "outputId": "ca0aa3ac-6b59-48da-c143-5a31d7ef8c34"
      },
      "outputs": [
        {
          "name": "stdout",
          "output_type": "stream",
          "text": [
            "162511\n"
          ]
        }
      ],
      "source": [
        "mmm_query = \"\"\"\n",
        "PREFIX en: <http://erlangen-crm.org/current/>\n",
        "PREFIX rdf: <http://www.w3.org/1999/02/22-rdf-syntax-ns#>\n",
        "PREFIX rdfs: <http://www.w3.org/2000/01/rdf-schema#>\n",
        "PREFIX mmm: <http://ldf.fi/schema/mmm/>\n",
        "\n",
        "# <http://ldf.fi/schema/mmm/DecoratedInitials>\n",
        "# <http://ldf.fi/schema/mmm/HistoriatedInitials>\n",
        "#<http://ldf.fi/schema/mmm/Miniatures>\n",
        "SELECT ?value WHERE {\n",
        "  {?sub a mmm:HistoriatedInitials} UNION {?sub a mmm:Miniatures} UNION {?sub a mmm:DecoratedInitials} \n",
        "  ?sub en:P90_has_value ?value. \n",
        "} \n",
        "\n",
        "\"\"\"\n",
        "\n",
        "res = sparl_query_setting(mmm_query, mmm_endpoint)\n",
        "\n",
        "# manipulate the result\n",
        "tot = 0\n",
        "for result in res[\"results\"][\"bindings\"]:\n",
        "  tot +=int(result[\"value\"][\"value\"])\n",
        "\n",
        "print(tot)"
      ]
    },
    {
      "cell_type": "markdown",
      "metadata": {
        "id": "5REdT_6Vc2LU"
      },
      "source": [
        "## How many subject + artwork triples"
      ]
    },
    {
      "cell_type": "code",
      "execution_count": null,
      "metadata": {
        "id": "Ek9GfGrBy1ok"
      },
      "outputs": [],
      "source": [
        "mmm_query = \"\"\"\n",
        "PREFIX en: <http://erlangen-crm.org/current/>\n",
        "PREFIX rdf: <http://www.w3.org/1999/02/22-rdf-syntax-ns#>\n",
        "PREFIX rdfs: <http://www.w3.org/2000/01/rdf-schema#>\n",
        "PREFIX mmm: <http://ldf.fi/schema/mmm/>\n",
        "\n",
        "# <http://ldf.fi/schema/mmm/DecoratedInitials>\n",
        "# <http://ldf.fi/schema/mmm/HistoriatedInitials>\n",
        "#<http://ldf.fi/schema/mmm/Miniatures>\n",
        "SELECT (count(?rel) as ?triples) WHERE {\n",
        "  VALUES ?type {mmm:HistoriatedInitials mmm:Miniatures mmm:DecoratedInitials} \n",
        "  ?sub a ?type. \n",
        "  {?sub ?rel ?obj} UNION {?obj ?rel ?sub}\n",
        "} \n",
        "\n",
        "\n",
        "\"\"\"\n",
        "\n",
        "res = sparl_query_setting(mmm_query, mmm_endpoint)\n",
        "\n",
        "# manipulate the result\n",
        "for result in res[\"results\"][\"bindings\"]:\n",
        "  print(result[\"triples\"][\"value\"])\n"
      ]
    },
    {
      "cell_type": "markdown",
      "metadata": {
        "id": "d6XjRSGrUYT-"
      },
      "source": [
        "# Nomisma"
      ]
    },
    {
      "cell_type": "markdown",
      "metadata": {
        "id": "yu4RMp00hfUQ"
      },
      "source": [
        "From the data analysis emerges that there are not information about the iconography, but there are portraits (i.e. our subjects). Obverse and reverse (considered artworks as they can represent a subject), representing the portraits, doesn't belong to a class. They are only identified by the relations `nmo:hasObverse, nmo:hasReverse` . "
      ]
    },
    {
      "cell_type": "markdown",
      "metadata": {
        "id": "vrkosoZsct8D"
      },
      "source": [
        "## How many artworks"
      ]
    },
    {
      "cell_type": "code",
      "execution_count": null,
      "metadata": {
        "colab": {
          "base_uri": "https://localhost:8080/"
        },
        "id": "n9zHytDI80Rn",
        "outputId": "1ea1692c-36e5-4001-a96a-4cc05544e68e"
      },
      "outputs": [
        {
          "name": "stdout",
          "output_type": "stream",
          "text": [
            "566732\n"
          ]
        }
      ],
      "source": [
        "nomisma_query = \"\"\"\n",
        "PREFIX crm: <http://www.cidoc-crm.org/cidoc-crm/>\n",
        "PREFIX dcmitype: <http://purl.org/dc/dcmitype/>\n",
        "PREFIX dcterms: <http://purl.org/dc/terms/>\n",
        "PREFIX foaf: <http://xmlns.com/foaf/0.1/>\n",
        "PREFIX geo: <http://www.w3.org/2003/01/geo/wgs84_pos#>\n",
        "PREFIX nm: <http://nomisma.org/id/>\n",
        "PREFIX nmo: <http://nomisma.org/ontology#>\n",
        "PREFIX org: <http://www.w3.org/ns/org#>\n",
        "PREFIX rdf: <http://www.w3.org/1999/02/22-rdf-syntax-ns#>\n",
        "PREFIX rdfs: <http://www.w3.org/2000/01/rdf-schema#>\n",
        "PREFIX skos: <http://www.w3.org/2004/02/skos/core#>\n",
        "PREFIX xsd: <http://www.w3.org/2001/XMLSchema#>\n",
        "\n",
        "\n",
        "SELECT (count(distinct ?art) as ?tot_art) WHERE {\n",
        " \n",
        "  {?coin nmo:hasObverse ?art} UNION {?coin nmo:hasReverse ?art}\n",
        "  \n",
        "} \n",
        "\n",
        "\n",
        "\"\"\"\n",
        "\n",
        "res = sparl_query_setting(nomisma_query, nomisma_endpoint)\n",
        "\n",
        "# manipulate the result\n",
        "for result in res[\"results\"][\"bindings\"]:\n",
        "  print(result[\"tot_art\"][\"value\"])\n"
      ]
    },
    {
      "cell_type": "markdown",
      "metadata": {
        "id": "yfkPz-qzc2vL"
      },
      "source": [
        "## How many subject + artwork triples"
      ]
    },
    {
      "cell_type": "code",
      "execution_count": null,
      "metadata": {
        "colab": {
          "base_uri": "https://localhost:8080/"
        },
        "id": "vb8hWNv6_goX",
        "outputId": "7f2d13dc-1465-40ab-e5a4-79ad75451e2f"
      },
      "outputs": [
        {
          "name": "stdout",
          "output_type": "stream",
          "text": [
            "1819231\n"
          ]
        }
      ],
      "source": [
        "nomisma_query = \"\"\"\n",
        "PREFIX crm: <http://www.cidoc-crm.org/cidoc-crm/>\n",
        "PREFIX dcmitype: <http://purl.org/dc/dcmitype/>\n",
        "PREFIX dcterms: <http://purl.org/dc/terms/>\n",
        "PREFIX foaf: <http://xmlns.com/foaf/0.1/>\n",
        "PREFIX geo: <http://www.w3.org/2003/01/geo/wgs84_pos#>\n",
        "PREFIX nm: <http://nomisma.org/id/>\n",
        "PREFIX nmo: <http://nomisma.org/ontology#>\n",
        "PREFIX org: <http://www.w3.org/ns/org#>\n",
        "PREFIX rdf: <http://www.w3.org/1999/02/22-rdf-syntax-ns#>\n",
        "PREFIX rdfs: <http://www.w3.org/2000/01/rdf-schema#>\n",
        "PREFIX skos: <http://www.w3.org/2004/02/skos/core#>\n",
        "PREFIX xsd: <http://www.w3.org/2001/XMLSchema#>\n",
        "\n",
        "\n",
        "SELECT (count(?art) as ?triples) WHERE {\n",
        " \n",
        "  {?coin nmo:hasObverse ?art} UNION {?coin nmo:hasReverse ?art}\n",
        "  {?art ?rel ?obj} UNION {?obj ?rel ?art}\n",
        "  \n",
        "} \n",
        "\n",
        "\n",
        "\"\"\"\n",
        "\n",
        "res = sparl_query_setting(nomisma_query, nomisma_endpoint)\n",
        "\n",
        "# manipulate the result\n",
        "for result in res[\"results\"][\"bindings\"]:\n",
        "  print(result[\"triples\"][\"value\"])"
      ]
    },
    {
      "cell_type": "markdown",
      "metadata": {
        "id": "Yo4nSuNJDhkL"
      },
      "source": [
        "How many triples about subjects"
      ]
    },
    {
      "cell_type": "code",
      "execution_count": null,
      "metadata": {
        "colab": {
          "base_uri": "https://localhost:8080/"
        },
        "id": "HopOe5bWDkdE",
        "outputId": "8ca93087-a377-4f04-9686-7d5bc8775fc2"
      },
      "outputs": [
        {
          "name": "stdout",
          "output_type": "stream",
          "text": [
            "6716107\n"
          ]
        }
      ],
      "source": [
        "# ?subj \n",
        "nomisma_query = \"\"\"\n",
        "PREFIX crm: <http://www.cidoc-crm.org/cidoc-crm/>\n",
        "PREFIX dcmitype: <http://purl.org/dc/dcmitype/>\n",
        "PREFIX dcterms: <http://purl.org/dc/terms/>\n",
        "PREFIX foaf: <http://xmlns.com/foaf/0.1/>\n",
        "PREFIX geo: <http://www.w3.org/2003/01/geo/wgs84_pos#>\n",
        "PREFIX nm: <http://nomisma.org/id/>\n",
        "PREFIX nmo: <http://nomisma.org/ontology#>\n",
        "PREFIX org: <http://www.w3.org/ns/org#>\n",
        "PREFIX rdf: <http://www.w3.org/1999/02/22-rdf-syntax-ns#>\n",
        "PREFIX rdfs: <http://www.w3.org/2000/01/rdf-schema#>\n",
        "PREFIX skos: <http://www.w3.org/2004/02/skos/core#>\n",
        "PREFIX xsd: <http://www.w3.org/2001/XMLSchema#>\n",
        "\n",
        "\n",
        "SELECT (count(?rel) as ?triples) WHERE {\n",
        "  \n",
        " {?coin nmo:hasObverse ?art} UNION {?coin nmo:hasReverse ?art}\n",
        "  ?art nmo:hasPortrait ?subj.\n",
        "  ?subj ?rel ?obj. \n",
        "  \n",
        "} \n",
        "\n",
        "\n",
        "\"\"\"\n",
        "\n",
        "res = sparl_query_setting(nomisma_query, nomisma_endpoint)\n",
        "\n",
        "# manipulate the result\n",
        "for result in res[\"results\"][\"bindings\"]:\n",
        "  print(result[\"triples\"][\"value\"])"
      ]
    },
    {
      "cell_type": "code",
      "execution_count": null,
      "metadata": {
        "colab": {
          "base_uri": "https://localhost:8080/"
        },
        "id": "j1QT6xpQKdVi",
        "outputId": "8d394047-6e50-40f7-dc66-3521fc409699"
      },
      "outputs": [
        {
          "name": "stdout",
          "output_type": "stream",
          "text": [
            "8535338\n"
          ]
        }
      ],
      "source": [
        "tot = 1819231+6716107\n",
        "print(tot)"
      ]
    },
    {
      "cell_type": "markdown",
      "metadata": {
        "id": "r0jZwuy7dYoS"
      },
      "source": [
        "## How many artworks have a subject (URI)"
      ]
    },
    {
      "cell_type": "code",
      "execution_count": null,
      "metadata": {
        "colab": {
          "base_uri": "https://localhost:8080/"
        },
        "id": "keB43iwK0-0T",
        "outputId": "bdaf7cd6-87ea-4c75-bd8b-e4a0e77e14bb"
      },
      "outputs": [
        {
          "name": "stdout",
          "output_type": "stream",
          "text": [
            "119917\n"
          ]
        }
      ],
      "source": [
        "nomisma_query = \"\"\"\n",
        "PREFIX crm: <http://www.cidoc-crm.org/cidoc-crm/>\n",
        "PREFIX dcmitype: <http://purl.org/dc/dcmitype/>\n",
        "PREFIX dcterms: <http://purl.org/dc/terms/>\n",
        "PREFIX foaf: <http://xmlns.com/foaf/0.1/>\n",
        "PREFIX geo: <http://www.w3.org/2003/01/geo/wgs84_pos#>\n",
        "PREFIX nm: <http://nomisma.org/id/>\n",
        "PREFIX nmo: <http://nomisma.org/ontology#>\n",
        "PREFIX org: <http://www.w3.org/ns/org#>\n",
        "PREFIX rdf: <http://www.w3.org/1999/02/22-rdf-syntax-ns#>\n",
        "PREFIX rdfs: <http://www.w3.org/2000/01/rdf-schema#>\n",
        "PREFIX skos: <http://www.w3.org/2004/02/skos/core#>\n",
        "PREFIX xsd: <http://www.w3.org/2001/XMLSchema#>\n",
        "\n",
        "\n",
        "SELECT (count(distinct ?art) as ?tot) WHERE {\n",
        " {?coin nmo:hasObverse ?art} UNION {?coin nmo:hasReverse ?art}\n",
        "  ?art nmo:hasPortrait ?subj.\n",
        "} \n",
        "\n",
        "\n",
        "\"\"\"\n",
        "\n",
        "res = sparl_query_setting(nomisma_query, nomisma_endpoint)\n",
        "\n",
        "# manipulate the result\n",
        "for result in res[\"results\"][\"bindings\"]:\n",
        "  print(result[\"tot\"][\"value\"])\n"
      ]
    },
    {
      "cell_type": "markdown",
      "metadata": {
        "id": "B9l3O1_ZdxWX"
      },
      "source": [
        "## Average number of subjects (individual) per artwork"
      ]
    },
    {
      "cell_type": "code",
      "execution_count": null,
      "metadata": {
        "colab": {
          "base_uri": "https://localhost:8080/"
        },
        "id": "GmZw-HDrsUkf",
        "outputId": "9d296074-a969-426b-b5e0-f531bf454df6"
      },
      "outputs": [
        {
          "name": "stdout",
          "output_type": "stream",
          "text": [
            "1 6 1.103955235704695747892292\n"
          ]
        }
      ],
      "source": [
        "\n",
        "\n",
        "nomisma_query = \"\"\"\n",
        "PREFIX nmo: <http://nomisma.org/ontology#>\n",
        "PREFIX org: <http://www.w3.org/ns/org#>\n",
        "PREFIX rdf: <http://www.w3.org/1999/02/22-rdf-syntax-ns#>\n",
        "PREFIX rdfs: <http://www.w3.org/2000/01/rdf-schema#>\n",
        "\n",
        "SELECT (MIN(?subj_count) AS ?min) (MAX(?subj_count) AS ?max) (AVG(?subj_count) AS ?avg)\n",
        "WHERE {\n",
        "SELECT DISTINCT ?s (count(?subj) as ?subj_count) WHERE {\n",
        "{?coin nmo:hasObverse ?s} UNION {?coin nmo:hasReverse ?s}\n",
        "?s nmo:hasPortrait ?subj.\n",
        "\n",
        "}\n",
        "GROUP BY ?s\n",
        "\n",
        "}\n",
        "\n",
        "\n",
        "\"\"\"\n",
        "\n",
        "res = sparl_query_setting(nomisma_query, nomisma_endpoint)\n",
        "\n",
        "# manipulate the result\n",
        "for result in res[\"results\"][\"bindings\"]:\n",
        "    print(result[\"min\"][\"value\"], result[\"max\"][\"value\"], result[\"avg\"][\"value\"])\n",
        "\n"
      ]
    },
    {
      "cell_type": "markdown",
      "metadata": {
        "id": "3wPqtvWgUZnV"
      },
      "source": [
        "#SARI"
      ]
    },
    {
      "cell_type": "markdown",
      "metadata": {
        "id": "6Ctka8-GjZ0R"
      },
      "source": [
        "## Artwork definition"
      ]
    },
    {
      "cell_type": "markdown",
      "metadata": {
        "id": "VrDNn7S-i9Cw"
      },
      "source": [
        "From the data analysis emerges that the class `gndo:Work` is likely to represent artworks. The relation `gndo:formOfWorkAndExpression` identifies the type of work. We select among them the types identifying an artwork. "
      ]
    },
    {
      "cell_type": "code",
      "execution_count": null,
      "metadata": {
        "colab": {
          "base_uri": "https://localhost:8080/"
        },
        "id": "jCwJRBApkHZ6",
        "outputId": "dbcaf017-47fa-4b8d-bfcf-7ee5b0912483"
      },
      "outputs": [
        {
          "name": "stdout",
          "output_type": "stream",
          "text": [
            "https://d-nb.info/gnd/4012899-4 Drama\n",
            "https://d-nb.info/gnd/4017102-4 Film\n",
            "https://d-nb.info/gnd/4036910-9 Märchen\n",
            "https://d-nb.info/gnd/4015464-6 Erzählung\n",
            "https://d-nb.info/gnd/4025435-5 Hörspiel\n",
            "https://d-nb.info/gnd/4036774-5 Lyrik\n",
            "https://d-nb.info/gnd/4050479-7 Roman\n",
            "https://d-nb.info/gnd/4067488-5 Zeitschrift\n",
            "https://d-nb.info/gnd/4067510-5 Zeitung\n",
            "https://d-nb.info/gnd/4153493-1 Fachliteratur\n",
            "https://d-nb.info/gnd/4046277-8 Plastik\n",
            "https://d-nb.info/gnd/4127900-1 Zeichnung\n",
            "https://d-nb.info/gnd/4154054-2 Fernsehfilm\n",
            "https://d-nb.info/gnd/4304080-9 Theaterstück\n",
            "https://d-nb.info/gnd/4037220-0 Malerei\n",
            "https://d-nb.info/gnd/4004351-4 Ballett\n",
            "https://d-nb.info/gnd/4049712-4 Rezension\n",
            "https://d-nb.info/gnd/4036042-8 Lithografie\n",
            "https://d-nb.info/gnd/4023287-6 Handschrift\n",
            "https://d-nb.info/gnd/4174271-0 Philologie\n",
            "https://d-nb.info/gnd/4003939-0 Autobiografie\n",
            "https://d-nb.info/gnd/4006804-3 Biografie\n",
            "https://d-nb.info/gnd/4010427-8 Comic\n",
            "https://d-nb.info/gnd/4010110-1 Christliche Literatur\n",
            "https://d-nb.info/gnd/4006604-6 Bilderbuch\n",
            "https://d-nb.info/gnd/4127976-1 Drehbuch\n",
            "https://d-nb.info/gnd/4022596-3 Gutachten\n",
            "https://d-nb.info/gnd/4016842-6 Fernsehsendung\n",
            "https://d-nb.info/gnd/4142484-0 Animationsfilm\n",
            "https://d-nb.info/gnd/4117405-7 Vorlesung\n",
            "https://d-nb.info/gnd/4154367-1 Filmkritik\n",
            "https://d-nb.info/gnd/4430771-8 Klangkunst\n",
            "https://d-nb.info/gnd/4076645-7 Reisebericht\n",
            "https://d-nb.info/gnd/4033229-9 Kritik\n",
            "https://d-nb.info/gnd/4173750-7 Performance Künste\n",
            "https://d-nb.info/gnd/4173750-7 Performance (Künste)\n",
            "https://d-nb.info/gnd/4166233-7 Kurzfilm\n",
            "https://d-nb.info/gnd/4012653-5 Dokumentarfilm\n",
            "https://d-nb.info/gnd/4020531-9 Geschichtsschreibung\n",
            "https://d-nb.info/gnd/4145395-5 Bildband\n",
            "https://d-nb.info/gnd/4170822-2 Musikfilm\n",
            "https://d-nb.info/gnd/4113357-2 Druckgrafik\n",
            "https://d-nb.info/gnd/4163815-3 Kinderfilm\n",
            "https://d-nb.info/gnd/4162874-3 Jugendtheater\n",
            "https://d-nb.info/gnd/4029014-1 Junges Deutschland\n",
            "https://d-nb.info/gnd/4066724-8 Wörterbuch\n",
            "https://d-nb.info/gnd/4123412-1 Illustration\n",
            "https://d-nb.info/gnd/4131808-0 Installation (Kunst)\n",
            "https://d-nb.info/gnd/4131808-0 Installation Kunst\n",
            "https://d-nb.info/gnd/4056218-9 Spiel\n",
            "https://d-nb.info/gnd/4124432-1 Wanddekoration\n",
            "https://d-nb.info/gnd/4179998-7 Monografische Reihe\n",
            "https://d-nb.info/gnd/4045791-6 Philosophie\n",
            "https://d-nb.info/gnd/4073409-2 Kinderliteratur\n",
            "https://d-nb.info/gnd/4112758-4 Bildergeschichte\n",
            "https://d-nb.info/gnd/4129866-4 Erbauungsliteratur\n",
            "https://d-nb.info/gnd/4185968-6 Travestie\n",
            "https://d-nb.info/gnd/4044719-4 Parodie\n",
            "https://d-nb.info/gnd/4040876-0 Musiktheorie\n",
            "https://d-nb.info/gnd/4048166-9 Radierung\n",
            "https://d-nb.info/gnd/4040808-5 Musikästhetik\n",
            "https://d-nb.info/gnd/4000626-8 Ästhetik\n",
            "https://d-nb.info/gnd/4063852-2 Volkslied\n",
            "https://d-nb.info/gnd/4114333-4 Kunst\n",
            "https://d-nb.info/gnd/4303251-5 Kinderbuch\n",
            "https://d-nb.info/gnd/4033760-1 Kupferstich\n",
            "https://d-nb.info/gnd/4125349-8 Kindertheater\n",
            "https://d-nb.info/gnd/4048882-2 Rede\n",
            "https://d-nb.info/gnd/4033842-3 Kurzgeschichte\n",
            "https://d-nb.info/gnd/4020529-0 Geschichtsphilosophie\n",
            "https://d-nb.info/gnd/4049415-9 Religionsphilosophie\n",
            "https://d-nb.info/gnd/4048476-2 Ratgeber\n",
            "https://d-nb.info/gnd/4002511-1 Aquarell\n",
            "https://d-nb.info/gnd/4129085-9 Oratorium\n",
            "https://d-nb.info/gnd/4018348-8 Freimaurerei\n",
            "https://d-nb.info/gnd/4064035-8 Vortrag\n",
            "https://d-nb.info/gnd/4019294-5 Gartenbau\n",
            "https://d-nb.info/gnd/4021845-4 Grafik\n",
            "https://d-nb.info/gnd/4003942-0 Autograf\n",
            "https://d-nb.info/gnd/4128022-2 Bericht\n",
            "https://d-nb.info/gnd/4002417-9 Aphorismus\n",
            "https://d-nb.info/gnd/4306252-0 Jugendbuch\n",
            "https://d-nb.info/gnd/118539787 Vinko Globokar\n",
            "https://d-nb.info/gnd/4126228-1 Geistliche Musik\n",
            "https://d-nb.info/gnd/4035949-9 Literarische Zeitschrift\n",
            "https://d-nb.info/gnd/1041601824 Anime\n",
            "https://d-nb.info/gnd/4190578-7 Zeichentrickfilm\n",
            "https://d-nb.info/gnd/4010457-6 Computerspiel\n",
            "https://d-nb.info/gnd/4040874-7 Musiktheater\n",
            "https://d-nb.info/gnd/4028911-4 Jugendliteratur\n",
            "https://d-nb.info/gnd/4053458-3 Schulbuch\n",
            "https://d-nb.info/gnd/4049291-6 Reiseführer\n",
            "https://d-nb.info/gnd/4166029-8 Kunstführer\n",
            "https://d-nb.info/gnd/4070914-0 Erkenntnistheorie\n",
            "https://d-nb.info/gnd/4043582-9 Oper\n",
            "https://d-nb.info/gnd/4177612-4 Reiseliteratur\n",
            "https://d-nb.info/gnd/4247240-4 Figurentheater\n",
            "https://d-nb.info/gnd/4120567-4 Kirchenlied\n",
            "https://d-nb.info/gnd/4184451-8 Tanztheater\n",
            "https://d-nb.info/gnd/4126273-6 Manuskript\n",
            "https://d-nb.info/gnd/4014355-7 Elektronische Musik\n",
            "https://d-nb.info/gnd/123913845 Friedrich Goldmann\n",
            "https://d-nb.info/gnd/4019791-8 Violine\n",
            "https://d-nb.info/gnd/4138632-2 Duo\n",
            "https://d-nb.info/gnd/4627787-0 Manga\n",
            "https://d-nb.info/gnd/4059028-8 Tanz\n",
            "https://d-nb.info/gnd/4114240-8 Kochbuch\n",
            "https://d-nb.info/gnd/4155569-7 Führer\n",
            "https://d-nb.info/gnd/4123623-3 Lehrbuch\n",
            "https://d-nb.info/gnd/4033187-8 Kriminalroman\n",
            "https://d-nb.info/gnd/4029670-2 Karikatur\n",
            "https://d-nb.info/gnd/4020713-4 Gespräch\n",
            "https://d-nb.info/gnd/4156127-2 Gebäude\n",
            "https://d-nb.info/gnd/4074111-4 Lehrmittel\n",
            "https://d-nb.info/gnd/4329497-2 Hörbuch\n",
            "https://d-nb.info/gnd/4047394-6 Programm\n",
            "https://d-nb.info/gnd/4029783-4 Karte\n",
            "https://d-nb.info/gnd/4014986-9 Enzyklopädie\n",
            "https://d-nb.info/gnd/4135467-9 Ausstellungskatalog\n",
            "https://d-nb.info/gnd/4165727-5 Kriminalgeschichte\n",
            "https://d-nb.info/gnd/4709615-9 Slam Poetry\n",
            "https://d-nb.info/gnd/4008602-1 Bucheinband\n",
            "https://d-nb.info/gnd/4163417-2 Katalog\n",
            "https://d-nb.info/gnd/4009744-4 Chanson\n",
            "https://d-nb.info/gnd/4461958-3 Bühnenwerk\n",
            "https://d-nb.info/gnd/4069977-8 Choreografie\n",
            "https://d-nb.info/gnd/4006627-7 Bildnis\n",
            "https://d-nb.info/gnd/1071861417 Konferenzschrift\n",
            "https://d-nb.info/gnd/4047704-6 Psychologie\n",
            "https://d-nb.info/gnd/4028933-3 Jugendsachbuch\n",
            "https://d-nb.info/gnd/4045895-7 Fotografie\n",
            "https://d-nb.info/gnd/4030550-8 Kind\n",
            "https://d-nb.info/gnd/4058257-7 Stummfilm\n",
            "https://d-nb.info/gnd/4163854-2 Kindersachbuch\n",
            "https://d-nb.info/gnd/117207640 Hermann Naber\n",
            "https://d-nb.info/gnd/4041000-6 Mysterienspiel\n",
            "https://d-nb.info/gnd/4006432-3 Bibliografie\n",
            "https://d-nb.info/gnd/4033659-1 Kunstkritik\n",
            "https://d-nb.info/gnd/4064542-3 Wandmalerei\n",
            "https://d-nb.info/gnd/4011119-2 Datenbank\n",
            "https://d-nb.info/gnd/4596172-4 Website\n",
            "https://d-nb.info/gnd/4040801-2 Musical\n",
            "https://d-nb.info/gnd/4041070-5 Nachschlagewerk\n",
            "https://d-nb.info/gnd/4017129-2 Filmmusik\n",
            "https://d-nb.info/gnd/4044571-9 Papyrus\n",
            "https://d-nb.info/gnd/4129951-6 Instrumentalmusik\n",
            "https://d-nb.info/gnd/4130623-5 Volkstheater\n",
            "https://d-nb.info/gnd/4048821-4 Rechtsphilosophie\n",
            "https://d-nb.info/gnd/4272197-0 Filmzeitschrift\n",
            "https://d-nb.info/gnd/4061418-9 Übersetzung\n",
            "https://d-nb.info/gnd/4059758-1 Theologie\n",
            "https://d-nb.info/gnd/4115704-7 Raumausstattung\n",
            "https://d-nb.info/gnd/4012400-9 Diplomarbeit\n",
            "https://d-nb.info/gnd/4038243-6 Medizin\n",
            "https://d-nb.info/gnd/4463470-5 Mundarttheater\n",
            "https://d-nb.info/gnd/4189637-3 Werbefilm\n",
            "https://d-nb.info/gnd/4020470-4 Gesang\n",
            "https://d-nb.info/gnd/4019514-4 Gebet\n",
            "https://d-nb.info/gnd/4229053-3 Künstlerbuch\n",
            "https://d-nb.info/gnd/118621823 Teresa, de Jesús\n",
            "https://d-nb.info/gnd/4128844-0 Sammlung\n",
            "https://d-nb.info/gnd/4063783-9 Vokalmusik\n"
          ]
        }
      ],
      "source": [
        "sari_query = \"\"\"\n",
        "PREFIX crm: <http://www.cidoc-crm.org/cidoc-crm/>\n",
        "PREFIX rdf: <http://www.w3.org/1999/02/22-rdf-syntax-ns#>\n",
        "PREFIX rdfs: <http://www.w3.org/2000/01/rdf-schema#>\n",
        "PREFIX getty: <http://vocab.getty.edu/ontology#>\n",
        "PREFIX gndo: <https://d-nb.info/standards/elementset/gnd#>\n",
        "SELECT DISTINCT ?b ?name WHERE {\n",
        "  ?a a gndo:Work. \n",
        "  ?a gndo:formOfWorkAndExpression ?b.\n",
        "  ?b gndo:preferredName ?name. \n",
        "\n",
        "} \n",
        "\n",
        "\"\"\"\n",
        "\n",
        "res = sparl_query_setting(sari_query, sari_endpoint)\n",
        "\n",
        "# manipulate the result\n",
        "\n",
        "for result in res[\"results\"][\"bindings\"]:\n",
        " print(result[\"b\"][\"value\"], result[\"name\"][\"value\"])"
      ]
    },
    {
      "cell_type": "code",
      "execution_count": null,
      "metadata": {
        "id": "pM2uFEcev7-q"
      },
      "outputs": [],
      "source": [
        "artwork_types= \"\"\"<https://d-nb.info/gnd/4046277-8> <https://d-nb.info/gnd/4127900-1> <https://d-nb.info/gnd/4036042-8> <https://d-nb.info/gnd/4010427-8> <https://d-nb.info/gnd/4124432-1> <https://d-nb.info/gnd/4123412-1> <https://d-nb.info/gnd/4131808-0> <https://d-nb.info/gnd/4124432-1> <https://d-nb.info/gnd/4114333-4> <https://d-nb.info/gnd/4033760-1> <https://d-nb.info/gnd/4002511-1> <https://d-nb.info/gnd/4627787-0> <https://d-nb.info/gnd/4029783-4> <https://d-nb.info/gnd/4006627-7> <https://d-nb.info/gnd/4064542-3> <https://d-nb.info/gnd/4229053-3>\"\"\""
      ]
    },
    {
      "cell_type": "markdown",
      "metadata": {
        "id": "LYQFk1zbcuxo"
      },
      "source": [
        "## How many artworks"
      ]
    },
    {
      "cell_type": "code",
      "execution_count": null,
      "metadata": {
        "colab": {
          "base_uri": "https://localhost:8080/"
        },
        "id": "3dLmigEfq2L4",
        "outputId": "5537d346-1b70-4c07-cfe4-acc6ddc0f853"
      },
      "outputs": [
        {
          "name": "stdout",
          "output_type": "stream",
          "text": [
            "339\n"
          ]
        }
      ],
      "source": [
        "\n",
        "sari_query = \"\"\"\n",
        "PREFIX crm: <http://www.cidoc-crm.org/cidoc-crm/>\n",
        "PREFIX rdf: <http://www.w3.org/1999/02/22-rdf-syntax-ns#>\n",
        "PREFIX rdfs: <http://www.w3.org/2000/01/rdf-schema#>\n",
        "PREFIX getty: <http://vocab.getty.edu/ontology#>\n",
        "PREFIX gndo: <https://d-nb.info/standards/elementset/gnd#>\n",
        "\n",
        "SELECT (count(distinct ?a) as ?tot) WHERE {\n",
        "VALUES ?type{\"\"\"+artwork_types+\"\"\"}\n",
        "  ?a a gndo:Work; \n",
        "     gndo:formOfWorkAndExpression ?type.\n",
        "\n",
        "\n",
        "} \n",
        "\n",
        "\"\"\"\n",
        "\n",
        "res = sparl_query_setting(sari_query, sari_endpoint)\n",
        "\n",
        "# manipulate the result\n",
        "\n",
        "for result in res[\"results\"][\"bindings\"]:\n",
        " print(result[\"tot\"][\"value\"])"
      ]
    },
    {
      "cell_type": "markdown",
      "metadata": {
        "id": "lqrrSwB7c3WE"
      },
      "source": [
        "## How many subject + artwork triples"
      ]
    },
    {
      "cell_type": "markdown",
      "metadata": {
        "id": "j_7cjmr2zTGK"
      },
      "source": [
        "How many triples about artworks"
      ]
    },
    {
      "cell_type": "code",
      "execution_count": null,
      "metadata": {
        "colab": {
          "base_uri": "https://localhost:8080/"
        },
        "id": "36at9h9xzWwM",
        "outputId": "94ef29bf-d922-472c-95ab-4bb1f4a048cb"
      },
      "outputs": [
        {
          "name": "stdout",
          "output_type": "stream",
          "text": [
            "5202\n"
          ]
        }
      ],
      "source": [
        "sari_query = \"\"\"\n",
        "PREFIX crm: <http://www.cidoc-crm.org/cidoc-crm/>\n",
        "PREFIX rdf: <http://www.w3.org/1999/02/22-rdf-syntax-ns#>\n",
        "PREFIX rdfs: <http://www.w3.org/2000/01/rdf-schema#>\n",
        "PREFIX getty: <http://vocab.getty.edu/ontology#>\n",
        "PREFIX gndo: <https://d-nb.info/standards/elementset/gnd#>\n",
        "\n",
        "SELECT (count(?s) as ?tot) WHERE {\n",
        "VALUES ?type{\"\"\"+artwork_types+\"\"\"}\n",
        "  ?a a gndo:Work; \n",
        "     gndo:formOfWorkAndExpression ?type. \n",
        "  {?s ?rel ?a} UNION {?a ?rel ?s}\n",
        "\n",
        "\n",
        "} \n",
        "\n",
        "\"\"\"\n",
        "\n",
        "res = sparl_query_setting(sari_query, sari_endpoint)\n",
        "\n",
        "# manipulate the result\n",
        "\n",
        "for result in res[\"results\"][\"bindings\"]:\n",
        " print(result[\"tot\"][\"value\"])"
      ]
    },
    {
      "cell_type": "markdown",
      "metadata": {
        "id": "6Q1SX2OuSs6o"
      },
      "source": [
        "How many triples about subjects"
      ]
    },
    {
      "cell_type": "code",
      "execution_count": null,
      "metadata": {
        "colab": {
          "base_uri": "https://localhost:8080/"
        },
        "id": "Pkj0brFDSwwq",
        "outputId": "597beaea-df31-4364-e276-975e70c51da7"
      },
      "outputs": [
        {
          "name": "stdout",
          "output_type": "stream",
          "text": [
            "103\n"
          ]
        }
      ],
      "source": [
        "\n",
        "sari_query = \"\"\"\n",
        "PREFIX crm: <http://www.cidoc-crm.org/cidoc-crm/>\n",
        "PREFIX rdf: <http://www.w3.org/1999/02/22-rdf-syntax-ns#>\n",
        "PREFIX rdfs: <http://www.w3.org/2000/01/rdf-schema#>\n",
        "PREFIX getty: <http://vocab.getty.edu/ontology#>\n",
        "PREFIX gndo: <https://d-nb.info/standards/elementset/gnd#>\n",
        "\n",
        "SELECT (count(?rel) as ?tot) WHERE {\n",
        "VALUES ?type {\"\"\"+artwork_types+\"\"\"}\n",
        "  ?a gndo:formOfWorkAndExpression ?type.\n",
        "   ?a  (gndo:topic | gndo:gndSubjectCategory) ?s.\n",
        "  ?s ?rel ?obj.\n",
        "\n",
        "\n",
        "} \n",
        "\n",
        "\"\"\"\n",
        "\n",
        "res = sparl_query_setting(sari_query, sari_endpoint)\n",
        "\n",
        "# manipulate the result\n",
        "\n",
        "for result in res[\"results\"][\"bindings\"]:\n",
        " print(result[\"tot\"][\"value\"])"
      ]
    },
    {
      "cell_type": "markdown",
      "metadata": {
        "id": "t3bTIsbdTWyU"
      },
      "source": [
        "Tot artistic triples"
      ]
    },
    {
      "cell_type": "code",
      "execution_count": null,
      "metadata": {
        "colab": {
          "base_uri": "https://localhost:8080/"
        },
        "id": "TXEvOccYTZnG",
        "outputId": "a9e5bd55-dd67-4df9-c3a2-9f7ff62b4cbc"
      },
      "outputs": [
        {
          "name": "stdout",
          "output_type": "stream",
          "text": [
            "5305\n"
          ]
        }
      ],
      "source": [
        "tot = 5202+103\n",
        "print(tot)"
      ]
    },
    {
      "cell_type": "markdown",
      "metadata": {
        "id": "K1tHf9ECdZUg"
      },
      "source": [
        "## How many artworks have a subject (URI)"
      ]
    },
    {
      "cell_type": "code",
      "execution_count": null,
      "metadata": {
        "colab": {
          "base_uri": "https://localhost:8080/"
        },
        "id": "26U5MncV49eh",
        "outputId": "d68de57b-62c2-4b1f-85ac-0e43eda27080"
      },
      "outputs": [
        {
          "name": "stdout",
          "output_type": "stream",
          "text": [
            "246\n"
          ]
        }
      ],
      "source": [
        "sari_query = \"\"\"\n",
        "PREFIX crm: <http://www.cidoc-crm.org/cidoc-crm/>\n",
        "PREFIX rdf: <http://www.w3.org/1999/02/22-rdf-syntax-ns#>\n",
        "PREFIX rdfs: <http://www.w3.org/2000/01/rdf-schema#>\n",
        "PREFIX getty: <http://vocab.getty.edu/ontology#>\n",
        "PREFIX gndo: <https://d-nb.info/standards/elementset/gnd#>\n",
        "\n",
        "SELECT (count (distinct ?a) as ?tot) WHERE {\n",
        "VALUES ?type{\"\"\"+artwork_types+\"\"\"}\n",
        "  ?a gndo:formOfWorkAndExpression ?type;\n",
        "  {?a gndo:gndSubjectCategory ?subj} UNION {?a gndo:topic ?subj}\n",
        "\n",
        "  \n",
        "\n",
        "    \n",
        "  #   gndo:relatedSubjectHeading ?subj.\n",
        "   #  ?subj a gndo:SubjectHeading. # subject e subject heading non hanno soggetti tra gli artwork\n",
        "     # gndo:gndSubjectCategory ?subj. questo ha dei soggetti, come anche gndo:topic.  \n",
        "\n",
        "\n",
        "}\n",
        "\n",
        "\"\"\"\n",
        "\n",
        "res = sparl_query_setting(sari_query, sari_endpoint)\n",
        "\n",
        "# manipulate the result\n",
        "\n",
        "for result in res[\"results\"][\"bindings\"]:\n",
        " print(result[\"tot\"][\"value\"])"
      ]
    },
    {
      "cell_type": "markdown",
      "metadata": {
        "id": "BflRE-PGdzpp"
      },
      "source": [
        "## Average number of subjects (individual) per artwork"
      ]
    },
    {
      "cell_type": "code",
      "execution_count": null,
      "metadata": {
        "colab": {
          "base_uri": "https://localhost:8080/"
        },
        "id": "TBijXPvM84Cz",
        "outputId": "fc623d26-cfd4-48d3-ac1a-8591e0c9c716"
      },
      "outputs": [
        {
          "name": "stdout",
          "output_type": "stream",
          "text": [
            "1 9 1.10975609756097560976\n"
          ]
        }
      ],
      "source": [
        "sari_query = \"\"\"\n",
        "PREFIX crm: <http://www.cidoc-crm.org/cidoc-crm/>\n",
        "PREFIX rdf: <http://www.w3.org/1999/02/22-rdf-syntax-ns#>\n",
        "PREFIX rdfs: <http://www.w3.org/2000/01/rdf-schema#>\n",
        "PREFIX getty: <http://vocab.getty.edu/ontology#>\n",
        "PREFIX gndo: <https://d-nb.info/standards/elementset/gnd#>\n",
        "\n",
        "\n",
        "SELECT (MIN(?subj_count) AS ?min) (MAX(?subj_count) AS ?max) (AVG(?subj_count) AS ?avg)\n",
        "WHERE {\n",
        "SELECT DISTINCT ?s (count(?subj) as ?subj_count) WHERE {\n",
        "VALUES ?type{\"\"\"+artwork_types+\"\"\"}\n",
        "  ?s gndo:formOfWorkAndExpression ?type.\n",
        "  {?s gndo:gndSubjectCategory ?subj} UNION {?s gndo:topic ?subj}\n",
        "\n",
        "}\n",
        "GROUP BY ?s\n",
        "\n",
        "\n",
        "}\n",
        "\n",
        "\"\"\"\n",
        "\n",
        "res = sparl_query_setting(sari_query, sari_endpoint)\n",
        "\n",
        "# manipulate the result\n",
        "\n",
        "for result in res[\"results\"][\"bindings\"]:\n",
        " print(result[\"min\"][\"value\"], result[\"max\"][\"value\"], result[\"avg\"][\"value\"])\n",
        "\n",
        "\n"
      ]
    },
    {
      "cell_type": "code",
      "execution_count": null,
      "metadata": {
        "id": "YTEgNvBkSn4s"
      },
      "outputs": [],
      "source": [
        ""
      ]
    },
    {
      "cell_type": "markdown",
      "metadata": {
        "id": "XT_MmpgUjaF9"
      },
      "source": [
        "# Metrics Evaluation"
      ]
    },
    {
      "cell_type": "code",
      "execution_count": null,
      "metadata": {
        "id": "upRDJamrjh9b"
      },
      "outputs": [],
      "source": [
        ""
      ]
    },
    {
      "cell_type": "code",
      "execution_count": null,
      "metadata": {
        "id": "UQ05Mkuxiu-W"
      },
      "outputs": [],
      "source": [
        "import os\n",
        "\n",
        "def sample_selection(csv_to_create, query, endpoint, var_list): \n",
        "  with open(csv_to_create, mode='a') as my_file: \n",
        "    my_file = csv.writer(my_file, delimiter=',', quotechar='\"', quoting=csv.QUOTE_ALL)\n",
        "    if os.stat(csv_to_create).st_size == 0:\n",
        "        my_file.writerow(var_list)\n",
        "    res = sparl_query_setting(query, endpoint)\n",
        "    for result in res[\"results\"][\"bindings\"]:\n",
        "      result_list = []\n",
        "      for var in var_list: \n",
        "        if var not in result: \n",
        "          new_var = \"none\"\n",
        "        else:\n",
        "          new_var = result[var][\"value\"]\n",
        "        result_list.append(new_var)\n",
        "      my_file.writerow(result_list)"
      ]
    },
    {
      "cell_type": "markdown",
      "metadata": {
        "id": "v9IaGWCPjkBQ"
      },
      "source": [
        "## Semantic Validity (Iconographic / Iconologic)"
      ]
    },
    {
      "cell_type": "code",
      "execution_count": null,
      "metadata": {
        "id": "7RyztYtTlgi3"
      },
      "outputs": [],
      "source": [
        ""
      ]
    },
    {
      "cell_type": "markdown",
      "metadata": {
        "id": "h6WgDCGBliCJ"
      },
      "source": [
        "### KGs subsect extraction"
      ]
    },
    {
      "cell_type": "code",
      "execution_count": null,
      "metadata": {
        "id": "aOR-zMPjlmrC"
      },
      "outputs": [],
      "source": [
        "# ND Hungary"
      ]
    },
    {
      "cell_type": "code",
      "execution_count": null,
      "metadata": {
        "colab": {
          "base_uri": "https://localhost:8080/"
        },
        "id": "cS7iCSR4lsmG",
        "outputId": "f72e8d10-1cc0-49a9-87b2-a425eaccb6e0"
      },
      "outputs": [
        {
          "name": "stdout",
          "output_type": "stream",
          "text": [
            "http://www.w3.org/1999/02/22-rdf-syntax-ns#type\n",
            "http://www.w3.org/2000/01/rdf-schema#label\n",
            "http://purl.org/dc/terms/title\n",
            "http://purl.org/dc/terms/description\n",
            "http://purl.org/dc/terms/identifier\n",
            "http://purl.org/dc/terms/language\n",
            "http://purl.org/dc/terms/publisher\n",
            "http://purl.org/dc/terms/subject\n",
            "http://purl.org/dc/terms/creator\n",
            "http://purl.org/dc/terms/type\n",
            "http://purl.org/dc/terms/date\n",
            "http://purl.org/dc/terms/relation\n",
            "http://purl.org/dc/terms/format\n"
          ]
        }
      ],
      "source": [
        "# All the properties associated with an artwork\n",
        "\n",
        "qmh1 = '''SELECT distinct ?p WHERE {\n",
        "?URI <http://purl.org/dc/terms/type> dcmitype:Image;\n",
        "?p ?o\n",
        "}'''\n",
        "\n",
        "resqmh1 = sparl_query_setting(qmh1, nd_hungary)\n",
        "for el in resqmh1[\"results\"][\"bindings\"]:\n",
        "  print(el[\"p\"][\"value\"])\n"
      ]
    },
    {
      "cell_type": "code",
      "execution_count": null,
      "metadata": {
        "colab": {
          "base_uri": "https://localhost:8080/"
        },
        "id": "NmbqN5z1nO_I",
        "outputId": "9368f4f0-a522-4db5-f45b-c3da0521e9b1"
      },
      "outputs": [
        {
          "name": "stdout",
          "output_type": "stream",
          "text": [
            "http://lod.sztaki.hu/data/item/6129 olasz\n",
            "http://lod.sztaki.hu/data/item/6129 grafika\n",
            "http://lod.sztaki.hu/data/item/6129 rézkarc\n",
            "http://lod.sztaki.hu/data/item/6129 ókor\n",
            "http://lod.sztaki.hu/data/item/6129 építészet\n",
            "http://lod.sztaki.hu/data/item/6129 ábrázolás\n",
            "http://lod.sztaki.hu/data/item/6129 18-19. század\n",
            "http://lod.sztaki.hu/data/item/6129 eredeti rézkarc\n",
            "http://lod.sztaki.hu/data/item/6130 olasz\n",
            "http://lod.sztaki.hu/data/item/6130 grafika\n",
            "http://lod.sztaki.hu/data/item/6130 rézkarc\n",
            "http://lod.sztaki.hu/data/item/6130 ókor\n",
            "http://lod.sztaki.hu/data/item/6130 építészet\n",
            "http://lod.sztaki.hu/data/item/6130 ábrázolás\n",
            "http://lod.sztaki.hu/data/item/6130 18-19. század\n",
            "http://lod.sztaki.hu/data/item/6130 eredeti rézkarc\n",
            "http://lod.sztaki.hu/data/item/6132 olasz\n",
            "http://lod.sztaki.hu/data/item/6132 grafika\n",
            "http://lod.sztaki.hu/data/item/6132 rézkarc\n",
            "http://lod.sztaki.hu/data/item/6132 eredeti rézkarc\n",
            "http://lod.sztaki.hu/data/item/6132 18. század\n",
            "http://lod.sztaki.hu/data/item/6140 olasz\n",
            "http://lod.sztaki.hu/data/item/6140 grafika\n",
            "http://lod.sztaki.hu/data/item/6140 rézkarc\n",
            "http://lod.sztaki.hu/data/item/6140 építészet\n",
            "http://lod.sztaki.hu/data/item/6140 ábrázolás\n",
            "http://lod.sztaki.hu/data/item/6140 eredeti rézkarc\n",
            "http://lod.sztaki.hu/data/item/6140 18. század\n",
            "http://lod.sztaki.hu/data/item/6140 épület\n",
            "http://lod.sztaki.hu/data/item/6141 olasz\n",
            "http://lod.sztaki.hu/data/item/6141 grafika\n",
            "http://lod.sztaki.hu/data/item/6141 rézkarc\n",
            "http://lod.sztaki.hu/data/item/6141 építészet\n",
            "http://lod.sztaki.hu/data/item/6141 ábrázolás\n",
            "http://lod.sztaki.hu/data/item/6141 eredeti rézkarc\n",
            "http://lod.sztaki.hu/data/item/6141 18. század\n",
            "http://lod.sztaki.hu/data/item/6141 épület\n",
            "http://lod.sztaki.hu/data/item/6149 olasz\n",
            "http://lod.sztaki.hu/data/item/6149 grafika\n",
            "http://lod.sztaki.hu/data/item/6149 rézkarc\n",
            "http://lod.sztaki.hu/data/item/6149 építészet\n",
            "http://lod.sztaki.hu/data/item/6149 ábrázolás\n",
            "http://lod.sztaki.hu/data/item/6149 eredeti rézkarc\n",
            "http://lod.sztaki.hu/data/item/6149 18. század\n",
            "http://lod.sztaki.hu/data/item/6149 épület\n",
            "http://lod.sztaki.hu/data/item/6150 olasz\n",
            "http://lod.sztaki.hu/data/item/6150 grafika\n",
            "http://lod.sztaki.hu/data/item/6150 rézkarc\n",
            "http://lod.sztaki.hu/data/item/6150 építészet\n",
            "http://lod.sztaki.hu/data/item/6150 ábrázolás\n",
            "http://lod.sztaki.hu/data/item/6150 eredeti rézkarc\n",
            "http://lod.sztaki.hu/data/item/6150 18. század\n",
            "http://lod.sztaki.hu/data/item/6150 épület\n",
            "http://lod.sztaki.hu/data/item/6152 olasz\n",
            "http://lod.sztaki.hu/data/item/6152 grafika\n",
            "http://lod.sztaki.hu/data/item/6152 rézkarc\n",
            "http://lod.sztaki.hu/data/item/6152 építészet\n",
            "http://lod.sztaki.hu/data/item/6152 ábrázolás\n",
            "http://lod.sztaki.hu/data/item/6152 eredeti rézkarc\n",
            "http://lod.sztaki.hu/data/item/6152 18. század\n",
            "http://lod.sztaki.hu/data/item/6152 épület\n",
            "http://lod.sztaki.hu/data/item/6153 olasz\n",
            "http://lod.sztaki.hu/data/item/6153 grafika\n",
            "http://lod.sztaki.hu/data/item/6153 rézkarc\n",
            "http://lod.sztaki.hu/data/item/6153 építészet\n",
            "http://lod.sztaki.hu/data/item/6153 ábrázolás\n",
            "http://lod.sztaki.hu/data/item/6153 eredeti rézkarc\n",
            "http://lod.sztaki.hu/data/item/6153 18. század\n",
            "http://lod.sztaki.hu/data/item/6153 épület\n",
            "http://lod.sztaki.hu/data/item/6156 szecesszió\n",
            "http://lod.sztaki.hu/data/item/6156 olasz\n",
            "http://lod.sztaki.hu/data/item/6156 Hohenstein, Adolfo (1854-1928)\n",
            "http://lod.sztaki.hu/data/item/6156 plakát\n",
            "http://lod.sztaki.hu/data/item/6156 eredeti\n",
            "http://lod.sztaki.hu/data/item/6156 műtárgy\n",
            "http://lod.sztaki.hu/data/item/6156 plakátművészet\n",
            "http://lod.sztaki.hu/data/item/6161 szecesszió\n",
            "http://lod.sztaki.hu/data/item/6161 plakát\n",
            "http://lod.sztaki.hu/data/item/6161 eredeti\n",
            "http://lod.sztaki.hu/data/item/6161 francia\n",
            "http://lod.sztaki.hu/data/item/6161 Berthon, Paul (1872-1909)\n",
            "http://lod.sztaki.hu/data/item/6161 műtárgy\n",
            "http://lod.sztaki.hu/data/item/6161 plakátművészet\n",
            "http://lod.sztaki.hu/data/item/6170 szecesszió\n",
            "http://lod.sztaki.hu/data/item/6170 plakát\n",
            "http://lod.sztaki.hu/data/item/6170 eredeti\n",
            "http://lod.sztaki.hu/data/item/6170 műtárgy\n",
            "http://lod.sztaki.hu/data/item/6170 plakátművészet\n",
            "http://lod.sztaki.hu/data/item/6172 szecesszió\n",
            "http://lod.sztaki.hu/data/item/6172 plakát\n",
            "http://lod.sztaki.hu/data/item/6172 eredeti\n",
            "http://lod.sztaki.hu/data/item/6172 spanyol\n",
            "http://lod.sztaki.hu/data/item/6172 Utrillo, Antonio (1864-1944)\n",
            "http://lod.sztaki.hu/data/item/6172 műtárgy\n",
            "http://lod.sztaki.hu/data/item/6172 plakátművészet\n",
            "http://lod.sztaki.hu/data/item/6174 szecesszió\n",
            "http://lod.sztaki.hu/data/item/6174 plakát\n",
            "http://lod.sztaki.hu/data/item/6174 eredeti\n",
            "http://lod.sztaki.hu/data/item/6174 angol\n",
            "http://lod.sztaki.hu/data/item/6174 műtárgy\n",
            "http://lod.sztaki.hu/data/item/6174 plakátművészet\n",
            "http://lod.sztaki.hu/data/item/6175 szecesszió\n",
            "http://lod.sztaki.hu/data/item/6175 plakát\n",
            "http://lod.sztaki.hu/data/item/6175 eredeti\n",
            "http://lod.sztaki.hu/data/item/6175 angol\n",
            "http://lod.sztaki.hu/data/item/6175 műtárgy\n",
            "http://lod.sztaki.hu/data/item/6175 plakátművészet\n",
            "http://lod.sztaki.hu/data/item/6176 szecesszió\n",
            "http://lod.sztaki.hu/data/item/6176 plakát\n",
            "http://lod.sztaki.hu/data/item/6176 eredeti\n",
            "http://lod.sztaki.hu/data/item/6176 angol\n",
            "http://lod.sztaki.hu/data/item/6176 Hassal, John (1868-1948)\n",
            "http://lod.sztaki.hu/data/item/6176 műtárgy\n",
            "http://lod.sztaki.hu/data/item/6176 plakátművészet\n",
            "http://lod.sztaki.hu/data/item/6178 szecesszió\n",
            "http://lod.sztaki.hu/data/item/6178 plakát\n",
            "http://lod.sztaki.hu/data/item/6178 eredeti\n",
            "http://lod.sztaki.hu/data/item/6178 német\n",
            "http://lod.sztaki.hu/data/item/6178 Jank, Angelo (1868-1940)\n",
            "http://lod.sztaki.hu/data/item/6178 műtárgy\n",
            "http://lod.sztaki.hu/data/item/6178 plakátművészet\n",
            "http://lod.sztaki.hu/data/item/6181 szecesszió\n",
            "http://lod.sztaki.hu/data/item/6181 plakát\n",
            "http://lod.sztaki.hu/data/item/6181 eredeti\n",
            "http://lod.sztaki.hu/data/item/6181 francia\n",
            "http://lod.sztaki.hu/data/item/6181 Combaz, Gisbert (1869-1941)\n",
            "http://lod.sztaki.hu/data/item/6181 műtárgy\n",
            "http://lod.sztaki.hu/data/item/6181 plakátművészet\n",
            "http://lod.sztaki.hu/data/item/6182 plakát\n",
            "http://lod.sztaki.hu/data/item/6182 eredeti\n",
            "http://lod.sztaki.hu/data/item/6182 angol\n",
            "http://lod.sztaki.hu/data/item/6182 Menpes, Mortimer (1855-1938)\n",
            "http://lod.sztaki.hu/data/item/6182 műtárgy\n",
            "http://lod.sztaki.hu/data/item/6182 plakátművészet\n",
            "http://lod.sztaki.hu/data/item/6183 szecesszió\n",
            "http://lod.sztaki.hu/data/item/6183 plakát\n",
            "http://lod.sztaki.hu/data/item/6183 eredeti\n",
            "http://lod.sztaki.hu/data/item/6183 francia\n",
            "http://lod.sztaki.hu/data/item/6183 Verneuil, Maurice Pillard (1869-)\n",
            "http://lod.sztaki.hu/data/item/6183 műtárgy\n",
            "http://lod.sztaki.hu/data/item/6183 plakátművészet\n",
            "http://lod.sztaki.hu/data/item/6185 szecesszió\n",
            "http://lod.sztaki.hu/data/item/6185 plakát\n",
            "http://lod.sztaki.hu/data/item/6185 eredeti\n",
            "http://lod.sztaki.hu/data/item/6185 angol\n",
            "http://lod.sztaki.hu/data/item/6185 műtárgy\n",
            "http://lod.sztaki.hu/data/item/6185 plakátművészet\n",
            "http://lod.sztaki.hu/data/item/6186 plakát\n",
            "http://lod.sztaki.hu/data/item/6186 eredeti\n",
            "http://lod.sztaki.hu/data/item/6186 Matejko, Theo (1893-1944)\n",
            "http://lod.sztaki.hu/data/item/6186 német\n",
            "http://lod.sztaki.hu/data/item/6186 1919\n",
            "http://lod.sztaki.hu/data/item/6186 műtárgy\n",
            "http://lod.sztaki.hu/data/item/6186 plakátművészet\n",
            "http://lod.sztaki.hu/data/item/6188 plakát\n",
            "http://lod.sztaki.hu/data/item/6188 eredeti\n",
            "http://lod.sztaki.hu/data/item/6188 Matejko, Theo (1893-1944)\n",
            "http://lod.sztaki.hu/data/item/6188 német\n",
            "http://lod.sztaki.hu/data/item/6188 műtárgy\n",
            "http://lod.sztaki.hu/data/item/6188 plakátművészet\n",
            "http://lod.sztaki.hu/data/item/6188 20. század első fele\n",
            "http://lod.sztaki.hu/data/item/6189 szecesszió\n",
            "http://lod.sztaki.hu/data/item/6189 plakát\n",
            "http://lod.sztaki.hu/data/item/6189 eredeti\n",
            "http://lod.sztaki.hu/data/item/6189 francia\n",
            "http://lod.sztaki.hu/data/item/6189 műtárgy\n",
            "http://lod.sztaki.hu/data/item/6189 plakátművészet\n",
            "http://lod.sztaki.hu/data/item/6190 szecesszió\n",
            "http://lod.sztaki.hu/data/item/6190 plakát\n",
            "http://lod.sztaki.hu/data/item/6190 eredeti\n",
            "http://lod.sztaki.hu/data/item/6190 Mucha, Alfons (1860-1939)\n",
            "http://lod.sztaki.hu/data/item/6190 cseh\n",
            "http://lod.sztaki.hu/data/item/6190 műtárgy\n",
            "http://lod.sztaki.hu/data/item/6190 plakátművészet\n",
            "http://lod.sztaki.hu/data/item/6192 szecesszió\n",
            "http://lod.sztaki.hu/data/item/6192 plakát\n",
            "http://lod.sztaki.hu/data/item/6192 eredeti\n",
            "http://lod.sztaki.hu/data/item/6192 francia\n",
            "http://lod.sztaki.hu/data/item/6192 Grasset, Eugene (1845-1917)\n",
            "http://lod.sztaki.hu/data/item/6192 Bernhardt, Sarah (1844-1923)\n",
            "http://lod.sztaki.hu/data/item/6192 műtárgy\n",
            "http://lod.sztaki.hu/data/item/6192 plakátművészet\n",
            "http://lod.sztaki.hu/data/item/6215 eredeti\n",
            "http://lod.sztaki.hu/data/item/6215 férfi\n",
            "http://lod.sztaki.hu/data/item/6215 fényképek\n",
            "http://lod.sztaki.hu/data/item/6215 20. század eleje\n",
            "http://lod.sztaki.hu/data/item/6215 akt\n",
            "http://lod.sztaki.hu/data/item/6215 fotóművészet\n",
            "http://lod.sztaki.hu/data/item/6217 eredeti\n",
            "http://lod.sztaki.hu/data/item/6217 férfi\n",
            "http://lod.sztaki.hu/data/item/6217 fényképek\n",
            "http://lod.sztaki.hu/data/item/6217 20. század eleje\n",
            "http://lod.sztaki.hu/data/item/6217 aktfotó\n",
            "http://lod.sztaki.hu/data/item/6217 fotóművészet\n",
            "http://lod.sztaki.hu/data/item/6221 eredeti\n",
            "http://lod.sztaki.hu/data/item/6221 fénykép\n",
            "http://lod.sztaki.hu/data/item/6221 mappa\n",
            "http://lod.sztaki.hu/data/item/6221 fotóművészet\n",
            "http://lod.sztaki.hu/data/item/6221 műtárgyfotó 19. század vége\n",
            "http://lod.sztaki.hu/data/item/6224 olasz\n",
            "http://lod.sztaki.hu/data/item/6224 eredeti\n",
            "http://lod.sztaki.hu/data/item/6224 fénykép\n",
            "http://lod.sztaki.hu/data/item/6224 reneszánsz\n",
            "http://lod.sztaki.hu/data/item/6224 Raffaello di Giovanni Santi (1483-1520)\n",
            "http://lod.sztaki.hu/data/item/6224 festészet 16. sz. eleje\n",
            "http://lod.sztaki.hu/data/item/6224 fotóművészet\n",
            "http://lod.sztaki.hu/data/item/6224 műtárgyfotó 19. sz. vége\n",
            "http://lod.sztaki.hu/data/item/6226 olasz\n",
            "http://lod.sztaki.hu/data/item/6226 eredeti\n",
            "http://lod.sztaki.hu/data/item/6226 fénykép\n",
            "http://lod.sztaki.hu/data/item/6226 reneszánsz\n",
            "http://lod.sztaki.hu/data/item/6226 Raffaello di Giovanni Santi (1483-1520)\n",
            "http://lod.sztaki.hu/data/item/6226 festészet 16. sz. eleje\n",
            "http://lod.sztaki.hu/data/item/6226 fotóművészet\n",
            "http://lod.sztaki.hu/data/item/6226 műtárgyfotó 19. sz. vége\n",
            "http://lod.sztaki.hu/data/item/6229 olasz\n",
            "http://lod.sztaki.hu/data/item/6229 eredeti\n",
            "http://lod.sztaki.hu/data/item/6229 fénykép\n",
            "http://lod.sztaki.hu/data/item/6229 reneszánsz\n",
            "http://lod.sztaki.hu/data/item/6229 freskó\n",
            "http://lod.sztaki.hu/data/item/6229 Veronese, Paolo (1528-1588)\n",
            "http://lod.sztaki.hu/data/item/6229 festészet 16. sz. második fele\n",
            "http://lod.sztaki.hu/data/item/6229 fotóművészet\n",
            "http://lod.sztaki.hu/data/item/6229 műtárgyfotó 19. sz. vége\n",
            "http://lod.sztaki.hu/data/item/6231 olasz\n",
            "http://lod.sztaki.hu/data/item/6231 eredeti\n",
            "http://lod.sztaki.hu/data/item/6231 fénykép\n",
            "http://lod.sztaki.hu/data/item/6231 reneszánsz\n",
            "http://lod.sztaki.hu/data/item/6231 freskó\n",
            "http://lod.sztaki.hu/data/item/6231 Correggio (1489-1534)\n",
            "http://lod.sztaki.hu/data/item/6231 fotóművészet\n",
            "http://lod.sztaki.hu/data/item/6231 műtárgyfotó 19. sz. vége\n",
            "http://lod.sztaki.hu/data/item/6231 festészet 16. sz. első harmada\n",
            "http://lod.sztaki.hu/data/item/6232 olasz\n",
            "http://lod.sztaki.hu/data/item/6232 eredeti\n",
            "http://lod.sztaki.hu/data/item/6232 fénykép\n",
            "http://lod.sztaki.hu/data/item/6232 reneszánsz\n",
            "http://lod.sztaki.hu/data/item/6232 freskó\n",
            "http://lod.sztaki.hu/data/item/6232 Corregio\n",
            "http://lod.sztaki.hu/data/item/6232 fotóművészet\n",
            "http://lod.sztaki.hu/data/item/6232 műtárgyfotó 19. sz. vége\n",
            "http://lod.sztaki.hu/data/item/6232 festészet 16. sz. első harmada\n",
            "http://lod.sztaki.hu/data/item/6233 olasz\n",
            "http://lod.sztaki.hu/data/item/6233 eredeti\n",
            "http://lod.sztaki.hu/data/item/6233 fénykép\n",
            "http://lod.sztaki.hu/data/item/6233 reneszánsz\n",
            "http://lod.sztaki.hu/data/item/6233 freskó\n",
            "http://lod.sztaki.hu/data/item/6233 Correggio (1489-1534)\n",
            "http://lod.sztaki.hu/data/item/6233 fotóművészet\n",
            "http://lod.sztaki.hu/data/item/6233 műtárgyfotó 19. sz. vége\n",
            "http://lod.sztaki.hu/data/item/6233 festészet 16. sz. első harmada\n",
            "http://lod.sztaki.hu/data/item/6234 olasz\n",
            "http://lod.sztaki.hu/data/item/6234 eredeti\n",
            "http://lod.sztaki.hu/data/item/6234 fénykép\n",
            "http://lod.sztaki.hu/data/item/6234 reneszánsz\n",
            "http://lod.sztaki.hu/data/item/6234 freskó\n",
            "http://lod.sztaki.hu/data/item/6234 Correggio (1489-1534)\n",
            "http://lod.sztaki.hu/data/item/6234 fotóművészet\n",
            "http://lod.sztaki.hu/data/item/6234 műtárgyfotó 19. sz. vége\n",
            "http://lod.sztaki.hu/data/item/6234 festészet 16. sz. első harmada\n",
            "http://lod.sztaki.hu/data/item/6235 olasz\n",
            "http://lod.sztaki.hu/data/item/6235 eredeti\n",
            "http://lod.sztaki.hu/data/item/6235 fénykép\n",
            "http://lod.sztaki.hu/data/item/6235 reneszánsz\n",
            "http://lod.sztaki.hu/data/item/6235 freskó\n",
            "http://lod.sztaki.hu/data/item/6235 Correggio (1489-1534)\n",
            "http://lod.sztaki.hu/data/item/6235 fotóművészet\n",
            "http://lod.sztaki.hu/data/item/6235 műtárgyfotó 19. sz. vége\n",
            "http://lod.sztaki.hu/data/item/6235 festészet 16. sz. első harmada\n",
            "http://lod.sztaki.hu/data/item/6238 olasz\n",
            "http://lod.sztaki.hu/data/item/6238 eredeti\n",
            "http://lod.sztaki.hu/data/item/6238 fénykép\n",
            "http://lod.sztaki.hu/data/item/6238 reneszánsz\n",
            "http://lod.sztaki.hu/data/item/6238 freskó\n",
            "http://lod.sztaki.hu/data/item/6238 Correggio (1489-1534)\n",
            "http://lod.sztaki.hu/data/item/6238 fotóművészet\n",
            "http://lod.sztaki.hu/data/item/6238 műtárgyfotó 19. sz. vége\n",
            "http://lod.sztaki.hu/data/item/6238 festészet 16. sz. első harmada\n",
            "http://lod.sztaki.hu/data/item/6245 olasz\n",
            "http://lod.sztaki.hu/data/item/6245 eredeti\n",
            "http://lod.sztaki.hu/data/item/6245 fénykép\n",
            "http://lod.sztaki.hu/data/item/6245 reneszánsz\n",
            "http://lod.sztaki.hu/data/item/6245 Raffaello di Giovanni Santi (1483-1520)\n",
            "http://lod.sztaki.hu/data/item/6245 festészet 16. sz. eleje\n",
            "http://lod.sztaki.hu/data/item/6245 fotóművészet\n",
            "http://lod.sztaki.hu/data/item/6245 műtárgyfotó 19. sz. vége\n",
            "http://lod.sztaki.hu/data/item/6255 olasz\n",
            "http://lod.sztaki.hu/data/item/6255 eredeti\n",
            "http://lod.sztaki.hu/data/item/6255 fénykép\n",
            "http://lod.sztaki.hu/data/item/6255 reneszánsz\n",
            "http://lod.sztaki.hu/data/item/6255 freskó\n",
            "http://lod.sztaki.hu/data/item/6255 Tiepolo, Giovanni Battista (1696-1770)\n",
            "http://lod.sztaki.hu/data/item/6255 festészet 18. sz.\n",
            "http://lod.sztaki.hu/data/item/6255 fotóművészet\n",
            "http://lod.sztaki.hu/data/item/6255 műtárgyfotó 19. sz. vége\n",
            "http://lod.sztaki.hu/data/item/6260 eredeti\n",
            "http://lod.sztaki.hu/data/item/6260 fénykép\n",
            "http://lod.sztaki.hu/data/item/6260 Verescagin, Vasilij Vasilevic (1842-1904)\n",
            "http://lod.sztaki.hu/data/item/6260 orosz\n",
            "http://lod.sztaki.hu/data/item/6260 festészet 19. sz. vége\n",
            "http://lod.sztaki.hu/data/item/6260 fotóművészet\n",
            "http://lod.sztaki.hu/data/item/6260 műtárgyfotó 19. sz. vége\n",
            "http://lod.sztaki.hu/data/item/6268 eredeti\n",
            "http://lod.sztaki.hu/data/item/6268 fénykép\n",
            "http://lod.sztaki.hu/data/item/6268 Verescagin, Vasilij Vasilevic (1842-1904)\n",
            "http://lod.sztaki.hu/data/item/6268 orosz\n",
            "http://lod.sztaki.hu/data/item/6268 festészet 19. sz. vége\n",
            "http://lod.sztaki.hu/data/item/6268 fotóművészet\n",
            "http://lod.sztaki.hu/data/item/6268 műtárgyfotó 19. sz. vége\n",
            "http://lod.sztaki.hu/data/item/6271 eredeti\n",
            "http://lod.sztaki.hu/data/item/6271 fénykép\n",
            "http://lod.sztaki.hu/data/item/6271 ipari fotó 20. sz. eleje\n",
            "http://lod.sztaki.hu/data/item/6271 textilipar\n",
            "http://lod.sztaki.hu/data/item/6271 fotóművészet\n",
            "http://lod.sztaki.hu/data/item/6272 eredeti\n",
            "http://lod.sztaki.hu/data/item/6272 fénykép\n",
            "http://lod.sztaki.hu/data/item/6272 ipari fotó 20. sz. eleje\n",
            "http://lod.sztaki.hu/data/item/6272 textilipar\n",
            "http://lod.sztaki.hu/data/item/6272 fotóművészet\n",
            "http://lod.sztaki.hu/data/item/6275 eredeti\n",
            "http://lod.sztaki.hu/data/item/6275 fénykép\n",
            "http://lod.sztaki.hu/data/item/6275 ipari fotó 20. sz. eleje\n",
            "http://lod.sztaki.hu/data/item/6275 háziipar\n",
            "http://lod.sztaki.hu/data/item/6275 textilipar\n",
            "http://lod.sztaki.hu/data/item/6275 fotóművészet\n",
            "http://lod.sztaki.hu/data/item/6276 eredeti\n",
            "http://lod.sztaki.hu/data/item/6276 fénykép\n",
            "http://lod.sztaki.hu/data/item/6276 ipari fotó 20. sz. eleje\n",
            "http://lod.sztaki.hu/data/item/6276 háziipar\n",
            "http://lod.sztaki.hu/data/item/6276 textilipar\n",
            "http://lod.sztaki.hu/data/item/6276 fotóművészet\n",
            "http://lod.sztaki.hu/data/item/6277 eredeti\n",
            "http://lod.sztaki.hu/data/item/6277 fénykép\n",
            "http://lod.sztaki.hu/data/item/6277 ipari fotó 20. sz. eleje\n",
            "http://lod.sztaki.hu/data/item/6277 háziipar\n",
            "http://lod.sztaki.hu/data/item/6277 textilipar\n",
            "http://lod.sztaki.hu/data/item/6277 fotóművészet\n",
            "http://lod.sztaki.hu/data/item/6282 eredeti\n",
            "http://lod.sztaki.hu/data/item/6282 fénykép\n",
            "http://lod.sztaki.hu/data/item/6282 ipari fotó 20. sz. eleje\n",
            "http://lod.sztaki.hu/data/item/6282 textilipar\n",
            "http://lod.sztaki.hu/data/item/6282 fotóművészet\n",
            "http://lod.sztaki.hu/data/item/6283 eredeti\n",
            "http://lod.sztaki.hu/data/item/6283 fénykép\n",
            "http://lod.sztaki.hu/data/item/6283 ipari fotó 20. sz. eleje\n",
            "http://lod.sztaki.hu/data/item/6283 textilipar\n",
            "http://lod.sztaki.hu/data/item/6283 fotóművészet\n",
            "http://lod.sztaki.hu/data/item/6287 eredeti\n",
            "http://lod.sztaki.hu/data/item/6287 fénykép\n",
            "http://lod.sztaki.hu/data/item/6287 ipari fotó 20. sz. eleje\n",
            "http://lod.sztaki.hu/data/item/6287 élelmiszeripar\n",
            "http://lod.sztaki.hu/data/item/6287 fotóművészet\n",
            "http://lod.sztaki.hu/data/item/6288 eredeti\n",
            "http://lod.sztaki.hu/data/item/6288 fénykép\n",
            "http://lod.sztaki.hu/data/item/6288 ipari fotó 20. sz. eleje\n",
            "http://lod.sztaki.hu/data/item/6288 élelmiszeripar\n",
            "http://lod.sztaki.hu/data/item/6288 fotóművészet\n",
            "http://lod.sztaki.hu/data/item/6290 eredeti\n",
            "http://lod.sztaki.hu/data/item/6290 fénykép\n",
            "http://lod.sztaki.hu/data/item/6290 ipari fotó 20. sz. eleje\n",
            "http://lod.sztaki.hu/data/item/6290 élelmiszeripar\n",
            "http://lod.sztaki.hu/data/item/6290 fotóművészet\n",
            "http://lod.sztaki.hu/data/item/6294 eredeti\n",
            "http://lod.sztaki.hu/data/item/6294 fénykép\n",
            "http://lod.sztaki.hu/data/item/6294 ipari fotó 20. sz. eleje\n",
            "http://lod.sztaki.hu/data/item/6294 kohászat\n",
            "http://lod.sztaki.hu/data/item/6294 fotóművészet\n",
            "http://lod.sztaki.hu/data/item/6296 eredeti\n",
            "http://lod.sztaki.hu/data/item/6296 fénykép\n",
            "http://lod.sztaki.hu/data/item/6296 ipari fotó 20. sz. eleje\n",
            "http://lod.sztaki.hu/data/item/6296 kohászat\n",
            "http://lod.sztaki.hu/data/item/6296 fotóművészet\n",
            "http://lod.sztaki.hu/data/item/6297 eredeti\n",
            "http://lod.sztaki.hu/data/item/6297 fénykép\n",
            "http://lod.sztaki.hu/data/item/6297 ipari fotó 20. sz. eleje\n",
            "http://lod.sztaki.hu/data/item/6297 fotóművészet\n",
            "http://lod.sztaki.hu/data/item/6299 eredeti\n",
            "http://lod.sztaki.hu/data/item/6299 fénykép\n",
            "http://lod.sztaki.hu/data/item/6299 ipari fotó 20. sz. eleje\n",
            "http://lod.sztaki.hu/data/item/6299 bányászat\n",
            "http://lod.sztaki.hu/data/item/6299 fotóművészet\n",
            "http://lod.sztaki.hu/data/item/6300 eredeti\n",
            "http://lod.sztaki.hu/data/item/6300 fénykép\n",
            "http://lod.sztaki.hu/data/item/6300 ipari fotó 20. sz. eleje\n",
            "http://lod.sztaki.hu/data/item/6300 bányászat\n",
            "http://lod.sztaki.hu/data/item/6300 fotóművészet\n",
            "http://lod.sztaki.hu/data/item/6303 eredeti\n",
            "http://lod.sztaki.hu/data/item/6303 fénykép\n",
            "http://lod.sztaki.hu/data/item/6303 ipari fotó 20. sz. eleje\n",
            "http://lod.sztaki.hu/data/item/6303 fotóművészet\n",
            "http://lod.sztaki.hu/data/item/6303 kézművesség\n",
            "http://lod.sztaki.hu/data/item/6304 eredeti\n",
            "http://lod.sztaki.hu/data/item/6304 fénykép\n",
            "http://lod.sztaki.hu/data/item/6304 ipari fotó 20. sz. eleje\n",
            "http://lod.sztaki.hu/data/item/6304 gyémánt\n",
            "http://lod.sztaki.hu/data/item/6304 fotóművészet\n",
            "http://lod.sztaki.hu/data/item/6306 eredeti\n",
            "http://lod.sztaki.hu/data/item/6306 fénykép\n",
            "http://lod.sztaki.hu/data/item/6306 ipari fotó 20. sz. eleje\n",
            "http://lod.sztaki.hu/data/item/6306 fotóművészet\n",
            "http://lod.sztaki.hu/data/item/6306 drágakő\n",
            "http://lod.sztaki.hu/data/item/6314 eredeti\n",
            "http://lod.sztaki.hu/data/item/6314 fénykép\n",
            "http://lod.sztaki.hu/data/item/6314 ipari fotó 20. sz. eleje\n",
            "http://lod.sztaki.hu/data/item/6314 porcelán\n",
            "http://lod.sztaki.hu/data/item/6314 porcelánfestés\n",
            "http://lod.sztaki.hu/data/item/6314 fotóművészet\n",
            "http://lod.sztaki.hu/data/item/6319 eredeti\n",
            "http://lod.sztaki.hu/data/item/6319 fénykép\n",
            "http://lod.sztaki.hu/data/item/6319 ipari fotó 20. sz. eleje\n",
            "http://lod.sztaki.hu/data/item/6319 üvegkészítés\n",
            "http://lod.sztaki.hu/data/item/6319 fotóművészet\n",
            "http://lod.sztaki.hu/data/item/6320 eredeti\n",
            "http://lod.sztaki.hu/data/item/6320 fénykép\n",
            "http://lod.sztaki.hu/data/item/6320 ipari fotó 20. sz. eleje\n",
            "http://lod.sztaki.hu/data/item/6320 üvegkészítés\n",
            "http://lod.sztaki.hu/data/item/6320 fotóművészet\n",
            "http://lod.sztaki.hu/data/item/6321 eredeti\n",
            "http://lod.sztaki.hu/data/item/6321 fénykép\n",
            "http://lod.sztaki.hu/data/item/6321 ipari fotó 20. sz. eleje\n",
            "http://lod.sztaki.hu/data/item/6321 bronz\n",
            "http://lod.sztaki.hu/data/item/6321 díszítmény\n",
            "http://lod.sztaki.hu/data/item/6321 fotóművészet\n",
            "http://lod.sztaki.hu/data/item/6322 eredeti\n",
            "http://lod.sztaki.hu/data/item/6322 fénykép\n",
            "http://lod.sztaki.hu/data/item/6322 ipari fotó 20. sz. eleje\n",
            "http://lod.sztaki.hu/data/item/6322 dohánygyár\n",
            "http://lod.sztaki.hu/data/item/6322 fotóművészet\n",
            "http://lod.sztaki.hu/data/item/6328 eredeti\n",
            "http://lod.sztaki.hu/data/item/6328 fénykép\n",
            "http://lod.sztaki.hu/data/item/6328 ipari fotó 20. sz. eleje\n",
            "http://lod.sztaki.hu/data/item/6328 papíripar\n",
            "http://lod.sztaki.hu/data/item/6328 fotóművészet\n",
            "http://lod.sztaki.hu/data/item/6330 eredeti\n",
            "http://lod.sztaki.hu/data/item/6330 fénykép\n",
            "http://lod.sztaki.hu/data/item/6330 ipari fotó 20. sz. eleje\n",
            "http://lod.sztaki.hu/data/item/6330 papíripar\n",
            "http://lod.sztaki.hu/data/item/6330 fotóművészet\n",
            "http://lod.sztaki.hu/data/item/6332 eredeti\n",
            "http://lod.sztaki.hu/data/item/6332 fénykép\n",
            "http://lod.sztaki.hu/data/item/6332 ipari fotó 20. sz. eleje\n",
            "http://lod.sztaki.hu/data/item/6332 fakitermelés\n",
            "http://lod.sztaki.hu/data/item/6332 fotóművészet\n",
            "http://lod.sztaki.hu/data/item/6333 eredeti\n",
            "http://lod.sztaki.hu/data/item/6333 fénykép\n",
            "http://lod.sztaki.hu/data/item/6333 ipari fotó 20. sz. eleje\n",
            "http://lod.sztaki.hu/data/item/6333 fakitermelés\n",
            "http://lod.sztaki.hu/data/item/6333 fotóművészet\n",
            "http://lod.sztaki.hu/data/item/6334 eredeti\n",
            "http://lod.sztaki.hu/data/item/6334 fénykép\n",
            "http://lod.sztaki.hu/data/item/6334 ipari fotó 20. sz. eleje\n",
            "http://lod.sztaki.hu/data/item/6334 fakitermelés\n",
            "http://lod.sztaki.hu/data/item/6334 fotóművészet\n",
            "http://lod.sztaki.hu/data/item/6336 eredeti\n",
            "http://lod.sztaki.hu/data/item/6336 fénykép\n",
            "http://lod.sztaki.hu/data/item/6336 ipari fotó 20. sz. eleje\n",
            "http://lod.sztaki.hu/data/item/6336 fakitermelés\n",
            "http://lod.sztaki.hu/data/item/6336 fotóművészet\n",
            "http://lod.sztaki.hu/data/item/6341 eredeti\n",
            "http://lod.sztaki.hu/data/item/6341 fénykép\n",
            "http://lod.sztaki.hu/data/item/6341 ipari fotó 20. sz. eleje\n",
            "http://lod.sztaki.hu/data/item/6341 fakitermelés\n",
            "http://lod.sztaki.hu/data/item/6341 fotóművészet\n",
            "http://lod.sztaki.hu/data/item/6350 eredeti\n",
            "http://lod.sztaki.hu/data/item/6350 fénykép\n",
            "http://lod.sztaki.hu/data/item/6350 ipari fotó 20. sz. eleje\n",
            "http://lod.sztaki.hu/data/item/6350 háziipar\n",
            "http://lod.sztaki.hu/data/item/6350 kötél\n",
            "http://lod.sztaki.hu/data/item/6350 kötélgyártás\n",
            "http://lod.sztaki.hu/data/item/6350 fotóművészet\n",
            "http://lod.sztaki.hu/data/item/6351 eredeti\n",
            "http://lod.sztaki.hu/data/item/6351 fénykép\n",
            "http://lod.sztaki.hu/data/item/6351 ipari fotó 20. sz. eleje\n",
            "http://lod.sztaki.hu/data/item/6351 háziipar\n",
            "http://lod.sztaki.hu/data/item/6351 textilipar\n",
            "http://lod.sztaki.hu/data/item/6351 fotóművészet\n",
            "http://lod.sztaki.hu/data/item/6353 eredeti\n",
            "http://lod.sztaki.hu/data/item/6353 fénykép\n",
            "http://lod.sztaki.hu/data/item/6353 állattenyésztés\n",
            "http://lod.sztaki.hu/data/item/6353 fotóművészet\n",
            "http://lod.sztaki.hu/data/item/6353 mezőgazdasági fotó 20. sz. eleje\n",
            "http://lod.sztaki.hu/data/item/6357 eredeti\n",
            "http://lod.sztaki.hu/data/item/6357 fénykép\n",
            "http://lod.sztaki.hu/data/item/6357 ipari fotó 20. sz. eleje\n",
            "http://lod.sztaki.hu/data/item/6357 bálna\n",
            "http://lod.sztaki.hu/data/item/6357 bálnavadászat\n",
            "http://lod.sztaki.hu/data/item/6357 fotóművészet\n",
            "http://lod.sztaki.hu/data/item/6358 eredeti\n",
            "http://lod.sztaki.hu/data/item/6358 fénykép\n",
            "http://lod.sztaki.hu/data/item/6358 ipari fotó 20. sz. eleje\n",
            "http://lod.sztaki.hu/data/item/6358 bálna\n",
            "http://lod.sztaki.hu/data/item/6358 bálnavadászat\n",
            "http://lod.sztaki.hu/data/item/6358 fotóművészet\n",
            "http://lod.sztaki.hu/data/item/6359 eredeti\n",
            "http://lod.sztaki.hu/data/item/6359 fénykép\n",
            "http://lod.sztaki.hu/data/item/6359 ipari fotó 20. sz. eleje\n",
            "http://lod.sztaki.hu/data/item/6359 élelmiszeripar\n",
            "http://lod.sztaki.hu/data/item/6359 halfeldolgozás\n",
            "http://lod.sztaki.hu/data/item/6359 halászat\n",
            "http://lod.sztaki.hu/data/item/6359 fotóművészet\n"
          ]
        }
      ],
      "source": [
        "#we only consider dct:subject\n",
        "qmh2error = '''\n",
        "PREFIX dc: <dct:http://purl.org/dc/terms/> \n",
        "SELECT distinct ?URI ?subject WHERE {\n",
        "?URI dc:type dcmitype:Image;\n",
        "dc:subject ?subject .\n",
        "BIND(RAND() AS ?sortKey)\n",
        "}\n",
        "ORDER BY ?sortKey\n",
        "LIMIT 100'''\n",
        "\n",
        "qmh2 = '''PREFIX dc: <http://purl.org/dc/terms/> \n",
        "SELECT distinct ?URI ?subject WHERE {\n",
        "?URI dc:type dcmitype:Image;\n",
        "dc:subject ?subject .\n",
        "}\n",
        "'''\n",
        "\n",
        "resqmh2 = sparl_query_setting(qmh2, nd_hungary)\n",
        "for el in resqmh2[\"results\"][\"bindings\"]:\n",
        "  print(el[\"URI\"][\"value\"], el[\"subject\"][\"value\"])"
      ]
    },
    {
      "cell_type": "code",
      "execution_count": null,
      "metadata": {
        "id": "AdNEF_m0nWuH"
      },
      "outputs": [],
      "source": [
        "# DBpedia"
      ]
    },
    {
      "cell_type": "code",
      "execution_count": null,
      "metadata": {
        "id": "isEzYwor925G"
      },
      "outputs": [],
      "source": [
        "# random datasets of artwork and subjects\n",
        "qmdb1 = '''\n",
        "prefix dbo: <http://dbpedia.org/ontology/>\n",
        "prefix dct: <http://purl.org/dc/terms/>\n",
        "prefix dbp: <http://dbpedia.org/property/>\n",
        "SELECT distinct ?artwork ?subject WHERE {\n",
        "?artwork a dbo:Artwork;\n",
        "dbp:subject ?subject .\n",
        "}ORDER BY RAND()\n",
        "LIMIT 100'''\n",
        "\n",
        "resmdb1 = sparl_query_setting(qmdb1, dbpedia)\n"
      ]
    },
    {
      "cell_type": "code",
      "execution_count": null,
      "metadata": {
        "colab": {
          "base_uri": "https://localhost:8080/"
        },
        "id": "ParB35n_BXpb",
        "outputId": "e1259c1a-ec51-41b6-b918-9c22feee1204"
      },
      "outputs": [
        {
          "name": "stdout",
          "output_type": "stream",
          "text": [
            "http://dbpedia.org/resource/Statue_of_Lenin_(Seattle) http://dbpedia.org/resource/Vladimir_Lenin\n",
            "http://dbpedia.org/resource/Cadran_solaire http://dbpedia.org/resource/Sundial\n",
            "http://dbpedia.org/resource/Statue_of_Adolf_Dassler Adolf Dassler\n",
            "http://dbpedia.org/resource/Statue_of_Kurt_Christoph_Graf_von_Schwerin http://dbpedia.org/resource/Kurt_Christoph_Graf_von_Schwerin\n",
            "http://dbpedia.org/resource/Tragic_Prelude http://dbpedia.org/resource/John_Brown_(abolitionist)\n",
            "http://dbpedia.org/resource/Statue_of_William_Lloyd_Garrison http://dbpedia.org/resource/William_Lloyd_Garrison\n",
            "http://dbpedia.org/resource/Statue_of_Andrew_Jackson_(Jackson,_Mississippi) http://dbpedia.org/resource/Andrew_Jackson\n",
            "http://dbpedia.org/resource/Commodus_as_Hercules Commodus\n",
            "http://dbpedia.org/resource/Head_of_Saint_John_the_Baptist_(Auguste_Rodin) http://dbpedia.org/resource/John_the_Baptist\n",
            "http://dbpedia.org/resource/Vision_of_the_Apocalypse_(Bathas) Revelation of Saint John the Divine\n",
            "http://dbpedia.org/resource/Great_Blue_Heron_(sculpture) http://dbpedia.org/resource/Great_blue_heron\n",
            "http://dbpedia.org/resource/Statue_of_Christopher_Columbus_(Wilkes-Barre,_Pennsylvania) Christopher Columbus\n",
            "http://dbpedia.org/resource/Portrait_of_Bartolomeo_Bonghi Bartolomeo Bonghi\n",
            "http://dbpedia.org/resource/Hanky_Panky_(painting) Justin Trudeau\n",
            "http://dbpedia.org/resource/Statue_of_Roberto_Clemente http://dbpedia.org/resource/Roberto_Clemente\n",
            "http://dbpedia.org/resource/J._F._Kennedy_Memorial,_Birmingham http://dbpedia.org/resource/John_F._Kennedy\n",
            "http://dbpedia.org/resource/Lady_with_an_Ermine http://dbpedia.org/resource/Cecilia_Gallerani\n",
            "http://dbpedia.org/resource/Three_Elements a red square, a yellow triangle and a blue circle among coulours and shapes\n",
            "http://dbpedia.org/resource/Simón_Bolívar_(Tadolini) http://dbpedia.org/resource/Simón_Bolívar\n",
            "http://dbpedia.org/resource/The_Princesse_de_Broglie \n",
            "http://dbpedia.org/resource/The_Dead_Lovers http://dbpedia.org/resource/Decomposition\n",
            "http://dbpedia.org/resource/Equestrian_statue_of_Joseph_Hooker http://dbpedia.org/resource/Joseph_Hooker\n",
            "http://dbpedia.org/resource/Portrait_of_Minerva_Anguissola_(Milan) Minerva Anguissola\n",
            "http://dbpedia.org/resource/Ugolino_and_His_Sons_(Rodin) http://dbpedia.org/resource/Ugolino_della_Gherardesca\n",
            "http://dbpedia.org/resource/Statue_of_Christopher_Columbus_(Richmond,_Virginia) http://dbpedia.org/resource/Christopher_Columbus\n",
            "http://dbpedia.org/resource/Landscape_with_Animals cattle, sheep, goats, and a donkey, with a herder and his dog\n",
            "http://dbpedia.org/resource/Statue_of_Pete_Wilson http://dbpedia.org/resource/Pete_Wilson\n",
            "http://dbpedia.org/resource/Statue_of_John_Carroll http://dbpedia.org/resource/John_Carroll_(archbishop_of_Baltimore)\n",
            "http://dbpedia.org/resource/Chabimura God and Goddess in Rock carving\n",
            "http://dbpedia.org/resource/A_Handshake_for_the_Century Jackie Robinson\n",
            "http://dbpedia.org/resource/Marlowe_portrait Unknown man, perhaps Christopher Marlowe\n",
            "http://dbpedia.org/resource/Teucer_statue http://dbpedia.org/resource/Teucer\n",
            "http://dbpedia.org/resource/Ray_of_Light_(sculpture) Water\n",
            "http://dbpedia.org/resource/Statue_of_John_Sevier http://dbpedia.org/resource/John_Sevier\n",
            "http://dbpedia.org/resource/James_Zachariah_George_(Lukeman) http://dbpedia.org/resource/James_Z._George\n",
            "http://dbpedia.org/resource/Statue_of_John_Campbell_Greenway http://dbpedia.org/resource/John_Campbell_Greenway\n",
            "http://dbpedia.org/resource/Colossal_statue_of_Amenhotep_III_and_Tiye http://dbpedia.org/resource/Tiye\n",
            "http://dbpedia.org/resource/Portrait_of_Abraham_de_Potter Abraham de Potter\n",
            "http://dbpedia.org/resource/Statue_of_Elizabeth_II_(Winnipeg) http://dbpedia.org/resource/Elizabeth_II\n",
            "http://dbpedia.org/resource/Statue_of_Mother_Joseph http://dbpedia.org/resource/Mother_Joseph_Pariseau\n",
            "http://dbpedia.org/resource/Angels_Unawares Group of migrants and refugees\n",
            "http://dbpedia.org/resource/Statue_of_Benito_Juárez,_Cholula http://dbpedia.org/resource/Benito_Juárez\n",
            "http://dbpedia.org/resource/Ponce_Honra_a_su_Maestra:_Lolita_Tizol Lolita Tizol and two of her schoolchildren\n",
            "http://dbpedia.org/resource/Señora_de_Sorolla_in_Black Clotilde García del Castillo\n",
            "http://dbpedia.org/resource/Paris_in_Motion_(photography) Paris\n",
            "http://dbpedia.org/resource/Super_Robot_-_Suffer_Reboot http://dbpedia.org/resource/Mecha\n",
            "http://dbpedia.org/resource/Statue_of_John_Howard,_Bedford John Howard\n",
            "http://dbpedia.org/resource/How_Doth_the_Little_Crocodile_(Carrington) \"How Doth the Little Crocodile\"\n",
            "http://dbpedia.org/resource/The_Large_Horse http://dbpedia.org/resource/Horse\n",
            "http://dbpedia.org/resource/Three_Studies_of_Lucian_Freud http://dbpedia.org/resource/Lucian_Freud\n",
            "http://dbpedia.org/resource/The_Immaculate_Conception_with_Saint_Lawrence_and_Saint_Francis_of_Paola http://dbpedia.org/resource/Saint_Lawrence\n",
            "http://dbpedia.org/resource/Bust_of_Bernardino_Rivadavia http://dbpedia.org/resource/Bernardino_Rivadavia\n",
            "http://dbpedia.org/resource/Performing_Frogs Frogs\n",
            "http://dbpedia.org/resource/Remember_To_Rise Modern Second Scramble For Africa\n",
            "http://dbpedia.org/resource/Statue_of_Huey_Long http://dbpedia.org/resource/Huey_Long\n",
            "http://dbpedia.org/resource/Macomb's_Dam_Bridge_(painting) http://dbpedia.org/resource/Macombs_Dam_Bridge\n",
            "http://dbpedia.org/resource/Great_Vanity_(Stoskopff) http://dbpedia.org/resource/Vanity\n",
            "http://dbpedia.org/resource/Farnese_Hercules http://dbpedia.org/resource/Hercules\n",
            "http://dbpedia.org/resource/Lion_of_Mari Lion\n",
            "http://dbpedia.org/resource/Whale_(sculpture) Whale\n",
            "http://dbpedia.org/resource/Tombe_à_la_fille Cross\n",
            "http://dbpedia.org/resource/Zuijin_Teiki_Emaki Equestrian portraits of Imperial Guards\n",
            "http://dbpedia.org/resource/Statue_of_Queen_Victoria,_Valletta http://dbpedia.org/resource/Queen_Victoria\n",
            "http://dbpedia.org/resource/L'Orage http://dbpedia.org/resource/Landscape_painting\n",
            "http://dbpedia.org/resource/La_Petite_Fabrique a factory on a meadow, with people walking by\n",
            "http://dbpedia.org/resource/Tritons'_Fountain http://dbpedia.org/resource/Triton_(mythology)\n",
            "http://dbpedia.org/resource/Earthly_Vanity_and_Divine_Salvation_(Memling) http://dbpedia.org/resource/Christ_in_Majesty\n",
            "http://dbpedia.org/resource/Statue_of_the_Viscount_Montgomery,_London http://dbpedia.org/resource/Bernard_Montgomery\n",
            "http://dbpedia.org/resource/Statue_of_Ernest_Gruening http://dbpedia.org/resource/Ernest_Gruening\n",
            "http://dbpedia.org/resource/Equestrian_statue_of_Edward_Horner Edward Horner\n",
            "http://dbpedia.org/resource/Statue_of_Ken_Shimura http://dbpedia.org/resource/Ken_Shimura\n",
            "http://dbpedia.org/resource/Ambrosius_Volmar_Keller_(Baldung) Canon Ambrosius Volmar Keller\n",
            "http://dbpedia.org/resource/Prometheus_(Zach) http://dbpedia.org/resource/Prometheus\n",
            "http://dbpedia.org/resource/Statue_of_Mary_Seacole http://dbpedia.org/resource/Mary_Seacole\n",
            "http://dbpedia.org/resource/Jezreel_Valley_Railway_monument Opening of the Jezreel Valley Railway\n",
            "http://dbpedia.org/resource/Calvary,_Charles_Bridge http://dbpedia.org/resource/Jesus\n",
            "http://dbpedia.org/resource/Urban_Hydrology Diatoms\n",
            "http://dbpedia.org/resource/Arthur_Schopenhauer_(sculpture) http://dbpedia.org/resource/Arthur_Schopenhauer\n",
            "http://dbpedia.org/resource/All_the_Mistakes_I've_Made Mistakes in films; film criticism\n",
            "http://dbpedia.org/resource/Stevie_Ray_Vaughan_Memorial http://dbpedia.org/resource/Stevie_Ray_Vaughan\n",
            "http://dbpedia.org/resource/El_Cid_Campeador_(sculpture) http://dbpedia.org/resource/El_Cid\n",
            "http://dbpedia.org/resource/Mezzetino_(painting) Mezzetino playing guitar\n",
            "http://dbpedia.org/resource/Femme_nue_dormant_au_bord_de_l'eau a sleeping nude in a landscape\n",
            "http://dbpedia.org/resource/Colossal_quartzite_statue_of_Amenhotep_III http://dbpedia.org/resource/Pharaoh\n",
            "http://dbpedia.org/resource/Museum_of_Capitalism http://dbpedia.org/resource/Post-capitalism\n",
            "http://dbpedia.org/resource/Statue_of_St._John_of_Nepomuk_in_Divina Saint John of Nepomuk\n",
            "http://dbpedia.org/resource/Statue_of_James_Henry_Greathead,_London http://dbpedia.org/resource/James_Henry_Greathead\n",
            "http://dbpedia.org/resource/These_Are_My_Jewels Ulysses S. Grant\n",
            "http://dbpedia.org/resource/Statue_of_Jan_Hendrik_Hofmeyr Jan Hendrik Hofmeyr\n",
            "http://dbpedia.org/resource/Athenaeum_Portrait http://dbpedia.org/resource/George_Washington\n",
            "http://dbpedia.org/resource/Statue_of_Tony_DeMarco http://dbpedia.org/resource/Tony_DeMarco\n",
            "http://dbpedia.org/resource/Statue_of_Rosa_Parks_(U.S._Capitol) http://dbpedia.org/resource/Rosa_Parks\n",
            "http://dbpedia.org/resource/California_Spring_(painting) http://dbpedia.org/resource/California_Spring\n",
            "http://dbpedia.org/resource/Statue_of_Edward_Douglass_White http://dbpedia.org/resource/Edward_Douglass_White\n",
            "http://dbpedia.org/resource/Portrait_of_the_Loredan_family http://dbpedia.org/resource/House_of_Loredan\n",
            "http://dbpedia.org/resource/Equestrian_statue_of_Simón_Bolívar_(Central_Park) http://dbpedia.org/resource/Simón_Bolívar\n",
            "http://dbpedia.org/resource/Statue_of_Christopher_Columbus_(Chicago) Christopher Columbus\n",
            "http://dbpedia.org/resource/Equestrian_statue_of_Louis_XIV_(Bernini) http://dbpedia.org/resource/Louis_XIV\n",
            "http://dbpedia.org/resource/The_Goldfinch_(painting) http://dbpedia.org/resource/European_goldfinch\n",
            "http://dbpedia.org/resource/Nepenthes_(sculpture) Nepenthes\n"
          ]
        }
      ],
      "source": [
        "for el in resmdb1[\"results\"][\"bindings\"]:\n",
        "  print(el[\"artwork\"][\"value\"], el[\"subject\"][\"value\"])"
      ]
    },
    {
      "cell_type": "code",
      "execution_count": null,
      "metadata": {
        "id": "8eB9p7yyB8zL"
      },
      "outputs": [],
      "source": [
        ""
      ]
    }
  ],
  "metadata": {
    "colab": {
      "collapsed_sections": [
        "IYKMbCOZdTGT",
        "_E-17dARkZTA",
        "k5L5Sb25k29A",
        "3cyLQuhjhcky",
        "RrwXKvnmi9oN",
        "YgbGkcrWkCXA",
        "1GgtrJhZnWWC",
        "6nkug8TCptU6",
        "kQ0ii9hjquMu",
        "H6cG5Rj4JjQ8",
        "9m-eJ14SKSjv"
      ],
      "name": "Datastatistics.ipynb",
      "toc_visible": true,
      "provenance": []
    },
    "kernelspec": {
      "display_name": "Python 3",
      "name": "python3"
    },
    "language_info": {
      "name": "python"
    }
  },
  "nbformat": 4,
  "nbformat_minor": 0
}