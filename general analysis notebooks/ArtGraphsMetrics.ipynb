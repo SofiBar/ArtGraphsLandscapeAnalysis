{
 "cells": [
  {
   "cell_type": "code",
   "execution_count": 7,
   "metadata": {
    "colab": {
     "base_uri": "https://localhost:8080/"
    },
    "id": "lbJEgw901nn6",
    "outputId": "5ef65783-2071-4fd9-e495-54c09101e241"
   },
   "outputs": [
    {
     "name": "stdout",
     "output_type": "stream",
     "text": [
      "Requirement already satisfied: SPARQLWrapper in /usr/local/lib/python3.7/dist-packages (2.0.0)\n",
      "Requirement already satisfied: rdflib>=6.1.1 in /usr/local/lib/python3.7/dist-packages (from SPARQLWrapper) (6.1.1)\n",
      "Requirement already satisfied: pyparsing in /usr/local/lib/python3.7/dist-packages (from rdflib>=6.1.1->SPARQLWrapper) (3.0.8)\n",
      "Requirement already satisfied: isodate in /usr/local/lib/python3.7/dist-packages (from rdflib>=6.1.1->SPARQLWrapper) (0.6.1)\n",
      "Requirement already satisfied: importlib-metadata in /usr/local/lib/python3.7/dist-packages (from rdflib>=6.1.1->SPARQLWrapper) (4.11.3)\n",
      "Requirement already satisfied: setuptools in /usr/local/lib/python3.7/dist-packages (from rdflib>=6.1.1->SPARQLWrapper) (57.4.0)\n",
      "Requirement already satisfied: zipp>=0.5 in /usr/local/lib/python3.7/dist-packages (from importlib-metadata->rdflib>=6.1.1->SPARQLWrapper) (3.8.0)\n",
      "Requirement already satisfied: typing-extensions>=3.6.4 in /usr/local/lib/python3.7/dist-packages (from importlib-metadata->rdflib>=6.1.1->SPARQLWrapper) (4.2.0)\n",
      "Requirement already satisfied: six in /usr/local/lib/python3.7/dist-packages (from isodate->rdflib>=6.1.1->SPARQLWrapper) (1.15.0)\n"
     ]
    }
   ],
   "source": [
    "!pip install SPARQLWrapper\n",
    "\n",
    "from SPARQLWrapper import SPARQLWrapper, JSON\n",
    "import ssl\n",
    "import csv\n",
    "import os"
   ]
  },
  {
   "cell_type": "code",
   "execution_count": 1,
   "metadata": {},
   "outputs": [],
   "source": [
    "from SPARQLWrapper import SPARQLWrapper, JSON\n",
    "import ssl\n",
    "import csv\n",
    "import os"
   ]
  },
  {
   "cell_type": "code",
   "execution_count": 2,
   "metadata": {
    "id": "UnHUUGNP30U2"
   },
   "outputs": [],
   "source": [
    "def sparl_query_setting(query, endpoint):# set the endpoint \n",
    "  sparql = SPARQLWrapper(endpoint)\n",
    "  # set the query\n",
    "  sparql.setQuery(query)\n",
    "  # set the returned format\n",
    "  sparql.setReturnFormat(JSON)\n",
    "  # get the results\n",
    "  results = sparql.query().convert()\n",
    "  return results"
   ]
  },
  {
   "cell_type": "code",
   "execution_count": 8,
   "metadata": {
    "id": "DkGfzdM46njn"
   },
   "outputs": [],
   "source": [
    "\n",
    "def sample_selection(csv_to_create, query, endpoint, var_list): \n",
    "  with open(csv_to_create, mode='a') as my_file: \n",
    "    my_file = csv.writer(my_file, delimiter=',', quotechar='\"', quoting=csv.QUOTE_ALL)\n",
    "    if os.stat(csv_to_create).st_size == 0:\n",
    "        my_file.writerow(var_list)\n",
    "    res = sparl_query_setting(query, endpoint)\n",
    "    for result in res[\"results\"][\"bindings\"]:\n",
    "      result_list = []\n",
    "      for var in var_list: \n",
    "        if var not in result: \n",
    "          new_var = \"none\"\n",
    "        else:\n",
    "          new_var = result[var][\"value\"]\n",
    "        result_list.append(new_var)\n",
    "      my_file.writerow(result_list)\n",
    "\n"
   ]
  },
  {
   "cell_type": "code",
   "execution_count": 4,
   "metadata": {
    "id": "f7Ti8KrE33d0"
   },
   "outputs": [],
   "source": [
    "finland = \"http://ldf.fi/mufi/sparql\"\n",
    "cervantes = \"http://data.cervantesvirtual.com/sparql\"\n",
    "es_cultura= \"https://datos.bne.es/sparql\"\n",
    "nl_spain = \"http://cultura.linkeddata.es/sparql\"\n",
    "nd_hungary = \"https://lod.sztaki.hu/sparql\"\n",
    "smithsonian = \"https://api.triplydb.com/datasets/smithsonian/american-art-museum/services/american-art-museum/sparql\"\n",
    "american_lod = \"https://data.americanartcollaborative.org/sparql\"\n",
    "dbpedia = \"https://dbpedia.org/sparql\"\n",
    "yago = \"https://yago-knowledge.org/sparql/query\"\n",
    "sari_endpoint= \"https://rds.swissartresearch.net/sparql\"\n",
    "arco_endpoint = \"https://dati.beniculturali.it/sparql\"\n",
    "wd_endpoint = \"https://query.wikidata.org/bigdata/namespace/wdq/sparql\"\n",
    "zeri_endpoint = \"http://data.fondazionezeri.unibo.it/sparql\"\n",
    "mmm_endpoint = \"http://ldf.fi/mmm/sparql\"\n",
    "nomisma_endpoint = \"http://nomisma.org/query\"\n",
    "b3k_endpoint = \"http://lod.b3kat.de/doc/sparql-endpoint\"\n",
    "bnf_endpoint = \"https://data.bnf.fr/sparql\"\n",
    "euro = \"http://sparql.europeana.eu/\"\n",
    "arco= \"https://dati.cultura.gov.it/sparql\""
   ]
  },
  {
   "cell_type": "code",
   "execution_count": null,
   "metadata": {
    "id": "qukOUP8C4N2C"
   },
   "outputs": [],
   "source": []
  },
  {
   "cell_type": "markdown",
   "metadata": {
    "id": "bfyC14qp4hAj"
   },
   "source": [
    "# SEMANTIC VALIDITY SAMPLE"
   ]
  },
  {
   "cell_type": "code",
   "execution_count": null,
   "metadata": {
    "id": "MCNw0yqr4ih_"
   },
   "outputs": [],
   "source": [
    "def makeatsv(filename, results, artwork, subject):\n",
    "  with open(filename, 'wt') as out_file:\n",
    "    tsv_writer = csv.writer(out_file, delimiter='\\t')\n",
    "    tsv_writer.writerow(['artwork', 'subject'])\n",
    "    for result in results[\"results\"][\"bindings\"]:\n",
    "      tsv_writer.writerow([result[artwork][\"value\"], result[subject][\"value\"]])"
   ]
  },
  {
   "cell_type": "markdown",
   "metadata": {
    "id": "Z-zIvnOi4lB8"
   },
   "source": [
    "## DBpedia\n",
    "\n",
    "Take 50 random artwork-subject couples using the dbp:subject property\n",
    "Take 50 random artwork-subject couples using the dct:subject property\n",
    "\n",
    "\n"
   ]
  },
  {
   "cell_type": "code",
   "execution_count": null,
   "metadata": {
    "id": "M9r_UaaN4puT"
   },
   "outputs": [],
   "source": [
    "qmdb1 = '''\n",
    "prefix dbo: <http://dbpedia.org/ontology/>\n",
    "prefix dct: <http://purl.org/dc/terms/>\n",
    "prefix dbp: <http://dbpedia.org/property/>\n",
    "SELECT distinct ?artwork ?subject WHERE {\n",
    "?artwork a dbo:Artwork;\n",
    "dbp:subject ?subject .\n",
    "}ORDER BY RAND()\n",
    "LIMIT 50'''\n",
    "\n",
    "qmdb2 = '''prefix dbo: <http://dbpedia.org/ontology/>\n",
    "prefix dct: <http://purl.org/dc/terms/>\n",
    "prefix dbp: <http://dbpedia.org/property/>\n",
    "SELECT distinct ?artwork ?subject WHERE {\n",
    "?artwork a dbo:Artwork;\n",
    "dct:subject ?subject .\n",
    "}ORDER BY RAND()\n",
    "LIMIT 50'''\n",
    "\n",
    "resmdb1 = sparl_query_setting(qmdb1, dbpedia)\n",
    "resmdb2 = sparl_query_setting(qmdb2, dbpedia)"
   ]
  },
  {
   "cell_type": "code",
   "execution_count": null,
   "metadata": {
    "id": "VYFaIoUi5WGu"
   },
   "outputs": [],
   "source": [
    "import csv"
   ]
  },
  {
   "cell_type": "code",
   "execution_count": null,
   "metadata": {
    "id": "J7IQw2k35ssd"
   },
   "outputs": [],
   "source": [
    "with open('dbpediasem.tsv', 'wt') as out_file:\n",
    "    tsv_writer = csv.writer(out_file, delimiter='\\t')\n",
    "    tsv_writer.writerow(['artwork', 'subject'])\n",
    "    for result in resmdb1[\"results\"][\"bindings\"]:\n",
    "      tsv_writer.writerow([result[\"artwork\"][\"value\"], result[\"subject\"][\"value\"]])\n",
    "    for result2 in resmdb2[\"results\"][\"bindings\"]:\n",
    "      tsv_writer.writerow([result2[\"artwork\"][\"value\"], result2[\"subject\"][\"value\"]])"
   ]
  },
  {
   "cell_type": "code",
   "execution_count": null,
   "metadata": {
    "id": "SV2F__AI6Urj"
   },
   "outputs": [],
   "source": []
  },
  {
   "cell_type": "markdown",
   "metadata": {
    "id": "l9rMdkYp65hW"
   },
   "source": [
    "## Europeana\n",
    "\n",
    "Take all the painting-subject triples (dc:subject)\n",
    "Take all the sculpture-subject triples (dc:subject)\n",
    "\n",
    "Randomly sample 100 triples from these two\n"
   ]
  },
  {
   "cell_type": "code",
   "execution_count": null,
   "metadata": {
    "id": "QliT0yG-7djT"
   },
   "outputs": [],
   "source": [
    "qeuro1paint = '''PREFIX ore: <http://www.openarchives.org/ore/terms/>\n",
    "PREFIX edm: <http://www.europeana.eu/schemas/edm/>\n",
    "\n",
    "select  distinct ?CHO ?sub where {\n",
    "             ?s a <http://www.w3.org/2004/02/skos/core#Concept> ;\n",
    "<http://www.w3.org/2004/02/skos/core#broader>* <http://vocab.getty.edu/aat/300033618> .\n",
    "?CHO dc:type ?s ;\n",
    "dc:subject ?sub \n",
    "}\n",
    "'''\n",
    "\n",
    "qeuro1sculpt= '''PREFIX ore: <http://www.openarchives.org/ore/terms/>\n",
    "PREFIX edm: <http://www.europeana.eu/schemas/edm/>\n",
    "\n",
    "select  distinct ?CHO ?sub where {\n",
    "             ?s a <http://www.w3.org/2004/02/skos/core#Concept> ;\n",
    "              <http://www.w3.org/2004/02/skos/core#broader>* <http://vocab.getty.edu/aat/300047090> .\n",
    "?CHO dc:type ?s ;\n",
    "dc:subject ?sub }'''\n",
    "\n",
    "reseuro1p = sparl_query_setting(qeuro1paint, euro)\n",
    "reseuro1s = sparl_query_setting(qeuro1sculpt, euro)"
   ]
  },
  {
   "cell_type": "code",
   "execution_count": null,
   "metadata": {
    "colab": {
     "base_uri": "https://localhost:8080/"
    },
    "id": "XAzpOwj5wxBK",
    "outputId": "eddf2b0b-6e93-437c-db3c-91c61f665dc2"
   },
   "outputs": [
    {
     "name": "stdout",
     "output_type": "stream",
     "text": [
      "9273\n",
      "10690\n"
     ]
    }
   ],
   "source": [
    "paintings = []\n",
    "for res in reseuro1p[\"results\"][\"bindings\"]:\n",
    "  artwork = res[\"CHO\"][\"value\"]\n",
    "  sub = res[\"sub\"][\"value\"]\n",
    "  paintings.append((artwork, sub))\n",
    "print(len(paintings))\n",
    "for res in reseuro1s[\"results\"][\"bindings\"]:\n",
    "  artwork = res[\"CHO\"][\"value\"]\n",
    "  sub = res[\"sub\"][\"value\"]\n",
    "  paintings.append((artwork, sub))\n",
    "print(len(paintings))\n",
    "\n"
   ]
  },
  {
   "cell_type": "code",
   "execution_count": null,
   "metadata": {
    "id": "1GqPSQgYyKIM"
   },
   "outputs": [],
   "source": [
    "from random import sample\n",
    "sampledartworks = sample(paintings, 100)"
   ]
  },
  {
   "cell_type": "code",
   "execution_count": null,
   "metadata": {
    "colab": {
     "base_uri": "https://localhost:8080/"
    },
    "id": "_ZfaEJsCyxCF",
    "outputId": "e6c58a1c-37e0-4d09-d8c6-56a62645be62"
   },
   "outputs": [
    {
     "name": "stdout",
     "output_type": "stream",
     "text": [
      "[('http://data.europeana.eu/proxy/provider/2023006/24062A51_priref_16880', 'schilderingen'), ('http://data.europeana.eu/proxy/provider/2023006/24062A51_priref_16309', 'schilderingen'), ('http://data.europeana.eu/proxy/provider/90402/SK_A_3758', 'Batavia'), ('http://data.europeana.eu/proxy/provider/2048077/Athena_Plus_ProvidedCHO_Bildarchiv_Foto_Marburg_obj_20395264_fmd458543', 'die zwölf Apostel (als Gruppe), in der Regel mit Büchern oder Schriftrollen (nicht im biblischen Kontext), mit Paulus statt Judas'), ('http://data.europeana.eu/proxy/provider/2023009/23096B51_priref_10626', 'fiets'), ('http://data.europeana.eu/proxy/provider/2048077/Athena_Plus_ProvidedCHO_Bildarchiv_Foto_Marburg_obj_20318319_fmd455670', 'Musikinstrumente; Gruppe von Musikinstrumenten'), ('http://data.europeana.eu/proxy/provider/90402/SK_A_742', 'http://iconclass.org/25F29(ARMADILLO)'), ('http://data.europeana.eu/proxy/provider/2026116/Partage_Plus_ProvidedCHO_Bildarchiv_Foto_Marburg_t2_20065140_fmd474022', 'http://iconclass.org/11G'), ('http://data.europeana.eu/proxy/provider/90402/SK_A_4624', 'Vliet, Adriaen van der'), ('http://data.europeana.eu/proxy/provider/2023006/24062A51_priref_16896', 'schilderingen')]\n"
     ]
    }
   ],
   "source": [
    "print(sampledartworks[:10])"
   ]
  },
  {
   "cell_type": "code",
   "execution_count": null,
   "metadata": {
    "id": "dcGZV2jAyYgL"
   },
   "outputs": [],
   "source": [
    "import csv\n",
    "with open(\"europeanasemantic.tsv\", \"wt\") as out_file:\n",
    "  twriter = csv.writer(out_file, delimiter=\"\\t\")\n",
    "  twriter.writerow([\"artwork\", \"subject\"])\n",
    "  for artsub in sampledartworks:\n",
    "    art = artsub[0]\n",
    "    sub = artsub[1]\n",
    "    twriter.writerow([art, sub])"
   ]
  },
  {
   "cell_type": "code",
   "execution_count": null,
   "metadata": {
    "id": "896jtJ2s7uIT"
   },
   "outputs": [],
   "source": [
    "\n",
    "    "
   ]
  },
  {
   "cell_type": "code",
   "execution_count": null,
   "metadata": {
    "id": "N_cjipDC8lhv"
   },
   "outputs": [],
   "source": []
  },
  {
   "cell_type": "code",
   "execution_count": null,
   "metadata": {
    "id": "5qTPTz-4TngS"
   },
   "outputs": [],
   "source": []
  },
  {
   "cell_type": "markdown",
   "metadata": {
    "id": "CUBXnNF9Xad7"
   },
   "source": [
    "## Yago"
   ]
  },
  {
   "cell_type": "code",
   "execution_count": null,
   "metadata": {
    "id": "wWOzY2-VXbh-"
   },
   "outputs": [],
   "source": [
    "qy1 = '''\n",
    "PREFIX rdf: <http://www.w3.org/1999/02/22-rdf-syntax-ns#>\n",
    "PREFIX rdfs: <http://www.w3.org/2000/01/rdf-schema#>\n",
    "PREFIX schema: <http://schema.org/>\n",
    "\n",
    "SELECT distinct ?artwork ?sub\n",
    "WHERE {\n",
    "  VALUES ?art {schema:Painting schema:Sculpture}\n",
    "  ?artwork rdf:type ?art ;\n",
    "  schema:about ?sub \n",
    "}ORDER BY RAND()\n",
    "LIMIT 100'''\n",
    "ry1 = sparl_query_setting(qy1, yago)"
   ]
  },
  {
   "cell_type": "code",
   "execution_count": null,
   "metadata": {
    "id": "VthLqCJXXruV"
   },
   "outputs": [],
   "source": [
    "makeatsv(\"yago.tsv\", ry1, \"artwork\", \"sub\")"
   ]
  },
  {
   "cell_type": "code",
   "execution_count": null,
   "metadata": {
    "id": "piO5cdc1XybN"
   },
   "outputs": [],
   "source": []
  },
  {
   "cell_type": "markdown",
   "metadata": {
    "id": "mBeGH9v-3SAT"
   },
   "source": [
    "## ND HUNGARY\n",
    "\n",
    "500 results per query max, no random\n",
    "\n",
    "Do 100 queries for artwork subject with random offset from 1 to 39441 \n",
    "(total number of subjects)\n"
   ]
  },
  {
   "cell_type": "code",
   "execution_count": null,
   "metadata": {
    "colab": {
     "base_uri": "https://localhost:8080/"
    },
    "id": "cTT9A5DE3UU2",
    "outputId": "121ea3a2-805a-4ac3-c056-4df5e54affae"
   },
   "outputs": [
    {
     "name": "stdout",
     "output_type": "stream",
     "text": [
      "39441\n"
     ]
    }
   ],
   "source": [
    "\n",
    "querynd = '''SELECT COUNT(?sub) as ?tot WHERE {\n",
    "?URI <http://purl.org/dc/terms/type> dcmitype:Image ;\n",
    "<http://purl.org/dc/terms/subject> ?sub .\n",
    " }'''\n",
    "\n",
    "rndh = sparl_query_setting(querynd, nd_hungary)\n",
    "for result in rndh[\"results\"][\"bindings\"]:\n",
    "  print(result[\"tot\"][\"value\"])\n"
   ]
  },
  {
   "cell_type": "code",
   "execution_count": null,
   "metadata": {
    "id": "Fom7qu1x4K0S"
   },
   "outputs": [],
   "source": [
    "import random\n",
    "resultsnd = set()\n",
    "queryndsample = '''SELECT ?URI ?sub WHERE {\n",
    "?URI <http://purl.org/dc/terms/type> dcmitype:Image ;\n",
    "<http://purl.org/dc/terms/subject> ?sub .\n",
    " }LIMIT 1\n",
    " OFFSET @@n@@'''\n",
    "while len(resultsnd) < 100:\n",
    "  randomn = random.randint(0, 39440)\n",
    "  queryndrandom = queryndsample.replace(\"@@n@@\", str(randomn))\n",
    "  rndhsem = sparl_query_setting(queryndrandom, nd_hungary)\n",
    "  for res in rndhsem[\"results\"][\"bindings\"]:\n",
    "    art = res[\"URI\"][\"value\"]\n",
    "    sub = res[\"sub\"][\"value\"]\n",
    "    resultsnd.add((art, sub))\n"
   ]
  },
  {
   "cell_type": "code",
   "execution_count": null,
   "metadata": {
    "colab": {
     "base_uri": "https://localhost:8080/"
    },
    "id": "X1wp5zUo40-5",
    "outputId": "37ba0e23-940f-44ab-f132-6bb7d5638be7"
   },
   "outputs": [
    {
     "data": {
      "text/plain": [
       "100"
      ]
     },
     "execution_count": 17,
     "metadata": {},
     "output_type": "execute_result"
    }
   ],
   "source": [
    "len(resultsnd)"
   ]
  },
  {
   "cell_type": "code",
   "execution_count": null,
   "metadata": {
    "colab": {
     "base_uri": "https://localhost:8080/"
    },
    "id": "HDhBhtBq5x0B",
    "outputId": "f6de854f-788c-4b5a-d525-8e8f99a5e5d4"
   },
   "outputs": [
    {
     "data": {
      "text/plain": [
       "{('http://lod.sztaki.hu/data/item/10060', 'fa'),\n",
       " ('http://lod.sztaki.hu/data/item/10131', 'emberábrázolás'),\n",
       " ('http://lod.sztaki.hu/data/item/10142', 'magyar'),\n",
       " ('http://lod.sztaki.hu/data/item/10282', 'fénykép'),\n",
       " ('http://lod.sztaki.hu/data/item/10507', 'eredeti'),\n",
       " ('http://lod.sztaki.hu/data/item/10553', 'grafika'),\n",
       " ('http://lod.sztaki.hu/data/item/10589', 'magyar'),\n",
       " ('http://lod.sztaki.hu/data/item/10610', 'eredeti'),\n",
       " ('http://lod.sztaki.hu/data/item/10629', 'rézkarc'),\n",
       " ('http://lod.sztaki.hu/data/item/10841', 'emberábrázolás'),\n",
       " ('http://lod.sztaki.hu/data/item/10926', 'grafika'),\n",
       " ('http://lod.sztaki.hu/data/item/11113', 'magyar'),\n",
       " ('http://lod.sztaki.hu/data/item/11147', '1973-1989'),\n",
       " ('http://lod.sztaki.hu/data/item/11175', 'grafika'),\n",
       " ('http://lod.sztaki.hu/data/item/11219', 'rézkarc'),\n",
       " ('http://lod.sztaki.hu/data/item/11306', 'rézkarc'),\n",
       " ('http://lod.sztaki.hu/data/item/11327', 'akt'),\n",
       " ('http://lod.sztaki.hu/data/item/11347', 'ceruzarajz'),\n",
       " ('http://lod.sztaki.hu/data/item/11719', 'litográfia'),\n",
       " ('http://lod.sztaki.hu/data/item/11816', 'linóleummetszet'),\n",
       " ('http://lod.sztaki.hu/data/item/11826', 'eredeti'),\n",
       " ('http://lod.sztaki.hu/data/item/11884', 'linóleummetszet'),\n",
       " ('http://lod.sztaki.hu/data/item/11981', 'grafika'),\n",
       " ('http://lod.sztaki.hu/data/item/11981', 'magyar'),\n",
       " ('http://lod.sztaki.hu/data/item/12038', 'grafika'),\n",
       " ('http://lod.sztaki.hu/data/item/12102', 'eredeti'),\n",
       " ('http://lod.sztaki.hu/data/item/12121', 'magyar'),\n",
       " ('http://lod.sztaki.hu/data/item/12348', 'magyar'),\n",
       " ('http://lod.sztaki.hu/data/item/12387', 'Radnóti Miklós (1909-1944)'),\n",
       " ('http://lod.sztaki.hu/data/item/12486', 'grafika'),\n",
       " ('http://lod.sztaki.hu/data/item/6216', 'fotóművészet'),\n",
       " ('http://lod.sztaki.hu/data/item/6294', 'eredeti'),\n",
       " ('http://lod.sztaki.hu/data/item/6446', 'eredeti'),\n",
       " ('http://lod.sztaki.hu/data/item/6483', 'eredeti'),\n",
       " ('http://lod.sztaki.hu/data/item/6537', 'fénykép'),\n",
       " ('http://lod.sztaki.hu/data/item/6576', 'magyar'),\n",
       " ('http://lod.sztaki.hu/data/item/6677', 'grafika'),\n",
       " ('http://lod.sztaki.hu/data/item/6757', 'linóleummetszet'),\n",
       " ('http://lod.sztaki.hu/data/item/6788', 'emberábrázolás'),\n",
       " ('http://lod.sztaki.hu/data/item/6798', 'város'),\n",
       " ('http://lod.sztaki.hu/data/item/6860', 'magyar'),\n",
       " ('http://lod.sztaki.hu/data/item/6926', '1921-1929'),\n",
       " ('http://lod.sztaki.hu/data/item/7007', 'eredeti'),\n",
       " ('http://lod.sztaki.hu/data/item/7067', 'hidegtű'),\n",
       " ('http://lod.sztaki.hu/data/item/7078', 'eredeti'),\n",
       " ('http://lod.sztaki.hu/data/item/7155', 'eredeti'),\n",
       " ('http://lod.sztaki.hu/data/item/7164', 'kréta'),\n",
       " ('http://lod.sztaki.hu/data/item/7227', 'nőábrázolás'),\n",
       " ('http://lod.sztaki.hu/data/item/7291', 'magyar'),\n",
       " ('http://lod.sztaki.hu/data/item/7388', '1931-1949'),\n",
       " ('http://lod.sztaki.hu/data/item/7456', 'magyar'),\n",
       " ('http://lod.sztaki.hu/data/item/7463', 'rézkarc'),\n",
       " ('http://lod.sztaki.hu/data/item/7520', '1931-1949'),\n",
       " ('http://lod.sztaki.hu/data/item/7571', 'grafika'),\n",
       " ('http://lod.sztaki.hu/data/item/7575', 'világháború, II.'),\n",
       " ('http://lod.sztaki.hu/data/item/7593', '1931-1949'),\n",
       " ('http://lod.sztaki.hu/data/item/7653', 'nőábrázolás'),\n",
       " ('http://lod.sztaki.hu/data/item/7686', 'eredeti'),\n",
       " ('http://lod.sztaki.hu/data/item/7692', 'linóleummetszet'),\n",
       " ('http://lod.sztaki.hu/data/item/7738', '1931-1949'),\n",
       " ('http://lod.sztaki.hu/data/item/7808', 'eredeti'),\n",
       " ('http://lod.sztaki.hu/data/item/7853', 'hidegtű'),\n",
       " ('http://lod.sztaki.hu/data/item/7952', 'eredeti'),\n",
       " ('http://lod.sztaki.hu/data/item/7989', 'ábrázolása'),\n",
       " ('http://lod.sztaki.hu/data/item/8011', 'magyar'),\n",
       " ('http://lod.sztaki.hu/data/item/8036', 'arckép'),\n",
       " ('http://lod.sztaki.hu/data/item/8118', 'eredeti'),\n",
       " ('http://lod.sztaki.hu/data/item/8185', 'város'),\n",
       " ('http://lod.sztaki.hu/data/item/8203', 'rézkarc'),\n",
       " ('http://lod.sztaki.hu/data/item/8301', 'grafika'),\n",
       " ('http://lod.sztaki.hu/data/item/8361', 'fametszet'),\n",
       " ('http://lod.sztaki.hu/data/item/8375', 'grafika'),\n",
       " ('http://lod.sztaki.hu/data/item/8392', '1930'),\n",
       " ('http://lod.sztaki.hu/data/item/8436', 'eredeti'),\n",
       " ('http://lod.sztaki.hu/data/item/8581', 'grafika'),\n",
       " ('http://lod.sztaki.hu/data/item/8704', '19. század vége'),\n",
       " ('http://lod.sztaki.hu/data/item/8736', 'nőábrázolás'),\n",
       " ('http://lod.sztaki.hu/data/item/8813', 'szénrajz'),\n",
       " ('http://lod.sztaki.hu/data/item/8853', '19. század második fele'),\n",
       " ('http://lod.sztaki.hu/data/item/8904', 'textil'),\n",
       " ('http://lod.sztaki.hu/data/item/8941', 'grafika'),\n",
       " ('http://lod.sztaki.hu/data/item/9010', 'növényábrázolás'),\n",
       " ('http://lod.sztaki.hu/data/item/9043', '1855'),\n",
       " ('http://lod.sztaki.hu/data/item/9141', 'magyar'),\n",
       " ('http://lod.sztaki.hu/data/item/9233', 'grafika'),\n",
       " ('http://lod.sztaki.hu/data/item/9285', 'gyümölcsábrázolás'),\n",
       " ('http://lod.sztaki.hu/data/item/9300', 'arckép'),\n",
       " ('http://lod.sztaki.hu/data/item/9303', 'grafika'),\n",
       " ('http://lod.sztaki.hu/data/item/9314', 'eredeti'),\n",
       " ('http://lod.sztaki.hu/data/item/9371', 'eredeti'),\n",
       " ('http://lod.sztaki.hu/data/item/9423', 'grafika'),\n",
       " ('http://lod.sztaki.hu/data/item/9556', 'eredeti'),\n",
       " ('http://lod.sztaki.hu/data/item/9578', 'szobrászat'),\n",
       " ('http://lod.sztaki.hu/data/item/9604', 'fotóművészet'),\n",
       " ('http://lod.sztaki.hu/data/item/9649', 'építészet'),\n",
       " ('http://lod.sztaki.hu/data/item/9661', 'fotóművészet'),\n",
       " ('http://lod.sztaki.hu/data/item/9692', 'eredeti'),\n",
       " ('http://lod.sztaki.hu/data/item/9705', 'fotóművészet'),\n",
       " ('http://lod.sztaki.hu/data/item/9879', 'eredeti'),\n",
       " ('http://lod.sztaki.hu/data/item/9951', '1906-1914')}"
      ]
     },
     "execution_count": 18,
     "metadata": {},
     "output_type": "execute_result"
    }
   ],
   "source": [
    "resultsnd"
   ]
  },
  {
   "cell_type": "code",
   "execution_count": null,
   "metadata": {
    "id": "Eaw66Jvf50PL"
   },
   "outputs": [],
   "source": [
    "with open(\"nd_hungarysem.tsv\", \"wt\") as out_file:\n",
    "  twriter = csv.writer(out_file, delimiter=\"\\t\")\n",
    "  twriter.writerow([\"artwork\", \"subject\"])\n",
    "  for artsub in resultsnd:\n",
    "    art = artsub[0]\n",
    "    sub = artsub[1]\n",
    "    twriter.writerow([art, sub])"
   ]
  },
  {
   "cell_type": "code",
   "execution_count": null,
   "metadata": {
    "id": "9v6g-1h46Uj8"
   },
   "outputs": [],
   "source": []
  },
  {
   "cell_type": "markdown",
   "metadata": {
    "id": "kmU1DiDjnObP"
   },
   "source": []
  },
  {
   "cell_type": "markdown",
   "metadata": {
    "id": "kcN8Uo2KvDaR"
   },
   "source": [
    "## Zeri "
   ]
  },
  {
   "cell_type": "code",
   "execution_count": null,
   "metadata": {
    "id": "T2CsQVupnTlv"
   },
   "outputs": [],
   "source": [
    "# zeri\n",
    "variables = [\"art\", \"art_label\", \"subj\", \"subj_label\"]\n",
    "zeri_query = \"\"\"\n",
    "\n",
    "PREFIX rdf: <http://www.w3.org/1999/02/22-rdf-syntax-ns#>\n",
    "# PREFIX oaentry: <http://purl.org/emmedi/oaentry/>\n",
    "PREFIX crm: <http://www.cidoc-crm.org/cidoc-crm/>\n",
    "PREFIX rdfs: <http://www.w3.org/2000/01/rdf-schema#>\n",
    "PREFIX fabio: <http://purl.org/spar/fabio/>\n",
    "\n",
    "SELECT distinct ?art (sample(?a_label) as ?art_label) (sample(?s) as ?subj) ?subj_label\n",
    "WHERE {\n",
    "  ?art a fabio:ArtisticWork. \n",
    "    ?art fabio:hasSubjectTerm ?s; rdfs:label ?a_label.\n",
    "  ?s rdfs:label ?subj_label.\n",
    "  }\n",
    "  GROUP BY ?art ?subj_label\n",
    "  ORDER BY RAND()\n",
    "  LIMIT 100\n",
    "  \"\"\"\n",
    "\n",
    "\n",
    "zeri_recall = sample_selection(\"semantic_validity_zeri.csv\", zeri_query, zeri_endpoint, variables)"
   ]
  },
  {
   "cell_type": "markdown",
   "metadata": {
    "id": "EVCcyMZ_YvvD"
   },
   "source": [
    "## Nomisma"
   ]
  },
  {
   "cell_type": "code",
   "execution_count": null,
   "metadata": {
    "id": "CgtMQKerjuP6"
   },
   "outputs": [],
   "source": [
    "# nomisma\n",
    "variables = [\"art\", \"art_label\", \"subj\", \"subj_label\"]\n",
    "nomisma_query = \"\"\"\n",
    "PREFIX crm: <http://www.cidoc-crm.org/cidoc-crm/>\n",
    "PREFIX dcmitype: <http://purl.org/dc/dcmitype/>\n",
    "PREFIX dcterms: <http://purl.org/dc/terms/>\n",
    "PREFIX foaf: <http://xmlns.com/foaf/0.1/>\n",
    "PREFIX geo: <http://www.w3.org/2003/01/geo/wgs84_pos#>\n",
    "PREFIX nm: <http://nomisma.org/id/>\n",
    "PREFIX nmo: <http://nomisma.org/ontology#>\n",
    "PREFIX org: <http://www.w3.org/ns/org#>\n",
    "PREFIX rdf: <http://www.w3.org/1999/02/22-rdf-syntax-ns#>\n",
    "PREFIX rdfs: <http://www.w3.org/2000/01/rdf-schema#>\n",
    "PREFIX skos: <http://www.w3.org/2004/02/skos/core#>\n",
    "PREFIX xsd: <http://www.w3.org/2001/XMLSchema#>\n",
    "\n",
    "\n",
    "SELECT DISTINCT ?art ?art_label (sample(?s) as ?subj)  ?subj_label WHERE {\n",
    "  \n",
    " {?coin nmo:hasObverse ?art; skos:prefLabel ?art_label} UNION {?coin nmo:hasReverse ?art; skos:prefLabel ?art_label}\n",
    "  ?art nmo:hasPortrait ?s.\n",
    "  ?s skos:prefLabel ?subj_label.\n",
    "  FILTER(lang(?art_label)='en')\n",
    "  FILTER(lang(?subj_label)='en')\n",
    "  \n",
    "} GROUP BY ?art ?art_label ?subj_label\n",
    "  ORDER BY RAND()\n",
    "  LIMIT 100\n",
    "\n",
    "\n",
    "\"\"\"\n",
    "\n",
    "\n",
    "nomisma_recall = sample_selection(\"semantic_validity_nomisma.csv\", nomisma_query, nomisma_endpoint, variables)"
   ]
  },
  {
   "cell_type": "markdown",
   "metadata": {
    "id": "kA4ZdGn7GVlY"
   },
   "source": [
    "## Wikidata"
   ]
  },
  {
   "cell_type": "code",
   "execution_count": null,
   "metadata": {
    "id": "1BR78F_XnMFm"
   },
   "outputs": [],
   "source": [
    "# wikidata\n",
    "variables = [\"art\", \"s\"]\n",
    "wd_query1 = \"\"\"\n",
    "\n",
    "SELECT  DISTINCT ?art ?s WHERE {\n",
    "  # SERVICE wikibase:label { bd:serviceParam wikibase:language \"[AUTO_LANGUAGE],en\". }\n",
    "  {?art wdt:P31 wd:Q3305213} UNION {?art wdt:P31 wd:Q860861}\n",
    "  ?art wdt:P180 ?s.\n",
    "  \n",
    "} \n",
    "  ORDER BY RAND()\n",
    "\n",
    "  LIMIT 34\n",
    "\n",
    "\n",
    "\"\"\"\n",
    "wd_query2 = \"\"\"\n",
    "\n",
    "SELECT  DISTINCT ?art ?s WHERE {\n",
    "  # SERVICE wikibase:label { bd:serviceParam wikibase:language \"[AUTO_LANGUAGE],en\". }\n",
    "  {?art wdt:P31 wd:Q3305213} UNION {?art wdt:P31 wd:Q860861}\n",
    "  ?art wdt:P921 ?s.\n",
    "  \n",
    "} \n",
    "  ORDER BY RAND()\n",
    "\n",
    "  LIMIT 33\n",
    "\n",
    "\n",
    "\"\"\"\n",
    "wd_query3 = \"\"\"\n",
    "\n",
    "SELECT  DISTINCT ?art ?s WHERE {\n",
    "  # SERVICE wikibase:label { bd:serviceParam wikibase:language \"[AUTO_LANGUAGE],en\". }\n",
    "  {?art wdt:P31 wd:Q3305213} UNION {?art wdt:P31 wd:Q860861}\n",
    "  ?art wdt:P1257 ?s.\n",
    "  \n",
    "} \n",
    "  ORDER BY RAND()\n",
    "\n",
    "  LIMIT 33\n",
    "\n",
    "\n",
    "\"\"\"\n",
    "\n",
    "recall1 = sample_selection(\"semantic_validity3_wd.csv\", wd_query1, wd_endpoint, variables)\n",
    "recall2 = sample_selection(\"semantic_validity3_wd.csv\", wd_query2, wd_endpoint, variables)\n"
   ]
  },
  {
   "cell_type": "code",
   "execution_count": null,
   "metadata": {
    "colab": {
     "base_uri": "https://localhost:8080/"
    },
    "id": "FoXGke_3iSBf",
    "outputId": "9fc5528a-2045-479c-c8e6-425faca49a92"
   },
   "outputs": [],
   "source": [
    "triples_list = []\n",
    "\n",
    "wd_query = \"\"\"\n",
    "\n",
    "SELECT DISTINCT ?art ?s WHERE {\n",
    "  # SERVICE wikibase:label { bd:serviceParam wikibase:language \"[AUTO_LANGUAGE],en\". }\n",
    "  {?art wdt:P31 wd:Q3305213} UNION {?art wdt:P31 wd:Q860861}\n",
    "  ?art wdt:P1257 ?s.\n",
    "  \n",
    "} \n",
    "  ORDER BY RAND()\n",
    "\n",
    "\n",
    "\n",
    "\"\"\"\n",
    "res = sparl_query_setting(wd_query, wd_endpoint)\n",
    "\n",
    "for result in res[\"results\"][\"bindings\"]:\n",
    "    triple = (result[\"art\"][\"value\"], result[\"s\"][\"value\"])\n",
    "    print(triple)\n",
    "    triples_list.append(triple)"
   ]
  },
  {
   "cell_type": "code",
   "execution_count": null,
   "metadata": {
    "colab": {
     "base_uri": "https://localhost:8080/"
    },
    "id": "_-jsgKSHis2c",
    "outputId": "fde49575-6646-438b-b617-3875ede2d2c2"
   },
   "outputs": [
    {
     "name": "stdout",
     "output_type": "stream",
     "text": [
      "33\n"
     ]
    }
   ],
   "source": [
    "from random import sample\n",
    "sampledresults = sample(triples_list, 33)\n",
    "print(len(sampledresults))"
   ]
  },
  {
   "cell_type": "code",
   "execution_count": null,
   "metadata": {
    "id": "pFCsyCmgjvyL"
   },
   "outputs": [],
   "source": [
    "\n",
    "with open(\"semantic_validity3_wd.csv\", mode='a') as my_file: \n",
    "  my_file = csv.writer(my_file, delimiter=',', quotechar='\"', quoting=csv.QUOTE_ALL)\n",
    "  for triple in sampledresults:\n",
    "      my_file.writerow(triple)"
   ]
  },
  {
   "cell_type": "markdown",
   "metadata": {
    "id": "2_omXO6fxaxV"
   },
   "source": [
    "## Sari"
   ]
  },
  {
   "cell_type": "code",
   "execution_count": null,
   "metadata": {
    "id": "4VsUzAqr-by3"
   },
   "outputs": [],
   "source": [
    "artwork_types= \"\"\"<https://d-nb.info/gnd/4046277-8> <https://d-nb.info/gnd/4127900-1> <https://d-nb.info/gnd/4036042-8> <https://d-nb.info/gnd/4010427-8> <https://d-nb.info/gnd/4124432-1> <https://d-nb.info/gnd/4123412-1> <https://d-nb.info/gnd/4131808-0> <https://d-nb.info/gnd/4124432-1> <https://d-nb.info/gnd/4114333-4> <https://d-nb.info/gnd/4033760-1> <https://d-nb.info/gnd/4002511-1> <https://d-nb.info/gnd/4627787-0> <https://d-nb.info/gnd/4029783-4> <https://d-nb.info/gnd/4006627-7> <https://d-nb.info/gnd/4064542-3> <https://d-nb.info/gnd/4229053-3>\"\"\"\n",
    "variables = [\"art\", \"art_label\", \"subj\"]"
   ]
  },
  {
   "cell_type": "code",
   "execution_count": null,
   "metadata": {
    "id": "CKN-rcQ4xcSB"
   },
   "outputs": [],
   "source": [
    "# sari. No labels available for subjects. \n",
    "\n",
    "sari_query1 = \"\"\"\n",
    "PREFIX crm: <http://www.cidoc-crm.org/cidoc-crm/>\n",
    "PREFIX rdf: <http://www.w3.org/1999/02/22-rdf-syntax-ns#>\n",
    "PREFIX rdfs: <http://www.w3.org/2000/01/rdf-schema#>\n",
    "PREFIX getty: <http://vocab.getty.edu/ontology#>\n",
    "PREFIX gndo: <https://d-nb.info/standards/elementset/gnd#>\n",
    "  \n",
    "SELECT DISTINCT ?art ?art_label (sample(?s) as ?subj) WHERE {\n",
    "VALUES ?type {\"\"\"+artwork_types+\"\"\"}\n",
    "  ?art gndo:formOfWorkAndExpression ?type; \n",
    "    gndo:preferredNameForTheWork ?art_label; \n",
    "    gndo:topic ?s. # gndo:gndSubjectCategory\n",
    "   # FILTER(lang(?art_label)='en')\n",
    "\n",
    "  \n",
    "} GROUP BY ?art ?art_label ?subj\n",
    "  ORDER BY RAND()\n",
    "  LIMIT 50\n",
    "\n",
    "\n",
    "\"\"\"\n",
    "sari_query2 = \"\"\"\n",
    "PREFIX gndo: <https://d-nb.info/standards/elementset/gnd#>\n",
    "  \n",
    "SELECT DISTINCT ?art ?art_label (sample(?s) as ?subj) WHERE {\n",
    "VALUES ?type {\"\"\"+artwork_types+\"\"\"}\n",
    "  ?art gndo:formOfWorkAndExpression ?type; \n",
    "    gndo:preferredNameForTheWork ?art_label; \n",
    "    gndo:gndSubjectCategory ?s. # gndo:gndSubjectCategory\n",
    "   # FILTER(lang(?art_label)='en')\n",
    "\n",
    "  \n",
    "} GROUP BY ?art ?art_label ?subj\n",
    "  ORDER BY RAND()\n",
    "  LIMIT 94\n",
    "\n",
    "\n",
    "\"\"\"\n",
    "\n",
    "\n",
    "recall1 = sample_selection(\"semantic_validity_sari.csv\", sari_query1, sari_endpoint, variables)\n",
    "recall2 = sample_selection(\"semantic_validity_sari.csv\", sari_query2, sari_endpoint, variables)"
   ]
  },
  {
   "cell_type": "markdown",
   "metadata": {
    "id": "19JIfN5IvjUk"
   },
   "source": [
    "## Arco\n",
    "Since we have 5 relations identifying a subject, we select 20 artworks/subjects per relation, for a total of 100 artworks/subjects. "
   ]
  },
  {
   "cell_type": "code",
   "execution_count": 10,
   "metadata": {
    "id": "xb820uE60LAT"
   },
   "outputs": [],
   "source": [
    "import csv\n",
    "with open('Arco_semantic_validity.csv', mode='w') as my_file:\n",
    "  arco_file = csv.writer(my_file, delimiter=',', quotechar='\"', quoting=csv.QUOTE_ALL)\n",
    "  arco_file.writerow(['Artwork', 'Artwork_label', \"Subject\", 'Subject_label']) \n",
    "  "
   ]
  },
  {
   "cell_type": "code",
   "execution_count": 11,
   "metadata": {
    "colab": {
     "base_uri": "https://localhost:8080/",
     "height": 652
    },
    "id": "isEzYwor925G",
    "outputId": "1f5dfba1-acfe-47a8-cd03-eb9c45fa3931"
   },
   "outputs": [
    {
     "ename": "EndPointInternalError",
     "evalue": "ignored",
     "output_type": "error",
     "traceback": [
      "\u001b[0;31m---------------------------------------------------------------------------\u001b[0m",
      "\u001b[0;31mHTTPError\u001b[0m                                 Traceback (most recent call last)",
      "\u001b[0;32m/usr/local/lib/python3.7/dist-packages/SPARQLWrapper/Wrapper.py\u001b[0m in \u001b[0;36m_query\u001b[0;34m(self)\u001b[0m\n\u001b[1;32m    925\u001b[0m             \u001b[0;32melse\u001b[0m\u001b[0;34m:\u001b[0m\u001b[0;34m\u001b[0m\u001b[0;34m\u001b[0m\u001b[0m\n\u001b[0;32m--> 926\u001b[0;31m                 \u001b[0mresponse\u001b[0m \u001b[0;34m=\u001b[0m \u001b[0murlopener\u001b[0m\u001b[0;34m(\u001b[0m\u001b[0mrequest\u001b[0m\u001b[0;34m)\u001b[0m\u001b[0;34m\u001b[0m\u001b[0;34m\u001b[0m\u001b[0m\n\u001b[0m\u001b[1;32m    927\u001b[0m             \u001b[0;32mreturn\u001b[0m \u001b[0mresponse\u001b[0m\u001b[0;34m,\u001b[0m \u001b[0mself\u001b[0m\u001b[0;34m.\u001b[0m\u001b[0mreturnFormat\u001b[0m\u001b[0;34m\u001b[0m\u001b[0;34m\u001b[0m\u001b[0m\n",
      "\u001b[0;32m/usr/lib/python3.7/urllib/request.py\u001b[0m in \u001b[0;36murlopen\u001b[0;34m(url, data, timeout, cafile, capath, cadefault, context)\u001b[0m\n\u001b[1;32m    221\u001b[0m         \u001b[0mopener\u001b[0m \u001b[0;34m=\u001b[0m \u001b[0m_opener\u001b[0m\u001b[0;34m\u001b[0m\u001b[0;34m\u001b[0m\u001b[0m\n\u001b[0;32m--> 222\u001b[0;31m     \u001b[0;32mreturn\u001b[0m \u001b[0mopener\u001b[0m\u001b[0;34m.\u001b[0m\u001b[0mopen\u001b[0m\u001b[0;34m(\u001b[0m\u001b[0murl\u001b[0m\u001b[0;34m,\u001b[0m \u001b[0mdata\u001b[0m\u001b[0;34m,\u001b[0m \u001b[0mtimeout\u001b[0m\u001b[0;34m)\u001b[0m\u001b[0;34m\u001b[0m\u001b[0;34m\u001b[0m\u001b[0m\n\u001b[0m\u001b[1;32m    223\u001b[0m \u001b[0;34m\u001b[0m\u001b[0m\n",
      "\u001b[0;32m/usr/lib/python3.7/urllib/request.py\u001b[0m in \u001b[0;36mopen\u001b[0;34m(self, fullurl, data, timeout)\u001b[0m\n\u001b[1;32m    530\u001b[0m             \u001b[0mmeth\u001b[0m \u001b[0;34m=\u001b[0m \u001b[0mgetattr\u001b[0m\u001b[0;34m(\u001b[0m\u001b[0mprocessor\u001b[0m\u001b[0;34m,\u001b[0m \u001b[0mmeth_name\u001b[0m\u001b[0;34m)\u001b[0m\u001b[0;34m\u001b[0m\u001b[0;34m\u001b[0m\u001b[0m\n\u001b[0;32m--> 531\u001b[0;31m             \u001b[0mresponse\u001b[0m \u001b[0;34m=\u001b[0m \u001b[0mmeth\u001b[0m\u001b[0;34m(\u001b[0m\u001b[0mreq\u001b[0m\u001b[0;34m,\u001b[0m \u001b[0mresponse\u001b[0m\u001b[0;34m)\u001b[0m\u001b[0;34m\u001b[0m\u001b[0;34m\u001b[0m\u001b[0m\n\u001b[0m\u001b[1;32m    532\u001b[0m \u001b[0;34m\u001b[0m\u001b[0m\n",
      "\u001b[0;32m/usr/lib/python3.7/urllib/request.py\u001b[0m in \u001b[0;36mhttp_response\u001b[0;34m(self, request, response)\u001b[0m\n\u001b[1;32m    640\u001b[0m             response = self.parent.error(\n\u001b[0;32m--> 641\u001b[0;31m                 'http', request, response, code, msg, hdrs)\n\u001b[0m\u001b[1;32m    642\u001b[0m \u001b[0;34m\u001b[0m\u001b[0m\n",
      "\u001b[0;32m/usr/lib/python3.7/urllib/request.py\u001b[0m in \u001b[0;36merror\u001b[0;34m(self, proto, *args)\u001b[0m\n\u001b[1;32m    568\u001b[0m             \u001b[0margs\u001b[0m \u001b[0;34m=\u001b[0m \u001b[0;34m(\u001b[0m\u001b[0mdict\u001b[0m\u001b[0;34m,\u001b[0m \u001b[0;34m'default'\u001b[0m\u001b[0;34m,\u001b[0m \u001b[0;34m'http_error_default'\u001b[0m\u001b[0;34m)\u001b[0m \u001b[0;34m+\u001b[0m \u001b[0morig_args\u001b[0m\u001b[0;34m\u001b[0m\u001b[0;34m\u001b[0m\u001b[0m\n\u001b[0;32m--> 569\u001b[0;31m             \u001b[0;32mreturn\u001b[0m \u001b[0mself\u001b[0m\u001b[0;34m.\u001b[0m\u001b[0m_call_chain\u001b[0m\u001b[0;34m(\u001b[0m\u001b[0;34m*\u001b[0m\u001b[0margs\u001b[0m\u001b[0;34m)\u001b[0m\u001b[0;34m\u001b[0m\u001b[0;34m\u001b[0m\u001b[0m\n\u001b[0m\u001b[1;32m    570\u001b[0m \u001b[0;34m\u001b[0m\u001b[0m\n",
      "\u001b[0;32m/usr/lib/python3.7/urllib/request.py\u001b[0m in \u001b[0;36m_call_chain\u001b[0;34m(self, chain, kind, meth_name, *args)\u001b[0m\n\u001b[1;32m    502\u001b[0m             \u001b[0mfunc\u001b[0m \u001b[0;34m=\u001b[0m \u001b[0mgetattr\u001b[0m\u001b[0;34m(\u001b[0m\u001b[0mhandler\u001b[0m\u001b[0;34m,\u001b[0m \u001b[0mmeth_name\u001b[0m\u001b[0;34m)\u001b[0m\u001b[0;34m\u001b[0m\u001b[0;34m\u001b[0m\u001b[0m\n\u001b[0;32m--> 503\u001b[0;31m             \u001b[0mresult\u001b[0m \u001b[0;34m=\u001b[0m \u001b[0mfunc\u001b[0m\u001b[0;34m(\u001b[0m\u001b[0;34m*\u001b[0m\u001b[0margs\u001b[0m\u001b[0;34m)\u001b[0m\u001b[0;34m\u001b[0m\u001b[0;34m\u001b[0m\u001b[0m\n\u001b[0m\u001b[1;32m    504\u001b[0m             \u001b[0;32mif\u001b[0m \u001b[0mresult\u001b[0m \u001b[0;32mis\u001b[0m \u001b[0;32mnot\u001b[0m \u001b[0;32mNone\u001b[0m\u001b[0;34m:\u001b[0m\u001b[0;34m\u001b[0m\u001b[0;34m\u001b[0m\u001b[0m\n",
      "\u001b[0;32m/usr/lib/python3.7/urllib/request.py\u001b[0m in \u001b[0;36mhttp_error_default\u001b[0;34m(self, req, fp, code, msg, hdrs)\u001b[0m\n\u001b[1;32m    648\u001b[0m     \u001b[0;32mdef\u001b[0m \u001b[0mhttp_error_default\u001b[0m\u001b[0;34m(\u001b[0m\u001b[0mself\u001b[0m\u001b[0;34m,\u001b[0m \u001b[0mreq\u001b[0m\u001b[0;34m,\u001b[0m \u001b[0mfp\u001b[0m\u001b[0;34m,\u001b[0m \u001b[0mcode\u001b[0m\u001b[0;34m,\u001b[0m \u001b[0mmsg\u001b[0m\u001b[0;34m,\u001b[0m \u001b[0mhdrs\u001b[0m\u001b[0;34m)\u001b[0m\u001b[0;34m:\u001b[0m\u001b[0;34m\u001b[0m\u001b[0;34m\u001b[0m\u001b[0m\n\u001b[0;32m--> 649\u001b[0;31m         \u001b[0;32mraise\u001b[0m \u001b[0mHTTPError\u001b[0m\u001b[0;34m(\u001b[0m\u001b[0mreq\u001b[0m\u001b[0;34m.\u001b[0m\u001b[0mfull_url\u001b[0m\u001b[0;34m,\u001b[0m \u001b[0mcode\u001b[0m\u001b[0;34m,\u001b[0m \u001b[0mmsg\u001b[0m\u001b[0;34m,\u001b[0m \u001b[0mhdrs\u001b[0m\u001b[0;34m,\u001b[0m \u001b[0mfp\u001b[0m\u001b[0;34m)\u001b[0m\u001b[0;34m\u001b[0m\u001b[0;34m\u001b[0m\u001b[0m\n\u001b[0m\u001b[1;32m    650\u001b[0m \u001b[0;34m\u001b[0m\u001b[0m\n",
      "\u001b[0;31mHTTPError\u001b[0m: HTTP Error 500: SPARQL Request Failed",
      "\nDuring handling of the above exception, another exception occurred:\n",
      "\u001b[0;31mEndPointInternalError\u001b[0m                     Traceback (most recent call last)",
      "\u001b[0;32m<ipython-input-11-d24a04ec390f>\u001b[0m in \u001b[0;36m<module>\u001b[0;34m()\u001b[0m\n\u001b[1;32m     28\u001b[0m \u001b[0;34m\u001b[0m\u001b[0m\n\u001b[1;32m     29\u001b[0m \u001b[0;34m\u001b[0m\u001b[0m\n\u001b[0;32m---> 30\u001b[0;31m     \u001b[0mres\u001b[0m \u001b[0;34m=\u001b[0m \u001b[0msparl_query_setting\u001b[0m\u001b[0;34m(\u001b[0m\u001b[0marco_query\u001b[0m\u001b[0;34m,\u001b[0m \u001b[0marco_endpoint\u001b[0m\u001b[0;34m)\u001b[0m\u001b[0;34m\u001b[0m\u001b[0;34m\u001b[0m\u001b[0m\n\u001b[0m\u001b[1;32m     31\u001b[0m \u001b[0;34m\u001b[0m\u001b[0m\n\u001b[1;32m     32\u001b[0m     \u001b[0;31m# manipulate the result\u001b[0m\u001b[0;34m\u001b[0m\u001b[0;34m\u001b[0m\u001b[0;34m\u001b[0m\u001b[0m\n",
      "\u001b[0;32m<ipython-input-2-23da2ac34093>\u001b[0m in \u001b[0;36msparl_query_setting\u001b[0;34m(query, endpoint)\u001b[0m\n\u001b[1;32m      6\u001b[0m   \u001b[0msparql\u001b[0m\u001b[0;34m.\u001b[0m\u001b[0msetReturnFormat\u001b[0m\u001b[0;34m(\u001b[0m\u001b[0mJSON\u001b[0m\u001b[0;34m)\u001b[0m\u001b[0;34m\u001b[0m\u001b[0;34m\u001b[0m\u001b[0m\n\u001b[1;32m      7\u001b[0m   \u001b[0;31m# get the results\u001b[0m\u001b[0;34m\u001b[0m\u001b[0;34m\u001b[0m\u001b[0;34m\u001b[0m\u001b[0m\n\u001b[0;32m----> 8\u001b[0;31m   \u001b[0mresults\u001b[0m \u001b[0;34m=\u001b[0m \u001b[0msparql\u001b[0m\u001b[0;34m.\u001b[0m\u001b[0mquery\u001b[0m\u001b[0;34m(\u001b[0m\u001b[0;34m)\u001b[0m\u001b[0;34m.\u001b[0m\u001b[0mconvert\u001b[0m\u001b[0;34m(\u001b[0m\u001b[0;34m)\u001b[0m\u001b[0;34m\u001b[0m\u001b[0;34m\u001b[0m\u001b[0m\n\u001b[0m\u001b[1;32m      9\u001b[0m   \u001b[0;32mreturn\u001b[0m \u001b[0mresults\u001b[0m\u001b[0;34m\u001b[0m\u001b[0;34m\u001b[0m\u001b[0m\n",
      "\u001b[0;32m/usr/local/lib/python3.7/dist-packages/SPARQLWrapper/Wrapper.py\u001b[0m in \u001b[0;36mquery\u001b[0;34m(self)\u001b[0m\n\u001b[1;32m    958\u001b[0m         \u001b[0;34m:\u001b[0m\u001b[0mrtype\u001b[0m\u001b[0;34m:\u001b[0m \u001b[0;34m:\u001b[0m\u001b[0;32mclass\u001b[0m\u001b[0;34m:\u001b[0m\u001b[0;31m`\u001b[0m\u001b[0mQueryResult\u001b[0m\u001b[0;31m`\u001b[0m \u001b[0minstance\u001b[0m\u001b[0;34m\u001b[0m\u001b[0;34m\u001b[0m\u001b[0m\n\u001b[1;32m    959\u001b[0m         \"\"\"\n\u001b[0;32m--> 960\u001b[0;31m         \u001b[0;32mreturn\u001b[0m \u001b[0mQueryResult\u001b[0m\u001b[0;34m(\u001b[0m\u001b[0mself\u001b[0m\u001b[0;34m.\u001b[0m\u001b[0m_query\u001b[0m\u001b[0;34m(\u001b[0m\u001b[0;34m)\u001b[0m\u001b[0;34m)\u001b[0m\u001b[0;34m\u001b[0m\u001b[0;34m\u001b[0m\u001b[0m\n\u001b[0m\u001b[1;32m    961\u001b[0m \u001b[0;34m\u001b[0m\u001b[0m\n\u001b[1;32m    962\u001b[0m     \u001b[0;32mdef\u001b[0m \u001b[0mqueryAndConvert\u001b[0m\u001b[0;34m(\u001b[0m\u001b[0mself\u001b[0m\u001b[0;34m)\u001b[0m \u001b[0;34m->\u001b[0m \u001b[0;34m\"QueryResult.ConvertResult\"\u001b[0m\u001b[0;34m:\u001b[0m\u001b[0;34m\u001b[0m\u001b[0;34m\u001b[0m\u001b[0m\n",
      "\u001b[0;32m/usr/local/lib/python3.7/dist-packages/SPARQLWrapper/Wrapper.py\u001b[0m in \u001b[0;36m_query\u001b[0;34m(self)\u001b[0m\n\u001b[1;32m    936\u001b[0m                 \u001b[0;32mraise\u001b[0m \u001b[0mURITooLong\u001b[0m\u001b[0;34m(\u001b[0m\u001b[0me\u001b[0m\u001b[0;34m.\u001b[0m\u001b[0mread\u001b[0m\u001b[0;34m(\u001b[0m\u001b[0;34m)\u001b[0m\u001b[0;34m)\u001b[0m\u001b[0;34m\u001b[0m\u001b[0;34m\u001b[0m\u001b[0m\n\u001b[1;32m    937\u001b[0m             \u001b[0;32melif\u001b[0m \u001b[0me\u001b[0m\u001b[0;34m.\u001b[0m\u001b[0mcode\u001b[0m \u001b[0;34m==\u001b[0m \u001b[0;36m500\u001b[0m\u001b[0;34m:\u001b[0m\u001b[0;34m\u001b[0m\u001b[0;34m\u001b[0m\u001b[0m\n\u001b[0;32m--> 938\u001b[0;31m                 \u001b[0;32mraise\u001b[0m \u001b[0mEndPointInternalError\u001b[0m\u001b[0;34m(\u001b[0m\u001b[0me\u001b[0m\u001b[0;34m.\u001b[0m\u001b[0mread\u001b[0m\u001b[0;34m(\u001b[0m\u001b[0;34m)\u001b[0m\u001b[0;34m)\u001b[0m\u001b[0;34m\u001b[0m\u001b[0;34m\u001b[0m\u001b[0m\n\u001b[0m\u001b[1;32m    939\u001b[0m             \u001b[0;32melse\u001b[0m\u001b[0;34m:\u001b[0m\u001b[0;34m\u001b[0m\u001b[0;34m\u001b[0m\u001b[0m\n\u001b[1;32m    940\u001b[0m                 \u001b[0;32mraise\u001b[0m \u001b[0me\u001b[0m\u001b[0;34m\u001b[0m\u001b[0;34m\u001b[0m\u001b[0m\n",
      "\u001b[0;31mEndPointInternalError\u001b[0m: EndPointInternalError: The endpoint returned the HTTP status code 500. \n\nResponse:\nb\"Virtuoso S1T00 Error SR171: Transaction timed out\\n\\nSPARQL query:\\ndefine sql:big-data-const 0 \\n#output-format:application/sparql-results+json\\n\\n\\n    PREFIX rdfs: <http://www.w3.org/2000/01/rdf-schema#>\\n    PREFIX arco-cd: <https://w3id.org/arco/ontology/context-description/>\\n    PREFIX arco-dd: <https://w3id.org/arco/ontology/denotative-description/>\\n    PREFIX arco: <https://w3id.org/arco/ontology/arco/>\\n    PREFIX dc: <http://purl.org/dc/elements/1.1/>\\n\\n    SELECT distinct ?art (sample(?art_label) as ?a_label) ?subj ?subj_label\\n    WHERE {\\n    ?art a arco:HistoricOrArtisticProperty. \\n     ?art arco-cd:hasSubject ?subj; rdfs:label ?art_label.\\n    OPTIONAL {?subj rdfs:label ?subj_label}.\\n   # FILTER(lang(?art_label)='en')\\n   # FILTER(lang(?subj_label)='en')\\n    }\\n    GROUP BY ?art ?subj ?subj_label\\n    ORDER BY RAND()\\n    LIMIT 20\\n    \""
     ]
    }
   ],
   "source": [
    "relations = [\"arco-cd:hasSubject\",\t\"arco-cd:iconclassCode\", \"arco-cd:subject\", \"dc:subject\"]\n",
    "# this query can sometimes return server error\n",
    "# open csv, store the results of every iteration there. \n",
    "with open('Arco_semantic_validity.csv', mode='a') as my_file: \n",
    "  my_file = csv.writer(my_file, delimiter=',', quotechar='\"', quoting=csv.QUOTE_ALL)\n",
    "\n",
    "  for rel in relations: \n",
    "    arco_query = \"\"\"\n",
    "\n",
    "    PREFIX rdfs: <http://www.w3.org/2000/01/rdf-schema#>\n",
    "    PREFIX arco-cd: <https://w3id.org/arco/ontology/context-description/>\n",
    "    PREFIX arco-dd: <https://w3id.org/arco/ontology/denotative-description/>\n",
    "    PREFIX arco: <https://w3id.org/arco/ontology/arco/>\n",
    "    PREFIX dc: <http://purl.org/dc/elements/1.1/>\n",
    "\n",
    "    SELECT distinct ?art (sample(?art_label) as ?a_label) ?subj ?subj_label\n",
    "    WHERE {\n",
    "    ?art a arco:HistoricOrArtisticProperty. \n",
    "     ?art \"\"\"+rel+\"\"\" ?subj; rdfs:label ?art_label.\n",
    "    OPTIONAL {?subj rdfs:label ?subj_label}.\n",
    "   # FILTER(lang(?art_label)='en')\n",
    "   # FILTER(lang(?subj_label)='en')\n",
    "    }\n",
    "    GROUP BY ?art ?subj ?subj_label\n",
    "    ORDER BY RAND()\n",
    "    LIMIT 20\n",
    "    \"\"\"\n",
    "\n",
    "\n",
    "    res = sparl_query_setting(arco_query, arco_endpoint)\n",
    "    \n",
    "    # manipulate the result\n",
    "    for result in res[\"results\"][\"bindings\"]:\n",
    "      print(result)\n",
    "      if \"subj_label\" not in result: \n",
    "        subj_label = \"none\"\n",
    "      else:\n",
    "        subj_label = result[\"subj_label\"][\"value\"]\n",
    "      my_file.writerow([result[\"art\"][\"value\"], result[\"a_label\"][\"value\"], result[\"subj\"][\"value\"], subj_label])\n",
    "\n"
   ]
  },
  {
   "cell_type": "code",
   "execution_count": null,
   "metadata": {
    "id": "mo_bmQLwhGyu"
   },
   "outputs": [],
   "source": [
    "variables = [\"art\", \"a_label\", \"subj\", \"subj_label\"]\n",
    "\n",
    "iconogr_apparatus_query = \"\"\"\n",
    "    PREFIX rdfs: <http://www.w3.org/2000/01/rdf-schema#>\n",
    "    PREFIX arco-cd: <https://w3id.org/arco/ontology/context-description/>\n",
    "    PREFIX arco-dd: <https://w3id.org/arco/ontology/denotative-description/>\n",
    "    PREFIX arco: <https://w3id.org/arco/ontology/arco/>\n",
    "    PREFIX dc: <http://purl.org/dc/elements/1.1/>\n",
    "\n",
    "    SELECT distinct ?art (sample(?art_label) as ?a_label) ?subj ?subj_label\n",
    "    WHERE {\n",
    "      VALUES ?rel {arco-cd:hasSubject arco-cd:iconclassCode arco-cd:subject dc:subject}\n",
    "    ?art a arco:HistoricOrArtisticProperty; \n",
    "      rdfs:label ?art_label. \n",
    "     ?art arco-dd:hasIconographicOrDecorativeApparatus ?iconogr.\n",
    "     ?iconogr ?rel ?subj.\n",
    "    OPTIONAL {?subj rdfs:label ?subj_label}.\n",
    "    FILTER NOT EXISTS {?iconogr a arco-dd:DecorativeApparatus}\n",
    "   # FILTER(lang(?art_label)='en')\n",
    "   # FILTER(lang(?subj_label)='en')\n",
    "    }\n",
    "    GROUP BY ?art ?subj ?subj_label\n",
    "    ORDER BY RAND()\n",
    "    LIMIT 20\n",
    "    \"\"\"\n",
    "recall = sample_selection(\"semantic_validity_arco.csv\", iconogr_apparatus_query, arco_endpoint, variables)"
   ]
  },
  {
   "cell_type": "markdown",
   "metadata": {
    "id": "VWcbXILn7dZm"
   },
   "source": [
    "# COLUMN COMPLETENESS SAMPLE"
   ]
  },
  {
   "cell_type": "code",
   "execution_count": null,
   "metadata": {
    "id": "eP2_qhGl6fB4"
   },
   "outputs": [],
   "source": []
  },
  {
   "cell_type": "markdown",
   "metadata": {
    "id": "9rr3fP8zUWg9"
   },
   "source": [
    "## ARCO\n",
    "\n",
    "select 100 random works of art that have at least one of the subject properties\n",
    "\n",
    "then create a values query to group together all the subjects/iconographic elements associated with them"
   ]
  },
  {
   "cell_type": "code",
   "execution_count": null,
   "metadata": {
    "id": "Z8gL0A-_UhiN"
   },
   "outputs": [],
   "source": [
    "query100randomarco = '''PREFIX rdf: <http://www.w3.org/1999/02/22-rdf-syntax-ns#>\n",
    "PREFIX rdfs: <http://www.w3.org/2000/01/rdf-schema#>\n",
    "PREFIX arco-cd: <https://w3id.org/arco/ontology/context-description/>\n",
    "PREFIX arco-dd: <https://w3id.org/arco/ontology/denotative-description/>\n",
    "PREFIX arco: <https://w3id.org/arco/ontology/arco/>\n",
    "PREFIX datal: <https://w3id.org/arco/resource/Lombardia/HistoricOrArtisticProperty/>\n",
    "PREFIX datas: <https://w3id.org/arco/resource/SARDEGNA/HistoricOrArtisticProperty/>\n",
    "PREFIX data: <https://w3id.org/arco/resource/HistoricOrArtisticProperty/>\n",
    "\n",
    "\n",
    "SELECT DISTINCT ?art where {\n",
    "?art a arco:HistoricOrArtisticProperty ;\n",
    "arco-cd:iconclassCode | dc:subject | arco-cd:subject | arco-dd:hasIconographicOrDecorativeApparatus ?subj .\n",
    "} ORDER BY RAND ()\n",
    "LIMIT 100'''\n",
    "\n",
    "arco100randomresults = sparl_query_setting(query100randomarco, arco)\n",
    "\n",
    "arcolist = []\n",
    "for el in arco100randomresults[\"results\"][\"bindings\"]:\n",
    "  uri = str(el[\"art\"][\"value\"])\n",
    "  uri = \"<\" + uri + \">\"\n",
    "  arcolist.append(uri)\n",
    "stringforvalues = \" \".join(arcolist)\n"
   ]
  },
  {
   "cell_type": "code",
   "execution_count": null,
   "metadata": {
    "colab": {
     "base_uri": "https://localhost:8080/",
     "height": 158
    },
    "id": "RttoAlXnVPyG",
    "outputId": "ebc75b84-3a9c-4884-b58f-3e62728ecb78"
   },
   "outputs": [
    {
     "data": {
      "application/vnd.google.colaboratory.intrinsic+json": {
       "type": "string"
      },
      "text/plain": [
       "'<https://w3id.org/arco/resource/HistoricOrArtisticProperty/0900014470> <https://w3id.org/arco/resource/HistoricOrArtisticProperty/0900341487> <https://w3id.org/arco/resource/HistoricOrArtisticProperty/1500662743> <https://w3id.org/arco/resource/HistoricOrArtisticProperty/0800202761> <https://w3id.org/arco/resource/HistoricOrArtisticProperty/1300144187> <https://w3id.org/arco/resource/HistoricOrArtisticProperty/2000052548> <https://w3id.org/arco/resource/HistoricOrArtisticProperty/1600047946> <https://w3id.org/arco/resource/HistoricOrArtisticProperty/0500447476> <https://w3id.org/arco/resource/HistoricOrArtisticProperty/0900329809> <https://w3id.org/arco/resource/HistoricOrArtisticProperty/0700008507> <https://w3id.org/arco/resource/HistoricOrArtisticProperty/1100253326> <https://w3id.org/arco/resource/HistoricOrArtisticProperty/1600183135> <https://w3id.org/arco/resource/HistoricOrArtisticProperty/2000065321> <https://w3id.org/arco/resource/HistoricOrArtisticProperty/0500446046> <https://w3id.org/arco/resource/SARDEGNA/HistoricOrArtisticProperty/2000225913> <https://w3id.org/arco/resource/HistoricOrArtisticProperty/0800223044> <https://w3id.org/arco/resource/HistoricOrArtisticProperty/1200759881> <https://w3id.org/arco/resource/HistoricOrArtisticProperty/0800236259> <https://w3id.org/arco/resource/HistoricOrArtisticProperty/0500653408> <https://w3id.org/arco/resource/HistoricOrArtisticProperty/1600108281-5> <https://w3id.org/arco/resource/HistoricOrArtisticProperty/0900146042> <https://w3id.org/arco/resource/HistoricOrArtisticProperty/0900106259> <https://w3id.org/arco/resource/HistoricOrArtisticProperty/1900139470> <https://w3id.org/arco/resource/HistoricOrArtisticProperty/0500656484> <https://w3id.org/arco/resource/HistoricOrArtisticProperty/0900527101> <https://w3id.org/arco/resource/HistoricOrArtisticProperty/0300178124> <https://w3id.org/arco/resource/HistoricOrArtisticProperty/0900054674> <https://w3id.org/arco/resource/HistoricOrArtisticProperty/1700040033> <'"
      ]
     },
     "execution_count": 9,
     "metadata": {},
     "output_type": "execute_result"
    }
   ],
   "source": [
    "stringforvalues[:2000]"
   ]
  },
  {
   "cell_type": "code",
   "execution_count": null,
   "metadata": {
    "id": "RbRh9VC-Vfvl"
   },
   "outputs": [],
   "source": [
    "querycolumnarcowithrandomvalues = '''\n",
    "PREFIX rdf: <http://www.w3.org/1999/02/22-rdf-syntax-ns#>\n",
    "PREFIX rdfs: <http://www.w3.org/2000/01/rdf-schema#>\n",
    "PREFIX arco-cd: <https://w3id.org/arco/ontology/context-description/>\n",
    "PREFIX arco-dd: <https://w3id.org/arco/ontology/denotative-description/>\n",
    "PREFIX arco: <https://w3id.org/arco/ontology/arco/>\n",
    "PREFIX datal: <https://w3id.org/arco/resource/Lombardia/HistoricOrArtisticProperty/>\n",
    "PREFIX datas: <https://w3id.org/arco/resource/SARDEGNA/HistoricOrArtisticProperty/>\n",
    "PREFIX data: <https://w3id.org/arco/resource/HistoricOrArtisticProperty/>\n",
    "\n",
    "\n",
    "SELECT DISTINCT ?art (GROUP_CONCAT(?subj; separator = \" @ \" ) as ?subjects) where {\n",
    "VALUES ?art { '''+ stringforvalues +''' }\n",
    "?art arco-cd:iconclassCode | dc:subject | arco-cd:subject | arco-dd:hasIconographicOrDecorativeApparatus ?subj .\n",
    "}'''\n",
    "\n",
    "resultscolumnsarco = sparl_query_setting(querycolumnarcowithrandomvalues, arco)\n"
   ]
  },
  {
   "cell_type": "code",
   "execution_count": null,
   "metadata": {
    "id": "HWdRKKqOWAoW"
   },
   "outputs": [],
   "source": [
    "import csv\n",
    "makeatsv(\"arcocolumn.tsv\", resultscolumnsarco, \"art\", \"subjects\")"
   ]
  },
  {
   "cell_type": "markdown",
   "metadata": {
    "id": "SBm5OxWa7ur7"
   },
   "source": [
    "## DBpedia\n",
    "\n",
    "use built in order by rand()"
   ]
  },
  {
   "cell_type": "code",
   "execution_count": null,
   "metadata": {
    "id": "478sgXm87wP4"
   },
   "outputs": [],
   "source": [
    "qmdb2 = '''\n",
    "prefix dbo: <http://dbpedia.org/ontology/>\n",
    "prefix dct: <http://purl.org/dc/terms/>\n",
    "prefix dbp: <http://dbpedia.org/property/>\n",
    "SELECT ?artwork (group_concat(distinct ?subject1; separator=\" @ \") as ?subjects1) (group_concat(distinct ?subject2; separator = \" @ \") as ?subjects2) WHERE {\n",
    "?artwork a dbo:Artwork;\n",
    "dct:subject ?subject1;\n",
    "dbp:subject ?subject2 . }\n",
    "ORDER BY RAND()\n",
    "LIMIT 100'''\n",
    "\n",
    "rescoldb = sparl_query_setting(qmdb2, dbpedia)\n",
    "\n"
   ]
  },
  {
   "cell_type": "code",
   "execution_count": null,
   "metadata": {
    "id": "Ekz5FdXJIWGv"
   },
   "outputs": [],
   "source": [
    "with open(\"dbpedia_colc.tsv\", \"wt\", encoding=\"utf-8-sig\") as out_file:\n",
    "  twriter = csv.writer(out_file, delimiter=\"\\t\")\n",
    "  twriter.writerow([\"artwork\", \"prop1\", \"prop2\"])\n",
    "  for res in rescoldb[\"results\"][\"bindings\"]:\n",
    "    art = res[\"artwork\"][\"value\"]\n",
    "    sub1 = res[\"subjects1\"][\"value\"]\n",
    "    sub2 = res[\"subjects2\"][\"value\"]\n",
    "    twriter.writerow([art, sub1, sub2]) "
   ]
  },
  {
   "cell_type": "code",
   "execution_count": null,
   "metadata": {
    "id": "8l99uIPVIhaw"
   },
   "outputs": [],
   "source": []
  },
  {
   "cell_type": "markdown",
   "metadata": {
    "id": "dKobRBkTKHXK"
   },
   "source": [
    "## Europeana\n",
    "\n",
    "take all the paintings - groupconcat(subjects) couples\n",
    "\n",
    "take all the sculptures - groupconcat(subjects) couples\n",
    "\n",
    "take a sample of 100 from the total"
   ]
  },
  {
   "cell_type": "code",
   "execution_count": null,
   "metadata": {
    "id": "xde0LqEyKJdM"
   },
   "outputs": [],
   "source": [
    "euroqueryp = '''\n",
    "PREFIX ore: <http://www.openarchives.org/ore/terms/>\n",
    "PREFIX edm: <http://www.europeana.eu/schemas/edm/>\n",
    "\n",
    "select  ?CHO (GROUP_CONCAT(distinct ?sub ;separator=\" @ \") as ?subjects) where {\n",
    "             ?s a <http://www.w3.org/2004/02/skos/core#Concept> ;\n",
    "<http://www.w3.org/2004/02/skos/core#broader>* <http://vocab.getty.edu/aat/300033618> .\n",
    "?CHO dc:type ?s ;\n",
    "dc:subject ?sub . }'''\n",
    "\n",
    "euroquerysc = '''\n",
    "PREFIX ore: <http://www.openarchives.org/ore/terms/>\n",
    "PREFIX edm: <http://www.europeana.eu/schemas/edm/>\n",
    "\n",
    "select  ?CHO (GROUP_CONCAT(distinct ?sub ;separator=\" @ \") as ?subjects) where {\n",
    "             ?s a <http://www.w3.org/2004/02/skos/core#Concept> ;\n",
    "<http://www.w3.org/2004/02/skos/core#broader>* <http://vocab.getty.edu/aat/300047090> .\n",
    "?CHO dc:type ?s ;\n",
    "dc:subject ?sub . }'''\n",
    "\n",
    "reseuro2p = sparl_query_setting(euroqueryp, euro)\n",
    "reseuro2s = sparl_query_setting(euroquerysc, euro)"
   ]
  },
  {
   "cell_type": "code",
   "execution_count": null,
   "metadata": {
    "colab": {
     "base_uri": "https://localhost:8080/"
    },
    "id": "rmmBexJ5MRMf",
    "outputId": "b670f1fd-9601-4674-f1a1-3114ad3bd3f3"
   },
   "outputs": [
    {
     "name": "stdout",
     "output_type": "stream",
     "text": [
      "3954\n",
      "5250\n"
     ]
    }
   ],
   "source": [
    "paintings2 = []\n",
    "for res in reseuro2p[\"results\"][\"bindings\"]:\n",
    "  art = res[\"CHO\"][\"value\"]\n",
    "  subjects = res[\"subjects\"][\"value\"]\n",
    "  paintings2.append((art, subjects))\n",
    "print(len(paintings2))\n",
    "for res in reseuro2s[\"results\"][\"bindings\"]:\n",
    "  art = res[\"CHO\"][\"value\"]\n",
    "  subjects = res[\"subjects\"][\"value\"]\n",
    "  paintings2.append((art, subjects))\n",
    "print(len(paintings2))"
   ]
  },
  {
   "cell_type": "code",
   "execution_count": null,
   "metadata": {
    "id": "8aFAJdrwMtFu"
   },
   "outputs": [],
   "source": [
    "sampledartworks2 = sample(paintings2, 100)"
   ]
  },
  {
   "cell_type": "code",
   "execution_count": null,
   "metadata": {
    "id": "RZx1u3m3NgNK"
   },
   "outputs": [],
   "source": [
    "with open(\"europeanacolumn3.tsv\", \"wt\", encoding=\"utf-8-sig\") as out_file:\n",
    "  twriter = csv.writer(out_file, delimiter=\"§\")\n",
    "  twriter.writerow([\"artwork\", \"subject\"])\n",
    "  for artsub in sampledartworks2:\n",
    "    art = artsub[0]\n",
    "    sub = artsub[1]\n",
    "    twriter.writerow([art, sub])"
   ]
  },
  {
   "cell_type": "code",
   "execution_count": null,
   "metadata": {
    "id": "QlL8iM0xOn1L"
   },
   "outputs": [],
   "source": []
  },
  {
   "cell_type": "markdown",
   "metadata": {
    "id": "3srCIlY7TJK2"
   },
   "source": [
    "## Yago"
   ]
  },
  {
   "cell_type": "code",
   "execution_count": null,
   "metadata": {
    "id": "JB8GXxVCTKXu"
   },
   "outputs": [],
   "source": [
    "qy2 = '''\n",
    "PREFIX rdf: <http://www.w3.org/1999/02/22-rdf-syntax-ns#>\n",
    "PREFIX rdfs: <http://www.w3.org/2000/01/rdf-schema#>\n",
    "PREFIX schema: <http://schema.org/>\n",
    "\n",
    "SELECT distinct ?artwork (GROUP_CONCAT(distinct ?sub;separator = \" @ \") as ?subjects)\n",
    "WHERE {\n",
    "  VALUES ?art {schema:Painting schema:Sculpture}\n",
    "  ?artwork rdf:type ?art ;\n",
    "  schema:about ?sub \n",
    "} GROUP BY ?artwork\n",
    "ORDER BY RAND()\n",
    "LIMIT 100'''\n",
    "\n",
    "ry2 = sparl_query_setting(qy2, yago)"
   ]
  },
  {
   "cell_type": "code",
   "execution_count": null,
   "metadata": {
    "id": "4DKRNCQgTdaO"
   },
   "outputs": [],
   "source": [
    "makeatsv(\"yagocolumn.tsv\", ry2, \"artwork\", \"subjects\")"
   ]
  },
  {
   "cell_type": "code",
   "execution_count": null,
   "metadata": {
    "id": "IPzWY2cHT0WO"
   },
   "outputs": [],
   "source": []
  },
  {
   "cell_type": "markdown",
   "metadata": {
    "id": "wnQH7gsoUTvr"
   },
   "source": [
    "## ND HUNGARY"
   ]
  },
  {
   "cell_type": "code",
   "execution_count": null,
   "metadata": {
    "colab": {
     "base_uri": "https://localhost:8080/"
    },
    "id": "c6f2_4phUZAZ",
    "outputId": "1847481c-e1e3-4e33-8bd2-a4c99f786460"
   },
   "outputs": [
    {
     "name": "stdout",
     "output_type": "stream",
     "text": [
      "6523\n"
     ]
    }
   ],
   "source": [
    "querynd2 = '''SELECT COUNT(distinct ?URI) as ?tot WHERE {\n",
    "?URI <http://purl.org/dc/terms/type> dcmitype:Image ;\n",
    "<http://purl.org/dc/terms/subject> ?sub .\n",
    " }'''\n",
    "\n",
    "rndh2 = sparl_query_setting(querynd2, nd_hungary)\n",
    "for result in rndh2[\"results\"][\"bindings\"]:\n",
    "  print(result[\"tot\"][\"value\"])"
   ]
  },
  {
   "cell_type": "code",
   "execution_count": null,
   "metadata": {
    "id": "deCsnLk8ahZd"
   },
   "outputs": [],
   "source": [
    "resultsnd2 = set()\n",
    "queryndsample = '''SELECT ?URI WHERE {\n",
    "?URI <http://purl.org/dc/terms/type> dcmitype:Image ;\n",
    "<http://purl.org/dc/terms/subject> ?sub .\n",
    " }LIMIT 1\n",
    " OFFSET @@n@@'''\n",
    "while len(resultsnd2) < 100:\n",
    "  randomn = random.randint(0, 6522)\n",
    "  queryndrandom = queryndsample.replace(\"@@n@@\", str(randomn))\n",
    "  rndhsem = sparl_query_setting(queryndrandom, nd_hungary)\n",
    "  for res in rndhsem[\"results\"][\"bindings\"]:\n",
    "    art = res[\"URI\"][\"value\"]\n",
    "    resultsnd2.add(art)\n"
   ]
  },
  {
   "cell_type": "code",
   "execution_count": null,
   "metadata": {
    "colab": {
     "base_uri": "https://localhost:8080/"
    },
    "id": "0t5k4C3mvFn3",
    "outputId": "aea461ec-bbd8-407d-bad3-95424da96115"
   },
   "outputs": [
    {
     "data": {
      "text/plain": [
       "{'http://lod.sztaki.hu/data/item/6188',\n",
       " 'http://lod.sztaki.hu/data/item/6215',\n",
       " 'http://lod.sztaki.hu/data/item/6224',\n",
       " 'http://lod.sztaki.hu/data/item/6231',\n",
       " 'http://lod.sztaki.hu/data/item/6234',\n",
       " 'http://lod.sztaki.hu/data/item/6350',\n",
       " 'http://lod.sztaki.hu/data/item/6379',\n",
       " 'http://lod.sztaki.hu/data/item/6402',\n",
       " 'http://lod.sztaki.hu/data/item/6421',\n",
       " 'http://lod.sztaki.hu/data/item/6423',\n",
       " 'http://lod.sztaki.hu/data/item/6499',\n",
       " 'http://lod.sztaki.hu/data/item/6678',\n",
       " 'http://lod.sztaki.hu/data/item/6689',\n",
       " 'http://lod.sztaki.hu/data/item/6690',\n",
       " 'http://lod.sztaki.hu/data/item/6706',\n",
       " 'http://lod.sztaki.hu/data/item/6708',\n",
       " 'http://lod.sztaki.hu/data/item/6720',\n",
       " 'http://lod.sztaki.hu/data/item/6723',\n",
       " 'http://lod.sztaki.hu/data/item/6755',\n",
       " 'http://lod.sztaki.hu/data/item/6761',\n",
       " 'http://lod.sztaki.hu/data/item/6793',\n",
       " 'http://lod.sztaki.hu/data/item/6916',\n",
       " 'http://lod.sztaki.hu/data/item/6936',\n",
       " 'http://lod.sztaki.hu/data/item/6949',\n",
       " 'http://lod.sztaki.hu/data/item/6959',\n",
       " 'http://lod.sztaki.hu/data/item/6969',\n",
       " 'http://lod.sztaki.hu/data/item/6974',\n",
       " 'http://lod.sztaki.hu/data/item/6976',\n",
       " 'http://lod.sztaki.hu/data/item/7004',\n",
       " 'http://lod.sztaki.hu/data/item/7105',\n",
       " 'http://lod.sztaki.hu/data/item/7109',\n",
       " 'http://lod.sztaki.hu/data/item/7129',\n",
       " 'http://lod.sztaki.hu/data/item/7145',\n",
       " 'http://lod.sztaki.hu/data/item/7171',\n",
       " 'http://lod.sztaki.hu/data/item/7179',\n",
       " 'http://lod.sztaki.hu/data/item/7246',\n",
       " 'http://lod.sztaki.hu/data/item/7267',\n",
       " 'http://lod.sztaki.hu/data/item/7276',\n",
       " 'http://lod.sztaki.hu/data/item/7288',\n",
       " 'http://lod.sztaki.hu/data/item/7292',\n",
       " 'http://lod.sztaki.hu/data/item/7295',\n",
       " 'http://lod.sztaki.hu/data/item/7305',\n",
       " 'http://lod.sztaki.hu/data/item/7313',\n",
       " 'http://lod.sztaki.hu/data/item/7336',\n",
       " 'http://lod.sztaki.hu/data/item/7413',\n",
       " 'http://lod.sztaki.hu/data/item/7486',\n",
       " 'http://lod.sztaki.hu/data/item/7520',\n",
       " 'http://lod.sztaki.hu/data/item/7540',\n",
       " 'http://lod.sztaki.hu/data/item/7541',\n",
       " 'http://lod.sztaki.hu/data/item/7558',\n",
       " 'http://lod.sztaki.hu/data/item/7561',\n",
       " 'http://lod.sztaki.hu/data/item/7598',\n",
       " 'http://lod.sztaki.hu/data/item/7613',\n",
       " 'http://lod.sztaki.hu/data/item/7673',\n",
       " 'http://lod.sztaki.hu/data/item/7680',\n",
       " 'http://lod.sztaki.hu/data/item/7685',\n",
       " 'http://lod.sztaki.hu/data/item/7732',\n",
       " 'http://lod.sztaki.hu/data/item/7742',\n",
       " 'http://lod.sztaki.hu/data/item/7886',\n",
       " 'http://lod.sztaki.hu/data/item/7894',\n",
       " 'http://lod.sztaki.hu/data/item/7900',\n",
       " 'http://lod.sztaki.hu/data/item/7940',\n",
       " 'http://lod.sztaki.hu/data/item/8010',\n",
       " 'http://lod.sztaki.hu/data/item/8020',\n",
       " 'http://lod.sztaki.hu/data/item/8024',\n",
       " 'http://lod.sztaki.hu/data/item/8042',\n",
       " 'http://lod.sztaki.hu/data/item/8050',\n",
       " 'http://lod.sztaki.hu/data/item/8123',\n",
       " 'http://lod.sztaki.hu/data/item/8147',\n",
       " 'http://lod.sztaki.hu/data/item/8242',\n",
       " 'http://lod.sztaki.hu/data/item/8247',\n",
       " 'http://lod.sztaki.hu/data/item/8254',\n",
       " 'http://lod.sztaki.hu/data/item/8257',\n",
       " 'http://lod.sztaki.hu/data/item/8370',\n",
       " 'http://lod.sztaki.hu/data/item/8405',\n",
       " 'http://lod.sztaki.hu/data/item/8407',\n",
       " 'http://lod.sztaki.hu/data/item/8416',\n",
       " 'http://lod.sztaki.hu/data/item/8437',\n",
       " 'http://lod.sztaki.hu/data/item/8531',\n",
       " 'http://lod.sztaki.hu/data/item/8569',\n",
       " 'http://lod.sztaki.hu/data/item/8577',\n",
       " 'http://lod.sztaki.hu/data/item/8627',\n",
       " 'http://lod.sztaki.hu/data/item/8631',\n",
       " 'http://lod.sztaki.hu/data/item/8715',\n",
       " 'http://lod.sztaki.hu/data/item/8769',\n",
       " 'http://lod.sztaki.hu/data/item/8789',\n",
       " 'http://lod.sztaki.hu/data/item/8945',\n",
       " 'http://lod.sztaki.hu/data/item/8955',\n",
       " 'http://lod.sztaki.hu/data/item/8972',\n",
       " 'http://lod.sztaki.hu/data/item/9035',\n",
       " 'http://lod.sztaki.hu/data/item/9061',\n",
       " 'http://lod.sztaki.hu/data/item/9072',\n",
       " 'http://lod.sztaki.hu/data/item/9148',\n",
       " 'http://lod.sztaki.hu/data/item/9161',\n",
       " 'http://lod.sztaki.hu/data/item/9175',\n",
       " 'http://lod.sztaki.hu/data/item/9189',\n",
       " 'http://lod.sztaki.hu/data/item/9191',\n",
       " 'http://lod.sztaki.hu/data/item/9238',\n",
       " 'http://lod.sztaki.hu/data/item/9241',\n",
       " 'http://lod.sztaki.hu/data/item/9257'}"
      ]
     },
     "execution_count": 40,
     "metadata": {},
     "output_type": "execute_result"
    }
   ],
   "source": [
    "resultsnd2"
   ]
  },
  {
   "cell_type": "code",
   "execution_count": null,
   "metadata": {
    "id": "7htYmspLupkO"
   },
   "outputs": [],
   "source": [
    "artworkssub = dict()\n",
    "samplequery = '''\n",
    "SELECT distinct ?sub where {\n",
    "@@@uri@@@ <http://purl.org/dc/terms/subject> ?sub .\n",
    "}\n",
    "'''\n",
    "for el in resultsnd2:\n",
    "  artworkssub[el] = []\n",
    "  queryel = \"<\" + el + \">\"\n",
    "  querynd = samplequery.replace(\"@@@uri@@@\", queryel)\n",
    "  rndhsem = sparl_query_setting(querynd, nd_hungary)\n",
    "  for res in rndhsem[\"results\"][\"bindings\"]:\n",
    "    sub = res[\"sub\"][\"value\"]\n",
    "    artworkssub[el].append(sub)\n",
    "\n"
   ]
  },
  {
   "cell_type": "code",
   "execution_count": null,
   "metadata": {
    "colab": {
     "base_uri": "https://localhost:8080/"
    },
    "id": "c0FaNmg-wImJ",
    "outputId": "27969264-8e5a-49be-b7fd-fd7dba44c92d"
   },
   "outputs": [
    {
     "data": {
      "text/plain": [
       "{'http://lod.sztaki.hu/data/item/6188': ['plakát',\n",
       "  'eredeti',\n",
       "  'Matejko, Theo (1893-1944)',\n",
       "  'német',\n",
       "  'műtárgy',\n",
       "  'plakátművészet',\n",
       "  '20. század első fele'],\n",
       " 'http://lod.sztaki.hu/data/item/6215': ['eredeti',\n",
       "  'férfi',\n",
       "  'fényképek',\n",
       "  '20. század eleje',\n",
       "  'akt',\n",
       "  'fotóművészet'],\n",
       " 'http://lod.sztaki.hu/data/item/6224': ['olasz',\n",
       "  'eredeti',\n",
       "  'fénykép',\n",
       "  'reneszánsz',\n",
       "  'Raffaello di Giovanni Santi (1483-1520)',\n",
       "  'festészet 16. sz. eleje',\n",
       "  'fotóművészet',\n",
       "  'műtárgyfotó 19. sz. vége'],\n",
       " 'http://lod.sztaki.hu/data/item/6231': ['olasz',\n",
       "  'eredeti',\n",
       "  'fénykép',\n",
       "  'reneszánsz',\n",
       "  'freskó',\n",
       "  'Correggio (1489-1534)',\n",
       "  'fotóművészet',\n",
       "  'műtárgyfotó 19. sz. vége',\n",
       "  'festészet 16. sz. első harmada'],\n",
       " 'http://lod.sztaki.hu/data/item/6234': ['olasz',\n",
       "  'eredeti',\n",
       "  'fénykép',\n",
       "  'reneszánsz',\n",
       "  'freskó',\n",
       "  'Correggio (1489-1534)',\n",
       "  'fotóművészet',\n",
       "  'műtárgyfotó 19. sz. vége',\n",
       "  'festészet 16. sz. első harmada'],\n",
       " 'http://lod.sztaki.hu/data/item/6350': ['eredeti',\n",
       "  'fénykép',\n",
       "  'ipari fotó 20. sz. eleje',\n",
       "  'háziipar',\n",
       "  'kötél',\n",
       "  'kötélgyártás',\n",
       "  'fotóművészet'],\n",
       " 'http://lod.sztaki.hu/data/item/6379': ['szecesszió',\n",
       "  'plakát',\n",
       "  'eredeti',\n",
       "  'német',\n",
       "  'Hohlwein, Ludwig (1874-1949)',\n",
       "  'műtárgy',\n",
       "  'plakátművészet'],\n",
       " 'http://lod.sztaki.hu/data/item/6402': ['olasz',\n",
       "  'eredeti',\n",
       "  'fénykép',\n",
       "  'Michelangelo Buonarroti (1475-1564)',\n",
       "  'festészet',\n",
       "  'freskó',\n",
       "  'mappa',\n",
       "  'fotóművészet',\n",
       "  'műtárgyfotó 19. század vége'],\n",
       " 'http://lod.sztaki.hu/data/item/6421': ['eredeti',\n",
       "  'fénykép',\n",
       "  'épületfotó 19. század vége',\n",
       "  'városfotó 19. század vége',\n",
       "  'lengyel',\n",
       "  'templom',\n",
       "  'oltár',\n",
       "  'fotóművészet',\n",
       "  'műemlék'],\n",
       " 'http://lod.sztaki.hu/data/item/6423': ['eredeti',\n",
       "  'fénykép',\n",
       "  'mappa',\n",
       "  'fotóművészet',\n",
       "  'műtárgyfotó 19. század vége'],\n",
       " 'http://lod.sztaki.hu/data/item/6499': ['eredeti',\n",
       "  'magyar',\n",
       "  'fénykép',\n",
       "  'mappa',\n",
       "  'fotóművészet',\n",
       "  'műtárgyfotó 19. század vége',\n",
       "  'iparművészet',\n",
       "  'bőrdíszművesség'],\n",
       " 'http://lod.sztaki.hu/data/item/6678': ['grafika',\n",
       "  'rézkarc',\n",
       "  'eredeti',\n",
       "  'magyar',\n",
       "  '1921-1929'],\n",
       " 'http://lod.sztaki.hu/data/item/6689': ['grafika',\n",
       "  'eredeti',\n",
       "  'magyar',\n",
       "  'linóleummetszet',\n",
       "  'önarckép',\n",
       "  '1921-1929'],\n",
       " 'http://lod.sztaki.hu/data/item/6690': ['grafika',\n",
       "  'rézkarc',\n",
       "  'eredeti',\n",
       "  'magyar',\n",
       "  '1921-1929'],\n",
       " 'http://lod.sztaki.hu/data/item/6706': ['grafika',\n",
       "  'rézkarc',\n",
       "  'eredeti',\n",
       "  'magyar',\n",
       "  '1921-1929'],\n",
       " 'http://lod.sztaki.hu/data/item/6708': ['grafika',\n",
       "  'rézkarc',\n",
       "  'eredeti',\n",
       "  'magyar',\n",
       "  '1921-1929'],\n",
       " 'http://lod.sztaki.hu/data/item/6720': ['grafika',\n",
       "  'rézkarc',\n",
       "  'eredeti',\n",
       "  'magyar',\n",
       "  'arckép',\n",
       "  '1921-1929'],\n",
       " 'http://lod.sztaki.hu/data/item/6723': ['grafika',\n",
       "  'rézkarc',\n",
       "  'eredeti',\n",
       "  'magyar',\n",
       "  '1921-1929'],\n",
       " 'http://lod.sztaki.hu/data/item/6755': ['grafika',\n",
       "  'eredeti',\n",
       "  'magyar',\n",
       "  '1921-1929',\n",
       "  'cinkkarc',\n",
       "  'nőábrázolás'],\n",
       " 'http://lod.sztaki.hu/data/item/6761': ['grafika',\n",
       "  'eredeti',\n",
       "  'magyar',\n",
       "  'linóleummetszet',\n",
       "  '1921-1929'],\n",
       " 'http://lod.sztaki.hu/data/item/6793': ['grafika',\n",
       "  'rézkarc',\n",
       "  'eredeti',\n",
       "  'magyar',\n",
       "  '1921-1929',\n",
       "  'város'],\n",
       " 'http://lod.sztaki.hu/data/item/6916': ['grafika',\n",
       "  'rézkarc',\n",
       "  'eredeti',\n",
       "  'magyar',\n",
       "  '1921-1929',\n",
       "  'nőábrázolás'],\n",
       " 'http://lod.sztaki.hu/data/item/6936': ['grafika',\n",
       "  'rézkarc',\n",
       "  'eredeti',\n",
       "  'magyar',\n",
       "  'ábrázolása',\n",
       "  '1921-1929',\n",
       "  'munka'],\n",
       " 'http://lod.sztaki.hu/data/item/6949': ['grafika',\n",
       "  'rézkarc',\n",
       "  'eredeti',\n",
       "  'magyar',\n",
       "  '1921-1929',\n",
       "  'allegorikus ábrázolás'],\n",
       " 'http://lod.sztaki.hu/data/item/6959': ['grafika',\n",
       "  'rézkarc',\n",
       "  'eredeti',\n",
       "  'magyar',\n",
       "  'tájkép',\n",
       "  '1921-1929'],\n",
       " 'http://lod.sztaki.hu/data/item/6969': ['grafika',\n",
       "  'rézkarc',\n",
       "  'eredeti',\n",
       "  'magyar',\n",
       "  'ábrázolása',\n",
       "  'életkép',\n",
       "  'állatábrázolás',\n",
       "  'emberábrázolás',\n",
       "  '1921-1929',\n",
       "  'munka'],\n",
       " 'http://lod.sztaki.hu/data/item/6974': ['grafika',\n",
       "  'rézkarc',\n",
       "  'eredeti',\n",
       "  'magyar',\n",
       "  'ábrázolása',\n",
       "  '1921-1929',\n",
       "  'munka'],\n",
       " 'http://lod.sztaki.hu/data/item/6976': ['grafika',\n",
       "  'rézkarc',\n",
       "  'eredeti',\n",
       "  'magyar',\n",
       "  'Beethoven, Ludwig van (1770-1827)',\n",
       "  'emberábrázolás',\n",
       "  '1921-1929'],\n",
       " 'http://lod.sztaki.hu/data/item/7004': ['grafika',\n",
       "  'rézkarc',\n",
       "  'eredeti',\n",
       "  'magyar',\n",
       "  'életkép',\n",
       "  '1921-1929'],\n",
       " 'http://lod.sztaki.hu/data/item/7105': ['grafika',\n",
       "  'eredeti',\n",
       "  'magyar',\n",
       "  '1906-1914',\n",
       "  'linóleummetszet'],\n",
       " 'http://lod.sztaki.hu/data/item/7109': ['grafika',\n",
       "  'rézkarc',\n",
       "  'eredeti',\n",
       "  'magyar',\n",
       "  'arckép',\n",
       "  '1906-1914'],\n",
       " 'http://lod.sztaki.hu/data/item/7129': ['grafika',\n",
       "  'eredeti',\n",
       "  'magyar',\n",
       "  '1906-1914',\n",
       "  'linóleummetszet',\n",
       "  'életkép',\n",
       "  'játék'],\n",
       " 'http://lod.sztaki.hu/data/item/7145': ['grafika',\n",
       "  'rézkarc',\n",
       "  'eredeti',\n",
       "  'magyar',\n",
       "  '1906-1914',\n",
       "  'ábrázolása',\n",
       "  'munka'],\n",
       " 'http://lod.sztaki.hu/data/item/7171': ['grafika',\n",
       "  'eredeti',\n",
       "  '1893',\n",
       "  'magyar',\n",
       "  'szén',\n",
       "  'kréta'],\n",
       " 'http://lod.sztaki.hu/data/item/7179': ['grafika',\n",
       "  'eredeti',\n",
       "  'magyar',\n",
       "  'kréta',\n",
       "  '1880-1890'],\n",
       " 'http://lod.sztaki.hu/data/item/7246': ['grafika',\n",
       "  'eredeti',\n",
       "  'magyar',\n",
       "  'fa',\n",
       "  'tájkép',\n",
       "  'növényábrázolás',\n",
       "  '1931-1949',\n",
       "  'tusrajz',\n",
       "  'tollrajz'],\n",
       " 'http://lod.sztaki.hu/data/item/7267': ['grafika',\n",
       "  'eredeti',\n",
       "  'magyar',\n",
       "  '1931-1949',\n",
       "  'ceruzarajz'],\n",
       " 'http://lod.sztaki.hu/data/item/7276': ['grafika',\n",
       "  'eredeti',\n",
       "  'magyar',\n",
       "  'akt',\n",
       "  '1931-1949',\n",
       "  'tusrajz',\n",
       "  'tollrajz',\n",
       "  'nőábrázolás'],\n",
       " 'http://lod.sztaki.hu/data/item/7288': ['grafika',\n",
       "  'eredeti',\n",
       "  'magyar',\n",
       "  'akt',\n",
       "  '1931-1949',\n",
       "  'ceruzarajz',\n",
       "  'nőábrázolás'],\n",
       " 'http://lod.sztaki.hu/data/item/7292': ['grafika',\n",
       "  'eredeti',\n",
       "  'magyar',\n",
       "  'arckép',\n",
       "  '1931-1949',\n",
       "  'akvarell',\n",
       "  'nőábrázolás'],\n",
       " 'http://lod.sztaki.hu/data/item/7295': ['grafika',\n",
       "  'eredeti',\n",
       "  'magyar',\n",
       "  'arckép',\n",
       "  'emberábrázolás',\n",
       "  '1931-1949',\n",
       "  'szénrajz'],\n",
       " 'http://lod.sztaki.hu/data/item/7305': ['grafika',\n",
       "  'eredeti',\n",
       "  'magyar',\n",
       "  'életkép',\n",
       "  'emberábrázolás',\n",
       "  '1931-1949',\n",
       "  'tusrajz',\n",
       "  'tollrajz'],\n",
       " 'http://lod.sztaki.hu/data/item/7313': ['grafika',\n",
       "  'eredeti',\n",
       "  'magyar',\n",
       "  '1906-1914',\n",
       "  'litográfia'],\n",
       " 'http://lod.sztaki.hu/data/item/7336': ['grafika',\n",
       "  'eredeti',\n",
       "  'magyar',\n",
       "  '1906-1914',\n",
       "  'életkép',\n",
       "  'hidegtű'],\n",
       " 'http://lod.sztaki.hu/data/item/7413': ['grafika',\n",
       "  'eredeti',\n",
       "  'magyar',\n",
       "  'fametszet',\n",
       "  'bibliai jelenetek',\n",
       "  'Újszövetség',\n",
       "  '1931-1949',\n",
       "  'Madonna-ábrázolás'],\n",
       " 'http://lod.sztaki.hu/data/item/7486': ['grafika',\n",
       "  'rézkarc',\n",
       "  'eredeti',\n",
       "  'magyar',\n",
       "  'ábrázolása',\n",
       "  '1931-1949',\n",
       "  'munka',\n",
       "  'mezőgazdaság'],\n",
       " 'http://lod.sztaki.hu/data/item/7520': ['grafika',\n",
       "  'rézkarc',\n",
       "  'eredeti',\n",
       "  'magyar',\n",
       "  'akt',\n",
       "  '1931-1949',\n",
       "  'nőábrázolás'],\n",
       " 'http://lod.sztaki.hu/data/item/7540': ['grafika',\n",
       "  'eredeti',\n",
       "  'magyar',\n",
       "  'arckép',\n",
       "  '1931-1949',\n",
       "  'hidegtű'],\n",
       " 'http://lod.sztaki.hu/data/item/7541': ['grafika',\n",
       "  'rézkarc',\n",
       "  'eredeti',\n",
       "  'magyar',\n",
       "  'arckép',\n",
       "  '1931-1949'],\n",
       " 'http://lod.sztaki.hu/data/item/7558': ['grafika',\n",
       "  'eredeti',\n",
       "  'magyar',\n",
       "  'akt',\n",
       "  'fametszet',\n",
       "  '1931-1949',\n",
       "  'nőábrázolás'],\n",
       " 'http://lod.sztaki.hu/data/item/7561': ['grafika',\n",
       "  'eredeti',\n",
       "  'magyar',\n",
       "  'arckép',\n",
       "  'fametszet',\n",
       "  '1931-1949'],\n",
       " 'http://lod.sztaki.hu/data/item/7598': ['grafika',\n",
       "  'eredeti',\n",
       "  'magyar',\n",
       "  '1931-1949',\n",
       "  'mezzotinta',\n",
       "  'nőábrázolás'],\n",
       " 'http://lod.sztaki.hu/data/item/7613': ['grafika',\n",
       "  'eredeti',\n",
       "  'magyar',\n",
       "  'ábrázolása',\n",
       "  'linóleummetszet',\n",
       "  '1931-1949',\n",
       "  'munka'],\n",
       " 'http://lod.sztaki.hu/data/item/7673': ['grafika',\n",
       "  'eredeti',\n",
       "  'magyar',\n",
       "  'foltmaratás',\n",
       "  '1931-1949',\n",
       "  'népviselet',\n",
       "  'nőábrázolás'],\n",
       " 'http://lod.sztaki.hu/data/item/7680': ['grafika',\n",
       "  'eredeti',\n",
       "  'magyar',\n",
       "  'fametszet',\n",
       "  '1931-1949',\n",
       "  'szentek',\n",
       "  'Benedek, Szent'],\n",
       " 'http://lod.sztaki.hu/data/item/7685': ['grafika',\n",
       "  'eredeti',\n",
       "  'magyar',\n",
       "  'fametszet',\n",
       "  'bibliai jelenetek',\n",
       "  'Újszövetség',\n",
       "  '1931-1949',\n",
       "  'Krisztus-ábrázolás'],\n",
       " 'http://lod.sztaki.hu/data/item/7732': ['grafika',\n",
       "  'rézkarc',\n",
       "  'eredeti',\n",
       "  'magyar',\n",
       "  'emberábrázolás',\n",
       "  '1931-1949'],\n",
       " 'http://lod.sztaki.hu/data/item/7742': ['grafika',\n",
       "  'eredeti',\n",
       "  'magyar',\n",
       "  'fametszet',\n",
       "  'ex libris',\n",
       "  '1931-1949'],\n",
       " 'http://lod.sztaki.hu/data/item/7886': ['grafika',\n",
       "  'eredeti',\n",
       "  'magyar',\n",
       "  'linóleummetszet',\n",
       "  'emberábrázolás',\n",
       "  '1921-1929'],\n",
       " 'http://lod.sztaki.hu/data/item/7894': ['grafika',\n",
       "  'rézkarc',\n",
       "  'eredeti',\n",
       "  'magyar',\n",
       "  '1906-1914'],\n",
       " 'http://lod.sztaki.hu/data/item/7900': ['grafika',\n",
       "  'eredeti',\n",
       "  'magyar',\n",
       "  '1906-1914',\n",
       "  'linóleummetszet',\n",
       "  'mitológiai ábrázolás'],\n",
       " 'http://lod.sztaki.hu/data/item/7940': ['grafika',\n",
       "  'rézkarc',\n",
       "  'eredeti',\n",
       "  'német',\n",
       "  '1883'],\n",
       " 'http://lod.sztaki.hu/data/item/8010': ['grafika',\n",
       "  'rézkarc',\n",
       "  'eredeti',\n",
       "  'magyar',\n",
       "  'ábrázolása',\n",
       "  '1921-1929',\n",
       "  'anyaság'],\n",
       " 'http://lod.sztaki.hu/data/item/8020': ['grafika',\n",
       "  'rézkarc',\n",
       "  'eredeti',\n",
       "  'magyar',\n",
       "  'ábrázolása',\n",
       "  '1921-1929',\n",
       "  'munka',\n",
       "  'mezőgazdaság'],\n",
       " 'http://lod.sztaki.hu/data/item/8024': ['grafika',\n",
       "  'rézkarc',\n",
       "  'eredeti',\n",
       "  'magyar',\n",
       "  '1921-1929',\n",
       "  'bibliai jelenetek',\n",
       "  'Újszövetség'],\n",
       " 'http://lod.sztaki.hu/data/item/8042': ['grafika',\n",
       "  'rézkarc',\n",
       "  'eredeti',\n",
       "  'magyar',\n",
       "  'ábrázolása',\n",
       "  '1921-1929',\n",
       "  'kikötő'],\n",
       " 'http://lod.sztaki.hu/data/item/8050': ['grafika',\n",
       "  'eredeti',\n",
       "  'magyar',\n",
       "  '1921-1929',\n",
       "  'magasmaratás'],\n",
       " 'http://lod.sztaki.hu/data/item/8123': ['grafika',\n",
       "  'rézkarc',\n",
       "  'eredeti',\n",
       "  'magyar',\n",
       "  'látkép',\n",
       "  '1931-1949'],\n",
       " 'http://lod.sztaki.hu/data/item/8147': ['grafika',\n",
       "  'eredeti',\n",
       "  'magyar',\n",
       "  'fametszet',\n",
       "  'iniciálé',\n",
       "  '1931-1949'],\n",
       " 'http://lod.sztaki.hu/data/item/8242': ['grafika',\n",
       "  'eredeti',\n",
       "  'magyar',\n",
       "  'fametszet',\n",
       "  '1931-1949',\n",
       "  'anyaság',\n",
       "  'gyermekábrázolás',\n",
       "  'nőábrázolás'],\n",
       " 'http://lod.sztaki.hu/data/item/8247': ['grafika',\n",
       "  'eredeti',\n",
       "  'magyar',\n",
       "  'fametszet',\n",
       "  'emberábrázolás',\n",
       "  '1931-1949',\n",
       "  'Böcklin, Arnold (1827-1901)'],\n",
       " 'http://lod.sztaki.hu/data/item/8254': ['grafika',\n",
       "  'eredeti',\n",
       "  'magyar',\n",
       "  '1931-1949',\n",
       "  'nőábrázolás',\n",
       "  'hidegtű'],\n",
       " 'http://lod.sztaki.hu/data/item/8257': ['grafika',\n",
       "  'eredeti',\n",
       "  'magyar',\n",
       "  'akt',\n",
       "  '1931-1949',\n",
       "  'nőábrázolás',\n",
       "  'hidegtű'],\n",
       " 'http://lod.sztaki.hu/data/item/8370': ['grafika',\n",
       "  'eredeti',\n",
       "  'magyar',\n",
       "  '1930',\n",
       "  'akvarell'],\n",
       " 'http://lod.sztaki.hu/data/item/8405': ['grafika',\n",
       "  'rézkarc',\n",
       "  'eredeti',\n",
       "  'magyar',\n",
       "  '1921-1929'],\n",
       " 'http://lod.sztaki.hu/data/item/8407': ['grafika',\n",
       "  'rézkarc',\n",
       "  'eredeti',\n",
       "  'magyar',\n",
       "  'arckép',\n",
       "  'emberábrázolás',\n",
       "  '1921-1929',\n",
       "  'Imre József (1851-1933)'],\n",
       " 'http://lod.sztaki.hu/data/item/8416': ['grafika',\n",
       "  'rézkarc',\n",
       "  'eredeti',\n",
       "  'magyar',\n",
       "  'arckép',\n",
       "  '1921-1929'],\n",
       " 'http://lod.sztaki.hu/data/item/8437': ['grafika',\n",
       "  'rézkarc',\n",
       "  'eredeti',\n",
       "  'magyar',\n",
       "  'tájkép',\n",
       "  '1921-1929'],\n",
       " 'http://lod.sztaki.hu/data/item/8531': ['grafika',\n",
       "  'eredeti',\n",
       "  'magyar',\n",
       "  '1922',\n",
       "  'akvarell'],\n",
       " 'http://lod.sztaki.hu/data/item/8569': ['grafika',\n",
       "  'eredeti',\n",
       "  'magyar',\n",
       "  'szén',\n",
       "  'kréta',\n",
       "  '1886-1891'],\n",
       " 'http://lod.sztaki.hu/data/item/8577': ['grafika',\n",
       "  'eredeti',\n",
       "  'magyar',\n",
       "  '1886',\n",
       "  'szén',\n",
       "  'kréta'],\n",
       " 'http://lod.sztaki.hu/data/item/8627': ['grafika',\n",
       "  'eredeti',\n",
       "  'magyar',\n",
       "  'akt',\n",
       "  'drapériatanulmány'],\n",
       " 'http://lod.sztaki.hu/data/item/8631': ['grafika',\n",
       "  'eredeti',\n",
       "  'magyar',\n",
       "  'akt',\n",
       "  '19. század vége',\n",
       "  'ceruza',\n",
       "  'kréta'],\n",
       " 'http://lod.sztaki.hu/data/item/8715': ['grafika',\n",
       "  'eredeti',\n",
       "  'magyar',\n",
       "  'akt',\n",
       "  '19. század vége',\n",
       "  'ceruza'],\n",
       " 'http://lod.sztaki.hu/data/item/8769': ['grafika',\n",
       "  'eredeti',\n",
       "  'magyar',\n",
       "  'arckép',\n",
       "  '20. század eleje',\n",
       "  'szénrajz',\n",
       "  'nőábrázolás'],\n",
       " 'http://lod.sztaki.hu/data/item/8789': ['grafika',\n",
       "  'eredeti',\n",
       "  'magyar',\n",
       "  'arckép',\n",
       "  'szénrajz',\n",
       "  '19. század vége-20. század eleje'],\n",
       " 'http://lod.sztaki.hu/data/item/8945': ['grafika',\n",
       "  'eredeti',\n",
       "  'magyar',\n",
       "  'ceruza'],\n",
       " 'http://lod.sztaki.hu/data/item/8955': ['grafika',\n",
       "  'eredeti',\n",
       "  'magyar',\n",
       "  'ceruza',\n",
       "  'kréta'],\n",
       " 'http://lod.sztaki.hu/data/item/8972': ['grafika',\n",
       "  'eredeti',\n",
       "  'magyar',\n",
       "  'növényábrázolás',\n",
       "  'ceruza'],\n",
       " 'http://lod.sztaki.hu/data/item/9035': ['grafika',\n",
       "  'eredeti',\n",
       "  'magyar',\n",
       "  'tájkép',\n",
       "  'ceruza',\n",
       "  '1842'],\n",
       " 'http://lod.sztaki.hu/data/item/9061': ['grafika',\n",
       "  'eredeti',\n",
       "  'magyar',\n",
       "  'tájkép',\n",
       "  'ceruza',\n",
       "  '1850-es évek'],\n",
       " 'http://lod.sztaki.hu/data/item/9072': ['grafika',\n",
       "  'eredeti',\n",
       "  'magyar',\n",
       "  'tájkép',\n",
       "  'ceruza',\n",
       "  '1850-es évek'],\n",
       " 'http://lod.sztaki.hu/data/item/9148': ['grafika',\n",
       "  'eredeti',\n",
       "  'magyar',\n",
       "  'linóleummetszet',\n",
       "  'csendélet'],\n",
       " 'http://lod.sztaki.hu/data/item/9161': ['grafika',\n",
       "  'eredeti',\n",
       "  'magyar',\n",
       "  'iniciálé',\n",
       "  'címlap',\n",
       "  'montázs',\n",
       "  'könyvtervezés',\n",
       "  'tervezőgrafika'],\n",
       " 'http://lod.sztaki.hu/data/item/9175': ['grafika',\n",
       "  'eredeti',\n",
       "  'magyar',\n",
       "  'litográfia',\n",
       "  'életkép',\n",
       "  'emberábrázolás',\n",
       "  'illusztráció',\n",
       "  'Zola, Émile (1840-1902)',\n",
       "  'nőábrázolás'],\n",
       " 'http://lod.sztaki.hu/data/item/9189': ['grafika',\n",
       "  'eredeti',\n",
       "  'magyar',\n",
       "  'arckép',\n",
       "  'emberábrázolás',\n",
       "  'szénrajz'],\n",
       " 'http://lod.sztaki.hu/data/item/9191': ['grafika',\n",
       "  'eredeti',\n",
       "  'magyar',\n",
       "  'arckép',\n",
       "  'szénrajz',\n",
       "  'nőábrázolás'],\n",
       " 'http://lod.sztaki.hu/data/item/9238': ['grafika',\n",
       "  'eredeti',\n",
       "  'magyar',\n",
       "  'linóleummetszet',\n",
       "  'emberábrázolás',\n",
       "  'illusztráció',\n",
       "  'mitológiai ábrázolás',\n",
       "  'nőábrázolás'],\n",
       " 'http://lod.sztaki.hu/data/item/9241': ['grafika',\n",
       "  'eredeti',\n",
       "  'magyar',\n",
       "  'arckép',\n",
       "  'emberábrázolás',\n",
       "  'rézmetszet'],\n",
       " 'http://lod.sztaki.hu/data/item/9257': ['grafika',\n",
       "  'eredeti',\n",
       "  'magyar',\n",
       "  'arckép',\n",
       "  'szén',\n",
       "  'nőábrázolás']}"
      ]
     },
     "execution_count": 42,
     "metadata": {},
     "output_type": "execute_result"
    }
   ],
   "source": [
    "artworkssub"
   ]
  },
  {
   "cell_type": "code",
   "execution_count": null,
   "metadata": {
    "colab": {
     "base_uri": "https://localhost:8080/"
    },
    "id": "hVATOdgtwRHY",
    "outputId": "ce2b988c-e70b-47bc-e24c-bc61c26d2fc0"
   },
   "outputs": [
    {
     "data": {
      "text/plain": [
       "100"
      ]
     },
     "execution_count": 44,
     "metadata": {},
     "output_type": "execute_result"
    }
   ],
   "source": [
    "len(artworkssub)"
   ]
  },
  {
   "cell_type": "code",
   "execution_count": null,
   "metadata": {
    "id": "lXH_x6VCwhXI"
   },
   "outputs": [],
   "source": [
    "with open(\"ndhungarycol.tsv\", \"wt\", encoding=\"utf-8-sig\") as out_file:\n",
    "  twriter = csv.writer(out_file, delimiter=\"\\t\")\n",
    "  twriter.writerow([\"artwork\", \"subjects\"])\n",
    "  for el in artworkssub:\n",
    "    twriter.writerow([el, \" @ \".join(artworkssub[el])])"
   ]
  },
  {
   "cell_type": "code",
   "execution_count": null,
   "metadata": {
    "id": "xjPn_6qWzOmR"
   },
   "outputs": [],
   "source": []
  },
  {
   "cell_type": "markdown",
   "metadata": {
    "id": "oeT_cjhBZXKv"
   },
   "source": [
    "## Zeri"
   ]
  },
  {
   "cell_type": "code",
   "execution_count": null,
   "metadata": {
    "id": "mj19KK3fLqqx"
   },
   "outputs": [],
   "source": [
    "# zeri\n",
    "variables = [\"art\", \"subj_descr\"]\n",
    "zeri_query = \"\"\"\n",
    "PREFIX crm: <http://www.cidoc-crm.org/cidoc-crm/>\n",
    "PREFIX rdfs: <http://www.w3.org/2000/01/rdf-schema#>\n",
    "PREFIX fabio: <http://purl.org/spar/fabio/>\n",
    "\n",
    "\n",
    "SELECT distinct ?art (GROUP_CONCAT(distinct ?subj_label; separator = \" @ \") as ?subj_descr)\n",
    "WHERE {\n",
    " \n",
    "  ?art a fabio:ArtisticWork. \n",
    "    ?art fabio:hasSubjectTerm ?subj; rdfs:label ?art_label.\n",
    "  ?subj rdfs:label ?subj_label.\n",
    "}\n",
    " GROUP BY ?art\n",
    " ORDER BY RAND()\n",
    " LIMIT 100\n",
    "\n",
    "\"\"\"\n",
    "\n",
    "\n",
    "recall = sample_selection(\"column_completeness_zer.csv\", zer_query, zeri_endpoint, variables)"
   ]
  },
  {
   "cell_type": "markdown",
   "metadata": {
    "id": "-0NWcLLdZal4"
   },
   "source": [
    "## Nomisma"
   ]
  },
  {
   "cell_type": "code",
   "execution_count": null,
   "metadata": {
    "id": "3mU-jdaSLOYZ"
   },
   "outputs": [],
   "source": [
    "# nomisma\n",
    "variables = [\"art\", \"subj_descr\"]\n",
    "nomisma_query = \"\"\"\n",
    "PREFIX crm: <http://www.cidoc-crm.org/cidoc-crm/>\n",
    "PREFIX dcmitype: <http://purl.org/dc/dcmitype/>\n",
    "PREFIX dcterms: <http://purl.org/dc/terms/>\n",
    "PREFIX foaf: <http://xmlns.com/foaf/0.1/>\n",
    "PREFIX geo: <http://www.w3.org/2003/01/geo/wgs84_pos#>\n",
    "PREFIX nm: <http://nomisma.org/id/>\n",
    "PREFIX nmo: <http://nomisma.org/ontology#>\n",
    "PREFIX org: <http://www.w3.org/ns/org#>\n",
    "PREFIX rdf: <http://www.w3.org/1999/02/22-rdf-syntax-ns#>\n",
    "PREFIX rdfs: <http://www.w3.org/2000/01/rdf-schema#>\n",
    "PREFIX skos: <http://www.w3.org/2004/02/skos/core#>\n",
    "PREFIX xsd: <http://www.w3.org/2001/XMLSchema#>\n",
    "\n",
    "\n",
    "SELECT DISTINCT ?art (GROUP_CONCAT(distinct ?subj_label; separator = \" @ \") as ?subj_descr) WHERE {\n",
    "  \n",
    " {?coin nmo:hasObverse ?art} UNION {?coin nmo:hasReverse ?art}\n",
    "  ?art nmo:hasPortrait ?subj.\n",
    "  ?subj skos:prefLabel ?subj_label.\n",
    "\n",
    "  FILTER(lang(?subj_label)='en')\n",
    "  \n",
    "} GROUP BY ?art\n",
    "ORDER BY RAND()\n",
    "  LIMIT 100\n",
    "\n",
    "\n",
    "\"\"\"\n",
    "\n",
    "\n",
    "nomisma_recall = sample_selection(\"column_completeness_nomisma.csv\", nomisma_query, nomisma_endpoint, variables)"
   ]
  },
  {
   "cell_type": "markdown",
   "metadata": {
    "id": "4BQQcTcjSwsg"
   },
   "source": [
    "## Wikidata"
   ]
  },
  {
   "cell_type": "code",
   "execution_count": 5,
   "metadata": {
    "colab": {
     "base_uri": "https://localhost:8080/"
    },
    "id": "4_dKbC1kA5q9",
    "outputId": "bf3b27e5-f341-41ca-f3d0-239adf7ca810"
   },
   "outputs": [
    {
     "name": "stdout",
     "output_type": "stream",
     "text": [
      "['<http://www.wikidata.org/prop/qualifier/P18>', '<http://www.wikidata.org/prop/qualifier/P21>', '<http://www.wikidata.org/prop/qualifier/P127>', '<http://www.wikidata.org/prop/qualifier/P137>', '<http://www.wikidata.org/prop/qualifier/P144>', '<http://www.wikidata.org/prop/qualifier/P149>', '<http://www.wikidata.org/prop/qualifier/P155>', '<http://www.wikidata.org/prop/qualifier/P156>', '<http://www.wikidata.org/prop/qualifier/P175>', '<http://www.wikidata.org/prop/qualifier/P176>', '<http://www.wikidata.org/prop/qualifier/P180>', '<http://www.wikidata.org/prop/qualifier/P186>', '<http://www.wikidata.org/prop/qualifier/P276>', '<http://www.wikidata.org/prop/qualifier/P304>', '<http://www.wikidata.org/prop/qualifier/P407>', '<http://www.wikidata.org/prop/qualifier/P459>', '<http://www.wikidata.org/prop/qualifier/P462>', '<http://www.wikidata.org/prop/qualifier/P518>', '<http://www.wikidata.org/prop/qualifier/P560>', '<http://www.wikidata.org/prop/qualifier/P585>', '<http://www.wikidata.org/prop/qualifier/P642>', '<http://www.wikidata.org/prop/qualifier/P710>', '<http://www.wikidata.org/prop/qualifier/P1011>', '<http://www.wikidata.org/prop/qualifier/P1012>', '<http://www.wikidata.org/prop/qualifier/P1107>', '<http://www.wikidata.org/prop/qualifier/P1114>', '<http://www.wikidata.org/prop/qualifier/P1120>', '<http://www.wikidata.org/prop/qualifier/P1132>', '<http://www.wikidata.org/prop/qualifier/P1269>', '<http://www.wikidata.org/prop/qualifier/P1310>', '<http://www.wikidata.org/prop/qualifier/P1340>', '<http://www.wikidata.org/prop/qualifier/P1346>', '<http://www.wikidata.org/prop/qualifier/P1354>', '<http://www.wikidata.org/prop/qualifier/P1419>', '<http://www.wikidata.org/prop/qualifier/P1480>', '<http://www.wikidata.org/prop/qualifier/P1535>', '<http://www.wikidata.org/prop/qualifier/P1545>', '<http://www.wikidata.org/prop/qualifier/P1552>', '<http://www.wikidata.org/prop/qualifier/P1591>', '<http://www.wikidata.org/prop/qualifier/P1594>', '<http://www.wikidata.org/prop/qualifier/P1620>', '<http://www.wikidata.org/prop/qualifier/P1684>', '<http://www.wikidata.org/prop/qualifier/P1810>', '<http://www.wikidata.org/prop/qualifier/P1884>', '<http://www.wikidata.org/prop/qualifier/P1932>', '<http://www.wikidata.org/prop/qualifier/P2210>', '<http://www.wikidata.org/prop/qualifier/P2241>', '<http://www.wikidata.org/prop/qualifier/P2283>', '<http://www.wikidata.org/prop/qualifier/P2634>', '<http://www.wikidata.org/prop/qualifier/P2677>', '<http://www.wikidata.org/prop/qualifier/P2868>', '<http://www.wikidata.org/prop/qualifier/P2913>', '<http://www.wikidata.org/prop/qualifier/P3629>', '<http://www.wikidata.org/prop/qualifier/P3680>', '<http://www.wikidata.org/prop/qualifier/P3828>', '<http://www.wikidata.org/prop/qualifier/P3831>', '<http://www.wikidata.org/prop/qualifier/P4878>', '<http://www.wikidata.org/prop/qualifier/P4895>', '<http://www.wikidata.org/prop/qualifier/P5102>', '<http://www.wikidata.org/prop/qualifier/P5422>', '<http://www.wikidata.org/prop/qualifier/P5961>', '<http://www.wikidata.org/prop/qualifier/P6022>', '<http://www.wikidata.org/prop/qualifier/P6568>', '<http://www.wikidata.org/prop/qualifier/P7380>', '<http://www.wikidata.org/prop/qualifier/P7452>', '<http://www.wikidata.org/prop/qualifier/P8031>', '<http://www.wikidata.org/prop/qualifier/P8032>', '<http://www.wikidata.org/prop/qualifier/P8503>', '<http://www.wikidata.org/prop/qualifier/P8822>', '<http://www.wikidata.org/prop/qualifier/P8839>']\n"
     ]
    }
   ],
   "source": [
    "# select all the qualifiers of wdt:P180\n",
    "wd_constraint = []\n",
    "wd_query_constr = \"\"\"\n",
    "\n",
    "SELECT DISTINCT ?qual {\n",
    "  wd:P180 p:P2302 [ ps:P2302 wd:Q21510851 ; pq:P2306 ?constr] .   \n",
    "  ?constr wikibase:qualifier ?qual.                       \n",
    "  SERVICE wikibase:label { bd:serviceParam wikibase:language \"[AUTO_LANGUAGE],en\" }   \n",
    "} ORDER BY ASC(xsd:integer(strafter(str(?prop), concat(str(wd:), \"P\"))))\n",
    "\n",
    "\"\"\"\n",
    "\n",
    "res = sparl_query_setting(wd_query_constr, wd_endpoint)\n",
    "\n",
    "# manipulate the result\n",
    "for result in res[\"results\"][\"bindings\"]:\n",
    "  constraint = \"<\"+result[\"qual\"][\"value\"]+\">\"\n",
    "  wd_constraint.append(constraint)\n",
    "\n",
    "print(wd_constraint)"
   ]
  },
  {
   "cell_type": "code",
   "execution_count": 12,
   "metadata": {
    "colab": {
     "base_uri": "https://localhost:8080/",
     "height": 780
    },
    "id": "VHQpe3pEKYRl",
    "outputId": "c2c86829-f94f-432e-a229-dad038d94fee"
   },
   "outputs": [
    {
     "ename": "EndPointInternalError",
     "evalue": "ignored",
     "output_type": "error",
     "traceback": [
      "\u001b[0;31m---------------------------------------------------------------------------\u001b[0m",
      "\u001b[0;31mHTTPError\u001b[0m                                 Traceback (most recent call last)",
      "\u001b[0;32m/usr/local/lib/python3.7/dist-packages/SPARQLWrapper/Wrapper.py\u001b[0m in \u001b[0;36m_query\u001b[0;34m(self)\u001b[0m\n\u001b[1;32m    925\u001b[0m             \u001b[0;32melse\u001b[0m\u001b[0;34m:\u001b[0m\u001b[0;34m\u001b[0m\u001b[0;34m\u001b[0m\u001b[0m\n\u001b[0;32m--> 926\u001b[0;31m                 \u001b[0mresponse\u001b[0m \u001b[0;34m=\u001b[0m \u001b[0murlopener\u001b[0m\u001b[0;34m(\u001b[0m\u001b[0mrequest\u001b[0m\u001b[0;34m)\u001b[0m\u001b[0;34m\u001b[0m\u001b[0;34m\u001b[0m\u001b[0m\n\u001b[0m\u001b[1;32m    927\u001b[0m             \u001b[0;32mreturn\u001b[0m \u001b[0mresponse\u001b[0m\u001b[0;34m,\u001b[0m \u001b[0mself\u001b[0m\u001b[0;34m.\u001b[0m\u001b[0mreturnFormat\u001b[0m\u001b[0;34m\u001b[0m\u001b[0;34m\u001b[0m\u001b[0m\n",
      "\u001b[0;32m/usr/lib/python3.7/urllib/request.py\u001b[0m in \u001b[0;36murlopen\u001b[0;34m(url, data, timeout, cafile, capath, cadefault, context)\u001b[0m\n\u001b[1;32m    221\u001b[0m         \u001b[0mopener\u001b[0m \u001b[0;34m=\u001b[0m \u001b[0m_opener\u001b[0m\u001b[0;34m\u001b[0m\u001b[0;34m\u001b[0m\u001b[0m\n\u001b[0;32m--> 222\u001b[0;31m     \u001b[0;32mreturn\u001b[0m \u001b[0mopener\u001b[0m\u001b[0;34m.\u001b[0m\u001b[0mopen\u001b[0m\u001b[0;34m(\u001b[0m\u001b[0murl\u001b[0m\u001b[0;34m,\u001b[0m \u001b[0mdata\u001b[0m\u001b[0;34m,\u001b[0m \u001b[0mtimeout\u001b[0m\u001b[0;34m)\u001b[0m\u001b[0;34m\u001b[0m\u001b[0;34m\u001b[0m\u001b[0m\n\u001b[0m\u001b[1;32m    223\u001b[0m \u001b[0;34m\u001b[0m\u001b[0m\n",
      "\u001b[0;32m/usr/lib/python3.7/urllib/request.py\u001b[0m in \u001b[0;36mopen\u001b[0;34m(self, fullurl, data, timeout)\u001b[0m\n\u001b[1;32m    530\u001b[0m             \u001b[0mmeth\u001b[0m \u001b[0;34m=\u001b[0m \u001b[0mgetattr\u001b[0m\u001b[0;34m(\u001b[0m\u001b[0mprocessor\u001b[0m\u001b[0;34m,\u001b[0m \u001b[0mmeth_name\u001b[0m\u001b[0;34m)\u001b[0m\u001b[0;34m\u001b[0m\u001b[0;34m\u001b[0m\u001b[0m\n\u001b[0;32m--> 531\u001b[0;31m             \u001b[0mresponse\u001b[0m \u001b[0;34m=\u001b[0m \u001b[0mmeth\u001b[0m\u001b[0;34m(\u001b[0m\u001b[0mreq\u001b[0m\u001b[0;34m,\u001b[0m \u001b[0mresponse\u001b[0m\u001b[0;34m)\u001b[0m\u001b[0;34m\u001b[0m\u001b[0;34m\u001b[0m\u001b[0m\n\u001b[0m\u001b[1;32m    532\u001b[0m \u001b[0;34m\u001b[0m\u001b[0m\n",
      "\u001b[0;32m/usr/lib/python3.7/urllib/request.py\u001b[0m in \u001b[0;36mhttp_response\u001b[0;34m(self, request, response)\u001b[0m\n\u001b[1;32m    640\u001b[0m             response = self.parent.error(\n\u001b[0;32m--> 641\u001b[0;31m                 'http', request, response, code, msg, hdrs)\n\u001b[0m\u001b[1;32m    642\u001b[0m \u001b[0;34m\u001b[0m\u001b[0m\n",
      "\u001b[0;32m/usr/lib/python3.7/urllib/request.py\u001b[0m in \u001b[0;36merror\u001b[0;34m(self, proto, *args)\u001b[0m\n\u001b[1;32m    568\u001b[0m             \u001b[0margs\u001b[0m \u001b[0;34m=\u001b[0m \u001b[0;34m(\u001b[0m\u001b[0mdict\u001b[0m\u001b[0;34m,\u001b[0m \u001b[0;34m'default'\u001b[0m\u001b[0;34m,\u001b[0m \u001b[0;34m'http_error_default'\u001b[0m\u001b[0;34m)\u001b[0m \u001b[0;34m+\u001b[0m \u001b[0morig_args\u001b[0m\u001b[0;34m\u001b[0m\u001b[0;34m\u001b[0m\u001b[0m\n\u001b[0;32m--> 569\u001b[0;31m             \u001b[0;32mreturn\u001b[0m \u001b[0mself\u001b[0m\u001b[0;34m.\u001b[0m\u001b[0m_call_chain\u001b[0m\u001b[0;34m(\u001b[0m\u001b[0;34m*\u001b[0m\u001b[0margs\u001b[0m\u001b[0;34m)\u001b[0m\u001b[0;34m\u001b[0m\u001b[0;34m\u001b[0m\u001b[0m\n\u001b[0m\u001b[1;32m    570\u001b[0m \u001b[0;34m\u001b[0m\u001b[0m\n",
      "\u001b[0;32m/usr/lib/python3.7/urllib/request.py\u001b[0m in \u001b[0;36m_call_chain\u001b[0;34m(self, chain, kind, meth_name, *args)\u001b[0m\n\u001b[1;32m    502\u001b[0m             \u001b[0mfunc\u001b[0m \u001b[0;34m=\u001b[0m \u001b[0mgetattr\u001b[0m\u001b[0;34m(\u001b[0m\u001b[0mhandler\u001b[0m\u001b[0;34m,\u001b[0m \u001b[0mmeth_name\u001b[0m\u001b[0;34m)\u001b[0m\u001b[0;34m\u001b[0m\u001b[0;34m\u001b[0m\u001b[0m\n\u001b[0;32m--> 503\u001b[0;31m             \u001b[0mresult\u001b[0m \u001b[0;34m=\u001b[0m \u001b[0mfunc\u001b[0m\u001b[0;34m(\u001b[0m\u001b[0;34m*\u001b[0m\u001b[0margs\u001b[0m\u001b[0;34m)\u001b[0m\u001b[0;34m\u001b[0m\u001b[0;34m\u001b[0m\u001b[0m\n\u001b[0m\u001b[1;32m    504\u001b[0m             \u001b[0;32mif\u001b[0m \u001b[0mresult\u001b[0m \u001b[0;32mis\u001b[0m \u001b[0;32mnot\u001b[0m \u001b[0;32mNone\u001b[0m\u001b[0;34m:\u001b[0m\u001b[0;34m\u001b[0m\u001b[0;34m\u001b[0m\u001b[0m\n",
      "\u001b[0;32m/usr/lib/python3.7/urllib/request.py\u001b[0m in \u001b[0;36mhttp_error_default\u001b[0;34m(self, req, fp, code, msg, hdrs)\u001b[0m\n\u001b[1;32m    648\u001b[0m     \u001b[0;32mdef\u001b[0m \u001b[0mhttp_error_default\u001b[0m\u001b[0;34m(\u001b[0m\u001b[0mself\u001b[0m\u001b[0;34m,\u001b[0m \u001b[0mreq\u001b[0m\u001b[0;34m,\u001b[0m \u001b[0mfp\u001b[0m\u001b[0;34m,\u001b[0m \u001b[0mcode\u001b[0m\u001b[0;34m,\u001b[0m \u001b[0mmsg\u001b[0m\u001b[0;34m,\u001b[0m \u001b[0mhdrs\u001b[0m\u001b[0;34m)\u001b[0m\u001b[0;34m:\u001b[0m\u001b[0;34m\u001b[0m\u001b[0;34m\u001b[0m\u001b[0m\n\u001b[0;32m--> 649\u001b[0;31m         \u001b[0;32mraise\u001b[0m \u001b[0mHTTPError\u001b[0m\u001b[0;34m(\u001b[0m\u001b[0mreq\u001b[0m\u001b[0;34m.\u001b[0m\u001b[0mfull_url\u001b[0m\u001b[0;34m,\u001b[0m \u001b[0mcode\u001b[0m\u001b[0;34m,\u001b[0m \u001b[0mmsg\u001b[0m\u001b[0;34m,\u001b[0m \u001b[0mhdrs\u001b[0m\u001b[0;34m,\u001b[0m \u001b[0mfp\u001b[0m\u001b[0;34m)\u001b[0m\u001b[0;34m\u001b[0m\u001b[0;34m\u001b[0m\u001b[0m\n\u001b[0m\u001b[1;32m    650\u001b[0m \u001b[0;34m\u001b[0m\u001b[0m\n",
      "\u001b[0;31mHTTPError\u001b[0m: HTTP Error 500: Internal Server Error",
      "\nDuring handling of the above exception, another exception occurred:\n",
      "\u001b[0;31mEndPointInternalError\u001b[0m                     Traceback (most recent call last)",
      "\u001b[0;32m<ipython-input-12-44b38da8d2e8>\u001b[0m in \u001b[0;36m<module>\u001b[0;34m()\u001b[0m\n\u001b[1;32m     29\u001b[0m   \"\"\"\n\u001b[1;32m     30\u001b[0m \u001b[0;34m\u001b[0m\u001b[0m\n\u001b[0;32m---> 31\u001b[0;31m \u001b[0mrecall\u001b[0m \u001b[0;34m=\u001b[0m \u001b[0msample_selection\u001b[0m\u001b[0;34m(\u001b[0m\u001b[0;34m\"column_completeness_wd.csv\"\u001b[0m\u001b[0;34m,\u001b[0m \u001b[0mwd_query_constr\u001b[0m\u001b[0;34m,\u001b[0m \u001b[0mwd_endpoint\u001b[0m\u001b[0;34m,\u001b[0m \u001b[0mvariables\u001b[0m\u001b[0;34m)\u001b[0m\u001b[0;34m\u001b[0m\u001b[0;34m\u001b[0m\u001b[0m\n\u001b[0m\u001b[1;32m     32\u001b[0m \u001b[0;34m\u001b[0m\u001b[0m\n",
      "\u001b[0;32m<ipython-input-8-9ec577006844>\u001b[0m in \u001b[0;36msample_selection\u001b[0;34m(csv_to_create, query, endpoint, var_list)\u001b[0m\n\u001b[1;32m      5\u001b[0m     \u001b[0;32mif\u001b[0m \u001b[0mos\u001b[0m\u001b[0;34m.\u001b[0m\u001b[0mstat\u001b[0m\u001b[0;34m(\u001b[0m\u001b[0mcsv_to_create\u001b[0m\u001b[0;34m)\u001b[0m\u001b[0;34m.\u001b[0m\u001b[0mst_size\u001b[0m \u001b[0;34m==\u001b[0m \u001b[0;36m0\u001b[0m\u001b[0;34m:\u001b[0m\u001b[0;34m\u001b[0m\u001b[0;34m\u001b[0m\u001b[0m\n\u001b[1;32m      6\u001b[0m         \u001b[0mmy_file\u001b[0m\u001b[0;34m.\u001b[0m\u001b[0mwriterow\u001b[0m\u001b[0;34m(\u001b[0m\u001b[0mvar_list\u001b[0m\u001b[0;34m)\u001b[0m\u001b[0;34m\u001b[0m\u001b[0;34m\u001b[0m\u001b[0m\n\u001b[0;32m----> 7\u001b[0;31m     \u001b[0mres\u001b[0m \u001b[0;34m=\u001b[0m \u001b[0msparl_query_setting\u001b[0m\u001b[0;34m(\u001b[0m\u001b[0mquery\u001b[0m\u001b[0;34m,\u001b[0m \u001b[0mendpoint\u001b[0m\u001b[0;34m)\u001b[0m\u001b[0;34m\u001b[0m\u001b[0;34m\u001b[0m\u001b[0m\n\u001b[0m\u001b[1;32m      8\u001b[0m     \u001b[0;32mfor\u001b[0m \u001b[0mresult\u001b[0m \u001b[0;32min\u001b[0m \u001b[0mres\u001b[0m\u001b[0;34m[\u001b[0m\u001b[0;34m\"results\"\u001b[0m\u001b[0;34m]\u001b[0m\u001b[0;34m[\u001b[0m\u001b[0;34m\"bindings\"\u001b[0m\u001b[0;34m]\u001b[0m\u001b[0;34m:\u001b[0m\u001b[0;34m\u001b[0m\u001b[0;34m\u001b[0m\u001b[0m\n\u001b[1;32m      9\u001b[0m       \u001b[0mresult_list\u001b[0m \u001b[0;34m=\u001b[0m \u001b[0;34m[\u001b[0m\u001b[0;34m]\u001b[0m\u001b[0;34m\u001b[0m\u001b[0;34m\u001b[0m\u001b[0m\n",
      "\u001b[0;32m<ipython-input-2-23da2ac34093>\u001b[0m in \u001b[0;36msparl_query_setting\u001b[0;34m(query, endpoint)\u001b[0m\n\u001b[1;32m      6\u001b[0m   \u001b[0msparql\u001b[0m\u001b[0;34m.\u001b[0m\u001b[0msetReturnFormat\u001b[0m\u001b[0;34m(\u001b[0m\u001b[0mJSON\u001b[0m\u001b[0;34m)\u001b[0m\u001b[0;34m\u001b[0m\u001b[0;34m\u001b[0m\u001b[0m\n\u001b[1;32m      7\u001b[0m   \u001b[0;31m# get the results\u001b[0m\u001b[0;34m\u001b[0m\u001b[0;34m\u001b[0m\u001b[0;34m\u001b[0m\u001b[0m\n\u001b[0;32m----> 8\u001b[0;31m   \u001b[0mresults\u001b[0m \u001b[0;34m=\u001b[0m \u001b[0msparql\u001b[0m\u001b[0;34m.\u001b[0m\u001b[0mquery\u001b[0m\u001b[0;34m(\u001b[0m\u001b[0;34m)\u001b[0m\u001b[0;34m.\u001b[0m\u001b[0mconvert\u001b[0m\u001b[0;34m(\u001b[0m\u001b[0;34m)\u001b[0m\u001b[0;34m\u001b[0m\u001b[0;34m\u001b[0m\u001b[0m\n\u001b[0m\u001b[1;32m      9\u001b[0m   \u001b[0;32mreturn\u001b[0m \u001b[0mresults\u001b[0m\u001b[0;34m\u001b[0m\u001b[0;34m\u001b[0m\u001b[0m\n",
      "\u001b[0;32m/usr/local/lib/python3.7/dist-packages/SPARQLWrapper/Wrapper.py\u001b[0m in \u001b[0;36mquery\u001b[0;34m(self)\u001b[0m\n\u001b[1;32m    958\u001b[0m         \u001b[0;34m:\u001b[0m\u001b[0mrtype\u001b[0m\u001b[0;34m:\u001b[0m \u001b[0;34m:\u001b[0m\u001b[0;32mclass\u001b[0m\u001b[0;34m:\u001b[0m\u001b[0;31m`\u001b[0m\u001b[0mQueryResult\u001b[0m\u001b[0;31m`\u001b[0m \u001b[0minstance\u001b[0m\u001b[0;34m\u001b[0m\u001b[0;34m\u001b[0m\u001b[0m\n\u001b[1;32m    959\u001b[0m         \"\"\"\n\u001b[0;32m--> 960\u001b[0;31m         \u001b[0;32mreturn\u001b[0m \u001b[0mQueryResult\u001b[0m\u001b[0;34m(\u001b[0m\u001b[0mself\u001b[0m\u001b[0;34m.\u001b[0m\u001b[0m_query\u001b[0m\u001b[0;34m(\u001b[0m\u001b[0;34m)\u001b[0m\u001b[0;34m)\u001b[0m\u001b[0;34m\u001b[0m\u001b[0;34m\u001b[0m\u001b[0m\n\u001b[0m\u001b[1;32m    961\u001b[0m \u001b[0;34m\u001b[0m\u001b[0m\n\u001b[1;32m    962\u001b[0m     \u001b[0;32mdef\u001b[0m \u001b[0mqueryAndConvert\u001b[0m\u001b[0;34m(\u001b[0m\u001b[0mself\u001b[0m\u001b[0;34m)\u001b[0m \u001b[0;34m->\u001b[0m \u001b[0;34m\"QueryResult.ConvertResult\"\u001b[0m\u001b[0;34m:\u001b[0m\u001b[0;34m\u001b[0m\u001b[0;34m\u001b[0m\u001b[0m\n",
      "\u001b[0;32m/usr/local/lib/python3.7/dist-packages/SPARQLWrapper/Wrapper.py\u001b[0m in \u001b[0;36m_query\u001b[0;34m(self)\u001b[0m\n\u001b[1;32m    936\u001b[0m                 \u001b[0;32mraise\u001b[0m \u001b[0mURITooLong\u001b[0m\u001b[0;34m(\u001b[0m\u001b[0me\u001b[0m\u001b[0;34m.\u001b[0m\u001b[0mread\u001b[0m\u001b[0;34m(\u001b[0m\u001b[0;34m)\u001b[0m\u001b[0;34m)\u001b[0m\u001b[0;34m\u001b[0m\u001b[0;34m\u001b[0m\u001b[0m\n\u001b[1;32m    937\u001b[0m             \u001b[0;32melif\u001b[0m \u001b[0me\u001b[0m\u001b[0;34m.\u001b[0m\u001b[0mcode\u001b[0m \u001b[0;34m==\u001b[0m \u001b[0;36m500\u001b[0m\u001b[0;34m:\u001b[0m\u001b[0;34m\u001b[0m\u001b[0;34m\u001b[0m\u001b[0m\n\u001b[0;32m--> 938\u001b[0;31m                 \u001b[0;32mraise\u001b[0m \u001b[0mEndPointInternalError\u001b[0m\u001b[0;34m(\u001b[0m\u001b[0me\u001b[0m\u001b[0;34m.\u001b[0m\u001b[0mread\u001b[0m\u001b[0;34m(\u001b[0m\u001b[0;34m)\u001b[0m\u001b[0;34m)\u001b[0m\u001b[0;34m\u001b[0m\u001b[0;34m\u001b[0m\u001b[0m\n\u001b[0m\u001b[1;32m    939\u001b[0m             \u001b[0;32melse\u001b[0m\u001b[0;34m:\u001b[0m\u001b[0;34m\u001b[0m\u001b[0;34m\u001b[0m\u001b[0m\n\u001b[1;32m    940\u001b[0m                 \u001b[0;32mraise\u001b[0m \u001b[0me\u001b[0m\u001b[0;34m\u001b[0m\u001b[0;34m\u001b[0m\u001b[0m\n",
      "\u001b[0;31mEndPointInternalError\u001b[0m: EndPointInternalError: The endpoint returned the HTTP status code 500. \n\nResponse:\nb'SPARQL-QUERY: queryStr=\\n\\nPREFIX wd: <http://www.wikidata.org/entity/>\\nPREFIX pq: <http://www.wikidata.org/prop/qualifier/>\\nPREFIX ps: <http://www.wikidata.org/prop/statement/>\\nPREFIX p: <http://www.wikidata.org/prop/>\\n\\nSELECT DISTINCT ?art (GROUP_CONCAT(distinct ?subj1 ; separator = \" @ \") as ?subject1) ?subj_qualified (GROUP_CONCAT(distinct ?subj2; separator = \" @ \") as ?subject2) (GROUP_CONCAT(distinct ?subj3; separator = \" @ \") as ?subject3)  WHERE {\\n   VALUES ?constr {<http://www.wikidata.org/prop/qualifier/P18> <http://www.wikidata.org/prop/qualifier/P21> <http://www.wikidata.org/prop/qualifier/P127> <http://www.wikidata.org/prop/qualifier/P144> <http://www.wikidata.org/prop/qualifier/P149> <http://www.wikidata.org/prop/qualifier/P155> <http://www.wikidata.org/prop/qualifier/P156> <http://www.wikidata.org/prop/qualifier/P175> <http://www.wikidata.org/prop/qualifier/P176> <http://www.wikidata.org/prop/qualifier/P180> <http://www.wikidata.org/prop/qualifier/P186> <http://www.wikidata.org/prop/qualifier/P276> <http://www.wikidata.org/prop/qualifier/P304> <http://www.wikidata.org/prop/qualifier/P407> <http://www.wikidata.org/prop/qualifier/P459> <http://www.wikidata.org/prop/qualifier/P462> <http://www.wikidata.org/prop/qualifier/P518> <http://www.wikidata.org/prop/qualifier/P560> <http://www.wikidata.org/prop/qualifier/P585> <http://www.wikidata.org/prop/qualifier/P642> <http://www.wikidata.org/prop/qualifier/P710> <http://www.wikidata.org/prop/qualifier/P1011>..."
     ]
    }
   ],
   "source": [
    "# this query can sometimes return timeout error\n",
    "constr_values = \" \".join(wd_constraint)\n",
    "variables = [\"art\", \"subj1\", \"constr\", \"qualifier\", \"subj2\", \"subj3\"]\n",
    "wd_query_constr = \"\"\"\n",
    "\n",
    "PREFIX wd: <http://www.wikidata.org/entity/>\n",
    "PREFIX pq: <http://www.wikidata.org/prop/qualifier/>\n",
    "PREFIX ps: <http://www.wikidata.org/prop/statement/>\n",
    "PREFIX p: <http://www.wikidata.org/prop/>\n",
    "\n",
    "SELECT DISTINCT ?art (GROUP_CONCAT(distinct ?subj1 ; separator = \" @ \") as ?subject1) ?subj_qualified (GROUP_CONCAT(distinct ?subj2; separator = \" @ \") as ?subject2) (GROUP_CONCAT(distinct ?subj3; separator = \" @ \") as ?subject3)  WHERE {\n",
    "   VALUES ?constr {<http://www.wikidata.org/prop/qualifier/P18> <http://www.wikidata.org/prop/qualifier/P21> <http://www.wikidata.org/prop/qualifier/P127> <http://www.wikidata.org/prop/qualifier/P144> <http://www.wikidata.org/prop/qualifier/P149> <http://www.wikidata.org/prop/qualifier/P155> <http://www.wikidata.org/prop/qualifier/P156> <http://www.wikidata.org/prop/qualifier/P175> <http://www.wikidata.org/prop/qualifier/P176> <http://www.wikidata.org/prop/qualifier/P180> <http://www.wikidata.org/prop/qualifier/P186> <http://www.wikidata.org/prop/qualifier/P276> <http://www.wikidata.org/prop/qualifier/P304> <http://www.wikidata.org/prop/qualifier/P407> <http://www.wikidata.org/prop/qualifier/P459> <http://www.wikidata.org/prop/qualifier/P462> <http://www.wikidata.org/prop/qualifier/P518> <http://www.wikidata.org/prop/qualifier/P560> <http://www.wikidata.org/prop/qualifier/P585> <http://www.wikidata.org/prop/qualifier/P642> <http://www.wikidata.org/prop/qualifier/P710> <http://www.wikidata.org/prop/qualifier/P1011> <http://www.wikidata.org/prop/qualifier/P1012> <http://www.wikidata.org/prop/qualifier/P1107> <http://www.wikidata.org/prop/qualifier/P1114> <http://www.wikidata.org/prop/qualifier/P1120> <http://www.wikidata.org/prop/qualifier/P1132> <http://www.wikidata.org/prop/qualifier/P1269> <http://www.wikidata.org/prop/qualifier/P1310> <http://www.wikidata.org/prop/qualifier/P1340> <http://www.wikidata.org/prop/qualifier/P1346> <http://www.wikidata.org/prop/qualifier/P1354> <http://www.wikidata.org/prop/qualifier/P1419> <http://www.wikidata.org/prop/qualifier/P1480> <http://www.wikidata.org/prop/qualifier/P1535> <http://www.wikidata.org/prop/qualifier/P1545> <http://www.wikidata.org/prop/qualifier/P1552> <http://www.wikidata.org/prop/qualifier/P1591> <http://www.wikidata.org/prop/qualifier/P1594> <http://www.wikidata.org/prop/qualifier/P1620> <http://www.wikidata.org/prop/qualifier/P1684> <http://www.wikidata.org/prop/qualifier/P1810> <http://www.wikidata.org/prop/qualifier/P1884> <http://www.wikidata.org/prop/qualifier/P1932> <http://www.wikidata.org/prop/qualifier/P2210> <http://www.wikidata.org/prop/qualifier/P2241> <http://www.wikidata.org/prop/qualifier/P2283> <http://www.wikidata.org/prop/qualifier/P2634> <http://www.wikidata.org/prop/qualifier/P2677> <http://www.wikidata.org/prop/qualifier/P2868> <http://www.wikidata.org/prop/qualifier/P2913> <http://www.wikidata.org/prop/qualifier/P3629> <http://www.wikidata.org/prop/qualifier/P3680> <http://www.wikidata.org/prop/qualifier/P3828> <http://www.wikidata.org/prop/qualifier/P3831> <http://www.wikidata.org/prop/qualifier/P4878> <http://www.wikidata.org/prop/qualifier/P4895> <http://www.wikidata.org/prop/qualifier/P5102> <http://www.wikidata.org/prop/qualifier/P5422> <http://www.wikidata.org/prop/qualifier/P5961> <http://www.wikidata.org/prop/qualifier/P6022> <http://www.wikidata.org/prop/qualifier/P6568> <http://www.wikidata.org/prop/qualifier/P7380> <http://www.wikidata.org/prop/qualifier/P7452> <http://www.wikidata.org/prop/qualifier/P8031> <http://www.wikidata.org/prop/qualifier/P8032> <http://www.wikidata.org/prop/qualifier/P8503> <http://www.wikidata.org/prop/qualifier/P8822> <http://www.wikidata.org/prop/qualifier/P8839>}\n",
    "   \n",
    "   SERVICE wikibase:label { bd:serviceParam wikibase:language \"[AUTO_LANGUAGE],en\". }\n",
    "     {?art wdt:P31 wd:Q3305213} UNION {?art wdt:P31 wd:Q860861}\n",
    "  ?art wdt:P921 ?subj2; wdt:P1257 ?subj3.  \n",
    "  ?art p:P180 ?P180node . \n",
    "  ?P180node ps:P180 ?subj1. \n",
    "  OPTIONAL {\n",
    "   \n",
    "    ?P180node ?constr ?qualifier  \n",
    "    BIND (CONCAT(?subj1, ?constr, ?qualifier) AS ?subj_qualified)\n",
    "  }\n",
    "} GROUP BY ?art ?subj_qualified\n",
    "  # ORDER BY RAND()\n",
    "\n",
    "  LIMIT 100\n",
    "  \n",
    "\n",
    "  \"\"\"\n",
    "\n",
    "recall = sample_selection(\"column_completeness_wd.csv\", wd_query_constr, wd_endpoint, variables)\n",
    "\n"
   ]
  },
  {
   "cell_type": "markdown",
   "metadata": {
    "id": "RthwOE5bWxKm"
   },
   "source": [
    "# Interlinking of artworks via owl:sameAs or similar"
   ]
  },
  {
   "cell_type": "code",
   "execution_count": null,
   "metadata": {
    "id": "kzGqYPl7W4Dk"
   },
   "outputs": [],
   "source": []
  },
  {
   "cell_type": "markdown",
   "metadata": {
    "id": "jWEasdYFW7oj"
   },
   "source": [
    "## DBpedia"
   ]
  },
  {
   "cell_type": "code",
   "execution_count": null,
   "metadata": {
    "colab": {
     "base_uri": "https://localhost:8080/"
    },
    "id": "_9MKlpkaW9TY",
    "outputId": "7cf54037-5c32-4d02-fe34-9630461ba3ad"
   },
   "outputs": [
    {
     "name": "stdout",
     "output_type": "stream",
     "text": [
      "11678\n",
      "11588\n",
      "0.9922932008905635\n"
     ]
    }
   ],
   "source": [
    "# How many artworks\n",
    "\n",
    "queryalldb = '''\n",
    "prefix dbo: <http://dbpedia.org/ontology/>\n",
    "prefix dct: <http://purl.org/dc/terms/>\n",
    "prefix dbp: <http://dbpedia.org/property/>\n",
    "SELECT (COUNT(distinct ?artwork) as ?tot) WHERE {\n",
    "?artwork a dbo:Artwork }'''\n",
    "\n",
    "queryalldbres = sparl_query_setting(queryalldb, dbpedia)\n",
    "\n",
    "for result in queryalldbres[\"results\"][\"bindings\"]:\n",
    "  print(result[\"tot\"][\"value\"])\n",
    "  tot = result[\"tot\"][\"value\"]\n",
    "\n",
    "# How many artworks linked with owl:sameAs?\n",
    "queryowldb = '''\n",
    "prefix owl: <http://www.w3.org/2002/07/owl#>\n",
    "prefix dbo: <http://dbpedia.org/ontology/>\n",
    "prefix dct: <http://purl.org/dc/terms/>\n",
    "prefix dbp: <http://dbpedia.org/property/>\n",
    "SELECT (COUNT(distinct ?artwork) as ?tot) WHERE {\n",
    "?artwork a dbo:Artwork;\n",
    "owl:sameAs ?x }'''\n",
    "\n",
    "queryowldbres = sparl_query_setting(queryowldb, dbpedia)\n",
    "for result in queryowldbres[\"results\"][\"bindings\"]:\n",
    "  print(result[\"tot\"][\"value\"])\n",
    "  owl = result[\"tot\"][\"value\"]\n",
    "\n",
    "print(int(owl)/int(tot))"
   ]
  },
  {
   "cell_type": "code",
   "execution_count": null,
   "metadata": {
    "id": "L5nCpgyAcnkn"
   },
   "outputs": [],
   "source": [
    "dbpediainterlinkingscore = 0.9922932008905635"
   ]
  },
  {
   "cell_type": "code",
   "execution_count": null,
   "metadata": {
    "id": "w58dJQwiczrO"
   },
   "outputs": [],
   "source": []
  },
  {
   "cell_type": "markdown",
   "metadata": {
    "id": "UjoYkkT2qaOi"
   },
   "source": [
    "## Europeana"
   ]
  },
  {
   "cell_type": "code",
   "execution_count": null,
   "metadata": {
    "colab": {
     "base_uri": "https://localhost:8080/"
    },
    "id": "QsuygwiNqcpe",
    "outputId": "0c45040a-651a-486d-8725-6a2a776272fb"
   },
   "outputs": [
    {
     "name": "stdout",
     "output_type": "stream",
     "text": [
      "13861\n",
      "101\n",
      "0.007286631556164779\n"
     ]
    }
   ],
   "source": [
    "# All artworks in europeana\n",
    "queryalleuro = '''\n",
    "PREFIX ore: <http://www.openarchives.org/ore/terms/>\n",
    "PREFIX edm: <http://www.europeana.eu/schemas/edm/>\n",
    "\n",
    "select  (COUNT(distinct ?CHO) as ?tot) where {\n",
    "             ?s a <http://www.w3.org/2004/02/skos/core#Concept> ;\n",
    "<http://www.w3.org/2004/02/skos/core#broader>* <http://vocab.getty.edu/aat/300033618> .\n",
    "?s2 a <http://www.w3.org/2004/02/skos/core#Concept>  ;\n",
    "<http://www.w3.org/2004/02/skos/core#broader>* <http://vocab.getty.edu/aat/300047090> .\n",
    "{?CHO dc:type ?s} UNION {?CHO dc:type ?s2}\n",
    "}'''\n",
    "\n",
    "resalle = sparl_query_setting(queryalleuro, euro)\n",
    "for el in resalle[\"results\"][\"bindings\"]:\n",
    "  print(el[\"tot\"][\"value\"])\n",
    "  alleuro = el[\"tot\"][\"value\"]\n",
    "# All artworks in europeana related to another external artwork\n",
    "queryrelatedeuro = '''PREFIX ore: <http://www.openarchives.org/ore/terms/>\n",
    "PREFIX edm: <http://www.europeana.eu/schemas/edm/>\n",
    "\n",
    "select  (count(distinct ?CHO) as ?tot) where {\n",
    "             ?s a <http://www.w3.org/2004/02/skos/core#Concept> ;\n",
    "<http://www.w3.org/2004/02/skos/core#broader>* <http://vocab.getty.edu/aat/300033618> .\n",
    "?s2 a <http://www.w3.org/2004/02/skos/core#Concept>  ;\n",
    "<http://www.w3.org/2004/02/skos/core#broader>* <http://vocab.getty.edu/aat/300047090> .\n",
    "{?CHO dc:type ?s;\n",
    "dc:relation|edm:relatedTo ?x} UNION {?CHO dc:type ?s2;\n",
    "dc:relation|edm:relatedTo ?x}\n",
    "}'''\n",
    "\n",
    "resrelatede = sparl_query_setting(queryrelatedeuro, euro)\n",
    "for el in resrelatede[\"results\"][\"bindings\"]:\n",
    "  print(el[\"tot\"][\"value\"])\n",
    "  eurorelated = el[\"tot\"][\"value\"]\n",
    "\n",
    "print(int(eurorelated)/int(alleuro))"
   ]
  },
  {
   "cell_type": "code",
   "execution_count": null,
   "metadata": {
    "id": "u1NR8E7WwawR"
   },
   "outputs": [],
   "source": [
    "europeanainterscore = 0.007286631556164779"
   ]
  },
  {
   "cell_type": "markdown",
   "metadata": {
    "id": "bwHNVIMkzKk-"
   },
   "source": [
    "## Yago"
   ]
  },
  {
   "cell_type": "code",
   "execution_count": null,
   "metadata": {
    "colab": {
     "base_uri": "https://localhost:8080/"
    },
    "id": "Pvi4YkZTzMn4",
    "outputId": "64972403-2f51-4faf-eea6-fdf4c459c33c"
   },
   "outputs": [
    {
     "name": "stdout",
     "output_type": "stream",
     "text": [
      "29324\n",
      "29324\n",
      "1.0\n"
     ]
    }
   ],
   "source": [
    "qy4all = '''\n",
    "PREFIX rdf: <http://www.w3.org/1999/02/22-rdf-syntax-ns#>\n",
    "PREFIX rdfs: <http://www.w3.org/2000/01/rdf-schema#>\n",
    "PREFIX schema: <http://schema.org/>\n",
    "\n",
    "SELECT (count(distinct ?artwork) as ?tot)\n",
    "WHERE {\n",
    "  VALUES ?art {schema:Painting schema:Sculpture}\n",
    "  ?artwork rdf:type ?art }'''\n",
    "\n",
    "ry4all = sparl_query_setting(qy4all, yago)\n",
    "\n",
    "for el in ry4all[\"results\"][\"bindings\"]:\n",
    "  print(el[\"tot\"][\"value\"])\n",
    "  totalyago = int(el[\"tot\"][\"value\"])\n",
    "\n",
    "qy4owl = '''\n",
    "PREFIX rdf: <http://www.w3.org/1999/02/22-rdf-syntax-ns#>\n",
    "PREFIX rdfs: <http://www.w3.org/2000/01/rdf-schema#>\n",
    "PREFIX schema: <http://schema.org/>\n",
    "PREFIX owl: <http://www.w3.org/2002/07/owl#>\n",
    "\n",
    "SELECT (count(distinct ?artwork) as ?tot)\n",
    "WHERE {\n",
    "  VALUES ?art {schema:Painting schema:Sculpture}\n",
    "  ?artwork rdf:type ?art;\n",
    "  owl:sameAs ?something }'''\n",
    "\n",
    "ry4owl = sparl_query_setting(qy4owl, yago)\n",
    "for el in ry4owl[\"results\"][\"bindings\"]:\n",
    "  totalowl = int(el[\"tot\"][\"value\"])\n",
    "  print(totalowl)\n",
    "\n",
    "print(totalowl/totalyago)"
   ]
  },
  {
   "cell_type": "code",
   "execution_count": null,
   "metadata": {
    "id": "gA6BswU40pwV"
   },
   "outputs": [],
   "source": [
    "yagointerlinkingscore = 1"
   ]
  },
  {
   "cell_type": "markdown",
   "metadata": {
    "id": "PqMUxfNq6hx5"
   },
   "source": [
    "## ND Hungary\n",
    "\n",
    "Does not have any owl:sameAs / related property"
   ]
  },
  {
   "cell_type": "code",
   "execution_count": null,
   "metadata": {
    "colab": {
     "base_uri": "https://localhost:8080/"
    },
    "id": "IpqVXuZI6vkH",
    "outputId": "8fbc9053-139c-429a-e9d3-3004d43e5e50"
   },
   "outputs": [
    {
     "name": "stdout",
     "output_type": "stream",
     "text": [
      "http://www.w3.org/1999/02/22-rdf-syntax-ns#type\n",
      "http://www.w3.org/2000/01/rdf-schema#label\n",
      "http://purl.org/dc/terms/title\n",
      "http://purl.org/dc/terms/description\n",
      "http://purl.org/dc/terms/date\n",
      "http://purl.org/dc/terms/identifier\n",
      "http://purl.org/dc/terms/format\n",
      "http://purl.org/dc/terms/publisher\n",
      "http://purl.org/dc/terms/creator\n",
      "http://purl.org/dc/terms/type\n"
     ]
    }
   ],
   "source": [
    "listofproperties = '''PREFIX dc: <http://purl.org/dc/terms/>\n",
    "SELECT distinct ?p WHERE { ?URI dc:type ?type;\n",
    "?p ?o\n",
    "FILTER (?type = \"painting\" || ?type  = \"sculpture\")} LIMIT 100'''\n",
    "\n",
    "propertiesofndhungary = sparl_query_setting(listofproperties, nd_hungary)\n",
    "\n",
    "for el in propertiesofndhungary[\"results\"][\"bindings\"]:\n",
    "  print(el[\"p\"][\"value\"])"
   ]
  },
  {
   "cell_type": "code",
   "execution_count": null,
   "metadata": {
    "id": "nDNmB1zXAYdE"
   },
   "outputs": [],
   "source": [
    "ndinterlinkingscore = 0"
   ]
  },
  {
   "cell_type": "code",
   "execution_count": null,
   "metadata": {
    "id": "EHFFNoAOAg0_"
   },
   "outputs": [],
   "source": []
  },
  {
   "cell_type": "markdown",
   "metadata": {
    "id": "VxUmIFC6DM9S"
   },
   "source": [
    "## Arco"
   ]
  },
  {
   "cell_type": "code",
   "execution_count": null,
   "metadata": {
    "colab": {
     "base_uri": "https://localhost:8080/"
    },
    "id": "t_W1Acd6DDvz",
    "outputId": "0f9531b9-ba04-4c08-c997-a034d29de0e8"
   },
   "outputs": [
    {
     "name": "stdout",
     "output_type": "stream",
     "text": [
      "5447\n"
     ]
    }
   ],
   "source": [
    "arco_query = \"\"\"\n",
    "\n",
    "PREFIX rdf: <http://www.w3.org/1999/02/22-rdf-syntax-ns#>\n",
    "PREFIX rdfs: <http://www.w3.org/2000/01/rdf-schema#>\n",
    "PREFIX arco-cd: <https://w3id.org/arco/ontology/context-description/>\n",
    "PREFIX arco: <https://w3id.org/arco/ontology/arco/>\n",
    "\n",
    "SELECT (count (distinct ?s) as ?tot) \n",
    "WHERE {\n",
    "?s a arco:HistoricOrArtisticProperty. \n",
    "?s  owl:sameAs | rdfs:seeAlso ?resource. \n",
    "}\n",
    "\"\"\"\n",
    "\n",
    "\n",
    "\n",
    "res = sparl_query_setting(arco_query, arco_endpoint)\n",
    "\n",
    "# manipulate the result\n",
    "for result in res[\"results\"][\"bindings\"]:\n",
    "    print(result[\"tot\"][\"value\"])"
   ]
  },
  {
   "cell_type": "markdown",
   "metadata": {
    "id": "dypzW73YG3gj"
   },
   "source": [
    "## Zeri"
   ]
  },
  {
   "cell_type": "code",
   "execution_count": null,
   "metadata": {
    "colab": {
     "base_uri": "https://localhost:8080/"
    },
    "id": "iA4KzhkLG4jL",
    "outputId": "bb7ccaf1-b0bf-4181-9d6d-2228d3889c1d"
   },
   "outputs": [
    {
     "name": "stdout",
     "output_type": "stream",
     "text": [
      "11\n"
     ]
    }
   ],
   "source": [
    "zeri_query = \"\"\"\n",
    "\n",
    "PREFIX rdf: <http://www.w3.org/1999/02/22-rdf-syntax-ns#>\n",
    "PREFIX rdfs: <http://www.w3.org/2000/01/rdf-schema#>\n",
    "PREFIX fabio: <http://purl.org/spar/fabio/>\n",
    "PREFIX owl: <http://www.w3.org/2002/07/owl#>\n",
    "\n",
    "SELECT (count (distinct ?artwork) as ?tot) WHERE {\n",
    "  ?artwork a fabio:ArtisticWork; \n",
    "  owl:sameAs | rdfs:seeAlso ?resource. \n",
    "} \n",
    "\n",
    "\n",
    "\"\"\"\n",
    "\n",
    "res = sparl_query_setting(zeri_query, zeri_endpoint)\n",
    "\n",
    "# manipulate the result\n",
    "for result in res[\"results\"][\"bindings\"]:\n",
    "    print(result[\"tot\"][\"value\"])"
   ]
  },
  {
   "cell_type": "markdown",
   "metadata": {
    "id": "6Sg9E-8xHdSJ"
   },
   "source": [
    "## Nomisma"
   ]
  },
  {
   "cell_type": "code",
   "execution_count": null,
   "metadata": {
    "colab": {
     "base_uri": "https://localhost:8080/"
    },
    "id": "NbyuzcrWHeV3",
    "outputId": "08cc0a49-9fce-4ae5-9cac-50aab1ffd9e1"
   },
   "outputs": [
    {
     "name": "stdout",
     "output_type": "stream",
     "text": [
      "0\n"
     ]
    }
   ],
   "source": [
    "nomisma_query = \"\"\"\n",
    "PREFIX crm: <http://www.cidoc-crm.org/cidoc-crm/>\n",
    "PREFIX dcmitype: <http://purl.org/dc/dcmitype/>\n",
    "PREFIX dcterms: <http://purl.org/dc/terms/>\n",
    "PREFIX foaf: <http://xmlns.com/foaf/0.1/>\n",
    "PREFIX geo: <http://www.w3.org/2003/01/geo/wgs84_pos#>\n",
    "PREFIX nm: <http://nomisma.org/id/>\n",
    "PREFIX nmo: <http://nomisma.org/ontology#>\n",
    "PREFIX org: <http://www.w3.org/ns/org#>\n",
    "PREFIX rdf: <http://www.w3.org/1999/02/22-rdf-syntax-ns#>\n",
    "PREFIX rdfs: <http://www.w3.org/2000/01/rdf-schema#>\n",
    "PREFIX skos: <http://www.w3.org/2004/02/skos/core#>\n",
    "PREFIX xsd: <http://www.w3.org/2001/XMLSchema#>\n",
    "PREFIX owl: <http://www.w3.org/2002/07/owl#>\n",
    "\n",
    "\n",
    "SELECT (count(distinct ?art) as ?tot_art) WHERE {\n",
    " \n",
    "  {?coin nmo:hasObverse ?art} UNION {?coin nmo:hasReverse ?art}\n",
    "  ?coin owl:sameAs ?resource. \n",
    "} \n",
    "\n",
    "\n",
    "\"\"\"\n",
    "\n",
    "res = sparl_query_setting(nomisma_query, nomisma_endpoint)\n",
    "\n",
    "# manipulate the result\n",
    "for result in res[\"results\"][\"bindings\"]:\n",
    "  print(result[\"tot_art\"][\"value\"])\n"
   ]
  },
  {
   "cell_type": "markdown",
   "metadata": {
    "id": "-pcXr7UEH_kX"
   },
   "source": [
    "## Wikidata\n",
    "Since Wikidata don't use owl:sameAs to connect resources, but specific relations for every institution, we select xxx properties to evaluate interlinking. "
   ]
  },
  {
   "cell_type": "code",
   "execution_count": null,
   "metadata": {
    "colab": {
     "base_uri": "https://localhost:8080/"
    },
    "id": "3-TB2Y4itNyk",
    "outputId": "00e40b87-f033-41d0-c49f-56806614f93b"
   },
   "outputs": [
    {
     "name": "stdout",
     "output_type": "stream",
     "text": [
      "414678\n"
     ]
    }
   ],
   "source": [
    "\n",
    "wd_query = \"\"\"\n",
    "SELECT (count(distinct ?something) as ?tot) WHERE {\n",
    "VALUES ?class { wd:Q3305213 wd:Q860861 }\n",
    "?something wdt:P31 ?class ;\n",
    "           wikibase:identifiers ?ident .\n",
    "FILTER (?ident > 0)\n",
    "}\n",
    "\"\"\"\n",
    "\n",
    "res = sparl_query_setting(wd_query, wd_endpoint)\n",
    "\n",
    "# manipulate the result\n",
    "for result in res[\"results\"][\"bindings\"]:\n",
    "  print(result[\"tot\"][\"value\"])"
   ]
  },
  {
   "cell_type": "markdown",
   "metadata": {
    "id": "Dx8KaPojJu6t"
   },
   "source": [
    "Sari"
   ]
  },
  {
   "cell_type": "code",
   "execution_count": null,
   "metadata": {
    "colab": {
     "base_uri": "https://localhost:8080/"
    },
    "id": "COdOpb6uJzBZ",
    "outputId": "f26fe9c7-2f1c-44de-c61b-d6e1dd359ebe"
   },
   "outputs": [
    {
     "name": "stdout",
     "output_type": "stream",
     "text": [
      "338\n"
     ]
    }
   ],
   "source": [
    "\n",
    "sari_query = \"\"\"\n",
    "PREFIX crm: <http://www.cidoc-crm.org/cidoc-crm/>\n",
    "PREFIX rdf: <http://www.w3.org/1999/02/22-rdf-syntax-ns#>\n",
    "PREFIX rdfs: <http://www.w3.org/2000/01/rdf-schema#>\n",
    "PREFIX getty: <http://vocab.getty.edu/ontology#>\n",
    "PREFIX gndo: <https://d-nb.info/standards/elementset/gnd#>\n",
    "\n",
    "SELECT (count(distinct ?a) as ?tot) WHERE {\n",
    "VALUES ?type{\"\"\"+artwork_types+\"\"\"}\n",
    "  ?a a gndo:Work; \n",
    "     gndo:formOfWorkAndExpression ?type; \n",
    "  owl:sameAs ?resource. \n",
    "\n",
    "\n",
    "} \n",
    "\n",
    "\"\"\"\n",
    "\n",
    "res = sparl_query_setting(sari_query, sari_endpoint)\n",
    "\n",
    "# manipulate the result\n",
    "\n",
    "for result in res[\"results\"][\"bindings\"]:\n",
    " print(result[\"tot\"][\"value\"])"
   ]
  },
  {
   "cell_type": "markdown",
   "metadata": {
    "id": "Tftr7mvPCbpy"
   },
   "source": [
    "# Reference to external taxonomy (Iconclass/Getty)"
   ]
  },
  {
   "cell_type": "code",
   "execution_count": null,
   "metadata": {
    "id": "5Z7nHHbiChM0"
   },
   "outputs": [],
   "source": []
  },
  {
   "cell_type": "markdown",
   "metadata": {
    "id": "IJqxKo3YCxfH"
   },
   "source": [
    "## DBpedia, Yago, ND Hungary, Museum Finland"
   ]
  },
  {
   "cell_type": "code",
   "execution_count": null,
   "metadata": {
    "id": "-DHSHzsDC2oe"
   },
   "outputs": [],
   "source": [
    "# not linked to iconclass or aat\n",
    "dbpediataxonomyscore = 0\n",
    "yagotaxonomyscore = 0\n",
    "ndhungarytaxonomyscore = 0\n",
    "museumfinlandtaxonomyscore = 0"
   ]
  },
  {
   "cell_type": "code",
   "execution_count": null,
   "metadata": {
    "id": "-GNnURLvDAF5"
   },
   "outputs": [],
   "source": []
  },
  {
   "cell_type": "markdown",
   "metadata": {
    "id": "m-8KqZCnDCl8"
   },
   "source": [
    "## Europeana"
   ]
  },
  {
   "cell_type": "code",
   "execution_count": null,
   "metadata": {
    "colab": {
     "base_uri": "https://localhost:8080/"
    },
    "id": "r30x7vA9DG6C",
    "outputId": "444861e2-078b-4f29-ba1a-bb8da3bc4bc2"
   },
   "outputs": [
    {
     "name": "stdout",
     "output_type": "stream",
     "text": [
      "905\n",
      "0.06529110453791213\n"
     ]
    }
   ],
   "source": [
    "querytaxonomy = '''PREFIX ore: <http://www.openarchives.org/ore/terms/>\n",
    "PREFIX edm: <http://www.europeana.eu/schemas/edm/>\n",
    "\n",
    "select  (count(distinct ?CHO) as ?tot) where {\n",
    "             ?s a <http://www.w3.org/2004/02/skos/core#Concept> ;\n",
    "<http://www.w3.org/2004/02/skos/core#broader>* <http://vocab.getty.edu/aat/300033618> .\n",
    "?s2 a <http://www.w3.org/2004/02/skos/core#Concept>  ;\n",
    "<http://www.w3.org/2004/02/skos/core#broader>* <http://vocab.getty.edu/aat/300047090> .\n",
    "\n",
    "{?CHO dc:type ?s;\n",
    "dc:subject ?sub .\n",
    "FILTER (STRSTARTS(str(?sub), \"http://iconclass\"))}\n",
    "\n",
    "UNION \n",
    "\n",
    "{?CHO dc:type ?s2;\n",
    "dc:subject ?sub .\n",
    "FILTER (STRSTARTS(str(?sub), \"http://iconclass\"))}\n",
    "}'''\n",
    "\n",
    "querytaxonomyres = sparl_query_setting(querytaxonomy, euro)\n",
    "\n",
    "for el in querytaxonomyres[\"results\"][\"bindings\"]:\n",
    "  print(el[\"tot\"][\"value\"])\n",
    "  europeanataxonomy = int(el[\"tot\"][\"value\"])\n",
    "\n",
    "\n",
    "print(europeanataxonomy/int(alleuro))\n",
    "                            "
   ]
  },
  {
   "cell_type": "code",
   "execution_count": null,
   "metadata": {
    "id": "sv308DYTGTGX"
   },
   "outputs": [],
   "source": [
    "europeanaiconclasstaxscore = 0.06529110453791213\n",
    "europeanaaatscore = 1 #all the paintings and sculptures are retrieved using AAT"
   ]
  },
  {
   "cell_type": "code",
   "execution_count": null,
   "metadata": {
    "id": "rje0DqqKGlrb"
   },
   "outputs": [],
   "source": []
  },
  {
   "cell_type": "markdown",
   "metadata": {
    "id": "dcRHmiJ2gPXB"
   },
   "source": [
    "## Arco"
   ]
  },
  {
   "cell_type": "code",
   "execution_count": null,
   "metadata": {
    "colab": {
     "base_uri": "https://localhost:8080/"
    },
    "id": "ZZWy_EbGkAeB",
    "outputId": "eb0be4f9-2bfc-43bd-eed8-724010a095ce"
   },
   "outputs": [
    {
     "name": "stdout",
     "output_type": "stream",
     "text": [
      "261531\n"
     ]
    }
   ],
   "source": [
    "arco_query = \"\"\"\n",
    "\n",
    "PREFIX rdf: <http://www.w3.org/1999/02/22-rdf-syntax-ns#>\n",
    "PREFIX rdfs: <http://www.w3.org/2000/01/rdf-schema#>\n",
    "PREFIX arco-cd: <https://w3id.org/arco/ontology/context-description/>\n",
    "PREFIX arco: <https://w3id.org/arco/ontology/arco/>\n",
    "\n",
    "SELECT (count (distinct ?s) as ?tot) \n",
    "WHERE {\n",
    "?s a arco:HistoricOrArtisticProperty; \n",
    "  arco-cd:iconclassCode ?resource. \n",
    "}\n",
    "\"\"\"\n",
    "\n",
    "\n",
    "\n",
    "res = sparl_query_setting(arco_query, arco_endpoint)\n",
    "\n",
    "# manipulate the result\n",
    "for result in res[\"results\"][\"bindings\"]:\n",
    "    print(result[\"tot\"][\"value\"])"
   ]
  },
  {
   "cell_type": "markdown",
   "metadata": {
    "id": "9euLtjNNlG0k"
   },
   "source": [
    "## Zeri"
   ]
  },
  {
   "cell_type": "code",
   "execution_count": null,
   "metadata": {
    "colab": {
     "base_uri": "https://localhost:8080/"
    },
    "id": "Eh2E7axtlHhr",
    "outputId": "36614ce1-6abf-4260-f598-e668fd316c99"
   },
   "outputs": [
    {
     "name": "stdout",
     "output_type": "stream",
     "text": [
      "10943\n"
     ]
    }
   ],
   "source": [
    "zeri_query = \"\"\"\n",
    "\n",
    "PREFIX rdf: <http://www.w3.org/1999/02/22-rdf-syntax-ns#>\n",
    "PREFIX rdfs: <http://www.w3.org/2000/01/rdf-schema#>\n",
    "PREFIX fabio: <http://purl.org/spar/fabio/>\n",
    "PREFIX owl: <http://www.w3.org/2002/07/owl#>\n",
    "\n",
    "SELECT (count (distinct ?artwork) as ?tot) WHERE {\n",
    "  ?artwork rdf:type fabio:ArtisticWork; \n",
    "  fabio:hasSubjectTerm ?subj.\n",
    "  ?subj rdfs:seeAlso ?resource. \n",
    "  FILTER (regex(str(?resource), \"iconclass\", \"i\"))\n",
    "}\n",
    "\n",
    "\n",
    "\"\"\"\n",
    "\n",
    "res = sparl_query_setting(zeri_query, zeri_endpoint)\n",
    "\n",
    "# manipulate the result\n",
    "for result in res[\"results\"][\"bindings\"]:\n",
    "    print(result[\"tot\"][\"value\"])"
   ]
  },
  {
   "cell_type": "markdown",
   "metadata": {
    "id": "4oq24NEmsCKl"
   },
   "source": [
    "## Nomisma\n",
    "It has links only to Getty Vocabularies, none to Iconclass"
   ]
  },
  {
   "cell_type": "code",
   "execution_count": null,
   "metadata": {
    "colab": {
     "base_uri": "https://localhost:8080/"
    },
    "id": "7nRtgymTsDFH",
    "outputId": "90a69646-4773-4ef6-8cf1-9dc77a32605f"
   },
   "outputs": [
    {
     "name": "stdout",
     "output_type": "stream",
     "text": [
      "39\n"
     ]
    }
   ],
   "source": [
    "# subjects relation exploration\n",
    "\n",
    "nomisma_query = \"\"\"\n",
    "PREFIX crm: <http://www.cidoc-crm.org/cidoc-crm/>\n",
    "PREFIX dcmitype: <http://purl.org/dc/dcmitype/>\n",
    "PREFIX dcterms: <http://purl.org/dc/terms/>\n",
    "PREFIX foaf: <http://xmlns.com/foaf/0.1/>\n",
    "PREFIX geo: <http://www.w3.org/2003/01/geo/wgs84_pos#>\n",
    "PREFIX nm: <http://nomisma.org/id/>\n",
    "PREFIX nmo: <http://nomisma.org/ontology#>\n",
    "PREFIX org: <http://www.w3.org/ns/org#>\n",
    "PREFIX rdf: <http://www.w3.org/1999/02/22-rdf-syntax-ns#>\n",
    "PREFIX rdfs: <http://www.w3.org/2000/01/rdf-schema#>\n",
    "PREFIX skos: <http://www.w3.org/2004/02/skos/core#>\n",
    "PREFIX xsd: <http://www.w3.org/2001/XMLSchema#>\n",
    "\n",
    "\n",
    "SELECT (count(distinct ?obj) as ?tot) WHERE {\n",
    " \n",
    "  ?sub nmo:hasPortrait ?obj.\n",
    "  ?obj skos:exactMatch ?obj2. \n",
    "  FILTER(regex(str(?obj2), \"getty\", \"i\"))\n",
    " \n",
    "} \n",
    "\n",
    "\n",
    "\"\"\"\n",
    "\n",
    "res = sparl_query_setting(nomisma_query, nomisma_endpoint)\n",
    "\n",
    "# manipulate the result\n",
    "for result in res[\"results\"][\"bindings\"]:\n",
    "  print(result[\"tot\"][\"value\"])"
   ]
  },
  {
   "cell_type": "markdown",
   "metadata": {
    "id": "f4YK7w-m8-Ux"
   },
   "source": [
    "Wikidata"
   ]
  },
  {
   "cell_type": "code",
   "execution_count": null,
   "metadata": {
    "colab": {
     "base_uri": "https://localhost:8080/"
    },
    "id": "hSBxlJsC8_SS",
    "outputId": "12925d6a-7125-443a-b441-566f69e9e091"
   },
   "outputs": [
    {
     "name": "stdout",
     "output_type": "stream",
     "text": [
      "74213\n"
     ]
    }
   ],
   "source": [
    "# wikidata. Number of paintings and sculptures having an iconclass code directly associated\n",
    "\n",
    "\n",
    "wd_query = \"\"\"\n",
    "\n",
    "SELECT (count(distinct ?art) as ?tot) WHERE {\n",
    "  {?art wdt:P31 wd:Q3305213} UNION {?art wdt:P31 wd:Q860861}\n",
    " \n",
    "  VALUES ?rel {wdt:P1256 wdt:P5986}\n",
    "{\n",
    "  ?art (wdt:P180 | wdt:P921) ?subj.\n",
    "  ?subj ?rel ?resource. \n",
    "  }\n",
    "  UNION \n",
    "{\n",
    "  ?art wdt:P1257 ?resource.\n",
    "  \n",
    "}\n",
    "} \n",
    "\n",
    "\"\"\"\n",
    "\n",
    "res = sparl_query_setting(wd_query, wd_endpoint)\n",
    "\n",
    "# manipulate the result\n",
    "for result in res[\"results\"][\"bindings\"]:\n",
    "  print(result[\"tot\"][\"value\"])"
   ]
  },
  {
   "cell_type": "markdown",
   "metadata": {
    "id": "MxfMAC2MB-gI"
   },
   "source": [
    "## SARI\n",
    "We runned the same query looking for \"Getty\" and \"Iconclass\" presence in the results through a regex. "
   ]
  },
  {
   "cell_type": "code",
   "execution_count": null,
   "metadata": {
    "colab": {
     "base_uri": "https://localhost:8080/"
    },
    "id": "0SaojBh0B_d7",
    "outputId": "b1b86fbb-289e-4c60-b1b5-7aea842c4c25"
   },
   "outputs": [
    {
     "name": "stdout",
     "output_type": "stream",
     "text": [
      "0\n"
     ]
    }
   ],
   "source": [
    "\n",
    "sari_query = \"\"\"\n",
    "PREFIX crm: <http://www.cidoc-crm.org/cidoc-crm/>\n",
    "PREFIX rdf: <http://www.w3.org/1999/02/22-rdf-syntax-ns#>\n",
    "PREFIX rdfs: <http://www.w3.org/2000/01/rdf-schema#>\n",
    "PREFIX getty: <http://vocab.getty.edu/ontology#>\n",
    "PREFIX gndo: <https://d-nb.info/standards/elementset/gnd#>\n",
    "\n",
    "SELECT (count (distinct ?a) as ?tot) WHERE {\n",
    "VALUES ?type{\"\"\"+artwork_types+\"\"\"}\n",
    "  ?a a gndo:Work; \n",
    "     gndo:formOfWorkAndExpression ?type; \n",
    "     ?rel ?resource.\n",
    "\n",
    "FILTER(regex(str(?resource), \"iconclass\", \"i\"))\n",
    "\n",
    "\n",
    "} LIMIT 100\n",
    "\n",
    "\"\"\"\n",
    "\n",
    "res = sparl_query_setting(sari_query, sari_endpoint)\n",
    "\n",
    "# manipulate the result\n",
    "\n",
    "for result in res[\"results\"][\"bindings\"]:\n",
    " print(result[\"tot\"][\"value\"])"
   ]
  },
  {
   "cell_type": "markdown",
   "metadata": {
    "id": "37K6CFiMP3Pc"
   },
   "source": [
    "# Intra-interlinking "
   ]
  },
  {
   "cell_type": "code",
   "execution_count": null,
   "metadata": {
    "id": "HiXUkAApQvIs"
   },
   "outputs": [],
   "source": []
  },
  {
   "cell_type": "markdown",
   "metadata": {
    "id": "Qsc-46d8iY7R"
   },
   "source": [
    "## DBpedia"
   ]
  },
  {
   "cell_type": "code",
   "execution_count": null,
   "metadata": {
    "colab": {
     "base_uri": "https://localhost:8080/"
    },
    "id": "x46YkkVPib2l",
    "outputId": "bb1c6305-d3a8-4d58-c5c6-62ba95497abf"
   },
   "outputs": [
    {
     "name": "stdout",
     "output_type": "stream",
     "text": [
      "4.173305056663795\n"
     ]
    }
   ],
   "source": [
    "intrainterlinkingpotentialdb = '''prefix dbo: <http://dbpedia.org/ontology/>\n",
    "prefix dct: <http://purl.org/dc/terms/>\n",
    "prefix dbp: <http://dbpedia.org/property/>\n",
    "SELECT (AVG(?no) AS ?avg) \n",
    "WHERE { \n",
    " SELECT (COUNT(distinct ?instance) AS ?no) \n",
    " WHERE { ?instance a dbo:Artwork ;\n",
    "dbp:subject|dct:subject ?subject }\n",
    "GROUP BY ?subject\n",
    "}'''\n",
    "\n",
    "iilpresdb = sparl_query_setting(intrainterlinkingpotentialdb, dbpedia)\n",
    "\n",
    "for el in iilpresdb[\"results\"][\"bindings\"]:\n",
    "  print(el[\"avg\"][\"value\"])\n",
    "  iilpdbscore = el[\"avg\"][\"value\"]"
   ]
  },
  {
   "cell_type": "code",
   "execution_count": null,
   "metadata": {
    "colab": {
     "base_uri": "https://localhost:8080/"
    },
    "id": "A-pJzPoKkmkE",
    "outputId": "90c23724-d9ab-4bb2-fc57-ec2a7ba5da49"
   },
   "outputs": [
    {
     "name": "stdout",
     "output_type": "stream",
     "text": [
      "0.40480866915001695\n"
     ]
    }
   ],
   "source": [
    "subjectmorethan1db = '''prefix dbo: <http://dbpedia.org/ontology/>\n",
    "prefix dct: <http://purl.org/dc/terms/>\n",
    "prefix dbp: <http://dbpedia.org/property/>\n",
    "SELECT (COUNT(distinct ?subject) as ?tot)\n",
    "WHERE { FILTER (?no > 1) {\n",
    " SELECT ?subject (COUNT(distinct ?instance) AS ?no) \n",
    " WHERE { ?instance a dbo:Artwork ;\n",
    "dbp:subject|dct:subject ?subject }\n",
    "GROUP BY ?subject }\n",
    "}'''\n",
    "\n",
    "allsubsuridb = '''prefix dbo: <http://dbpedia.org/ontology/>\n",
    "prefix dct: <http://purl.org/dc/terms/>\n",
    "prefix dbp: <http://dbpedia.org/property/>\n",
    " SELECT (COUNT(distinct ?subject) as ?tot)\n",
    " WHERE { ?instance a dbo:Artwork ;\n",
    "dbp:subject|dct:subject ?subject\n",
    "FILTER (isURI(?subject)) }'''\n",
    "\n",
    "submorethan1dbres = sparl_query_setting(subjectmorethan1db, dbpedia)\n",
    "allsubsuridbres = sparl_query_setting(allsubsuridb, dbpedia)\n",
    "\n",
    "for el in submorethan1dbres[\"results\"][\"bindings\"]:\n",
    "  submorethan1dbvalue = int(el[\"tot\"][\"value\"])\n",
    "\n",
    "allsubsuridbvalue = int(allsubsuridbres[\"results\"][\"bindings\"][0][\"tot\"][\"value\"])\n",
    "\n",
    "intralinkingdb = submorethan1dbvalue/allsubsuridbvalue\n",
    "print(intralinkingdb)\n",
    "\n"
   ]
  },
  {
   "cell_type": "markdown",
   "metadata": {
    "id": "o-8JccXpkzeU"
   },
   "source": [
    "## Europeana"
   ]
  },
  {
   "cell_type": "code",
   "execution_count": null,
   "metadata": {
    "colab": {
     "base_uri": "https://localhost:8080/"
    },
    "id": "zh7MlAI3k1s4",
    "outputId": "fb9589f2-8abc-447d-ec44-ea1bc6c51766"
   },
   "outputs": [
    {
     "name": "stdout",
     "output_type": "stream",
     "text": [
      "0.6122093023255814\n"
     ]
    }
   ],
   "source": [
    "subjectmorethan1euro = '''\n",
    "PREFIX ore: <http://www.openarchives.org/ore/terms/>\n",
    "PREFIX edm: <http://www.europeana.eu/schemas/edm/>\n",
    "SELECT (count(?sub) as ?tot) WHERE { FILTER (?tot > 1) {\n",
    "select  ?sub (count(distinct ?CHO) as ?tot) where {\n",
    "             ?s a <http://www.w3.org/2004/02/skos/core#Concept> ;\n",
    "<http://www.w3.org/2004/02/skos/core#broader>* <http://vocab.getty.edu/aat/300033618> .\n",
    "?s2 a <http://www.w3.org/2004/02/skos/core#Concept>  ;\n",
    "<http://www.w3.org/2004/02/skos/core#broader>* <http://vocab.getty.edu/aat/300047090> .\n",
    "\n",
    "{?CHO dc:type ?s;\n",
    "dc:subject ?sub .}\n",
    "\n",
    "UNION \n",
    "\n",
    "{?CHO dc:type ?s2;\n",
    "dc:subject ?sub .}\n",
    "}\n",
    "GROUP BY ?sub }\n",
    "}'''\n",
    "\n",
    "allsubjectseuro = '''\n",
    "PREFIX ore: <http://www.openarchives.org/ore/terms/>\n",
    "PREFIX edm: <http://www.europeana.eu/schemas/edm/>\n",
    "SELECT (count(distinct ?sub) as ?tot) WHERE {\n",
    "             ?s a <http://www.w3.org/2004/02/skos/core#Concept> ;\n",
    "<http://www.w3.org/2004/02/skos/core#broader>* <http://vocab.getty.edu/aat/300033618> .\n",
    "?s2 a <http://www.w3.org/2004/02/skos/core#Concept>  ;\n",
    "<http://www.w3.org/2004/02/skos/core#broader>* <http://vocab.getty.edu/aat/300047090> .\n",
    "\n",
    "{?CHO dc:type ?s;\n",
    "dc:subject ?sub .\n",
    "FILTER (isURI(?sub))}\n",
    "\n",
    "UNION \n",
    "\n",
    "{?CHO dc:type ?s2;\n",
    "dc:subject ?sub .\n",
    "FILTER(isURI(?sub))}\n",
    "}'''\n",
    "\n",
    "allseurores = sparl_query_setting(allsubjectseuro, euro)\n",
    "allseuroresvalue = int(allseurores[\"results\"][\"bindings\"][0][\"tot\"][\"value\"])\n",
    "smorethan1eurores = sparl_query_setting(subjectmorethan1euro, euro)\n",
    "smorethan1eurovalue = int(smorethan1eurores[\"results\"][\"bindings\"][0][\"tot\"][\"value\"])\n",
    "\n",
    "intralinkingeuro = smorethan1eurovalue/allseuroresvalue\n",
    "print(intralinkingeuro)\n"
   ]
  },
  {
   "cell_type": "code",
   "execution_count": null,
   "metadata": {
    "id": "l_cH8EsFlzHj"
   },
   "outputs": [],
   "source": []
  },
  {
   "cell_type": "markdown",
   "metadata": {
    "id": "HYQlE7xRmHzE"
   },
   "source": [
    "## Yago"
   ]
  },
  {
   "cell_type": "code",
   "execution_count": null,
   "metadata": {
    "colab": {
     "base_uri": "https://localhost:8080/"
    },
    "id": "AcV3mLKKmK7O",
    "outputId": "bcf1bb5f-bd28-43e4-f7a6-600c7cf74bd6"
   },
   "outputs": [
    {
     "name": "stdout",
     "output_type": "stream",
     "text": [
      "0.16753536857781087\n"
     ]
    }
   ],
   "source": [
    "subjectmorethan1yago = '''\n",
    "PREFIX rdf: <http://www.w3.org/1999/02/22-rdf-syntax-ns#>\n",
    "PREFIX rdfs: <http://www.w3.org/2000/01/rdf-schema#>\n",
    "PREFIX schema: <http://schema.org/>\n",
    "SELECT (count(distinct ?sub) as ?tot) WHERE { FILTER (?tot > 1) {\n",
    "SELECT ?sub (count(distinct ?artwork) as ?tot)\n",
    "WHERE {\n",
    "  VALUES ?art {schema:Painting schema:Sculpture}\n",
    "  ?artwork rdf:type ?art ;\n",
    "schema:about ?sub .\n",
    "    } GROUP BY ?sub } }'''\n",
    "\n",
    "allsubjectsyago = '''\n",
    "PREFIX rdf: <http://www.w3.org/1999/02/22-rdf-syntax-ns#>\n",
    "PREFIX rdfs: <http://www.w3.org/2000/01/rdf-schema#>\n",
    "PREFIX schema: <http://schema.org/>\n",
    "SELECT (count(distinct ?sub) as ?tot)\n",
    "WHERE {\n",
    "  VALUES ?art {schema:Painting schema:Sculpture}\n",
    "  ?artwork rdf:type ?art ;\n",
    "schema:about ?sub .\n",
    "  FILTER (isURI(?sub))\n",
    "    }'''\n",
    "\n",
    "allsyagores = sparl_query_setting(allsubjectsyago, yago)\n",
    "allsyagoresvalue = int(allsyagores[\"results\"][\"bindings\"][0][\"tot\"][\"value\"])\n",
    "smorethan1yagores = sparl_query_setting(subjectmorethan1yago, yago)\n",
    "smorethan1yagovalue = int(smorethan1yagores[\"results\"][\"bindings\"][0][\"tot\"][\"value\"])\n",
    "\n",
    "intralinkingyago = smorethan1yagovalue/allsyagoresvalue\n",
    "print(intralinkingyago)"
   ]
  },
  {
   "cell_type": "code",
   "execution_count": null,
   "metadata": {
    "id": "GD-YYE26nAZL"
   },
   "outputs": [],
   "source": []
  },
  {
   "cell_type": "markdown",
   "metadata": {
    "id": "igSq4dHsnSSS"
   },
   "source": [
    "## ND Hungary\n",
    "\n",
    "ND Hungary has no subjects or iconoraphic/iconologic related elements expressed by URIs, therefore its intra interlinking potential is 0"
   ]
  },
  {
   "cell_type": "code",
   "execution_count": null,
   "metadata": {
    "id": "mBZxXfFfnYFr"
   },
   "outputs": [],
   "source": [
    "iilpyndhungary = 0\n"
   ]
  },
  {
   "cell_type": "code",
   "execution_count": null,
   "metadata": {
    "id": "9B_b7u1Inw3y"
   },
   "outputs": [],
   "source": []
  },
  {
   "cell_type": "markdown",
   "metadata": {
    "id": "z0ycvf52aNyv"
   },
   "source": [
    "## ARCO"
   ]
  },
  {
   "cell_type": "code",
   "execution_count": null,
   "metadata": {
    "colab": {
     "base_uri": "https://localhost:8080/"
    },
    "id": "ZSKozR7ATwfr",
    "outputId": "f40f6693-ec4a-41f0-8bea-0814505e6557"
   },
   "outputs": [
    {
     "name": "stdout",
     "output_type": "stream",
     "text": [
      "41947\n"
     ]
    }
   ],
   "source": [
    "# number of subjects present in more than one artwork/tot. number of subj. \n",
    "intrainterlinkingpotentialarco = '''\n",
    "PREFIX rdf: <http://www.w3.org/1999/02/22-rdf-syntax-ns#>\n",
    "PREFIX rdfs: <http://www.w3.org/2000/01/rdf-schema#>\n",
    "PREFIX arco-cd: <https://w3id.org/arco/ontology/context-description/>\n",
    "PREFIX arco-d: <https://w3id.org/arco/ontology/denotative-description/>\n",
    "PREFIX arco: <https://w3id.org/arco/ontology/arco/>\n",
    "\n",
    "SELECT (COUNT(distinct ?sub) as ?tot)\n",
    "WHERE { FILTER (?no > 1) {\n",
    " SELECT ?sub (COUNT(distinct ?artwork) AS ?no) \n",
    " WHERE { ?artwork (arco-cd:hasSubject | arco-d:hasIconographicOrDecorativeApparatus) ?sub. \n",
    "?artwork a arco:HistoricOrArtisticProperty.}\n",
    "GROUP BY ?sub }\n",
    "}\n",
    "\n",
    "\n",
    "  '''\n",
    "iilpyarcores = sparl_query_setting(intrainterlinkingpotentialarco, arco_endpoint)\n",
    "\n",
    "for el in iilpyarcores[\"results\"][\"bindings\"]:\n",
    "  subarcoscore = el[\"tot\"][\"value\"]\n",
    "  print(subpyarcoscore)"
   ]
  },
  {
   "cell_type": "code",
   "execution_count": null,
   "metadata": {
    "colab": {
     "base_uri": "https://localhost:8080/"
    },
    "id": "nrC22m1OUQwx",
    "outputId": "205caaba-14c0-4c37-a2e0-06fcb68bd37f"
   },
   "outputs": [
    {
     "name": "stdout",
     "output_type": "stream",
     "text": [
      "242506\n"
     ]
    }
   ],
   "source": [
    "# tot num of subj\n",
    "intrainterlinkingpotentialarco = '''\n",
    "PREFIX rdf: <http://www.w3.org/1999/02/22-rdf-syntax-ns#>\n",
    "PREFIX rdfs: <http://www.w3.org/2000/01/rdf-schema#>\n",
    "PREFIX arco-cd: <https://w3id.org/arco/ontology/context-description/>\n",
    "PREFIX arco-d: <https://w3id.org/arco/ontology/denotative-description/>\n",
    "PREFIX arco: <https://w3id.org/arco/ontology/arco/>\n",
    "\n",
    "SELECT (COUNT(distinct ?sub) as ?tot) where {\n",
    "?artwork (arco-cd:hasSubject | arco-d:hasIconographicOrDecorativeApparatus) ?sub. \n",
    "?artwork a arco:HistoricOrArtisticProperty.\n",
    "\n",
    "}\n",
    "\n",
    "\n",
    "  '''\n",
    "iilpyarcores = sparl_query_setting(intrainterlinkingpotentialarco, arco_endpoint)\n",
    "\n",
    "for el in iilpyarcores[\"results\"][\"bindings\"]:\n",
    "  totarcoscore = el[\"tot\"][\"value\"]\n",
    "  print(totarcoscore)"
   ]
  },
  {
   "cell_type": "code",
   "execution_count": null,
   "metadata": {
    "colab": {
     "base_uri": "https://localhost:8080/"
    },
    "id": "DoEuIJC5Uejr",
    "outputId": "2b0c45a1-b16b-4842-a9b4-eaace3742f24"
   },
   "outputs": [
    {
     "name": "stdout",
     "output_type": "stream",
     "text": [
      "0.1729730398423132\n"
     ]
    }
   ],
   "source": [
    "s_intra = 41947/242506\n",
    "print(s_intra)"
   ]
  },
  {
   "cell_type": "markdown",
   "metadata": {
    "id": "Zzq6JhzhcZQd"
   },
   "source": [
    "## Zeri"
   ]
  },
  {
   "cell_type": "code",
   "execution_count": null,
   "metadata": {
    "colab": {
     "base_uri": "https://localhost:8080/"
    },
    "id": "T8kDW-kxXZFp",
    "outputId": "1a275e75-60e8-4110-b303-fe1d403b52e6"
   },
   "outputs": [
    {
     "name": "stdout",
     "output_type": "stream",
     "text": [
      "1926\n"
     ]
    }
   ],
   "source": [
    "# number of subjects present in more than one artwork/tot. number of subj. \n",
    "intrainterlinkingpotentialzeri = '''\n",
    "PREFIX rdf: <http://www.w3.org/1999/02/22-rdf-syntax-ns#>\n",
    "PREFIX oaentry: <http://purl.org/emmedi/oaentry/>\n",
    "PREFIX crm: <http://www.cidoc-crm.org/cidoc-crm/>\n",
    "PREFIX rdfs: <http://www.w3.org/2000/01/rdf-schema#>\n",
    "PREFIX fabio: <http://purl.org/spar/fabio/>\n",
    "\n",
    "SELECT (COUNT(distinct ?sub) as ?tot)\n",
    "WHERE { FILTER (?no > 1) {\n",
    " SELECT ?sub (COUNT(distinct ?artwork) AS ?no) \n",
    " WHERE { ?artwork fabio:hasSubjectTerm ?sub; a fabio:ArtisticWork.\n",
    " }\n",
    "GROUP BY ?sub }\n",
    "}\n",
    "\n",
    "\n",
    "  '''\n",
    "iilpyarcores = sparl_query_setting(intrainterlinkingpotentialzeri, zeri_endpoint)\n",
    "\n",
    "for el in iilpyarcores[\"results\"][\"bindings\"]:\n",
    "  subzeriscore = el[\"tot\"][\"value\"]\n",
    "  print(subzeriscore)"
   ]
  },
  {
   "cell_type": "code",
   "execution_count": null,
   "metadata": {
    "colab": {
     "base_uri": "https://localhost:8080/"
    },
    "id": "QctVU8LzXZFq",
    "outputId": "457ade5a-2f1c-46c0-8c91-e38c1f3f55d0"
   },
   "outputs": [
    {
     "name": "stdout",
     "output_type": "stream",
     "text": [
      "7232\n",
      "0.2663163716814159\n"
     ]
    }
   ],
   "source": [
    "# tot num of subj\n",
    "intrainterlinkingpotentialzeri = '''\n",
    "PREFIX rdf: <http://www.w3.org/1999/02/22-rdf-syntax-ns#>\n",
    "PREFIX oaentry: <http://purl.org/emmedi/oaentry/>\n",
    "PREFIX crm: <http://www.cidoc-crm.org/cidoc-crm/>\n",
    "PREFIX rdfs: <http://www.w3.org/2000/01/rdf-schema#>\n",
    "PREFIX fabio: <http://purl.org/spar/fabio/>\n",
    "\n",
    "\n",
    " SELECT (COUNT(distinct ?sub) AS ?tot) \n",
    " WHERE { ?artwork fabio:hasSubjectTerm ?sub; a fabio:ArtisticWork.\n",
    " }\n",
    "\n",
    "  '''\n",
    "iilpyarcores = sparl_query_setting(intrainterlinkingpotentialzeri, zeri_endpoint)\n",
    "\n",
    "for el in iilpyarcores[\"results\"][\"bindings\"]:\n",
    "  totzeriscore = el[\"tot\"][\"value\"]\n",
    "  print(totzeriscore)\n",
    "\n",
    "s_intra = int(subzeriscore)/int(totzeriscore)\n",
    "print(s_intra)"
   ]
  },
  {
   "cell_type": "markdown",
   "metadata": {
    "id": "HiyVJFNKewPS"
   },
   "source": [
    "## Nomisma"
   ]
  },
  {
   "cell_type": "code",
   "execution_count": null,
   "metadata": {
    "colab": {
     "base_uri": "https://localhost:8080/"
    },
    "id": "Xr49ixs3Ygr8",
    "outputId": "4b273979-b29a-46d6-c514-9e23103667e0"
   },
   "outputs": [
    {
     "name": "stdout",
     "output_type": "stream",
     "text": [
      "359\n"
     ]
    }
   ],
   "source": [
    "# number of subjects present in more than one artwork/tot. number of subj. \n",
    "intrainterlinkingpotentialnomisma = '''\n",
    "PREFIX crm: <http://www.cidoc-crm.org/cidoc-crm/>\n",
    "PREFIX dcmitype: <http://purl.org/dc/dcmitype/>\n",
    "PREFIX dcterms: <http://purl.org/dc/terms/>\n",
    "PREFIX foaf: <http://xmlns.com/foaf/0.1/>\n",
    "PREFIX geo: <http://www.w3.org/2003/01/geo/wgs84_pos#>\n",
    "PREFIX nm: <http://nomisma.org/id/>\n",
    "PREFIX nmo: <http://nomisma.org/ontology#>\n",
    "PREFIX org: <http://www.w3.org/ns/org#>\n",
    "PREFIX rdf: <http://www.w3.org/1999/02/22-rdf-syntax-ns#>\n",
    "PREFIX rdfs: <http://www.w3.org/2000/01/rdf-schema#>\n",
    "PREFIX skos: <http://www.w3.org/2004/02/skos/core#>\n",
    "PREFIX xsd: <http://www.w3.org/2001/XMLSchema#>\n",
    "\n",
    "SELECT (COUNT(distinct ?sub) as ?tot)\n",
    "WHERE { FILTER (?no > 1) {\n",
    " SELECT ?sub (COUNT(distinct ?artwork) AS ?no) \n",
    " WHERE {    \n",
    "   {?coin nmo:hasObverse ?artwork} UNION {?coin nmo:hasReverse ?artwork}\n",
    "  ?artwork nmo:hasPortrait ?sub.\n",
    " }\n",
    "GROUP BY ?sub }\n",
    "}\n",
    "\n",
    "\n",
    "  '''\n",
    "res = sparl_query_setting(intrainterlinkingpotentialnomisma, nomisma_endpoint)\n",
    "\n",
    "for el in res[\"results\"][\"bindings\"]:\n",
    "  subnomismascore = int(el[\"tot\"][\"value\"])\n",
    "  print(subnomismascore)"
   ]
  },
  {
   "cell_type": "code",
   "execution_count": null,
   "metadata": {
    "colab": {
     "base_uri": "https://localhost:8080/"
    },
    "id": "BueQz0pRY9Vu",
    "outputId": "e6fb26a2-0d19-4212-f547-dbcfd730bafa"
   },
   "outputs": [
    {
     "name": "stdout",
     "output_type": "stream",
     "text": [
      "479\n",
      "0.7494780793319415\n"
     ]
    }
   ],
   "source": [
    "# number of subjects present in more than one artwork/tot. number of subj. \n",
    "intrainterlinkingpotentialnomisma = '''\n",
    "PREFIX crm: <http://www.cidoc-crm.org/cidoc-crm/>\n",
    "PREFIX dcmitype: <http://purl.org/dc/dcmitype/>\n",
    "PREFIX dcterms: <http://purl.org/dc/terms/>\n",
    "PREFIX foaf: <http://xmlns.com/foaf/0.1/>\n",
    "PREFIX geo: <http://www.w3.org/2003/01/geo/wgs84_pos#>\n",
    "PREFIX nm: <http://nomisma.org/id/>\n",
    "PREFIX nmo: <http://nomisma.org/ontology#>\n",
    "PREFIX org: <http://www.w3.org/ns/org#>\n",
    "PREFIX rdf: <http://www.w3.org/1999/02/22-rdf-syntax-ns#>\n",
    "PREFIX rdfs: <http://www.w3.org/2000/01/rdf-schema#>\n",
    "PREFIX skos: <http://www.w3.org/2004/02/skos/core#>\n",
    "PREFIX xsd: <http://www.w3.org/2001/XMLSchema#>\n",
    "\n",
    "SELECT (COUNT(distinct ?sub) as ?tot) \n",
    " WHERE {    \n",
    "   {?coin nmo:hasObverse ?artwork} UNION {?coin nmo:hasReverse ?artwork}\n",
    "  ?artwork nmo:hasPortrait ?sub.\n",
    " }\n",
    "\n",
    "\n",
    "\n",
    "  '''\n",
    "res = sparl_query_setting(intrainterlinkingpotentialnomisma, nomisma_endpoint)\n",
    "\n",
    "for el in res[\"results\"][\"bindings\"]:\n",
    "  totnomismascore = int(el[\"tot\"][\"value\"])\n",
    "  print(totnomismascore)\n",
    "s_intra= subnomismascore/totnomismascore\n",
    "print(s_intra)"
   ]
  },
  {
   "cell_type": "markdown",
   "metadata": {
    "id": "BhaMXiVyhPXJ"
   },
   "source": [
    "## Wikidata"
   ]
  },
  {
   "cell_type": "code",
   "execution_count": null,
   "metadata": {
    "colab": {
     "base_uri": "https://localhost:8080/"
    },
    "id": "PIhI_IX7ZZGM",
    "outputId": "7b53ee09-a632-4438-dad2-91a590b719c3"
   },
   "outputs": [
    {
     "name": "stdout",
     "output_type": "stream",
     "text": [
      "14839\n",
      "43195\n",
      "0.3435351313809469\n"
     ]
    }
   ],
   "source": [
    "# number of subjects present in more than one artwork/tot. number of subj. \n",
    "intrainterlinkingpotentialwd1 = '''\n",
    "\n",
    "SELECT (COUNT(distinct ?sub) as ?tot)\n",
    "WHERE { FILTER (?no > 1) {\n",
    " SELECT ?sub (COUNT(distinct ?artwork) AS ?no) \n",
    " WHERE {    \n",
    "  {?artwork wdt:P31 wd:Q3305213} UNION {?artwork wdt:P31 wd:Q860861}\n",
    "  ?artwork wdt:P180 | wdt:P921 | wdt:P1257 ?sub.\n",
    " }\n",
    "GROUP BY ?sub }\n",
    "}\n",
    "\n",
    "\n",
    "  '''\n",
    "res = sparl_query_setting(intrainterlinkingpotentialwd1, wd_endpoint)\n",
    "\n",
    "for el in res[\"results\"][\"bindings\"]:\n",
    "  subwdscore = int(el[\"tot\"][\"value\"])\n",
    "  print(subwdscore)\n",
    "\n",
    "intrainterlinkingpotentialwd2 = '''\n",
    "\n",
    "SELECT (COUNT(distinct ?sub) as ?tot)\n",
    " WHERE {    \n",
    "  {?artwork wdt:P31 wd:Q3305213} UNION {?artwork wdt:P31 wd:Q860861}\n",
    "  ?artwork wdt:P180 | wdt:P921 | wdt:P1257 ?sub.\n",
    " }\n",
    "\n",
    "\n",
    "\n",
    "  '''\n",
    "res2 = sparl_query_setting(intrainterlinkingpotentialwd2, wd_endpoint)\n",
    "\n",
    "for el in res2[\"results\"][\"bindings\"]:\n",
    "  totwdscore = int(el[\"tot\"][\"value\"])\n",
    "  print(totwdscore)\n",
    "\n",
    "s_intra= subwdscore/totwdscore\n",
    "print(s_intra)"
   ]
  },
  {
   "cell_type": "markdown",
   "metadata": {
    "id": "kIna7OFWfdLn"
   },
   "source": [
    "## SARI"
   ]
  },
  {
   "cell_type": "code",
   "execution_count": null,
   "metadata": {
    "id": "DZKAkl8rgPJK"
   },
   "outputs": [],
   "source": [
    "artwork_types= \"\"\"<https://d-nb.info/gnd/4046277-8> <https://d-nb.info/gnd/4127900-1> <https://d-nb.info/gnd/4036042-8> <https://d-nb.info/gnd/4010427-8> <https://d-nb.info/gnd/4124432-1> <https://d-nb.info/gnd/4123412-1> <https://d-nb.info/gnd/4131808-0> <https://d-nb.info/gnd/4124432-1> <https://d-nb.info/gnd/4114333-4> <https://d-nb.info/gnd/4033760-1> <https://d-nb.info/gnd/4002511-1> <https://d-nb.info/gnd/4627787-0> <https://d-nb.info/gnd/4029783-4> <https://d-nb.info/gnd/4006627-7> <https://d-nb.info/gnd/4064542-3> <https://d-nb.info/gnd/4229053-3>\"\"\""
   ]
  },
  {
   "cell_type": "code",
   "execution_count": null,
   "metadata": {
    "colab": {
     "base_uri": "https://localhost:8080/",
     "height": 798
    },
    "id": "ngVstAKPapJ-",
    "outputId": "db05cf6d-5493-4f58-8e88-77906b13baaf"
   },
   "outputs": [
    {
     "ename": "EndPointInternalError",
     "evalue": "ignored",
     "output_type": "error",
     "traceback": [
      "\u001b[0;31m---------------------------------------------------------------------------\u001b[0m",
      "\u001b[0;31mHTTPError\u001b[0m                                 Traceback (most recent call last)",
      "\u001b[0;32m/usr/local/lib/python3.7/dist-packages/SPARQLWrapper/Wrapper.py\u001b[0m in \u001b[0;36m_query\u001b[0;34m(self)\u001b[0m\n\u001b[1;32m    925\u001b[0m             \u001b[0;32melse\u001b[0m\u001b[0;34m:\u001b[0m\u001b[0;34m\u001b[0m\u001b[0;34m\u001b[0m\u001b[0m\n\u001b[0;32m--> 926\u001b[0;31m                 \u001b[0mresponse\u001b[0m \u001b[0;34m=\u001b[0m \u001b[0murlopener\u001b[0m\u001b[0;34m(\u001b[0m\u001b[0mrequest\u001b[0m\u001b[0;34m)\u001b[0m\u001b[0;34m\u001b[0m\u001b[0;34m\u001b[0m\u001b[0m\n\u001b[0m\u001b[1;32m    927\u001b[0m             \u001b[0;32mreturn\u001b[0m \u001b[0mresponse\u001b[0m\u001b[0;34m,\u001b[0m \u001b[0mself\u001b[0m\u001b[0;34m.\u001b[0m\u001b[0mreturnFormat\u001b[0m\u001b[0;34m\u001b[0m\u001b[0;34m\u001b[0m\u001b[0m\n",
      "\u001b[0;32m/usr/lib/python3.7/urllib/request.py\u001b[0m in \u001b[0;36murlopen\u001b[0;34m(url, data, timeout, cafile, capath, cadefault, context)\u001b[0m\n\u001b[1;32m    221\u001b[0m         \u001b[0mopener\u001b[0m \u001b[0;34m=\u001b[0m \u001b[0m_opener\u001b[0m\u001b[0;34m\u001b[0m\u001b[0;34m\u001b[0m\u001b[0m\n\u001b[0;32m--> 222\u001b[0;31m     \u001b[0;32mreturn\u001b[0m \u001b[0mopener\u001b[0m\u001b[0;34m.\u001b[0m\u001b[0mopen\u001b[0m\u001b[0;34m(\u001b[0m\u001b[0murl\u001b[0m\u001b[0;34m,\u001b[0m \u001b[0mdata\u001b[0m\u001b[0;34m,\u001b[0m \u001b[0mtimeout\u001b[0m\u001b[0;34m)\u001b[0m\u001b[0;34m\u001b[0m\u001b[0;34m\u001b[0m\u001b[0m\n\u001b[0m\u001b[1;32m    223\u001b[0m \u001b[0;34m\u001b[0m\u001b[0m\n",
      "\u001b[0;32m/usr/lib/python3.7/urllib/request.py\u001b[0m in \u001b[0;36mopen\u001b[0;34m(self, fullurl, data, timeout)\u001b[0m\n\u001b[1;32m    530\u001b[0m             \u001b[0mmeth\u001b[0m \u001b[0;34m=\u001b[0m \u001b[0mgetattr\u001b[0m\u001b[0;34m(\u001b[0m\u001b[0mprocessor\u001b[0m\u001b[0;34m,\u001b[0m \u001b[0mmeth_name\u001b[0m\u001b[0;34m)\u001b[0m\u001b[0;34m\u001b[0m\u001b[0;34m\u001b[0m\u001b[0m\n\u001b[0;32m--> 531\u001b[0;31m             \u001b[0mresponse\u001b[0m \u001b[0;34m=\u001b[0m \u001b[0mmeth\u001b[0m\u001b[0;34m(\u001b[0m\u001b[0mreq\u001b[0m\u001b[0;34m,\u001b[0m \u001b[0mresponse\u001b[0m\u001b[0;34m)\u001b[0m\u001b[0;34m\u001b[0m\u001b[0;34m\u001b[0m\u001b[0m\n\u001b[0m\u001b[1;32m    532\u001b[0m \u001b[0;34m\u001b[0m\u001b[0m\n",
      "\u001b[0;32m/usr/lib/python3.7/urllib/request.py\u001b[0m in \u001b[0;36mhttp_response\u001b[0;34m(self, request, response)\u001b[0m\n\u001b[1;32m    640\u001b[0m             response = self.parent.error(\n\u001b[0;32m--> 641\u001b[0;31m                 'http', request, response, code, msg, hdrs)\n\u001b[0m\u001b[1;32m    642\u001b[0m \u001b[0;34m\u001b[0m\u001b[0m\n",
      "\u001b[0;32m/usr/lib/python3.7/urllib/request.py\u001b[0m in \u001b[0;36merror\u001b[0;34m(self, proto, *args)\u001b[0m\n\u001b[1;32m    568\u001b[0m             \u001b[0margs\u001b[0m \u001b[0;34m=\u001b[0m \u001b[0;34m(\u001b[0m\u001b[0mdict\u001b[0m\u001b[0;34m,\u001b[0m \u001b[0;34m'default'\u001b[0m\u001b[0;34m,\u001b[0m \u001b[0;34m'http_error_default'\u001b[0m\u001b[0;34m)\u001b[0m \u001b[0;34m+\u001b[0m \u001b[0morig_args\u001b[0m\u001b[0;34m\u001b[0m\u001b[0;34m\u001b[0m\u001b[0m\n\u001b[0;32m--> 569\u001b[0;31m             \u001b[0;32mreturn\u001b[0m \u001b[0mself\u001b[0m\u001b[0;34m.\u001b[0m\u001b[0m_call_chain\u001b[0m\u001b[0;34m(\u001b[0m\u001b[0;34m*\u001b[0m\u001b[0margs\u001b[0m\u001b[0;34m)\u001b[0m\u001b[0;34m\u001b[0m\u001b[0;34m\u001b[0m\u001b[0m\n\u001b[0m\u001b[1;32m    570\u001b[0m \u001b[0;34m\u001b[0m\u001b[0m\n",
      "\u001b[0;32m/usr/lib/python3.7/urllib/request.py\u001b[0m in \u001b[0;36m_call_chain\u001b[0;34m(self, chain, kind, meth_name, *args)\u001b[0m\n\u001b[1;32m    502\u001b[0m             \u001b[0mfunc\u001b[0m \u001b[0;34m=\u001b[0m \u001b[0mgetattr\u001b[0m\u001b[0;34m(\u001b[0m\u001b[0mhandler\u001b[0m\u001b[0;34m,\u001b[0m \u001b[0mmeth_name\u001b[0m\u001b[0;34m)\u001b[0m\u001b[0;34m\u001b[0m\u001b[0;34m\u001b[0m\u001b[0m\n\u001b[0;32m--> 503\u001b[0;31m             \u001b[0mresult\u001b[0m \u001b[0;34m=\u001b[0m \u001b[0mfunc\u001b[0m\u001b[0;34m(\u001b[0m\u001b[0;34m*\u001b[0m\u001b[0margs\u001b[0m\u001b[0;34m)\u001b[0m\u001b[0;34m\u001b[0m\u001b[0;34m\u001b[0m\u001b[0m\n\u001b[0m\u001b[1;32m    504\u001b[0m             \u001b[0;32mif\u001b[0m \u001b[0mresult\u001b[0m \u001b[0;32mis\u001b[0m \u001b[0;32mnot\u001b[0m \u001b[0;32mNone\u001b[0m\u001b[0;34m:\u001b[0m\u001b[0;34m\u001b[0m\u001b[0;34m\u001b[0m\u001b[0m\n",
      "\u001b[0;32m/usr/lib/python3.7/urllib/request.py\u001b[0m in \u001b[0;36mhttp_error_default\u001b[0;34m(self, req, fp, code, msg, hdrs)\u001b[0m\n\u001b[1;32m    648\u001b[0m     \u001b[0;32mdef\u001b[0m \u001b[0mhttp_error_default\u001b[0m\u001b[0;34m(\u001b[0m\u001b[0mself\u001b[0m\u001b[0;34m,\u001b[0m \u001b[0mreq\u001b[0m\u001b[0;34m,\u001b[0m \u001b[0mfp\u001b[0m\u001b[0;34m,\u001b[0m \u001b[0mcode\u001b[0m\u001b[0;34m,\u001b[0m \u001b[0mmsg\u001b[0m\u001b[0;34m,\u001b[0m \u001b[0mhdrs\u001b[0m\u001b[0;34m)\u001b[0m\u001b[0;34m:\u001b[0m\u001b[0;34m\u001b[0m\u001b[0;34m\u001b[0m\u001b[0m\n\u001b[0;32m--> 649\u001b[0;31m         \u001b[0;32mraise\u001b[0m \u001b[0mHTTPError\u001b[0m\u001b[0;34m(\u001b[0m\u001b[0mreq\u001b[0m\u001b[0;34m.\u001b[0m\u001b[0mfull_url\u001b[0m\u001b[0;34m,\u001b[0m \u001b[0mcode\u001b[0m\u001b[0;34m,\u001b[0m \u001b[0mmsg\u001b[0m\u001b[0;34m,\u001b[0m \u001b[0mhdrs\u001b[0m\u001b[0;34m,\u001b[0m \u001b[0mfp\u001b[0m\u001b[0;34m)\u001b[0m\u001b[0;34m\u001b[0m\u001b[0;34m\u001b[0m\u001b[0m\n\u001b[0m\u001b[1;32m    650\u001b[0m \u001b[0;34m\u001b[0m\u001b[0m\n",
      "\u001b[0;31mHTTPError\u001b[0m: HTTP Error 500: Server Error",
      "\nDuring handling of the above exception, another exception occurred:\n",
      "\u001b[0;31mEndPointInternalError\u001b[0m                     Traceback (most recent call last)",
      "\u001b[0;32m<ipython-input-26-77565ddb74a4>\u001b[0m in \u001b[0;36m<module>\u001b[0;34m()\u001b[0m\n\u001b[1;32m     16\u001b[0m \u001b[0;34m\u001b[0m\u001b[0m\n\u001b[1;32m     17\u001b[0m \u001b[0;34m\u001b[0m\u001b[0m\n\u001b[0;32m---> 18\u001b[0;31m \u001b[0mres\u001b[0m \u001b[0;34m=\u001b[0m \u001b[0msparl_query_setting\u001b[0m\u001b[0;34m(\u001b[0m\u001b[0mintrainterlinkingpotentialsari1\u001b[0m\u001b[0;34m,\u001b[0m \u001b[0msari_endpoint\u001b[0m\u001b[0;34m)\u001b[0m\u001b[0;34m\u001b[0m\u001b[0;34m\u001b[0m\u001b[0m\n\u001b[0m\u001b[1;32m     19\u001b[0m \u001b[0;34m\u001b[0m\u001b[0m\n\u001b[1;32m     20\u001b[0m \u001b[0;32mfor\u001b[0m \u001b[0mel\u001b[0m \u001b[0;32min\u001b[0m \u001b[0mres\u001b[0m\u001b[0;34m[\u001b[0m\u001b[0;34m\"results\"\u001b[0m\u001b[0;34m]\u001b[0m\u001b[0;34m[\u001b[0m\u001b[0;34m\"bindings\"\u001b[0m\u001b[0;34m]\u001b[0m\u001b[0;34m:\u001b[0m\u001b[0;34m\u001b[0m\u001b[0;34m\u001b[0m\u001b[0m\n",
      "\u001b[0;32m<ipython-input-3-deaa5558a2fc>\u001b[0m in \u001b[0;36msparl_query_setting\u001b[0;34m(query, endpoint)\u001b[0m\n\u001b[1;32m      6\u001b[0m   \u001b[0msparql\u001b[0m\u001b[0;34m.\u001b[0m\u001b[0msetReturnFormat\u001b[0m\u001b[0;34m(\u001b[0m\u001b[0mJSON\u001b[0m\u001b[0;34m)\u001b[0m\u001b[0;34m\u001b[0m\u001b[0;34m\u001b[0m\u001b[0m\n\u001b[1;32m      7\u001b[0m   \u001b[0;31m# get the results\u001b[0m\u001b[0;34m\u001b[0m\u001b[0;34m\u001b[0m\u001b[0;34m\u001b[0m\u001b[0m\n\u001b[0;32m----> 8\u001b[0;31m   \u001b[0mresults\u001b[0m \u001b[0;34m=\u001b[0m \u001b[0msparql\u001b[0m\u001b[0;34m.\u001b[0m\u001b[0mquery\u001b[0m\u001b[0;34m(\u001b[0m\u001b[0;34m)\u001b[0m\u001b[0;34m.\u001b[0m\u001b[0mconvert\u001b[0m\u001b[0;34m(\u001b[0m\u001b[0;34m)\u001b[0m\u001b[0;34m\u001b[0m\u001b[0;34m\u001b[0m\u001b[0m\n\u001b[0m\u001b[1;32m      9\u001b[0m   \u001b[0;32mreturn\u001b[0m \u001b[0mresults\u001b[0m\u001b[0;34m\u001b[0m\u001b[0;34m\u001b[0m\u001b[0m\n\u001b[1;32m     10\u001b[0m \u001b[0;34m\u001b[0m\u001b[0m\n",
      "\u001b[0;32m/usr/local/lib/python3.7/dist-packages/SPARQLWrapper/Wrapper.py\u001b[0m in \u001b[0;36mquery\u001b[0;34m(self)\u001b[0m\n\u001b[1;32m    958\u001b[0m         \u001b[0;34m:\u001b[0m\u001b[0mrtype\u001b[0m\u001b[0;34m:\u001b[0m \u001b[0;34m:\u001b[0m\u001b[0;32mclass\u001b[0m\u001b[0;34m:\u001b[0m\u001b[0;31m`\u001b[0m\u001b[0mQueryResult\u001b[0m\u001b[0;31m`\u001b[0m \u001b[0minstance\u001b[0m\u001b[0;34m\u001b[0m\u001b[0;34m\u001b[0m\u001b[0m\n\u001b[1;32m    959\u001b[0m         \"\"\"\n\u001b[0;32m--> 960\u001b[0;31m         \u001b[0;32mreturn\u001b[0m \u001b[0mQueryResult\u001b[0m\u001b[0;34m(\u001b[0m\u001b[0mself\u001b[0m\u001b[0;34m.\u001b[0m\u001b[0m_query\u001b[0m\u001b[0;34m(\u001b[0m\u001b[0;34m)\u001b[0m\u001b[0;34m)\u001b[0m\u001b[0;34m\u001b[0m\u001b[0;34m\u001b[0m\u001b[0m\n\u001b[0m\u001b[1;32m    961\u001b[0m \u001b[0;34m\u001b[0m\u001b[0m\n\u001b[1;32m    962\u001b[0m     \u001b[0;32mdef\u001b[0m \u001b[0mqueryAndConvert\u001b[0m\u001b[0;34m(\u001b[0m\u001b[0mself\u001b[0m\u001b[0;34m)\u001b[0m \u001b[0;34m->\u001b[0m \u001b[0;34m\"QueryResult.ConvertResult\"\u001b[0m\u001b[0;34m:\u001b[0m\u001b[0;34m\u001b[0m\u001b[0;34m\u001b[0m\u001b[0m\n",
      "\u001b[0;32m/usr/local/lib/python3.7/dist-packages/SPARQLWrapper/Wrapper.py\u001b[0m in \u001b[0;36m_query\u001b[0;34m(self)\u001b[0m\n\u001b[1;32m    936\u001b[0m                 \u001b[0;32mraise\u001b[0m \u001b[0mURITooLong\u001b[0m\u001b[0;34m(\u001b[0m\u001b[0me\u001b[0m\u001b[0;34m.\u001b[0m\u001b[0mread\u001b[0m\u001b[0;34m(\u001b[0m\u001b[0;34m)\u001b[0m\u001b[0;34m)\u001b[0m\u001b[0;34m\u001b[0m\u001b[0;34m\u001b[0m\u001b[0m\n\u001b[1;32m    937\u001b[0m             \u001b[0;32melif\u001b[0m \u001b[0me\u001b[0m\u001b[0;34m.\u001b[0m\u001b[0mcode\u001b[0m \u001b[0;34m==\u001b[0m \u001b[0;36m500\u001b[0m\u001b[0;34m:\u001b[0m\u001b[0;34m\u001b[0m\u001b[0;34m\u001b[0m\u001b[0m\n\u001b[0;32m--> 938\u001b[0;31m                 \u001b[0;32mraise\u001b[0m \u001b[0mEndPointInternalError\u001b[0m\u001b[0;34m(\u001b[0m\u001b[0me\u001b[0m\u001b[0;34m.\u001b[0m\u001b[0mread\u001b[0m\u001b[0;34m(\u001b[0m\u001b[0;34m)\u001b[0m\u001b[0;34m)\u001b[0m\u001b[0;34m\u001b[0m\u001b[0;34m\u001b[0m\u001b[0m\n\u001b[0m\u001b[1;32m    939\u001b[0m             \u001b[0;32melse\u001b[0m\u001b[0;34m:\u001b[0m\u001b[0;34m\u001b[0m\u001b[0;34m\u001b[0m\u001b[0m\n\u001b[1;32m    940\u001b[0m                 \u001b[0;32mraise\u001b[0m \u001b[0me\u001b[0m\u001b[0;34m\u001b[0m\u001b[0;34m\u001b[0m\u001b[0m\n",
      "\u001b[0;31mEndPointInternalError\u001b[0m: EndPointInternalError: The endpoint returned the HTTP status code 500. \n\nResponse:\nb\"\\nSPARQL-QUERY: queryStr=\\n\\nSELECT (COUNT(distinct ?sub) as ?tot)\\nWHERE { FILTER (?no > 1) {\\n SELECT ?sub (COUNT(distinct ?artwork) AS ?no) \\n WHERE {    \\nVALUES ?type {<https://d-nb.info/gnd/4046277-8> <https://d-nb.info/gnd/4127900-1> <https://d-nb.info/gnd/4036042-8> <https://d-nb.info/gnd/4010427-8> <https://d-nb.info/gnd/4124432-1> <https://d-nb.info/gnd/4123412-1> <https://d-nb.info/gnd/4131808-0> <https://d-nb.info/gnd/4124432-1> <https://d-nb.info/gnd/4114333-4> <https://d-nb.info/gnd/4033760-1> <https://d-nb.info/gnd/4002511-1> <https://d-nb.info/gnd/4627787-0> <https://d-nb.info/gnd/4029783-4> <https://d-nb.info/gnd/4006627-7> <https://d-nb.info/gnd/4064542-3> <https://d-nb.info/gnd/4229053-3>}\\n  ?artwork gndo:formOfWorkAndExpression ?type.\\n   ?artwork  gndo:topic | gndo:gndSubjectCategory ?sub.\\n }\\nGROUP BY ?sub }\\n}\\n  \\n\\njava.util.concurrent.ExecutionException: org.openrdf.query.MalformedQueryException: com.bigdata.rdf.sail.sparql.ast.VisitorException: QName 'gndo:formOfWorkAndExpression' uses an undefined prefix\\n\\tat java.util.concurrent.FutureTask.report(FutureTask.java:122)\\n\\tat java.util.concurrent.FutureTask.get(FutureTask.java:192)\\n\\tat com.bigdata.rdf.sail.webapp.BigdataServlet.submitApiTask(BigdataServlet.java:295)\\n\\tat com.bigdata.rdf.sail.webapp.QueryServlet.doSparqlQuery(QueryServlet.java:653)\\n\\tat com.bigdata.rdf.sail.webapp.QueryServlet.doGet(QueryServlet.java:288)\\n\\tat com.bigdata.rdf.sail.webapp.RESTServlet.doGet(RESTServlet.java..."
     ]
    }
   ],
   "source": [
    "# number of subjects present in more than one artwork/tot. number of subj. \n",
    "intrainterlinkingpotentialsari1 = \"\"\"\n",
    "\n",
    "SELECT (COUNT(distinct ?sub) as ?tot)\n",
    "WHERE { FILTER (?no > 1) {\n",
    " SELECT ?sub (COUNT(distinct ?artwork) AS ?no) \n",
    " WHERE {    \n",
    "VALUES ?type {<https://d-nb.info/gnd/4046277-8> <https://d-nb.info/gnd/4127900-1> <https://d-nb.info/gnd/4036042-8> <https://d-nb.info/gnd/4010427-8> <https://d-nb.info/gnd/4124432-1> <https://d-nb.info/gnd/4123412-1> <https://d-nb.info/gnd/4131808-0> <https://d-nb.info/gnd/4124432-1> <https://d-nb.info/gnd/4114333-4> <https://d-nb.info/gnd/4033760-1> <https://d-nb.info/gnd/4002511-1> <https://d-nb.info/gnd/4627787-0> <https://d-nb.info/gnd/4029783-4> <https://d-nb.info/gnd/4006627-7> <https://d-nb.info/gnd/4064542-3> <https://d-nb.info/gnd/4229053-3>}\n",
    "  ?artwork gndo:formOfWorkAndExpression ?type.\n",
    "   ?artwork  gndo:topic | gndo:gndSubjectCategory ?sub.\n",
    " }\n",
    "GROUP BY ?sub }\n",
    "}\n",
    "  \n",
    "\"\"\"\n",
    "# res: 9\n",
    "\n",
    "res = sparl_query_setting(intrainterlinkingpotentialsari1, sari_endpoint)\n",
    "\n",
    "for el in res[\"results\"][\"bindings\"]:\n",
    "  subsariscore = int(el[\"tot\"][\"value\"])\n",
    "  print(subsariscore)\n",
    "\n",
    "intrainterlinkingpotentialsari2 = '''\n",
    "\n",
    "SELECT (COUNT(distinct ?sub) as ?tot)\n",
    " WHERE {    \n",
    "VALUES ?type {'''+artwork_types+'''}\n",
    "  ?artwork gndo:formOfWorkAndExpression ?type.\n",
    "   ?artwork  (gndo:topic | gndo:gndSubjectCategory) ?sub.\n",
    " }\n",
    "\n",
    "\n",
    "\n",
    "  '''\n",
    "res2 = sparl_query_setting(intrainterlinkingpotentialsari2, sari_endpoint)\n",
    "# res: 18 \n",
    "for el in res2[\"results\"][\"bindings\"]:\n",
    "  totsariscore = int(el[\"tot\"][\"value\"])\n",
    "  print(totwdscore)\n",
    "\n",
    "s_intra= subsariscore/totsariscore\n",
    "print(s_intra)\n",
    "# s_intra = 0,5"
   ]
  }
 ],
 "metadata": {
  "colab": {
   "collapsed_sections": [
    "CUBXnNF9Xad7",
    "mBeGH9v-3SAT",
    "pNnqgYl-6dJz",
    "SBm5OxWa7ur7",
    "dKobRBkTKHXK",
    "3srCIlY7TJK2",
    "wnQH7gsoUTvr",
    "2AHVnNY-3Zfs",
    "HHD3lPpn4l4F",
    "Jlk_nRw1TXzs",
    "jWEasdYFW7oj"
   ],
   "name": "Copia di ArtGraphsMetrics",
   "provenance": [],
   "toc_visible": true
  },
  "kernelspec": {
   "display_name": "Python 3 (ipykernel)",
   "language": "python",
   "name": "python3"
  },
  "language_info": {
   "codemirror_mode": {
    "name": "ipython",
    "version": 3
   },
   "file_extension": ".py",
   "mimetype": "text/x-python",
   "name": "python",
   "nbconvert_exporter": "python",
   "pygments_lexer": "ipython3",
   "version": "3.8.0"
  }
 },
 "nbformat": 4,
 "nbformat_minor": 4
}
