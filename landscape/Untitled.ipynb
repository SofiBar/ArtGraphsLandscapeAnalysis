{
 "cells": [
  {
   "cell_type": "code",
   "execution_count": 2,
   "id": "64f5419c-bc7d-44d4-ac1d-f88f7d7a1cf7",
   "metadata": {},
   "outputs": [],
   "source": [
    "import pandas as pd\n",
    "import numpy as np\n",
    "import matplotlib.pyplot as plt\n",
    "import seaborn as sns"
   ]
  },
  {
   "cell_type": "code",
   "execution_count": 7,
   "id": "38043713-a0d3-4cd7-be80-a58434b83475",
   "metadata": {},
   "outputs": [],
   "source": [
    "landscape = pandas.read_excel(\"data.xlsx\", sheet_name=1)"
   ]
  },
  {
   "cell_type": "code",
   "execution_count": 8,
   "id": "f1a703c7-afcc-4d07-b8fb-a89841378a2d",
   "metadata": {},
   "outputs": [
    {
     "data": {
      "text/html": [
       "<div><div id=31716ab6-50f0-42e0-a619-ddcd6e8f9052 style=\"display:none; background-color:#9D6CFF; color:white; width:200px; height:30px; padding-left:5px; border-radius:4px; flex-direction:row; justify-content:space-around; align-items:center;\" onmouseover=\"this.style.backgroundColor='#BA9BF8'\" onmouseout=\"this.style.backgroundColor='#9D6CFF'\" onclick=\"window.commands?.execute('create-mitosheet-from-dataframe-output');\">See Full Dataframe in Mito</div> <script> if (window.commands.hasCommand('create-mitosheet-from-dataframe-output')) document.getElementById('31716ab6-50f0-42e0-a619-ddcd6e8f9052').style.display = 'flex' </script> <table border=\"1\" class=\"dataframe\">\n",
       "  <thead>\n",
       "    <tr style=\"text-align: right;\">\n",
       "      <th></th>\n",
       "      <th>ShortName</th>\n",
       "      <th>structure_axis_weighted_avg</th>\n",
       "      <th>content_axis_weighted_avg</th>\n",
       "    </tr>\n",
       "  </thead>\n",
       "  <tbody>\n",
       "    <tr>\n",
       "      <th>0</th>\n",
       "      <td>ARCO</td>\n",
       "      <td>0,1790528679</td>\n",
       "      <td>0,78392045455</td>\n",
       "    </tr>\n",
       "    <tr>\n",
       "      <th>1</th>\n",
       "      <td>FondazioneZeri</td>\n",
       "      <td>0,2356574799</td>\n",
       "      <td>0,75208333333</td>\n",
       "    </tr>\n",
       "    <tr>\n",
       "      <th>2</th>\n",
       "      <td>Nomisma</td>\n",
       "      <td>0,2238924249</td>\n",
       "      <td>0,74750000000</td>\n",
       "    </tr>\n",
       "    <tr>\n",
       "      <th>3</th>\n",
       "      <td>Wikidata</td>\n",
       "      <td>0,4576340617</td>\n",
       "      <td>0,85840206186</td>\n",
       "    </tr>\n",
       "    <tr>\n",
       "      <th>4</th>\n",
       "      <td>SARI</td>\n",
       "      <td>0,3364470665</td>\n",
       "      <td>0,61366465863</td>\n",
       "    </tr>\n",
       "    <tr>\n",
       "      <th>5</th>\n",
       "      <td>Europeana</td>\n",
       "      <td>0,4276028905</td>\n",
       "      <td>0,35240926500</td>\n",
       "    </tr>\n",
       "    <tr>\n",
       "      <th>6</th>\n",
       "      <td>ND_Hungary</td>\n",
       "      <td>0,03703703704</td>\n",
       "      <td>0,33458333333</td>\n",
       "    </tr>\n",
       "    <tr>\n",
       "      <th>7</th>\n",
       "      <td>DBpedia</td>\n",
       "      <td>0,3534944481</td>\n",
       "      <td>0,68958333333</td>\n",
       "    </tr>\n",
       "    <tr>\n",
       "      <th>8</th>\n",
       "      <td>YAGO</td>\n",
       "      <td>0,2705441108</td>\n",
       "      <td>0,73625000000</td>\n",
       "    </tr>\n",
       "  </tbody>\n",
       "</table></div>"
      ],
      "text/plain": [
       "        ShortName structure_axis_weighted_avg content_axis_weighted_avg\n",
       "0            ARCO                0,1790528679             0,78392045455\n",
       "1  FondazioneZeri                0,2356574799             0,75208333333\n",
       "2         Nomisma                0,2238924249             0,74750000000\n",
       "3        Wikidata                0,4576340617             0,85840206186\n",
       "4            SARI                0,3364470665             0,61366465863\n",
       "5       Europeana                0,4276028905             0,35240926500\n",
       "6      ND_Hungary               0,03703703704             0,33458333333\n",
       "7         DBpedia                0,3534944481             0,68958333333\n",
       "8            YAGO                0,2705441108             0,73625000000"
      ]
     },
     "execution_count": 8,
     "metadata": {},
     "output_type": "execute_result"
    }
   ],
   "source": [
    "landscape"
   ]
  },
  {
   "cell_type": "code",
   "execution_count": 61,
   "id": "a096d07d-a206-4212-9942-2049ca264840",
   "metadata": {},
   "outputs": [],
   "source": [
    "def quadrant_chart(x, y, xtick_labels=None, ytick_labels=None, data_labels=None,\n",
    " highlight_quadrants=None, ax=None):\n",
    "    \"\"\"\n",
    "    Create the classic four-quadrant chart.\n",
    "    Args:\n",
    "        x -- array-like, the x-coordinates to plot\n",
    "        y -- array-like, the y-coordinates to plot\n",
    "        xtick_labels -- list, default: None, a two-value list xtick labels\n",
    "        ytick_labels -- list, default: None, a two-value list of ytick labels\n",
    "        data_labels -- array-like, default: None, data point annotations\n",
    "        highlight_quadrants -- list, default: None, list of quadrants to\n",
    "            emphasize (quadrants are numbered 1-4)\n",
    "        ax -- matplotlib.axes object, default: None, the user can pass their own\n",
    "            axes object if desired\n",
    "    \"\"\"\n",
    "    # allow user to specify their own axes\n",
    "    ax = ax if ax else plt.axes()\n",
    "\n",
    "    data = pd.DataFrame({'x': x, 'y': y, 'data_labels': data_labels})\n",
    "\n",
    "    # calculate averages up front to avoid repeated calculations\n",
    "    y_avg = 0.5\n",
    "    x_avg = 0.5\n",
    "\n",
    "    # set x limits\n",
    "    adj_x = max((data['x'].max() - x_avg), (x_avg - data['x'].min())) * 1.1\n",
    "    lb_x, ub_x = (x_avg - adj_x, x_avg + adj_x)\n",
    "    ax.set_xlim(lb_x, ub_x)\n",
    "\n",
    "    # set y limits\n",
    "    adj_y = max((data['y'].max() - y_avg), (y_avg - data['y'].min())) * 1.1\n",
    "    lb_y, ub_y = (y_avg - adj_y, y_avg + adj_y)\n",
    "    ax.set_ylim(lb_y, ub_y)\n",
    "\n",
    "    # set x tick labels\n",
    "    if xtick_labels:\n",
    "        ax.set_xticks([(x_avg - adj_x / 2), (x_avg + adj_x / 2)])\n",
    "        ax.set_xticklabels(xtick_labels)\n",
    "\n",
    "    # set y tick labels\n",
    "    if ytick_labels:\n",
    "        ax.set_yticks([(y_avg - adj_y / 2), (y_avg + adj_y / 2)])\n",
    "        ax.set_yticklabels(ytick_labels, rotation='vertical', va='center')\n",
    "\n",
    "    # determine which points to highlight\n",
    "    if highlight_quadrants:\n",
    "        quadrants = []\n",
    "        for x_val, y_val in zip(x, y):\n",
    "            q = []\n",
    "            if (x_val >= 0.5) and (y_val >= 0.5):\n",
    "                q.append(1)\n",
    "            if (x_val <= 0.5) and (y_val >= 0.5):\n",
    "                q.append(2)\n",
    "            if (x_val <= 0.5) and (y_val <= 0.5):\n",
    "                q.append(3)\n",
    "            if (x_val >= 0.5) and (y_val <= 0.5):\n",
    "                q.append(4)\n",
    "            quadrants.append(q)\n",
    "        data['quadrant'] = quadrants\n",
    "\n",
    "        # boolean mask - True = highlight, False = don't highlight\n",
    "        highlight = data['quadrant'].apply(lambda q: len(set(\n",
    "        highlight_quadrants) & set(q)) > 0)\n",
    "\n",
    "        # plot the non-highlighted points within the conditional block\n",
    "        ax.scatter(data['x'][~highlight], data['y'][~highlight], alpha=0.5,\n",
    "        c='lightblue', edgecolor='darkblue', zorder=99)\n",
    "        data = data[highlight]\n",
    "    colors = [\"blue\", \"green\", \"red\", \"pink\", \"black\", \"brown\", \"yellow\", \"grey\", \"orange\"]\n",
    "    # plot remaining points and quadrant lines\n",
    "    ax.scatter(x=data['x'], y=data['y'], c=colors, edgecolor='black',\n",
    "    zorder=99, label=landscape[\"ShortName\"])\n",
    "    ax.axvline(x_avg, c='k', lw=1)\n",
    "    ax.axhline(y_avg, c='k', lw=1)\n",
    "    ax.legend()\n",
    "\n",
    "    # add data labels\n",
    "    '''for ix, row in data.iterrows():\n",
    "        ax.annotate(row['data_labels'], (row['x'], row['y']), xytext=(2, 5),\n",
    "        textcoords='offset pixels')'''\n",
    "    \n",
    "\n"
   ]
  },
  {
   "cell_type": "code",
   "execution_count": 62,
   "id": "09ef2556-d8aa-4f61-a909-6fcbb3fd721f",
   "metadata": {},
   "outputs": [
    {
     "data": {
      "text/plain": [
       "<matplotlib.legend.Legend at 0x1ba00f8d430>"
      ]
     },
     "execution_count": 62,
     "metadata": {},
     "output_type": "execute_result"
    },
    {
     "data": {
      "image/png": "[encoded data removed]",
      "text/plain": [
       "<Figure size 432x288 with 1 Axes>"
      ]
     },
     "metadata": {
      "needs_background": "light"
     },
     "output_type": "display_data"
    }
   ],
   "source": [
    "valuesx = landscape[\"structure_axis_weighted_avg\"]\n",
    "valuesx = [float(val.replace(\",\",\".\")) for val in valuesx]\n",
    "valuesy = landscape[\"content_axis_weighted_avg\"]\n",
    "valuesy = [float(val.replace(\",\",\".\")) for val in valuesy]\n",
    "quadrant_chart(\n",
    "\n",
    "    x=valuesx,\n",
    "    y=valuesy,\n",
    "    xtick_labels=['Low', 'High'],\n",
    "    ytick_labels=['Low', 'High'],\n",
    "    data_labels=landscape[\"ShortName\"]\n",
    ")\n",
    "plt.title('Structure vs Content', fontsize=16)\n",
    "plt.ylabel('Content Evaluation', fontsize=14)\n",
    "plt.xlabel('Structure Evaluation', fontsize=14)\n",
    "plt.legend(bbox_to_anchor=(1.04,1), loc=\"upper left\")\n"
   ]
  },
  {
   "cell_type": "code",
   "execution_count": 63,
   "id": "7f42b918-2afa-4bde-be4e-e6fdbb4a31c9",
   "metadata": {},
   "outputs": [],
   "source": [
    "teams = [\"OntoBelle\", \"House of Sparq\", \"Soup Group\", \"Triple Squad\"]"
   ]
  },
  {
   "cell_type": "code",
   "execution_count": 64,
   "id": "cb8a3bfe-dc7a-461e-b29f-56f3b199dea1",
   "metadata": {},
   "outputs": [],
   "source": [
    "import random\n",
    "\n"
   ]
  },
  {
   "cell_type": "code",
   "execution_count": null,
   "id": "3f33e70e-fa57-485e-a4b0-72c8fb17c70d",
   "metadata": {},
   "outputs": [],
   "source": []
  }
 ],
 "metadata": {
  "kernelspec": {
   "display_name": "Python 3 (ipykernel)",
   "language": "python",
   "name": "python3"
  },
  "language_info": {
   "codemirror_mode": {
    "name": "ipython",
    "version": 3
   },
   "file_extension": ".py",
   "mimetype": "text/x-python",
   "name": "python",
   "nbconvert_exporter": "python",
   "pygments_lexer": "ipython3",
   "version": "3.8.0"
  }
 },
 "nbformat": 4,
 "nbformat_minor": 5
}
