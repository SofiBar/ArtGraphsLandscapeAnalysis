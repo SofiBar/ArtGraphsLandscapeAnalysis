{
 "cells": [
  {
   "cell_type": "code",
   "execution_count": 1,
   "id": "9177cb9c-4b31-40eb-9a91-733fc56c7da5",
   "metadata": {},
   "outputs": [],
   "source": [
    "import pandas"
   ]
  },
  {
   "cell_type": "code",
   "execution_count": 136,
   "id": "70bc2279-a2f2-4f30-bf92-f024d3a6a8f7",
   "metadata": {},
   "outputs": [],
   "source": [
    "annotator1 = pandas.read_excel(\"Anon1Evaluation.xlsx\", sheet_name=None)"
   ]
  },
  {
   "cell_type": "code",
   "execution_count": 137,
   "id": "6fc46aa9-e465-4710-9683-086729cb42bf",
   "metadata": {},
   "outputs": [],
   "source": [
    "annotator2 = pandas.read_excel(\"anon2evaluation.xlsx\", sheet_name=None)"
   ]
  },
  {
   "cell_type": "code",
   "execution_count": 5,
   "id": "97c844d8-b531-4412-b4c1-e737a82fa3f4",
   "metadata": {},
   "outputs": [],
   "source": [
    "from sklearn.metrics import cohen_kappa_score as cks"
   ]
  },
  {
   "cell_type": "code",
   "execution_count": 15,
   "id": "5be55187-e2cb-4d77-a04a-3f2f29f83e22",
   "metadata": {},
   "outputs": [
    {
     "data": {
      "text/plain": [
       "True"
      ]
     },
     "execution_count": 15,
     "metadata": {},
     "output_type": "execute_result"
    }
   ],
   "source": [
    "annotator1.keys() == annotator2.keys()"
   ]
  },
  {
   "cell_type": "code",
   "execution_count": 7,
   "id": "e3db1d7e-7c20-47ec-ac0a-c9b126f3be78",
   "metadata": {},
   "outputs": [
    {
     "data": {
      "text/plain": [
       "dict_keys(['column_completeness_yago', 'column_completeness_nd_hungary', 'column_completeness_arco', 'column_completeness_zeri', 'column_completeness_nomisma', 'column_completeness_sari', 'column_completeness_europeana', 'column_completeness_dbpedia', 'column_completeness_wd'])"
      ]
     },
     "execution_count": 7,
     "metadata": {},
     "output_type": "execute_result"
    }
   ],
   "source": []
  },
  {
   "cell_type": "code",
   "execution_count": 135,
   "id": "ba73c7f1-3426-414d-845b-1acae4e01d12",
   "metadata": {},
   "outputs": [
    {
     "name": "stdout",
     "output_type": "stream",
     "text": [
      "column_completeness_yago\n",
      "{33, 50, 100}\n",
      "{33, 50, 100}\n",
      "0.6538461538461539\n",
      "column_completeness_nd_hungary\n",
      "{0, 33, 66, 100, 50}\n",
      "{0, 33, 66, 100, 50}\n",
      "0.6274622665643388\n",
      "column_completeness_arco\n",
      "{0, 33, 66, 100, 50}\n",
      "{0, 33, 66, 100, 50}\n",
      "0.7696687370600415\n",
      "column_completeness_zeri\n",
      "{33, 50, 100, 66}\n",
      "{33, 66, 100, 50}\n",
      "0.7829131652661064\n",
      "column_completeness_nomisma\n",
      "{50}\n",
      "{50}\n",
      "nan\n",
      "column_completeness_sari\n",
      "{0, 33, 66, 100, 50}\n",
      "{0, 33, 50, 100}\n",
      "0.6779661016949152\n",
      "column_completeness_europeana\n",
      "{0, 33, 66, 100, 50, -100}\n",
      "{0, 33, 66, 100, 50}\n",
      "0.7522416234072675\n",
      "column_completeness_dbpedia\n",
      "{0, 33, 66, 100, 50}\n",
      "{0, 33, 66, 100, 50}\n",
      "0.6665913200723328\n",
      "column_completeness_wikidata\n",
      "{33, 66, 100, 50}\n",
      "{33, 66, 100, 50}\n",
      "0.9045497931912185\n"
     ]
    },
    {
     "name": "stderr",
     "output_type": "stream",
     "text": [
      "C:\\Users\\Bruno\\AppData\\Local\\Programs\\Python\\Python38\\lib\\site-packages\\sklearn\\metrics\\_classification.py:641: RuntimeWarning: invalid value encountered in true_divide\n",
      "  k = np.sum(w_mat * confusion) / np.sum(w_mat * expected)\n"
     ]
    }
   ],
   "source": [
    "from statistics import mean\n",
    "cohen_kappa_scores = dict()\n",
    "column_comp_scores = dict()\n",
    "for el in annotator1.keys():\n",
    "    print(el)\n",
    "    values1 = annotator1[el][\"score\"][0:100]\n",
    "    valuesforavg1 = [float(val) for val in values1 if val != -1]\n",
    "    column_comp_scores[el] = dict()\n",
    "    column_comp_scores[el][\"a1\"] = mean(valuesforavg1)\n",
    "    values1 = [int(val*100) for val in values1]\n",
    "    print(set(values1))\n",
    "    values2 = annotator2[el][\"score\"][0:100]\n",
    "    valuesforavg2 = [float(val) for val in values2 if val != -1]\n",
    "    column_comp_scores[el][\"a2\"] = mean(valuesforavg2)\n",
    "    values2 = [int(val*100) for val in values2]\n",
    "    \n",
    "    print(set(values2))\n",
    "    score = cks(values1, values2, weights=\"quadratic\")\n",
    "    print(score)\n",
    "    cohen_kappa_scores[el] = score"
   ]
  },
  {
   "cell_type": "code",
   "execution_count": 53,
   "id": "4f535ed0-a3aa-416e-bca3-00c4ba6cda7e",
   "metadata": {},
   "outputs": [
    {
     "data": {
      "text/plain": [
       "{'column_completeness_yago': {'a1': 0.47333333333333333,\n",
       "  'a2': 0.49666666666666665},\n",
       " 'column_completeness_nd_hungary': {'a1': 0.5816666666666667, 'a2': 0.52},\n",
       " 'column_completeness_arco': {'a1': 0.7383333333333333,\n",
       "  'a2': 0.7416666666666667},\n",
       " 'column_completeness_zeri': {'a1': 0.4983333333333333, 'a2': 0.525},\n",
       " 'column_completeness_nomisma': {'a1': 0.5, 'a2': 0.5},\n",
       " 'column_completeness_sari': {'a1': 0.5633333333333334,\n",
       "  'a2': 0.29333333333333333},\n",
       " 'column_completeness_europeana': {'a1': 0.23195876288659795, 'a2': 0.24},\n",
       " 'column_completeness_dbpedia': {'a1': 0.75, 'a2': 0.8616666666666667},\n",
       " 'column_completeness_wikidata': {'a1': 0.6833333333333333,\n",
       "  'a2': 0.7383333333333333}}"
      ]
     },
     "execution_count": 53,
     "metadata": {},
     "output_type": "execute_result"
    }
   ],
   "source": [
    "column_comp_scores"
   ]
  },
  {
   "cell_type": "code",
   "execution_count": 45,
   "id": "35651e5f-fb13-43f9-a293-66355517549d",
   "metadata": {},
   "outputs": [
    {
     "data": {
      "text/plain": [
       "0.6470588235294118"
      ]
     },
     "execution_count": 45,
     "metadata": {},
     "output_type": "execute_result"
    }
   ],
   "source": []
  },
  {
   "cell_type": "code",
   "execution_count": 38,
   "id": "176da5b5-223d-4a91-8602-c30fff5bbc7b",
   "metadata": {},
   "outputs": [
    {
     "data": {
      "text/plain": [
       "24"
      ]
     },
     "execution_count": 38,
     "metadata": {},
     "output_type": "execute_result"
    }
   ],
   "source": []
  },
  {
   "cell_type": "code",
   "execution_count": 39,
   "id": "8b3d25d7-e9e3-4a32-b882-b13814aae1a3",
   "metadata": {},
   "outputs": [],
   "source": []
  },
  {
   "cell_type": "code",
   "execution_count": 40,
   "id": "14e7d200-b6bf-4493-b21c-f0df98a3ead6",
   "metadata": {},
   "outputs": [],
   "source": []
  },
  {
   "cell_type": "code",
   "execution_count": 41,
   "id": "9823be0e-f528-4645-b5f7-eb593b5601b1",
   "metadata": {},
   "outputs": [],
   "source": []
  },
  {
   "cell_type": "code",
   "execution_count": 47,
   "id": "9667429b-4944-4f62-b73d-85c9b0c300de",
   "metadata": {},
   "outputs": [
    {
     "data": {
      "text/plain": [
       "0.6470588235294118"
      ]
     },
     "execution_count": 47,
     "metadata": {},
     "output_type": "execute_result"
    }
   ],
   "source": []
  },
  {
   "cell_type": "code",
   "execution_count": 145,
   "id": "fc4d57a3-7769-427c-802b-0a277618c15d",
   "metadata": {},
   "outputs": [
    {
     "name": "stdout",
     "output_type": "stream",
     "text": [
      "column_completeness_yago\n",
      "{33, 50, 100}\n",
      "{33, 50, 100}\n",
      "0.6538461538461539\n",
      "column_completeness_nd_hungary\n",
      "{0, 33, 66, 100, 50}\n",
      "{0, 33, 66, 100, 50}\n",
      "0.6274622665643388\n",
      "column_completeness_arco\n",
      "{0, 33, 66, 100, 50}\n",
      "{0, 33, 66, 100, 50}\n",
      "0.7696687370600415\n",
      "column_completeness_zeri\n",
      "{33, 50, 100, 66}\n",
      "{33, 66, 100, 50}\n",
      "0.7829131652661064\n",
      "column_completeness_nomisma\n",
      "{50}\n",
      "{50}\n",
      "nan\n",
      "column_completeness_sari\n",
      "{0, 33, 66, 100, 50}\n",
      "{0, 33, 50, 100}\n",
      "0.6779661016949152\n",
      "column_completeness_europeana\n",
      "{0, 33, 66, 100, 50}\n",
      "{0, 33, 66, 100, 50}\n",
      "0.7897681451612903\n",
      "column_completeness_dbpedia\n",
      "{0, 33, 66, 100, 50}\n",
      "{0, 33, 66, 100, 50}\n",
      "0.6665913200723328\n",
      "column_completeness_wikidata\n",
      "{33, 66, 100, 50}\n",
      "{33, 66, 100, 50}\n",
      "0.9045497931912185\n"
     ]
    },
    {
     "name": "stderr",
     "output_type": "stream",
     "text": [
      "C:\\Users\\Bruno\\AppData\\Local\\Programs\\Python\\Python38\\lib\\site-packages\\sklearn\\metrics\\_classification.py:641: RuntimeWarning: invalid value encountered in true_divide\n",
      "  k = np.sum(w_mat * confusion) / np.sum(w_mat * expected)\n"
     ]
    }
   ],
   "source": [
    "cohen_kappa_scoreso = dict()\n",
    "columnscores = dict()\n",
    "for el in annotator1.keys(): #it will raise an error for nomisma because the annotators perfectly agree and only use ONE category\n",
    "    print(el)\n",
    "    values1o = annotator1[el][\"score\"][0:100]\n",
    "    valuesforavg1 = [float(val) for val in values1o if val != -1]\n",
    "    columnscores[el] = dict()\n",
    "    columnscores[el][\"a1\"] = mean(valuesforavg1)\n",
    "    values2o = annotator2[el][\"score\"][0:100]\n",
    "    valuesforavg2 = [float(val) for val in values2o if val != -1]\n",
    "    columnscores[el][\"a2\"] = mean(valuesforavg2)\n",
    "    indextoremove1 = {i for i, x in enumerate(values1o) if x == -1}\n",
    "    indextoremove2 = {i for i, x in enumerate(values2o) if x == -1}\n",
    "    remove = indextoremove1.union(indextoremove2)\n",
    "    values1o = [int(val*100) for i, val in enumerate(values1o) if i not in remove] \n",
    "    values2o = [int(val*100) for i, val in enumerate(values2o) if i not in remove]\n",
    "    count = 0\n",
    "    print(set(values1o))\n",
    "    print(set(values2o))\n",
    "    score = cohen_kappa_score(values1o, values2o, weights=\"quadratic\")\n",
    "    print(score)\n",
    "    cohen_kappa_scoreso[el] = score"
   ]
  },
  {
   "cell_type": "code",
   "execution_count": 146,
   "id": "eb7068ba-c286-43ac-ad9c-9a28155f9215",
   "metadata": {},
   "outputs": [
    {
     "data": {
      "text/plain": [
       "{'column_completeness_yago': {'a1': 0.47833333333333333,\n",
       "  'a2': 0.4866666666666667},\n",
       " 'column_completeness_nd_hungary': {'a1': 0.5683333333333334, 'a2': 0.51},\n",
       " 'column_completeness_arco': {'a1': 0.7383333333333333,\n",
       "  'a2': 0.7416666666666667},\n",
       " 'column_completeness_zeri': {'a1': 0.4983333333333333, 'a2': 0.525},\n",
       " 'column_completeness_nomisma': {'a1': 0.5, 'a2': 0.5},\n",
       " 'column_completeness_sari': {'a1': 0.42666666666666664,\n",
       "  'a2': 0.32999999999999996},\n",
       " 'column_completeness_europeana': {'a1': 0.23195876288659795, 'a2': 0.24},\n",
       " 'column_completeness_dbpedia': {'a1': 0.7216666666666667,\n",
       "  'a2': 0.7266666666666667},\n",
       " 'column_completeness_wikidata': {'a1': 0.7333333333333333,\n",
       "  'a2': 0.7466666666666666}}"
      ]
     },
     "execution_count": 146,
     "metadata": {},
     "output_type": "execute_result"
    }
   ],
   "source": [
    "columnscores"
   ]
  },
  {
   "cell_type": "code",
   "execution_count": 151,
   "id": "cce113b7-f337-4f8c-bb55-a2d7c1503678",
   "metadata": {},
   "outputs": [],
   "source": [
    "cohen_kappa_scores # we change the nan to 1 as both annotators agree that there is only 1 category in nomisma in column completeness which is 0.5\n",
    "# so the cohen kappa score won't work on this kind of agreement\n",
    "cohen_kappa_scores[\"column_completeness_nomisma\"] = 1"
   ]
  },
  {
   "cell_type": "code",
   "execution_count": 148,
   "id": "386c38e4-a391-4918-9887-d4f3e7bc27cc",
   "metadata": {},
   "outputs": [],
   "source": [
    "import matplotlib.pyplot as plt"
   ]
  },
  {
   "cell_type": "code",
   "execution_count": 164,
   "id": "ad3063b3-4bda-4bb1-bf3a-d02026d5543d",
   "metadata": {},
   "outputs": [
    {
     "data": {
      "image/png": "[encoded data removed]",
      "text/plain": [
       "<Figure size 432x288 with 1 Axes>"
      ]
     },
     "metadata": {
      "needs_background": "light"
     },
     "output_type": "display_data"
    }
   ],
   "source": [
    "import matplotlib.pyplot as plt\n",
    "import numpy as np\n",
    "   \n",
    "names = list(cohen_kappa_scores.keys())\n",
    "names = [name.replace(\"column_completeness_\", \"cc\") for name in names]\n",
    "scores = list(cohen_kappa_scores.values())\n",
    "\n",
    "plt.plot(names, scores, color='red', marker='o')\n",
    "ax = plt.subplot()\n",
    "plt.xlabel('Knowledge Graph', fontsize=14)\n",
    "plt.ylabel('Cohen Kappa Score', fontsize=14)\n",
    "plt.setp(ax.get_xticklabels(), rotation=30, ha='right')\n",
    "plt.grid(True)\n",
    "plt.show()"
   ]
  },
  {
   "cell_type": "code",
   "execution_count": null,
   "id": "a035f988-3da0-4758-919b-e94cb796e417",
   "metadata": {},
   "outputs": [],
   "source": []
  }
 ],
 "metadata": {
  "kernelspec": {
   "display_name": "Python 3 (ipykernel)",
   "language": "python",
   "name": "python3"
  },
  "language_info": {
   "codemirror_mode": {
    "name": "ipython",
    "version": 3
   },
   "file_extension": ".py",
   "mimetype": "text/x-python",
   "name": "python",
   "nbconvert_exporter": "python",
   "pygments_lexer": "ipython3",
   "version": "3.8.0"
  }
 },
 "nbformat": 4,
 "nbformat_minor": 5
}
