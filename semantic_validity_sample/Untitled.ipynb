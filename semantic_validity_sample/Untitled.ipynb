{
 "cells": [
  {
   "cell_type": "code",
   "execution_count": 1,
   "id": "48d61956-f02a-4573-bcbd-7c90725a9a0b",
   "metadata": {},
   "outputs": [],
   "source": [
    "import pandas"
   ]
  },
  {
   "cell_type": "code",
   "execution_count": 36,
   "id": "ae84be09-59ef-4588-b116-65ec4663e62a",
   "metadata": {},
   "outputs": [],
   "source": [
    "annotator1 = pandas.read_excel(\"Anon1Evaluation_semantic.xlsx\", sheet_name=None)"
   ]
  },
  {
   "cell_type": "code",
   "execution_count": 37,
   "id": "02e2baed-4317-48f8-b993-c43fba9f71e5",
   "metadata": {},
   "outputs": [],
   "source": [
    "annotator2 = pandas.read_excel(\"Anon2Evaluation.xlsx\", sheet_name=None)"
   ]
  },
  {
   "cell_type": "code",
   "execution_count": 38,
   "id": "dccf24aa-3775-4cc8-8178-4f3553e30c70",
   "metadata": {},
   "outputs": [],
   "source": [
    "from sklearn.metrics import cohen_kappa_score"
   ]
  },
  {
   "cell_type": "code",
   "execution_count": 48,
   "id": "174b834c-b341-414c-9a1a-e389d2fda442",
   "metadata": {},
   "outputs": [
    {
     "name": "stdout",
     "output_type": "stream",
     "text": [
      "semantic_validity_arco\n",
      "{'0.0', '0.5', '1.0'}\n",
      "{'0.0', '1.0'}\n",
      "0.7608370702541106\n",
      "semantic_validity_zeri\n",
      "{'0.0', '1.0'}\n",
      "{'0.5', '1.0'}\n",
      "-0.006711409395973256\n",
      "semantic_validity_nomisma\n",
      "{'0.5', '1.0'}\n",
      "{'0.5', '1.0'}\n",
      "-0.010101010101010166\n",
      "semantic_validity_wikidata\n",
      "{'0.0', '0.5', '1.0', 'nan'}\n",
      "{'0.0', '0.5', '1.0'}\n",
      "0.12140575079872207\n",
      "semantic_validity_sari\n",
      "{'nan', '-1.0', '0.0', '0.5', '1.0'}\n",
      "{'0.0', '1.0', 'nan'}\n",
      "0.05870696061431768\n",
      "semantic_validity_dbpedia\n",
      "{'0.0', '1.0', 'nan'}\n",
      "{'0.0', '1.0'}\n",
      "0.8490077653149266\n",
      "semantic_validity_europeana\n",
      "{'-1.0', '0.0', '0.5', '1.0'}\n",
      "{'-1.0', '0.0', '0.5', '1.0'}\n",
      "0.6908278941944349\n",
      "semantic_validity_yago\n",
      "{'0.0', '1.0'}\n",
      "{'0.0', '1.0'}\n",
      "1.0\n",
      "semantic_validity_nd_hungary\n",
      "{'0.0', '1.0'}\n",
      "{'0.0', '1.0'}\n",
      "0.823321554770318\n"
     ]
    }
   ],
   "source": [
    "cohen_kappa_scores = dict()\n",
    "for el in annotator1.keys():\n",
    "    print(el)\n",
    "    values1 = annotator1[el][\"valid\"][0:100]\n",
    "    values1 = [str(float(val)) for val in values1]\n",
    "    print(set(values1))\n",
    "    values2 = annotator2[el][\"valid\"][0:100]\n",
    "    values2 = [str(float(val)) for val in values2]\n",
    "    print(set(values2))\n",
    "    score = cohen_kappa_score(values1, values2)\n",
    "    print(score)\n",
    "    cohen_kappa_scores[el] = score\n",
    "    \n",
    "    "
   ]
  },
  {
   "cell_type": "code",
   "execution_count": 43,
   "id": "ea1c19d0-610c-4c31-8aa3-45c34b6405af",
   "metadata": {},
   "outputs": [
    {
     "data": {
      "text/plain": [
       "-0.21212121212121215"
      ]
     },
     "execution_count": 43,
     "metadata": {},
     "output_type": "execute_result"
    }
   ],
   "source": [
    "a = [\"0\",\"1\",\"1\",\"1\",\"1\",\"1\",\"0\",\"0\"]\n",
    "b = [\"1\",\"1\",\"1\",\"1\",\"0\",\"0\",\"0.5\",\"1\"]\n",
    "cohen_kappa_score(a,b)"
   ]
  },
  {
   "cell_type": "code",
   "execution_count": null,
   "id": "aa3002d8-6f56-4ef2-9877-b6fe8685b07e",
   "metadata": {},
   "outputs": [],
   "source": []
  }
 ],
 "metadata": {
  "kernelspec": {
   "display_name": "Python 3 (ipykernel)",
   "language": "python",
   "name": "python3"
  },
  "language_info": {
   "codemirror_mode": {
    "name": "ipython",
    "version": 3
   },
   "file_extension": ".py",
   "mimetype": "text/x-python",
   "name": "python",
   "nbconvert_exporter": "python",
   "pygments_lexer": "ipython3",
   "version": "3.8.0"
  }
 },
 "nbformat": 4,
 "nbformat_minor": 5
}
