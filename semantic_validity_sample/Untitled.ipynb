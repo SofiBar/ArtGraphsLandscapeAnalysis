{
 "cells": [
  {
   "cell_type": "code",
   "execution_count": 1,
   "id": "48d61956-f02a-4573-bcbd-7c90725a9a0b",
   "metadata": {},
   "outputs": [],
   "source": [
    "import pandas"
   ]
  },
  {
   "cell_type": "code",
   "execution_count": 62,
   "id": "ae84be09-59ef-4588-b116-65ec4663e62a",
   "metadata": {},
   "outputs": [],
   "source": [
    "annotator1 = pandas.read_excel(\"Anon1Evaluation_semantic.xlsx\", sheet_name=None)"
   ]
  },
  {
   "cell_type": "code",
   "execution_count": 63,
   "id": "02e2baed-4317-48f8-b993-c43fba9f71e5",
   "metadata": {},
   "outputs": [],
   "source": [
    "annotator2 = pandas.read_excel(\"Anon2Evaluation.xlsx\", sheet_name=None)"
   ]
  },
  {
   "cell_type": "code",
   "execution_count": 64,
   "id": "dccf24aa-3775-4cc8-8178-4f3553e30c70",
   "metadata": {},
   "outputs": [],
   "source": [
    "from sklearn.metrics import cohen_kappa_score"
   ]
  },
  {
   "cell_type": "code",
   "execution_count": 65,
   "id": "174b834c-b341-414c-9a1a-e389d2fda442",
   "metadata": {},
   "outputs": [
    {
     "name": "stdout",
     "output_type": "stream",
     "text": [
      "semantic_validity_arco\n",
      "{'0.0', '0.5', '1.0'}\n",
      "{'0.0', '1.0'}\n",
      "0.7608370702541106\n",
      "semantic_validity_zeri\n",
      "{'0.0', '1.0'}\n",
      "{'0.5', '1.0'}\n",
      "-0.006711409395973256\n",
      "semantic_validity_nomisma\n",
      "{'0.5', '1.0'}\n",
      "{'0.5', '1.0'}\n",
      "-0.010101010101010166\n",
      "semantic_validity_wikidata\n",
      "{'0.0', '0.5', '1.0', 'nan'}\n",
      "{'0.0', '0.5', '1.0'}\n",
      "0.12140575079872207\n",
      "semantic_validity_sari\n",
      "{'nan', '-1.0', '0.0', '0.5', '1.0'}\n",
      "{'0.0', '1.0'}\n",
      "0.08074534161490687\n",
      "semantic_validity_dbpedia\n",
      "{'0.0', '1.0', 'nan'}\n",
      "{'0.0', '1.0'}\n",
      "0.8490077653149266\n",
      "semantic_validity_europeana\n",
      "{'-1.0', '0.0', '0.5', '1.0'}\n",
      "{'-1.0', '0.0', '0.5', '1.0'}\n",
      "0.6908278941944349\n",
      "semantic_validity_yago\n",
      "{'0.0', '1.0'}\n",
      "{'0.0', '1.0'}\n",
      "1.0\n",
      "semantic_validity_nd_hungary\n",
      "{'0.0', '1.0'}\n",
      "{'0.0', '1.0'}\n",
      "0.823321554770318\n"
     ]
    }
   ],
   "source": [
    "cohen_kappa_scores = dict()\n",
    "for el in annotator1.keys():\n",
    "    print(el)\n",
    "    values1 = annotator1[el][\"valid\"][0:100]\n",
    "    values1 = [str(float(val)) for val in values1]\n",
    "    print(set(values1))\n",
    "    values2 = annotator2[el][\"valid\"][0:100]\n",
    "    values2 = [str(float(val)) for val in values2]\n",
    "    print(set(values2))\n",
    "    score = cohen_kappa_score(values1, values2)\n",
    "    print(score)\n",
    "    cohen_kappa_scores[el] = score\n",
    "    \n",
    "    "
   ]
  },
  {
   "cell_type": "code",
   "execution_count": 53,
   "id": "ea1c19d0-610c-4c31-8aa3-45c34b6405af",
   "metadata": {},
   "outputs": [
    {
     "data": {
      "text/plain": [
       "0.33333333333333337"
      ]
     },
     "execution_count": 53,
     "metadata": {},
     "output_type": "execute_result"
    }
   ],
   "source": [
    "a = [\"1\",\"0.5\",\"0.5\",\"1\",\"1\",\"1\",\"1\",\"1\"]\n",
    "b = [\"1\",\"0.5\",\"1\",\"1\",\"1\",\"1\",\"0.5\",\"1\"]\n",
    "cohen_kappa_score(a,b)"
   ]
  },
  {
   "cell_type": "code",
   "execution_count": 69,
   "id": "aa3002d8-6f56-4ef2-9877-b6fe8685b07e",
   "metadata": {},
   "outputs": [],
   "source": [
    "annotator2o = pandas.read_excel(\"Anon2Evaluationord.xlsx\", sheet_name=None)\n",
    "annotator1o = pandas.read_excel(\"Anon1Evaluation_semanticord.xlsx\", sheet_name=None)"
   ]
  },
  {
   "cell_type": "code",
   "execution_count": 61,
   "id": "b423de19-d507-47e5-887c-a1b6c34ca90e",
   "metadata": {},
   "outputs": [
    {
     "data": {
      "text/plain": [
       "dict_keys(['semantic_validity_arco', 'semantic_validity_zeri', 'semantic_validity_nomisma', 'semantic_validity_wikidata', 'semantic_validity_sari', 'semantic_validity_dbpedia', 'semantic_validity_europeana', 'semantic_validity_yago', 'semantic_validity_nd_hungary'])"
      ]
     },
     "execution_count": 61,
     "metadata": {},
     "output_type": "execute_result"
    }
   ],
   "source": []
  },
  {
   "cell_type": "code",
   "execution_count": 70,
   "id": "c74a1cb9-ff38-4957-ac48-a281cf5d0cb6",
   "metadata": {},
   "outputs": [
    {
     "name": "stdout",
     "output_type": "stream",
     "text": [
      "semantic_validity_arco\n",
      "{'0.0', '0.5', '1.0'}\n",
      "{'0.0', '1.0'}\n",
      "0.7608370702541106\n",
      "semantic_validity_zeri\n",
      "{'0.5', '1.0'}\n",
      "{'0.5', '1.0'}\n",
      "0.6621621621621622\n",
      "semantic_validity_nomisma\n",
      "{'0.5', '1.0'}\n",
      "{'0.5', '1.0'}\n",
      "1.0\n",
      "semantic_validity_wikidata\n",
      "{'0.0', '0.5', '1.0', 'nan'}\n",
      "{'0.0', '0.5', '1.0'}\n",
      "0.12140575079872207\n",
      "semantic_validity_sari\n",
      "{'nan', '-1.0', '0.0', '0.5', '1.0'}\n",
      "{'0.0', '1.0'}\n",
      "0.4285714285714286\n",
      "semantic_validity_dbpedia\n",
      "{'0.0', '1.0', 'nan'}\n",
      "{'0.0', '1.0'}\n",
      "0.8490077653149266\n",
      "semantic_validity_europeana\n",
      "{'-1.0', '0.0', '0.5', '1.0'}\n",
      "{'-1.0', '0.0', '0.5', '1.0'}\n",
      "0.6908278941944349\n",
      "semantic_validity_yago\n",
      "{'0.0', '1.0'}\n",
      "{'0.0', '1.0'}\n",
      "1.0\n",
      "semantic_validity_nd_hungary\n",
      "{'0.0', '1.0'}\n",
      "{'0.0', '1.0'}\n",
      "0.823321554770318\n"
     ]
    }
   ],
   "source": [
    "cohen_kappa_scoreso = dict()\n",
    "for el in annotator1o.keys():\n",
    "    print(el)\n",
    "    values1o = annotator1o[el][\"valid\"][0:100]\n",
    "    values1o = [str(float(val)) for val in values1o]\n",
    "    print(set(values1o))\n",
    "    values2o = annotator2o[el][\"valid\"][0:100]\n",
    "    values2o = [str(float(val)) for val in values2o]\n",
    "    print(set(values2o))\n",
    "    score = cohen_kappa_score(values1o, values2o)\n",
    "    print(score)\n",
    "    cohen_kappa_scoreso[el] = score"
   ]
  },
  {
   "cell_type": "code",
   "execution_count": 74,
   "id": "799b1f5e-63cd-4be9-abce-ba584eb4826a",
   "metadata": {},
   "outputs": [
    {
     "data": {
      "text/plain": [
       "0.48484848484848486"
      ]
     },
     "execution_count": 74,
     "metadata": {},
     "output_type": "execute_result"
    }
   ],
   "source": [
    "a = [1,1,1,1,1,1,1,1,1,1,1,1,1,1,1,4,1]\n",
    "b = [1,1,1,1,1,1,1,1,1,1,1,1,1,1,1,3,1]\n",
    "cohen_kappa_score(a,b)"
   ]
  },
  {
   "cell_type": "code",
   "execution_count": 75,
   "id": "1c2a9b21-3d99-4d9e-99c2-5dfab7feaf40",
   "metadata": {},
   "outputs": [
    {
     "data": {
      "text/plain": [
       "0.6517857142857144"
      ]
     },
     "execution_count": 75,
     "metadata": {},
     "output_type": "execute_result"
    }
   ],
   "source": [
    "a = [1,1,1,1,2,2,2,2,3,3,3,3,3]\n",
    "b = [1,1,1,2,2,2,2,3,3,3,3,3,1]\n",
    "cohen_kappa_score(a,b)"
   ]
  },
  {
   "cell_type": "code",
   "execution_count": null,
   "id": "b603f89f-d768-4c7c-a25c-d8e3ef1432d4",
   "metadata": {},
   "outputs": [],
   "source": []
  }
 ],
 "metadata": {
  "kernelspec": {
   "display_name": "Python 3 (ipykernel)",
   "language": "python",
   "name": "python3"
  },
  "language_info": {
   "codemirror_mode": {
    "name": "ipython",
    "version": 3
   },
   "file_extension": ".py",
   "mimetype": "text/x-python",
   "name": "python",
   "nbconvert_exporter": "python",
   "pygments_lexer": "ipython3",
   "version": "3.8.0"
  }
 },
 "nbformat": 4,
 "nbformat_minor": 5
}
